{
 "cells": [
  {
   "cell_type": "markdown",
   "id": "7efa32d7-b43f-4405-8b88-e1e765584234",
   "metadata": {},
   "source": [
    "# PinSAGE with Globo Dataset and StrongGeneralization Scenario"
   ]
  },
  {
   "cell_type": "markdown",
   "id": "445343f7-0f66-4c39-a596-b35a3237c44b",
   "metadata": {},
   "source": [
    "In this notebook, the implementation of PinSAGE in RecPack and the experimental part to generate the results of the algorithm will be presented. \n",
    "The notebook contains:\n",
    "1. The implementation of PinSAGE in RecPack.\n",
    "2. The 10% of Globo Dataset from RecPack and the StrongGeneralization Scenario has been used to split the data.\n",
    "3. The StrongGeneralization Scenario to split the data.\n",
    "4. The RecPack Pipeline Builder to run the experiments, including the splitted dataset, the algorithms and metrics to run. Hyperparameter has been performed in the Pipeline.\n",
    "\n",
    "Please make sure you have installed all the latest libraries in your Python environment, in order to have a successful run of the code."
   ]
  },
  {
   "cell_type": "markdown",
   "id": "f502d947-7e45-47de-be49-c5879706c7e7",
   "metadata": {},
   "source": [
    "## PinSAGE implementation in RecPack"
   ]
  },
  {
   "cell_type": "code",
   "execution_count": 21,
   "id": "5c7dc8a2-fbb5-4309-bb75-7274fd8fd280",
   "metadata": {},
   "outputs": [],
   "source": [
    "import torch\n",
    "import torch.nn as nn\n",
    "import torch.optim as optim\n",
    "from torch_sparse import SparseTensor, matmul\n",
    "from recpack.algorithms.base import TorchMLAlgorithm\n",
    "from recpack.matrix.interaction_matrix import InteractionMatrix\n",
    "from recpack.algorithms.loss_functions import bpr_loss, bpr_max_loss\n",
    "from recpack.algorithms.samplers import PositiveNegativeSampler\n",
    "from recpack.matrix.util import to_csr_matrix \n",
    "from scipy.sparse import csr_matrix, lil_matrix\n",
    "from typing import List, Optional\n",
    "import logging\n",
    "\n",
    "logger = logging.getLogger(__name__)\n",
    "\n",
    "# PinSAGEConv: A single convolutional layer for the PinSAGE model\n",
    "class PinSAGEConv(nn.Module):\n",
    "    def __init__(self, in_channels, out_channels, dropout=0.0):\n",
    "        \"\"\"\n",
    "        Initialize the PinSAGEConv layer.\n",
    "\n",
    "        Args:\n",
    "            in_channels (int): Number of input channels (dimensions of the input features).\n",
    "            out_channels (int): Number of output channels (dimensions of the output features).\n",
    "            dropout (float): Dropout rate for regularization.\n",
    "        \"\"\"\n",
    "        super(PinSAGEConv, self).__init__()\n",
    "        self.in_channels = in_channels\n",
    "        self.out_channels = out_channels\n",
    "        self.dropout = dropout\n",
    "\n",
    "        # Define a linear transformation and a dropout layer\n",
    "        self.linear = nn.Linear(in_channels, out_channels)\n",
    "        self.dropout_layer = nn.Dropout(dropout)\n",
    "        self.reset_parameters()\n",
    "\n",
    "    def reset_parameters(self):\n",
    "        \"\"\"\n",
    "        Initialize the parameters of the layer using Xavier uniform initialization.\n",
    "        \"\"\"\n",
    "        nn.init.xavier_uniform_(self.linear.weight)\n",
    "        if self.linear.bias is not None:\n",
    "            nn.init.zeros_(self.linear.bias)\n",
    "\n",
    "    def forward(self, x, graph):\n",
    "        \"\"\"\n",
    "        Forward pass for the PinSAGEConv layer.\n",
    "\n",
    "        Args:\n",
    "            x (torch.Tensor): Input feature matrix.\n",
    "            graph (SparseTensor): Sparse adjacency matrix representing the graph.\n",
    "\n",
    "        Returns:\n",
    "            torch.Tensor: Output features after convolution and activation.\n",
    "        \"\"\"\n",
    "        try:\n",
    "            out = matmul(graph, x)  # Perform graph convolution\n",
    "        except RuntimeError as e:\n",
    "            # Log the error and return the input unchanged if the operation fails\n",
    "            # logger.error(f\"matmul failed with error: {e}\")\n",
    "            return x  \n",
    "        out = self.linear(out)\n",
    "        out = torch.relu(out)\n",
    "        out = self.dropout_layer(out)\n",
    "        \n",
    "        return out\n",
    "\n",
    "# PinSAGE: A model implementation based on the PinSAGE algorithm\n",
    "class PinSAGE(nn.Module):\n",
    "    def __init__(self, num_users, num_items, embedding_dim=64, n_layers=2, dropout=0.0):\n",
    "        \"\"\"\n",
    "        Initialize the PinSAGE model.\n",
    "\n",
    "        Args:\n",
    "            num_users (int): Number of users.\n",
    "            num_items (int): Number of items.\n",
    "            embedding_dim (int): Dimension of the embedding vectors.\n",
    "            n_layers (int): Number of PinSAGEConv layers.\n",
    "            dropout (float): Dropout rate for regularization.\n",
    "        \"\"\"\n",
    "        super(PinSAGE, self).__init__()\n",
    "        self.num_users = num_users\n",
    "        self.num_items = num_items\n",
    "        self.embedding_dim = embedding_dim\n",
    "        self.n_layers = n_layers\n",
    "        self.dropout = dropout\n",
    "\n",
    "        # Initialize user and item embeddings\n",
    "        self.user_embedding = nn.Embedding(num_users, embedding_dim)\n",
    "        self.item_embedding = nn.Embedding(num_items, embedding_dim)\n",
    "        \n",
    "        # Create a list of PinSAGEConv layers\n",
    "        self.convs = nn.ModuleList([\n",
    "            PinSAGEConv(embedding_dim, embedding_dim, dropout) for _ in range(n_layers)\n",
    "        ])\n",
    "        \n",
    "        # Final linear layers for users and items\n",
    "        self.user_final_linear = nn.Linear(embedding_dim, embedding_dim)\n",
    "        self.item_final_linear = nn.Linear(embedding_dim, embedding_dim)\n",
    "        self.reset_parameters()\n",
    "\n",
    "    def reset_parameters(self):\n",
    "        \"\"\"\n",
    "        Initialize the parameters of the model using Xavier uniform initialization.\n",
    "        \"\"\"\n",
    "        nn.init.xavier_uniform_(self.user_embedding.weight)\n",
    "        nn.init.xavier_uniform_(self.item_embedding.weight)\n",
    "        nn.init.xavier_uniform_(self.user_final_linear.weight)\n",
    "        nn.init.xavier_uniform_(self.item_final_linear.weight)\n",
    "\n",
    "    def forward(self, graph):\n",
    "        \"\"\"\n",
    "        Forward pass for the PinSAGE model.\n",
    "\n",
    "        Args:\n",
    "            graph (SparseTensor): Sparse adjacency matrix representing the graph.\n",
    "\n",
    "        Returns:\n",
    "            Tuple[torch.Tensor, torch.Tensor]: Final user and item embeddings.\n",
    "        \"\"\"\n",
    "        user_emb = self.user_embedding.weight\n",
    "        item_emb = self.item_embedding.weight\n",
    "        \n",
    "        # Concatenate user and item embeddings\n",
    "        all_emb = torch.cat([user_emb, item_emb], dim=0)\n",
    "        embs = [all_emb]\n",
    "\n",
    "        # Pass through each PinSAGEConv layer\n",
    "        for conv in self.convs:\n",
    "            all_emb = conv(all_emb, graph)\n",
    "            embs.append(all_emb)\n",
    "\n",
    "        # Compute the final embeddings by averaging the embeddings across layers\n",
    "        final_embedding = torch.mean(torch.stack(embs, dim=1), dim=1)\n",
    "        user_emb_final, item_emb_final = torch.split(final_embedding, [self.num_users, self.num_items])\n",
    "        \n",
    "        # Separate final transformations for users and items\n",
    "        final_user_emb = torch.relu(self.user_final_linear(user_emb_final))\n",
    "        final_item_emb = torch.relu(self.item_final_linear(item_emb_final))\n",
    "\n",
    "        # Normalize final embeddings\n",
    "        final_user_emb = final_user_emb / torch.norm(final_user_emb, p=2, dim=1, keepdim=True)\n",
    "        final_item_emb = final_item_emb / torch.norm(final_item_emb, p=2, dim=1, keepdim=True)\n",
    "\n",
    "        return final_user_emb, final_item_emb"
   ]
  },
  {
   "cell_type": "code",
   "execution_count": 22,
   "id": "383f2777-5652-4d39-a111-9f8f71865f24",
   "metadata": {},
   "outputs": [],
   "source": [
    "from recpack.algorithms.base import TorchMLAlgorithm\n",
    "from recpack.matrix import Matrix\n",
    "from recpack.matrix.interaction_matrix import InteractionMatrix\n",
    "from recpack.algorithms.loss_functions import bpr_loss\n",
    "from recpack.algorithms.samplers import PositiveNegativeSampler\n",
    "from recpack.algorithms.stopping_criterion import (\n",
    "    EarlyStoppingException,\n",
    "    StoppingCriterion,\n",
    ")\n",
    "from typing import List, Tuple, Optional\n",
    "import numpy as np\n",
    "from scipy.sparse import csr_matrix, lil_matrix, coo_matrix\n",
    "import torch\n",
    "import torch.optim as optim\n",
    "import tempfile\n",
    "import time\n",
    "import logging\n",
    "\n",
    "logger = logging.getLogger(__name__)\n",
    "\n",
    "# PinSAGEAlgorithm: An implementation of the PinSAGE algorithm using TorchMLAlgorithm as a base class\n",
    "class PinSAGEAlgorithm(TorchMLAlgorithm):\n",
    "    def __init__(\n",
    "        self,\n",
    "        batch_size: int = 256,\n",
    "        max_epochs: int = 100,\n",
    "        learning_rate: float = 0.001,\n",
    "        embedding_dim: int = 64,\n",
    "        n_layers: int = 3,\n",
    "        dropout: float = 0.1,\n",
    "        stopping_criterion: str = \"bpr\",\n",
    "        stop_early: bool = True,\n",
    "        max_iter_no_change: int = 5,\n",
    "        min_improvement: float = 0.01,\n",
    "        seed: Optional[int] = None,\n",
    "        save_best_to_file: bool = False,\n",
    "        keep_last: bool = False,\n",
    "        predict_topK: Optional[int] = None,\n",
    "        validation_sample_size: Optional[int] = None,\n",
    "        grad_clip: float = 1.0,  # Gradient clipping value\n",
    "    ):\n",
    "        \"\"\"\n",
    "        Initialize the PinSAGEAlgorithm with various hyperparameters.\n",
    "\n",
    "        Args:\n",
    "            batch_size (int): Number of samples per batch.\n",
    "            max_epochs (int): Maximum number of training epochs.\n",
    "            learning_rate (float): Learning rate for the optimizer.\n",
    "            embedding_dim (int): Dimension of the embedding vectors.\n",
    "            n_layers (int): Number of PinSAGEConv layers.\n",
    "            dropout (float): Dropout rate for regularization.\n",
    "            stopping_criterion (str): Criterion to stop training early.\n",
    "            stop_early (bool): Whether to enable early stopping.\n",
    "            max_iter_no_change (int): Maximum iterations with no improvement for early stopping.\n",
    "            min_improvement (float): Minimum improvement required for early stopping.\n",
    "            seed (Optional[int]): Random seed for reproducibility.\n",
    "            save_best_to_file (bool): Whether to save the best model to a file.\n",
    "            keep_last (bool): Whether to keep the last model.\n",
    "            predict_topK (Optional[int]): Number of top-K predictions to consider.\n",
    "            validation_sample_size (Optional[int]): Size of the validation sample.\n",
    "            grad_clip (float): Maximum gradient norm for clipping.\n",
    "        \"\"\"\n",
    "        self.embedding_dim = embedding_dim\n",
    "        self.n_layers = n_layers\n",
    "        self.dropout = dropout\n",
    "        self.grad_clip = grad_clip\n",
    "        super().__init__(\n",
    "            batch_size=batch_size,\n",
    "            max_epochs=max_epochs,\n",
    "            learning_rate=learning_rate,\n",
    "            stopping_criterion=stopping_criterion,\n",
    "            stop_early=stop_early,\n",
    "            max_iter_no_change=max_iter_no_change,\n",
    "            min_improvement=min_improvement,\n",
    "            seed=seed,\n",
    "            save_best_to_file=save_best_to_file,\n",
    "            keep_last=keep_last,\n",
    "            predict_topK=predict_topK,\n",
    "            validation_sample_size=validation_sample_size,\n",
    "        )\n",
    "        self.device = torch.device('cuda' if torch.cuda.is_available() else 'cpu')\n",
    "\n",
    "    def _init_model(self, train: InteractionMatrix) -> None:\n",
    "        \"\"\"\n",
    "        Initialize the PinSAGE model and optimizer.\n",
    "\n",
    "        Args:\n",
    "            train (InteractionMatrix): The training interaction matrix.\n",
    "        \"\"\"\n",
    "        num_users, num_items = train.shape\n",
    "        self.model_ = PinSAGE(num_users, num_items, self.embedding_dim, self.n_layers, self.dropout).to(self.device)\n",
    "        self.optimizer = optim.Adam(self.model_.parameters(), lr=self.learning_rate)\n",
    "\n",
    "    def _create_sparse_graph(self, interaction_matrix: csr_matrix, num_users: int, num_items: int) -> SparseTensor:\n",
    "        \"\"\"\n",
    "        Create a sparse graph from the interaction matrix.\n",
    "\n",
    "        Args:\n",
    "            interaction_matrix (csr_matrix): The interaction matrix in CSR format.\n",
    "            num_users (int): Number of users.\n",
    "            num_items (int): Number of items.\n",
    "\n",
    "        Returns:\n",
    "            SparseTensor: A sparse tensor representing the graph.\n",
    "        \"\"\"\n",
    "        coo = interaction_matrix.tocoo()\n",
    "        row = torch.tensor(coo.row, dtype=torch.long)\n",
    "        col = torch.tensor(coo.col, dtype=torch.long)\n",
    "        value = torch.tensor(coo.data, dtype=torch.float32)\n",
    "        shape = (num_users + num_items, num_users + num_items)\n",
    "        graph = SparseTensor(row=row, col=col, value=value, sparse_sizes=shape).to(self.device)\n",
    "        return graph\n",
    "\n",
    "    def _train_epoch(self, train: InteractionMatrix) -> List[float]:\n",
    "        \"\"\"\n",
    "        Train the model for one epoch.\n",
    "\n",
    "        Args:\n",
    "            train (InteractionMatrix): The training interaction matrix.\n",
    "\n",
    "        Returns:\n",
    "            List[float]: A list of losses for each batch.\n",
    "        \"\"\"\n",
    "        self.model_.train()\n",
    "        interaction_matrix = train  # Get the sparse matrix directly\n",
    "        graph = self._create_sparse_graph(interaction_matrix, train.shape[0], train.shape[1])\n",
    "        total_loss = 0\n",
    "        losses = []\n",
    "\n",
    "        sampler = PositiveNegativeSampler(num_negatives=1, batch_size=self.batch_size)\n",
    "\n",
    "        # Iterate over samples generated by the PositiveNegativeSampler\n",
    "        for user_indices, pos_item_indices, neg_item_indices in sampler.sample(interaction_matrix):\n",
    "            user_indices = torch.tensor(user_indices).to(self.device)\n",
    "            pos_item_indices = torch.tensor(pos_item_indices).to(self.device)\n",
    "            neg_item_indices = torch.tensor(neg_item_indices).to(self.device).squeeze()\n",
    "\n",
    "            self.optimizer.zero_grad()\n",
    "            user_emb_final, item_emb_final = self.model_(graph)  # Call model only once\n",
    "            pos_scores = user_emb_final[user_indices] @ item_emb_final[pos_item_indices].t()\n",
    "            neg_scores = user_emb_final[user_indices] @ item_emb_final[neg_item_indices].t()\n",
    "\n",
    "            loss = bpr_loss(pos_scores, neg_scores)\n",
    "\n",
    "            if torch.isnan(loss).any() or torch.isinf(loss).any():\n",
    "                continue\n",
    "\n",
    "            loss.backward()\n",
    "            torch.nn.utils.clip_grad_norm_(self.model_.parameters(), max_norm=self.grad_clip)  # Gradient clipping\n",
    "            self.optimizer.step()\n",
    "\n",
    "            total_loss += loss.item()\n",
    "            losses.append(loss.item())\n",
    "\n",
    "        if len(losses) == 0:\n",
    "            return [float('nan')]\n",
    "\n",
    "        return losses\n",
    "\n",
    "    def _batch_predict(self, X: InteractionMatrix, users: List[int]) -> csr_matrix:\n",
    "        \"\"\"\n",
    "        Make batch predictions for a list of users.\n",
    "\n",
    "        Args:\n",
    "            X (InteractionMatrix): The interaction matrix.\n",
    "            users (List[int]): List of user indices to make predictions for.\n",
    "\n",
    "        Returns:\n",
    "            csr_matrix: A sparse matrix with the prediction scores.\n",
    "        \"\"\"\n",
    "        self.model_.eval()\n",
    "        graph = self._create_sparse_graph(X, X.shape[0], X.shape[1])\n",
    "        user_indices = torch.tensor(users).to(self.device)\n",
    "        item_indices = torch.arange(X.shape[1]).to(self.device)\n",
    "        \n",
    "        with torch.no_grad():\n",
    "            user_emb_final, item_emb_final = self.model_(graph)\n",
    "            scores = user_emb_final[user_indices] @ item_emb_final.t()\n",
    "            scores = scores.cpu().numpy()\n",
    "        \n",
    "        result = lil_matrix((X.shape[0], X.shape[1]))\n",
    "        for i, user in enumerate(users):\n",
    "            result[user] = scores[i]\n",
    "        \n",
    "        return result.tocsr()"
   ]
  },
  {
   "cell_type": "code",
   "execution_count": 3,
   "id": "e87fd90c-f8ae-4fcc-a455-90fb8f2335c2",
   "metadata": {},
   "outputs": [],
   "source": [
    "from recpack.datasets import Netflix, DummyDataset\n",
    "from recpack.pipelines import PipelineBuilder\n",
    "from recpack.scenarios import StrongGeneralization\n",
    "from recpack.pipelines import ALGORITHM_REGISTRY\n",
    "import pandas as pd"
   ]
  },
  {
   "cell_type": "code",
   "execution_count": 23,
   "id": "03a047ff-a58e-4ffb-bb09-247622834b08",
   "metadata": {},
   "outputs": [],
   "source": [
    "ALGORITHM_REGISTRY.register(\"PinSAGEAlgorithm2\", PinSAGEAlgorithm)"
   ]
  },
  {
   "cell_type": "markdown",
   "id": "c72d76b2-f3db-4255-8828-f9aefad86700",
   "metadata": {},
   "source": [
    "## RecPack Dataset Importing"
   ]
  },
  {
   "cell_type": "code",
   "execution_count": 5,
   "id": "288305e2-e570-4286-8468-c902e9d7ca25",
   "metadata": {},
   "outputs": [],
   "source": [
    "from recpack.datasets import Globo\n",
    "dataset = Globo(path=\"\", filename=\"archive.zip\")"
   ]
  },
  {
   "cell_type": "code",
   "execution_count": 6,
   "id": "9c73499f-1c14-4241-a0bd-e3412b4efd34",
   "metadata": {},
   "outputs": [],
   "source": [
    "dataset.fetch_dataset()"
   ]
  },
  {
   "cell_type": "code",
   "execution_count": 7,
   "id": "25bb2d15-0f4f-4142-8d5d-e06a6ea3c024",
   "metadata": {},
   "outputs": [
    {
     "data": {
      "text/plain": [
       "<recpack.datasets.globo.Globo at 0x7fb075b0f690>"
      ]
     },
     "execution_count": 7,
     "metadata": {},
     "output_type": "execute_result"
    }
   ],
   "source": [
    "dataset"
   ]
  },
  {
   "cell_type": "code",
   "execution_count": null,
   "id": "a290f199-0a3d-4c2b-bc30-c82b5254ab34",
   "metadata": {},
   "outputs": [],
   "source": [
    "df = dataset._load_dataframe()"
   ]
  },
  {
   "cell_type": "markdown",
   "id": "5e4eef56-e9ff-4dfe-8c6b-27ab088b5ef4",
   "metadata": {},
   "source": [
    "## Datasets with Timestamps sampling"
   ]
  },
  {
   "cell_type": "code",
   "execution_count": 10,
   "id": "66ac1379-2266-4bec-b6d3-9cf22c1aaedf",
   "metadata": {},
   "outputs": [],
   "source": [
    "timestamp_counts = df['click_timestamp'].value_counts().sort_index(ascending=False)\n",
    "cumulative_counts = timestamp_counts.cumsum()\n",
    "total_counts = cumulative_counts.max()\n",
    "threshold_count = total_counts * 0.1\n",
    "threshold_timestamp = cumulative_counts[cumulative_counts >= threshold_count].index[0]"
   ]
  },
  {
   "cell_type": "code",
   "execution_count": 11,
   "id": "a8b54ee9-8024-4d18-89c8-7858f45d7906",
   "metadata": {},
   "outputs": [],
   "source": [
    "filtered_df = df[df['click_timestamp'] >= threshold_timestamp]"
   ]
  },
  {
   "cell_type": "code",
   "execution_count": 12,
   "id": "877cfa8a-c9d3-4436-8a74-5009b026f266",
   "metadata": {},
   "outputs": [
    {
     "data": {
      "text/html": [
       "<div>\n",
       "<style scoped>\n",
       "    .dataframe tbody tr th:only-of-type {\n",
       "        vertical-align: middle;\n",
       "    }\n",
       "\n",
       "    .dataframe tbody tr th {\n",
       "        vertical-align: top;\n",
       "    }\n",
       "\n",
       "    .dataframe thead th {\n",
       "        text-align: right;\n",
       "    }\n",
       "</style>\n",
       "<table border=\"1\" class=\"dataframe\">\n",
       "  <thead>\n",
       "    <tr style=\"text-align: right;\">\n",
       "      <th></th>\n",
       "      <th>user_id</th>\n",
       "      <th>click_article_id</th>\n",
       "      <th>click_timestamp</th>\n",
       "    </tr>\n",
       "  </thead>\n",
       "  <tbody>\n",
       "    <tr>\n",
       "      <th>0</th>\n",
       "      <td>0</td>\n",
       "      <td>157541</td>\n",
       "      <td>1.506827e+09</td>\n",
       "    </tr>\n",
       "    <tr>\n",
       "      <th>1</th>\n",
       "      <td>0</td>\n",
       "      <td>68866</td>\n",
       "      <td>1.506827e+09</td>\n",
       "    </tr>\n",
       "    <tr>\n",
       "      <th>2</th>\n",
       "      <td>1</td>\n",
       "      <td>235840</td>\n",
       "      <td>1.506827e+09</td>\n",
       "    </tr>\n",
       "    <tr>\n",
       "      <th>3</th>\n",
       "      <td>1</td>\n",
       "      <td>96663</td>\n",
       "      <td>1.506827e+09</td>\n",
       "    </tr>\n",
       "    <tr>\n",
       "      <th>4</th>\n",
       "      <td>2</td>\n",
       "      <td>119592</td>\n",
       "      <td>1.506827e+09</td>\n",
       "    </tr>\n",
       "    <tr>\n",
       "      <th>...</th>\n",
       "      <td>...</td>\n",
       "      <td>...</td>\n",
       "      <td>...</td>\n",
       "    </tr>\n",
       "    <tr>\n",
       "      <th>2564</th>\n",
       "      <td>10051</td>\n",
       "      <td>84911</td>\n",
       "      <td>1.508212e+09</td>\n",
       "    </tr>\n",
       "    <tr>\n",
       "      <th>2565</th>\n",
       "      <td>322896</td>\n",
       "      <td>30760</td>\n",
       "      <td>1.508212e+09</td>\n",
       "    </tr>\n",
       "    <tr>\n",
       "      <th>2566</th>\n",
       "      <td>322896</td>\n",
       "      <td>157507</td>\n",
       "      <td>1.508212e+09</td>\n",
       "    </tr>\n",
       "    <tr>\n",
       "      <th>2567</th>\n",
       "      <td>123718</td>\n",
       "      <td>234481</td>\n",
       "      <td>1.508212e+09</td>\n",
       "    </tr>\n",
       "    <tr>\n",
       "      <th>2568</th>\n",
       "      <td>123718</td>\n",
       "      <td>233578</td>\n",
       "      <td>1.508212e+09</td>\n",
       "    </tr>\n",
       "  </tbody>\n",
       "</table>\n",
       "<p>2988181 rows × 3 columns</p>\n",
       "</div>"
      ],
      "text/plain": [
       "      user_id  click_article_id  click_timestamp\n",
       "0           0            157541     1.506827e+09\n",
       "1           0             68866     1.506827e+09\n",
       "2           1            235840     1.506827e+09\n",
       "3           1             96663     1.506827e+09\n",
       "4           2            119592     1.506827e+09\n",
       "...       ...               ...              ...\n",
       "2564    10051             84911     1.508212e+09\n",
       "2565   322896             30760     1.508212e+09\n",
       "2566   322896            157507     1.508212e+09\n",
       "2567   123718            234481     1.508212e+09\n",
       "2568   123718            233578     1.508212e+09\n",
       "\n",
       "[2988181 rows x 3 columns]"
      ]
     },
     "execution_count": 12,
     "metadata": {},
     "output_type": "execute_result"
    }
   ],
   "source": [
    "df"
   ]
  },
  {
   "cell_type": "code",
   "execution_count": 13,
   "id": "75315c82-bb45-4090-8d92-87e16d42f204",
   "metadata": {},
   "outputs": [
    {
     "data": {
      "text/html": [
       "<div>\n",
       "<style scoped>\n",
       "    .dataframe tbody tr th:only-of-type {\n",
       "        vertical-align: middle;\n",
       "    }\n",
       "\n",
       "    .dataframe tbody tr th {\n",
       "        vertical-align: top;\n",
       "    }\n",
       "\n",
       "    .dataframe thead th {\n",
       "        text-align: right;\n",
       "    }\n",
       "</style>\n",
       "<table border=\"1\" class=\"dataframe\">\n",
       "  <thead>\n",
       "    <tr style=\"text-align: right;\">\n",
       "      <th></th>\n",
       "      <th>user_id</th>\n",
       "      <th>click_article_id</th>\n",
       "      <th>click_timestamp</th>\n",
       "    </tr>\n",
       "  </thead>\n",
       "  <tbody>\n",
       "    <tr>\n",
       "      <th>4289</th>\n",
       "      <td>22712</td>\n",
       "      <td>158772</td>\n",
       "      <td>1.508196e+09</td>\n",
       "    </tr>\n",
       "    <tr>\n",
       "      <th>4290</th>\n",
       "      <td>22712</td>\n",
       "      <td>284638</td>\n",
       "      <td>1.508633e+09</td>\n",
       "    </tr>\n",
       "    <tr>\n",
       "      <th>4291</th>\n",
       "      <td>22712</td>\n",
       "      <td>95633</td>\n",
       "      <td>1.508678e+09</td>\n",
       "    </tr>\n",
       "    <tr>\n",
       "      <th>4292</th>\n",
       "      <td>22712</td>\n",
       "      <td>95524</td>\n",
       "      <td>1.508679e+09</td>\n",
       "    </tr>\n",
       "    <tr>\n",
       "      <th>4293</th>\n",
       "      <td>22712</td>\n",
       "      <td>184427</td>\n",
       "      <td>1.508679e+09</td>\n",
       "    </tr>\n",
       "    <tr>\n",
       "      <th>...</th>\n",
       "      <td>...</td>\n",
       "      <td>...</td>\n",
       "      <td>...</td>\n",
       "    </tr>\n",
       "    <tr>\n",
       "      <th>2564</th>\n",
       "      <td>10051</td>\n",
       "      <td>84911</td>\n",
       "      <td>1.508212e+09</td>\n",
       "    </tr>\n",
       "    <tr>\n",
       "      <th>2565</th>\n",
       "      <td>322896</td>\n",
       "      <td>30760</td>\n",
       "      <td>1.508212e+09</td>\n",
       "    </tr>\n",
       "    <tr>\n",
       "      <th>2566</th>\n",
       "      <td>322896</td>\n",
       "      <td>157507</td>\n",
       "      <td>1.508212e+09</td>\n",
       "    </tr>\n",
       "    <tr>\n",
       "      <th>2567</th>\n",
       "      <td>123718</td>\n",
       "      <td>234481</td>\n",
       "      <td>1.508212e+09</td>\n",
       "    </tr>\n",
       "    <tr>\n",
       "      <th>2568</th>\n",
       "      <td>123718</td>\n",
       "      <td>233578</td>\n",
       "      <td>1.508212e+09</td>\n",
       "    </tr>\n",
       "  </tbody>\n",
       "</table>\n",
       "<p>298819 rows × 3 columns</p>\n",
       "</div>"
      ],
      "text/plain": [
       "      user_id  click_article_id  click_timestamp\n",
       "4289    22712            158772     1.508196e+09\n",
       "4290    22712            284638     1.508633e+09\n",
       "4291    22712             95633     1.508678e+09\n",
       "4292    22712             95524     1.508679e+09\n",
       "4293    22712            184427     1.508679e+09\n",
       "...       ...               ...              ...\n",
       "2564    10051             84911     1.508212e+09\n",
       "2565   322896             30760     1.508212e+09\n",
       "2566   322896            157507     1.508212e+09\n",
       "2567   123718            234481     1.508212e+09\n",
       "2568   123718            233578     1.508212e+09\n",
       "\n",
       "[298819 rows x 3 columns]"
      ]
     },
     "execution_count": 13,
     "metadata": {},
     "output_type": "execute_result"
    }
   ],
   "source": [
    "filtered_df"
   ]
  },
  {
   "cell_type": "markdown",
   "id": "d624bd25-2118-4fe1-9129-18be1e4cb232",
   "metadata": {},
   "source": [
    "## Dataset Preprocessing to Interaction Matrix"
   ]
  },
  {
   "cell_type": "code",
   "execution_count": 14,
   "id": "b1803c48-66d4-4256-8fbe-89bc65fa85ce",
   "metadata": {},
   "outputs": [
    {
     "data": {
      "application/vnd.jupyter.widget-view+json": {
       "model_id": "a5e92ab4fde74f44864b72b8bef8bbaf",
       "version_major": 2,
       "version_minor": 0
      },
      "text/plain": [
       "  0%|          | 0/298819 [00:00<?, ?it/s]"
      ]
     },
     "metadata": {},
     "output_type": "display_data"
    },
    {
     "data": {
      "application/vnd.jupyter.widget-view+json": {
       "model_id": "f4d4e343a0fe49b099ba3aa51d151d25",
       "version_major": 2,
       "version_minor": 0
      },
      "text/plain": [
       "  0%|          | 0/298819 [00:00<?, ?it/s]"
      ]
     },
     "metadata": {},
     "output_type": "display_data"
    }
   ],
   "source": [
    "from recpack.matrix import InteractionMatrix\n",
    "from recpack.preprocessing.preprocessors import DataFramePreprocessor\n",
    "\n",
    "item_ix = 'click_article_id'\n",
    "user_ix = 'user_id'\n",
    "timestamp_ix = 'click_timestamp'\n",
    "\n",
    "preprocessor = DataFramePreprocessor(item_ix=item_ix, user_ix=user_ix, timestamp_ix=timestamp_ix)\n",
    "\n",
    "interaction_matrix = preprocessor.process(filtered_df)"
   ]
  },
  {
   "cell_type": "markdown",
   "id": "02af19e9-6c53-4b30-b126-6f93c5258577",
   "metadata": {},
   "source": [
    "## StrongGeneralization Scenario Splitting of Data"
   ]
  },
  {
   "cell_type": "code",
   "execution_count": 15,
   "id": "aa72bb09-e745-4c5f-b4b3-88785f8a96b1",
   "metadata": {},
   "outputs": [
    {
     "data": {
      "application/vnd.jupyter.widget-view+json": {
       "model_id": "0d2c12d97201496c85ebcca6b673b7c9",
       "version_major": 2,
       "version_minor": 0
      },
      "text/plain": [
       "0it [00:00, ?it/s]"
      ]
     },
     "metadata": {},
     "output_type": "display_data"
    },
    {
     "data": {
      "application/vnd.jupyter.widget-view+json": {
       "model_id": "b6b80259e2e44e2ea2a4c44b443600c6",
       "version_major": 2,
       "version_minor": 0
      },
      "text/plain": [
       "0it [00:00, ?it/s]"
      ]
     },
     "metadata": {},
     "output_type": "display_data"
    }
   ],
   "source": [
    "scenario = StrongGeneralization(frac_users_train=0.8, frac_interactions_in=0.8, validation=True)\n",
    "scenario.split(interaction_matrix)"
   ]
  },
  {
   "cell_type": "markdown",
   "id": "96c47009-f3db-4a24-a8c8-800583f650de",
   "metadata": {},
   "source": [
    "## Experimental RecPack Pipeline"
   ]
  },
  {
   "cell_type": "code",
   "execution_count": 24,
   "id": "40f6a5b5-4f21-49ee-a96e-f7e375031134",
   "metadata": {},
   "outputs": [
    {
     "name": "stderr",
     "output_type": "stream",
     "text": [
      "/opt/conda/lib/python3.11/site-packages/recpack/pipelines/pipeline_builder.py:145: UserWarning: Grid parameter for add_algorithm function will be deprecated in favour of optimisation_info.\n",
      "  warnings.warn(\n"
     ]
    },
    {
     "data": {
      "application/vnd.jupyter.widget-view+json": {
       "model_id": "7bfaee83dc0e4d3eb5c212c4df18ead8",
       "version_major": 2,
       "version_minor": 0
      },
      "text/plain": [
       "  0%|          | 0/1 [00:00<?, ?it/s]"
      ]
     },
     "metadata": {},
     "output_type": "display_data"
    },
    {
     "name": "stderr",
     "output_type": "stream",
     "text": [
      "/tmp/ipykernel_55166/2405251189.py:85: UserWarning: To copy construct from a tensor, it is recommended to use sourceTensor.clone().detach() or sourceTensor.clone().detach().requires_grad_(True), rather than torch.tensor(sourceTensor).\n",
      "  user_indices = torch.tensor(user_indices).to(self.device)\n",
      "/tmp/ipykernel_55166/2405251189.py:86: UserWarning: To copy construct from a tensor, it is recommended to use sourceTensor.clone().detach() or sourceTensor.clone().detach().requires_grad_(True), rather than torch.tensor(sourceTensor).\n",
      "  pos_item_indices = torch.tensor(pos_item_indices).to(self.device)\n",
      "/tmp/ipykernel_55166/2405251189.py:87: UserWarning: To copy construct from a tensor, it is recommended to use sourceTensor.clone().detach() or sourceTensor.clone().detach().requires_grad_(True), rather than torch.tensor(sourceTensor).\n",
      "  neg_item_indices = torch.tensor(neg_item_indices).to(self.device).squeeze()\n"
     ]
    },
    {
     "name": "stdout",
     "output_type": "stream",
     "text": [
      "2024-08-04 18:58:40,776 - base - recpack - INFO - Processed epoch 0 in 4.94 s.Batch Training Loss = 0.3942\n",
      "2024-08-04 18:58:48,548 - stopping_criterion - recpack - INFO - StoppingCriterion has value 0.4024587547305186, which is better than previous iterations.\n",
      "2024-08-04 18:58:48,549 - base - recpack - INFO - Model improved. Storing better model.\n",
      "2024-08-04 18:58:48,611 - base - recpack - INFO - Evaluation at end of 0 took 7.83 s.\n",
      "2024-08-04 18:58:52,527 - base - recpack - INFO - Processed epoch 1 in 3.92 s.Batch Training Loss = 0.3879\n",
      "2024-08-04 18:59:00,178 - stopping_criterion - recpack - INFO - StoppingCriterion has value 0.40268481369275827, which is worse than previous iterations.\n",
      "2024-08-04 18:59:00,179 - base - recpack - INFO - Evaluation at end of 1 took 7.65 s.\n",
      "2024-08-04 18:59:04,088 - base - recpack - INFO - Processed epoch 2 in 3.91 s.Batch Training Loss = 0.3874\n",
      "2024-08-04 18:59:11,511 - stopping_criterion - recpack - INFO - StoppingCriterion has value 0.40005855492659076, which is worse than previous iterations.\n",
      "2024-08-04 18:59:11,513 - base - recpack - INFO - Evaluation at end of 2 took 7.42 s.\n",
      "2024-08-04 18:59:15,428 - base - recpack - INFO - Processed epoch 3 in 3.91 s.Batch Training Loss = 0.3873\n",
      "2024-08-04 18:59:23,183 - stopping_criterion - recpack - INFO - StoppingCriterion has value 0.3988195751266372, which is worse than previous iterations.\n",
      "2024-08-04 18:59:23,184 - base - recpack - INFO - Evaluation at end of 3 took 7.75 s.\n",
      "2024-08-04 18:59:27,000 - base - recpack - INFO - Processed epoch 4 in 3.82 s.Batch Training Loss = 0.3877\n",
      "2024-08-04 18:59:34,330 - stopping_criterion - recpack - INFO - StoppingCriterion has value 0.40299298839078795, which is worse than previous iterations.\n",
      "2024-08-04 18:59:34,331 - base - recpack - INFO - Evaluation at end of 4 took 7.33 s.\n",
      "2024-08-04 18:59:34,366 - base - recpack - INFO - Fitting PinSAGEAlgorithm complete - Took 60.8s\n"
     ]
    },
    {
     "name": "stderr",
     "output_type": "stream",
     "text": [
      "/opt/conda/lib/python3.11/site-packages/recpack/algorithms/base.py:509: FutureWarning: You are using `torch.load` with `weights_only=False` (the current default value), which uses the default pickle module implicitly. It is possible to construct malicious pickle data which will execute arbitrary code during unpickling (See https://github.com/pytorch/pytorch/blob/main/SECURITY.md#untrusted-models for more details). In a future release, the default value for `weights_only` will be flipped to `True`. This limits the functions that could be executed during unpickling. Arbitrary objects will no longer be allowed to be loaded via this mode unless they are explicitly allowlisted by the user via `torch.serialization.add_safe_globals`. We recommend you start setting `weights_only=True` for any use case where you don't have full control of the loaded file. Please open an issue on GitHub for any issues related to this experimental feature.\n",
      "  self.model_ = torch.load(self.best_model)\n",
      "/tmp/ipykernel_55166/2405251189.py:85: UserWarning: To copy construct from a tensor, it is recommended to use sourceTensor.clone().detach() or sourceTensor.clone().detach().requires_grad_(True), rather than torch.tensor(sourceTensor).\n",
      "  user_indices = torch.tensor(user_indices).to(self.device)\n",
      "/tmp/ipykernel_55166/2405251189.py:86: UserWarning: To copy construct from a tensor, it is recommended to use sourceTensor.clone().detach() or sourceTensor.clone().detach().requires_grad_(True), rather than torch.tensor(sourceTensor).\n",
      "  pos_item_indices = torch.tensor(pos_item_indices).to(self.device)\n",
      "/tmp/ipykernel_55166/2405251189.py:87: UserWarning: To copy construct from a tensor, it is recommended to use sourceTensor.clone().detach() or sourceTensor.clone().detach().requires_grad_(True), rather than torch.tensor(sourceTensor).\n",
      "  neg_item_indices = torch.tensor(neg_item_indices).to(self.device).squeeze()\n"
     ]
    },
    {
     "name": "stdout",
     "output_type": "stream",
     "text": [
      "2024-08-04 18:59:46,246 - base - recpack - INFO - Processed epoch 0 in 3.76 s.Batch Training Loss = 0.3921\n",
      "2024-08-04 18:59:53,768 - stopping_criterion - recpack - INFO - StoppingCriterion has value 0.3996632608632707, which is better than previous iterations.\n",
      "2024-08-04 18:59:53,769 - base - recpack - INFO - Model improved. Storing better model.\n",
      "2024-08-04 18:59:53,830 - base - recpack - INFO - Evaluation at end of 0 took 7.58 s.\n",
      "2024-08-04 18:59:57,750 - base - recpack - INFO - Processed epoch 1 in 3.92 s.Batch Training Loss = 0.3837\n",
      "2024-08-04 19:00:05,238 - stopping_criterion - recpack - INFO - StoppingCriterion has value 0.39898707062485184, which is worse than previous iterations.\n",
      "2024-08-04 19:00:05,239 - base - recpack - INFO - Evaluation at end of 1 took 7.49 s.\n",
      "2024-08-04 19:00:09,191 - base - recpack - INFO - Processed epoch 2 in 3.95 s.Batch Training Loss = 0.3834\n",
      "2024-08-04 19:00:16,729 - stopping_criterion - recpack - INFO - StoppingCriterion has value 0.3959093159478139, which is worse than previous iterations.\n",
      "2024-08-04 19:00:16,730 - base - recpack - INFO - Evaluation at end of 2 took 7.54 s.\n",
      "2024-08-04 19:00:20,677 - base - recpack - INFO - Processed epoch 3 in 3.95 s.Batch Training Loss = 0.3843\n",
      "2024-08-04 19:00:27,892 - stopping_criterion - recpack - INFO - StoppingCriterion has value 0.40281241414194874, which is worse than previous iterations.\n",
      "2024-08-04 19:00:27,893 - base - recpack - INFO - Evaluation at end of 3 took 7.21 s.\n",
      "2024-08-04 19:00:31,737 - base - recpack - INFO - Processed epoch 4 in 3.84 s.Batch Training Loss = 0.3837\n",
      "2024-08-04 19:00:39,286 - stopping_criterion - recpack - INFO - StoppingCriterion has value 0.3957934873377939, which is worse than previous iterations.\n",
      "2024-08-04 19:00:39,287 - base - recpack - INFO - Evaluation at end of 4 took 7.55 s.\n",
      "2024-08-04 19:00:39,326 - base - recpack - INFO - Fitting PinSAGEAlgorithm complete - Took 57.0s\n"
     ]
    },
    {
     "name": "stderr",
     "output_type": "stream",
     "text": [
      "/opt/conda/lib/python3.11/site-packages/recpack/algorithms/base.py:509: FutureWarning: You are using `torch.load` with `weights_only=False` (the current default value), which uses the default pickle module implicitly. It is possible to construct malicious pickle data which will execute arbitrary code during unpickling (See https://github.com/pytorch/pytorch/blob/main/SECURITY.md#untrusted-models for more details). In a future release, the default value for `weights_only` will be flipped to `True`. This limits the functions that could be executed during unpickling. Arbitrary objects will no longer be allowed to be loaded via this mode unless they are explicitly allowlisted by the user via `torch.serialization.add_safe_globals`. We recommend you start setting `weights_only=True` for any use case where you don't have full control of the loaded file. Please open an issue on GitHub for any issues related to this experimental feature.\n",
      "  self.model_ = torch.load(self.best_model)\n",
      "/tmp/ipykernel_55166/2405251189.py:85: UserWarning: To copy construct from a tensor, it is recommended to use sourceTensor.clone().detach() or sourceTensor.clone().detach().requires_grad_(True), rather than torch.tensor(sourceTensor).\n",
      "  user_indices = torch.tensor(user_indices).to(self.device)\n",
      "/tmp/ipykernel_55166/2405251189.py:86: UserWarning: To copy construct from a tensor, it is recommended to use sourceTensor.clone().detach() or sourceTensor.clone().detach().requires_grad_(True), rather than torch.tensor(sourceTensor).\n",
      "  pos_item_indices = torch.tensor(pos_item_indices).to(self.device)\n",
      "/tmp/ipykernel_55166/2405251189.py:87: UserWarning: To copy construct from a tensor, it is recommended to use sourceTensor.clone().detach() or sourceTensor.clone().detach().requires_grad_(True), rather than torch.tensor(sourceTensor).\n",
      "  neg_item_indices = torch.tensor(neg_item_indices).to(self.device).squeeze()\n"
     ]
    },
    {
     "name": "stdout",
     "output_type": "stream",
     "text": [
      "2024-08-04 19:00:51,354 - base - recpack - INFO - Processed epoch 0 in 3.73 s.Batch Training Loss = 0.4180\n",
      "2024-08-04 19:00:59,484 - stopping_criterion - recpack - INFO - StoppingCriterion has value 0.38641763651829425, which is better than previous iterations.\n",
      "2024-08-04 19:00:59,485 - base - recpack - INFO - Model improved. Storing better model.\n",
      "2024-08-04 19:00:59,565 - base - recpack - INFO - Evaluation at end of 0 took 8.21 s.\n",
      "2024-08-04 19:01:03,334 - base - recpack - INFO - Processed epoch 1 in 3.77 s.Batch Training Loss = 0.3772\n",
      "2024-08-04 19:01:11,548 - stopping_criterion - recpack - INFO - StoppingCriterion has value 0.3841856722533237, which is worse than previous iterations.\n",
      "2024-08-04 19:01:11,549 - base - recpack - INFO - Evaluation at end of 1 took 8.21 s.\n",
      "2024-08-04 19:01:15,356 - base - recpack - INFO - Processed epoch 2 in 3.81 s.Batch Training Loss = 0.3761\n",
      "2024-08-04 19:01:23,484 - stopping_criterion - recpack - INFO - StoppingCriterion has value 0.385019579084985, which is worse than previous iterations.\n",
      "2024-08-04 19:01:23,486 - base - recpack - INFO - Evaluation at end of 2 took 8.13 s.\n",
      "2024-08-04 19:01:27,269 - base - recpack - INFO - Processed epoch 3 in 3.78 s.Batch Training Loss = 0.3756\n",
      "2024-08-04 19:01:35,351 - stopping_criterion - recpack - INFO - StoppingCriterion has value 0.3783065802066918, which is worse than previous iterations.\n",
      "2024-08-04 19:01:35,352 - base - recpack - INFO - Evaluation at end of 3 took 8.08 s.\n",
      "2024-08-04 19:01:39,296 - base - recpack - INFO - Processed epoch 4 in 3.94 s.Batch Training Loss = 0.3763\n",
      "2024-08-04 19:01:47,435 - stopping_criterion - recpack - INFO - StoppingCriterion has value 0.38643165054368206, which is worse than previous iterations.\n",
      "2024-08-04 19:01:47,436 - base - recpack - INFO - Evaluation at end of 4 took 8.14 s.\n",
      "2024-08-04 19:01:47,469 - base - recpack - INFO - Fitting PinSAGEAlgorithm complete - Took 60.0s\n"
     ]
    },
    {
     "name": "stderr",
     "output_type": "stream",
     "text": [
      "/opt/conda/lib/python3.11/site-packages/recpack/algorithms/base.py:509: FutureWarning: You are using `torch.load` with `weights_only=False` (the current default value), which uses the default pickle module implicitly. It is possible to construct malicious pickle data which will execute arbitrary code during unpickling (See https://github.com/pytorch/pytorch/blob/main/SECURITY.md#untrusted-models for more details). In a future release, the default value for `weights_only` will be flipped to `True`. This limits the functions that could be executed during unpickling. Arbitrary objects will no longer be allowed to be loaded via this mode unless they are explicitly allowlisted by the user via `torch.serialization.add_safe_globals`. We recommend you start setting `weights_only=True` for any use case where you don't have full control of the loaded file. Please open an issue on GitHub for any issues related to this experimental feature.\n",
      "  self.model_ = torch.load(self.best_model)\n",
      "/tmp/ipykernel_55166/2405251189.py:85: UserWarning: To copy construct from a tensor, it is recommended to use sourceTensor.clone().detach() or sourceTensor.clone().detach().requires_grad_(True), rather than torch.tensor(sourceTensor).\n",
      "  user_indices = torch.tensor(user_indices).to(self.device)\n",
      "/tmp/ipykernel_55166/2405251189.py:86: UserWarning: To copy construct from a tensor, it is recommended to use sourceTensor.clone().detach() or sourceTensor.clone().detach().requires_grad_(True), rather than torch.tensor(sourceTensor).\n",
      "  pos_item_indices = torch.tensor(pos_item_indices).to(self.device)\n",
      "/tmp/ipykernel_55166/2405251189.py:87: UserWarning: To copy construct from a tensor, it is recommended to use sourceTensor.clone().detach() or sourceTensor.clone().detach().requires_grad_(True), rather than torch.tensor(sourceTensor).\n",
      "  neg_item_indices = torch.tensor(neg_item_indices).to(self.device).squeeze()\n"
     ]
    },
    {
     "name": "stdout",
     "output_type": "stream",
     "text": [
      "2024-08-04 19:02:03,102 - base - recpack - INFO - Processed epoch 0 in 6.60 s.Batch Training Loss = 0.3919\n",
      "2024-08-04 19:02:11,038 - stopping_criterion - recpack - INFO - StoppingCriterion has value 0.39749064210010265, which is better than previous iterations.\n",
      "2024-08-04 19:02:11,039 - base - recpack - INFO - Model improved. Storing better model.\n",
      "2024-08-04 19:02:11,198 - base - recpack - INFO - Evaluation at end of 0 took 8.09 s.\n",
      "2024-08-04 19:02:17,689 - base - recpack - INFO - Processed epoch 1 in 6.49 s.Batch Training Loss = 0.3849\n",
      "2024-08-04 19:02:25,046 - stopping_criterion - recpack - INFO - StoppingCriterion has value 0.4001463287241852, which is worse than previous iterations.\n",
      "2024-08-04 19:02:25,047 - base - recpack - INFO - Evaluation at end of 1 took 7.36 s.\n",
      "2024-08-04 19:02:31,552 - base - recpack - INFO - Processed epoch 2 in 6.50 s.Batch Training Loss = 0.3846\n",
      "2024-08-04 19:02:39,116 - stopping_criterion - recpack - INFO - StoppingCriterion has value 0.3976232598284455, which is worse than previous iterations.\n",
      "2024-08-04 19:02:39,117 - base - recpack - INFO - Evaluation at end of 2 took 7.56 s.\n",
      "2024-08-04 19:02:45,635 - base - recpack - INFO - Processed epoch 3 in 6.52 s.Batch Training Loss = 0.3848\n",
      "2024-08-04 19:02:53,231 - stopping_criterion - recpack - INFO - StoppingCriterion has value 0.400205723110511, which is worse than previous iterations.\n",
      "2024-08-04 19:02:53,232 - base - recpack - INFO - Evaluation at end of 3 took 7.60 s.\n",
      "2024-08-04 19:02:59,740 - base - recpack - INFO - Processed epoch 4 in 6.51 s.Batch Training Loss = 0.3843\n",
      "2024-08-04 19:03:07,519 - stopping_criterion - recpack - INFO - StoppingCriterion has value 0.3978153206553085, which is worse than previous iterations.\n",
      "2024-08-04 19:03:07,520 - base - recpack - INFO - Evaluation at end of 4 took 7.78 s.\n",
      "2024-08-04 19:03:07,611 - base - recpack - INFO - Fitting PinSAGEAlgorithm complete - Took 71.4s\n"
     ]
    },
    {
     "name": "stderr",
     "output_type": "stream",
     "text": [
      "/opt/conda/lib/python3.11/site-packages/recpack/algorithms/base.py:509: FutureWarning: You are using `torch.load` with `weights_only=False` (the current default value), which uses the default pickle module implicitly. It is possible to construct malicious pickle data which will execute arbitrary code during unpickling (See https://github.com/pytorch/pytorch/blob/main/SECURITY.md#untrusted-models for more details). In a future release, the default value for `weights_only` will be flipped to `True`. This limits the functions that could be executed during unpickling. Arbitrary objects will no longer be allowed to be loaded via this mode unless they are explicitly allowlisted by the user via `torch.serialization.add_safe_globals`. We recommend you start setting `weights_only=True` for any use case where you don't have full control of the loaded file. Please open an issue on GitHub for any issues related to this experimental feature.\n",
      "  self.model_ = torch.load(self.best_model)\n",
      "/tmp/ipykernel_55166/2405251189.py:85: UserWarning: To copy construct from a tensor, it is recommended to use sourceTensor.clone().detach() or sourceTensor.clone().detach().requires_grad_(True), rather than torch.tensor(sourceTensor).\n",
      "  user_indices = torch.tensor(user_indices).to(self.device)\n",
      "/tmp/ipykernel_55166/2405251189.py:86: UserWarning: To copy construct from a tensor, it is recommended to use sourceTensor.clone().detach() or sourceTensor.clone().detach().requires_grad_(True), rather than torch.tensor(sourceTensor).\n",
      "  pos_item_indices = torch.tensor(pos_item_indices).to(self.device)\n",
      "/tmp/ipykernel_55166/2405251189.py:87: UserWarning: To copy construct from a tensor, it is recommended to use sourceTensor.clone().detach() or sourceTensor.clone().detach().requires_grad_(True), rather than torch.tensor(sourceTensor).\n",
      "  neg_item_indices = torch.tensor(neg_item_indices).to(self.device).squeeze()\n"
     ]
    },
    {
     "name": "stdout",
     "output_type": "stream",
     "text": [
      "2024-08-04 19:03:22,084 - base - recpack - INFO - Processed epoch 0 in 6.43 s.Batch Training Loss = 0.3931\n",
      "2024-08-04 19:03:29,518 - stopping_criterion - recpack - INFO - StoppingCriterion has value 0.39469694755827445, which is better than previous iterations.\n",
      "2024-08-04 19:03:29,519 - base - recpack - INFO - Model improved. Storing better model.\n",
      "2024-08-04 19:03:29,695 - base - recpack - INFO - Evaluation at end of 0 took 7.61 s.\n",
      "2024-08-04 19:03:36,098 - base - recpack - INFO - Processed epoch 1 in 6.40 s.Batch Training Loss = 0.3862\n",
      "2024-08-04 19:03:43,595 - stopping_criterion - recpack - INFO - StoppingCriterion has value 0.39953250240969157, which is worse than previous iterations.\n",
      "2024-08-04 19:03:43,596 - base - recpack - INFO - Evaluation at end of 1 took 7.50 s.\n",
      "2024-08-04 19:03:49,975 - base - recpack - INFO - Processed epoch 2 in 6.38 s.Batch Training Loss = 0.3858\n",
      "2024-08-04 19:03:57,482 - stopping_criterion - recpack - INFO - StoppingCriterion has value 0.4008720571921753, which is worse than previous iterations.\n",
      "2024-08-04 19:03:57,483 - base - recpack - INFO - Evaluation at end of 2 took 7.51 s.\n",
      "2024-08-04 19:04:03,956 - base - recpack - INFO - Processed epoch 3 in 6.47 s.Batch Training Loss = 0.3854\n",
      "2024-08-04 19:04:11,427 - stopping_criterion - recpack - INFO - StoppingCriterion has value 0.3938869678893109, which is worse than previous iterations.\n",
      "2024-08-04 19:04:11,428 - base - recpack - INFO - Evaluation at end of 3 took 7.47 s.\n",
      "2024-08-04 19:04:17,930 - base - recpack - INFO - Processed epoch 4 in 6.50 s.Batch Training Loss = 0.3848\n",
      "2024-08-04 19:04:25,191 - stopping_criterion - recpack - INFO - StoppingCriterion has value 0.3987114925549864, which is worse than previous iterations.\n",
      "2024-08-04 19:04:25,192 - base - recpack - INFO - Evaluation at end of 4 took 7.26 s.\n",
      "2024-08-04 19:04:25,280 - base - recpack - INFO - Fitting PinSAGEAlgorithm complete - Took 69.9s\n"
     ]
    },
    {
     "name": "stderr",
     "output_type": "stream",
     "text": [
      "/opt/conda/lib/python3.11/site-packages/recpack/algorithms/base.py:509: FutureWarning: You are using `torch.load` with `weights_only=False` (the current default value), which uses the default pickle module implicitly. It is possible to construct malicious pickle data which will execute arbitrary code during unpickling (See https://github.com/pytorch/pytorch/blob/main/SECURITY.md#untrusted-models for more details). In a future release, the default value for `weights_only` will be flipped to `True`. This limits the functions that could be executed during unpickling. Arbitrary objects will no longer be allowed to be loaded via this mode unless they are explicitly allowlisted by the user via `torch.serialization.add_safe_globals`. We recommend you start setting `weights_only=True` for any use case where you don't have full control of the loaded file. Please open an issue on GitHub for any issues related to this experimental feature.\n",
      "  self.model_ = torch.load(self.best_model)\n",
      "/tmp/ipykernel_55166/2405251189.py:85: UserWarning: To copy construct from a tensor, it is recommended to use sourceTensor.clone().detach() or sourceTensor.clone().detach().requires_grad_(True), rather than torch.tensor(sourceTensor).\n",
      "  user_indices = torch.tensor(user_indices).to(self.device)\n",
      "/tmp/ipykernel_55166/2405251189.py:86: UserWarning: To copy construct from a tensor, it is recommended to use sourceTensor.clone().detach() or sourceTensor.clone().detach().requires_grad_(True), rather than torch.tensor(sourceTensor).\n",
      "  pos_item_indices = torch.tensor(pos_item_indices).to(self.device)\n",
      "/tmp/ipykernel_55166/2405251189.py:87: UserWarning: To copy construct from a tensor, it is recommended to use sourceTensor.clone().detach() or sourceTensor.clone().detach().requires_grad_(True), rather than torch.tensor(sourceTensor).\n",
      "  neg_item_indices = torch.tensor(neg_item_indices).to(self.device).squeeze()\n"
     ]
    },
    {
     "name": "stdout",
     "output_type": "stream",
     "text": [
      "2024-08-04 19:04:39,891 - base - recpack - INFO - Processed epoch 0 in 6.59 s.Batch Training Loss = 0.4073\n",
      "2024-08-04 19:04:47,877 - stopping_criterion - recpack - INFO - StoppingCriterion has value 0.39328772776925724, which is better than previous iterations.\n",
      "2024-08-04 19:04:47,878 - base - recpack - INFO - Model improved. Storing better model.\n",
      "2024-08-04 19:04:48,038 - base - recpack - INFO - Evaluation at end of 0 took 8.15 s.\n",
      "2024-08-04 19:04:54,480 - base - recpack - INFO - Processed epoch 1 in 6.44 s.Batch Training Loss = 0.3781\n",
      "2024-08-04 19:05:02,442 - stopping_criterion - recpack - INFO - StoppingCriterion has value 0.39175125263489907, which is worse than previous iterations.\n",
      "2024-08-04 19:05:02,443 - base - recpack - INFO - Evaluation at end of 1 took 7.96 s.\n",
      "2024-08-04 19:05:08,997 - base - recpack - INFO - Processed epoch 2 in 6.55 s.Batch Training Loss = 0.3780\n",
      "2024-08-04 19:05:17,406 - stopping_criterion - recpack - INFO - StoppingCriterion has value 0.3932798324401023, which is worse than previous iterations.\n",
      "2024-08-04 19:05:17,407 - base - recpack - INFO - Evaluation at end of 2 took 8.41 s.\n",
      "2024-08-04 19:05:23,905 - base - recpack - INFO - Processed epoch 3 in 6.50 s.Batch Training Loss = 0.3761\n",
      "2024-08-04 19:05:31,765 - stopping_criterion - recpack - INFO - StoppingCriterion has value 0.38121671156003, which is better than previous iterations.\n",
      "2024-08-04 19:05:31,766 - base - recpack - INFO - Model improved. Storing better model.\n",
      "2024-08-04 19:05:31,939 - base - recpack - INFO - Evaluation at end of 3 took 8.03 s.\n",
      "2024-08-04 19:05:38,533 - base - recpack - INFO - Processed epoch 4 in 6.59 s.Batch Training Loss = 0.3768\n",
      "2024-08-04 19:05:46,346 - stopping_criterion - recpack - INFO - StoppingCriterion has value 0.3842829045371039, which is worse than previous iterations.\n",
      "2024-08-04 19:05:46,346 - base - recpack - INFO - Evaluation at end of 4 took 7.81 s.\n",
      "2024-08-04 19:05:46,442 - base - recpack - INFO - Fitting PinSAGEAlgorithm complete - Took 73.5s\n"
     ]
    },
    {
     "name": "stderr",
     "output_type": "stream",
     "text": [
      "/opt/conda/lib/python3.11/site-packages/recpack/algorithms/base.py:509: FutureWarning: You are using `torch.load` with `weights_only=False` (the current default value), which uses the default pickle module implicitly. It is possible to construct malicious pickle data which will execute arbitrary code during unpickling (See https://github.com/pytorch/pytorch/blob/main/SECURITY.md#untrusted-models for more details). In a future release, the default value for `weights_only` will be flipped to `True`. This limits the functions that could be executed during unpickling. Arbitrary objects will no longer be allowed to be loaded via this mode unless they are explicitly allowlisted by the user via `torch.serialization.add_safe_globals`. We recommend you start setting `weights_only=True` for any use case where you don't have full control of the loaded file. Please open an issue on GitHub for any issues related to this experimental feature.\n",
      "  self.model_ = torch.load(self.best_model)\n",
      "/tmp/ipykernel_55166/2405251189.py:85: UserWarning: To copy construct from a tensor, it is recommended to use sourceTensor.clone().detach() or sourceTensor.clone().detach().requires_grad_(True), rather than torch.tensor(sourceTensor).\n",
      "  user_indices = torch.tensor(user_indices).to(self.device)\n",
      "/tmp/ipykernel_55166/2405251189.py:86: UserWarning: To copy construct from a tensor, it is recommended to use sourceTensor.clone().detach() or sourceTensor.clone().detach().requires_grad_(True), rather than torch.tensor(sourceTensor).\n",
      "  pos_item_indices = torch.tensor(pos_item_indices).to(self.device)\n",
      "/tmp/ipykernel_55166/2405251189.py:87: UserWarning: To copy construct from a tensor, it is recommended to use sourceTensor.clone().detach() or sourceTensor.clone().detach().requires_grad_(True), rather than torch.tensor(sourceTensor).\n",
      "  neg_item_indices = torch.tensor(neg_item_indices).to(self.device).squeeze()\n"
     ]
    },
    {
     "name": "stdout",
     "output_type": "stream",
     "text": [
      "2024-08-04 19:06:08,449 - base - recpack - INFO - Processed epoch 0 in 12.93 s.Batch Training Loss = 0.3928\n",
      "2024-08-04 19:06:16,328 - stopping_criterion - recpack - INFO - StoppingCriterion has value 0.40000605424172253, which is better than previous iterations.\n",
      "2024-08-04 19:06:16,330 - base - recpack - INFO - Model improved. Storing better model.\n",
      "2024-08-04 19:06:16,644 - base - recpack - INFO - Evaluation at end of 0 took 8.19 s.\n",
      "2024-08-04 19:06:29,580 - base - recpack - INFO - Processed epoch 1 in 12.93 s.Batch Training Loss = 0.3860\n",
      "2024-08-04 19:06:37,478 - stopping_criterion - recpack - INFO - StoppingCriterion has value 0.4029636710814282, which is worse than previous iterations.\n",
      "2024-08-04 19:06:37,479 - base - recpack - INFO - Evaluation at end of 1 took 7.90 s.\n",
      "2024-08-04 19:06:50,401 - base - recpack - INFO - Processed epoch 2 in 12.92 s.Batch Training Loss = 0.3846\n",
      "2024-08-04 19:06:58,066 - stopping_criterion - recpack - INFO - StoppingCriterion has value 0.39911772792876854, which is worse than previous iterations.\n",
      "2024-08-04 19:06:58,067 - base - recpack - INFO - Evaluation at end of 2 took 7.66 s.\n",
      "2024-08-04 19:07:10,954 - base - recpack - INFO - Processed epoch 3 in 12.89 s.Batch Training Loss = 0.3839\n",
      "2024-08-04 19:07:18,575 - stopping_criterion - recpack - INFO - StoppingCriterion has value 0.3966252506390152, which is worse than previous iterations.\n",
      "2024-08-04 19:07:18,576 - base - recpack - INFO - Evaluation at end of 3 took 7.62 s.\n",
      "2024-08-04 19:07:31,459 - base - recpack - INFO - Processed epoch 4 in 12.88 s.Batch Training Loss = 0.3836\n",
      "2024-08-04 19:07:39,112 - stopping_criterion - recpack - INFO - StoppingCriterion has value 0.3934142775001252, which is worse than previous iterations.\n",
      "2024-08-04 19:07:39,113 - base - recpack - INFO - Evaluation at end of 4 took 7.65 s.\n",
      "2024-08-04 19:07:39,285 - base - recpack - INFO - Fitting PinSAGEAlgorithm complete - Took 1.04e+02s\n"
     ]
    },
    {
     "name": "stderr",
     "output_type": "stream",
     "text": [
      "/opt/conda/lib/python3.11/site-packages/recpack/algorithms/base.py:509: FutureWarning: You are using `torch.load` with `weights_only=False` (the current default value), which uses the default pickle module implicitly. It is possible to construct malicious pickle data which will execute arbitrary code during unpickling (See https://github.com/pytorch/pytorch/blob/main/SECURITY.md#untrusted-models for more details). In a future release, the default value for `weights_only` will be flipped to `True`. This limits the functions that could be executed during unpickling. Arbitrary objects will no longer be allowed to be loaded via this mode unless they are explicitly allowlisted by the user via `torch.serialization.add_safe_globals`. We recommend you start setting `weights_only=True` for any use case where you don't have full control of the loaded file. Please open an issue on GitHub for any issues related to this experimental feature.\n",
      "  self.model_ = torch.load(self.best_model)\n",
      "/tmp/ipykernel_55166/2405251189.py:85: UserWarning: To copy construct from a tensor, it is recommended to use sourceTensor.clone().detach() or sourceTensor.clone().detach().requires_grad_(True), rather than torch.tensor(sourceTensor).\n",
      "  user_indices = torch.tensor(user_indices).to(self.device)\n",
      "/tmp/ipykernel_55166/2405251189.py:86: UserWarning: To copy construct from a tensor, it is recommended to use sourceTensor.clone().detach() or sourceTensor.clone().detach().requires_grad_(True), rather than torch.tensor(sourceTensor).\n",
      "  pos_item_indices = torch.tensor(pos_item_indices).to(self.device)\n",
      "/tmp/ipykernel_55166/2405251189.py:87: UserWarning: To copy construct from a tensor, it is recommended to use sourceTensor.clone().detach() or sourceTensor.clone().detach().requires_grad_(True), rather than torch.tensor(sourceTensor).\n",
      "  neg_item_indices = torch.tensor(neg_item_indices).to(self.device).squeeze()\n"
     ]
    },
    {
     "name": "stdout",
     "output_type": "stream",
     "text": [
      "2024-08-04 19:08:01,046 - base - recpack - INFO - Processed epoch 0 in 12.89 s.Batch Training Loss = 0.3919\n",
      "2024-08-04 19:08:08,570 - stopping_criterion - recpack - INFO - StoppingCriterion has value 0.3989792840029767, which is better than previous iterations.\n",
      "2024-08-04 19:08:08,571 - base - recpack - INFO - Model improved. Storing better model.\n",
      "2024-08-04 19:08:08,883 - base - recpack - INFO - Evaluation at end of 0 took 7.84 s.\n",
      "2024-08-04 19:08:21,756 - base - recpack - INFO - Processed epoch 1 in 12.87 s.Batch Training Loss = 0.3845\n",
      "2024-08-04 19:08:29,326 - stopping_criterion - recpack - INFO - StoppingCriterion has value 0.3988235079663505, which is worse than previous iterations.\n",
      "2024-08-04 19:08:29,327 - base - recpack - INFO - Evaluation at end of 1 took 7.57 s.\n",
      "2024-08-04 19:08:42,247 - base - recpack - INFO - Processed epoch 2 in 12.92 s.Batch Training Loss = 0.3843\n",
      "2024-08-04 19:08:49,591 - stopping_criterion - recpack - INFO - StoppingCriterion has value 0.39426995887906335, which is worse than previous iterations.\n",
      "2024-08-04 19:08:49,592 - base - recpack - INFO - Evaluation at end of 2 took 7.34 s.\n",
      "2024-08-04 19:09:02,529 - base - recpack - INFO - Processed epoch 3 in 12.94 s.Batch Training Loss = 0.3847\n",
      "2024-08-04 19:09:09,970 - stopping_criterion - recpack - INFO - StoppingCriterion has value 0.3984875951824093, which is worse than previous iterations.\n",
      "2024-08-04 19:09:09,971 - base - recpack - INFO - Evaluation at end of 3 took 7.44 s.\n",
      "2024-08-04 19:09:22,861 - base - recpack - INFO - Processed epoch 4 in 12.89 s.Batch Training Loss = 0.3847\n",
      "2024-08-04 19:09:30,340 - stopping_criterion - recpack - INFO - StoppingCriterion has value 0.3999056165725272, which is worse than previous iterations.\n",
      "2024-08-04 19:09:30,340 - base - recpack - INFO - Evaluation at end of 4 took 7.48 s.\n",
      "2024-08-04 19:09:30,520 - base - recpack - INFO - Fitting PinSAGEAlgorithm complete - Took 1.03e+02s\n"
     ]
    },
    {
     "name": "stderr",
     "output_type": "stream",
     "text": [
      "/opt/conda/lib/python3.11/site-packages/recpack/algorithms/base.py:509: FutureWarning: You are using `torch.load` with `weights_only=False` (the current default value), which uses the default pickle module implicitly. It is possible to construct malicious pickle data which will execute arbitrary code during unpickling (See https://github.com/pytorch/pytorch/blob/main/SECURITY.md#untrusted-models for more details). In a future release, the default value for `weights_only` will be flipped to `True`. This limits the functions that could be executed during unpickling. Arbitrary objects will no longer be allowed to be loaded via this mode unless they are explicitly allowlisted by the user via `torch.serialization.add_safe_globals`. We recommend you start setting `weights_only=True` for any use case where you don't have full control of the loaded file. Please open an issue on GitHub for any issues related to this experimental feature.\n",
      "  self.model_ = torch.load(self.best_model)\n",
      "/tmp/ipykernel_55166/2405251189.py:85: UserWarning: To copy construct from a tensor, it is recommended to use sourceTensor.clone().detach() or sourceTensor.clone().detach().requires_grad_(True), rather than torch.tensor(sourceTensor).\n",
      "  user_indices = torch.tensor(user_indices).to(self.device)\n",
      "/tmp/ipykernel_55166/2405251189.py:86: UserWarning: To copy construct from a tensor, it is recommended to use sourceTensor.clone().detach() or sourceTensor.clone().detach().requires_grad_(True), rather than torch.tensor(sourceTensor).\n",
      "  pos_item_indices = torch.tensor(pos_item_indices).to(self.device)\n",
      "/tmp/ipykernel_55166/2405251189.py:87: UserWarning: To copy construct from a tensor, it is recommended to use sourceTensor.clone().detach() or sourceTensor.clone().detach().requires_grad_(True), rather than torch.tensor(sourceTensor).\n",
      "  neg_item_indices = torch.tensor(neg_item_indices).to(self.device).squeeze()\n"
     ]
    },
    {
     "name": "stdout",
     "output_type": "stream",
     "text": [
      "2024-08-04 19:09:51,995 - base - recpack - INFO - Processed epoch 0 in 12.85 s.Batch Training Loss = 0.4007\n",
      "2024-08-04 19:10:00,022 - stopping_criterion - recpack - INFO - StoppingCriterion has value 0.39088498744210454, which is better than previous iterations.\n",
      "2024-08-04 19:10:00,024 - base - recpack - INFO - Model improved. Storing better model.\n",
      "2024-08-04 19:10:00,341 - base - recpack - INFO - Evaluation at end of 0 took 8.34 s.\n",
      "2024-08-04 19:10:13,287 - base - recpack - INFO - Processed epoch 1 in 12.95 s.Batch Training Loss = 0.3772\n",
      "2024-08-04 19:10:21,156 - stopping_criterion - recpack - INFO - StoppingCriterion has value 0.3906829682043011, which is worse than previous iterations.\n",
      "2024-08-04 19:10:21,157 - base - recpack - INFO - Evaluation at end of 1 took 7.87 s.\n",
      "2024-08-04 19:10:34,098 - base - recpack - INFO - Processed epoch 2 in 12.94 s.Batch Training Loss = 0.3766\n",
      "2024-08-04 19:10:42,104 - stopping_criterion - recpack - INFO - StoppingCriterion has value 0.3879193226186536, which is worse than previous iterations.\n",
      "2024-08-04 19:10:42,105 - base - recpack - INFO - Evaluation at end of 2 took 8.01 s.\n",
      "2024-08-04 19:10:54,993 - base - recpack - INFO - Processed epoch 3 in 12.89 s.Batch Training Loss = 0.3763\n",
      "2024-08-04 19:11:02,778 - stopping_criterion - recpack - INFO - StoppingCriterion has value 0.38996720498583626, which is worse than previous iterations.\n",
      "2024-08-04 19:11:02,779 - base - recpack - INFO - Evaluation at end of 3 took 7.78 s.\n",
      "2024-08-04 19:11:15,729 - base - recpack - INFO - Processed epoch 4 in 12.95 s.Batch Training Loss = 0.3764\n",
      "2024-08-04 19:11:23,329 - stopping_criterion - recpack - INFO - StoppingCriterion has value 0.3865031428538749, which is worse than previous iterations.\n",
      "2024-08-04 19:11:23,330 - base - recpack - INFO - Evaluation at end of 4 took 7.60 s.\n",
      "2024-08-04 19:11:23,505 - base - recpack - INFO - Fitting PinSAGEAlgorithm complete - Took 1.05e+02s\n"
     ]
    },
    {
     "name": "stderr",
     "output_type": "stream",
     "text": [
      "/opt/conda/lib/python3.11/site-packages/recpack/algorithms/base.py:509: FutureWarning: You are using `torch.load` with `weights_only=False` (the current default value), which uses the default pickle module implicitly. It is possible to construct malicious pickle data which will execute arbitrary code during unpickling (See https://github.com/pytorch/pytorch/blob/main/SECURITY.md#untrusted-models for more details). In a future release, the default value for `weights_only` will be flipped to `True`. This limits the functions that could be executed during unpickling. Arbitrary objects will no longer be allowed to be loaded via this mode unless they are explicitly allowlisted by the user via `torch.serialization.add_safe_globals`. We recommend you start setting `weights_only=True` for any use case where you don't have full control of the loaded file. Please open an issue on GitHub for any issues related to this experimental feature.\n",
      "  self.model_ = torch.load(self.best_model)\n",
      "/tmp/ipykernel_55166/2405251189.py:85: UserWarning: To copy construct from a tensor, it is recommended to use sourceTensor.clone().detach() or sourceTensor.clone().detach().requires_grad_(True), rather than torch.tensor(sourceTensor).\n",
      "  user_indices = torch.tensor(user_indices).to(self.device)\n",
      "/tmp/ipykernel_55166/2405251189.py:86: UserWarning: To copy construct from a tensor, it is recommended to use sourceTensor.clone().detach() or sourceTensor.clone().detach().requires_grad_(True), rather than torch.tensor(sourceTensor).\n",
      "  pos_item_indices = torch.tensor(pos_item_indices).to(self.device)\n",
      "/tmp/ipykernel_55166/2405251189.py:87: UserWarning: To copy construct from a tensor, it is recommended to use sourceTensor.clone().detach() or sourceTensor.clone().detach().requires_grad_(True), rather than torch.tensor(sourceTensor).\n",
      "  neg_item_indices = torch.tensor(neg_item_indices).to(self.device).squeeze()\n"
     ]
    },
    {
     "name": "stdout",
     "output_type": "stream",
     "text": [
      "2024-08-04 19:11:45,726 - base - recpack - INFO - Processed epoch 0 in 12.95 s.Batch Training Loss = 0.4001\n",
      "2024-08-04 19:11:53,638 - stopping_criterion - recpack - INFO - StoppingCriterion has value 0.3875605214055656, which is better than previous iterations.\n",
      "2024-08-04 19:11:53,639 - base - recpack - INFO - Model improved. Storing better model.\n",
      "2024-08-04 19:11:53,956 - base - recpack - INFO - Evaluation at end of 0 took 8.23 s.\n",
      "2024-08-04 19:12:06,885 - base - recpack - INFO - Processed epoch 1 in 12.93 s.Batch Training Loss = 0.3785\n",
      "2024-08-04 19:12:14,786 - stopping_criterion - recpack - INFO - StoppingCriterion has value 0.38863432716042834, which is worse than previous iterations.\n",
      "2024-08-04 19:12:14,786 - base - recpack - INFO - Evaluation at end of 1 took 7.90 s.\n",
      "2024-08-04 19:12:27,691 - base - recpack - INFO - Processed epoch 2 in 12.90 s.Batch Training Loss = 0.3773\n",
      "2024-08-04 19:12:35,903 - stopping_criterion - recpack - INFO - StoppingCriterion has value 0.384114133302409, which is worse than previous iterations.\n",
      "2024-08-04 19:12:35,904 - base - recpack - INFO - Evaluation at end of 2 took 8.21 s.\n",
      "2024-08-04 19:12:48,834 - base - recpack - INFO - Processed epoch 3 in 12.93 s.Batch Training Loss = 0.3770\n",
      "2024-08-04 19:12:56,488 - stopping_criterion - recpack - INFO - StoppingCriterion has value 0.3891674314200353, which is worse than previous iterations.\n",
      "2024-08-04 19:12:56,489 - base - recpack - INFO - Evaluation at end of 3 took 7.65 s.\n",
      "2024-08-04 19:13:09,416 - base - recpack - INFO - Processed epoch 4 in 12.93 s.Batch Training Loss = 0.3771\n",
      "2024-08-04 19:13:17,297 - stopping_criterion - recpack - INFO - StoppingCriterion has value 0.3885345789097732, which is worse than previous iterations.\n",
      "2024-08-04 19:13:17,298 - base - recpack - INFO - Evaluation at end of 4 took 7.88 s.\n",
      "2024-08-04 19:13:17,477 - base - recpack - INFO - Fitting PinSAGEAlgorithm complete - Took 1.05e+02s\n"
     ]
    },
    {
     "name": "stderr",
     "output_type": "stream",
     "text": [
      "/opt/conda/lib/python3.11/site-packages/recpack/algorithms/base.py:509: FutureWarning: You are using `torch.load` with `weights_only=False` (the current default value), which uses the default pickle module implicitly. It is possible to construct malicious pickle data which will execute arbitrary code during unpickling (See https://github.com/pytorch/pytorch/blob/main/SECURITY.md#untrusted-models for more details). In a future release, the default value for `weights_only` will be flipped to `True`. This limits the functions that could be executed during unpickling. Arbitrary objects will no longer be allowed to be loaded via this mode unless they are explicitly allowlisted by the user via `torch.serialization.add_safe_globals`. We recommend you start setting `weights_only=True` for any use case where you don't have full control of the loaded file. Please open an issue on GitHub for any issues related to this experimental feature.\n",
      "  self.model_ = torch.load(self.best_model)\n"
     ]
    }
   ],
   "source": [
    "pipeline_builder = PipelineBuilder()\n",
    "ok = (scenario._validation_data_in, scenario._validation_data_out)\n",
    "pipeline_builder.set_data_from_scenario(scenario)\n",
    "\n",
    "\n",
    "# Add the baseline algorithms\n",
    "#pipeline_builder.add_algorithm('ItemKNN', grid={'K': [100, 200, 400, 800]})\n",
    "#pipeline_builder.add_algorithm('EASE', grid={'l2': [10, 100, 1000], 'alpha': [0, 0.1, 0.5]})\n",
    "\n",
    "# Add our LightGCN algorithm\n",
    "pipeline_builder.add_algorithm(\n",
    "    'PinSAGEAlgorithm2',\n",
    "    grid={\n",
    "        'learning_rate': [0.1, 0.01, 0.001],\n",
    "        'embedding_dim': [100, 200, 400]\n",
    "    },\n",
    "    params={\n",
    "        'max_epochs': 5,\n",
    "        'batch_size': 1024,\n",
    "        'n_layers': 3\n",
    "    }\n",
    ")\n",
    "\n",
    "# Add NDCG, Recall, and HR metrics to be evaluated at 10, 20, and 50\n",
    "pipeline_builder.add_metric('NDCGK', [10, 20, 50])\n",
    "pipeline_builder.add_metric('RecallK', [10, 20, 50])\n",
    "pipeline_builder.add_metric('HitK', [10, 20, 50])\n",
    "\n",
    "# Set the optimisation metric\n",
    "pipeline_builder.set_optimisation_metric('RecallK', 20)\n",
    "\n",
    "# Construct pipeline\n",
    "pipeline = pipeline_builder.build()\n",
    "\n",
    "# Debugging: Output the shape of the training data\n",
    "#print(f\"Training data shape: {im.shape}\")\n",
    "\n",
    "# Run pipeline, will first do optimisation, and then evaluation\n",
    "pipeline.run()"
   ]
  },
  {
   "cell_type": "markdown",
   "id": "61c70c2b-7a53-45b3-b60c-d7bfac307cf4",
   "metadata": {},
   "source": [
    "## Results"
   ]
  },
  {
   "cell_type": "code",
   "execution_count": 25,
   "id": "e80f2784-1ed9-4d93-9883-4c34213d62ed",
   "metadata": {},
   "outputs": [
    {
     "data": {
      "text/html": [
       "<div>\n",
       "<style scoped>\n",
       "    .dataframe tbody tr th:only-of-type {\n",
       "        vertical-align: middle;\n",
       "    }\n",
       "\n",
       "    .dataframe tbody tr th {\n",
       "        vertical-align: top;\n",
       "    }\n",
       "\n",
       "    .dataframe thead th {\n",
       "        text-align: right;\n",
       "    }\n",
       "</style>\n",
       "<table border=\"1\" class=\"dataframe\">\n",
       "  <thead>\n",
       "    <tr style=\"text-align: right;\">\n",
       "      <th></th>\n",
       "      <th>NDCGK_10</th>\n",
       "      <th>NDCGK_20</th>\n",
       "      <th>NDCGK_50</th>\n",
       "      <th>RecallK_10</th>\n",
       "      <th>RecallK_20</th>\n",
       "      <th>RecallK_50</th>\n",
       "      <th>HitK_10</th>\n",
       "      <th>HitK_20</th>\n",
       "      <th>HitK_50</th>\n",
       "    </tr>\n",
       "  </thead>\n",
       "  <tbody>\n",
       "    <tr>\n",
       "      <th>PinSAGEAlgorithm(batch_size=1024,dropout=0.1,embedding_dim=400,grad_clip=1.0,keep_last=False,learning_rate=0.001,max_epochs=5,max_iter_no_change=5,min_improvement=0.01,n_layers=3,predict_topK=None,save_best_to_file=False,seed=1663951561,stop_early=True,stopping_criterion=&lt;recpack.algorithms.stopping_criterion.StoppingCriterion object at 0x7fb0756e6310&gt;,validation_sample_size=None)</th>\n",
       "      <td>0.126869</td>\n",
       "      <td>0.147992</td>\n",
       "      <td>0.17897</td>\n",
       "      <td>0.23078</td>\n",
       "      <td>0.310627</td>\n",
       "      <td>0.458474</td>\n",
       "      <td>0.27781</td>\n",
       "      <td>0.376593</td>\n",
       "      <td>0.569525</td>\n",
       "    </tr>\n",
       "  </tbody>\n",
       "</table>\n",
       "</div>"
      ],
      "text/plain": [
       "                                                    NDCGK_10  NDCGK_20  \\\n",
       "PinSAGEAlgorithm(batch_size=1024,dropout=0.1,em...  0.126869  0.147992   \n",
       "\n",
       "                                                    NDCGK_50  RecallK_10  \\\n",
       "PinSAGEAlgorithm(batch_size=1024,dropout=0.1,em...   0.17897     0.23078   \n",
       "\n",
       "                                                    RecallK_20  RecallK_50  \\\n",
       "PinSAGEAlgorithm(batch_size=1024,dropout=0.1,em...    0.310627    0.458474   \n",
       "\n",
       "                                                    HitK_10   HitK_20  \\\n",
       "PinSAGEAlgorithm(batch_size=1024,dropout=0.1,em...  0.27781  0.376593   \n",
       "\n",
       "                                                     HitK_50  \n",
       "PinSAGEAlgorithm(batch_size=1024,dropout=0.1,em...  0.569525  "
      ]
     },
     "execution_count": 25,
     "metadata": {},
     "output_type": "execute_result"
    }
   ],
   "source": [
    "pipeline.get_metrics()"
   ]
  },
  {
   "cell_type": "code",
   "execution_count": null,
   "id": "06eb89bb-82dc-4982-8025-327b4e25fddb",
   "metadata": {},
   "outputs": [],
   "source": []
  }
 ],
 "metadata": {
  "kernelspec": {
   "display_name": "Python 3 (ipykernel)",
   "language": "python",
   "name": "python3"
  },
  "language_info": {
   "codemirror_mode": {
    "name": "ipython",
    "version": 3
   },
   "file_extension": ".py",
   "mimetype": "text/x-python",
   "name": "python",
   "nbconvert_exporter": "python",
   "pygments_lexer": "ipython3",
   "version": "3.11.9"
  }
 },
 "nbformat": 4,
 "nbformat_minor": 5
}
