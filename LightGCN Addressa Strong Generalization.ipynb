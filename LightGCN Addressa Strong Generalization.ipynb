{
 "cells": [
  {
   "cell_type": "markdown",
   "id": "79721bfa-eda5-4e32-8ad1-fca732bb9f82",
   "metadata": {},
   "source": [
    "# LightGCN with AddressaOneWeek Dataset and StrongGeneralization Scenario"
   ]
  },
  {
   "cell_type": "markdown",
   "id": "1a6587e7-852a-4d26-a3d2-4460febe8030",
   "metadata": {},
   "source": [
    "In this notebook, the implementation of LightGCN in RecPack and the experimental part to generate the results of the algorithm will be presented. \n",
    "The notebook contains:\n",
    "1. The implementation of LightGCN in RecPack.\n",
    "2. The 10% of AddressaOneWeek Dataset from RecPack and the StrongGeneralization Scenario has been used to split the data.\n",
    "3. The StrongGeneralization Scenario to split the data.\n",
    "4. The RecPack Pipeline Builder to run the experiments, including the splitted dataset, the algorithms and metrics to run. Hyperparameter has been performed in the Pipeline.\n",
    "\n",
    "Please make sure you have installed all the latest libraries in your Python environment, in order to have a successful run of the code."
   ]
  },
  {
   "cell_type": "code",
   "execution_count": 1,
   "id": "1cde07fa-6d38-494d-b8e7-b8dcf83a0a08",
   "metadata": {},
   "outputs": [],
   "source": [
    "import torch\n",
    "from tqdm import tqdm"
   ]
  },
  {
   "cell_type": "code",
   "execution_count": 3,
   "id": "98de5207-1f90-441c-a7d0-4823af3ba234",
   "metadata": {},
   "outputs": [],
   "source": [
    "from torch_sparse import SparseTensor, matmul"
   ]
  },
  {
   "cell_type": "markdown",
   "id": "7ca2ced5-60c6-42f5-9573-707cad4b67c9",
   "metadata": {},
   "source": [
    "## LightGCN implementation in RecPack"
   ]
  },
  {
   "cell_type": "code",
   "execution_count": 4,
   "id": "5c7dc8a2-fbb5-4309-bb75-7274fd8fd280",
   "metadata": {},
   "outputs": [],
   "source": [
    "import torch\n",
    "import torch.nn as nn\n",
    "from torch_geometric.nn import MessagePassing\n",
    "from torch_geometric.utils import add_self_loops, degree\n",
    "import time\n",
    "from typing import List, Tuple, Optional\n",
    "from tqdm import tqdm\n",
    "from recpack.algorithms.base import TorchMLAlgorithm\n",
    "from recpack.matrix.interaction_matrix import InteractionMatrix\n",
    "from recpack.matrix import to_csr_matrix\n",
    "from recpack.algorithms.loss_functions import bpr_loss\n",
    "from recpack.algorithms.samplers import PositiveNegativeSampler\n",
    "from scipy.sparse import csr_matrix, lil_matrix\n",
    "import torch.optim as optim\n",
    "import logging\n",
    "\n",
    "# logger = logging.getLogger(__name__)\n",
    "\n",
    "# LightGCN model definition using MessagePassing from PyTorch Geometric\n",
    "class LightGCN(MessagePassing):\n",
    "    def __init__(self, num_users, num_items, embedding_dim=64, K=3, add_self_loops=False):\n",
    "        \"\"\"\n",
    "        Initialize the LightGCN model with user and item embeddings.\n",
    "\n",
    "        Args:\n",
    "            num_users (int): Number of users.\n",
    "            num_items (int): Number of items.\n",
    "            embedding_dim (int): Dimension of the embedding vectors.\n",
    "            K (int): Number of propagation layers.\n",
    "            add_self_loops (bool): Whether to add self-loops to the adjacency matrix.\n",
    "        \"\"\"\n",
    "        super(LightGCN, self).__init__(aggr='add')\n",
    "        self.num_users, self.num_items = num_users, num_items\n",
    "        self.embedding_dim, self.K = embedding_dim, K\n",
    "        self.add_self_loops = add_self_loops\n",
    "\n",
    "        # Initialize user and item embeddings\n",
    "        self.users_emb = nn.Embedding(num_embeddings=self.num_users, embedding_dim=self.embedding_dim)\n",
    "        self.items_emb = nn.Embedding(num_embeddings=self.num_items, embedding_dim=self.embedding_dim)\n",
    "\n",
    "        # Initialize embeddings with normal distribution\n",
    "        nn.init.normal_(self.users_emb.weight, std=0.1)\n",
    "        nn.init.normal_(self.items_emb.weight, std=0.1)\n",
    "\n",
    "    def forward(self, edge_index: SparseTensor):\n",
    "        \"\"\"\n",
    "        Forward pass for the LightGCN model.\n",
    "\n",
    "        Args:\n",
    "            edge_index (SparseTensor): Sparse tensor representing the adjacency matrix.\n",
    "\n",
    "        Returns:\n",
    "            Tuple: Final user and item embeddings after propagation, and the initial embeddings.\n",
    "        \"\"\"\n",
    "        if self.add_self_loops:\n",
    "            edge_index, _ = add_self_loops(edge_index, num_nodes=self.num_users + self.num_items)\n",
    "        \n",
    "        # Normalize the adjacency matrix\n",
    "        edge_index_norm = self.normalize_adj(edge_index)\n",
    "        \n",
    "        # Concatenate user and item embeddings\n",
    "        emb_0 = torch.cat([self.users_emb.weight, self.items_emb.weight])\n",
    "        embs = [emb_0]\n",
    "        emb_k = emb_0\n",
    "\n",
    "        # Perform K propagation steps\n",
    "        for i in range(self.K):\n",
    "            # Preventing CUDA/Library version error\n",
    "            try:\n",
    "                emb_k = self.propagate(edge_index_norm, x=emb_k)\n",
    "            except RuntimeError as e:\n",
    "                break\n",
    "            embs.append(emb_k)\n",
    "\n",
    "        # Stack and average embeddings from each propagation step\n",
    "        embs = torch.stack(embs, dim=1)\n",
    "        emb_final = torch.mean(embs, dim=1)\n",
    "\n",
    "        # Split the final embeddings back into user and item embeddings\n",
    "        users_emb_final, items_emb_final = torch.split(emb_final, [self.num_users, self.num_items])\n",
    "\n",
    "        return users_emb_final, self.users_emb.weight, items_emb_final, self.items_emb.weight\n",
    "\n",
    "    def message(self, x_j: torch.Tensor) -> torch.Tensor:\n",
    "        \"\"\"\n",
    "        Message function that aggregates messages from neighboring nodes.\n",
    "\n",
    "        Args:\n",
    "            x_j (torch.Tensor): Features of the neighboring nodes.\n",
    "\n",
    "        Returns:\n",
    "            torch.Tensor: Aggregated messages.\n",
    "        \"\"\"\n",
    "        return x_j\n",
    "\n",
    "    def message_and_aggregate(self, adj_t: SparseTensor, x: torch.Tensor) -> torch.Tensor:\n",
    "        \"\"\"\n",
    "        Message and aggregate function using matrix multiplication.\n",
    "\n",
    "        Args:\n",
    "            adj_t (SparseTensor): Transposed adjacency matrix.\n",
    "            x (torch.Tensor): Node features.\n",
    "\n",
    "        Returns:\n",
    "            torch.Tensor: Result of multiplying adjacency matrix with node features.\n",
    "        \"\"\"\n",
    "        return matmul(adj_t, x)\n",
    "\n",
    "    def normalize_adj(self, edge_index: SparseTensor) -> SparseTensor:\n",
    "        \"\"\"\n",
    "        Normalize the adjacency matrix.\n",
    "\n",
    "        Args:\n",
    "            edge_index (SparseTensor): Sparse tensor representing the adjacency matrix.\n",
    "\n",
    "        Returns:\n",
    "            SparseTensor: Normalized adjacency matrix.\n",
    "        \"\"\"\n",
    "        row, col, value = edge_index.coo()\n",
    "        row = row.long()  # Ensure indices are long type\n",
    "        col = col.long()  # Ensure indices are long type\n",
    "        deg = degree(row, num_nodes=edge_index.size(0), dtype=value.dtype)\n",
    "        deg_inv_sqrt = deg.pow(-0.5)\n",
    "        deg_inv_sqrt[deg_inv_sqrt == float('inf')] = 0\n",
    "        value = deg_inv_sqrt[row] * value * deg_inv_sqrt[col]\n",
    "        return SparseTensor(row=row, col=col, value=value, sparse_sizes=edge_index.sparse_sizes())"
   ]
  },
  {
   "cell_type": "code",
   "execution_count": 5,
   "id": "383f2777-5652-4d39-a111-9f8f71865f24",
   "metadata": {},
   "outputs": [],
   "source": [
    "from recpack.algorithms.base import TorchMLAlgorithm\n",
    "from recpack.matrix import Matrix\n",
    "from recpack.matrix.interaction_matrix import InteractionMatrix\n",
    "from recpack.algorithms.loss_functions import bpr_loss, bpr_max_loss\n",
    "from recpack.algorithms.samplers import PositiveNegativeSampler\n",
    "from recpack.algorithms.stopping_criterion import (\n",
    "    EarlyStoppingException,\n",
    "    StoppingCriterion,\n",
    ")\n",
    "from typing import List, Tuple, Optional\n",
    "import numpy as np\n",
    "from scipy.sparse import csr_matrix, lil_matrix, coo_matrix\n",
    "import torch\n",
    "import torch.optim as optim\n",
    "import tempfile\n",
    "import time\n",
    "import logging\n",
    "\n",
    "logger = logging.getLogger(__name__)\n",
    "\n",
    "# Implementation of the LightGCN algorithm using TorchMLAlgorithm as a base class\n",
    "class LightGCNAlgorithm(TorchMLAlgorithm):\n",
    "    def __init__(\n",
    "        self,\n",
    "        batch_size: int = 256,\n",
    "        max_epochs: int = 100,\n",
    "        learning_rate: float = 0.001,\n",
    "        embedding_dim: int = 64,\n",
    "        n_layers: int = 3,\n",
    "        reg_weight: float = 1e-5,\n",
    "        stopping_criterion: str = \"bpr\",\n",
    "        stop_early: bool = True,\n",
    "        max_iter_no_change: int = 5,\n",
    "        min_improvement: float = 0.01,\n",
    "        seed: Optional[int] = None,\n",
    "        save_best_to_file: bool = False,\n",
    "        keep_last: bool = False,\n",
    "        predict_topK: Optional[int] = None,\n",
    "        validation_sample_size: Optional[int] = None,\n",
    "    ):\n",
    "        \"\"\"\n",
    "        Initialize the LightGCNAlgorithm with various hyperparameters.\n",
    "\n",
    "        Args:\n",
    "            batch_size (int): Number of samples per batch.\n",
    "            max_epochs (int): Maximum number of training epochs.\n",
    "            learning_rate (float): Learning rate for the optimizer.\n",
    "            embedding_dim (int): Dimension of the embedding vectors.\n",
    "            n_layers (int): Number of LightGCN layers.\n",
    "            reg_weight (float): Regularization weight.\n",
    "            stopping_criterion (str): Criterion to stop training early.\n",
    "            stop_early (bool): Whether to enable early stopping.\n",
    "            max_iter_no_change (int): Maximum iterations with no improvement for early stopping.\n",
    "            min_improvement (float): Minimum improvement required for early stopping.\n",
    "            seed (Optional[int]): Random seed for reproducibility.\n",
    "            save_best_to_file (bool): Whether to save the best model to a file.\n",
    "            keep_last (bool): Whether to keep the last model.\n",
    "            predict_topK (Optional[int]): Number of top-K predictions to consider.\n",
    "            validation_sample_size (Optional[int]): Size of the validation sample.\n",
    "        \"\"\"\n",
    "        self.embedding_dim = embedding_dim\n",
    "        self.n_layers = n_layers\n",
    "        self.reg_weight = reg_weight\n",
    "        super().__init__(\n",
    "            batch_size=batch_size,\n",
    "            max_epochs=max_epochs,\n",
    "            learning_rate=learning_rate,\n",
    "            stopping_criterion=stopping_criterion,\n",
    "            stop_early=stop_early,\n",
    "            max_iter_no_change=max_iter_no_change,\n",
    "            min_improvement=min_improvement,\n",
    "            seed=seed,\n",
    "            save_best_to_file=save_best_to_file,\n",
    "            keep_last=keep_last,\n",
    "            predict_topK=predict_topK,\n",
    "            validation_sample_size=validation_sample_size,\n",
    "        )\n",
    "        self.device = torch.device('cuda' if torch.cuda.is_available() else 'cpu')\n",
    "\n",
    "    def _init_model(self, train: InteractionMatrix) -> None:\n",
    "        \"\"\"\n",
    "        Initialize the LightGCN model and optimizer.\n",
    "\n",
    "        Args:\n",
    "            train (InteractionMatrix): The training interaction matrix.\n",
    "        \"\"\"\n",
    "        num_users, num_items = train.shape\n",
    "        self.model_ = LightGCN(num_users, num_items, self.embedding_dim, self.n_layers).to(self.device)\n",
    "        self.optimizer = optim.Adam(self.model_.parameters(), lr=self.learning_rate)\n",
    "\n",
    "    def _create_sparse_graph(self, interaction_matrix: csr_matrix, num_users: int, num_items: int) -> SparseTensor:\n",
    "        \"\"\"\n",
    "        Create a sparse graph from the interaction matrix.\n",
    "\n",
    "        Args:\n",
    "            interaction_matrix (csr_matrix): The interaction matrix in CSR format.\n",
    "            num_users (int): Number of users.\n",
    "            num_items (int): Number of items.\n",
    "\n",
    "        Returns:\n",
    "            SparseTensor: A sparse tensor representing the graph.\n",
    "        \"\"\"\n",
    "        coo = interaction_matrix.tocoo()\n",
    "        row = torch.tensor(coo.row, dtype=torch.long)\n",
    "        col = torch.tensor(coo.col, dtype=torch.long)\n",
    "        value = torch.tensor(coo.data, dtype=torch.float32)\n",
    "        print(f\"Graph - Rows: {row.shape}, Cols: {col.shape}, Values: {value.shape}\")  # Debugging information\n",
    "        return SparseTensor(row=row, col=col, value=value, sparse_sizes=(num_users + num_items, num_users + num_items)).to(self.device)\n",
    "\n",
    "    def _train_epoch(self, train: csr_matrix) -> List[float]:\n",
    "        \"\"\"\n",
    "        Train the model for one epoch.\n",
    "\n",
    "        Args:\n",
    "            train (csr_matrix): The training interaction matrix.\n",
    "\n",
    "        Returns:\n",
    "            List[float]: A list of losses for each batch.\n",
    "        \"\"\"\n",
    "        self.model_.train()\n",
    "        graph = self._create_sparse_graph(train, train.shape[0], train.shape[1]).to(self.device)\n",
    "        total_loss = 0\n",
    "        losses = []\n",
    "\n",
    "        sampler = PositiveNegativeSampler(num_negatives=1, batch_size=self.batch_size)\n",
    "\n",
    "        for user_indices, pos_item_indices, neg_item_indices in sampler.sample(train):\n",
    "            user_indices = torch.tensor(user_indices).to(self.device)\n",
    "            pos_item_indices = torch.tensor(pos_item_indices).to(self.device)\n",
    "            neg_item_indices = torch.tensor(neg_item_indices).to(self.device).squeeze()\n",
    "\n",
    "            self.optimizer.zero_grad()\n",
    "            users_emb_final, _, items_emb_final, _ = self.model_(graph)  # Call model only once\n",
    "            pos_scores = users_emb_final[user_indices] @ items_emb_final[pos_item_indices].t()\n",
    "            neg_scores = users_emb_final[user_indices] @ items_emb_final[neg_item_indices].t()\n",
    "\n",
    "            loss = bpr_loss(pos_scores, neg_scores)\n",
    "\n",
    "            if torch.isnan(loss).any() or torch.isinf(loss).any():\n",
    "                continue\n",
    "\n",
    "            loss.backward()\n",
    "            torch.nn.utils.clip_grad_norm_(self.model_.parameters(), max_norm=1.0)  # Gradient clipping\n",
    "            self.optimizer.step()\n",
    "\n",
    "            total_loss += loss.item()\n",
    "            losses.append(loss.item())\n",
    "\n",
    "        if len(losses) == 0:\n",
    "            return [float('nan')]\n",
    "\n",
    "        return losses\n",
    "\n",
    "    def _batch_predict(self, X: csr_matrix, users: List[int]) -> csr_matrix:\n",
    "        \"\"\"\n",
    "        Make batch predictions for a list of users.\n",
    "\n",
    "        Args:\n",
    "            X (csr_matrix): The interaction matrix.\n",
    "            users (List[int]): List of user indices to make predictions for.\n",
    "\n",
    "        Returns:\n",
    "            csr_matrix: A sparse matrix with the prediction scores.\n",
    "        \"\"\"\n",
    "        self.model_.eval()\n",
    "        graph = self._create_sparse_graph(X, X.shape[0], X.shape[1]).to(self.device)\n",
    "        user_indices = torch.tensor(users).to(self.device)\n",
    "        item_indices = torch.arange(X.shape[1]).to(self.device)\n",
    "        \n",
    "        with torch.no_grad():\n",
    "            user_emb_final, _, item_emb_final, _ = self.model_(graph)\n",
    "            scores = user_emb_final[user_indices] @ item_emb_final.t()\n",
    "            scores = scores.cpu().numpy()\n",
    "        \n",
    "        result = lil_matrix((X.shape[0], X.shape[1]))\n",
    "        for i, user in enumerate(users):\n",
    "            result[user] = scores[i]\n",
    "        \n",
    "        return result.tocsr()\n",
    "\n",
    "    def fit(self, X: csr_matrix, validation_data: tuple):\n",
    "        \"\"\"\n",
    "        Fit the model to the training data.\n",
    "\n",
    "        Args:\n",
    "            X (csr_matrix): The training interaction matrix.\n",
    "            validation_data (tuple): Validation data used for early stopping.\n",
    "        \"\"\"\n",
    "        super().fit(X, validation_data)"
   ]
  },
  {
   "cell_type": "code",
   "execution_count": 6,
   "id": "e87fd90c-f8ae-4fcc-a455-90fb8f2335c2",
   "metadata": {},
   "outputs": [],
   "source": [
    "from recpack.datasets import Netflix, DummyDataset\n",
    "from recpack.pipelines import PipelineBuilder\n",
    "from recpack.scenarios import StrongGeneralization, TimedLastItemPrediction, WeakGeneralization\n",
    "from recpack.pipelines import ALGORITHM_REGISTRY\n",
    "import pandas as pd"
   ]
  },
  {
   "cell_type": "code",
   "execution_count": 7,
   "id": "03a047ff-a58e-4ffb-bb09-247622834b08",
   "metadata": {},
   "outputs": [],
   "source": [
    "ALGORITHM_REGISTRY.register(\"LightGCNAlgorithm1\", LightGCNAlgorithm)"
   ]
  },
  {
   "cell_type": "markdown",
   "id": "ad5c917c-cfe1-465d-bad2-901e284e9852",
   "metadata": {},
   "source": [
    "## RecPack Dataset Importing"
   ]
  },
  {
   "cell_type": "code",
   "execution_count": 8,
   "id": "288305e2-e570-4286-8468-c902e9d7ca25",
   "metadata": {},
   "outputs": [],
   "source": [
    "from recpack.datasets import AdressaOneWeek\n",
    "dataset = AdressaOneWeek()"
   ]
  },
  {
   "cell_type": "code",
   "execution_count": 9,
   "id": "9c73499f-1c14-4241-a0bd-e3412b4efd34",
   "metadata": {},
   "outputs": [],
   "source": [
    "dataset.fetch_dataset()"
   ]
  },
  {
   "cell_type": "code",
   "execution_count": 10,
   "id": "25bb2d15-0f4f-4142-8d5d-e06a6ea3c024",
   "metadata": {},
   "outputs": [
    {
     "data": {
      "text/plain": [
       "<recpack.datasets.adressa.AdressaOneWeek at 0x7f9e34d9a550>"
      ]
     },
     "execution_count": 10,
     "metadata": {},
     "output_type": "execute_result"
    }
   ],
   "source": [
    "dataset"
   ]
  },
  {
   "cell_type": "code",
   "execution_count": 11,
   "id": "a290f199-0a3d-4c2b-bc30-c82b5254ab34",
   "metadata": {},
   "outputs": [],
   "source": [
    "df = dataset._load_dataframe()\n",
    "#df = dataset.load()"
   ]
  },
  {
   "cell_type": "markdown",
   "id": "29c62813-2e27-4462-acad-ee013b3fd860",
   "metadata": {},
   "source": [
    "## Datasets with Timestamps sampling"
   ]
  },
  {
   "cell_type": "code",
   "execution_count": 12,
   "id": "66ac1379-2266-4bec-b6d3-9cf22c1aaedf",
   "metadata": {},
   "outputs": [],
   "source": [
    "timestamp_counts = df['click_timestamp'].value_counts().sort_index(ascending=False)\n",
    "cumulative_counts = timestamp_counts.cumsum()\n",
    "total_counts = cumulative_counts.max()\n",
    "threshold_count = total_counts * 0.1\n",
    "threshold_timestamp = cumulative_counts[cumulative_counts >= threshold_count].index[0]"
   ]
  },
  {
   "cell_type": "code",
   "execution_count": 13,
   "id": "a8b54ee9-8024-4d18-89c8-7858f45d7906",
   "metadata": {},
   "outputs": [],
   "source": [
    "filtered_df = df[df['time'] >= threshold_timestamp]"
   ]
  },
  {
   "cell_type": "code",
   "execution_count": 20,
   "id": "877cfa8a-c9d3-4436-8a74-5009b026f266",
   "metadata": {},
   "outputs": [
    {
     "data": {
      "text/html": [
       "<div>\n",
       "<style scoped>\n",
       "    .dataframe tbody tr th:only-of-type {\n",
       "        vertical-align: middle;\n",
       "    }\n",
       "\n",
       "    .dataframe tbody tr th {\n",
       "        vertical-align: top;\n",
       "    }\n",
       "\n",
       "    .dataframe thead th {\n",
       "        text-align: right;\n",
       "    }\n",
       "</style>\n",
       "<table border=\"1\" class=\"dataframe\">\n",
       "  <thead>\n",
       "    <tr style=\"text-align: right;\">\n",
       "      <th></th>\n",
       "      <th>userId</th>\n",
       "      <th>id</th>\n",
       "      <th>time</th>\n",
       "    </tr>\n",
       "  </thead>\n",
       "  <tbody>\n",
       "    <tr>\n",
       "      <th>0</th>\n",
       "      <td>cx:2fs9x8i7jvcjyckoxqfa6l4lw:3rr1gvpcbzx8w</td>\n",
       "      <td>9f3999bd1a1a8d67bcb073ad54840f15cb30f014</td>\n",
       "      <td>1483225202</td>\n",
       "    </tr>\n",
       "    <tr>\n",
       "      <th>1</th>\n",
       "      <td>cx:2u0wp23pfgjcc12gorbv6mp6tp:1l4jele4s191</td>\n",
       "      <td>f21680b77830223807e4847b3307e6ffa1e175ed</td>\n",
       "      <td>1483225203</td>\n",
       "    </tr>\n",
       "    <tr>\n",
       "      <th>2</th>\n",
       "      <td>cx:kfubh0ub7g8z3g5mgndoaljqd:1w4rvohza6x7d</td>\n",
       "      <td>2607fc7d7b4c0ede839a5ff6d499fa428237443e</td>\n",
       "      <td>1483225203</td>\n",
       "    </tr>\n",
       "    <tr>\n",
       "      <th>3</th>\n",
       "      <td>cx:hua808o791zl6cx9:3s9kdckn8su34</td>\n",
       "      <td>68d1503c73ad169dcfff48214fd0274c4d612e63</td>\n",
       "      <td>1483225204</td>\n",
       "    </tr>\n",
       "    <tr>\n",
       "      <th>4</th>\n",
       "      <td>cx:1s8dobcz77bgl3jozo9wdodu0t:2h45sh9wqlrpp</td>\n",
       "      <td>68d1503c73ad169dcfff48214fd0274c4d612e63</td>\n",
       "      <td>1483225207</td>\n",
       "    </tr>\n",
       "    <tr>\n",
       "      <th>...</th>\n",
       "      <td>...</td>\n",
       "      <td>...</td>\n",
       "      <td>...</td>\n",
       "    </tr>\n",
       "    <tr>\n",
       "      <th>3101986</th>\n",
       "      <td>cx:9k87jvj35ts82aloy49wfxosg:952wl4r7sedv</td>\n",
       "      <td>d26dae18a47ee499c4aaca4a9b6017f1b5b1da13</td>\n",
       "      <td>1483830000</td>\n",
       "    </tr>\n",
       "    <tr>\n",
       "      <th>3101987</th>\n",
       "      <td>cx:ikird5ho7t08hlc6:2n6k9bd2ntk6v</td>\n",
       "      <td>8a3d76e1d7452ce38ae70fe900a9952be4305c63</td>\n",
       "      <td>1483830000</td>\n",
       "    </tr>\n",
       "    <tr>\n",
       "      <th>3101988</th>\n",
       "      <td>cx:2ry3bd6yl2fbb3mq9zs5cl4zvc:9oicxykjoyvo</td>\n",
       "      <td>faa8cc5200499acbf0f23f6b8e8f78b2b55d2c60</td>\n",
       "      <td>1483830001</td>\n",
       "    </tr>\n",
       "    <tr>\n",
       "      <th>3101989</th>\n",
       "      <td>cx:3c83unb96kkua3kw8jnflgge0n:1au0d7qhme3j5</td>\n",
       "      <td>4d44e61d966ed5a2c8b70a95eb9948aa2a10696f</td>\n",
       "      <td>1483830001</td>\n",
       "    </tr>\n",
       "    <tr>\n",
       "      <th>3101990</th>\n",
       "      <td>cx:iolu0een5wf8whla:1gtj0r7yyqtm8</td>\n",
       "      <td>64ae4a1db60e066701aa444bc0af2f8f3dbcda3f</td>\n",
       "      <td>1483830001</td>\n",
       "    </tr>\n",
       "  </tbody>\n",
       "</table>\n",
       "<p>3101991 rows × 3 columns</p>\n",
       "</div>"
      ],
      "text/plain": [
       "                                              userId  \\\n",
       "0         cx:2fs9x8i7jvcjyckoxqfa6l4lw:3rr1gvpcbzx8w   \n",
       "1         cx:2u0wp23pfgjcc12gorbv6mp6tp:1l4jele4s191   \n",
       "2         cx:kfubh0ub7g8z3g5mgndoaljqd:1w4rvohza6x7d   \n",
       "3                  cx:hua808o791zl6cx9:3s9kdckn8su34   \n",
       "4        cx:1s8dobcz77bgl3jozo9wdodu0t:2h45sh9wqlrpp   \n",
       "...                                              ...   \n",
       "3101986    cx:9k87jvj35ts82aloy49wfxosg:952wl4r7sedv   \n",
       "3101987            cx:ikird5ho7t08hlc6:2n6k9bd2ntk6v   \n",
       "3101988   cx:2ry3bd6yl2fbb3mq9zs5cl4zvc:9oicxykjoyvo   \n",
       "3101989  cx:3c83unb96kkua3kw8jnflgge0n:1au0d7qhme3j5   \n",
       "3101990            cx:iolu0een5wf8whla:1gtj0r7yyqtm8   \n",
       "\n",
       "                                               id        time  \n",
       "0        9f3999bd1a1a8d67bcb073ad54840f15cb30f014  1483225202  \n",
       "1        f21680b77830223807e4847b3307e6ffa1e175ed  1483225203  \n",
       "2        2607fc7d7b4c0ede839a5ff6d499fa428237443e  1483225203  \n",
       "3        68d1503c73ad169dcfff48214fd0274c4d612e63  1483225204  \n",
       "4        68d1503c73ad169dcfff48214fd0274c4d612e63  1483225207  \n",
       "...                                           ...         ...  \n",
       "3101986  d26dae18a47ee499c4aaca4a9b6017f1b5b1da13  1483830000  \n",
       "3101987  8a3d76e1d7452ce38ae70fe900a9952be4305c63  1483830000  \n",
       "3101988  faa8cc5200499acbf0f23f6b8e8f78b2b55d2c60  1483830001  \n",
       "3101989  4d44e61d966ed5a2c8b70a95eb9948aa2a10696f  1483830001  \n",
       "3101990  64ae4a1db60e066701aa444bc0af2f8f3dbcda3f  1483830001  \n",
       "\n",
       "[3101991 rows x 3 columns]"
      ]
     },
     "execution_count": 20,
     "metadata": {},
     "output_type": "execute_result"
    }
   ],
   "source": [
    "df"
   ]
  },
  {
   "cell_type": "code",
   "execution_count": 21,
   "id": "75315c82-bb45-4090-8d92-87e16d42f204",
   "metadata": {},
   "outputs": [
    {
     "data": {
      "text/html": [
       "<div>\n",
       "<style scoped>\n",
       "    .dataframe tbody tr th:only-of-type {\n",
       "        vertical-align: middle;\n",
       "    }\n",
       "\n",
       "    .dataframe tbody tr th {\n",
       "        vertical-align: top;\n",
       "    }\n",
       "\n",
       "    .dataframe thead th {\n",
       "        text-align: right;\n",
       "    }\n",
       "</style>\n",
       "<table border=\"1\" class=\"dataframe\">\n",
       "  <thead>\n",
       "    <tr style=\"text-align: right;\">\n",
       "      <th></th>\n",
       "      <th>userId</th>\n",
       "      <th>id</th>\n",
       "      <th>time</th>\n",
       "    </tr>\n",
       "  </thead>\n",
       "  <tbody>\n",
       "    <tr>\n",
       "      <th>2791789</th>\n",
       "      <td>cx:2ren7oax3ikx1126uc6379p1m1:1ilgu73jr9354</td>\n",
       "      <td>9da08a8be1d6cf85b0c7cd3f40b774cba66960b8</td>\n",
       "      <td>1483745358</td>\n",
       "    </tr>\n",
       "    <tr>\n",
       "      <th>2791790</th>\n",
       "      <td>cx:13573746954421111340278:21n4bwo3o22w3</td>\n",
       "      <td>f28b18132dfe141356c778b1909f13fcded3c613</td>\n",
       "      <td>1483745358</td>\n",
       "    </tr>\n",
       "    <tr>\n",
       "      <th>2791791</th>\n",
       "      <td>cx:ehi4yx5vak421bv2uzvm0hz9m:2tfkglwogbje9</td>\n",
       "      <td>bb8ff8365233ea91dfcdb36fdd84f87fcc33e1a8</td>\n",
       "      <td>1483745358</td>\n",
       "    </tr>\n",
       "    <tr>\n",
       "      <th>2791792</th>\n",
       "      <td>cx:imiu917sfw8scsba:2b3kfu5odsixi</td>\n",
       "      <td>9de2fd10200602037cc938b038a0f7d3d5f8fb76</td>\n",
       "      <td>1483745359</td>\n",
       "    </tr>\n",
       "    <tr>\n",
       "      <th>2791793</th>\n",
       "      <td>cx:hu9xqbxb2q1op1a2:2bvkrtdex7gri</td>\n",
       "      <td>17a7ea777cb261130668d4314b1591f3767cd090</td>\n",
       "      <td>1483745359</td>\n",
       "    </tr>\n",
       "    <tr>\n",
       "      <th>...</th>\n",
       "      <td>...</td>\n",
       "      <td>...</td>\n",
       "      <td>...</td>\n",
       "    </tr>\n",
       "    <tr>\n",
       "      <th>3101986</th>\n",
       "      <td>cx:9k87jvj35ts82aloy49wfxosg:952wl4r7sedv</td>\n",
       "      <td>d26dae18a47ee499c4aaca4a9b6017f1b5b1da13</td>\n",
       "      <td>1483830000</td>\n",
       "    </tr>\n",
       "    <tr>\n",
       "      <th>3101987</th>\n",
       "      <td>cx:ikird5ho7t08hlc6:2n6k9bd2ntk6v</td>\n",
       "      <td>8a3d76e1d7452ce38ae70fe900a9952be4305c63</td>\n",
       "      <td>1483830000</td>\n",
       "    </tr>\n",
       "    <tr>\n",
       "      <th>3101988</th>\n",
       "      <td>cx:2ry3bd6yl2fbb3mq9zs5cl4zvc:9oicxykjoyvo</td>\n",
       "      <td>faa8cc5200499acbf0f23f6b8e8f78b2b55d2c60</td>\n",
       "      <td>1483830001</td>\n",
       "    </tr>\n",
       "    <tr>\n",
       "      <th>3101989</th>\n",
       "      <td>cx:3c83unb96kkua3kw8jnflgge0n:1au0d7qhme3j5</td>\n",
       "      <td>4d44e61d966ed5a2c8b70a95eb9948aa2a10696f</td>\n",
       "      <td>1483830001</td>\n",
       "    </tr>\n",
       "    <tr>\n",
       "      <th>3101990</th>\n",
       "      <td>cx:iolu0een5wf8whla:1gtj0r7yyqtm8</td>\n",
       "      <td>64ae4a1db60e066701aa444bc0af2f8f3dbcda3f</td>\n",
       "      <td>1483830001</td>\n",
       "    </tr>\n",
       "  </tbody>\n",
       "</table>\n",
       "<p>310202 rows × 3 columns</p>\n",
       "</div>"
      ],
      "text/plain": [
       "                                              userId  \\\n",
       "2791789  cx:2ren7oax3ikx1126uc6379p1m1:1ilgu73jr9354   \n",
       "2791790     cx:13573746954421111340278:21n4bwo3o22w3   \n",
       "2791791   cx:ehi4yx5vak421bv2uzvm0hz9m:2tfkglwogbje9   \n",
       "2791792            cx:imiu917sfw8scsba:2b3kfu5odsixi   \n",
       "2791793            cx:hu9xqbxb2q1op1a2:2bvkrtdex7gri   \n",
       "...                                              ...   \n",
       "3101986    cx:9k87jvj35ts82aloy49wfxosg:952wl4r7sedv   \n",
       "3101987            cx:ikird5ho7t08hlc6:2n6k9bd2ntk6v   \n",
       "3101988   cx:2ry3bd6yl2fbb3mq9zs5cl4zvc:9oicxykjoyvo   \n",
       "3101989  cx:3c83unb96kkua3kw8jnflgge0n:1au0d7qhme3j5   \n",
       "3101990            cx:iolu0een5wf8whla:1gtj0r7yyqtm8   \n",
       "\n",
       "                                               id        time  \n",
       "2791789  9da08a8be1d6cf85b0c7cd3f40b774cba66960b8  1483745358  \n",
       "2791790  f28b18132dfe141356c778b1909f13fcded3c613  1483745358  \n",
       "2791791  bb8ff8365233ea91dfcdb36fdd84f87fcc33e1a8  1483745358  \n",
       "2791792  9de2fd10200602037cc938b038a0f7d3d5f8fb76  1483745359  \n",
       "2791793  17a7ea777cb261130668d4314b1591f3767cd090  1483745359  \n",
       "...                                           ...         ...  \n",
       "3101986  d26dae18a47ee499c4aaca4a9b6017f1b5b1da13  1483830000  \n",
       "3101987  8a3d76e1d7452ce38ae70fe900a9952be4305c63  1483830000  \n",
       "3101988  faa8cc5200499acbf0f23f6b8e8f78b2b55d2c60  1483830001  \n",
       "3101989  4d44e61d966ed5a2c8b70a95eb9948aa2a10696f  1483830001  \n",
       "3101990  64ae4a1db60e066701aa444bc0af2f8f3dbcda3f  1483830001  \n",
       "\n",
       "[310202 rows x 3 columns]"
      ]
     },
     "execution_count": 21,
     "metadata": {},
     "output_type": "execute_result"
    }
   ],
   "source": [
    "filtered_df"
   ]
  },
  {
   "cell_type": "markdown",
   "id": "70b2b8d6-e7a3-4345-aa30-9ff11f01ef65",
   "metadata": {},
   "source": [
    "## Dataset Preprocessing to Interaction Matrix"
   ]
  },
  {
   "cell_type": "code",
   "execution_count": 14,
   "id": "28b3aa70-98ce-4bd8-9888-904495d7f8e5",
   "metadata": {},
   "outputs": [
    {
     "data": {
      "application/vnd.jupyter.widget-view+json": {
       "model_id": "46f99611581f475eb9809d07c3ed6467",
       "version_major": 2,
       "version_minor": 0
      },
      "text/plain": [
       "  0%|          | 0/310202 [00:00<?, ?it/s]"
      ]
     },
     "metadata": {},
     "output_type": "display_data"
    },
    {
     "data": {
      "application/vnd.jupyter.widget-view+json": {
       "model_id": "21d5f35230fa4c09b72cc379accf2aa8",
       "version_major": 2,
       "version_minor": 0
      },
      "text/plain": [
       "  0%|          | 0/310202 [00:00<?, ?it/s]"
      ]
     },
     "metadata": {},
     "output_type": "display_data"
    }
   ],
   "source": [
    "from recpack.matrix import InteractionMatrix\n",
    "from recpack.preprocessing.preprocessors import DataFramePreprocessor\n",
    "\n",
    "item_ix = 'id'\n",
    "user_ix = 'userId'\n",
    "timestamp_ix = 'time'\n",
    "\n",
    "preprocessor = DataFramePreprocessor(item_ix=item_ix, user_ix=user_ix, timestamp_ix=timestamp_ix)\n",
    "\n",
    "interaction_matrix = preprocessor.process(filtered_df)"
   ]
  },
  {
   "cell_type": "markdown",
   "id": "3c2b74d8-3e92-4ca4-904d-8738270131c6",
   "metadata": {},
   "source": [
    "## StrongGeneralization Scenario Splitting of Data"
   ]
  },
  {
   "cell_type": "code",
   "execution_count": 23,
   "id": "73d22b62-213c-4ac4-9346-70414e7c39db",
   "metadata": {},
   "outputs": [
    {
     "data": {
      "text/plain": [
       "(array([13123.,  3503.,  5846., 29171., 35780., 42317., 45759., 47552.,\n",
       "        38200., 48951.]),\n",
       " array([1.48374536e+09, 1.48375382e+09, 1.48376229e+09, 1.48377075e+09,\n",
       "        1.48377922e+09, 1.48378768e+09, 1.48379614e+09, 1.48380461e+09,\n",
       "        1.48381307e+09, 1.48382154e+09, 1.48383000e+09]),\n",
       " <BarContainer object of 10 artists>)"
      ]
     },
     "execution_count": 23,
     "metadata": {},
     "output_type": "execute_result"
    },
    {
     "data": {
      "image/png": "[encoded data removed]",
      "text/plain": [
       "<Figure size 640x480 with 1 Axes>"
      ]
     },
     "metadata": {},
     "output_type": "display_data"
    }
   ],
   "source": [
    "import matplotlib.pyplot as plt\n",
    "plt.hist(interaction_matrix.timestamps.values)"
   ]
  },
  {
   "cell_type": "code",
   "execution_count": 15,
   "id": "aa72bb09-e745-4c5f-b4b3-88785f8a96b1",
   "metadata": {},
   "outputs": [
    {
     "data": {
      "application/vnd.jupyter.widget-view+json": {
       "model_id": "19bdf569d1e5409b8fc6c80044144513",
       "version_major": 2,
       "version_minor": 0
      },
      "text/plain": [
       "0it [00:00, ?it/s]"
      ]
     },
     "metadata": {},
     "output_type": "display_data"
    },
    {
     "data": {
      "application/vnd.jupyter.widget-view+json": {
       "model_id": "c964f464fdc14b8a8015ea3be417caa2",
       "version_major": 2,
       "version_minor": 0
      },
      "text/plain": [
       "0it [00:00, ?it/s]"
      ]
     },
     "metadata": {},
     "output_type": "display_data"
    }
   ],
   "source": [
    "scenario = StrongGeneralization(frac_users_train=0.8, frac_interactions_in=0.8, validation=True)\n",
    "scenario.split(interaction_matrix)"
   ]
  },
  {
   "cell_type": "markdown",
   "id": "274cdb24-c8ba-4a88-9e92-1e79ccf75466",
   "metadata": {},
   "source": [
    "## Experimental RecPack Pipeline"
   ]
  },
  {
   "cell_type": "code",
   "execution_count": 16,
   "id": "40f6a5b5-4f21-49ee-a96e-f7e375031134",
   "metadata": {
    "scrolled": true
   },
   "outputs": [
    {
     "name": "stderr",
     "output_type": "stream",
     "text": [
      "/opt/conda/lib/python3.11/site-packages/recpack/pipelines/pipeline_builder.py:145: UserWarning: Grid parameter for add_algorithm function will be deprecated in favour of optimisation_info.\n",
      "  warnings.warn(\n"
     ]
    },
    {
     "data": {
      "application/vnd.jupyter.widget-view+json": {
       "model_id": "89a8bd9259944adc8310817b4689d2d7",
       "version_major": 2,
       "version_minor": 0
      },
      "text/plain": [
       "  0%|          | 0/1 [00:00<?, ?it/s]"
      ]
     },
     "metadata": {},
     "output_type": "display_data"
    },
    {
     "name": "stderr",
     "output_type": "stream",
     "text": [
      "/tmp/ipykernel_35554/4206860820.py:81: UserWarning: To copy construct from a tensor, it is recommended to use sourceTensor.clone().detach() or sourceTensor.clone().detach().requires_grad_(True), rather than torch.tensor(sourceTensor).\n",
      "  user_indices = torch.tensor(user_indices).to(self.device)\n",
      "/tmp/ipykernel_35554/4206860820.py:82: UserWarning: To copy construct from a tensor, it is recommended to use sourceTensor.clone().detach() or sourceTensor.clone().detach().requires_grad_(True), rather than torch.tensor(sourceTensor).\n",
      "  pos_item_indices = torch.tensor(pos_item_indices).to(self.device)\n",
      "/tmp/ipykernel_35554/4206860820.py:83: UserWarning: To copy construct from a tensor, it is recommended to use sourceTensor.clone().detach() or sourceTensor.clone().detach().requires_grad_(True), rather than torch.tensor(sourceTensor).\n",
      "  neg_item_indices = torch.tensor(neg_item_indices).to(self.device).squeeze()\n"
     ]
    },
    {
     "name": "stdout",
     "output_type": "stream",
     "text": [
      "2024-08-05 11:18:11,767 - base - recpack - INFO - Processed epoch 0 in 4.59 s.Batch Training Loss = 0.1331\n",
      "2024-08-05 11:18:24,473 - stopping_criterion - recpack - INFO - StoppingCriterion has value 0.6917991839067352, which is better than previous iterations.\n",
      "2024-08-05 11:18:24,474 - base - recpack - INFO - Model improved. Storing better model.\n",
      "2024-08-05 11:18:24,553 - base - recpack - INFO - Evaluation at end of 0 took 12.78 s.\n",
      "2024-08-05 11:18:27,733 - base - recpack - INFO - Processed epoch 1 in 3.18 s.Batch Training Loss = 0.1117\n",
      "2024-08-05 11:18:39,624 - stopping_criterion - recpack - INFO - StoppingCriterion has value 0.6988482203672518, which is worse than previous iterations.\n",
      "2024-08-05 11:18:39,626 - base - recpack - INFO - Evaluation at end of 1 took 11.89 s.\n",
      "2024-08-05 11:18:42,585 - base - recpack - INFO - Processed epoch 2 in 2.96 s.Batch Training Loss = 0.0948\n",
      "2024-08-05 11:18:54,472 - stopping_criterion - recpack - INFO - StoppingCriterion has value 0.6979935747723739, which is worse than previous iterations.\n",
      "2024-08-05 11:18:54,474 - base - recpack - INFO - Evaluation at end of 2 took 11.89 s.\n",
      "2024-08-05 11:18:57,832 - base - recpack - INFO - Processed epoch 3 in 3.36 s.Batch Training Loss = 0.0742\n",
      "2024-08-05 11:19:10,519 - stopping_criterion - recpack - INFO - StoppingCriterion has value 0.6925444776568668, which is worse than previous iterations.\n",
      "2024-08-05 11:19:10,520 - base - recpack - INFO - Evaluation at end of 3 took 12.69 s.\n",
      "2024-08-05 11:19:13,761 - base - recpack - INFO - Processed epoch 4 in 3.24 s.Batch Training Loss = 0.0588\n",
      "2024-08-05 11:19:25,430 - stopping_criterion - recpack - INFO - StoppingCriterion has value 0.6967452883982311, which is worse than previous iterations.\n",
      "2024-08-05 11:19:25,432 - base - recpack - INFO - Evaluation at end of 4 took 11.67 s.\n",
      "2024-08-05 11:19:25,475 - base - recpack - INFO - Fitting LightGCNAlgorithm complete - Took 79.7s\n"
     ]
    },
    {
     "name": "stderr",
     "output_type": "stream",
     "text": [
      "/opt/conda/lib/python3.11/site-packages/recpack/algorithms/base.py:509: FutureWarning: You are using `torch.load` with `weights_only=False` (the current default value), which uses the default pickle module implicitly. It is possible to construct malicious pickle data which will execute arbitrary code during unpickling (See https://github.com/pytorch/pytorch/blob/main/SECURITY.md#untrusted-models for more details). In a future release, the default value for `weights_only` will be flipped to `True`. This limits the functions that could be executed during unpickling. Arbitrary objects will no longer be allowed to be loaded via this mode unless they are explicitly allowlisted by the user via `torch.serialization.add_safe_globals`. We recommend you start setting `weights_only=True` for any use case where you don't have full control of the loaded file. Please open an issue on GitHub for any issues related to this experimental feature.\n",
      "  self.model_ = torch.load(self.best_model)\n",
      "/tmp/ipykernel_35554/4206860820.py:81: UserWarning: To copy construct from a tensor, it is recommended to use sourceTensor.clone().detach() or sourceTensor.clone().detach().requires_grad_(True), rather than torch.tensor(sourceTensor).\n",
      "  user_indices = torch.tensor(user_indices).to(self.device)\n",
      "/tmp/ipykernel_35554/4206860820.py:82: UserWarning: To copy construct from a tensor, it is recommended to use sourceTensor.clone().detach() or sourceTensor.clone().detach().requires_grad_(True), rather than torch.tensor(sourceTensor).\n",
      "  pos_item_indices = torch.tensor(pos_item_indices).to(self.device)\n",
      "/tmp/ipykernel_35554/4206860820.py:83: UserWarning: To copy construct from a tensor, it is recommended to use sourceTensor.clone().detach() or sourceTensor.clone().detach().requires_grad_(True), rather than torch.tensor(sourceTensor).\n",
      "  neg_item_indices = torch.tensor(neg_item_indices).to(self.device).squeeze()\n"
     ]
    },
    {
     "name": "stdout",
     "output_type": "stream",
     "text": [
      "2024-08-05 11:19:44,545 - base - recpack - INFO - Processed epoch 0 in 3.59 s.Batch Training Loss = 0.2009\n",
      "2024-08-05 11:19:56,866 - stopping_criterion - recpack - INFO - StoppingCriterion has value 0.6942762882509332, which is better than previous iterations.\n",
      "2024-08-05 11:19:56,867 - base - recpack - INFO - Model improved. Storing better model.\n",
      "2024-08-05 11:19:56,948 - base - recpack - INFO - Evaluation at end of 0 took 12.40 s.\n",
      "2024-08-05 11:20:00,466 - base - recpack - INFO - Processed epoch 1 in 3.52 s.Batch Training Loss = 0.0827\n",
      "2024-08-05 11:20:12,961 - stopping_criterion - recpack - INFO - StoppingCriterion has value 0.6935365516896772, which is worse than previous iterations.\n",
      "2024-08-05 11:20:12,965 - base - recpack - INFO - Evaluation at end of 1 took 12.50 s.\n",
      "2024-08-05 11:20:16,414 - base - recpack - INFO - Processed epoch 2 in 3.45 s.Batch Training Loss = 0.0623\n",
      "2024-08-05 11:20:27,969 - stopping_criterion - recpack - INFO - StoppingCriterion has value 0.6934870361884996, which is worse than previous iterations.\n",
      "2024-08-05 11:20:27,971 - base - recpack - INFO - Evaluation at end of 2 took 11.56 s.\n",
      "2024-08-05 11:20:31,224 - base - recpack - INFO - Processed epoch 3 in 3.25 s.Batch Training Loss = 0.0510\n",
      "2024-08-05 11:20:43,326 - stopping_criterion - recpack - INFO - StoppingCriterion has value 0.693094973882031, which is worse than previous iterations.\n",
      "2024-08-05 11:20:43,328 - base - recpack - INFO - Evaluation at end of 3 took 12.10 s.\n",
      "2024-08-05 11:20:46,842 - base - recpack - INFO - Processed epoch 4 in 3.51 s.Batch Training Loss = 0.0458\n",
      "2024-08-05 11:20:59,515 - stopping_criterion - recpack - INFO - StoppingCriterion has value 0.6932571013480273, which is worse than previous iterations.\n",
      "2024-08-05 11:20:59,517 - base - recpack - INFO - Evaluation at end of 4 took 12.67 s.\n",
      "2024-08-05 11:20:59,560 - base - recpack - INFO - Fitting LightGCNAlgorithm complete - Took 78.8s\n"
     ]
    },
    {
     "name": "stderr",
     "output_type": "stream",
     "text": [
      "/opt/conda/lib/python3.11/site-packages/recpack/algorithms/base.py:509: FutureWarning: You are using `torch.load` with `weights_only=False` (the current default value), which uses the default pickle module implicitly. It is possible to construct malicious pickle data which will execute arbitrary code during unpickling (See https://github.com/pytorch/pytorch/blob/main/SECURITY.md#untrusted-models for more details). In a future release, the default value for `weights_only` will be flipped to `True`. This limits the functions that could be executed during unpickling. Arbitrary objects will no longer be allowed to be loaded via this mode unless they are explicitly allowlisted by the user via `torch.serialization.add_safe_globals`. We recommend you start setting `weights_only=True` for any use case where you don't have full control of the loaded file. Please open an issue on GitHub for any issues related to this experimental feature.\n",
      "  self.model_ = torch.load(self.best_model)\n",
      "/tmp/ipykernel_35554/4206860820.py:81: UserWarning: To copy construct from a tensor, it is recommended to use sourceTensor.clone().detach() or sourceTensor.clone().detach().requires_grad_(True), rather than torch.tensor(sourceTensor).\n",
      "  user_indices = torch.tensor(user_indices).to(self.device)\n",
      "/tmp/ipykernel_35554/4206860820.py:82: UserWarning: To copy construct from a tensor, it is recommended to use sourceTensor.clone().detach() or sourceTensor.clone().detach().requires_grad_(True), rather than torch.tensor(sourceTensor).\n",
      "  pos_item_indices = torch.tensor(pos_item_indices).to(self.device)\n",
      "/tmp/ipykernel_35554/4206860820.py:83: UserWarning: To copy construct from a tensor, it is recommended to use sourceTensor.clone().detach() or sourceTensor.clone().detach().requires_grad_(True), rather than torch.tensor(sourceTensor).\n",
      "  neg_item_indices = torch.tensor(neg_item_indices).to(self.device).squeeze()\n"
     ]
    },
    {
     "name": "stdout",
     "output_type": "stream",
     "text": [
      "2024-08-05 11:21:18,868 - base - recpack - INFO - Processed epoch 0 in 3.49 s.Batch Training Loss = 0.5802\n",
      "2024-08-05 11:21:31,197 - stopping_criterion - recpack - INFO - StoppingCriterion has value 0.6932414126493773, which is better than previous iterations.\n",
      "2024-08-05 11:21:31,198 - base - recpack - INFO - Model improved. Storing better model.\n",
      "2024-08-05 11:21:31,322 - base - recpack - INFO - Evaluation at end of 0 took 12.45 s.\n",
      "2024-08-05 11:21:34,859 - base - recpack - INFO - Processed epoch 1 in 3.54 s.Batch Training Loss = 0.2803\n",
      "2024-08-05 11:23:23,682 - stopping_criterion - recpack - INFO - StoppingCriterion has value 0.6992154426326274, which is worse than previous iterations.\n",
      "2024-08-05 11:23:23,684 - base - recpack - INFO - Evaluation at end of 1 took 12.65 s.\n",
      "2024-08-05 11:23:27,775 - base - recpack - INFO - Processed epoch 2 in 4.09 s.Batch Training Loss = 0.1130\n",
      "2024-08-05 11:23:41,657 - stopping_criterion - recpack - INFO - StoppingCriterion has value 0.6984025214751097, which is worse than previous iterations.\n",
      "2024-08-05 11:23:41,659 - base - recpack - INFO - Evaluation at end of 2 took 13.88 s.\n",
      "2024-08-05 11:23:45,813 - base - recpack - INFO - Processed epoch 3 in 4.15 s.Batch Training Loss = 0.0845\n",
      "2024-08-05 11:24:01,640 - stopping_criterion - recpack - INFO - StoppingCriterion has value 0.6995257836753761, which is worse than previous iterations.\n",
      "2024-08-05 11:24:01,642 - base - recpack - INFO - Evaluation at end of 3 took 15.83 s.\n",
      "2024-08-05 11:24:06,478 - base - recpack - INFO - Processed epoch 4 in 4.83 s.Batch Training Loss = 0.0724\n",
      "2024-08-05 11:24:20,430 - stopping_criterion - recpack - INFO - StoppingCriterion has value 0.7010126470493869, which is worse than previous iterations.\n",
      "2024-08-05 11:24:20,432 - base - recpack - INFO - Evaluation at end of 4 took 13.95 s.\n",
      "2024-08-05 11:24:20,515 - base - recpack - INFO - Fitting LightGCNAlgorithm complete - Took 91.6s\n"
     ]
    },
    {
     "name": "stderr",
     "output_type": "stream",
     "text": [
      "/opt/conda/lib/python3.11/site-packages/recpack/algorithms/base.py:509: FutureWarning: You are using `torch.load` with `weights_only=False` (the current default value), which uses the default pickle module implicitly. It is possible to construct malicious pickle data which will execute arbitrary code during unpickling (See https://github.com/pytorch/pytorch/blob/main/SECURITY.md#untrusted-models for more details). In a future release, the default value for `weights_only` will be flipped to `True`. This limits the functions that could be executed during unpickling. Arbitrary objects will no longer be allowed to be loaded via this mode unless they are explicitly allowlisted by the user via `torch.serialization.add_safe_globals`. We recommend you start setting `weights_only=True` for any use case where you don't have full control of the loaded file. Please open an issue on GitHub for any issues related to this experimental feature.\n",
      "  self.model_ = torch.load(self.best_model)\n",
      "/tmp/ipykernel_35554/4206860820.py:81: UserWarning: To copy construct from a tensor, it is recommended to use sourceTensor.clone().detach() or sourceTensor.clone().detach().requires_grad_(True), rather than torch.tensor(sourceTensor).\n",
      "  user_indices = torch.tensor(user_indices).to(self.device)\n",
      "/tmp/ipykernel_35554/4206860820.py:82: UserWarning: To copy construct from a tensor, it is recommended to use sourceTensor.clone().detach() or sourceTensor.clone().detach().requires_grad_(True), rather than torch.tensor(sourceTensor).\n",
      "  pos_item_indices = torch.tensor(pos_item_indices).to(self.device)\n",
      "/tmp/ipykernel_35554/4206860820.py:83: UserWarning: To copy construct from a tensor, it is recommended to use sourceTensor.clone().detach() or sourceTensor.clone().detach().requires_grad_(True), rather than torch.tensor(sourceTensor).\n",
      "  neg_item_indices = torch.tensor(neg_item_indices).to(self.device).squeeze()\n"
     ]
    },
    {
     "name": "stdout",
     "output_type": "stream",
     "text": [
      "2024-08-05 11:24:44,959 - base - recpack - INFO - Processed epoch 0 in 5.06 s.Batch Training Loss = 0.1721\n",
      "2024-08-05 11:24:59,807 - stopping_criterion - recpack - INFO - StoppingCriterion has value 0.6934201313529536, which is better than previous iterations.\n",
      "2024-08-05 11:24:59,808 - base - recpack - INFO - Model improved. Storing better model.\n",
      "2024-08-05 11:25:00,047 - base - recpack - INFO - Evaluation at end of 0 took 15.09 s.\n",
      "2024-08-05 11:25:05,088 - base - recpack - INFO - Processed epoch 1 in 5.04 s.Batch Training Loss = 0.0749\n",
      "2024-08-05 11:25:19,396 - stopping_criterion - recpack - INFO - StoppingCriterion has value 0.6928250474275104, which is worse than previous iterations.\n",
      "2024-08-05 11:25:19,397 - base - recpack - INFO - Evaluation at end of 1 took 14.31 s.\n",
      "2024-08-05 11:25:24,473 - base - recpack - INFO - Processed epoch 2 in 5.07 s.Batch Training Loss = 0.0563\n",
      "2024-08-05 11:25:38,604 - stopping_criterion - recpack - INFO - StoppingCriterion has value 0.6931047238161145, which is worse than previous iterations.\n",
      "2024-08-05 11:25:38,606 - base - recpack - INFO - Evaluation at end of 2 took 14.13 s.\n",
      "2024-08-05 11:25:43,412 - base - recpack - INFO - Processed epoch 3 in 4.81 s.Batch Training Loss = 0.0463\n",
      "2024-08-05 11:25:58,184 - stopping_criterion - recpack - INFO - StoppingCriterion has value 0.6938981228517858, which is worse than previous iterations.\n",
      "2024-08-05 11:25:58,186 - base - recpack - INFO - Evaluation at end of 3 took 14.77 s.\n",
      "2024-08-05 11:26:03,064 - base - recpack - INFO - Processed epoch 4 in 4.88 s.Batch Training Loss = 0.0427\n",
      "2024-08-05 11:26:17,679 - stopping_criterion - recpack - INFO - StoppingCriterion has value 0.6949482720433653, which is worse than previous iterations.\n",
      "2024-08-05 11:26:17,680 - base - recpack - INFO - Evaluation at end of 4 took 14.62 s.\n",
      "2024-08-05 11:26:17,765 - base - recpack - INFO - Fitting LightGCNAlgorithm complete - Took 98.2s\n"
     ]
    },
    {
     "name": "stderr",
     "output_type": "stream",
     "text": [
      "/opt/conda/lib/python3.11/site-packages/recpack/algorithms/base.py:509: FutureWarning: You are using `torch.load` with `weights_only=False` (the current default value), which uses the default pickle module implicitly. It is possible to construct malicious pickle data which will execute arbitrary code during unpickling (See https://github.com/pytorch/pytorch/blob/main/SECURITY.md#untrusted-models for more details). In a future release, the default value for `weights_only` will be flipped to `True`. This limits the functions that could be executed during unpickling. Arbitrary objects will no longer be allowed to be loaded via this mode unless they are explicitly allowlisted by the user via `torch.serialization.add_safe_globals`. We recommend you start setting `weights_only=True` for any use case where you don't have full control of the loaded file. Please open an issue on GitHub for any issues related to this experimental feature.\n",
      "  self.model_ = torch.load(self.best_model)\n",
      "/tmp/ipykernel_35554/4206860820.py:81: UserWarning: To copy construct from a tensor, it is recommended to use sourceTensor.clone().detach() or sourceTensor.clone().detach().requires_grad_(True), rather than torch.tensor(sourceTensor).\n",
      "  user_indices = torch.tensor(user_indices).to(self.device)\n",
      "/tmp/ipykernel_35554/4206860820.py:82: UserWarning: To copy construct from a tensor, it is recommended to use sourceTensor.clone().detach() or sourceTensor.clone().detach().requires_grad_(True), rather than torch.tensor(sourceTensor).\n",
      "  pos_item_indices = torch.tensor(pos_item_indices).to(self.device)\n",
      "/tmp/ipykernel_35554/4206860820.py:83: UserWarning: To copy construct from a tensor, it is recommended to use sourceTensor.clone().detach() or sourceTensor.clone().detach().requires_grad_(True), rather than torch.tensor(sourceTensor).\n",
      "  neg_item_indices = torch.tensor(neg_item_indices).to(self.device).squeeze()\n"
     ]
    },
    {
     "name": "stdout",
     "output_type": "stream",
     "text": [
      "2024-08-05 11:26:42,456 - base - recpack - INFO - Processed epoch 0 in 4.79 s.Batch Training Loss = 0.5196\n",
      "2024-08-05 11:26:57,604 - stopping_criterion - recpack - INFO - StoppingCriterion has value 0.6923261502024411, which is better than previous iterations.\n",
      "2024-08-05 11:26:57,604 - base - recpack - INFO - Model improved. Storing better model.\n",
      "2024-08-05 11:26:57,764 - base - recpack - INFO - Evaluation at end of 0 took 15.31 s.\n",
      "2024-08-05 11:27:02,570 - base - recpack - INFO - Processed epoch 1 in 4.81 s.Batch Training Loss = 0.2089\n",
      "2024-08-05 11:27:16,469 - stopping_criterion - recpack - INFO - StoppingCriterion has value 0.6919462417585316, which is worse than previous iterations.\n",
      "2024-08-05 11:27:16,472 - base - recpack - INFO - Evaluation at end of 1 took 13.90 s.\n",
      "2024-08-05 11:27:21,538 - base - recpack - INFO - Processed epoch 2 in 5.06 s.Batch Training Loss = 0.1408\n",
      "2024-08-05 11:27:36,794 - stopping_criterion - recpack - INFO - StoppingCriterion has value 0.6919617038062521, which is worse than previous iterations.\n",
      "2024-08-05 11:27:36,797 - base - recpack - INFO - Evaluation at end of 2 took 15.26 s.\n",
      "2024-08-05 11:27:41,887 - base - recpack - INFO - Processed epoch 3 in 5.09 s.Batch Training Loss = 0.1156\n",
      "2024-08-05 11:27:55,477 - stopping_criterion - recpack - INFO - StoppingCriterion has value 0.6920772813247542, which is worse than previous iterations.\n",
      "2024-08-05 11:27:55,481 - base - recpack - INFO - Evaluation at end of 3 took 13.59 s.\n",
      "2024-08-05 11:28:00,339 - base - recpack - INFO - Processed epoch 4 in 4.86 s.Batch Training Loss = 0.1017\n",
      "2024-08-05 11:28:15,815 - stopping_criterion - recpack - INFO - StoppingCriterion has value 0.6929238179403499, which is worse than previous iterations.\n",
      "2024-08-05 11:28:15,817 - base - recpack - INFO - Evaluation at end of 4 took 15.48 s.\n",
      "2024-08-05 11:28:15,905 - base - recpack - INFO - Fitting LightGCNAlgorithm complete - Took 98.6s\n"
     ]
    },
    {
     "name": "stderr",
     "output_type": "stream",
     "text": [
      "/opt/conda/lib/python3.11/site-packages/recpack/algorithms/base.py:509: FutureWarning: You are using `torch.load` with `weights_only=False` (the current default value), which uses the default pickle module implicitly. It is possible to construct malicious pickle data which will execute arbitrary code during unpickling (See https://github.com/pytorch/pytorch/blob/main/SECURITY.md#untrusted-models for more details). In a future release, the default value for `weights_only` will be flipped to `True`. This limits the functions that could be executed during unpickling. Arbitrary objects will no longer be allowed to be loaded via this mode unless they are explicitly allowlisted by the user via `torch.serialization.add_safe_globals`. We recommend you start setting `weights_only=True` for any use case where you don't have full control of the loaded file. Please open an issue on GitHub for any issues related to this experimental feature.\n",
      "  self.model_ = torch.load(self.best_model)\n",
      "/tmp/ipykernel_35554/4206860820.py:81: UserWarning: To copy construct from a tensor, it is recommended to use sourceTensor.clone().detach() or sourceTensor.clone().detach().requires_grad_(True), rather than torch.tensor(sourceTensor).\n",
      "  user_indices = torch.tensor(user_indices).to(self.device)\n",
      "/tmp/ipykernel_35554/4206860820.py:82: UserWarning: To copy construct from a tensor, it is recommended to use sourceTensor.clone().detach() or sourceTensor.clone().detach().requires_grad_(True), rather than torch.tensor(sourceTensor).\n",
      "  pos_item_indices = torch.tensor(pos_item_indices).to(self.device)\n",
      "/tmp/ipykernel_35554/4206860820.py:83: UserWarning: To copy construct from a tensor, it is recommended to use sourceTensor.clone().detach() or sourceTensor.clone().detach().requires_grad_(True), rather than torch.tensor(sourceTensor).\n",
      "  neg_item_indices = torch.tensor(neg_item_indices).to(self.device).squeeze()\n"
     ]
    },
    {
     "name": "stdout",
     "output_type": "stream",
     "text": [
      "2024-08-05 11:28:46,785 - base - recpack - INFO - Processed epoch 0 in 7.00 s.Batch Training Loss = 0.1978\n",
      "2024-08-05 11:29:02,365 - stopping_criterion - recpack - INFO - StoppingCriterion has value 0.7002488064567917, which is better than previous iterations.\n",
      "2024-08-05 11:29:02,366 - base - recpack - INFO - Model improved. Storing better model.\n",
      "2024-08-05 11:29:02,855 - base - recpack - INFO - Evaluation at end of 0 took 16.07 s.\n",
      "2024-08-05 11:29:07,665 - base - recpack - INFO - Processed epoch 1 in 4.81 s.Batch Training Loss = 0.2095\n",
      "2024-08-05 11:29:23,612 - stopping_criterion - recpack - INFO - StoppingCriterion has value 0.6993045585199616, which is worse than previous iterations.\n",
      "2024-08-05 11:29:23,613 - base - recpack - INFO - Evaluation at end of 1 took 15.95 s.\n",
      "2024-08-05 11:29:28,240 - base - recpack - INFO - Processed epoch 2 in 4.63 s.Batch Training Loss = 0.1856\n",
      "2024-08-05 11:29:44,006 - stopping_criterion - recpack - INFO - StoppingCriterion has value 0.6990089242774351, which is worse than previous iterations.\n",
      "2024-08-05 11:29:44,008 - base - recpack - INFO - Evaluation at end of 2 took 15.77 s.\n",
      "2024-08-05 11:29:48,508 - base - recpack - INFO - Processed epoch 3 in 4.50 s.Batch Training Loss = 0.1855\n",
      "2024-08-05 11:30:05,240 - stopping_criterion - recpack - INFO - StoppingCriterion has value 0.7033555799378471, which is worse than previous iterations.\n",
      "2024-08-05 11:30:05,242 - base - recpack - INFO - Evaluation at end of 3 took 16.73 s.\n",
      "2024-08-05 11:30:09,594 - base - recpack - INFO - Processed epoch 4 in 4.35 s.Batch Training Loss = 0.1750\n",
      "2024-08-05 11:30:26,307 - stopping_criterion - recpack - INFO - StoppingCriterion has value 0.7018173381214988, which is worse than previous iterations.\n",
      "2024-08-05 11:30:26,309 - base - recpack - INFO - Evaluation at end of 4 took 16.71 s.\n"
     ]
    },
    {
     "name": "stderr",
     "output_type": "stream",
     "text": [
      "/opt/conda/lib/python3.11/site-packages/recpack/algorithms/base.py:509: FutureWarning: You are using `torch.load` with `weights_only=False` (the current default value), which uses the default pickle module implicitly. It is possible to construct malicious pickle data which will execute arbitrary code during unpickling (See https://github.com/pytorch/pytorch/blob/main/SECURITY.md#untrusted-models for more details). In a future release, the default value for `weights_only` will be flipped to `True`. This limits the functions that could be executed during unpickling. Arbitrary objects will no longer be allowed to be loaded via this mode unless they are explicitly allowlisted by the user via `torch.serialization.add_safe_globals`. We recommend you start setting `weights_only=True` for any use case where you don't have full control of the loaded file. Please open an issue on GitHub for any issues related to this experimental feature.\n",
      "  self.model_ = torch.load(self.best_model)\n"
     ]
    },
    {
     "name": "stdout",
     "output_type": "stream",
     "text": [
      "2024-08-05 11:30:26,626 - base - recpack - INFO - Fitting LightGCNAlgorithm complete - Took 1.08e+02s\n"
     ]
    },
    {
     "name": "stderr",
     "output_type": "stream",
     "text": [
      "/tmp/ipykernel_35554/4206860820.py:81: UserWarning: To copy construct from a tensor, it is recommended to use sourceTensor.clone().detach() or sourceTensor.clone().detach().requires_grad_(True), rather than torch.tensor(sourceTensor).\n",
      "  user_indices = torch.tensor(user_indices).to(self.device)\n",
      "/tmp/ipykernel_35554/4206860820.py:82: UserWarning: To copy construct from a tensor, it is recommended to use sourceTensor.clone().detach() or sourceTensor.clone().detach().requires_grad_(True), rather than torch.tensor(sourceTensor).\n",
      "  pos_item_indices = torch.tensor(pos_item_indices).to(self.device)\n",
      "/tmp/ipykernel_35554/4206860820.py:83: UserWarning: To copy construct from a tensor, it is recommended to use sourceTensor.clone().detach() or sourceTensor.clone().detach().requires_grad_(True), rather than torch.tensor(sourceTensor).\n",
      "  neg_item_indices = torch.tensor(neg_item_indices).to(self.device).squeeze()\n"
     ]
    },
    {
     "name": "stdout",
     "output_type": "stream",
     "text": [
      "2024-08-05 11:30:58,254 - base - recpack - INFO - Processed epoch 0 in 8.05 s.Batch Training Loss = 0.1532\n",
      "2024-08-05 11:31:14,718 - stopping_criterion - recpack - INFO - StoppingCriterion has value 0.693621474655977, which is better than previous iterations.\n",
      "2024-08-05 11:31:14,719 - base - recpack - INFO - Model improved. Storing better model.\n",
      "2024-08-05 11:31:15,192 - base - recpack - INFO - Evaluation at end of 0 took 16.94 s.\n",
      "2024-08-05 11:31:23,066 - base - recpack - INFO - Processed epoch 1 in 7.87 s.Batch Training Loss = 0.0681\n",
      "2024-08-05 11:31:38,991 - stopping_criterion - recpack - INFO - StoppingCriterion has value 0.6937281105511872, which is worse than previous iterations.\n",
      "2024-08-05 11:31:38,994 - base - recpack - INFO - Evaluation at end of 1 took 15.93 s.\n",
      "2024-08-05 11:31:47,121 - base - recpack - INFO - Processed epoch 2 in 8.13 s.Batch Training Loss = 0.0513\n",
      "2024-08-05 11:32:03,714 - stopping_criterion - recpack - INFO - StoppingCriterion has value 0.6930615326850971, which is worse than previous iterations.\n",
      "2024-08-05 11:32:03,716 - base - recpack - INFO - Evaluation at end of 2 took 16.59 s.\n",
      "2024-08-05 11:32:11,762 - base - recpack - INFO - Processed epoch 3 in 8.04 s.Batch Training Loss = 0.0446\n",
      "2024-08-05 11:32:28,390 - stopping_criterion - recpack - INFO - StoppingCriterion has value 0.6956488527359023, which is worse than previous iterations.\n",
      "2024-08-05 11:32:28,392 - base - recpack - INFO - Evaluation at end of 3 took 16.63 s.\n",
      "2024-08-05 11:32:36,500 - base - recpack - INFO - Processed epoch 4 in 8.11 s.Batch Training Loss = 0.0427\n",
      "2024-08-05 11:32:51,983 - stopping_criterion - recpack - INFO - StoppingCriterion has value 0.6942749305373833, which is worse than previous iterations.\n",
      "2024-08-05 11:32:51,984 - base - recpack - INFO - Evaluation at end of 4 took 15.48 s.\n"
     ]
    },
    {
     "name": "stderr",
     "output_type": "stream",
     "text": [
      "/opt/conda/lib/python3.11/site-packages/recpack/algorithms/base.py:509: FutureWarning: You are using `torch.load` with `weights_only=False` (the current default value), which uses the default pickle module implicitly. It is possible to construct malicious pickle data which will execute arbitrary code during unpickling (See https://github.com/pytorch/pytorch/blob/main/SECURITY.md#untrusted-models for more details). In a future release, the default value for `weights_only` will be flipped to `True`. This limits the functions that could be executed during unpickling. Arbitrary objects will no longer be allowed to be loaded via this mode unless they are explicitly allowlisted by the user via `torch.serialization.add_safe_globals`. We recommend you start setting `weights_only=True` for any use case where you don't have full control of the loaded file. Please open an issue on GitHub for any issues related to this experimental feature.\n",
      "  self.model_ = torch.load(self.best_model)\n"
     ]
    },
    {
     "name": "stdout",
     "output_type": "stream",
     "text": [
      "2024-08-05 11:32:52,259 - base - recpack - INFO - Fitting LightGCNAlgorithm complete - Took 1.23e+02s\n"
     ]
    },
    {
     "name": "stderr",
     "output_type": "stream",
     "text": [
      "/tmp/ipykernel_35554/4206860820.py:81: UserWarning: To copy construct from a tensor, it is recommended to use sourceTensor.clone().detach() or sourceTensor.clone().detach().requires_grad_(True), rather than torch.tensor(sourceTensor).\n",
      "  user_indices = torch.tensor(user_indices).to(self.device)\n",
      "/tmp/ipykernel_35554/4206860820.py:82: UserWarning: To copy construct from a tensor, it is recommended to use sourceTensor.clone().detach() or sourceTensor.clone().detach().requires_grad_(True), rather than torch.tensor(sourceTensor).\n",
      "  pos_item_indices = torch.tensor(pos_item_indices).to(self.device)\n",
      "/tmp/ipykernel_35554/4206860820.py:83: UserWarning: To copy construct from a tensor, it is recommended to use sourceTensor.clone().detach() or sourceTensor.clone().detach().requires_grad_(True), rather than torch.tensor(sourceTensor).\n",
      "  neg_item_indices = torch.tensor(neg_item_indices).to(self.device).squeeze()\n"
     ]
    },
    {
     "name": "stdout",
     "output_type": "stream",
     "text": [
      "2024-08-05 11:33:23,024 - base - recpack - INFO - Processed epoch 0 in 8.19 s.Batch Training Loss = 0.4459\n",
      "2024-08-05 11:33:38,450 - stopping_criterion - recpack - INFO - StoppingCriterion has value 0.6938409520050377, which is better than previous iterations.\n",
      "2024-08-05 11:33:38,451 - base - recpack - INFO - Model improved. Storing better model.\n",
      "2024-08-05 11:33:38,924 - base - recpack - INFO - Evaluation at end of 0 took 15.90 s.\n",
      "2024-08-05 11:33:47,094 - base - recpack - INFO - Processed epoch 1 in 8.17 s.Batch Training Loss = 0.1620\n",
      "2024-08-05 11:34:02,644 - stopping_criterion - recpack - INFO - StoppingCriterion has value 0.6936588209680109, which is worse than previous iterations.\n",
      "2024-08-05 11:34:02,647 - base - recpack - INFO - Evaluation at end of 1 took 15.55 s.\n",
      "2024-08-05 11:34:10,818 - base - recpack - INFO - Processed epoch 2 in 8.17 s.Batch Training Loss = 0.1185\n",
      "2024-08-05 11:34:26,816 - stopping_criterion - recpack - INFO - StoppingCriterion has value 0.6944953847335258, which is worse than previous iterations.\n",
      "2024-08-05 11:34:26,818 - base - recpack - INFO - Evaluation at end of 2 took 16.00 s.\n",
      "2024-08-05 11:34:34,911 - base - recpack - INFO - Processed epoch 3 in 8.09 s.Batch Training Loss = 0.1004\n",
      "2024-08-05 11:34:51,483 - stopping_criterion - recpack - INFO - StoppingCriterion has value 0.6942437349389255, which is worse than previous iterations.\n",
      "2024-08-05 11:34:51,485 - base - recpack - INFO - Evaluation at end of 3 took 16.57 s.\n",
      "2024-08-05 11:34:59,480 - base - recpack - INFO - Processed epoch 4 in 7.99 s.Batch Training Loss = 0.0890\n",
      "2024-08-05 11:35:16,259 - stopping_criterion - recpack - INFO - StoppingCriterion has value 0.6948644200233092, which is worse than previous iterations.\n",
      "2024-08-05 11:35:16,261 - base - recpack - INFO - Evaluation at end of 4 took 16.78 s.\n"
     ]
    },
    {
     "name": "stderr",
     "output_type": "stream",
     "text": [
      "/opt/conda/lib/python3.11/site-packages/recpack/algorithms/base.py:509: FutureWarning: You are using `torch.load` with `weights_only=False` (the current default value), which uses the default pickle module implicitly. It is possible to construct malicious pickle data which will execute arbitrary code during unpickling (See https://github.com/pytorch/pytorch/blob/main/SECURITY.md#untrusted-models for more details). In a future release, the default value for `weights_only` will be flipped to `True`. This limits the functions that could be executed during unpickling. Arbitrary objects will no longer be allowed to be loaded via this mode unless they are explicitly allowlisted by the user via `torch.serialization.add_safe_globals`. We recommend you start setting `weights_only=True` for any use case where you don't have full control of the loaded file. Please open an issue on GitHub for any issues related to this experimental feature.\n",
      "  self.model_ = torch.load(self.best_model)\n"
     ]
    },
    {
     "name": "stdout",
     "output_type": "stream",
     "text": [
      "2024-08-05 11:35:16,537 - base - recpack - INFO - Fitting LightGCNAlgorithm complete - Took 1.23e+02s\n"
     ]
    },
    {
     "name": "stderr",
     "output_type": "stream",
     "text": [
      "/tmp/ipykernel_35554/4206860820.py:81: UserWarning: To copy construct from a tensor, it is recommended to use sourceTensor.clone().detach() or sourceTensor.clone().detach().requires_grad_(True), rather than torch.tensor(sourceTensor).\n",
      "  user_indices = torch.tensor(user_indices).to(self.device)\n",
      "/tmp/ipykernel_35554/4206860820.py:82: UserWarning: To copy construct from a tensor, it is recommended to use sourceTensor.clone().detach() or sourceTensor.clone().detach().requires_grad_(True), rather than torch.tensor(sourceTensor).\n",
      "  pos_item_indices = torch.tensor(pos_item_indices).to(self.device)\n",
      "/tmp/ipykernel_35554/4206860820.py:83: UserWarning: To copy construct from a tensor, it is recommended to use sourceTensor.clone().detach() or sourceTensor.clone().detach().requires_grad_(True), rather than torch.tensor(sourceTensor).\n",
      "  neg_item_indices = torch.tensor(neg_item_indices).to(self.device).squeeze()\n"
     ]
    },
    {
     "name": "stdout",
     "output_type": "stream",
     "text": [
      "2024-08-05 11:35:42,753 - base - recpack - INFO - Processed epoch 0 in 3.34 s.Batch Training Loss = 0.2026\n",
      "2024-08-05 11:35:58,877 - stopping_criterion - recpack - INFO - StoppingCriterion has value 0.6928651249573055, which is better than previous iterations.\n",
      "2024-08-05 11:35:58,878 - base - recpack - INFO - Model improved. Storing better model.\n",
      "2024-08-05 11:35:59,006 - base - recpack - INFO - Evaluation at end of 0 took 16.25 s.\n",
      "2024-08-05 11:36:02,328 - base - recpack - INFO - Processed epoch 1 in 3.32 s.Batch Training Loss = 0.0828\n",
      "2024-08-05 11:36:19,035 - stopping_criterion - recpack - INFO - StoppingCriterion has value 0.6935490282899479, which is worse than previous iterations.\n",
      "2024-08-05 11:36:19,036 - base - recpack - INFO - Evaluation at end of 1 took 16.71 s.\n",
      "2024-08-05 11:36:22,611 - base - recpack - INFO - Processed epoch 2 in 3.57 s.Batch Training Loss = 0.0625\n",
      "2024-08-05 11:36:39,139 - stopping_criterion - recpack - INFO - StoppingCriterion has value 0.6948735115613376, which is worse than previous iterations.\n",
      "2024-08-05 11:36:39,141 - base - recpack - INFO - Evaluation at end of 2 took 16.53 s.\n",
      "2024-08-05 11:36:42,434 - base - recpack - INFO - Processed epoch 3 in 3.29 s.Batch Training Loss = 0.0518\n",
      "2024-08-05 11:36:59,585 - stopping_criterion - recpack - INFO - StoppingCriterion has value 0.6955246696590174, which is worse than previous iterations.\n",
      "2024-08-05 11:36:59,588 - base - recpack - INFO - Evaluation at end of 3 took 17.15 s.\n",
      "2024-08-05 11:37:03,255 - base - recpack - INFO - Processed epoch 4 in 3.67 s.Batch Training Loss = 0.0449\n",
      "2024-08-05 11:37:19,175 - stopping_criterion - recpack - INFO - StoppingCriterion has value 0.6944060806191311, which is worse than previous iterations.\n",
      "2024-08-05 11:37:19,177 - base - recpack - INFO - Evaluation at end of 4 took 15.92 s.\n",
      "2024-08-05 11:37:19,232 - base - recpack - INFO - Fitting LightGCNAlgorithm complete - Took 1e+02s\n"
     ]
    },
    {
     "name": "stderr",
     "output_type": "stream",
     "text": [
      "/opt/conda/lib/python3.11/site-packages/recpack/algorithms/base.py:509: FutureWarning: You are using `torch.load` with `weights_only=False` (the current default value), which uses the default pickle module implicitly. It is possible to construct malicious pickle data which will execute arbitrary code during unpickling (See https://github.com/pytorch/pytorch/blob/main/SECURITY.md#untrusted-models for more details). In a future release, the default value for `weights_only` will be flipped to `True`. This limits the functions that could be executed during unpickling. Arbitrary objects will no longer be allowed to be loaded via this mode unless they are explicitly allowlisted by the user via `torch.serialization.add_safe_globals`. We recommend you start setting `weights_only=True` for any use case where you don't have full control of the loaded file. Please open an issue on GitHub for any issues related to this experimental feature.\n",
      "  self.model_ = torch.load(self.best_model)\n"
     ]
    }
   ],
   "source": [
    "pipeline_builder = PipelineBuilder()\n",
    "ok = (scenario._validation_data_in, scenario._validation_data_out)\n",
    "pipeline_builder.set_data_from_scenario(scenario)\n",
    "\n",
    "\n",
    "# Add the baseline algorithms\n",
    "#pipeline_builder.add_algorithm('ItemKNN', grid={'K': [100, 200, 400, 800]})\n",
    "#pipeline_builder.add_algorithm('EASE', grid={'l2': [10, 100, 1000], 'alpha': [0, 0.1, 0.5]})\n",
    "\n",
    "# Add our LightGCN algorithm\n",
    "pipeline_builder.add_algorithm(\n",
    "    'LightGCNAlgorithm1',\n",
    "    grid={\n",
    "        'learning_rate': [0.1, 0.01, 0.001],\n",
    "        'embedding_dim': [100, 200, 400]\n",
    "    },\n",
    "    params={\n",
    "        'max_epochs': 5,\n",
    "        'batch_size': 1024,\n",
    "        'n_layers': 3\n",
    "    }\n",
    ")\n",
    "\n",
    "# Add NDCG, Recall, and HR metrics to be evaluated at 10, 20, and 50\n",
    "pipeline_builder.add_metric('NDCGK', [10, 20, 50])\n",
    "pipeline_builder.add_metric('RecallK', [10, 20, 50])\n",
    "pipeline_builder.add_metric('HitK', [10, 20, 50])\n",
    "\n",
    "# Set the optimisation metric\n",
    "pipeline_builder.set_optimisation_metric('RecallK', 20)\n",
    "\n",
    "# Construct pipeline\n",
    "pipeline = pipeline_builder.build()\n",
    "\n",
    "# Debugging: Output the shape of the training data\n",
    "#print(f\"Training data shape: {im.shape}\")\n",
    "\n",
    "# Run pipeline, will first do optimisation, and then evaluation\n",
    "pipeline.run()"
   ]
  },
  {
   "cell_type": "markdown",
   "id": "60d6b1e1-c965-4c48-a34f-fe27a7a19cac",
   "metadata": {},
   "source": [
    "## Results"
   ]
  },
  {
   "cell_type": "code",
   "execution_count": 17,
   "id": "e80f2784-1ed9-4d93-9883-4c34213d62ed",
   "metadata": {},
   "outputs": [
    {
     "data": {
      "text/html": [
       "<div>\n",
       "<style scoped>\n",
       "    .dataframe tbody tr th:only-of-type {\n",
       "        vertical-align: middle;\n",
       "    }\n",
       "\n",
       "    .dataframe tbody tr th {\n",
       "        vertical-align: top;\n",
       "    }\n",
       "\n",
       "    .dataframe thead th {\n",
       "        text-align: right;\n",
       "    }\n",
       "</style>\n",
       "<table border=\"1\" class=\"dataframe\">\n",
       "  <thead>\n",
       "    <tr style=\"text-align: right;\">\n",
       "      <th></th>\n",
       "      <th>NDCGK_10</th>\n",
       "      <th>NDCGK_20</th>\n",
       "      <th>NDCGK_50</th>\n",
       "      <th>RecallK_10</th>\n",
       "      <th>RecallK_20</th>\n",
       "      <th>RecallK_50</th>\n",
       "      <th>HitK_10</th>\n",
       "      <th>HitK_20</th>\n",
       "      <th>HitK_50</th>\n",
       "    </tr>\n",
       "  </thead>\n",
       "  <tbody>\n",
       "    <tr>\n",
       "      <th>LightGCNAlgorithm(batch_size=1024,embedding_dim=100,keep_last=False,learning_rate=0.01,max_epochs=5,max_iter_no_change=5,min_improvement=0.01,n_layers=3,predict_topK=None,reg_weight=1e-05,save_best_to_file=False,seed=415478342,stop_early=True,stopping_criterion=&lt;recpack.algorithms.stopping_criterion.StoppingCriterion object at 0x7f9e499b8f10&gt;,validation_sample_size=None)</th>\n",
       "      <td>0.037052</td>\n",
       "      <td>0.051649</td>\n",
       "      <td>0.070924</td>\n",
       "      <td>0.076657</td>\n",
       "      <td>0.132392</td>\n",
       "      <td>0.225378</td>\n",
       "      <td>0.09257</td>\n",
       "      <td>0.158648</td>\n",
       "      <td>0.269793</td>\n",
       "    </tr>\n",
       "  </tbody>\n",
       "</table>\n",
       "</div>"
      ],
      "text/plain": [
       "                                                    NDCGK_10  NDCGK_20  \\\n",
       "LightGCNAlgorithm(batch_size=1024,embedding_dim...  0.037052  0.051649   \n",
       "\n",
       "                                                    NDCGK_50  RecallK_10  \\\n",
       "LightGCNAlgorithm(batch_size=1024,embedding_dim...  0.070924    0.076657   \n",
       "\n",
       "                                                    RecallK_20  RecallK_50  \\\n",
       "LightGCNAlgorithm(batch_size=1024,embedding_dim...    0.132392    0.225378   \n",
       "\n",
       "                                                    HitK_10   HitK_20  \\\n",
       "LightGCNAlgorithm(batch_size=1024,embedding_dim...  0.09257  0.158648   \n",
       "\n",
       "                                                     HitK_50  \n",
       "LightGCNAlgorithm(batch_size=1024,embedding_dim...  0.269793  "
      ]
     },
     "execution_count": 17,
     "metadata": {},
     "output_type": "execute_result"
    }
   ],
   "source": [
    "pipeline.get_metrics()"
   ]
  },
  {
   "cell_type": "code",
   "execution_count": 18,
   "id": "08d40d0c-5850-4c4d-9b7e-8a85b9c0f680",
   "metadata": {},
   "outputs": [
    {
     "data": {
      "text/html": [
       "<div>\n",
       "<style scoped>\n",
       "    .dataframe tbody tr th:only-of-type {\n",
       "        vertical-align: middle;\n",
       "    }\n",
       "\n",
       "    .dataframe tbody tr th {\n",
       "        vertical-align: top;\n",
       "    }\n",
       "\n",
       "    .dataframe thead th {\n",
       "        text-align: right;\n",
       "    }\n",
       "</style>\n",
       "<table border=\"1\" class=\"dataframe\">\n",
       "  <thead>\n",
       "    <tr style=\"text-align: right;\">\n",
       "      <th></th>\n",
       "      <th>LightGCNAlgorithm(batch_size=1024,embedding_dim=100,keep_last=False,learning_rate=0.01,max_epochs=5,max_iter_no_change=5,min_improvement=0.01,n_layers=3,predict_topK=None,reg_weight=1e-05,save_best_to_file=False,seed=415478342,stop_early=True,stopping_criterion=&lt;recpack.algorithms.stopping_criterion.StoppingCriterion object at 0x7f9e499b8f10&gt;,validation_sample_size=None)</th>\n",
       "    </tr>\n",
       "  </thead>\n",
       "  <tbody>\n",
       "    <tr>\n",
       "      <th>NDCGK_10</th>\n",
       "      <td>0.037052</td>\n",
       "    </tr>\n",
       "    <tr>\n",
       "      <th>NDCGK_20</th>\n",
       "      <td>0.051649</td>\n",
       "    </tr>\n",
       "    <tr>\n",
       "      <th>NDCGK_50</th>\n",
       "      <td>0.070924</td>\n",
       "    </tr>\n",
       "    <tr>\n",
       "      <th>RecallK_10</th>\n",
       "      <td>0.076657</td>\n",
       "    </tr>\n",
       "    <tr>\n",
       "      <th>RecallK_20</th>\n",
       "      <td>0.132392</td>\n",
       "    </tr>\n",
       "    <tr>\n",
       "      <th>RecallK_50</th>\n",
       "      <td>0.225378</td>\n",
       "    </tr>\n",
       "    <tr>\n",
       "      <th>HitK_10</th>\n",
       "      <td>0.092570</td>\n",
       "    </tr>\n",
       "    <tr>\n",
       "      <th>HitK_20</th>\n",
       "      <td>0.158648</td>\n",
       "    </tr>\n",
       "    <tr>\n",
       "      <th>HitK_50</th>\n",
       "      <td>0.269793</td>\n",
       "    </tr>\n",
       "  </tbody>\n",
       "</table>\n",
       "</div>"
      ],
      "text/plain": [
       "            LightGCNAlgorithm(batch_size=1024,embedding_dim=100,keep_last=False,learning_rate=0.01,max_epochs=5,max_iter_no_change=5,min_improvement=0.01,n_layers=3,predict_topK=None,reg_weight=1e-05,save_best_to_file=False,seed=415478342,stop_early=True,stopping_criterion=<recpack.algorithms.stopping_criterion.StoppingCriterion object at 0x7f9e499b8f10>,validation_sample_size=None)\n",
       "NDCGK_10                                             0.037052                                                                                                                                                                                                                                                                                                                                    \n",
       "NDCGK_20                                             0.051649                                                                                                                                                                                                                                                                                                                                    \n",
       "NDCGK_50                                             0.070924                                                                                                                                                                                                                                                                                                                                    \n",
       "RecallK_10                                           0.076657                                                                                                                                                                                                                                                                                                                                    \n",
       "RecallK_20                                           0.132392                                                                                                                                                                                                                                                                                                                                    \n",
       "RecallK_50                                           0.225378                                                                                                                                                                                                                                                                                                                                    \n",
       "HitK_10                                              0.092570                                                                                                                                                                                                                                                                                                                                    \n",
       "HitK_20                                              0.158648                                                                                                                                                                                                                                                                                                                                    \n",
       "HitK_50                                              0.269793                                                                                                                                                                                                                                                                                                                                    "
      ]
     },
     "execution_count": 18,
     "metadata": {},
     "output_type": "execute_result"
    }
   ],
   "source": [
    "pd.DataFrame.from_dict(pipeline.get_metrics()).T"
   ]
  },
  {
   "cell_type": "code",
   "execution_count": null,
   "id": "06eb89bb-82dc-4982-8025-327b4e25fddb",
   "metadata": {},
   "outputs": [],
   "source": []
  }
 ],
 "metadata": {
  "kernelspec": {
   "display_name": "Python 3 (ipykernel)",
   "language": "python",
   "name": "python3"
  },
  "language_info": {
   "codemirror_mode": {
    "name": "ipython",
    "version": 3
   },
   "file_extension": ".py",
   "mimetype": "text/x-python",
   "name": "python",
   "nbconvert_exporter": "python",
   "pygments_lexer": "ipython3",
   "version": "3.11.9"
  }
 },
 "nbformat": 4,
 "nbformat_minor": 5
}
