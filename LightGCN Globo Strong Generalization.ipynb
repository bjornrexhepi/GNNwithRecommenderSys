{
 "cells": [
  {
   "cell_type": "markdown",
   "id": "c96b5cfe-0841-4dfb-a69e-06fe72ec557d",
   "metadata": {},
   "source": [
    "# LightGCN with Globo Dataset and StrongGeneralization Scenario"
   ]
  },
  {
   "cell_type": "markdown",
   "id": "f2d51a2e-b5d9-4201-af95-40877fbae887",
   "metadata": {},
   "source": [
    "In this notebook, the implementation of LightGCN in RecPack and the experimental part to generate the results of the algorithm will be presented. \n",
    "The notebook contains:\n",
    "1. The implementation of LightGCN in RecPack.\n",
    "2. The 10% of Globo Dataset from RecPack and the StrongGeneralization Scenario has been used to split the data.\n",
    "3. The StrongGeneralization Scenario to split the data.\n",
    "4. The RecPack Pipeline Builder to run the experiments, including the splitted dataset, the algorithms and metrics to run. Hyperparameter has been performed in the Pipeline.\n",
    "\n",
    "Please make sure you have installed all the latest libraries in your Python environment, in order to have a successful run of the code."
   ]
  },
  {
   "cell_type": "code",
   "execution_count": 2,
   "id": "1cde07fa-6d38-494d-b8e7-b8dcf83a0a08",
   "metadata": {},
   "outputs": [],
   "source": [
    "import torch\n",
    "from tqdm import tqdm"
   ]
  },
  {
   "cell_type": "code",
   "execution_count": 4,
   "id": "98de5207-1f90-441c-a7d0-4823af3ba234",
   "metadata": {},
   "outputs": [],
   "source": [
    "from torch_sparse import SparseTensor, matmul"
   ]
  },
  {
   "cell_type": "markdown",
   "id": "8102d2bf-abee-4402-8ec4-c4e4573ac310",
   "metadata": {},
   "source": [
    "## LightGCN implementation in RecPack"
   ]
  },
  {
   "cell_type": "code",
   "execution_count": 5,
   "id": "5c7dc8a2-fbb5-4309-bb75-7274fd8fd280",
   "metadata": {},
   "outputs": [],
   "source": [
    "import torch\n",
    "import torch.nn as nn\n",
    "from torch_geometric.nn import MessagePassing\n",
    "from torch_geometric.utils import add_self_loops, degree\n",
    "import time\n",
    "from typing import List, Tuple, Optional\n",
    "from tqdm import tqdm\n",
    "from recpack.algorithms.base import TorchMLAlgorithm\n",
    "from recpack.matrix.interaction_matrix import InteractionMatrix\n",
    "from recpack.matrix import to_csr_matrix\n",
    "from recpack.algorithms.loss_functions import bpr_loss\n",
    "from recpack.algorithms.samplers import PositiveNegativeSampler\n",
    "from scipy.sparse import csr_matrix, lil_matrix\n",
    "import torch.optim as optim\n",
    "import logging\n",
    "\n",
    "# logger = logging.getLogger(__name__)\n",
    "\n",
    "# LightGCN model definition using MessagePassing from PyTorch Geometric\n",
    "class LightGCN(MessagePassing):\n",
    "    def __init__(self, num_users, num_items, embedding_dim=64, K=3, add_self_loops=False):\n",
    "        \"\"\"\n",
    "        Initialize the LightGCN model with user and item embeddings.\n",
    "\n",
    "        Args:\n",
    "            num_users (int): Number of users.\n",
    "            num_items (int): Number of items.\n",
    "            embedding_dim (int): Dimension of the embedding vectors.\n",
    "            K (int): Number of propagation layers.\n",
    "            add_self_loops (bool): Whether to add self-loops to the adjacency matrix.\n",
    "        \"\"\"\n",
    "        super(LightGCN, self).__init__(aggr='add')\n",
    "        self.num_users, self.num_items = num_users, num_items\n",
    "        self.embedding_dim, self.K = embedding_dim, K\n",
    "        self.add_self_loops = add_self_loops\n",
    "\n",
    "        # Initialize user and item embeddings\n",
    "        self.users_emb = nn.Embedding(num_embeddings=self.num_users, embedding_dim=self.embedding_dim)\n",
    "        self.items_emb = nn.Embedding(num_embeddings=self.num_items, embedding_dim=self.embedding_dim)\n",
    "\n",
    "        # Initialize embeddings with normal distribution\n",
    "        nn.init.normal_(self.users_emb.weight, std=0.1)\n",
    "        nn.init.normal_(self.items_emb.weight, std=0.1)\n",
    "\n",
    "    def forward(self, edge_index: SparseTensor):\n",
    "        \"\"\"\n",
    "        Forward pass for the LightGCN model.\n",
    "\n",
    "        Args:\n",
    "            edge_index (SparseTensor): Sparse tensor representing the adjacency matrix.\n",
    "\n",
    "        Returns:\n",
    "            Tuple: Final user and item embeddings after propagation, and the initial embeddings.\n",
    "        \"\"\"\n",
    "        if self.add_self_loops:\n",
    "            edge_index, _ = add_self_loops(edge_index, num_nodes=self.num_users + self.num_items)\n",
    "        \n",
    "        # Normalize the adjacency matrix\n",
    "        edge_index_norm = self.normalize_adj(edge_index)\n",
    "        \n",
    "        # Concatenate user and item embeddings\n",
    "        emb_0 = torch.cat([self.users_emb.weight, self.items_emb.weight])\n",
    "        embs = [emb_0]\n",
    "        emb_k = emb_0\n",
    "\n",
    "        # Perform K propagation steps\n",
    "        for i in range(self.K):\n",
    "            # Preventing CUDA/Library version error\n",
    "            try:\n",
    "                emb_k = self.propagate(edge_index_norm, x=emb_k)\n",
    "            except RuntimeError as e:\n",
    "                break\n",
    "            embs.append(emb_k)\n",
    "\n",
    "        # Stack and average embeddings from each propagation step\n",
    "        embs = torch.stack(embs, dim=1)\n",
    "        emb_final = torch.mean(embs, dim=1)\n",
    "\n",
    "        # Split the final embeddings back into user and item embeddings\n",
    "        users_emb_final, items_emb_final = torch.split(emb_final, [self.num_users, self.num_items])\n",
    "\n",
    "        return users_emb_final, self.users_emb.weight, items_emb_final, self.items_emb.weight\n",
    "\n",
    "    def message(self, x_j: torch.Tensor) -> torch.Tensor:\n",
    "        \"\"\"\n",
    "        Message function that aggregates messages from neighboring nodes.\n",
    "\n",
    "        Args:\n",
    "            x_j (torch.Tensor): Features of the neighboring nodes.\n",
    "\n",
    "        Returns:\n",
    "            torch.Tensor: Aggregated messages.\n",
    "        \"\"\"\n",
    "        return x_j\n",
    "\n",
    "    def message_and_aggregate(self, adj_t: SparseTensor, x: torch.Tensor) -> torch.Tensor:\n",
    "        \"\"\"\n",
    "        Message and aggregate function using matrix multiplication.\n",
    "\n",
    "        Args:\n",
    "            adj_t (SparseTensor): Transposed adjacency matrix.\n",
    "            x (torch.Tensor): Node features.\n",
    "\n",
    "        Returns:\n",
    "            torch.Tensor: Result of multiplying adjacency matrix with node features.\n",
    "        \"\"\"\n",
    "        return matmul(adj_t, x)\n",
    "\n",
    "    def normalize_adj(self, edge_index: SparseTensor) -> SparseTensor:\n",
    "        \"\"\"\n",
    "        Normalize the adjacency matrix.\n",
    "\n",
    "        Args:\n",
    "            edge_index (SparseTensor): Sparse tensor representing the adjacency matrix.\n",
    "\n",
    "        Returns:\n",
    "            SparseTensor: Normalized adjacency matrix.\n",
    "        \"\"\"\n",
    "        row, col, value = edge_index.coo()\n",
    "        row = row.long()  # Ensure indices are long type\n",
    "        col = col.long()  # Ensure indices are long type\n",
    "        deg = degree(row, num_nodes=edge_index.size(0), dtype=value.dtype)\n",
    "        deg_inv_sqrt = deg.pow(-0.5)\n",
    "        deg_inv_sqrt[deg_inv_sqrt == float('inf')] = 0\n",
    "        value = deg_inv_sqrt[row] * value * deg_inv_sqrt[col]\n",
    "        return SparseTensor(row=row, col=col, value=value, sparse_sizes=edge_index.sparse_sizes())\n"
   ]
  },
  {
   "cell_type": "code",
   "execution_count": 6,
   "id": "383f2777-5652-4d39-a111-9f8f71865f24",
   "metadata": {},
   "outputs": [],
   "source": [
    "from recpack.algorithms.base import TorchMLAlgorithm\n",
    "from recpack.matrix import Matrix\n",
    "from recpack.matrix.interaction_matrix import InteractionMatrix\n",
    "from recpack.algorithms.loss_functions import bpr_loss, bpr_max_loss\n",
    "from recpack.algorithms.samplers import PositiveNegativeSampler\n",
    "from recpack.algorithms.stopping_criterion import (\n",
    "    EarlyStoppingException,\n",
    "    StoppingCriterion,\n",
    ")\n",
    "from typing import List, Tuple, Optional\n",
    "import numpy as np\n",
    "from scipy.sparse import csr_matrix, lil_matrix, coo_matrix\n",
    "import torch\n",
    "import torch.optim as optim\n",
    "import tempfile\n",
    "import time\n",
    "import logging\n",
    "\n",
    "logger = logging.getLogger(__name__)\n",
    "\n",
    "# Implementation of the LightGCN algorithm using TorchMLAlgorithm as a base class\n",
    "class LightGCNAlgorithm(TorchMLAlgorithm):\n",
    "    def __init__(\n",
    "        self,\n",
    "        batch_size: int = 256,\n",
    "        max_epochs: int = 100,\n",
    "        learning_rate: float = 0.001,\n",
    "        embedding_dim: int = 64,\n",
    "        n_layers: int = 3,\n",
    "        reg_weight: float = 1e-5,\n",
    "        stopping_criterion: str = \"bpr\",\n",
    "        stop_early: bool = True,\n",
    "        max_iter_no_change: int = 5,\n",
    "        min_improvement: float = 0.01,\n",
    "        seed: Optional[int] = None,\n",
    "        save_best_to_file: bool = False,\n",
    "        keep_last: bool = False,\n",
    "        predict_topK: Optional[int] = None,\n",
    "        validation_sample_size: Optional[int] = None,\n",
    "    ):\n",
    "        \"\"\"\n",
    "        Initialize the LightGCNAlgorithm with various hyperparameters.\n",
    "\n",
    "        Args:\n",
    "            batch_size (int): Number of samples per batch.\n",
    "            max_epochs (int): Maximum number of training epochs.\n",
    "            learning_rate (float): Learning rate for the optimizer.\n",
    "            embedding_dim (int): Dimension of the embedding vectors.\n",
    "            n_layers (int): Number of LightGCN layers.\n",
    "            reg_weight (float): Regularization weight.\n",
    "            stopping_criterion (str): Criterion to stop training early.\n",
    "            stop_early (bool): Whether to enable early stopping.\n",
    "            max_iter_no_change (int): Maximum iterations with no improvement for early stopping.\n",
    "            min_improvement (float): Minimum improvement required for early stopping.\n",
    "            seed (Optional[int]): Random seed for reproducibility.\n",
    "            save_best_to_file (bool): Whether to save the best model to a file.\n",
    "            keep_last (bool): Whether to keep the last model.\n",
    "            predict_topK (Optional[int]): Number of top-K predictions to consider.\n",
    "            validation_sample_size (Optional[int]): Size of the validation sample.\n",
    "        \"\"\"\n",
    "        self.embedding_dim = embedding_dim\n",
    "        self.n_layers = n_layers\n",
    "        self.reg_weight = reg_weight\n",
    "        super().__init__(\n",
    "            batch_size=batch_size,\n",
    "            max_epochs=max_epochs,\n",
    "            learning_rate=learning_rate,\n",
    "            stopping_criterion=stopping_criterion,\n",
    "            stop_early=stop_early,\n",
    "            max_iter_no_change=max_iter_no_change,\n",
    "            min_improvement=min_improvement,\n",
    "            seed=seed,\n",
    "            save_best_to_file=save_best_to_file,\n",
    "            keep_last=keep_last,\n",
    "            predict_topK=predict_topK,\n",
    "            validation_sample_size=validation_sample_size,\n",
    "        )\n",
    "        self.device = torch.device('cuda' if torch.cuda.is_available() else 'cpu')\n",
    "\n",
    "    def _init_model(self, train: InteractionMatrix) -> None:\n",
    "        \"\"\"\n",
    "        Initialize the LightGCN model and optimizer.\n",
    "\n",
    "        Args:\n",
    "            train (InteractionMatrix): The training interaction matrix.\n",
    "        \"\"\"\n",
    "        num_users, num_items = train.shape\n",
    "        self.model_ = LightGCN(num_users, num_items, self.embedding_dim, self.n_layers).to(self.device)\n",
    "        self.optimizer = optim.Adam(self.model_.parameters(), lr=self.learning_rate)\n",
    "\n",
    "    def _create_sparse_graph(self, interaction_matrix: csr_matrix, num_users: int, num_items: int) -> SparseTensor:\n",
    "        \"\"\"\n",
    "        Create a sparse graph from the interaction matrix.\n",
    "\n",
    "        Args:\n",
    "            interaction_matrix (csr_matrix): The interaction matrix in CSR format.\n",
    "            num_users (int): Number of users.\n",
    "            num_items (int): Number of items.\n",
    "\n",
    "        Returns:\n",
    "            SparseTensor: A sparse tensor representing the graph.\n",
    "        \"\"\"\n",
    "        coo = interaction_matrix.tocoo()\n",
    "        row = torch.tensor(coo.row, dtype=torch.long)\n",
    "        col = torch.tensor(coo.col, dtype=torch.long)\n",
    "        value = torch.tensor(coo.data, dtype=torch.float32)\n",
    "        print(f\"Graph - Rows: {row.shape}, Cols: {col.shape}, Values: {value.shape}\")  # Debugging information\n",
    "        return SparseTensor(row=row, col=col, value=value, sparse_sizes=(num_users + num_items, num_users + num_items)).to(self.device)\n",
    "\n",
    "    def _train_epoch(self, train: csr_matrix) -> List[float]:\n",
    "        \"\"\"\n",
    "        Train the model for one epoch.\n",
    "\n",
    "        Args:\n",
    "            train (csr_matrix): The training interaction matrix.\n",
    "\n",
    "        Returns:\n",
    "            List[float]: A list of losses for each batch.\n",
    "        \"\"\"\n",
    "        self.model_.train()\n",
    "        graph = self._create_sparse_graph(train, train.shape[0], train.shape[1]).to(self.device)\n",
    "        total_loss = 0\n",
    "        losses = []\n",
    "\n",
    "        sampler = PositiveNegativeSampler(num_negatives=1, batch_size=self.batch_size)\n",
    "\n",
    "        for user_indices, pos_item_indices, neg_item_indices in sampler.sample(train):\n",
    "            user_indices = torch.tensor(user_indices).to(self.device)\n",
    "            pos_item_indices = torch.tensor(pos_item_indices).to(self.device)\n",
    "            neg_item_indices = torch.tensor(neg_item_indices).to(self.device).squeeze()\n",
    "\n",
    "            self.optimizer.zero_grad()\n",
    "            users_emb_final, _, items_emb_final, _ = self.model_(graph)  # Call model only once\n",
    "            pos_scores = users_emb_final[user_indices] @ items_emb_final[pos_item_indices].t()\n",
    "            neg_scores = users_emb_final[user_indices] @ items_emb_final[neg_item_indices].t()\n",
    "\n",
    "            loss = bpr_loss(pos_scores, neg_scores)\n",
    "\n",
    "            if torch.isnan(loss).any() or torch.isinf(loss).any():\n",
    "                continue\n",
    "\n",
    "            loss.backward()\n",
    "            torch.nn.utils.clip_grad_norm_(self.model_.parameters(), max_norm=1.0)  # Gradient clipping\n",
    "            self.optimizer.step()\n",
    "\n",
    "            total_loss += loss.item()\n",
    "            losses.append(loss.item())\n",
    "\n",
    "        if len(losses) == 0:\n",
    "            return [float('nan')]\n",
    "\n",
    "        return losses\n",
    "\n",
    "    def _batch_predict(self, X: csr_matrix, users: List[int]) -> csr_matrix:\n",
    "        \"\"\"\n",
    "        Make batch predictions for a list of users.\n",
    "\n",
    "        Args:\n",
    "            X (csr_matrix): The interaction matrix.\n",
    "            users (List[int]): List of user indices to make predictions for.\n",
    "\n",
    "        Returns:\n",
    "            csr_matrix: A sparse matrix with the prediction scores.\n",
    "        \"\"\"\n",
    "        self.model_.eval()\n",
    "        graph = self._create_sparse_graph(X, X.shape[0], X.shape[1]).to(self.device)\n",
    "        user_indices = torch.tensor(users).to(self.device)\n",
    "        item_indices = torch.arange(X.shape[1]).to(self.device)\n",
    "        \n",
    "        with torch.no_grad():\n",
    "            user_emb_final, _, item_emb_final, _ = self.model_(graph)\n",
    "            scores = user_emb_final[user_indices] @ item_emb_final.t()\n",
    "            scores = scores.cpu().numpy()\n",
    "        \n",
    "        result = lil_matrix((X.shape[0], X.shape[1]))\n",
    "        for i, user in enumerate(users):\n",
    "            result[user] = scores[i]\n",
    "        \n",
    "        return result.tocsr()\n",
    "\n",
    "    def fit(self, X: csr_matrix, validation_data: tuple):\n",
    "        \"\"\"\n",
    "        Fit the model to the training data.\n",
    "\n",
    "        Args:\n",
    "            X (csr_matrix): The training interaction matrix.\n",
    "            validation_data (tuple): Validation data used for early stopping.\n",
    "        \"\"\"\n",
    "        super().fit(X, validation_data)"
   ]
  },
  {
   "cell_type": "code",
   "execution_count": 7,
   "id": "e87fd90c-f8ae-4fcc-a455-90fb8f2335c2",
   "metadata": {},
   "outputs": [],
   "source": [
    "from recpack.datasets import Netflix, DummyDataset\n",
    "from recpack.pipelines import PipelineBuilder\n",
    "from recpack.scenarios import StrongGeneralization, TimedLastItemPrediction, WeakGeneralization\n",
    "from recpack.pipelines import ALGORITHM_REGISTRY\n",
    "import pandas as pd"
   ]
  },
  {
   "cell_type": "code",
   "execution_count": 8,
   "id": "03a047ff-a58e-4ffb-bb09-247622834b08",
   "metadata": {},
   "outputs": [],
   "source": [
    "ALGORITHM_REGISTRY.register(\"LightGCNAlgorithm1\", LightGCNAlgorithm)"
   ]
  },
  {
   "cell_type": "markdown",
   "id": "3452e270-a700-4ffc-845d-f727a108128c",
   "metadata": {},
   "source": [
    "## RecPack Dataset Importing"
   ]
  },
  {
   "cell_type": "code",
   "execution_count": 12,
   "id": "288305e2-e570-4286-8468-c902e9d7ca25",
   "metadata": {},
   "outputs": [],
   "source": [
    "from recpack.datasets import Globo\n",
    "dataset = Globo(path=\"\", filename=\"archive.zip\")"
   ]
  },
  {
   "cell_type": "code",
   "execution_count": 13,
   "id": "9c73499f-1c14-4241-a0bd-e3412b4efd34",
   "metadata": {},
   "outputs": [],
   "source": [
    "dataset.fetch_dataset()"
   ]
  },
  {
   "cell_type": "code",
   "execution_count": 14,
   "id": "25bb2d15-0f4f-4142-8d5d-e06a6ea3c024",
   "metadata": {},
   "outputs": [
    {
     "data": {
      "text/plain": [
       "<recpack.datasets.globo.Globo at 0x7f685a01d410>"
      ]
     },
     "execution_count": 14,
     "metadata": {},
     "output_type": "execute_result"
    }
   ],
   "source": [
    "dataset"
   ]
  },
  {
   "cell_type": "code",
   "execution_count": null,
   "id": "a290f199-0a3d-4c2b-bc30-c82b5254ab34",
   "metadata": {},
   "outputs": [],
   "source": [
    "df = dataset._load_dataframe()\n",
    "#df = dataset.load()"
   ]
  },
  {
   "cell_type": "markdown",
   "id": "29c62813-2e27-4462-acad-ee013b3fd860",
   "metadata": {},
   "source": [
    "## Datasets with Timestamps sampling"
   ]
  },
  {
   "cell_type": "code",
   "execution_count": 33,
   "id": "66ac1379-2266-4bec-b6d3-9cf22c1aaedf",
   "metadata": {},
   "outputs": [],
   "source": [
    "timestamp_counts = df['click_timestamp'].value_counts().sort_index(ascending=False)\n",
    "cumulative_counts = timestamp_counts.cumsum()\n",
    "total_counts = cumulative_counts.max()\n",
    "threshold_count = total_counts * 0.1\n",
    "threshold_timestamp = cumulative_counts[cumulative_counts >= threshold_count].index[0]"
   ]
  },
  {
   "cell_type": "code",
   "execution_count": 34,
   "id": "a8b54ee9-8024-4d18-89c8-7858f45d7906",
   "metadata": {},
   "outputs": [],
   "source": [
    "filtered_df = df[df['click_timestamp'] >= threshold_timestamp]"
   ]
  },
  {
   "cell_type": "code",
   "execution_count": 35,
   "id": "877cfa8a-c9d3-4436-8a74-5009b026f266",
   "metadata": {},
   "outputs": [
    {
     "data": {
      "text/html": [
       "<div>\n",
       "<style scoped>\n",
       "    .dataframe tbody tr th:only-of-type {\n",
       "        vertical-align: middle;\n",
       "    }\n",
       "\n",
       "    .dataframe tbody tr th {\n",
       "        vertical-align: top;\n",
       "    }\n",
       "\n",
       "    .dataframe thead th {\n",
       "        text-align: right;\n",
       "    }\n",
       "</style>\n",
       "<table border=\"1\" class=\"dataframe\">\n",
       "  <thead>\n",
       "    <tr style=\"text-align: right;\">\n",
       "      <th></th>\n",
       "      <th>user_id</th>\n",
       "      <th>click_article_id</th>\n",
       "      <th>click_timestamp</th>\n",
       "    </tr>\n",
       "  </thead>\n",
       "  <tbody>\n",
       "    <tr>\n",
       "      <th>0</th>\n",
       "      <td>0</td>\n",
       "      <td>157541</td>\n",
       "      <td>1.506827e+09</td>\n",
       "    </tr>\n",
       "    <tr>\n",
       "      <th>1</th>\n",
       "      <td>0</td>\n",
       "      <td>68866</td>\n",
       "      <td>1.506827e+09</td>\n",
       "    </tr>\n",
       "    <tr>\n",
       "      <th>2</th>\n",
       "      <td>1</td>\n",
       "      <td>235840</td>\n",
       "      <td>1.506827e+09</td>\n",
       "    </tr>\n",
       "    <tr>\n",
       "      <th>3</th>\n",
       "      <td>1</td>\n",
       "      <td>96663</td>\n",
       "      <td>1.506827e+09</td>\n",
       "    </tr>\n",
       "    <tr>\n",
       "      <th>4</th>\n",
       "      <td>2</td>\n",
       "      <td>119592</td>\n",
       "      <td>1.506827e+09</td>\n",
       "    </tr>\n",
       "    <tr>\n",
       "      <th>...</th>\n",
       "      <td>...</td>\n",
       "      <td>...</td>\n",
       "      <td>...</td>\n",
       "    </tr>\n",
       "    <tr>\n",
       "      <th>2564</th>\n",
       "      <td>10051</td>\n",
       "      <td>84911</td>\n",
       "      <td>1.508212e+09</td>\n",
       "    </tr>\n",
       "    <tr>\n",
       "      <th>2565</th>\n",
       "      <td>322896</td>\n",
       "      <td>30760</td>\n",
       "      <td>1.508212e+09</td>\n",
       "    </tr>\n",
       "    <tr>\n",
       "      <th>2566</th>\n",
       "      <td>322896</td>\n",
       "      <td>157507</td>\n",
       "      <td>1.508212e+09</td>\n",
       "    </tr>\n",
       "    <tr>\n",
       "      <th>2567</th>\n",
       "      <td>123718</td>\n",
       "      <td>234481</td>\n",
       "      <td>1.508212e+09</td>\n",
       "    </tr>\n",
       "    <tr>\n",
       "      <th>2568</th>\n",
       "      <td>123718</td>\n",
       "      <td>233578</td>\n",
       "      <td>1.508212e+09</td>\n",
       "    </tr>\n",
       "  </tbody>\n",
       "</table>\n",
       "<p>2988181 rows × 3 columns</p>\n",
       "</div>"
      ],
      "text/plain": [
       "      user_id  click_article_id  click_timestamp\n",
       "0           0            157541     1.506827e+09\n",
       "1           0             68866     1.506827e+09\n",
       "2           1            235840     1.506827e+09\n",
       "3           1             96663     1.506827e+09\n",
       "4           2            119592     1.506827e+09\n",
       "...       ...               ...              ...\n",
       "2564    10051             84911     1.508212e+09\n",
       "2565   322896             30760     1.508212e+09\n",
       "2566   322896            157507     1.508212e+09\n",
       "2567   123718            234481     1.508212e+09\n",
       "2568   123718            233578     1.508212e+09\n",
       "\n",
       "[2988181 rows x 3 columns]"
      ]
     },
     "execution_count": 35,
     "metadata": {},
     "output_type": "execute_result"
    }
   ],
   "source": [
    "df"
   ]
  },
  {
   "cell_type": "code",
   "execution_count": 36,
   "id": "75315c82-bb45-4090-8d92-87e16d42f204",
   "metadata": {},
   "outputs": [
    {
     "data": {
      "text/html": [
       "<div>\n",
       "<style scoped>\n",
       "    .dataframe tbody tr th:only-of-type {\n",
       "        vertical-align: middle;\n",
       "    }\n",
       "\n",
       "    .dataframe tbody tr th {\n",
       "        vertical-align: top;\n",
       "    }\n",
       "\n",
       "    .dataframe thead th {\n",
       "        text-align: right;\n",
       "    }\n",
       "</style>\n",
       "<table border=\"1\" class=\"dataframe\">\n",
       "  <thead>\n",
       "    <tr style=\"text-align: right;\">\n",
       "      <th></th>\n",
       "      <th>user_id</th>\n",
       "      <th>click_article_id</th>\n",
       "      <th>click_timestamp</th>\n",
       "    </tr>\n",
       "  </thead>\n",
       "  <tbody>\n",
       "    <tr>\n",
       "      <th>4289</th>\n",
       "      <td>22712</td>\n",
       "      <td>158772</td>\n",
       "      <td>1.508196e+09</td>\n",
       "    </tr>\n",
       "    <tr>\n",
       "      <th>4290</th>\n",
       "      <td>22712</td>\n",
       "      <td>284638</td>\n",
       "      <td>1.508633e+09</td>\n",
       "    </tr>\n",
       "    <tr>\n",
       "      <th>4291</th>\n",
       "      <td>22712</td>\n",
       "      <td>95633</td>\n",
       "      <td>1.508678e+09</td>\n",
       "    </tr>\n",
       "    <tr>\n",
       "      <th>4292</th>\n",
       "      <td>22712</td>\n",
       "      <td>95524</td>\n",
       "      <td>1.508679e+09</td>\n",
       "    </tr>\n",
       "    <tr>\n",
       "      <th>4293</th>\n",
       "      <td>22712</td>\n",
       "      <td>184427</td>\n",
       "      <td>1.508679e+09</td>\n",
       "    </tr>\n",
       "    <tr>\n",
       "      <th>...</th>\n",
       "      <td>...</td>\n",
       "      <td>...</td>\n",
       "      <td>...</td>\n",
       "    </tr>\n",
       "    <tr>\n",
       "      <th>2564</th>\n",
       "      <td>10051</td>\n",
       "      <td>84911</td>\n",
       "      <td>1.508212e+09</td>\n",
       "    </tr>\n",
       "    <tr>\n",
       "      <th>2565</th>\n",
       "      <td>322896</td>\n",
       "      <td>30760</td>\n",
       "      <td>1.508212e+09</td>\n",
       "    </tr>\n",
       "    <tr>\n",
       "      <th>2566</th>\n",
       "      <td>322896</td>\n",
       "      <td>157507</td>\n",
       "      <td>1.508212e+09</td>\n",
       "    </tr>\n",
       "    <tr>\n",
       "      <th>2567</th>\n",
       "      <td>123718</td>\n",
       "      <td>234481</td>\n",
       "      <td>1.508212e+09</td>\n",
       "    </tr>\n",
       "    <tr>\n",
       "      <th>2568</th>\n",
       "      <td>123718</td>\n",
       "      <td>233578</td>\n",
       "      <td>1.508212e+09</td>\n",
       "    </tr>\n",
       "  </tbody>\n",
       "</table>\n",
       "<p>298819 rows × 3 columns</p>\n",
       "</div>"
      ],
      "text/plain": [
       "      user_id  click_article_id  click_timestamp\n",
       "4289    22712            158772     1.508196e+09\n",
       "4290    22712            284638     1.508633e+09\n",
       "4291    22712             95633     1.508678e+09\n",
       "4292    22712             95524     1.508679e+09\n",
       "4293    22712            184427     1.508679e+09\n",
       "...       ...               ...              ...\n",
       "2564    10051             84911     1.508212e+09\n",
       "2565   322896             30760     1.508212e+09\n",
       "2566   322896            157507     1.508212e+09\n",
       "2567   123718            234481     1.508212e+09\n",
       "2568   123718            233578     1.508212e+09\n",
       "\n",
       "[298819 rows x 3 columns]"
      ]
     },
     "execution_count": 36,
     "metadata": {},
     "output_type": "execute_result"
    }
   ],
   "source": [
    "filtered_df"
   ]
  },
  {
   "cell_type": "markdown",
   "id": "705eea28-311d-41eb-9622-568337e932b5",
   "metadata": {},
   "source": [
    "## Dataset Preprocessing to Interaction Matrix"
   ]
  },
  {
   "cell_type": "code",
   "execution_count": 38,
   "id": "28b3aa70-98ce-4bd8-9888-904495d7f8e5",
   "metadata": {},
   "outputs": [
    {
     "data": {
      "application/vnd.jupyter.widget-view+json": {
       "model_id": "feeb4c21aeca48158506537d0afa92fc",
       "version_major": 2,
       "version_minor": 0
      },
      "text/plain": [
       "  0%|          | 0/298819 [00:00<?, ?it/s]"
      ]
     },
     "metadata": {},
     "output_type": "display_data"
    },
    {
     "data": {
      "application/vnd.jupyter.widget-view+json": {
       "model_id": "f7675560a7ad44d19caaa72868b04f7f",
       "version_major": 2,
       "version_minor": 0
      },
      "text/plain": [
       "  0%|          | 0/298819 [00:00<?, ?it/s]"
      ]
     },
     "metadata": {},
     "output_type": "display_data"
    }
   ],
   "source": [
    "from recpack.matrix import InteractionMatrix\n",
    "from recpack.preprocessing.preprocessors import DataFramePreprocessor\n",
    "\n",
    "item_ix = 'click_article_id'\n",
    "user_ix = 'user_id'\n",
    "timestamp_ix = 'click_timestamp'\n",
    "\n",
    "preprocessor = DataFramePreprocessor(item_ix=item_ix, user_ix=user_ix, timestamp_ix=timestamp_ix)\n",
    "\n",
    "interaction_matrix = preprocessor.process(filtered_df)"
   ]
  },
  {
   "cell_type": "markdown",
   "id": "cc37494d-e0a9-40f8-a35e-10e08d5e4633",
   "metadata": {},
   "source": [
    "## StrongGeneralization Scenario Splitting of Data"
   ]
  },
  {
   "cell_type": "code",
   "execution_count": 40,
   "id": "aa72bb09-e745-4c5f-b4b3-88785f8a96b1",
   "metadata": {},
   "outputs": [
    {
     "data": {
      "application/vnd.jupyter.widget-view+json": {
       "model_id": "5e37b8018eda4accba105b301c55075e",
       "version_major": 2,
       "version_minor": 0
      },
      "text/plain": [
       "0it [00:00, ?it/s]"
      ]
     },
     "metadata": {},
     "output_type": "display_data"
    },
    {
     "data": {
      "application/vnd.jupyter.widget-view+json": {
       "model_id": "08eabf19598243d888b45fd92aa1793f",
       "version_major": 2,
       "version_minor": 0
      },
      "text/plain": [
       "0it [00:00, ?it/s]"
      ]
     },
     "metadata": {},
     "output_type": "display_data"
    }
   ],
   "source": [
    "scenario = StrongGeneralization(frac_users_train=0.8, frac_interactions_in=0.8, validation=True)\n",
    "scenario.split(interaction_matrix)"
   ]
  },
  {
   "cell_type": "markdown",
   "id": "7ea1dba1-c9cd-4822-a3c3-4a309ff0e405",
   "metadata": {},
   "source": [
    "## Experimental RecPack Pipeline"
   ]
  },
  {
   "cell_type": "code",
   "execution_count": 41,
   "id": "40f6a5b5-4f21-49ee-a96e-f7e375031134",
   "metadata": {
    "scrolled": true
   },
   "outputs": [
    {
     "name": "stderr",
     "output_type": "stream",
     "text": [
      "/opt/conda/lib/python3.11/site-packages/recpack/pipelines/pipeline_builder.py:145: UserWarning: Grid parameter for add_algorithm function will be deprecated in favour of optimisation_info.\n",
      "  warnings.warn(\n"
     ]
    },
    {
     "data": {
      "application/vnd.jupyter.widget-view+json": {
       "model_id": "0cc6a40907da49f195f6125ae63f0f3b",
       "version_major": 2,
       "version_minor": 0
      },
      "text/plain": [
       "  0%|          | 0/1 [00:00<?, ?it/s]"
      ]
     },
     "metadata": {},
     "output_type": "display_data"
    },
    {
     "name": "stderr",
     "output_type": "stream",
     "text": [
      "/tmp/ipykernel_3762/4206860820.py:81: UserWarning: To copy construct from a tensor, it is recommended to use sourceTensor.clone().detach() or sourceTensor.clone().detach().requires_grad_(True), rather than torch.tensor(sourceTensor).\n",
      "  user_indices = torch.tensor(user_indices).to(self.device)\n",
      "/tmp/ipykernel_3762/4206860820.py:82: UserWarning: To copy construct from a tensor, it is recommended to use sourceTensor.clone().detach() or sourceTensor.clone().detach().requires_grad_(True), rather than torch.tensor(sourceTensor).\n",
      "  pos_item_indices = torch.tensor(pos_item_indices).to(self.device)\n",
      "/tmp/ipykernel_3762/4206860820.py:83: UserWarning: To copy construct from a tensor, it is recommended to use sourceTensor.clone().detach() or sourceTensor.clone().detach().requires_grad_(True), rather than torch.tensor(sourceTensor).\n",
      "  neg_item_indices = torch.tensor(neg_item_indices).to(self.device).squeeze()\n"
     ]
    },
    {
     "name": "stdout",
     "output_type": "stream",
     "text": [
      "2024-08-04 16:19:48,827 - base - recpack - INFO - Processed epoch 0 in 2.66 s.Batch Training Loss = 0.1877\n",
      "2024-08-04 16:20:06,707 - stopping_criterion - recpack - INFO - StoppingCriterion has value 0.697225770719185, which is better than previous iterations.\n",
      "2024-08-04 16:20:06,708 - base - recpack - INFO - Model improved. Storing better model.\n",
      "2024-08-04 16:20:06,765 - base - recpack - INFO - Evaluation at end of 0 took 17.94 s.\n",
      "2024-08-04 16:20:09,334 - base - recpack - INFO - Processed epoch 1 in 2.57 s.Batch Training Loss = 0.1636\n",
      "2024-08-04 16:20:26,730 - stopping_criterion - recpack - INFO - StoppingCriterion has value 0.697139449436499, which is worse than previous iterations.\n",
      "2024-08-04 16:20:26,731 - base - recpack - INFO - Evaluation at end of 1 took 17.40 s.\n",
      "2024-08-04 16:20:29,118 - base - recpack - INFO - Processed epoch 2 in 2.39 s.Batch Training Loss = 0.1438\n",
      "2024-08-04 16:20:46,729 - stopping_criterion - recpack - INFO - StoppingCriterion has value 0.698590678685544, which is worse than previous iterations.\n",
      "2024-08-04 16:20:46,730 - base - recpack - INFO - Evaluation at end of 2 took 17.61 s.\n",
      "2024-08-04 16:20:49,212 - base - recpack - INFO - Processed epoch 3 in 2.48 s.Batch Training Loss = 0.1160\n",
      "2024-08-04 16:21:07,496 - stopping_criterion - recpack - INFO - StoppingCriterion has value 0.6972510060196273, which is worse than previous iterations.\n",
      "2024-08-04 16:21:07,497 - base - recpack - INFO - Evaluation at end of 3 took 18.28 s.\n",
      "2024-08-04 16:21:10,020 - base - recpack - INFO - Processed epoch 4 in 2.52 s.Batch Training Loss = 0.1015\n",
      "2024-08-04 16:21:26,909 - stopping_criterion - recpack - INFO - StoppingCriterion has value 0.6968145260891794, which is worse than previous iterations.\n",
      "2024-08-04 16:21:26,911 - base - recpack - INFO - Evaluation at end of 4 took 16.89 s.\n",
      "2024-08-04 16:21:26,944 - base - recpack - INFO - Fitting LightGCNAlgorithm complete - Took 1.01e+02s\n"
     ]
    },
    {
     "name": "stderr",
     "output_type": "stream",
     "text": [
      "/opt/conda/lib/python3.11/site-packages/recpack/algorithms/base.py:509: FutureWarning: You are using `torch.load` with `weights_only=False` (the current default value), which uses the default pickle module implicitly. It is possible to construct malicious pickle data which will execute arbitrary code during unpickling (See https://github.com/pytorch/pytorch/blob/main/SECURITY.md#untrusted-models for more details). In a future release, the default value for `weights_only` will be flipped to `True`. This limits the functions that could be executed during unpickling. Arbitrary objects will no longer be allowed to be loaded via this mode unless they are explicitly allowlisted by the user via `torch.serialization.add_safe_globals`. We recommend you start setting `weights_only=True` for any use case where you don't have full control of the loaded file. Please open an issue on GitHub for any issues related to this experimental feature.\n",
      "  self.model_ = torch.load(self.best_model)\n",
      "/tmp/ipykernel_3762/4206860820.py:81: UserWarning: To copy construct from a tensor, it is recommended to use sourceTensor.clone().detach() or sourceTensor.clone().detach().requires_grad_(True), rather than torch.tensor(sourceTensor).\n",
      "  user_indices = torch.tensor(user_indices).to(self.device)\n",
      "/tmp/ipykernel_3762/4206860820.py:82: UserWarning: To copy construct from a tensor, it is recommended to use sourceTensor.clone().detach() or sourceTensor.clone().detach().requires_grad_(True), rather than torch.tensor(sourceTensor).\n",
      "  pos_item_indices = torch.tensor(pos_item_indices).to(self.device)\n",
      "/tmp/ipykernel_3762/4206860820.py:83: UserWarning: To copy construct from a tensor, it is recommended to use sourceTensor.clone().detach() or sourceTensor.clone().detach().requires_grad_(True), rather than torch.tensor(sourceTensor).\n",
      "  neg_item_indices = torch.tensor(neg_item_indices).to(self.device).squeeze()\n"
     ]
    },
    {
     "name": "stdout",
     "output_type": "stream",
     "text": [
      "2024-08-04 16:21:51,909 - base - recpack - INFO - Processed epoch 0 in 2.56 s.Batch Training Loss = 0.2533\n",
      "2024-08-04 16:22:09,245 - stopping_criterion - recpack - INFO - StoppingCriterion has value 0.693764085643032, which is better than previous iterations.\n",
      "2024-08-04 16:22:09,246 - base - recpack - INFO - Model improved. Storing better model.\n",
      "2024-08-04 16:22:09,303 - base - recpack - INFO - Evaluation at end of 0 took 17.39 s.\n",
      "2024-08-04 16:22:11,922 - base - recpack - INFO - Processed epoch 1 in 2.62 s.Batch Training Loss = 0.1105\n",
      "2024-08-04 16:22:29,389 - stopping_criterion - recpack - INFO - StoppingCriterion has value 0.6942464392478546, which is worse than previous iterations.\n",
      "2024-08-04 16:22:29,390 - base - recpack - INFO - Evaluation at end of 1 took 17.47 s.\n",
      "2024-08-04 16:22:32,128 - base - recpack - INFO - Processed epoch 2 in 2.74 s.Batch Training Loss = 0.0959\n",
      "2024-08-04 16:22:50,082 - stopping_criterion - recpack - INFO - StoppingCriterion has value 0.6927156162379505, which is worse than previous iterations.\n",
      "2024-08-04 16:22:50,084 - base - recpack - INFO - Evaluation at end of 2 took 17.95 s.\n",
      "2024-08-04 16:22:52,872 - base - recpack - INFO - Processed epoch 3 in 2.79 s.Batch Training Loss = 0.0892\n",
      "2024-08-04 16:23:10,858 - stopping_criterion - recpack - INFO - StoppingCriterion has value 0.6944747071110036, which is worse than previous iterations.\n",
      "2024-08-04 16:23:10,859 - base - recpack - INFO - Evaluation at end of 3 took 17.99 s.\n",
      "2024-08-04 16:23:13,423 - base - recpack - INFO - Processed epoch 4 in 2.56 s.Batch Training Loss = 0.0842\n",
      "2024-08-04 16:23:31,413 - stopping_criterion - recpack - INFO - StoppingCriterion has value 0.6945007758312053, which is worse than previous iterations.\n",
      "2024-08-04 16:23:31,414 - base - recpack - INFO - Evaluation at end of 4 took 17.99 s.\n",
      "2024-08-04 16:23:31,446 - base - recpack - INFO - Fitting LightGCNAlgorithm complete - Took 1.02e+02s\n"
     ]
    },
    {
     "name": "stderr",
     "output_type": "stream",
     "text": [
      "/opt/conda/lib/python3.11/site-packages/recpack/algorithms/base.py:509: FutureWarning: You are using `torch.load` with `weights_only=False` (the current default value), which uses the default pickle module implicitly. It is possible to construct malicious pickle data which will execute arbitrary code during unpickling (See https://github.com/pytorch/pytorch/blob/main/SECURITY.md#untrusted-models for more details). In a future release, the default value for `weights_only` will be flipped to `True`. This limits the functions that could be executed during unpickling. Arbitrary objects will no longer be allowed to be loaded via this mode unless they are explicitly allowlisted by the user via `torch.serialization.add_safe_globals`. We recommend you start setting `weights_only=True` for any use case where you don't have full control of the loaded file. Please open an issue on GitHub for any issues related to this experimental feature.\n",
      "  self.model_ = torch.load(self.best_model)\n",
      "/tmp/ipykernel_3762/4206860820.py:81: UserWarning: To copy construct from a tensor, it is recommended to use sourceTensor.clone().detach() or sourceTensor.clone().detach().requires_grad_(True), rather than torch.tensor(sourceTensor).\n",
      "  user_indices = torch.tensor(user_indices).to(self.device)\n",
      "/tmp/ipykernel_3762/4206860820.py:82: UserWarning: To copy construct from a tensor, it is recommended to use sourceTensor.clone().detach() or sourceTensor.clone().detach().requires_grad_(True), rather than torch.tensor(sourceTensor).\n",
      "  pos_item_indices = torch.tensor(pos_item_indices).to(self.device)\n",
      "/tmp/ipykernel_3762/4206860820.py:83: UserWarning: To copy construct from a tensor, it is recommended to use sourceTensor.clone().detach() or sourceTensor.clone().detach().requires_grad_(True), rather than torch.tensor(sourceTensor).\n",
      "  neg_item_indices = torch.tensor(neg_item_indices).to(self.device).squeeze()\n"
     ]
    },
    {
     "name": "stdout",
     "output_type": "stream",
     "text": [
      "2024-08-04 16:23:56,988 - base - recpack - INFO - Processed epoch 0 in 2.63 s.Batch Training Loss = 0.6314\n",
      "2024-08-04 16:24:14,397 - stopping_criterion - recpack - INFO - StoppingCriterion has value 0.6929225248184446, which is better than previous iterations.\n",
      "2024-08-04 16:24:14,399 - base - recpack - INFO - Model improved. Storing better model.\n",
      "2024-08-04 16:24:14,459 - base - recpack - INFO - Evaluation at end of 0 took 17.47 s.\n",
      "2024-08-04 16:24:17,111 - base - recpack - INFO - Processed epoch 1 in 2.65 s.Batch Training Loss = 0.3863\n",
      "2024-08-04 16:24:34,876 - stopping_criterion - recpack - INFO - StoppingCriterion has value 0.6931801658049614, which is worse than previous iterations.\n",
      "2024-08-04 16:24:34,877 - base - recpack - INFO - Evaluation at end of 1 took 17.77 s.\n",
      "2024-08-04 16:24:37,536 - base - recpack - INFO - Processed epoch 2 in 2.66 s.Batch Training Loss = 0.2424\n",
      "2024-08-04 16:24:55,476 - stopping_criterion - recpack - INFO - StoppingCriterion has value 0.6933110060715539, which is worse than previous iterations.\n",
      "2024-08-04 16:24:55,477 - base - recpack - INFO - Evaluation at end of 2 took 17.94 s.\n",
      "2024-08-04 16:24:58,036 - base - recpack - INFO - Processed epoch 3 in 2.56 s.Batch Training Loss = 0.1862\n",
      "2024-08-04 16:25:15,202 - stopping_criterion - recpack - INFO - StoppingCriterion has value 0.6928033004725918, which is worse than previous iterations.\n",
      "2024-08-04 16:25:15,203 - base - recpack - INFO - Evaluation at end of 3 took 17.16 s.\n",
      "2024-08-04 16:25:17,750 - base - recpack - INFO - Processed epoch 4 in 2.55 s.Batch Training Loss = 0.1568\n",
      "2024-08-04 16:25:35,376 - stopping_criterion - recpack - INFO - StoppingCriterion has value 0.6928448002795473, which is worse than previous iterations.\n",
      "2024-08-04 16:25:35,377 - base - recpack - INFO - Evaluation at end of 4 took 17.63 s.\n",
      "2024-08-04 16:25:35,409 - base - recpack - INFO - Fitting LightGCNAlgorithm complete - Took 1.01e+02s\n"
     ]
    },
    {
     "name": "stderr",
     "output_type": "stream",
     "text": [
      "/opt/conda/lib/python3.11/site-packages/recpack/algorithms/base.py:509: FutureWarning: You are using `torch.load` with `weights_only=False` (the current default value), which uses the default pickle module implicitly. It is possible to construct malicious pickle data which will execute arbitrary code during unpickling (See https://github.com/pytorch/pytorch/blob/main/SECURITY.md#untrusted-models for more details). In a future release, the default value for `weights_only` will be flipped to `True`. This limits the functions that could be executed during unpickling. Arbitrary objects will no longer be allowed to be loaded via this mode unless they are explicitly allowlisted by the user via `torch.serialization.add_safe_globals`. We recommend you start setting `weights_only=True` for any use case where you don't have full control of the loaded file. Please open an issue on GitHub for any issues related to this experimental feature.\n",
      "  self.model_ = torch.load(self.best_model)\n",
      "/tmp/ipykernel_3762/4206860820.py:81: UserWarning: To copy construct from a tensor, it is recommended to use sourceTensor.clone().detach() or sourceTensor.clone().detach().requires_grad_(True), rather than torch.tensor(sourceTensor).\n",
      "  user_indices = torch.tensor(user_indices).to(self.device)\n",
      "/tmp/ipykernel_3762/4206860820.py:82: UserWarning: To copy construct from a tensor, it is recommended to use sourceTensor.clone().detach() or sourceTensor.clone().detach().requires_grad_(True), rather than torch.tensor(sourceTensor).\n",
      "  pos_item_indices = torch.tensor(pos_item_indices).to(self.device)\n",
      "/tmp/ipykernel_3762/4206860820.py:83: UserWarning: To copy construct from a tensor, it is recommended to use sourceTensor.clone().detach() or sourceTensor.clone().detach().requires_grad_(True), rather than torch.tensor(sourceTensor).\n",
      "  neg_item_indices = torch.tensor(neg_item_indices).to(self.device).squeeze()\n"
     ]
    },
    {
     "name": "stdout",
     "output_type": "stream",
     "text": [
      "2024-08-04 16:26:01,245 - base - recpack - INFO - Processed epoch 0 in 3.40 s.Batch Training Loss = 0.2354\n",
      "2024-08-04 16:26:19,367 - stopping_criterion - recpack - INFO - StoppingCriterion has value 0.6978755409878843, which is better than previous iterations.\n",
      "2024-08-04 16:26:19,368 - base - recpack - INFO - Model improved. Storing better model.\n",
      "2024-08-04 16:26:19,476 - base - recpack - INFO - Evaluation at end of 0 took 18.23 s.\n",
      "2024-08-04 16:26:21,692 - base - recpack - INFO - Processed epoch 1 in 2.21 s.Batch Training Loss = 0.2590\n",
      "2024-08-04 16:26:39,713 - stopping_criterion - recpack - INFO - StoppingCriterion has value 0.6998723982685229, which is worse than previous iterations.\n",
      "2024-08-04 16:26:39,714 - base - recpack - INFO - Evaluation at end of 1 took 18.02 s.\n",
      "2024-08-04 16:26:41,593 - base - recpack - INFO - Processed epoch 2 in 1.88 s.Batch Training Loss = 0.2617\n",
      "2024-08-04 16:26:59,149 - stopping_criterion - recpack - INFO - StoppingCriterion has value 0.6999352953132717, which is worse than previous iterations.\n",
      "2024-08-04 16:26:59,150 - base - recpack - INFO - Evaluation at end of 2 took 17.56 s.\n",
      "2024-08-04 16:27:01,013 - base - recpack - INFO - Processed epoch 3 in 1.86 s.Batch Training Loss = 0.2559\n",
      "2024-08-04 16:27:19,172 - stopping_criterion - recpack - INFO - StoppingCriterion has value 0.7008223807984669, which is worse than previous iterations.\n",
      "2024-08-04 16:27:19,175 - base - recpack - INFO - Evaluation at end of 3 took 18.16 s.\n",
      "2024-08-04 16:27:20,845 - base - recpack - INFO - Processed epoch 4 in 1.67 s.Batch Training Loss = 0.2627\n",
      "2024-08-04 16:27:38,849 - stopping_criterion - recpack - INFO - StoppingCriterion has value 0.702157007104863, which is worse than previous iterations.\n",
      "2024-08-04 16:27:38,851 - base - recpack - INFO - Evaluation at end of 4 took 18.00 s.\n",
      "2024-08-04 16:27:38,909 - base - recpack - INFO - Fitting LightGCNAlgorithm complete - Took 1.01e+02s\n"
     ]
    },
    {
     "name": "stderr",
     "output_type": "stream",
     "text": [
      "/opt/conda/lib/python3.11/site-packages/recpack/algorithms/base.py:509: FutureWarning: You are using `torch.load` with `weights_only=False` (the current default value), which uses the default pickle module implicitly. It is possible to construct malicious pickle data which will execute arbitrary code during unpickling (See https://github.com/pytorch/pytorch/blob/main/SECURITY.md#untrusted-models for more details). In a future release, the default value for `weights_only` will be flipped to `True`. This limits the functions that could be executed during unpickling. Arbitrary objects will no longer be allowed to be loaded via this mode unless they are explicitly allowlisted by the user via `torch.serialization.add_safe_globals`. We recommend you start setting `weights_only=True` for any use case where you don't have full control of the loaded file. Please open an issue on GitHub for any issues related to this experimental feature.\n",
      "  self.model_ = torch.load(self.best_model)\n",
      "/tmp/ipykernel_3762/4206860820.py:81: UserWarning: To copy construct from a tensor, it is recommended to use sourceTensor.clone().detach() or sourceTensor.clone().detach().requires_grad_(True), rather than torch.tensor(sourceTensor).\n",
      "  user_indices = torch.tensor(user_indices).to(self.device)\n",
      "/tmp/ipykernel_3762/4206860820.py:82: UserWarning: To copy construct from a tensor, it is recommended to use sourceTensor.clone().detach() or sourceTensor.clone().detach().requires_grad_(True), rather than torch.tensor(sourceTensor).\n",
      "  pos_item_indices = torch.tensor(pos_item_indices).to(self.device)\n",
      "/tmp/ipykernel_3762/4206860820.py:83: UserWarning: To copy construct from a tensor, it is recommended to use sourceTensor.clone().detach() or sourceTensor.clone().detach().requires_grad_(True), rather than torch.tensor(sourceTensor).\n",
      "  neg_item_indices = torch.tensor(neg_item_indices).to(self.device).squeeze()\n"
     ]
    },
    {
     "name": "stdout",
     "output_type": "stream",
     "text": [
      "2024-08-04 16:28:04,410 - base - recpack - INFO - Processed epoch 0 in 3.64 s.Batch Training Loss = 0.2216\n",
      "2024-08-04 16:28:21,789 - stopping_criterion - recpack - INFO - StoppingCriterion has value 0.6935064364442387, which is better than previous iterations.\n",
      "2024-08-04 16:28:21,790 - base - recpack - INFO - Model improved. Storing better model.\n",
      "2024-08-04 16:28:21,898 - base - recpack - INFO - Evaluation at end of 0 took 17.49 s.\n",
      "2024-08-04 16:28:25,518 - base - recpack - INFO - Processed epoch 1 in 3.62 s.Batch Training Loss = 0.1055\n",
      "2024-08-04 16:28:43,382 - stopping_criterion - recpack - INFO - StoppingCriterion has value 0.6941477057790343, which is worse than previous iterations.\n",
      "2024-08-04 16:28:43,383 - base - recpack - INFO - Evaluation at end of 1 took 17.86 s.\n",
      "2024-08-04 16:28:47,018 - base - recpack - INFO - Processed epoch 2 in 3.63 s.Batch Training Loss = 0.0887\n",
      "2024-08-04 16:29:04,984 - stopping_criterion - recpack - INFO - StoppingCriterion has value 0.6937701422029867, which is worse than previous iterations.\n",
      "2024-08-04 16:29:04,985 - base - recpack - INFO - Evaluation at end of 2 took 17.97 s.\n",
      "2024-08-04 16:29:08,641 - base - recpack - INFO - Processed epoch 3 in 3.65 s.Batch Training Loss = 0.0861\n",
      "2024-08-04 16:29:25,973 - stopping_criterion - recpack - INFO - StoppingCriterion has value 0.693763907779307, which is worse than previous iterations.\n",
      "2024-08-04 16:29:25,974 - base - recpack - INFO - Evaluation at end of 3 took 17.33 s.\n",
      "2024-08-04 16:29:29,679 - base - recpack - INFO - Processed epoch 4 in 3.70 s.Batch Training Loss = 0.0837\n",
      "2024-08-04 16:29:47,294 - stopping_criterion - recpack - INFO - StoppingCriterion has value 0.6942005728730313, which is worse than previous iterations.\n",
      "2024-08-04 16:29:47,295 - base - recpack - INFO - Evaluation at end of 4 took 17.62 s.\n",
      "2024-08-04 16:29:47,353 - base - recpack - INFO - Fitting LightGCNAlgorithm complete - Took 1.07e+02s\n"
     ]
    },
    {
     "name": "stderr",
     "output_type": "stream",
     "text": [
      "/opt/conda/lib/python3.11/site-packages/recpack/algorithms/base.py:509: FutureWarning: You are using `torch.load` with `weights_only=False` (the current default value), which uses the default pickle module implicitly. It is possible to construct malicious pickle data which will execute arbitrary code during unpickling (See https://github.com/pytorch/pytorch/blob/main/SECURITY.md#untrusted-models for more details). In a future release, the default value for `weights_only` will be flipped to `True`. This limits the functions that could be executed during unpickling. Arbitrary objects will no longer be allowed to be loaded via this mode unless they are explicitly allowlisted by the user via `torch.serialization.add_safe_globals`. We recommend you start setting `weights_only=True` for any use case where you don't have full control of the loaded file. Please open an issue on GitHub for any issues related to this experimental feature.\n",
      "  self.model_ = torch.load(self.best_model)\n",
      "/tmp/ipykernel_3762/4206860820.py:81: UserWarning: To copy construct from a tensor, it is recommended to use sourceTensor.clone().detach() or sourceTensor.clone().detach().requires_grad_(True), rather than torch.tensor(sourceTensor).\n",
      "  user_indices = torch.tensor(user_indices).to(self.device)\n",
      "/tmp/ipykernel_3762/4206860820.py:82: UserWarning: To copy construct from a tensor, it is recommended to use sourceTensor.clone().detach() or sourceTensor.clone().detach().requires_grad_(True), rather than torch.tensor(sourceTensor).\n",
      "  pos_item_indices = torch.tensor(pos_item_indices).to(self.device)\n",
      "/tmp/ipykernel_3762/4206860820.py:83: UserWarning: To copy construct from a tensor, it is recommended to use sourceTensor.clone().detach() or sourceTensor.clone().detach().requires_grad_(True), rather than torch.tensor(sourceTensor).\n",
      "  neg_item_indices = torch.tensor(neg_item_indices).to(self.device).squeeze()\n"
     ]
    },
    {
     "name": "stdout",
     "output_type": "stream",
     "text": [
      "2024-08-04 16:30:13,689 - base - recpack - INFO - Processed epoch 0 in 3.63 s.Batch Training Loss = 0.5881\n",
      "2024-08-04 16:30:31,714 - stopping_criterion - recpack - INFO - StoppingCriterion has value 0.6937199638921236, which is better than previous iterations.\n",
      "2024-08-04 16:30:31,715 - base - recpack - INFO - Model improved. Storing better model.\n",
      "2024-08-04 16:30:31,822 - base - recpack - INFO - Evaluation at end of 0 took 18.13 s.\n",
      "2024-08-04 16:30:35,597 - base - recpack - INFO - Processed epoch 1 in 3.77 s.Batch Training Loss = 0.2919\n",
      "2024-08-04 16:30:53,101 - stopping_criterion - recpack - INFO - StoppingCriterion has value 0.6937378068728239, which is worse than previous iterations.\n",
      "2024-08-04 16:30:53,102 - base - recpack - INFO - Evaluation at end of 1 took 17.50 s.\n",
      "2024-08-04 16:30:56,832 - base - recpack - INFO - Processed epoch 2 in 3.73 s.Batch Training Loss = 0.1871\n",
      "2024-08-04 16:31:14,635 - stopping_criterion - recpack - INFO - StoppingCriterion has value 0.6939630386317703, which is worse than previous iterations.\n",
      "2024-08-04 16:31:14,636 - base - recpack - INFO - Evaluation at end of 2 took 17.80 s.\n",
      "2024-08-04 16:31:18,310 - base - recpack - INFO - Processed epoch 3 in 3.67 s.Batch Training Loss = 0.1511\n",
      "2024-08-04 16:31:36,507 - stopping_criterion - recpack - INFO - StoppingCriterion has value 0.6932993119693289, which is worse than previous iterations.\n",
      "2024-08-04 16:31:36,508 - base - recpack - INFO - Evaluation at end of 3 took 18.20 s.\n",
      "2024-08-04 16:31:40,201 - base - recpack - INFO - Processed epoch 4 in 3.69 s.Batch Training Loss = 0.1320\n",
      "2024-08-04 16:31:57,423 - stopping_criterion - recpack - INFO - StoppingCriterion has value 0.6939952678208215, which is worse than previous iterations.\n",
      "2024-08-04 16:31:57,424 - base - recpack - INFO - Evaluation at end of 4 took 17.22 s.\n",
      "2024-08-04 16:31:57,482 - base - recpack - INFO - Fitting LightGCNAlgorithm complete - Took 1.08e+02s\n"
     ]
    },
    {
     "name": "stderr",
     "output_type": "stream",
     "text": [
      "/opt/conda/lib/python3.11/site-packages/recpack/algorithms/base.py:509: FutureWarning: You are using `torch.load` with `weights_only=False` (the current default value), which uses the default pickle module implicitly. It is possible to construct malicious pickle data which will execute arbitrary code during unpickling (See https://github.com/pytorch/pytorch/blob/main/SECURITY.md#untrusted-models for more details). In a future release, the default value for `weights_only` will be flipped to `True`. This limits the functions that could be executed during unpickling. Arbitrary objects will no longer be allowed to be loaded via this mode unless they are explicitly allowlisted by the user via `torch.serialization.add_safe_globals`. We recommend you start setting `weights_only=True` for any use case where you don't have full control of the loaded file. Please open an issue on GitHub for any issues related to this experimental feature.\n",
      "  self.model_ = torch.load(self.best_model)\n",
      "/tmp/ipykernel_3762/4206860820.py:81: UserWarning: To copy construct from a tensor, it is recommended to use sourceTensor.clone().detach() or sourceTensor.clone().detach().requires_grad_(True), rather than torch.tensor(sourceTensor).\n",
      "  user_indices = torch.tensor(user_indices).to(self.device)\n",
      "/tmp/ipykernel_3762/4206860820.py:82: UserWarning: To copy construct from a tensor, it is recommended to use sourceTensor.clone().detach() or sourceTensor.clone().detach().requires_grad_(True), rather than torch.tensor(sourceTensor).\n",
      "  pos_item_indices = torch.tensor(pos_item_indices).to(self.device)\n",
      "/tmp/ipykernel_3762/4206860820.py:83: UserWarning: To copy construct from a tensor, it is recommended to use sourceTensor.clone().detach() or sourceTensor.clone().detach().requires_grad_(True), rather than torch.tensor(sourceTensor).\n",
      "  neg_item_indices = torch.tensor(neg_item_indices).to(self.device).squeeze()\n"
     ]
    },
    {
     "name": "stdout",
     "output_type": "stream",
     "text": [
      "2024-08-04 16:32:24,439 - base - recpack - INFO - Processed epoch 0 in 4.39 s.Batch Training Loss = 0.3199\n",
      "2024-08-04 16:32:41,572 - stopping_criterion - recpack - INFO - StoppingCriterion has value 0.6986445944099671, which is better than previous iterations.\n",
      "2024-08-04 16:32:41,573 - base - recpack - INFO - Model improved. Storing better model.\n",
      "2024-08-04 16:32:41,782 - base - recpack - INFO - Evaluation at end of 0 took 17.34 s.\n",
      "2024-08-04 16:32:44,406 - base - recpack - INFO - Processed epoch 1 in 2.62 s.Batch Training Loss = 0.3643\n",
      "2024-08-04 16:33:02,008 - stopping_criterion - recpack - INFO - StoppingCriterion has value 0.6983709090862136, which is worse than previous iterations.\n",
      "2024-08-04 16:33:02,009 - base - recpack - INFO - Evaluation at end of 1 took 17.60 s.\n",
      "2024-08-04 16:33:04,582 - base - recpack - INFO - Processed epoch 2 in 2.57 s.Batch Training Loss = 0.4172\n",
      "2024-08-04 16:33:22,342 - stopping_criterion - recpack - INFO - StoppingCriterion has value 0.7005112108667504, which is worse than previous iterations.\n",
      "2024-08-04 16:33:22,343 - base - recpack - INFO - Evaluation at end of 2 took 17.76 s.\n",
      "2024-08-04 16:33:24,836 - base - recpack - INFO - Processed epoch 3 in 2.49 s.Batch Training Loss = 0.4253\n",
      "2024-08-04 16:33:43,009 - stopping_criterion - recpack - INFO - StoppingCriterion has value 0.6992376714610722, which is worse than previous iterations.\n",
      "2024-08-04 16:33:43,010 - base - recpack - INFO - Evaluation at end of 3 took 18.17 s.\n",
      "2024-08-04 16:33:45,541 - base - recpack - INFO - Processed epoch 4 in 2.53 s.Batch Training Loss = 0.3590\n",
      "2024-08-04 16:34:03,074 - stopping_criterion - recpack - INFO - StoppingCriterion has value 0.7022288329193601, which is worse than previous iterations.\n",
      "2024-08-04 16:34:03,075 - base - recpack - INFO - Evaluation at end of 4 took 17.53 s.\n",
      "2024-08-04 16:34:03,186 - base - recpack - INFO - Fitting LightGCNAlgorithm complete - Took 1.04e+02s\n"
     ]
    },
    {
     "name": "stderr",
     "output_type": "stream",
     "text": [
      "/opt/conda/lib/python3.11/site-packages/recpack/algorithms/base.py:509: FutureWarning: You are using `torch.load` with `weights_only=False` (the current default value), which uses the default pickle module implicitly. It is possible to construct malicious pickle data which will execute arbitrary code during unpickling (See https://github.com/pytorch/pytorch/blob/main/SECURITY.md#untrusted-models for more details). In a future release, the default value for `weights_only` will be flipped to `True`. This limits the functions that could be executed during unpickling. Arbitrary objects will no longer be allowed to be loaded via this mode unless they are explicitly allowlisted by the user via `torch.serialization.add_safe_globals`. We recommend you start setting `weights_only=True` for any use case where you don't have full control of the loaded file. Please open an issue on GitHub for any issues related to this experimental feature.\n",
      "  self.model_ = torch.load(self.best_model)\n",
      "/tmp/ipykernel_3762/4206860820.py:81: UserWarning: To copy construct from a tensor, it is recommended to use sourceTensor.clone().detach() or sourceTensor.clone().detach().requires_grad_(True), rather than torch.tensor(sourceTensor).\n",
      "  user_indices = torch.tensor(user_indices).to(self.device)\n",
      "/tmp/ipykernel_3762/4206860820.py:82: UserWarning: To copy construct from a tensor, it is recommended to use sourceTensor.clone().detach() or sourceTensor.clone().detach().requires_grad_(True), rather than torch.tensor(sourceTensor).\n",
      "  pos_item_indices = torch.tensor(pos_item_indices).to(self.device)\n",
      "/tmp/ipykernel_3762/4206860820.py:83: UserWarning: To copy construct from a tensor, it is recommended to use sourceTensor.clone().detach() or sourceTensor.clone().detach().requires_grad_(True), rather than torch.tensor(sourceTensor).\n",
      "  neg_item_indices = torch.tensor(neg_item_indices).to(self.device).squeeze()\n"
     ]
    },
    {
     "name": "stdout",
     "output_type": "stream",
     "text": [
      "2024-08-04 16:34:31,948 - base - recpack - INFO - Processed epoch 0 in 5.87 s.Batch Training Loss = 0.1976\n",
      "2024-08-04 16:34:50,067 - stopping_criterion - recpack - INFO - StoppingCriterion has value 0.6945123548861797, which is better than previous iterations.\n",
      "2024-08-04 16:34:50,067 - base - recpack - INFO - Model improved. Storing better model.\n",
      "2024-08-04 16:34:50,282 - base - recpack - INFO - Evaluation at end of 0 took 18.33 s.\n",
      "2024-08-04 16:34:56,147 - base - recpack - INFO - Processed epoch 1 in 5.86 s.Batch Training Loss = 0.0987\n",
      "2024-08-04 16:35:13,546 - stopping_criterion - recpack - INFO - StoppingCriterion has value 0.6944732077006555, which is worse than previous iterations.\n",
      "2024-08-04 16:35:13,547 - base - recpack - INFO - Evaluation at end of 1 took 17.40 s.\n",
      "2024-08-04 16:35:19,408 - base - recpack - INFO - Processed epoch 2 in 5.86 s.Batch Training Loss = 0.0891\n",
      "2024-08-04 16:35:37,137 - stopping_criterion - recpack - INFO - StoppingCriterion has value 0.6948403042226701, which is worse than previous iterations.\n",
      "2024-08-04 16:35:37,138 - base - recpack - INFO - Evaluation at end of 2 took 17.73 s.\n",
      "2024-08-04 16:35:42,948 - base - recpack - INFO - Processed epoch 3 in 5.81 s.Batch Training Loss = 0.0854\n",
      "2024-08-04 16:36:00,313 - stopping_criterion - recpack - INFO - StoppingCriterion has value 0.6953051557136314, which is worse than previous iterations.\n",
      "2024-08-04 16:36:00,314 - base - recpack - INFO - Evaluation at end of 3 took 17.37 s.\n",
      "2024-08-04 16:36:06,073 - base - recpack - INFO - Processed epoch 4 in 5.76 s.Batch Training Loss = 0.0852\n",
      "2024-08-04 16:36:23,466 - stopping_criterion - recpack - INFO - StoppingCriterion has value 0.6953348717990689, which is worse than previous iterations.\n",
      "2024-08-04 16:36:23,467 - base - recpack - INFO - Evaluation at end of 4 took 17.39 s.\n",
      "2024-08-04 16:36:23,579 - base - recpack - INFO - Fitting LightGCNAlgorithm complete - Took 1.18e+02s\n"
     ]
    },
    {
     "name": "stderr",
     "output_type": "stream",
     "text": [
      "/opt/conda/lib/python3.11/site-packages/recpack/algorithms/base.py:509: FutureWarning: You are using `torch.load` with `weights_only=False` (the current default value), which uses the default pickle module implicitly. It is possible to construct malicious pickle data which will execute arbitrary code during unpickling (See https://github.com/pytorch/pytorch/blob/main/SECURITY.md#untrusted-models for more details). In a future release, the default value for `weights_only` will be flipped to `True`. This limits the functions that could be executed during unpickling. Arbitrary objects will no longer be allowed to be loaded via this mode unless they are explicitly allowlisted by the user via `torch.serialization.add_safe_globals`. We recommend you start setting `weights_only=True` for any use case where you don't have full control of the loaded file. Please open an issue on GitHub for any issues related to this experimental feature.\n",
      "  self.model_ = torch.load(self.best_model)\n",
      "/tmp/ipykernel_3762/4206860820.py:81: UserWarning: To copy construct from a tensor, it is recommended to use sourceTensor.clone().detach() or sourceTensor.clone().detach().requires_grad_(True), rather than torch.tensor(sourceTensor).\n",
      "  user_indices = torch.tensor(user_indices).to(self.device)\n",
      "/tmp/ipykernel_3762/4206860820.py:82: UserWarning: To copy construct from a tensor, it is recommended to use sourceTensor.clone().detach() or sourceTensor.clone().detach().requires_grad_(True), rather than torch.tensor(sourceTensor).\n",
      "  pos_item_indices = torch.tensor(pos_item_indices).to(self.device)\n",
      "/tmp/ipykernel_3762/4206860820.py:83: UserWarning: To copy construct from a tensor, it is recommended to use sourceTensor.clone().detach() or sourceTensor.clone().detach().requires_grad_(True), rather than torch.tensor(sourceTensor).\n",
      "  neg_item_indices = torch.tensor(neg_item_indices).to(self.device).squeeze()\n"
     ]
    },
    {
     "name": "stdout",
     "output_type": "stream",
     "text": [
      "2024-08-04 16:36:52,127 - base - recpack - INFO - Processed epoch 0 in 5.86 s.Batch Training Loss = 0.5290\n",
      "2024-08-04 16:37:10,185 - stopping_criterion - recpack - INFO - StoppingCriterion has value 0.6931482322493041, which is better than previous iterations.\n",
      "2024-08-04 16:37:10,187 - base - recpack - INFO - Model improved. Storing better model.\n",
      "2024-08-04 16:37:10,453 - base - recpack - INFO - Evaluation at end of 0 took 18.32 s.\n",
      "2024-08-04 16:37:16,417 - base - recpack - INFO - Processed epoch 1 in 5.96 s.Batch Training Loss = 0.2208\n",
      "2024-08-04 16:37:33,602 - stopping_criterion - recpack - INFO - StoppingCriterion has value 0.6937285583372285, which is worse than previous iterations.\n",
      "2024-08-04 16:37:33,603 - base - recpack - INFO - Evaluation at end of 1 took 17.19 s.\n",
      "2024-08-04 16:37:39,463 - base - recpack - INFO - Processed epoch 2 in 5.86 s.Batch Training Loss = 0.1506\n",
      "2024-08-04 16:37:57,275 - stopping_criterion - recpack - INFO - StoppingCriterion has value 0.6941502234904738, which is worse than previous iterations.\n",
      "2024-08-04 16:37:57,276 - base - recpack - INFO - Evaluation at end of 2 took 17.81 s.\n",
      "2024-08-04 16:38:03,084 - base - recpack - INFO - Processed epoch 3 in 5.81 s.Batch Training Loss = 0.1273\n",
      "2024-08-04 16:38:20,298 - stopping_criterion - recpack - INFO - StoppingCriterion has value 0.6925694499080821, which is worse than previous iterations.\n",
      "2024-08-04 16:38:20,299 - base - recpack - INFO - Evaluation at end of 3 took 17.21 s.\n",
      "2024-08-04 16:38:26,113 - base - recpack - INFO - Processed epoch 4 in 5.81 s.Batch Training Loss = 0.1155\n",
      "2024-08-04 16:38:43,497 - stopping_criterion - recpack - INFO - StoppingCriterion has value 0.6941601691169738, which is worse than previous iterations.\n",
      "2024-08-04 16:38:43,498 - base - recpack - INFO - Evaluation at end of 4 took 17.38 s.\n",
      "2024-08-04 16:38:43,640 - base - recpack - INFO - Fitting LightGCNAlgorithm complete - Took 1.18e+02s\n"
     ]
    },
    {
     "name": "stderr",
     "output_type": "stream",
     "text": [
      "/opt/conda/lib/python3.11/site-packages/recpack/algorithms/base.py:509: FutureWarning: You are using `torch.load` with `weights_only=False` (the current default value), which uses the default pickle module implicitly. It is possible to construct malicious pickle data which will execute arbitrary code during unpickling (See https://github.com/pytorch/pytorch/blob/main/SECURITY.md#untrusted-models for more details). In a future release, the default value for `weights_only` will be flipped to `True`. This limits the functions that could be executed during unpickling. Arbitrary objects will no longer be allowed to be loaded via this mode unless they are explicitly allowlisted by the user via `torch.serialization.add_safe_globals`. We recommend you start setting `weights_only=True` for any use case where you don't have full control of the loaded file. Please open an issue on GitHub for any issues related to this experimental feature.\n",
      "  self.model_ = torch.load(self.best_model)\n",
      "/tmp/ipykernel_3762/4206860820.py:81: UserWarning: To copy construct from a tensor, it is recommended to use sourceTensor.clone().detach() or sourceTensor.clone().detach().requires_grad_(True), rather than torch.tensor(sourceTensor).\n",
      "  user_indices = torch.tensor(user_indices).to(self.device)\n",
      "/tmp/ipykernel_3762/4206860820.py:82: UserWarning: To copy construct from a tensor, it is recommended to use sourceTensor.clone().detach() or sourceTensor.clone().detach().requires_grad_(True), rather than torch.tensor(sourceTensor).\n",
      "  pos_item_indices = torch.tensor(pos_item_indices).to(self.device)\n",
      "/tmp/ipykernel_3762/4206860820.py:83: UserWarning: To copy construct from a tensor, it is recommended to use sourceTensor.clone().detach() or sourceTensor.clone().detach().requires_grad_(True), rather than torch.tensor(sourceTensor).\n",
      "  neg_item_indices = torch.tensor(neg_item_indices).to(self.device).squeeze()\n"
     ]
    },
    {
     "name": "stdout",
     "output_type": "stream",
     "text": [
      "2024-08-04 16:39:08,218 - base - recpack - INFO - Processed epoch 0 in 2.65 s.Batch Training Loss = 0.2542\n",
      "2024-08-04 16:39:25,808 - stopping_criterion - recpack - INFO - StoppingCriterion has value 0.6939483783111025, which is better than previous iterations.\n",
      "2024-08-04 16:39:25,809 - base - recpack - INFO - Model improved. Storing better model.\n",
      "2024-08-04 16:39:25,864 - base - recpack - INFO - Evaluation at end of 0 took 17.64 s.\n",
      "2024-08-04 16:39:28,669 - base - recpack - INFO - Processed epoch 1 in 2.80 s.Batch Training Loss = 0.1108\n",
      "2024-08-04 16:39:46,435 - stopping_criterion - recpack - INFO - StoppingCriterion has value 0.6942927179718827, which is worse than previous iterations.\n",
      "2024-08-04 16:39:46,436 - base - recpack - INFO - Evaluation at end of 1 took 17.77 s.\n",
      "2024-08-04 16:39:49,197 - base - recpack - INFO - Processed epoch 2 in 2.76 s.Batch Training Loss = 0.0956\n",
      "2024-08-04 16:40:06,943 - stopping_criterion - recpack - INFO - StoppingCriterion has value 0.6948049135750978, which is worse than previous iterations.\n",
      "2024-08-04 16:40:06,944 - base - recpack - INFO - Evaluation at end of 2 took 17.75 s.\n",
      "2024-08-04 16:40:09,546 - base - recpack - INFO - Processed epoch 3 in 2.60 s.Batch Training Loss = 0.0898\n",
      "2024-08-04 16:40:27,772 - stopping_criterion - recpack - INFO - StoppingCriterion has value 0.6952873930107519, which is worse than previous iterations.\n",
      "2024-08-04 16:40:27,773 - base - recpack - INFO - Evaluation at end of 3 took 18.23 s.\n",
      "2024-08-04 16:40:30,336 - base - recpack - INFO - Processed epoch 4 in 2.56 s.Batch Training Loss = 0.0863\n",
      "2024-08-04 16:40:47,577 - stopping_criterion - recpack - INFO - StoppingCriterion has value 0.695590955143857, which is worse than previous iterations.\n",
      "2024-08-04 16:40:47,578 - base - recpack - INFO - Evaluation at end of 4 took 17.24 s.\n",
      "2024-08-04 16:40:47,609 - base - recpack - INFO - Fitting LightGCNAlgorithm complete - Took 1.02e+02s\n"
     ]
    },
    {
     "name": "stderr",
     "output_type": "stream",
     "text": [
      "/opt/conda/lib/python3.11/site-packages/recpack/algorithms/base.py:509: FutureWarning: You are using `torch.load` with `weights_only=False` (the current default value), which uses the default pickle module implicitly. It is possible to construct malicious pickle data which will execute arbitrary code during unpickling (See https://github.com/pytorch/pytorch/blob/main/SECURITY.md#untrusted-models for more details). In a future release, the default value for `weights_only` will be flipped to `True`. This limits the functions that could be executed during unpickling. Arbitrary objects will no longer be allowed to be loaded via this mode unless they are explicitly allowlisted by the user via `torch.serialization.add_safe_globals`. We recommend you start setting `weights_only=True` for any use case where you don't have full control of the loaded file. Please open an issue on GitHub for any issues related to this experimental feature.\n",
      "  self.model_ = torch.load(self.best_model)\n"
     ]
    }
   ],
   "source": [
    "pipeline_builder = PipelineBuilder()\n",
    "ok = (scenario._validation_data_in, scenario._validation_data_out)\n",
    "pipeline_builder.set_data_from_scenario(scenario)\n",
    "\n",
    "\n",
    "# Add the baseline algorithms\n",
    "#pipeline_builder.add_algorithm('ItemKNN', grid={'K': [100, 200, 400, 800]})\n",
    "#pipeline_builder.add_algorithm('EASE', grid={'l2': [10, 100, 1000], 'alpha': [0, 0.1, 0.5]})\n",
    "\n",
    "# Add our LightGCN algorithm\n",
    "pipeline_builder.add_algorithm(\n",
    "    'LightGCNAlgorithm1',\n",
    "    grid={\n",
    "        'learning_rate': [0.1, 0.01, 0.001],\n",
    "        'embedding_dim': [100, 200, 400]\n",
    "    },\n",
    "    params={\n",
    "        'max_epochs': 5,\n",
    "        'batch_size': 1024,\n",
    "        'n_layers': 3\n",
    "    }\n",
    ")\n",
    "\n",
    "# Add NDCG, Recall, and HR metrics to be evaluated at 10, 20, and 50\n",
    "pipeline_builder.add_metric('NDCGK', [10, 20, 50])\n",
    "pipeline_builder.add_metric('RecallK', [10, 20, 50])\n",
    "pipeline_builder.add_metric('HitK', [10, 20, 50])\n",
    "\n",
    "# Set the optimisation metric\n",
    "pipeline_builder.set_optimisation_metric('RecallK', 20)\n",
    "\n",
    "# Construct pipeline\n",
    "pipeline = pipeline_builder.build()\n",
    "\n",
    "# Debugging: Output the shape of the training data\n",
    "#print(f\"Training data shape: {im.shape}\")\n",
    "\n",
    "# Run pipeline, will first do optimisation, and then evaluation\n",
    "pipeline.run()"
   ]
  },
  {
   "cell_type": "markdown",
   "id": "78c76177-d91f-4e2a-8513-939bf43684d9",
   "metadata": {},
   "source": [
    "## Results"
   ]
  },
  {
   "cell_type": "code",
   "execution_count": 42,
   "id": "e80f2784-1ed9-4d93-9883-4c34213d62ed",
   "metadata": {},
   "outputs": [
    {
     "data": {
      "text/html": [
       "<div>\n",
       "<style scoped>\n",
       "    .dataframe tbody tr th:only-of-type {\n",
       "        vertical-align: middle;\n",
       "    }\n",
       "\n",
       "    .dataframe tbody tr th {\n",
       "        vertical-align: top;\n",
       "    }\n",
       "\n",
       "    .dataframe thead th {\n",
       "        text-align: right;\n",
       "    }\n",
       "</style>\n",
       "<table border=\"1\" class=\"dataframe\">\n",
       "  <thead>\n",
       "    <tr style=\"text-align: right;\">\n",
       "      <th></th>\n",
       "      <th>NDCGK_10</th>\n",
       "      <th>NDCGK_20</th>\n",
       "      <th>NDCGK_50</th>\n",
       "      <th>RecallK_10</th>\n",
       "      <th>RecallK_20</th>\n",
       "      <th>RecallK_50</th>\n",
       "      <th>HitK_10</th>\n",
       "      <th>HitK_20</th>\n",
       "      <th>HitK_50</th>\n",
       "    </tr>\n",
       "  </thead>\n",
       "  <tbody>\n",
       "    <tr>\n",
       "      <th>LightGCNAlgorithm(batch_size=1024,embedding_dim=100,keep_last=False,learning_rate=0.01,max_epochs=5,max_iter_no_change=5,min_improvement=0.01,n_layers=3,predict_topK=None,reg_weight=1e-05,save_best_to_file=False,seed=3647745631,stop_early=True,stopping_criterion=&lt;recpack.algorithms.stopping_criterion.StoppingCriterion object at 0x7f66c76cdd50&gt;,validation_sample_size=None)</th>\n",
       "      <td>0.031082</td>\n",
       "      <td>0.042532</td>\n",
       "      <td>0.055994</td>\n",
       "      <td>0.062554</td>\n",
       "      <td>0.105838</td>\n",
       "      <td>0.1703</td>\n",
       "      <td>0.076439</td>\n",
       "      <td>0.129807</td>\n",
       "      <td>0.212305</td>\n",
       "    </tr>\n",
       "  </tbody>\n",
       "</table>\n",
       "</div>"
      ],
      "text/plain": [
       "                                                    NDCGK_10  NDCGK_20  \\\n",
       "LightGCNAlgorithm(batch_size=1024,embedding_dim...  0.031082  0.042532   \n",
       "\n",
       "                                                    NDCGK_50  RecallK_10  \\\n",
       "LightGCNAlgorithm(batch_size=1024,embedding_dim...  0.055994    0.062554   \n",
       "\n",
       "                                                    RecallK_20  RecallK_50  \\\n",
       "LightGCNAlgorithm(batch_size=1024,embedding_dim...    0.105838      0.1703   \n",
       "\n",
       "                                                     HitK_10   HitK_20  \\\n",
       "LightGCNAlgorithm(batch_size=1024,embedding_dim...  0.076439  0.129807   \n",
       "\n",
       "                                                     HitK_50  \n",
       "LightGCNAlgorithm(batch_size=1024,embedding_dim...  0.212305  "
      ]
     },
     "execution_count": 42,
     "metadata": {},
     "output_type": "execute_result"
    }
   ],
   "source": [
    "pipeline.get_metrics()"
   ]
  },
  {
   "cell_type": "code",
   "execution_count": null,
   "id": "06eb89bb-82dc-4982-8025-327b4e25fddb",
   "metadata": {},
   "outputs": [],
   "source": []
  }
 ],
 "metadata": {
  "kernelspec": {
   "display_name": "Python 3 (ipykernel)",
   "language": "python",
   "name": "python3"
  },
  "language_info": {
   "codemirror_mode": {
    "name": "ipython",
    "version": 3
   },
   "file_extension": ".py",
   "mimetype": "text/x-python",
   "name": "python",
   "nbconvert_exporter": "python",
   "pygments_lexer": "ipython3",
   "version": "3.11.9"
  }
 },
 "nbformat": 4,
 "nbformat_minor": 5
}
