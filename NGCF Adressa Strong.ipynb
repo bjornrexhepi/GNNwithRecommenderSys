{
 "cells": [
  {
   "cell_type": "markdown",
   "id": "703b9e02-fffa-4b2a-9ab1-9212a7b8b844",
   "metadata": {},
   "source": [
    "# NGCF with AddressaOneWeek Dataset and StrongGeneralization Scenario"
   ]
  },
  {
   "cell_type": "markdown",
   "id": "d4356022-02d8-456c-929f-4a838c156bb6",
   "metadata": {},
   "source": [
    "In this notebook, the implementation of NGCF in RecPack and the experimental part to generate the results of the algorithm will be presented. \n",
    "The notebook contains:\n",
    "1. The implementation of NGCF in RecPack.\n",
    "2. The 10% of AddressaOneWeek Dataset from RecPack and the StrongGeneralization Scenario has been used to split the data.\n",
    "3. The StrongGeneralization Scenario to split the data.\n",
    "4. The RecPack Pipeline Builder to run the experiments, including the splitted dataset, the algorithms and metrics to run. Hyperparameter has been performed in the Pipeline.\n",
    "\n",
    "Please make sure you have installed all the latest libraries in your Python environment, in order to have a successful run of the code."
   ]
  },
  {
   "cell_type": "markdown",
   "id": "f69238ac-aa98-4d65-971e-cb2fceb0fad1",
   "metadata": {},
   "source": [
    "## NGCF implementation in RecPack"
   ]
  },
  {
   "cell_type": "code",
   "execution_count": 1,
   "id": "5c7dc8a2-fbb5-4309-bb75-7274fd8fd280",
   "metadata": {},
   "outputs": [],
   "source": [
    "import torch\n",
    "import torch.nn as nn\n",
    "import torch.optim as optim\n",
    "from torch_sparse import SparseTensor, matmul\n",
    "from typing import List, Tuple, Optional\n",
    "from recpack.algorithms.base import TorchMLAlgorithm\n",
    "from recpack.matrix.interaction_matrix import InteractionMatrix\n",
    "from recpack.algorithms.loss_functions import bpr_loss\n",
    "from recpack.algorithms.samplers import PositiveNegativeSampler\n",
    "from scipy.sparse import csr_matrix\n",
    "import logging\n",
    "\n",
    "logger = logging.getLogger(__name__)\n",
    "\n",
    "# Neural Graph Collaborative Filtering (NGCF) model implementation\n",
    "class NGCF(nn.Module):\n",
    "    def __init__(self, num_users, num_items, embedding_dim=64, n_layers=3, dropout=0.0, node_dropout=0.0, message_dropout=0.0):\n",
    "        \"\"\"\n",
    "        Initialize the NGCF model with user and item embeddings.\n",
    "\n",
    "        Args:\n",
    "            num_users (int): Number of users.\n",
    "            num_items (int): Number of items.\n",
    "            embedding_dim (int): Dimension of the embedding vectors.\n",
    "            n_layers (int): Number of hidden layers.\n",
    "            dropout (float): Dropout rate for layers.\n",
    "            node_dropout (float): Dropout rate applied to node embeddings.\n",
    "            message_dropout (float): Dropout rate applied during message passing.\n",
    "        \"\"\"\n",
    "        super(NGCF, self).__init__()\n",
    "        self.num_users = num_users\n",
    "        self.num_items = num_items\n",
    "        self.embedding_dim = embedding_dim\n",
    "        self.n_layers = n_layers\n",
    "        self.dropout = dropout\n",
    "        self.node_dropout = node_dropout\n",
    "        self.message_dropout = message_dropout\n",
    "\n",
    "        # Initialize user and item embeddings\n",
    "        self.user_embedding = nn.Embedding(num_users, embedding_dim)\n",
    "        self.item_embedding = nn.Embedding(num_items, embedding_dim)\n",
    "        \n",
    "        # Define a list of linear layers for each propagation layer\n",
    "        self.layers = nn.ModuleList([nn.Linear(embedding_dim, embedding_dim) for _ in range(n_layers)])\n",
    "        \n",
    "        # Dropout layer for regularization\n",
    "        self.dropout_layer = nn.Dropout(dropout)\n",
    "        \n",
    "        # Initialize the parameters of the model\n",
    "        self.reset_parameters()\n",
    "\n",
    "    def reset_parameters(self):\n",
    "        \"\"\"\n",
    "        Initialize model parameters using Xavier uniform initialization.\n",
    "        \"\"\"\n",
    "        nn.init.xavier_uniform_(self.user_embedding.weight)\n",
    "        nn.init.xavier_uniform_(self.item_embedding.weight)\n",
    "        for layer in self.layers:\n",
    "            nn.init.xavier_uniform_(layer.weight)\n",
    "\n",
    "    def message_dropout_func(self, graph):\n",
    "        \"\"\"\n",
    "        Apply message dropout during graph convolution.\n",
    "\n",
    "        Args:\n",
    "            graph (SparseTensor): The graph's sparse adjacency matrix.\n",
    "\n",
    "        Returns:\n",
    "            SparseTensor: The adjacency matrix after applying message dropout.\n",
    "        \"\"\"\n",
    "        if self.message_dropout > 0:\n",
    "            row, col, value = graph.coo()\n",
    "            mask = torch.rand(row.size(0)) > self.message_dropout\n",
    "            row, col, value = row[mask], col[mask], value[mask]\n",
    "            graph = SparseTensor(row=row, col=col, value=value, sparse_sizes=graph.sparse_sizes())\n",
    "        return graph\n",
    "\n",
    "    def node_dropout_func(self, embeddings):\n",
    "        \"\"\"\n",
    "        Apply node dropout to the embeddings.\n",
    "\n",
    "        Args:\n",
    "            embeddings (torch.Tensor): The node embeddings.\n",
    "\n",
    "        Returns:\n",
    "            torch.Tensor: The embeddings after applying node dropout.\n",
    "        \"\"\"\n",
    "        if self.node_dropout > 0:\n",
    "            mask = (torch.rand(embeddings.size(0)) > self.node_dropout).float().to(embeddings.device)\n",
    "            embeddings = embeddings * mask.unsqueeze(1)\n",
    "        return embeddings\n",
    "\n",
    "    def forward(self, graph):\n",
    "        \"\"\"\n",
    "        Forward pass for the NGCF model.\n",
    "\n",
    "        Args:\n",
    "            graph (SparseTensor): The graph's sparse adjacency matrix.\n",
    "\n",
    "        Returns:\n",
    "            Tuple[torch.Tensor, torch.Tensor]: Final user and item embeddings.\n",
    "        \"\"\"\n",
    "        user_emb = self.user_embedding.weight\n",
    "        item_emb = self.item_embedding.weight\n",
    "        \n",
    "        # Apply node dropout to user and item embeddings\n",
    "        user_emb = self.node_dropout_func(user_emb)\n",
    "        item_emb = self.node_dropout_func(item_emb)\n",
    "        \n",
    "        # Concatenate user and item embeddings\n",
    "        all_emb = torch.cat([user_emb, item_emb], dim=0)\n",
    "        embs = [all_emb]\n",
    "\n",
    "        # Perform message passing and propagate embeddings through layers\n",
    "        for layer in self.layers:\n",
    "            graph = self.message_dropout_func(graph)\n",
    "            # Preventing CUDA/Library version error\n",
    "            try:\n",
    "                all_emb = matmul(graph, all_emb)\n",
    "            except RuntimeError as e:\n",
    "                break\n",
    "            all_emb = layer(all_emb)\n",
    "            all_emb = torch.relu(all_emb)\n",
    "            all_emb = self.dropout_layer(all_emb)\n",
    "            embs.append(all_emb)\n",
    "\n",
    "        # Compute the final embeddings by averaging the embeddings across layers\n",
    "        final_embedding = torch.mean(torch.stack(embs, dim=1), dim=1)\n",
    "        \n",
    "        # Split the final embeddings back into user and item embeddings\n",
    "        user_emb_final, item_emb_final = torch.split(final_embedding, [self.num_users, self.num_items])\n",
    "\n",
    "        return user_emb_final, item_emb_final"
   ]
  },
  {
   "cell_type": "code",
   "execution_count": 2,
   "id": "383f2777-5652-4d39-a111-9f8f71865f24",
   "metadata": {},
   "outputs": [],
   "source": [
    "from recpack.algorithms.base import TorchMLAlgorithm\n",
    "from recpack.matrix import Matrix\n",
    "from recpack.matrix.interaction_matrix import InteractionMatrix\n",
    "from recpack.algorithms.loss_functions import bpr_loss\n",
    "from recpack.algorithms.samplers import PositiveNegativeSampler\n",
    "from recpack.algorithms.stopping_criterion import (\n",
    "    EarlyStoppingException,\n",
    "    StoppingCriterion,\n",
    ")\n",
    "from typing import List, Tuple, Optional\n",
    "import numpy as np\n",
    "from scipy.sparse import csr_matrix, lil_matrix, coo_matrix\n",
    "import torch\n",
    "import torch.optim as optim\n",
    "import tempfile\n",
    "import time\n",
    "import logging\n",
    "\n",
    "logger = logging.getLogger(__name__)\n",
    "\n",
    "# NGCFAlgorithm: An implementation of the NGCF algorithm using TorchMLAlgorithm as a base class\n",
    "class NGCFAlgorithm(TorchMLAlgorithm):\n",
    "    def __init__(\n",
    "        self,\n",
    "        batch_size: int = 256,\n",
    "        max_epochs: int = 100,\n",
    "        learning_rate: float = 0.001,\n",
    "        embedding_dim: int = 64,\n",
    "        n_layers: int = 3,\n",
    "        dropout: float = 0.1,\n",
    "        node_dropout: float = 0.0,\n",
    "        message_dropout: float = 0.0,\n",
    "        stopping_criterion: str = \"bpr\",\n",
    "        stop_early: bool = True,\n",
    "        max_iter_no_change: int = 5,\n",
    "        min_improvement: float = 0.01,\n",
    "        seed: Optional[int] = None,\n",
    "        save_best_to_file: bool = False,\n",
    "        keep_last: bool = False,\n",
    "        predict_topK: Optional[int] = None,\n",
    "        validation_sample_size: Optional[int] = None,\n",
    "        grad_clip: float = 1.0,  # Gradient clipping value\n",
    "    ):\n",
    "        \"\"\"\n",
    "        Initialize the NGCFAlgorithm with various hyperparameters.\n",
    "\n",
    "        Args:\n",
    "            batch_size (int): Number of samples per batch.\n",
    "            max_epochs (int): Maximum number of training epochs.\n",
    "            learning_rate (float): Learning rate for the optimizer.\n",
    "            embedding_dim (int): Dimension of the embedding vectors.\n",
    "            n_layers (int): Number of hidden layers in the NGCF model.\n",
    "            dropout (float): Dropout rate for regularization.\n",
    "            node_dropout (float): Dropout rate applied to node embeddings.\n",
    "            message_dropout (float): Dropout rate applied during message passing.\n",
    "            stopping_criterion (str): Criterion to stop training early.\n",
    "            stop_early (bool): Whether to enable early stopping.\n",
    "            max_iter_no_change (int): Maximum iterations with no improvement for early stopping.\n",
    "            min_improvement (float): Minimum improvement required for early stopping.\n",
    "            seed (Optional[int]): Random seed for reproducibility.\n",
    "            save_best_to_file (bool): Whether to save the best model to a file.\n",
    "            keep_last (bool): Whether to keep the last model.\n",
    "            predict_topK (Optional[int]): Number of top-K predictions to consider.\n",
    "            validation_sample_size (Optional[int]): Size of the validation sample.\n",
    "            grad_clip (float): Maximum gradient norm for clipping.\n",
    "        \"\"\"\n",
    "        self.embedding_dim = embedding_dim\n",
    "        self.n_layers = n_layers\n",
    "        self.dropout = dropout\n",
    "        self.node_dropout = node_dropout\n",
    "        self.message_dropout = message_dropout\n",
    "        self.grad_clip = grad_clip\n",
    "        super().__init__(\n",
    "            batch_size=batch_size,\n",
    "            max_epochs=max_epochs,\n",
    "            learning_rate=learning_rate,\n",
    "            stopping_criterion=stopping_criterion,\n",
    "            stop_early=stop_early,\n",
    "            max_iter_no_change=max_iter_no_change,\n",
    "            min_improvement=min_improvement,\n",
    "            seed=seed,\n",
    "            save_best_to_file=save_best_to_file,\n",
    "            keep_last=keep_last,\n",
    "            predict_topK=predict_topK,\n",
    "            validation_sample_size=validation_sample_size,\n",
    "        )\n",
    "        self.device = torch.device('cuda' if torch.cuda.is_available() else 'cpu')\n",
    "\n",
    "    def _init_model(self, train: InteractionMatrix) -> None:\n",
    "        \"\"\"\n",
    "        Initialize the NGCF model and optimizer.\n",
    "\n",
    "        Args:\n",
    "            train (InteractionMatrix): The training interaction matrix.\n",
    "        \"\"\"\n",
    "        num_users, num_items = train.shape\n",
    "        self.model_ = NGCF(num_users, num_items, self.embedding_dim, self.n_layers, self.dropout, self.node_dropout, self.message_dropout).to(self.device)\n",
    "        self.optimizer = optim.Adam(self.model_.parameters(), lr=self.learning_rate)\n",
    "\n",
    "    def _create_sparse_graph(self, interaction_matrix: csr_matrix, num_users: int, num_items: int) -> SparseTensor:\n",
    "        \"\"\"\n",
    "        Create a sparse graph from the interaction matrix.\n",
    "\n",
    "        Args:\n",
    "            interaction_matrix (csr_matrix): The interaction matrix in CSR format.\n",
    "            num_users (int): Number of users.\n",
    "            num_items (int): Number of items.\n",
    "\n",
    "        Returns:\n",
    "            SparseTensor: A sparse tensor representing the graph.\n",
    "        \"\"\"\n",
    "        coo = interaction_matrix.tocoo()\n",
    "        row = torch.tensor(coo.row, dtype=torch.long)\n",
    "        col = torch.tensor(coo.col, dtype=torch.long)\n",
    "        value = torch.tensor(coo.data, dtype=torch.float32)\n",
    "        shape = (num_users + num_items, num_users + num_items)\n",
    "        graph = SparseTensor(row=row, col=col, value=value, sparse_sizes=shape).to(self.device)\n",
    "        return graph\n",
    "\n",
    "    def _train_epoch(self, train: InteractionMatrix) -> List[float]:\n",
    "        \"\"\"\n",
    "        Train the model for one epoch.\n",
    "\n",
    "        Args:\n",
    "            train (InteractionMatrix): The training interaction matrix.\n",
    "\n",
    "        Returns:\n",
    "            List[float]: A list of losses for each batch.\n",
    "        \"\"\"\n",
    "        self.model_.train()\n",
    "        interaction_matrix = train  # Get the sparse matrix directly\n",
    "        graph = self._create_sparse_graph(interaction_matrix, train.shape[0], train.shape[1])\n",
    "        total_loss = 0\n",
    "        losses = []\n",
    "\n",
    "        sampler = PositiveNegativeSampler(num_negatives=1, batch_size=self.batch_size)\n",
    "\n",
    "        # Iterate over samples generated by the PositiveNegativeSampler\n",
    "        for user_indices, pos_item_indices, neg_item_indices in sampler.sample(interaction_matrix):\n",
    "            user_indices = torch.tensor(user_indices).to(self.device)\n",
    "            pos_item_indices = torch.tensor(pos_item_indices).to(self.device)\n",
    "            neg_item_indices = torch.tensor(neg_item_indices).to(self.device).squeeze()\n",
    "\n",
    "            self.optimizer.zero_grad()\n",
    "            user_emb_final, item_emb_final = self.model_(graph)  # Call model only once\n",
    "            pos_scores = user_emb_final[user_indices] @ item_emb_final[pos_item_indices].t()\n",
    "            neg_scores = user_emb_final[user_indices] @ item_emb_final[neg_item_indices].t()\n",
    "\n",
    "            loss = bpr_loss(pos_scores, neg_scores)\n",
    "\n",
    "            if torch.isnan(loss).any() or torch.isinf(loss).any():\n",
    "                continue\n",
    "\n",
    "            loss.backward()\n",
    "            torch.nn.utils.clip_grad_norm_(self.model_.parameters(), max_norm=self.grad_clip)  # Gradient clipping\n",
    "            self.optimizer.step()\n",
    "\n",
    "            total_loss += loss.item()\n",
    "            losses.append(loss.item())\n",
    "\n",
    "        if len(losses) == 0:\n",
    "            return [float('nan')]\n",
    "\n",
    "        return losses\n",
    "\n",
    "    def _batch_predict(self, X: InteractionMatrix, users: List[int]) -> csr_matrix:\n",
    "        \"\"\"\n",
    "        Make batch predictions for a list of users.\n",
    "\n",
    "        Args:\n",
    "            X (InteractionMatrix): The interaction matrix.\n",
    "            users (List[int]): List of user indices to make predictions for.\n",
    "\n",
    "        Returns:\n",
    "            csr_matrix: A sparse matrix with the prediction scores.\n",
    "        \"\"\"\n",
    "        self.model_.eval()\n",
    "        graph = self._create_sparse_graph(X, X.shape[0], X.shape[1])\n",
    "        user_indices = torch.tensor(users).to(self.device)\n",
    "        item_indices = torch.arange(X.shape[1]).to(self.device)\n",
    "        \n",
    "        with torch.no_grad():\n",
    "            user_emb_final, item_emb_final = self.model_(graph)\n",
    "            scores = user_emb_final[user_indices] @ item_emb_final.t()\n",
    "            scores = scores.cpu().numpy()\n",
    "        \n",
    "        result = lil_matrix((X.shape[0], X.shape[1]))\n",
    "        for i, user in enumerate(users):\n",
    "            result[user] = scores[i]\n",
    "        \n",
    "        return result.tocsr()"
   ]
  },
  {
   "cell_type": "code",
   "execution_count": 3,
   "id": "e87fd90c-f8ae-4fcc-a455-90fb8f2335c2",
   "metadata": {},
   "outputs": [],
   "source": [
    "from recpack.datasets import Netflix, DummyDataset\n",
    "from recpack.pipelines import PipelineBuilder\n",
    "from recpack.scenarios import StrongGeneralization\n",
    "from recpack.pipelines import ALGORITHM_REGISTRY\n",
    "import pandas as pd"
   ]
  },
  {
   "cell_type": "code",
   "execution_count": 4,
   "id": "03a047ff-a58e-4ffb-bb09-247622834b08",
   "metadata": {},
   "outputs": [],
   "source": [
    "ALGORITHM_REGISTRY.register(\"NGCFAlgorithm\", NGCFAlgorithm)"
   ]
  },
  {
   "cell_type": "markdown",
   "id": "7b7fdf52-56e1-4168-994d-ab50e4365552",
   "metadata": {},
   "source": [
    "## RecPack Dataset Importing"
   ]
  },
  {
   "cell_type": "code",
   "execution_count": 5,
   "id": "288305e2-e570-4286-8468-c902e9d7ca25",
   "metadata": {},
   "outputs": [],
   "source": [
    "from recpack.datasets import AdressaOneWeek\n",
    "dataset = AdressaOneWeek()"
   ]
  },
  {
   "cell_type": "code",
   "execution_count": 6,
   "id": "9c73499f-1c14-4241-a0bd-e3412b4efd34",
   "metadata": {},
   "outputs": [],
   "source": [
    "dataset.fetch_dataset()"
   ]
  },
  {
   "cell_type": "code",
   "execution_count": 7,
   "id": "25bb2d15-0f4f-4142-8d5d-e06a6ea3c024",
   "metadata": {},
   "outputs": [
    {
     "data": {
      "text/plain": [
       "<recpack.datasets.adressa.AdressaOneWeek at 0x7f73e775a0d0>"
      ]
     },
     "execution_count": 7,
     "metadata": {},
     "output_type": "execute_result"
    }
   ],
   "source": [
    "dataset"
   ]
  },
  {
   "cell_type": "code",
   "execution_count": 8,
   "id": "a290f199-0a3d-4c2b-bc30-c82b5254ab34",
   "metadata": {},
   "outputs": [],
   "source": [
    "df = dataset._load_dataframe()"
   ]
  },
  {
   "cell_type": "markdown",
   "id": "91dc84ba-64c5-4519-b975-1d6ac6965c80",
   "metadata": {},
   "source": [
    "## Datasets with Timestamps sampling"
   ]
  },
  {
   "cell_type": "code",
   "execution_count": 9,
   "id": "66ac1379-2266-4bec-b6d3-9cf22c1aaedf",
   "metadata": {},
   "outputs": [],
   "source": [
    "timestamp_counts = df['time'].value_counts().sort_index(ascending=False)\n",
    "cumulative_counts = timestamp_counts.cumsum()\n",
    "total_counts = cumulative_counts.max()\n",
    "threshold_count = total_counts * 0.1\n",
    "threshold_timestamp = cumulative_counts[cumulative_counts >= threshold_count].index[0]"
   ]
  },
  {
   "cell_type": "code",
   "execution_count": 10,
   "id": "a8b54ee9-8024-4d18-89c8-7858f45d7906",
   "metadata": {},
   "outputs": [],
   "source": [
    "filtered_df = df[df['time'] >= threshold_timestamp]"
   ]
  },
  {
   "cell_type": "code",
   "execution_count": 11,
   "id": "877cfa8a-c9d3-4436-8a74-5009b026f266",
   "metadata": {},
   "outputs": [
    {
     "data": {
      "text/html": [
       "<div>\n",
       "<style scoped>\n",
       "    .dataframe tbody tr th:only-of-type {\n",
       "        vertical-align: middle;\n",
       "    }\n",
       "\n",
       "    .dataframe tbody tr th {\n",
       "        vertical-align: top;\n",
       "    }\n",
       "\n",
       "    .dataframe thead th {\n",
       "        text-align: right;\n",
       "    }\n",
       "</style>\n",
       "<table border=\"1\" class=\"dataframe\">\n",
       "  <thead>\n",
       "    <tr style=\"text-align: right;\">\n",
       "      <th></th>\n",
       "      <th>userId</th>\n",
       "      <th>id</th>\n",
       "      <th>time</th>\n",
       "    </tr>\n",
       "  </thead>\n",
       "  <tbody>\n",
       "    <tr>\n",
       "      <th>0</th>\n",
       "      <td>cx:2fs9x8i7jvcjyckoxqfa6l4lw:3rr1gvpcbzx8w</td>\n",
       "      <td>9f3999bd1a1a8d67bcb073ad54840f15cb30f014</td>\n",
       "      <td>1483225202</td>\n",
       "    </tr>\n",
       "    <tr>\n",
       "      <th>1</th>\n",
       "      <td>cx:2u0wp23pfgjcc12gorbv6mp6tp:1l4jele4s191</td>\n",
       "      <td>f21680b77830223807e4847b3307e6ffa1e175ed</td>\n",
       "      <td>1483225203</td>\n",
       "    </tr>\n",
       "    <tr>\n",
       "      <th>2</th>\n",
       "      <td>cx:kfubh0ub7g8z3g5mgndoaljqd:1w4rvohza6x7d</td>\n",
       "      <td>2607fc7d7b4c0ede839a5ff6d499fa428237443e</td>\n",
       "      <td>1483225203</td>\n",
       "    </tr>\n",
       "    <tr>\n",
       "      <th>3</th>\n",
       "      <td>cx:hua808o791zl6cx9:3s9kdckn8su34</td>\n",
       "      <td>68d1503c73ad169dcfff48214fd0274c4d612e63</td>\n",
       "      <td>1483225204</td>\n",
       "    </tr>\n",
       "    <tr>\n",
       "      <th>4</th>\n",
       "      <td>cx:1s8dobcz77bgl3jozo9wdodu0t:2h45sh9wqlrpp</td>\n",
       "      <td>68d1503c73ad169dcfff48214fd0274c4d612e63</td>\n",
       "      <td>1483225207</td>\n",
       "    </tr>\n",
       "    <tr>\n",
       "      <th>...</th>\n",
       "      <td>...</td>\n",
       "      <td>...</td>\n",
       "      <td>...</td>\n",
       "    </tr>\n",
       "    <tr>\n",
       "      <th>3101986</th>\n",
       "      <td>cx:9k87jvj35ts82aloy49wfxosg:952wl4r7sedv</td>\n",
       "      <td>d26dae18a47ee499c4aaca4a9b6017f1b5b1da13</td>\n",
       "      <td>1483830000</td>\n",
       "    </tr>\n",
       "    <tr>\n",
       "      <th>3101987</th>\n",
       "      <td>cx:ikird5ho7t08hlc6:2n6k9bd2ntk6v</td>\n",
       "      <td>8a3d76e1d7452ce38ae70fe900a9952be4305c63</td>\n",
       "      <td>1483830000</td>\n",
       "    </tr>\n",
       "    <tr>\n",
       "      <th>3101988</th>\n",
       "      <td>cx:2ry3bd6yl2fbb3mq9zs5cl4zvc:9oicxykjoyvo</td>\n",
       "      <td>faa8cc5200499acbf0f23f6b8e8f78b2b55d2c60</td>\n",
       "      <td>1483830001</td>\n",
       "    </tr>\n",
       "    <tr>\n",
       "      <th>3101989</th>\n",
       "      <td>cx:3c83unb96kkua3kw8jnflgge0n:1au0d7qhme3j5</td>\n",
       "      <td>4d44e61d966ed5a2c8b70a95eb9948aa2a10696f</td>\n",
       "      <td>1483830001</td>\n",
       "    </tr>\n",
       "    <tr>\n",
       "      <th>3101990</th>\n",
       "      <td>cx:iolu0een5wf8whla:1gtj0r7yyqtm8</td>\n",
       "      <td>64ae4a1db60e066701aa444bc0af2f8f3dbcda3f</td>\n",
       "      <td>1483830001</td>\n",
       "    </tr>\n",
       "  </tbody>\n",
       "</table>\n",
       "<p>3101991 rows × 3 columns</p>\n",
       "</div>"
      ],
      "text/plain": [
       "                                              userId  \\\n",
       "0         cx:2fs9x8i7jvcjyckoxqfa6l4lw:3rr1gvpcbzx8w   \n",
       "1         cx:2u0wp23pfgjcc12gorbv6mp6tp:1l4jele4s191   \n",
       "2         cx:kfubh0ub7g8z3g5mgndoaljqd:1w4rvohza6x7d   \n",
       "3                  cx:hua808o791zl6cx9:3s9kdckn8su34   \n",
       "4        cx:1s8dobcz77bgl3jozo9wdodu0t:2h45sh9wqlrpp   \n",
       "...                                              ...   \n",
       "3101986    cx:9k87jvj35ts82aloy49wfxosg:952wl4r7sedv   \n",
       "3101987            cx:ikird5ho7t08hlc6:2n6k9bd2ntk6v   \n",
       "3101988   cx:2ry3bd6yl2fbb3mq9zs5cl4zvc:9oicxykjoyvo   \n",
       "3101989  cx:3c83unb96kkua3kw8jnflgge0n:1au0d7qhme3j5   \n",
       "3101990            cx:iolu0een5wf8whla:1gtj0r7yyqtm8   \n",
       "\n",
       "                                               id        time  \n",
       "0        9f3999bd1a1a8d67bcb073ad54840f15cb30f014  1483225202  \n",
       "1        f21680b77830223807e4847b3307e6ffa1e175ed  1483225203  \n",
       "2        2607fc7d7b4c0ede839a5ff6d499fa428237443e  1483225203  \n",
       "3        68d1503c73ad169dcfff48214fd0274c4d612e63  1483225204  \n",
       "4        68d1503c73ad169dcfff48214fd0274c4d612e63  1483225207  \n",
       "...                                           ...         ...  \n",
       "3101986  d26dae18a47ee499c4aaca4a9b6017f1b5b1da13  1483830000  \n",
       "3101987  8a3d76e1d7452ce38ae70fe900a9952be4305c63  1483830000  \n",
       "3101988  faa8cc5200499acbf0f23f6b8e8f78b2b55d2c60  1483830001  \n",
       "3101989  4d44e61d966ed5a2c8b70a95eb9948aa2a10696f  1483830001  \n",
       "3101990  64ae4a1db60e066701aa444bc0af2f8f3dbcda3f  1483830001  \n",
       "\n",
       "[3101991 rows x 3 columns]"
      ]
     },
     "execution_count": 11,
     "metadata": {},
     "output_type": "execute_result"
    }
   ],
   "source": [
    "df"
   ]
  },
  {
   "cell_type": "code",
   "execution_count": 12,
   "id": "75315c82-bb45-4090-8d92-87e16d42f204",
   "metadata": {},
   "outputs": [
    {
     "data": {
      "text/html": [
       "<div>\n",
       "<style scoped>\n",
       "    .dataframe tbody tr th:only-of-type {\n",
       "        vertical-align: middle;\n",
       "    }\n",
       "\n",
       "    .dataframe tbody tr th {\n",
       "        vertical-align: top;\n",
       "    }\n",
       "\n",
       "    .dataframe thead th {\n",
       "        text-align: right;\n",
       "    }\n",
       "</style>\n",
       "<table border=\"1\" class=\"dataframe\">\n",
       "  <thead>\n",
       "    <tr style=\"text-align: right;\">\n",
       "      <th></th>\n",
       "      <th>userId</th>\n",
       "      <th>id</th>\n",
       "      <th>time</th>\n",
       "    </tr>\n",
       "  </thead>\n",
       "  <tbody>\n",
       "    <tr>\n",
       "      <th>2791789</th>\n",
       "      <td>cx:2ren7oax3ikx1126uc6379p1m1:1ilgu73jr9354</td>\n",
       "      <td>9da08a8be1d6cf85b0c7cd3f40b774cba66960b8</td>\n",
       "      <td>1483745358</td>\n",
       "    </tr>\n",
       "    <tr>\n",
       "      <th>2791790</th>\n",
       "      <td>cx:13573746954421111340278:21n4bwo3o22w3</td>\n",
       "      <td>f28b18132dfe141356c778b1909f13fcded3c613</td>\n",
       "      <td>1483745358</td>\n",
       "    </tr>\n",
       "    <tr>\n",
       "      <th>2791791</th>\n",
       "      <td>cx:ehi4yx5vak421bv2uzvm0hz9m:2tfkglwogbje9</td>\n",
       "      <td>bb8ff8365233ea91dfcdb36fdd84f87fcc33e1a8</td>\n",
       "      <td>1483745358</td>\n",
       "    </tr>\n",
       "    <tr>\n",
       "      <th>2791792</th>\n",
       "      <td>cx:imiu917sfw8scsba:2b3kfu5odsixi</td>\n",
       "      <td>9de2fd10200602037cc938b038a0f7d3d5f8fb76</td>\n",
       "      <td>1483745359</td>\n",
       "    </tr>\n",
       "    <tr>\n",
       "      <th>2791793</th>\n",
       "      <td>cx:hu9xqbxb2q1op1a2:2bvkrtdex7gri</td>\n",
       "      <td>17a7ea777cb261130668d4314b1591f3767cd090</td>\n",
       "      <td>1483745359</td>\n",
       "    </tr>\n",
       "    <tr>\n",
       "      <th>...</th>\n",
       "      <td>...</td>\n",
       "      <td>...</td>\n",
       "      <td>...</td>\n",
       "    </tr>\n",
       "    <tr>\n",
       "      <th>3101986</th>\n",
       "      <td>cx:9k87jvj35ts82aloy49wfxosg:952wl4r7sedv</td>\n",
       "      <td>d26dae18a47ee499c4aaca4a9b6017f1b5b1da13</td>\n",
       "      <td>1483830000</td>\n",
       "    </tr>\n",
       "    <tr>\n",
       "      <th>3101987</th>\n",
       "      <td>cx:ikird5ho7t08hlc6:2n6k9bd2ntk6v</td>\n",
       "      <td>8a3d76e1d7452ce38ae70fe900a9952be4305c63</td>\n",
       "      <td>1483830000</td>\n",
       "    </tr>\n",
       "    <tr>\n",
       "      <th>3101988</th>\n",
       "      <td>cx:2ry3bd6yl2fbb3mq9zs5cl4zvc:9oicxykjoyvo</td>\n",
       "      <td>faa8cc5200499acbf0f23f6b8e8f78b2b55d2c60</td>\n",
       "      <td>1483830001</td>\n",
       "    </tr>\n",
       "    <tr>\n",
       "      <th>3101989</th>\n",
       "      <td>cx:3c83unb96kkua3kw8jnflgge0n:1au0d7qhme3j5</td>\n",
       "      <td>4d44e61d966ed5a2c8b70a95eb9948aa2a10696f</td>\n",
       "      <td>1483830001</td>\n",
       "    </tr>\n",
       "    <tr>\n",
       "      <th>3101990</th>\n",
       "      <td>cx:iolu0een5wf8whla:1gtj0r7yyqtm8</td>\n",
       "      <td>64ae4a1db60e066701aa444bc0af2f8f3dbcda3f</td>\n",
       "      <td>1483830001</td>\n",
       "    </tr>\n",
       "  </tbody>\n",
       "</table>\n",
       "<p>310202 rows × 3 columns</p>\n",
       "</div>"
      ],
      "text/plain": [
       "                                              userId  \\\n",
       "2791789  cx:2ren7oax3ikx1126uc6379p1m1:1ilgu73jr9354   \n",
       "2791790     cx:13573746954421111340278:21n4bwo3o22w3   \n",
       "2791791   cx:ehi4yx5vak421bv2uzvm0hz9m:2tfkglwogbje9   \n",
       "2791792            cx:imiu917sfw8scsba:2b3kfu5odsixi   \n",
       "2791793            cx:hu9xqbxb2q1op1a2:2bvkrtdex7gri   \n",
       "...                                              ...   \n",
       "3101986    cx:9k87jvj35ts82aloy49wfxosg:952wl4r7sedv   \n",
       "3101987            cx:ikird5ho7t08hlc6:2n6k9bd2ntk6v   \n",
       "3101988   cx:2ry3bd6yl2fbb3mq9zs5cl4zvc:9oicxykjoyvo   \n",
       "3101989  cx:3c83unb96kkua3kw8jnflgge0n:1au0d7qhme3j5   \n",
       "3101990            cx:iolu0een5wf8whla:1gtj0r7yyqtm8   \n",
       "\n",
       "                                               id        time  \n",
       "2791789  9da08a8be1d6cf85b0c7cd3f40b774cba66960b8  1483745358  \n",
       "2791790  f28b18132dfe141356c778b1909f13fcded3c613  1483745358  \n",
       "2791791  bb8ff8365233ea91dfcdb36fdd84f87fcc33e1a8  1483745358  \n",
       "2791792  9de2fd10200602037cc938b038a0f7d3d5f8fb76  1483745359  \n",
       "2791793  17a7ea777cb261130668d4314b1591f3767cd090  1483745359  \n",
       "...                                           ...         ...  \n",
       "3101986  d26dae18a47ee499c4aaca4a9b6017f1b5b1da13  1483830000  \n",
       "3101987  8a3d76e1d7452ce38ae70fe900a9952be4305c63  1483830000  \n",
       "3101988  faa8cc5200499acbf0f23f6b8e8f78b2b55d2c60  1483830001  \n",
       "3101989  4d44e61d966ed5a2c8b70a95eb9948aa2a10696f  1483830001  \n",
       "3101990  64ae4a1db60e066701aa444bc0af2f8f3dbcda3f  1483830001  \n",
       "\n",
       "[310202 rows x 3 columns]"
      ]
     },
     "execution_count": 12,
     "metadata": {},
     "output_type": "execute_result"
    }
   ],
   "source": [
    "filtered_df"
   ]
  },
  {
   "cell_type": "markdown",
   "id": "a330b93d-0d44-4283-bd42-035bdd98fc46",
   "metadata": {},
   "source": [
    "## Dataset Preprocessing to Interaction Matrix"
   ]
  },
  {
   "cell_type": "code",
   "execution_count": 13,
   "id": "3214a5e2-868e-4019-8437-75e6eb3808c4",
   "metadata": {},
   "outputs": [
    {
     "data": {
      "application/vnd.jupyter.widget-view+json": {
       "model_id": "9799aa5d96494991951171de55be499a",
       "version_major": 2,
       "version_minor": 0
      },
      "text/plain": [
       "  0%|          | 0/310202 [00:00<?, ?it/s]"
      ]
     },
     "metadata": {},
     "output_type": "display_data"
    },
    {
     "data": {
      "application/vnd.jupyter.widget-view+json": {
       "model_id": "581107fff286477aa63b5241e574c271",
       "version_major": 2,
       "version_minor": 0
      },
      "text/plain": [
       "  0%|          | 0/310202 [00:00<?, ?it/s]"
      ]
     },
     "metadata": {},
     "output_type": "display_data"
    }
   ],
   "source": [
    "from recpack.matrix import InteractionMatrix\n",
    "from recpack.preprocessing.preprocessors import DataFramePreprocessor\n",
    "\n",
    "item_ix = 'id'\n",
    "user_ix = 'userId'\n",
    "timestamp_ix = 'time'\n",
    "\n",
    "preprocessor = DataFramePreprocessor(item_ix=item_ix, user_ix=user_ix, timestamp_ix=timestamp_ix)\n",
    "\n",
    "interaction_matrix = preprocessor.process(filtered_df)"
   ]
  },
  {
   "cell_type": "markdown",
   "id": "a863183d-a29a-475f-8ae2-15cc4e2b9ae8",
   "metadata": {},
   "source": [
    "## StrongGeneralization Scenario Splitting of Data"
   ]
  },
  {
   "cell_type": "code",
   "execution_count": 25,
   "id": "2b48dd0e-ec34-427c-a32e-2f1436d01625",
   "metadata": {},
   "outputs": [
    {
     "name": "stdout",
     "output_type": "stream",
     "text": [
      "1508211543.583\n"
     ]
    }
   ],
   "source": [
    "t_10 = interaction_matrix.timestamps.values[int(0.999999 * len(interaction_matrix.timestamps.values))]\n",
    "print(t_10)"
   ]
  },
  {
   "cell_type": "code",
   "execution_count": 14,
   "id": "73d22b62-213c-4ac4-9346-70414e7c39db",
   "metadata": {},
   "outputs": [
    {
     "data": {
      "text/plain": [
       "(array([13123.,  3503.,  5846., 29171., 35780., 42317., 45759., 47552.,\n",
       "        38200., 48951.]),\n",
       " array([1.48374536e+09, 1.48375382e+09, 1.48376229e+09, 1.48377075e+09,\n",
       "        1.48377922e+09, 1.48378768e+09, 1.48379614e+09, 1.48380461e+09,\n",
       "        1.48381307e+09, 1.48382154e+09, 1.48383000e+09]),\n",
       " <BarContainer object of 10 artists>)"
      ]
     },
     "execution_count": 14,
     "metadata": {},
     "output_type": "execute_result"
    },
    {
     "data": {
      "image/png": "[encoded data removed]",
      "text/plain": [
       "<Figure size 640x480 with 1 Axes>"
      ]
     },
     "metadata": {},
     "output_type": "display_data"
    }
   ],
   "source": [
    "import matplotlib.pyplot as plt\n",
    "plt.hist(interaction_matrix.timestamps.values)"
   ]
  },
  {
   "cell_type": "code",
   "execution_count": 15,
   "id": "aa72bb09-e745-4c5f-b4b3-88785f8a96b1",
   "metadata": {},
   "outputs": [
    {
     "data": {
      "application/vnd.jupyter.widget-view+json": {
       "model_id": "9abc810f920d4466994ae4279f5b88a1",
       "version_major": 2,
       "version_minor": 0
      },
      "text/plain": [
       "0it [00:00, ?it/s]"
      ]
     },
     "metadata": {},
     "output_type": "display_data"
    },
    {
     "data": {
      "application/vnd.jupyter.widget-view+json": {
       "model_id": "f982d6e56a6b4e97ad626bd9e2de5d7f",
       "version_major": 2,
       "version_minor": 0
      },
      "text/plain": [
       "0it [00:00, ?it/s]"
      ]
     },
     "metadata": {},
     "output_type": "display_data"
    }
   ],
   "source": [
    "scenario = StrongGeneralization(frac_users_train=0.8, frac_interactions_in=0.8, validation=True)\n",
    "scenario.split(interaction_matrix)"
   ]
  },
  {
   "cell_type": "markdown",
   "id": "4209ffa5-69b2-48fe-98d1-afd0e0896e6e",
   "metadata": {},
   "source": [
    "## Experimental RecPack Pipeline"
   ]
  },
  {
   "cell_type": "code",
   "execution_count": 16,
   "id": "51e133b8-daff-4e2a-a3b6-9747347f3425",
   "metadata": {},
   "outputs": [
    {
     "name": "stderr",
     "output_type": "stream",
     "text": [
      "/opt/conda/lib/python3.11/site-packages/recpack/pipelines/pipeline_builder.py:145: UserWarning: Grid parameter for add_algorithm function will be deprecated in favour of optimisation_info.\n",
      "  warnings.warn(\n"
     ]
    },
    {
     "data": {
      "application/vnd.jupyter.widget-view+json": {
       "model_id": "a5cc3eada38947df9ecbaa53a0145970",
       "version_major": 2,
       "version_minor": 0
      },
      "text/plain": [
       "  0%|          | 0/1 [00:00<?, ?it/s]"
      ]
     },
     "metadata": {},
     "output_type": "display_data"
    },
    {
     "name": "stderr",
     "output_type": "stream",
     "text": [
      "/tmp/ipykernel_40894/1947374894.py:89: UserWarning: To copy construct from a tensor, it is recommended to use sourceTensor.clone().detach() or sourceTensor.clone().detach().requires_grad_(True), rather than torch.tensor(sourceTensor).\n",
      "  user_indices = torch.tensor(user_indices).to(self.device)\n",
      "/tmp/ipykernel_40894/1947374894.py:90: UserWarning: To copy construct from a tensor, it is recommended to use sourceTensor.clone().detach() or sourceTensor.clone().detach().requires_grad_(True), rather than torch.tensor(sourceTensor).\n",
      "  pos_item_indices = torch.tensor(pos_item_indices).to(self.device)\n",
      "/tmp/ipykernel_40894/1947374894.py:91: UserWarning: To copy construct from a tensor, it is recommended to use sourceTensor.clone().detach() or sourceTensor.clone().detach().requires_grad_(True), rather than torch.tensor(sourceTensor).\n",
      "  neg_item_indices = torch.tensor(neg_item_indices).to(self.device).squeeze()\n"
     ]
    },
    {
     "name": "stdout",
     "output_type": "stream",
     "text": [
      "2024-08-05 11:57:11,434 - base - recpack - INFO - Processed epoch 0 in 2.64 s.Batch Training Loss = 0.5041\n",
      "2024-08-05 11:57:24,308 - stopping_criterion - recpack - INFO - StoppingCriterion has value 0.2132406278616188, which is better than previous iterations.\n",
      "2024-08-05 11:57:24,313 - base - recpack - INFO - Evaluation at end of 0 took 12.88 s.\n",
      "2024-08-05 11:57:25,593 - base - recpack - INFO - Processed epoch 1 in 1.28 s.Batch Training Loss = nan\n",
      "2024-08-05 11:57:38,155 - stopping_criterion - recpack - INFO - StoppingCriterion has value 0.17023018051227903, which is better than previous iterations.\n",
      "2024-08-05 11:57:38,163 - base - recpack - INFO - Evaluation at end of 1 took 12.57 s.\n",
      "2024-08-05 11:57:39,490 - base - recpack - INFO - Processed epoch 2 in 1.33 s.Batch Training Loss = nan\n",
      "2024-08-05 11:57:52,288 - stopping_criterion - recpack - INFO - StoppingCriterion has value 0.1720075692522126, which is worse than previous iterations.\n",
      "2024-08-05 11:57:52,296 - base - recpack - INFO - Evaluation at end of 2 took 12.80 s.\n",
      "2024-08-05 11:57:53,607 - base - recpack - INFO - Processed epoch 3 in 1.31 s.Batch Training Loss = nan\n",
      "2024-08-05 11:58:06,242 - stopping_criterion - recpack - INFO - StoppingCriterion has value 0.24656856095404212, which is worse than previous iterations.\n",
      "2024-08-05 11:58:06,249 - base - recpack - INFO - Evaluation at end of 3 took 12.64 s.\n",
      "2024-08-05 11:58:07,332 - base - recpack - INFO - Processed epoch 4 in 1.08 s.Batch Training Loss = nan\n",
      "2024-08-05 11:58:19,351 - stopping_criterion - recpack - INFO - StoppingCriterion has value 0.13654009071079, which is better than previous iterations.\n",
      "2024-08-05 11:58:19,357 - base - recpack - INFO - Evaluation at end of 4 took 12.02 s.\n",
      "2024-08-05 11:58:19,487 - base - recpack - INFO - Fitting NGCFAlgorithm complete - Took 72.9s\n"
     ]
    },
    {
     "name": "stderr",
     "output_type": "stream",
     "text": [
      "/tmp/ipykernel_40894/1947374894.py:89: UserWarning: To copy construct from a tensor, it is recommended to use sourceTensor.clone().detach() or sourceTensor.clone().detach().requires_grad_(True), rather than torch.tensor(sourceTensor).\n",
      "  user_indices = torch.tensor(user_indices).to(self.device)\n",
      "/tmp/ipykernel_40894/1947374894.py:90: UserWarning: To copy construct from a tensor, it is recommended to use sourceTensor.clone().detach() or sourceTensor.clone().detach().requires_grad_(True), rather than torch.tensor(sourceTensor).\n",
      "  pos_item_indices = torch.tensor(pos_item_indices).to(self.device)\n",
      "/tmp/ipykernel_40894/1947374894.py:91: UserWarning: To copy construct from a tensor, it is recommended to use sourceTensor.clone().detach() or sourceTensor.clone().detach().requires_grad_(True), rather than torch.tensor(sourceTensor).\n",
      "  neg_item_indices = torch.tensor(neg_item_indices).to(self.device).squeeze()\n"
     ]
    },
    {
     "name": "stdout",
     "output_type": "stream",
     "text": [
      "2024-08-05 11:58:35,839 - base - recpack - INFO - Processed epoch 0 in 1.19 s.Batch Training Loss = 0.3960\n",
      "2024-08-05 11:58:48,105 - stopping_criterion - recpack - INFO - StoppingCriterion has value 0.10982690622189321, which is better than previous iterations.\n",
      "2024-08-05 11:58:48,108 - base - recpack - INFO - Evaluation at end of 0 took 12.27 s.\n",
      "2024-08-05 11:58:49,171 - base - recpack - INFO - Processed epoch 1 in 1.06 s.Batch Training Loss = nan\n",
      "2024-08-05 11:59:01,605 - stopping_criterion - recpack - INFO - StoppingCriterion has value 0.1089385098262805, which is worse than previous iterations.\n",
      "2024-08-05 11:59:01,608 - base - recpack - INFO - Evaluation at end of 1 took 12.44 s.\n",
      "2024-08-05 11:59:02,674 - base - recpack - INFO - Processed epoch 2 in 1.07 s.Batch Training Loss = 0.2227\n",
      "2024-08-05 11:59:14,615 - stopping_criterion - recpack - INFO - StoppingCriterion has value 0.09451420091929397, which is better than previous iterations.\n",
      "2024-08-05 11:59:14,618 - base - recpack - INFO - Evaluation at end of 2 took 11.94 s.\n",
      "2024-08-05 11:59:15,671 - base - recpack - INFO - Processed epoch 3 in 1.05 s.Batch Training Loss = nan\n",
      "2024-08-05 11:59:28,033 - stopping_criterion - recpack - INFO - StoppingCriterion has value 0.1140562715052168, which is worse than previous iterations.\n",
      "2024-08-05 11:59:28,039 - base - recpack - INFO - Evaluation at end of 3 took 12.37 s.\n",
      "2024-08-05 11:59:29,113 - base - recpack - INFO - Processed epoch 4 in 1.07 s.Batch Training Loss = nan\n",
      "2024-08-05 11:59:41,391 - stopping_criterion - recpack - INFO - StoppingCriterion has value 0.10874976272938836, which is worse than previous iterations.\n",
      "2024-08-05 11:59:41,398 - base - recpack - INFO - Evaluation at end of 4 took 12.28 s.\n",
      "2024-08-05 11:59:41,517 - base - recpack - INFO - Fitting NGCFAlgorithm complete - Took 67.0s\n"
     ]
    },
    {
     "name": "stderr",
     "output_type": "stream",
     "text": [
      "/tmp/ipykernel_40894/1947374894.py:89: UserWarning: To copy construct from a tensor, it is recommended to use sourceTensor.clone().detach() or sourceTensor.clone().detach().requires_grad_(True), rather than torch.tensor(sourceTensor).\n",
      "  user_indices = torch.tensor(user_indices).to(self.device)\n",
      "/tmp/ipykernel_40894/1947374894.py:90: UserWarning: To copy construct from a tensor, it is recommended to use sourceTensor.clone().detach() or sourceTensor.clone().detach().requires_grad_(True), rather than torch.tensor(sourceTensor).\n",
      "  pos_item_indices = torch.tensor(pos_item_indices).to(self.device)\n",
      "/tmp/ipykernel_40894/1947374894.py:91: UserWarning: To copy construct from a tensor, it is recommended to use sourceTensor.clone().detach() or sourceTensor.clone().detach().requires_grad_(True), rather than torch.tensor(sourceTensor).\n",
      "  neg_item_indices = torch.tensor(neg_item_indices).to(self.device).squeeze()\n"
     ]
    },
    {
     "name": "stdout",
     "output_type": "stream",
     "text": [
      "2024-08-05 11:59:58,304 - base - recpack - INFO - Processed epoch 0 in 2.13 s.Batch Training Loss = 0.3257\n",
      "2024-08-05 12:00:10,714 - stopping_criterion - recpack - INFO - StoppingCriterion has value 0.1819468048568812, which is better than previous iterations.\n",
      "2024-08-05 12:00:10,717 - base - recpack - INFO - Evaluation at end of 0 took 12.41 s.\n",
      "2024-08-05 12:00:12,420 - base - recpack - INFO - Processed epoch 1 in 1.70 s.Batch Training Loss = 0.1189\n",
      "2024-08-05 12:00:24,314 - stopping_criterion - recpack - INFO - StoppingCriterion has value 0.12254478569494665, which is better than previous iterations.\n",
      "2024-08-05 12:00:24,318 - base - recpack - INFO - Evaluation at end of 1 took 11.90 s.\n",
      "2024-08-05 12:00:26,952 - base - recpack - INFO - Processed epoch 2 in 2.63 s.Batch Training Loss = 0.0883\n",
      "2024-08-05 12:00:39,001 - stopping_criterion - recpack - INFO - StoppingCriterion has value 0.06074280526451363, which is better than previous iterations.\n",
      "2024-08-05 12:00:39,008 - base - recpack - INFO - Evaluation at end of 2 took 12.05 s.\n",
      "2024-08-05 12:00:41,792 - base - recpack - INFO - Processed epoch 3 in 2.78 s.Batch Training Loss = 0.0624\n",
      "2024-08-05 12:00:54,102 - stopping_criterion - recpack - INFO - StoppingCriterion has value 0.056522634408649214, which is worse than previous iterations.\n",
      "2024-08-05 12:00:54,106 - base - recpack - INFO - Evaluation at end of 3 took 12.31 s.\n",
      "2024-08-05 12:00:56,877 - base - recpack - INFO - Processed epoch 4 in 2.77 s.Batch Training Loss = 0.0526\n",
      "2024-08-05 12:01:09,293 - stopping_criterion - recpack - INFO - StoppingCriterion has value 0.0786375560338272, which is worse than previous iterations.\n",
      "2024-08-05 12:01:09,300 - base - recpack - INFO - Evaluation at end of 4 took 12.42 s.\n",
      "2024-08-05 12:01:09,422 - base - recpack - INFO - Fitting NGCFAlgorithm complete - Took 73.4s\n"
     ]
    },
    {
     "name": "stderr",
     "output_type": "stream",
     "text": [
      "/tmp/ipykernel_40894/1947374894.py:89: UserWarning: To copy construct from a tensor, it is recommended to use sourceTensor.clone().detach() or sourceTensor.clone().detach().requires_grad_(True), rather than torch.tensor(sourceTensor).\n",
      "  user_indices = torch.tensor(user_indices).to(self.device)\n",
      "/tmp/ipykernel_40894/1947374894.py:90: UserWarning: To copy construct from a tensor, it is recommended to use sourceTensor.clone().detach() or sourceTensor.clone().detach().requires_grad_(True), rather than torch.tensor(sourceTensor).\n",
      "  pos_item_indices = torch.tensor(pos_item_indices).to(self.device)\n",
      "/tmp/ipykernel_40894/1947374894.py:91: UserWarning: To copy construct from a tensor, it is recommended to use sourceTensor.clone().detach() or sourceTensor.clone().detach().requires_grad_(True), rather than torch.tensor(sourceTensor).\n",
      "  neg_item_indices = torch.tensor(neg_item_indices).to(self.device).squeeze()\n"
     ]
    },
    {
     "name": "stdout",
     "output_type": "stream",
     "text": [
      "2024-08-05 12:01:25,733 - base - recpack - INFO - Processed epoch 0 in 1.18 s.Batch Training Loss = 0.5282\n",
      "2024-08-05 12:01:37,618 - stopping_criterion - recpack - INFO - StoppingCriterion has value 0.15854705024697263, which is better than previous iterations.\n",
      "2024-08-05 12:01:37,619 - base - recpack - INFO - Evaluation at end of 0 took 11.89 s.\n",
      "2024-08-05 12:01:38,737 - base - recpack - INFO - Processed epoch 1 in 1.12 s.Batch Training Loss = nan\n",
      "2024-08-05 12:01:50,824 - stopping_criterion - recpack - INFO - StoppingCriterion has value 0.14631883280881838, which is better than previous iterations.\n",
      "2024-08-05 12:01:50,827 - base - recpack - INFO - Evaluation at end of 1 took 12.09 s.\n",
      "2024-08-05 12:01:51,980 - base - recpack - INFO - Processed epoch 2 in 1.15 s.Batch Training Loss = nan\n",
      "2024-08-05 12:02:03,965 - stopping_criterion - recpack - INFO - StoppingCriterion has value 0.1541745499868758, which is worse than previous iterations.\n",
      "2024-08-05 12:02:03,968 - base - recpack - INFO - Evaluation at end of 2 took 11.99 s.\n",
      "2024-08-05 12:02:05,082 - base - recpack - INFO - Processed epoch 3 in 1.11 s.Batch Training Loss = nan\n",
      "2024-08-05 12:02:17,067 - stopping_criterion - recpack - INFO - StoppingCriterion has value 0.168022968568436, which is worse than previous iterations.\n",
      "2024-08-05 12:02:17,071 - base - recpack - INFO - Evaluation at end of 3 took 11.99 s.\n",
      "2024-08-05 12:02:18,179 - base - recpack - INFO - Processed epoch 4 in 1.11 s.Batch Training Loss = nan\n",
      "2024-08-05 12:02:29,577 - stopping_criterion - recpack - INFO - StoppingCriterion has value 0.18209416153859528, which is worse than previous iterations.\n",
      "2024-08-05 12:02:29,580 - base - recpack - INFO - Evaluation at end of 4 took 11.40 s.\n",
      "2024-08-05 12:02:29,694 - base - recpack - INFO - Fitting NGCFAlgorithm complete - Took 65.3s\n"
     ]
    },
    {
     "name": "stderr",
     "output_type": "stream",
     "text": [
      "/tmp/ipykernel_40894/1947374894.py:89: UserWarning: To copy construct from a tensor, it is recommended to use sourceTensor.clone().detach() or sourceTensor.clone().detach().requires_grad_(True), rather than torch.tensor(sourceTensor).\n",
      "  user_indices = torch.tensor(user_indices).to(self.device)\n",
      "/tmp/ipykernel_40894/1947374894.py:90: UserWarning: To copy construct from a tensor, it is recommended to use sourceTensor.clone().detach() or sourceTensor.clone().detach().requires_grad_(True), rather than torch.tensor(sourceTensor).\n",
      "  pos_item_indices = torch.tensor(pos_item_indices).to(self.device)\n",
      "/tmp/ipykernel_40894/1947374894.py:91: UserWarning: To copy construct from a tensor, it is recommended to use sourceTensor.clone().detach() or sourceTensor.clone().detach().requires_grad_(True), rather than torch.tensor(sourceTensor).\n",
      "  neg_item_indices = torch.tensor(neg_item_indices).to(self.device).squeeze()\n"
     ]
    },
    {
     "name": "stdout",
     "output_type": "stream",
     "text": [
      "2024-08-05 12:02:45,663 - base - recpack - INFO - Processed epoch 0 in 1.24 s.Batch Training Loss = 0.4393\n",
      "2024-08-05 12:02:57,536 - stopping_criterion - recpack - INFO - StoppingCriterion has value 0.15133509106899787, which is better than previous iterations.\n",
      "2024-08-05 12:02:57,538 - base - recpack - INFO - Evaluation at end of 0 took 11.87 s.\n",
      "2024-08-05 12:02:58,765 - base - recpack - INFO - Processed epoch 1 in 1.23 s.Batch Training Loss = 0.1699\n",
      "2024-08-05 12:03:10,580 - stopping_criterion - recpack - INFO - StoppingCriterion has value 0.13727139453152865, which is better than previous iterations.\n",
      "2024-08-05 12:03:10,583 - base - recpack - INFO - Evaluation at end of 1 took 11.82 s.\n",
      "2024-08-05 12:03:11,948 - base - recpack - INFO - Processed epoch 2 in 1.36 s.Batch Training Loss = nan\n",
      "2024-08-05 12:03:24,308 - stopping_criterion - recpack - INFO - StoppingCriterion has value 0.12785253221713863, which is worse than previous iterations.\n",
      "2024-08-05 12:03:24,310 - base - recpack - INFO - Evaluation at end of 2 took 12.36 s.\n",
      "2024-08-05 12:03:25,513 - base - recpack - INFO - Processed epoch 3 in 1.20 s.Batch Training Loss = nan\n",
      "2024-08-05 12:03:37,063 - stopping_criterion - recpack - INFO - StoppingCriterion has value 0.14055523508653925, which is worse than previous iterations.\n",
      "2024-08-05 12:03:37,066 - base - recpack - INFO - Evaluation at end of 3 took 11.55 s.\n",
      "2024-08-05 12:03:38,180 - base - recpack - INFO - Processed epoch 4 in 1.11 s.Batch Training Loss = nan\n",
      "2024-08-05 12:03:49,898 - stopping_criterion - recpack - INFO - StoppingCriterion has value 0.12734173700458837, which is worse than previous iterations.\n",
      "2024-08-05 12:03:49,903 - base - recpack - INFO - Evaluation at end of 4 took 11.72 s.\n",
      "2024-08-05 12:03:50,020 - base - recpack - INFO - Fitting NGCFAlgorithm complete - Took 65.7s\n"
     ]
    },
    {
     "name": "stderr",
     "output_type": "stream",
     "text": [
      "/tmp/ipykernel_40894/1947374894.py:89: UserWarning: To copy construct from a tensor, it is recommended to use sourceTensor.clone().detach() or sourceTensor.clone().detach().requires_grad_(True), rather than torch.tensor(sourceTensor).\n",
      "  user_indices = torch.tensor(user_indices).to(self.device)\n",
      "/tmp/ipykernel_40894/1947374894.py:90: UserWarning: To copy construct from a tensor, it is recommended to use sourceTensor.clone().detach() or sourceTensor.clone().detach().requires_grad_(True), rather than torch.tensor(sourceTensor).\n",
      "  pos_item_indices = torch.tensor(pos_item_indices).to(self.device)\n",
      "/tmp/ipykernel_40894/1947374894.py:91: UserWarning: To copy construct from a tensor, it is recommended to use sourceTensor.clone().detach() or sourceTensor.clone().detach().requires_grad_(True), rather than torch.tensor(sourceTensor).\n",
      "  neg_item_indices = torch.tensor(neg_item_indices).to(self.device).squeeze()\n"
     ]
    },
    {
     "name": "stdout",
     "output_type": "stream",
     "text": [
      "2024-08-05 12:04:06,951 - base - recpack - INFO - Processed epoch 0 in 2.06 s.Batch Training Loss = 0.3597\n",
      "2024-08-05 12:04:19,050 - stopping_criterion - recpack - INFO - StoppingCriterion has value 0.18788128315678362, which is better than previous iterations.\n",
      "2024-08-05 12:04:19,053 - base - recpack - INFO - Evaluation at end of 0 took 12.10 s.\n",
      "2024-08-05 12:04:20,973 - base - recpack - INFO - Processed epoch 1 in 1.92 s.Batch Training Loss = 0.1294\n",
      "2024-08-05 12:04:33,094 - stopping_criterion - recpack - INFO - StoppingCriterion has value 0.12732677395926756, which is better than previous iterations.\n",
      "2024-08-05 12:04:33,097 - base - recpack - INFO - Evaluation at end of 1 took 12.12 s.\n",
      "2024-08-05 12:04:35,812 - base - recpack - INFO - Processed epoch 2 in 2.71 s.Batch Training Loss = 0.0950\n",
      "2024-08-05 12:04:48,073 - stopping_criterion - recpack - INFO - StoppingCriterion has value 0.0698994684441442, which is better than previous iterations.\n",
      "2024-08-05 12:04:48,076 - base - recpack - INFO - Evaluation at end of 2 took 12.26 s.\n",
      "2024-08-05 12:04:51,052 - base - recpack - INFO - Processed epoch 3 in 2.97 s.Batch Training Loss = 0.0691\n",
      "2024-08-05 12:05:02,676 - stopping_criterion - recpack - INFO - StoppingCriterion has value 0.05960086807956005, which is better than previous iterations.\n",
      "2024-08-05 12:05:02,679 - base - recpack - INFO - Evaluation at end of 3 took 11.63 s.\n",
      "2024-08-05 12:05:05,660 - base - recpack - INFO - Processed epoch 4 in 2.98 s.Batch Training Loss = 0.0589\n",
      "2024-08-05 12:05:17,545 - stopping_criterion - recpack - INFO - StoppingCriterion has value 0.060071346216455684, which is worse than previous iterations.\n",
      "2024-08-05 12:05:17,547 - base - recpack - INFO - Evaluation at end of 4 took 11.89 s.\n",
      "2024-08-05 12:05:17,651 - base - recpack - INFO - Fitting NGCFAlgorithm complete - Took 72.9s\n"
     ]
    },
    {
     "name": "stderr",
     "output_type": "stream",
     "text": [
      "/tmp/ipykernel_40894/1947374894.py:89: UserWarning: To copy construct from a tensor, it is recommended to use sourceTensor.clone().detach() or sourceTensor.clone().detach().requires_grad_(True), rather than torch.tensor(sourceTensor).\n",
      "  user_indices = torch.tensor(user_indices).to(self.device)\n",
      "/tmp/ipykernel_40894/1947374894.py:90: UserWarning: To copy construct from a tensor, it is recommended to use sourceTensor.clone().detach() or sourceTensor.clone().detach().requires_grad_(True), rather than torch.tensor(sourceTensor).\n",
      "  pos_item_indices = torch.tensor(pos_item_indices).to(self.device)\n",
      "/tmp/ipykernel_40894/1947374894.py:91: UserWarning: To copy construct from a tensor, it is recommended to use sourceTensor.clone().detach() or sourceTensor.clone().detach().requires_grad_(True), rather than torch.tensor(sourceTensor).\n",
      "  neg_item_indices = torch.tensor(neg_item_indices).to(self.device).squeeze()\n"
     ]
    },
    {
     "name": "stdout",
     "output_type": "stream",
     "text": [
      "2024-08-05 12:05:33,928 - base - recpack - INFO - Processed epoch 0 in 1.35 s.Batch Training Loss = 0.5164\n",
      "2024-08-05 12:05:45,996 - stopping_criterion - recpack - INFO - StoppingCriterion has value 0.1753963585229612, which is better than previous iterations.\n",
      "2024-08-05 12:05:45,999 - base - recpack - INFO - Evaluation at end of 0 took 12.07 s.\n",
      "2024-08-05 12:05:47,152 - base - recpack - INFO - Processed epoch 1 in 1.15 s.Batch Training Loss = nan\n",
      "2024-08-05 12:05:59,132 - stopping_criterion - recpack - INFO - StoppingCriterion has value 0.15108003170732837, which is better than previous iterations.\n",
      "2024-08-05 12:05:59,134 - base - recpack - INFO - Evaluation at end of 1 took 11.98 s.\n",
      "2024-08-05 12:06:00,242 - base - recpack - INFO - Processed epoch 2 in 1.11 s.Batch Training Loss = nan\n",
      "2024-08-05 12:06:12,626 - stopping_criterion - recpack - INFO - StoppingCriterion has value 0.14833268094973864, which is worse than previous iterations.\n",
      "2024-08-05 12:06:12,630 - base - recpack - INFO - Evaluation at end of 2 took 12.39 s.\n",
      "2024-08-05 12:06:13,766 - base - recpack - INFO - Processed epoch 3 in 1.14 s.Batch Training Loss = nan\n",
      "2024-08-05 12:06:25,172 - stopping_criterion - recpack - INFO - StoppingCriterion has value 0.1487645427029774, which is worse than previous iterations.\n",
      "2024-08-05 12:06:25,175 - base - recpack - INFO - Evaluation at end of 3 took 11.41 s.\n",
      "2024-08-05 12:06:26,291 - base - recpack - INFO - Processed epoch 4 in 1.11 s.Batch Training Loss = nan\n",
      "2024-08-05 12:06:38,142 - stopping_criterion - recpack - INFO - StoppingCriterion has value 0.1320886647156804, which is better than previous iterations.\n",
      "2024-08-05 12:06:38,145 - base - recpack - INFO - Evaluation at end of 4 took 11.85 s.\n",
      "2024-08-05 12:06:38,269 - base - recpack - INFO - Fitting NGCFAlgorithm complete - Took 65.8s\n"
     ]
    },
    {
     "name": "stderr",
     "output_type": "stream",
     "text": [
      "/tmp/ipykernel_40894/1947374894.py:89: UserWarning: To copy construct from a tensor, it is recommended to use sourceTensor.clone().detach() or sourceTensor.clone().detach().requires_grad_(True), rather than torch.tensor(sourceTensor).\n",
      "  user_indices = torch.tensor(user_indices).to(self.device)\n",
      "/tmp/ipykernel_40894/1947374894.py:90: UserWarning: To copy construct from a tensor, it is recommended to use sourceTensor.clone().detach() or sourceTensor.clone().detach().requires_grad_(True), rather than torch.tensor(sourceTensor).\n",
      "  pos_item_indices = torch.tensor(pos_item_indices).to(self.device)\n",
      "/tmp/ipykernel_40894/1947374894.py:91: UserWarning: To copy construct from a tensor, it is recommended to use sourceTensor.clone().detach() or sourceTensor.clone().detach().requires_grad_(True), rather than torch.tensor(sourceTensor).\n",
      "  neg_item_indices = torch.tensor(neg_item_indices).to(self.device).squeeze()\n"
     ]
    },
    {
     "name": "stdout",
     "output_type": "stream",
     "text": [
      "2024-08-05 12:06:54,429 - base - recpack - INFO - Processed epoch 0 in 1.26 s.Batch Training Loss = 0.4388\n",
      "2024-08-05 12:07:06,512 - stopping_criterion - recpack - INFO - StoppingCriterion has value 0.15465470150788385, which is better than previous iterations.\n",
      "2024-08-05 12:07:06,514 - base - recpack - INFO - Evaluation at end of 0 took 12.08 s.\n",
      "2024-08-05 12:07:07,632 - base - recpack - INFO - Processed epoch 1 in 1.12 s.Batch Training Loss = nan\n",
      "2024-08-05 12:07:19,646 - stopping_criterion - recpack - INFO - StoppingCriterion has value 0.1599566942461805, which is worse than previous iterations.\n",
      "2024-08-05 12:07:19,648 - base - recpack - INFO - Evaluation at end of 1 took 12.01 s.\n",
      "2024-08-05 12:07:20,787 - base - recpack - INFO - Processed epoch 2 in 1.14 s.Batch Training Loss = nan\n",
      "2024-08-05 12:07:33,100 - stopping_criterion - recpack - INFO - StoppingCriterion has value 0.1576861388795426, which is worse than previous iterations.\n",
      "2024-08-05 12:07:33,102 - base - recpack - INFO - Evaluation at end of 2 took 12.31 s.\n",
      "2024-08-05 12:07:34,229 - base - recpack - INFO - Processed epoch 3 in 1.13 s.Batch Training Loss = nan\n",
      "2024-08-05 12:07:45,829 - stopping_criterion - recpack - INFO - StoppingCriterion has value 0.17120942320196, which is worse than previous iterations.\n",
      "2024-08-05 12:07:45,832 - base - recpack - INFO - Evaluation at end of 3 took 11.60 s.\n",
      "2024-08-05 12:07:47,068 - base - recpack - INFO - Processed epoch 4 in 1.24 s.Batch Training Loss = 0.1288\n",
      "2024-08-05 12:07:58,800 - stopping_criterion - recpack - INFO - StoppingCriterion has value 0.1485195364395147, which is worse than previous iterations.\n",
      "2024-08-05 12:07:58,803 - base - recpack - INFO - Evaluation at end of 4 took 11.73 s.\n",
      "2024-08-05 12:07:58,927 - base - recpack - INFO - Fitting NGCFAlgorithm complete - Took 65.9s\n"
     ]
    },
    {
     "name": "stderr",
     "output_type": "stream",
     "text": [
      "/tmp/ipykernel_40894/1947374894.py:89: UserWarning: To copy construct from a tensor, it is recommended to use sourceTensor.clone().detach() or sourceTensor.clone().detach().requires_grad_(True), rather than torch.tensor(sourceTensor).\n",
      "  user_indices = torch.tensor(user_indices).to(self.device)\n",
      "/tmp/ipykernel_40894/1947374894.py:90: UserWarning: To copy construct from a tensor, it is recommended to use sourceTensor.clone().detach() or sourceTensor.clone().detach().requires_grad_(True), rather than torch.tensor(sourceTensor).\n",
      "  pos_item_indices = torch.tensor(pos_item_indices).to(self.device)\n",
      "/tmp/ipykernel_40894/1947374894.py:91: UserWarning: To copy construct from a tensor, it is recommended to use sourceTensor.clone().detach() or sourceTensor.clone().detach().requires_grad_(True), rather than torch.tensor(sourceTensor).\n",
      "  neg_item_indices = torch.tensor(neg_item_indices).to(self.device).squeeze()\n"
     ]
    },
    {
     "name": "stdout",
     "output_type": "stream",
     "text": [
      "2024-08-05 12:08:16,315 - base - recpack - INFO - Processed epoch 0 in 2.24 s.Batch Training Loss = 0.3501\n",
      "2024-08-05 12:08:28,311 - stopping_criterion - recpack - INFO - StoppingCriterion has value 0.2105942856310424, which is better than previous iterations.\n",
      "2024-08-05 12:08:28,314 - base - recpack - INFO - Evaluation at end of 0 took 12.00 s.\n",
      "2024-08-05 12:08:30,911 - base - recpack - INFO - Processed epoch 1 in 2.60 s.Batch Training Loss = 0.1246\n",
      "2024-08-05 12:08:42,931 - stopping_criterion - recpack - INFO - StoppingCriterion has value 0.09684468801939235, which is better than previous iterations.\n",
      "2024-08-05 12:08:42,934 - base - recpack - INFO - Evaluation at end of 1 took 12.02 s.\n",
      "2024-08-05 12:08:45,786 - base - recpack - INFO - Processed epoch 2 in 2.85 s.Batch Training Loss = 0.0859\n",
      "2024-08-05 12:08:58,271 - stopping_criterion - recpack - INFO - StoppingCriterion has value 0.08813050401306216, which is worse than previous iterations.\n",
      "2024-08-05 12:08:58,274 - base - recpack - INFO - Evaluation at end of 2 took 12.49 s.\n",
      "2024-08-05 12:09:01,239 - base - recpack - INFO - Processed epoch 3 in 2.96 s.Batch Training Loss = 0.0665\n",
      "2024-08-05 12:09:12,937 - stopping_criterion - recpack - INFO - StoppingCriterion has value 0.05292280555661004, which is better than previous iterations.\n",
      "2024-08-05 12:09:12,940 - base - recpack - INFO - Evaluation at end of 3 took 11.70 s.\n",
      "2024-08-05 12:09:15,857 - base - recpack - INFO - Processed epoch 4 in 2.92 s.Batch Training Loss = 0.0587\n",
      "2024-08-05 12:09:27,722 - stopping_criterion - recpack - INFO - StoppingCriterion has value 0.10248889866583114, which is worse than previous iterations.\n",
      "2024-08-05 12:09:27,725 - base - recpack - INFO - Evaluation at end of 4 took 11.87 s.\n",
      "2024-08-05 12:09:27,852 - base - recpack - INFO - Fitting NGCFAlgorithm complete - Took 74.0s\n"
     ]
    },
    {
     "name": "stderr",
     "output_type": "stream",
     "text": [
      "/tmp/ipykernel_40894/1947374894.py:89: UserWarning: To copy construct from a tensor, it is recommended to use sourceTensor.clone().detach() or sourceTensor.clone().detach().requires_grad_(True), rather than torch.tensor(sourceTensor).\n",
      "  user_indices = torch.tensor(user_indices).to(self.device)\n",
      "/tmp/ipykernel_40894/1947374894.py:90: UserWarning: To copy construct from a tensor, it is recommended to use sourceTensor.clone().detach() or sourceTensor.clone().detach().requires_grad_(True), rather than torch.tensor(sourceTensor).\n",
      "  pos_item_indices = torch.tensor(pos_item_indices).to(self.device)\n",
      "/tmp/ipykernel_40894/1947374894.py:91: UserWarning: To copy construct from a tensor, it is recommended to use sourceTensor.clone().detach() or sourceTensor.clone().detach().requires_grad_(True), rather than torch.tensor(sourceTensor).\n",
      "  neg_item_indices = torch.tensor(neg_item_indices).to(self.device).squeeze()\n"
     ]
    },
    {
     "name": "stdout",
     "output_type": "stream",
     "text": [
      "2024-08-05 12:09:45,314 - base - recpack - INFO - Processed epoch 0 in 2.35 s.Batch Training Loss = 0.3324\n",
      "2024-08-05 12:09:57,360 - stopping_criterion - recpack - INFO - StoppingCriterion has value 0.21789631698203854, which is better than previous iterations.\n",
      "2024-08-05 12:09:57,364 - base - recpack - INFO - Evaluation at end of 0 took 12.05 s.\n",
      "2024-08-05 12:09:59,675 - base - recpack - INFO - Processed epoch 1 in 2.31 s.Batch Training Loss = 0.1209\n",
      "2024-08-05 12:10:11,661 - stopping_criterion - recpack - INFO - StoppingCriterion has value 0.1065212696190556, which is better than previous iterations.\n",
      "2024-08-05 12:10:11,663 - base - recpack - INFO - Evaluation at end of 1 took 11.99 s.\n",
      "2024-08-05 12:10:14,640 - base - recpack - INFO - Processed epoch 2 in 2.98 s.Batch Training Loss = 0.0841\n",
      "2024-08-05 12:10:27,044 - stopping_criterion - recpack - INFO - StoppingCriterion has value 0.08356346196306746, which is better than previous iterations.\n",
      "2024-08-05 12:10:27,047 - base - recpack - INFO - Evaluation at end of 2 took 12.41 s.\n",
      "2024-08-05 12:10:29,999 - base - recpack - INFO - Processed epoch 3 in 2.95 s.Batch Training Loss = 0.0648\n",
      "2024-08-05 12:10:41,865 - stopping_criterion - recpack - INFO - StoppingCriterion has value 0.11512494779430991, which is worse than previous iterations.\n",
      "2024-08-05 12:10:41,867 - base - recpack - INFO - Evaluation at end of 3 took 11.87 s.\n",
      "2024-08-05 12:10:44,855 - base - recpack - INFO - Processed epoch 4 in 2.99 s.Batch Training Loss = 0.0557\n",
      "2024-08-05 12:10:56,684 - stopping_criterion - recpack - INFO - StoppingCriterion has value 0.08188055435550987, which is worse than previous iterations.\n",
      "2024-08-05 12:10:56,687 - base - recpack - INFO - Evaluation at end of 4 took 11.83 s.\n",
      "2024-08-05 12:10:56,815 - base - recpack - INFO - Fitting NGCFAlgorithm complete - Took 74.0s\n"
     ]
    }
   ],
   "source": [
    "pipeline_builder = PipelineBuilder()\n",
    "ok = (scenario._validation_data_in, scenario._validation_data_out)\n",
    "pipeline_builder.set_data_from_scenario(scenario)\n",
    "\n",
    "\n",
    "# Add the baseline algorithms\n",
    "#pipeline_builder.add_algorithm('ItemKNN', grid={'K': [100, 200, 400, 800]})\n",
    "#pipeline_builder.add_algorithm('EASE', grid={'l2': [10, 100, 1000], 'alpha': [0, 0.1, 0.5]})\n",
    "\n",
    "# Add our LightGCN algorithm\n",
    "pipeline_builder.add_algorithm(\n",
    "    'NGCFAlgorithm',\n",
    "    grid={\n",
    "        'learning_rate': [0.1, 0.01, 0.001],\n",
    "        'dropout': [0.0, 0.1, 0.2]\n",
    "    },\n",
    "    params={\n",
    "        'max_epochs': 5,\n",
    "        'batch_size': 1024,\n",
    "        'n_layers': 3,\n",
    "        'stop_early': True,\n",
    "        'max_iter_no_change': 5,\n",
    "        'min_improvement': 0.01,\n",
    "        'save_best_to_file': True,\n",
    "        'keep_last': True\n",
    "    }\n",
    ")\n",
    "\n",
    "# Add NDCG, Recall, and HR metrics to be evaluated at 10, 20, and 50\n",
    "pipeline_builder.add_metric('NDCGK', [10, 20, 50])\n",
    "pipeline_builder.add_metric('RecallK', [10, 20, 50])\n",
    "pipeline_builder.add_metric('HitK', [10, 20, 50])\n",
    "\n",
    "# Set the optimisation metric\n",
    "pipeline_builder.set_optimisation_metric('RecallK', 20)\n",
    "\n",
    "# Construct pipeline\n",
    "pipeline = pipeline_builder.build()\n",
    "\n",
    "# Debugging: Output the shape of the training data\n",
    "#print(f\"Training data shape: {im.shape}\")\n",
    "\n",
    "# Run pipeline, will first do optimisation, and then evaluation\n",
    "pipeline.run()"
   ]
  },
  {
   "cell_type": "markdown",
   "id": "d4559031-caf9-4b7e-a37c-9278db7f8f19",
   "metadata": {},
   "source": [
    "## Results"
   ]
  },
  {
   "cell_type": "code",
   "execution_count": 17,
   "id": "e80f2784-1ed9-4d93-9883-4c34213d62ed",
   "metadata": {
    "scrolled": true
   },
   "outputs": [
    {
     "data": {
      "text/html": [
       "<div>\n",
       "<style scoped>\n",
       "    .dataframe tbody tr th:only-of-type {\n",
       "        vertical-align: middle;\n",
       "    }\n",
       "\n",
       "    .dataframe tbody tr th {\n",
       "        vertical-align: top;\n",
       "    }\n",
       "\n",
       "    .dataframe thead th {\n",
       "        text-align: right;\n",
       "    }\n",
       "</style>\n",
       "<table border=\"1\" class=\"dataframe\">\n",
       "  <thead>\n",
       "    <tr style=\"text-align: right;\">\n",
       "      <th></th>\n",
       "      <th>NDCGK_10</th>\n",
       "      <th>NDCGK_20</th>\n",
       "      <th>NDCGK_50</th>\n",
       "      <th>RecallK_10</th>\n",
       "      <th>RecallK_20</th>\n",
       "      <th>RecallK_50</th>\n",
       "      <th>HitK_10</th>\n",
       "      <th>HitK_20</th>\n",
       "      <th>HitK_50</th>\n",
       "    </tr>\n",
       "  </thead>\n",
       "  <tbody>\n",
       "    <tr>\n",
       "      <th>NGCFAlgorithm(batch_size=1024,dropout=0.1,embedding_dim=64,grad_clip=1.0,keep_last=True,learning_rate=0.001,max_epochs=5,max_iter_no_change=5,message_dropout=0.0,min_improvement=0.01,n_layers=3,node_dropout=0.0,predict_topK=None,save_best_to_file=True,seed=415478342,stop_early=True,stopping_criterion=&lt;recpack.algorithms.stopping_criterion.StoppingCriterion object at 0x7f73e4138390&gt;,validation_sample_size=None)</th>\n",
       "      <td>0.162537</td>\n",
       "      <td>0.2038</td>\n",
       "      <td>0.244584</td>\n",
       "      <td>0.30386</td>\n",
       "      <td>0.45996</td>\n",
       "      <td>0.654458</td>\n",
       "      <td>0.362972</td>\n",
       "      <td>0.550244</td>\n",
       "      <td>0.791413</td>\n",
       "    </tr>\n",
       "  </tbody>\n",
       "</table>\n",
       "</div>"
      ],
      "text/plain": [
       "                                                    NDCGK_10  NDCGK_20  \\\n",
       "NGCFAlgorithm(batch_size=1024,dropout=0.1,embed...  0.162537    0.2038   \n",
       "\n",
       "                                                    NDCGK_50  RecallK_10  \\\n",
       "NGCFAlgorithm(batch_size=1024,dropout=0.1,embed...  0.244584     0.30386   \n",
       "\n",
       "                                                    RecallK_20  RecallK_50  \\\n",
       "NGCFAlgorithm(batch_size=1024,dropout=0.1,embed...     0.45996    0.654458   \n",
       "\n",
       "                                                     HitK_10   HitK_20  \\\n",
       "NGCFAlgorithm(batch_size=1024,dropout=0.1,embed...  0.362972  0.550244   \n",
       "\n",
       "                                                     HitK_50  \n",
       "NGCFAlgorithm(batch_size=1024,dropout=0.1,embed...  0.791413  "
      ]
     },
     "execution_count": 17,
     "metadata": {},
     "output_type": "execute_result"
    }
   ],
   "source": [
    "pipeline.get_metrics()"
   ]
  },
  {
   "cell_type": "code",
   "execution_count": null,
   "id": "9f5e2dde-f629-46ec-b8b9-660b536341c7",
   "metadata": {},
   "outputs": [],
   "source": []
  }
 ],
 "metadata": {
  "kernelspec": {
   "display_name": "Python 3 (ipykernel)",
   "language": "python",
   "name": "python3"
  },
  "language_info": {
   "codemirror_mode": {
    "name": "ipython",
    "version": 3
   },
   "file_extension": ".py",
   "mimetype": "text/x-python",
   "name": "python",
   "nbconvert_exporter": "python",
   "pygments_lexer": "ipython3",
   "version": "3.11.9"
  }
 },
 "nbformat": 4,
 "nbformat_minor": 5
}
