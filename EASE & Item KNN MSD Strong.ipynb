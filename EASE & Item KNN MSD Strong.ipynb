{
 "cells": [
  {
   "cell_type": "markdown",
   "id": "5435cee5-5e5f-4354-aa6f-2ea0f3cd3892",
   "metadata": {},
   "source": [
    "# EASE & ItemKNN with MSD Dataset and StrongGeneralization Scenario"
   ]
  },
  {
   "cell_type": "markdown",
   "id": "92ae9733-a79a-4327-93cd-13384882fdf5",
   "metadata": {},
   "source": [
    "In this notebook, the experiment of EASE & ItemKNN in RecPack will be presented. \n",
    "The notebook contains:\n",
    "\n",
    "1. The 10% of MSD Dataset from RecPack and the StrongGeneralization Scenario has been used to split the data.\n",
    "2. The StrongGeneralization Scenario to split the data.\n",
    "3. The RecPack Pipeline Builder to run the experiments, including the splitted dataset, the algorithms and metrics to run. Hyperparameter has been performed in the Pipeline.\n",
    "\n",
    "Please make sure you have installed all the latest libraries in your Python environment, in order to have a successful run of the code."
   ]
  },
  {
   "cell_type": "code",
   "execution_count": 2,
   "id": "e87fd90c-f8ae-4fcc-a455-90fb8f2335c2",
   "metadata": {},
   "outputs": [],
   "source": [
    "from recpack.datasets import Netflix, DummyDataset\n",
    "from recpack.pipelines import PipelineBuilder\n",
    "from recpack.scenarios import StrongGeneralization\n",
    "from recpack.pipelines import ALGORITHM_REGISTRY\n",
    "import pandas as pd"
   ]
  },
  {
   "cell_type": "code",
   "execution_count": 3,
   "id": "288305e2-e570-4286-8468-c902e9d7ca25",
   "metadata": {},
   "outputs": [],
   "source": [
    "from recpack.datasets import MillionSongDataset\n",
    "dataset = MillionSongDataset()"
   ]
  },
  {
   "cell_type": "code",
   "execution_count": 4,
   "id": "9c73499f-1c14-4241-a0bd-e3412b4efd34",
   "metadata": {},
   "outputs": [],
   "source": [
    "dataset.fetch_dataset()"
   ]
  },
  {
   "cell_type": "code",
   "execution_count": 5,
   "id": "25bb2d15-0f4f-4142-8d5d-e06a6ea3c024",
   "metadata": {},
   "outputs": [
    {
     "data": {
      "text/plain": [
       "<recpack.datasets.million_song_dataset.MillionSongDataset at 0x7fa462bc9a50>"
      ]
     },
     "execution_count": 5,
     "metadata": {},
     "output_type": "execute_result"
    }
   ],
   "source": [
    "dataset"
   ]
  },
  {
   "cell_type": "code",
   "execution_count": 30,
   "id": "a290f199-0a3d-4c2b-bc30-c82b5254ab34",
   "metadata": {},
   "outputs": [],
   "source": [
    "df = dataset._load_dataframe()"
   ]
  },
  {
   "cell_type": "markdown",
   "id": "b98c5e16-145b-4b37-b93e-47d5711e2d86",
   "metadata": {},
   "source": [
    "## Datasets without Timestamps sampling"
   ]
  },
  {
   "cell_type": "code",
   "execution_count": null,
   "id": "2ec1fd27-efa0-48b4-b791-474897c87cba",
   "metadata": {},
   "outputs": [],
   "source": [
    "# Count interactions per user and per song\n",
    "user_interactions = df['userId'].value_counts().reset_index()\n",
    "user_interactions.columns = ['userId', 'user_interactions']\n",
    "\n",
    "song_interactions = df['songId'].value_counts().reset_index()\n",
    "song_interactions.columns = ['songId', 'song_interactions']\n",
    "\n",
    "# Merge the interaction counts back to the original dataframe\n",
    "df = df.merge(user_interactions, on='userId')\n",
    "df = df.merge(song_interactions, on='songId')\n",
    "\n",
    "# Calculate a combined interaction score\n",
    "df['interaction_score'] = df['user_interactions'] + df['song_interactions']\n",
    "\n",
    "# Rank based on the interaction score\n",
    "df['rank'] = df['interaction_score'].rank(method='first', ascending=False)\n",
    "\n",
    "# Select the top 10%\n",
    "filtered_df = df[df['rank'] <= len(df) * 0.1]\n",
    "\n",
    "# Drop helper columns\n",
    "filtered_df = filtered_df.drop(columns=['user_interactions', 'song_interactions', 'interaction_score', 'rank'])"
   ]
  },
  {
   "cell_type": "code",
   "execution_count": 29,
   "id": "833f5521-c86a-41a5-9fe8-2e1f1ba93a1c",
   "metadata": {},
   "outputs": [
    {
     "data": {
      "text/html": [
       "<div>\n",
       "<style scoped>\n",
       "    .dataframe tbody tr th:only-of-type {\n",
       "        vertical-align: middle;\n",
       "    }\n",
       "\n",
       "    .dataframe tbody tr th {\n",
       "        vertical-align: top;\n",
       "    }\n",
       "\n",
       "    .dataframe thead th {\n",
       "        text-align: right;\n",
       "    }\n",
       "</style>\n",
       "<table border=\"1\" class=\"dataframe\">\n",
       "  <thead>\n",
       "    <tr style=\"text-align: right;\">\n",
       "      <th></th>\n",
       "      <th>userId</th>\n",
       "      <th>songId</th>\n",
       "    </tr>\n",
       "  </thead>\n",
       "  <tbody>\n",
       "    <tr>\n",
       "      <th>28</th>\n",
       "      <td>b80344d063b5ccb3212f76538f3d9e43d87dca9e</td>\n",
       "      <td>SOFRQTD12A81C233C0</td>\n",
       "    </tr>\n",
       "    <tr>\n",
       "      <th>59</th>\n",
       "      <td>b80344d063b5ccb3212f76538f3d9e43d87dca9e</td>\n",
       "      <td>SOMGIYR12AB0187973</td>\n",
       "    </tr>\n",
       "    <tr>\n",
       "      <th>60</th>\n",
       "      <td>b80344d063b5ccb3212f76538f3d9e43d87dca9e</td>\n",
       "      <td>SOMGIYR12AB0187973</td>\n",
       "    </tr>\n",
       "    <tr>\n",
       "      <th>61</th>\n",
       "      <td>b80344d063b5ccb3212f76538f3d9e43d87dca9e</td>\n",
       "      <td>SOMGIYR12AB0187973</td>\n",
       "    </tr>\n",
       "    <tr>\n",
       "      <th>62</th>\n",
       "      <td>b80344d063b5ccb3212f76538f3d9e43d87dca9e</td>\n",
       "      <td>SOMGIYR12AB0187973</td>\n",
       "    </tr>\n",
       "    <tr>\n",
       "      <th>...</th>\n",
       "      <td>...</td>\n",
       "      <td>...</td>\n",
       "    </tr>\n",
       "    <tr>\n",
       "      <th>138680210</th>\n",
       "      <td>b7815dbb206eb2831ce0fe040d0aa537e2e800f7</td>\n",
       "      <td>SOOFYTN12A6D4F9B35</td>\n",
       "    </tr>\n",
       "    <tr>\n",
       "      <th>138680211</th>\n",
       "      <td>b7815dbb206eb2831ce0fe040d0aa537e2e800f7</td>\n",
       "      <td>SOOFYTN12A6D4F9B35</td>\n",
       "    </tr>\n",
       "    <tr>\n",
       "      <th>138680212</th>\n",
       "      <td>b7815dbb206eb2831ce0fe040d0aa537e2e800f7</td>\n",
       "      <td>SOOFYTN12A6D4F9B35</td>\n",
       "    </tr>\n",
       "    <tr>\n",
       "      <th>138680237</th>\n",
       "      <td>b7815dbb206eb2831ce0fe040d0aa537e2e800f7</td>\n",
       "      <td>SOUJVIT12A8C1451C1</td>\n",
       "    </tr>\n",
       "    <tr>\n",
       "      <th>138680238</th>\n",
       "      <td>b7815dbb206eb2831ce0fe040d0aa537e2e800f7</td>\n",
       "      <td>SOUSMXX12AB0185C24</td>\n",
       "    </tr>\n",
       "  </tbody>\n",
       "</table>\n",
       "<p>13868024 rows × 2 columns</p>\n",
       "</div>"
      ],
      "text/plain": [
       "                                             userId              songId\n",
       "28         b80344d063b5ccb3212f76538f3d9e43d87dca9e  SOFRQTD12A81C233C0\n",
       "59         b80344d063b5ccb3212f76538f3d9e43d87dca9e  SOMGIYR12AB0187973\n",
       "60         b80344d063b5ccb3212f76538f3d9e43d87dca9e  SOMGIYR12AB0187973\n",
       "61         b80344d063b5ccb3212f76538f3d9e43d87dca9e  SOMGIYR12AB0187973\n",
       "62         b80344d063b5ccb3212f76538f3d9e43d87dca9e  SOMGIYR12AB0187973\n",
       "...                                             ...                 ...\n",
       "138680210  b7815dbb206eb2831ce0fe040d0aa537e2e800f7  SOOFYTN12A6D4F9B35\n",
       "138680211  b7815dbb206eb2831ce0fe040d0aa537e2e800f7  SOOFYTN12A6D4F9B35\n",
       "138680212  b7815dbb206eb2831ce0fe040d0aa537e2e800f7  SOOFYTN12A6D4F9B35\n",
       "138680237  b7815dbb206eb2831ce0fe040d0aa537e2e800f7  SOUJVIT12A8C1451C1\n",
       "138680238  b7815dbb206eb2831ce0fe040d0aa537e2e800f7  SOUSMXX12AB0185C24\n",
       "\n",
       "[13868024 rows x 2 columns]"
      ]
     },
     "execution_count": 29,
     "metadata": {},
     "output_type": "execute_result"
    }
   ],
   "source": [
    "filtered_df"
   ]
  },
  {
   "cell_type": "code",
   "execution_count": 24,
   "id": "877cfa8a-c9d3-4436-8a74-5009b026f266",
   "metadata": {},
   "outputs": [
    {
     "data": {
      "text/html": [
       "<div>\n",
       "<style scoped>\n",
       "    .dataframe tbody tr th:only-of-type {\n",
       "        vertical-align: middle;\n",
       "    }\n",
       "\n",
       "    .dataframe tbody tr th {\n",
       "        vertical-align: top;\n",
       "    }\n",
       "\n",
       "    .dataframe thead th {\n",
       "        text-align: right;\n",
       "    }\n",
       "</style>\n",
       "<table border=\"1\" class=\"dataframe\">\n",
       "  <thead>\n",
       "    <tr style=\"text-align: right;\">\n",
       "      <th></th>\n",
       "      <th>userId</th>\n",
       "      <th>songId</th>\n",
       "      <th>user_interactions</th>\n",
       "      <th>song_interactions</th>\n",
       "      <th>interaction_score</th>\n",
       "      <th>rank</th>\n",
       "    </tr>\n",
       "  </thead>\n",
       "  <tbody>\n",
       "    <tr>\n",
       "      <th>0</th>\n",
       "      <td>b80344d063b5ccb3212f76538f3d9e43d87dca9e</td>\n",
       "      <td>SOAKIMP12A8C130995</td>\n",
       "      <td>142</td>\n",
       "      <td>6698</td>\n",
       "      <td>6840</td>\n",
       "      <td>55439149.0</td>\n",
       "    </tr>\n",
       "    <tr>\n",
       "      <th>1</th>\n",
       "      <td>b80344d063b5ccb3212f76538f3d9e43d87dca9e</td>\n",
       "      <td>SOAPDEY12A81C210A9</td>\n",
       "      <td>142</td>\n",
       "      <td>2012</td>\n",
       "      <td>2154</td>\n",
       "      <td>91117622.0</td>\n",
       "    </tr>\n",
       "    <tr>\n",
       "      <th>2</th>\n",
       "      <td>b80344d063b5ccb3212f76538f3d9e43d87dca9e</td>\n",
       "      <td>SOBBMDR12A8C13253B</td>\n",
       "      <td>142</td>\n",
       "      <td>6383</td>\n",
       "      <td>6525</td>\n",
       "      <td>56840187.0</td>\n",
       "    </tr>\n",
       "    <tr>\n",
       "      <th>3</th>\n",
       "      <td>b80344d063b5ccb3212f76538f3d9e43d87dca9e</td>\n",
       "      <td>SOBBMDR12A8C13253B</td>\n",
       "      <td>142</td>\n",
       "      <td>6383</td>\n",
       "      <td>6525</td>\n",
       "      <td>56840188.0</td>\n",
       "    </tr>\n",
       "    <tr>\n",
       "      <th>4</th>\n",
       "      <td>b80344d063b5ccb3212f76538f3d9e43d87dca9e</td>\n",
       "      <td>SOBFNSP12AF72A0E22</td>\n",
       "      <td>142</td>\n",
       "      <td>687</td>\n",
       "      <td>829</td>\n",
       "      <td>117735248.0</td>\n",
       "    </tr>\n",
       "    <tr>\n",
       "      <th>...</th>\n",
       "      <td>...</td>\n",
       "      <td>...</td>\n",
       "      <td>...</td>\n",
       "      <td>...</td>\n",
       "      <td>...</td>\n",
       "      <td>...</td>\n",
       "    </tr>\n",
       "    <tr>\n",
       "      <th>138680238</th>\n",
       "      <td>b7815dbb206eb2831ce0fe040d0aa537e2e800f7</td>\n",
       "      <td>SOUSMXX12AB0185C24</td>\n",
       "      <td>56</td>\n",
       "      <td>155529</td>\n",
       "      <td>155585</td>\n",
       "      <td>6266409.0</td>\n",
       "    </tr>\n",
       "    <tr>\n",
       "      <th>138680239</th>\n",
       "      <td>b7815dbb206eb2831ce0fe040d0aa537e2e800f7</td>\n",
       "      <td>SOWYSKH12AF72A303A</td>\n",
       "      <td>56</td>\n",
       "      <td>3306</td>\n",
       "      <td>3362</td>\n",
       "      <td>77443084.0</td>\n",
       "    </tr>\n",
       "    <tr>\n",
       "      <th>138680240</th>\n",
       "      <td>b7815dbb206eb2831ce0fe040d0aa537e2e800f7</td>\n",
       "      <td>SOWYSKH12AF72A303A</td>\n",
       "      <td>56</td>\n",
       "      <td>3306</td>\n",
       "      <td>3362</td>\n",
       "      <td>77443085.0</td>\n",
       "    </tr>\n",
       "    <tr>\n",
       "      <th>138680241</th>\n",
       "      <td>b7815dbb206eb2831ce0fe040d0aa537e2e800f7</td>\n",
       "      <td>SOWYSKH12AF72A303A</td>\n",
       "      <td>56</td>\n",
       "      <td>3306</td>\n",
       "      <td>3362</td>\n",
       "      <td>77443086.0</td>\n",
       "    </tr>\n",
       "    <tr>\n",
       "      <th>138680242</th>\n",
       "      <td>b7815dbb206eb2831ce0fe040d0aa537e2e800f7</td>\n",
       "      <td>SOYYFLV12A58A7A88F</td>\n",
       "      <td>56</td>\n",
       "      <td>11180</td>\n",
       "      <td>11236</td>\n",
       "      <td>41942670.0</td>\n",
       "    </tr>\n",
       "  </tbody>\n",
       "</table>\n",
       "<p>138680243 rows × 6 columns</p>\n",
       "</div>"
      ],
      "text/plain": [
       "                                             userId              songId  \\\n",
       "0          b80344d063b5ccb3212f76538f3d9e43d87dca9e  SOAKIMP12A8C130995   \n",
       "1          b80344d063b5ccb3212f76538f3d9e43d87dca9e  SOAPDEY12A81C210A9   \n",
       "2          b80344d063b5ccb3212f76538f3d9e43d87dca9e  SOBBMDR12A8C13253B   \n",
       "3          b80344d063b5ccb3212f76538f3d9e43d87dca9e  SOBBMDR12A8C13253B   \n",
       "4          b80344d063b5ccb3212f76538f3d9e43d87dca9e  SOBFNSP12AF72A0E22   \n",
       "...                                             ...                 ...   \n",
       "138680238  b7815dbb206eb2831ce0fe040d0aa537e2e800f7  SOUSMXX12AB0185C24   \n",
       "138680239  b7815dbb206eb2831ce0fe040d0aa537e2e800f7  SOWYSKH12AF72A303A   \n",
       "138680240  b7815dbb206eb2831ce0fe040d0aa537e2e800f7  SOWYSKH12AF72A303A   \n",
       "138680241  b7815dbb206eb2831ce0fe040d0aa537e2e800f7  SOWYSKH12AF72A303A   \n",
       "138680242  b7815dbb206eb2831ce0fe040d0aa537e2e800f7  SOYYFLV12A58A7A88F   \n",
       "\n",
       "           user_interactions  song_interactions  interaction_score  \\\n",
       "0                        142               6698               6840   \n",
       "1                        142               2012               2154   \n",
       "2                        142               6383               6525   \n",
       "3                        142               6383               6525   \n",
       "4                        142                687                829   \n",
       "...                      ...                ...                ...   \n",
       "138680238                 56             155529             155585   \n",
       "138680239                 56               3306               3362   \n",
       "138680240                 56               3306               3362   \n",
       "138680241                 56               3306               3362   \n",
       "138680242                 56              11180              11236   \n",
       "\n",
       "                  rank  \n",
       "0           55439149.0  \n",
       "1           91117622.0  \n",
       "2           56840187.0  \n",
       "3           56840188.0  \n",
       "4          117735248.0  \n",
       "...                ...  \n",
       "138680238    6266409.0  \n",
       "138680239   77443084.0  \n",
       "138680240   77443085.0  \n",
       "138680241   77443086.0  \n",
       "138680242   41942670.0  \n",
       "\n",
       "[138680243 rows x 6 columns]"
      ]
     },
     "execution_count": 24,
     "metadata": {},
     "output_type": "execute_result"
    }
   ],
   "source": [
    "df"
   ]
  },
  {
   "cell_type": "code",
   "execution_count": 25,
   "id": "29ce4902-07f0-4ad4-a6cd-3223650d98bb",
   "metadata": {},
   "outputs": [
    {
     "data": {
      "image/png": "[encoded data removed]",
      "text/plain": [
       "<Figure size 1000x600 with 1 Axes>"
      ]
     },
     "metadata": {},
     "output_type": "display_data"
    }
   ],
   "source": [
    "# Step 2: Create a histogram of the user_interactions\n",
    "plt.figure(figsize=(10, 6))\n",
    "plt.hist(df['user_interactions'], bins=50, color='skyblue', edgecolor='black', alpha=0.7)\n",
    "plt.title('Distribution of User Interactions')\n",
    "plt.xlabel('User Interactions')\n",
    "plt.ylabel('Frequency')\n",
    "\n",
    "# Step 3: Show the plot\n",
    "plt.show()"
   ]
  },
  {
   "cell_type": "code",
   "execution_count": 25,
   "id": "75315c82-bb45-4090-8d92-87e16d42f204",
   "metadata": {},
   "outputs": [
    {
     "data": {
      "text/html": [
       "<div>\n",
       "<style scoped>\n",
       "    .dataframe tbody tr th:only-of-type {\n",
       "        vertical-align: middle;\n",
       "    }\n",
       "\n",
       "    .dataframe tbody tr th {\n",
       "        vertical-align: top;\n",
       "    }\n",
       "\n",
       "    .dataframe thead th {\n",
       "        text-align: right;\n",
       "    }\n",
       "</style>\n",
       "<table border=\"1\" class=\"dataframe\">\n",
       "  <thead>\n",
       "    <tr style=\"text-align: right;\">\n",
       "      <th></th>\n",
       "      <th>userId</th>\n",
       "      <th>songId</th>\n",
       "    </tr>\n",
       "  </thead>\n",
       "  <tbody>\n",
       "    <tr>\n",
       "      <th>28</th>\n",
       "      <td>b80344d063b5ccb3212f76538f3d9e43d87dca9e</td>\n",
       "      <td>SOFRQTD12A81C233C0</td>\n",
       "    </tr>\n",
       "    <tr>\n",
       "      <th>59</th>\n",
       "      <td>b80344d063b5ccb3212f76538f3d9e43d87dca9e</td>\n",
       "      <td>SOMGIYR12AB0187973</td>\n",
       "    </tr>\n",
       "    <tr>\n",
       "      <th>60</th>\n",
       "      <td>b80344d063b5ccb3212f76538f3d9e43d87dca9e</td>\n",
       "      <td>SOMGIYR12AB0187973</td>\n",
       "    </tr>\n",
       "    <tr>\n",
       "      <th>61</th>\n",
       "      <td>b80344d063b5ccb3212f76538f3d9e43d87dca9e</td>\n",
       "      <td>SOMGIYR12AB0187973</td>\n",
       "    </tr>\n",
       "    <tr>\n",
       "      <th>62</th>\n",
       "      <td>b80344d063b5ccb3212f76538f3d9e43d87dca9e</td>\n",
       "      <td>SOMGIYR12AB0187973</td>\n",
       "    </tr>\n",
       "    <tr>\n",
       "      <th>...</th>\n",
       "      <td>...</td>\n",
       "      <td>...</td>\n",
       "    </tr>\n",
       "    <tr>\n",
       "      <th>138680210</th>\n",
       "      <td>b7815dbb206eb2831ce0fe040d0aa537e2e800f7</td>\n",
       "      <td>SOOFYTN12A6D4F9B35</td>\n",
       "    </tr>\n",
       "    <tr>\n",
       "      <th>138680211</th>\n",
       "      <td>b7815dbb206eb2831ce0fe040d0aa537e2e800f7</td>\n",
       "      <td>SOOFYTN12A6D4F9B35</td>\n",
       "    </tr>\n",
       "    <tr>\n",
       "      <th>138680212</th>\n",
       "      <td>b7815dbb206eb2831ce0fe040d0aa537e2e800f7</td>\n",
       "      <td>SOOFYTN12A6D4F9B35</td>\n",
       "    </tr>\n",
       "    <tr>\n",
       "      <th>138680237</th>\n",
       "      <td>b7815dbb206eb2831ce0fe040d0aa537e2e800f7</td>\n",
       "      <td>SOUJVIT12A8C1451C1</td>\n",
       "    </tr>\n",
       "    <tr>\n",
       "      <th>138680238</th>\n",
       "      <td>b7815dbb206eb2831ce0fe040d0aa537e2e800f7</td>\n",
       "      <td>SOUSMXX12AB0185C24</td>\n",
       "    </tr>\n",
       "  </tbody>\n",
       "</table>\n",
       "<p>13868024 rows × 2 columns</p>\n",
       "</div>"
      ],
      "text/plain": [
       "                                             userId              songId\n",
       "28         b80344d063b5ccb3212f76538f3d9e43d87dca9e  SOFRQTD12A81C233C0\n",
       "59         b80344d063b5ccb3212f76538f3d9e43d87dca9e  SOMGIYR12AB0187973\n",
       "60         b80344d063b5ccb3212f76538f3d9e43d87dca9e  SOMGIYR12AB0187973\n",
       "61         b80344d063b5ccb3212f76538f3d9e43d87dca9e  SOMGIYR12AB0187973\n",
       "62         b80344d063b5ccb3212f76538f3d9e43d87dca9e  SOMGIYR12AB0187973\n",
       "...                                             ...                 ...\n",
       "138680210  b7815dbb206eb2831ce0fe040d0aa537e2e800f7  SOOFYTN12A6D4F9B35\n",
       "138680211  b7815dbb206eb2831ce0fe040d0aa537e2e800f7  SOOFYTN12A6D4F9B35\n",
       "138680212  b7815dbb206eb2831ce0fe040d0aa537e2e800f7  SOOFYTN12A6D4F9B35\n",
       "138680237  b7815dbb206eb2831ce0fe040d0aa537e2e800f7  SOUJVIT12A8C1451C1\n",
       "138680238  b7815dbb206eb2831ce0fe040d0aa537e2e800f7  SOUSMXX12AB0185C24\n",
       "\n",
       "[13868024 rows x 2 columns]"
      ]
     },
     "execution_count": 25,
     "metadata": {},
     "output_type": "execute_result"
    }
   ],
   "source": [
    "filtered_df"
   ]
  },
  {
   "cell_type": "code",
   "execution_count": 12,
   "id": "7224c285-27bf-40e5-b0a6-b1dca7431d16",
   "metadata": {},
   "outputs": [
    {
     "data": {
      "application/vnd.jupyter.widget-view+json": {
       "model_id": "57c9d58ddd174523bc64e823cc4e5e8c",
       "version_major": 2,
       "version_minor": 0
      },
      "text/plain": [
       "  0%|          | 0/13868024 [00:00<?, ?it/s]"
      ]
     },
     "metadata": {},
     "output_type": "display_data"
    },
    {
     "data": {
      "application/vnd.jupyter.widget-view+json": {
       "model_id": "b181c01735874f69b6f4a1efcdd5fb43",
       "version_major": 2,
       "version_minor": 0
      },
      "text/plain": [
       "  0%|          | 0/13868024 [00:00<?, ?it/s]"
      ]
     },
     "metadata": {},
     "output_type": "display_data"
    }
   ],
   "source": [
    "from recpack.matrix import InteractionMatrix\n",
    "from recpack.preprocessing.preprocessors import DataFramePreprocessor\n",
    "item_ix = 'songId'\n",
    "user_ix = 'userId'\n",
    "\n",
    "preprocessor = DataFramePreprocessor(item_ix=item_ix, user_ix=user_ix)\n",
    "interaction_matrix = preprocessor.process(filtered_df)"
   ]
  },
  {
   "cell_type": "code",
   "execution_count": 10,
   "id": "aa72bb09-e745-4c5f-b4b3-88785f8a96b1",
   "metadata": {},
   "outputs": [
    {
     "data": {
      "application/vnd.jupyter.widget-view+json": {
       "model_id": "c383f8d3caea4ad7ba558ce7277a2004",
       "version_major": 2,
       "version_minor": 0
      },
      "text/plain": [
       "0it [00:00, ?it/s]"
      ]
     },
     "metadata": {},
     "output_type": "display_data"
    },
    {
     "data": {
      "application/vnd.jupyter.widget-view+json": {
       "model_id": "90235647258149eab0a94b7f54d7d662",
       "version_major": 2,
       "version_minor": 0
      },
      "text/plain": [
       "0it [00:00, ?it/s]"
      ]
     },
     "metadata": {},
     "output_type": "display_data"
    }
   ],
   "source": [
    "scenario = StrongGeneralization(frac_users_train=0.8, frac_interactions_in=0.8, validation=True)\n",
    "scenario.split(interaction_matrix)"
   ]
  },
  {
   "cell_type": "code",
   "execution_count": 11,
   "id": "40f6a5b5-4f21-49ee-a96e-f7e375031134",
   "metadata": {
    "scrolled": true
   },
   "outputs": [
    {
     "name": "stderr",
     "output_type": "stream",
     "text": [
      "/opt/conda/lib/python3.11/site-packages/recpack/pipelines/pipeline_builder.py:145: UserWarning: Grid parameter for add_algorithm function will be deprecated in favour of optimisation_info.\n",
      "  warnings.warn(\n"
     ]
    },
    {
     "data": {
      "application/vnd.jupyter.widget-view+json": {
       "model_id": "a3f64bf9364d4cb6bfeb533af870511d",
       "version_major": 2,
       "version_minor": 0
      },
      "text/plain": [
       "  0%|          | 0/2 [00:00<?, ?it/s]"
      ]
     },
     "metadata": {},
     "output_type": "display_data"
    },
    {
     "name": "stdout",
     "output_type": "stream",
     "text": [
      "2024-08-06 19:56:40,550 - base - recpack - INFO - Fitting ItemKNN complete - Took 2.12s\n"
     ]
    },
    {
     "name": "stderr",
     "output_type": "stream",
     "text": [
      "/opt/conda/lib/python3.11/site-packages/recpack/algorithms/base.py:279: UserWarning: ItemKNN missing similar items for 6 items.\n",
      "  warnings.warn(f\"{self.name} missing similar items for {missing} items.\")\n"
     ]
    },
    {
     "name": "stdout",
     "output_type": "stream",
     "text": [
      "2024-08-06 19:56:47,093 - base - recpack - INFO - Fitting ItemKNN complete - Took 1.54s\n"
     ]
    },
    {
     "name": "stderr",
     "output_type": "stream",
     "text": [
      "/opt/conda/lib/python3.11/site-packages/recpack/algorithms/base.py:279: UserWarning: ItemKNN missing similar items for 6 items.\n",
      "  warnings.warn(f\"{self.name} missing similar items for {missing} items.\")\n"
     ]
    },
    {
     "name": "stdout",
     "output_type": "stream",
     "text": [
      "2024-08-06 19:56:52,411 - base - recpack - INFO - Fitting ItemKNN complete - Took 1.35s\n"
     ]
    },
    {
     "name": "stderr",
     "output_type": "stream",
     "text": [
      "/opt/conda/lib/python3.11/site-packages/recpack/algorithms/base.py:279: UserWarning: ItemKNN missing similar items for 6 items.\n",
      "  warnings.warn(f\"{self.name} missing similar items for {missing} items.\")\n"
     ]
    },
    {
     "name": "stdout",
     "output_type": "stream",
     "text": [
      "2024-08-06 19:56:59,050 - base - recpack - INFO - Fitting ItemKNN complete - Took 1.71s\n"
     ]
    },
    {
     "name": "stderr",
     "output_type": "stream",
     "text": [
      "/opt/conda/lib/python3.11/site-packages/recpack/algorithms/base.py:279: UserWarning: ItemKNN missing similar items for 6 items.\n",
      "  warnings.warn(f\"{self.name} missing similar items for {missing} items.\")\n"
     ]
    },
    {
     "name": "stdout",
     "output_type": "stream",
     "text": [
      "2024-08-06 19:57:06,307 - base - recpack - INFO - Fitting ItemKNN complete - Took 1.83s\n",
      "2024-08-06 19:58:13,926 - base - recpack - INFO - Fitting EASE complete - Took 1.49s\n"
     ]
    },
    {
     "name": "stderr",
     "output_type": "stream",
     "text": [
      "/opt/conda/lib/python3.11/site-packages/recpack/algorithms/base.py:279: UserWarning: EASE missing similar items for 6 items.\n",
      "  warnings.warn(f\"{self.name} missing similar items for {missing} items.\")\n"
     ]
    },
    {
     "name": "stdout",
     "output_type": "stream",
     "text": [
      "2024-08-06 19:58:19,896 - base - recpack - INFO - Fitting EASE complete - Took 1.45s\n"
     ]
    },
    {
     "name": "stderr",
     "output_type": "stream",
     "text": [
      "/opt/conda/lib/python3.11/site-packages/recpack/algorithms/base.py:279: UserWarning: EASE missing similar items for 6 items.\n",
      "  warnings.warn(f\"{self.name} missing similar items for {missing} items.\")\n"
     ]
    },
    {
     "name": "stdout",
     "output_type": "stream",
     "text": [
      "2024-08-06 19:58:25,129 - base - recpack - INFO - Fitting EASE complete - Took 1.15s\n"
     ]
    },
    {
     "name": "stderr",
     "output_type": "stream",
     "text": [
      "/opt/conda/lib/python3.11/site-packages/recpack/algorithms/base.py:279: UserWarning: EASE missing similar items for 6 items.\n",
      "  warnings.warn(f\"{self.name} missing similar items for {missing} items.\")\n"
     ]
    },
    {
     "name": "stdout",
     "output_type": "stream",
     "text": [
      "2024-08-06 19:58:30,522 - base - recpack - INFO - Fitting EASE complete - Took 1.03s\n"
     ]
    },
    {
     "name": "stderr",
     "output_type": "stream",
     "text": [
      "/opt/conda/lib/python3.11/site-packages/recpack/algorithms/ease.py:89: RuntimeWarning: divide by zero encountered in divide\n",
      "  w = 1 / np.diag(XTX) ** self.alpha\n"
     ]
    },
    {
     "name": "stdout",
     "output_type": "stream",
     "text": [
      "2024-08-06 19:58:36,163 - base - recpack - INFO - Fitting EASE complete - Took 1.2s\n"
     ]
    },
    {
     "name": "stderr",
     "output_type": "stream",
     "text": [
      "/opt/conda/lib/python3.11/site-packages/recpack/algorithms/ease.py:89: RuntimeWarning: divide by zero encountered in divide\n",
      "  w = 1 / np.diag(XTX) ** self.alpha\n"
     ]
    },
    {
     "name": "stdout",
     "output_type": "stream",
     "text": [
      "2024-08-06 19:58:41,687 - base - recpack - INFO - Fitting EASE complete - Took 1.08s\n"
     ]
    },
    {
     "name": "stderr",
     "output_type": "stream",
     "text": [
      "/opt/conda/lib/python3.11/site-packages/recpack/algorithms/ease.py:89: RuntimeWarning: divide by zero encountered in divide\n",
      "  w = 1 / np.diag(XTX) ** self.alpha\n"
     ]
    },
    {
     "name": "stdout",
     "output_type": "stream",
     "text": [
      "2024-08-06 19:58:47,060 - base - recpack - INFO - Fitting EASE complete - Took 1.35s\n"
     ]
    },
    {
     "name": "stderr",
     "output_type": "stream",
     "text": [
      "/opt/conda/lib/python3.11/site-packages/recpack/algorithms/ease.py:89: RuntimeWarning: divide by zero encountered in divide\n",
      "  w = 1 / np.diag(XTX) ** self.alpha\n"
     ]
    },
    {
     "name": "stdout",
     "output_type": "stream",
     "text": [
      "2024-08-06 19:58:52,676 - base - recpack - INFO - Fitting EASE complete - Took 1.15s\n"
     ]
    },
    {
     "name": "stderr",
     "output_type": "stream",
     "text": [
      "/opt/conda/lib/python3.11/site-packages/recpack/algorithms/ease.py:89: RuntimeWarning: divide by zero encountered in divide\n",
      "  w = 1 / np.diag(XTX) ** self.alpha\n"
     ]
    },
    {
     "name": "stdout",
     "output_type": "stream",
     "text": [
      "2024-08-06 19:58:57,925 - base - recpack - INFO - Fitting EASE complete - Took 0.834s\n"
     ]
    },
    {
     "name": "stderr",
     "output_type": "stream",
     "text": [
      "/opt/conda/lib/python3.11/site-packages/recpack/algorithms/ease.py:89: RuntimeWarning: divide by zero encountered in divide\n",
      "  w = 1 / np.diag(XTX) ** self.alpha\n"
     ]
    },
    {
     "name": "stdout",
     "output_type": "stream",
     "text": [
      "2024-08-06 19:59:04,163 - base - recpack - INFO - Fitting EASE complete - Took 1.91s\n"
     ]
    }
   ],
   "source": [
    "pipeline_builder = PipelineBuilder()\n",
    "ok = (scenario._validation_data_in, scenario._validation_data_out)\n",
    "pipeline_builder.set_data_from_scenario(scenario)\n",
    "\n",
    "\n",
    "# Add the baseline algorithms\n",
    "pipeline_builder.add_algorithm('ItemKNN', grid={'K': [100, 200, 400, 800]})\n",
    "pipeline_builder.add_algorithm('EASE', grid={'l2': [10, 100, 1000], 'alpha': [0, 0.1, 0.5]})\n",
    "\n",
    "# Add NDCG, Recall, and HR metrics to be evaluated at 10, 20, and 50\n",
    "pipeline_builder.add_metric('NDCGK', [10, 20, 50])\n",
    "pipeline_builder.add_metric('RecallK', [10, 20, 50])\n",
    "pipeline_builder.add_metric('HitK', [10, 20, 50])\n",
    "\n",
    "# Set the optimisation metric\n",
    "pipeline_builder.set_optimisation_metric('RecallK', 20)\n",
    "\n",
    "# Construct pipeline\n",
    "pipeline = pipeline_builder.build()\n",
    "\n",
    "# Debugging: Output the shape of the training data\n",
    "#print(f\"Training data shape: {im.shape}\")\n",
    "\n",
    "# Run pipeline, will first do optimisation, and then evaluation\n",
    "pipeline.run()"
   ]
  },
  {
   "cell_type": "code",
   "execution_count": 12,
   "id": "e80f2784-1ed9-4d93-9883-4c34213d62ed",
   "metadata": {},
   "outputs": [
    {
     "data": {
      "text/html": [
       "<div>\n",
       "<style scoped>\n",
       "    .dataframe tbody tr th:only-of-type {\n",
       "        vertical-align: middle;\n",
       "    }\n",
       "\n",
       "    .dataframe tbody tr th {\n",
       "        vertical-align: top;\n",
       "    }\n",
       "\n",
       "    .dataframe thead th {\n",
       "        text-align: right;\n",
       "    }\n",
       "</style>\n",
       "<table border=\"1\" class=\"dataframe\">\n",
       "  <thead>\n",
       "    <tr style=\"text-align: right;\">\n",
       "      <th></th>\n",
       "      <th>NDCGK_10</th>\n",
       "      <th>NDCGK_20</th>\n",
       "      <th>NDCGK_50</th>\n",
       "      <th>RecallK_10</th>\n",
       "      <th>RecallK_20</th>\n",
       "      <th>RecallK_50</th>\n",
       "      <th>HitK_10</th>\n",
       "      <th>HitK_20</th>\n",
       "      <th>HitK_50</th>\n",
       "    </tr>\n",
       "  </thead>\n",
       "  <tbody>\n",
       "    <tr>\n",
       "      <th>ItemKNN(K=200,normalize_X=False,normalize_sim=False,pop_discount=None,similarity=cosine)</th>\n",
       "      <td>0.070357</td>\n",
       "      <td>0.079119</td>\n",
       "      <td>0.092743</td>\n",
       "      <td>0.086231</td>\n",
       "      <td>0.116829</td>\n",
       "      <td>0.17027</td>\n",
       "      <td>0.261241</td>\n",
       "      <td>0.359766</td>\n",
       "      <td>0.519183</td>\n",
       "    </tr>\n",
       "    <tr>\n",
       "      <th>EASE(alpha=0,density=None,l2=1000)</th>\n",
       "      <td>0.078827</td>\n",
       "      <td>0.087685</td>\n",
       "      <td>0.099316</td>\n",
       "      <td>0.096104</td>\n",
       "      <td>0.127194</td>\n",
       "      <td>0.17294</td>\n",
       "      <td>0.291269</td>\n",
       "      <td>0.392233</td>\n",
       "      <td>0.528541</td>\n",
       "    </tr>\n",
       "  </tbody>\n",
       "</table>\n",
       "</div>"
      ],
      "text/plain": [
       "                                                    NDCGK_10  NDCGK_20  \\\n",
       "ItemKNN(K=200,normalize_X=False,normalize_sim=F...  0.070357  0.079119   \n",
       "EASE(alpha=0,density=None,l2=1000)                  0.078827  0.087685   \n",
       "\n",
       "                                                    NDCGK_50  RecallK_10  \\\n",
       "ItemKNN(K=200,normalize_X=False,normalize_sim=F...  0.092743    0.086231   \n",
       "EASE(alpha=0,density=None,l2=1000)                  0.099316    0.096104   \n",
       "\n",
       "                                                    RecallK_20  RecallK_50  \\\n",
       "ItemKNN(K=200,normalize_X=False,normalize_sim=F...    0.116829     0.17027   \n",
       "EASE(alpha=0,density=None,l2=1000)                    0.127194     0.17294   \n",
       "\n",
       "                                                     HitK_10   HitK_20  \\\n",
       "ItemKNN(K=200,normalize_X=False,normalize_sim=F...  0.261241  0.359766   \n",
       "EASE(alpha=0,density=None,l2=1000)                  0.291269  0.392233   \n",
       "\n",
       "                                                     HitK_50  \n",
       "ItemKNN(K=200,normalize_X=False,normalize_sim=F...  0.519183  \n",
       "EASE(alpha=0,density=None,l2=1000)                  0.528541  "
      ]
     },
     "execution_count": 12,
     "metadata": {},
     "output_type": "execute_result"
    }
   ],
   "source": [
    "pipeline.get_metrics()"
   ]
  },
  {
   "cell_type": "code",
   "execution_count": null,
   "id": "06eb89bb-82dc-4982-8025-327b4e25fddb",
   "metadata": {},
   "outputs": [],
   "source": []
  }
 ],
 "metadata": {
  "kernelspec": {
   "display_name": "Python 3 (ipykernel)",
   "language": "python",
   "name": "python3"
  },
  "language_info": {
   "codemirror_mode": {
    "name": "ipython",
    "version": 3
   },
   "file_extension": ".py",
   "mimetype": "text/x-python",
   "name": "python",
   "nbconvert_exporter": "python",
   "pygments_lexer": "ipython3",
   "version": "3.11.9"
  }
 },
 "nbformat": 4,
 "nbformat_minor": 5
}
