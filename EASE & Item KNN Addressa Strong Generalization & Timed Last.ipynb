{
 "cells": [
  {
   "cell_type": "markdown",
   "id": "e21a4fec-1873-46c6-9311-2a3a1ba1a7b0",
   "metadata": {},
   "source": [
    "# EASE & ItemKNN with AddressaOneWeek Dataset and StrongGeneralization & TimedLastItemPrediction Scenario"
   ]
  },
  {
   "cell_type": "markdown",
   "id": "d8700190-8306-4488-b441-dce91fa21de9",
   "metadata": {},
   "source": [
    "In this notebook, the experiment of EASE & ItemKNN in RecPack will be presented. \n",
    "The notebook contains:\n",
    "\n",
    "1. The 10% of AddressaOneWeek Dataset from RecPack.\n",
    "2. The StrongGeneralization & TimedLastItemPrediction Scenario to split the data.\n",
    "3. The RecPack Pipeline Builder to run the experiments, including the splitted dataset, the algorithms and metrics to run. Hyperparameter has been performed in the Pipeline.\n",
    "\n",
    "Please make sure you have installed all the latest libraries in your Python environment, in order to have a successful run of the code."
   ]
  },
  {
   "cell_type": "code",
   "execution_count": 1,
   "id": "e87fd90c-f8ae-4fcc-a455-90fb8f2335c2",
   "metadata": {},
   "outputs": [],
   "source": [
    "from recpack.datasets import Netflix, DummyDataset\n",
    "from recpack.pipelines import PipelineBuilder\n",
    "from recpack.scenarios import StrongGeneralization, TimedLastItemPrediction, WeakGeneralization\n",
    "from recpack.pipelines import ALGORITHM_REGISTRY\n",
    "import pandas as pd"
   ]
  },
  {
   "cell_type": "code",
   "execution_count": 2,
   "id": "288305e2-e570-4286-8468-c902e9d7ca25",
   "metadata": {},
   "outputs": [],
   "source": [
    "from recpack.datasets import AdressaOneWeek\n",
    "dataset = AdressaOneWeek()"
   ]
  },
  {
   "cell_type": "code",
   "execution_count": 3,
   "id": "9c73499f-1c14-4241-a0bd-e3412b4efd34",
   "metadata": {},
   "outputs": [],
   "source": [
    "dataset.fetch_dataset()"
   ]
  },
  {
   "cell_type": "code",
   "execution_count": 4,
   "id": "25bb2d15-0f4f-4142-8d5d-e06a6ea3c024",
   "metadata": {},
   "outputs": [
    {
     "data": {
      "text/plain": [
       "<recpack.datasets.adressa.AdressaOneWeek at 0x7f49bca2aa10>"
      ]
     },
     "execution_count": 4,
     "metadata": {},
     "output_type": "execute_result"
    }
   ],
   "source": [
    "dataset"
   ]
  },
  {
   "cell_type": "code",
   "execution_count": 5,
   "id": "a290f199-0a3d-4c2b-bc30-c82b5254ab34",
   "metadata": {},
   "outputs": [],
   "source": [
    "df = dataset._load_dataframe()\n",
    "#df = dataset.load()"
   ]
  },
  {
   "cell_type": "markdown",
   "id": "29c62813-2e27-4462-acad-ee013b3fd860",
   "metadata": {},
   "source": [
    "## Datasets with Timestamps sampling"
   ]
  },
  {
   "cell_type": "code",
   "execution_count": 7,
   "id": "66ac1379-2266-4bec-b6d3-9cf22c1aaedf",
   "metadata": {},
   "outputs": [],
   "source": [
    "timestamp_counts = df['time'].value_counts().sort_index(ascending=False)\n",
    "cumulative_counts = timestamp_counts.cumsum()\n",
    "total_counts = cumulative_counts.max()\n",
    "threshold_count = total_counts * 0.1\n",
    "threshold_timestamp = cumulative_counts[cumulative_counts >= threshold_count].index[0]"
   ]
  },
  {
   "cell_type": "code",
   "execution_count": 8,
   "id": "a8b54ee9-8024-4d18-89c8-7858f45d7906",
   "metadata": {},
   "outputs": [],
   "source": [
    "filtered_df = df[df['time'] >= threshold_timestamp]"
   ]
  },
  {
   "cell_type": "code",
   "execution_count": 20,
   "id": "877cfa8a-c9d3-4436-8a74-5009b026f266",
   "metadata": {},
   "outputs": [
    {
     "data": {
      "text/html": [
       "<div>\n",
       "<style scoped>\n",
       "    .dataframe tbody tr th:only-of-type {\n",
       "        vertical-align: middle;\n",
       "    }\n",
       "\n",
       "    .dataframe tbody tr th {\n",
       "        vertical-align: top;\n",
       "    }\n",
       "\n",
       "    .dataframe thead th {\n",
       "        text-align: right;\n",
       "    }\n",
       "</style>\n",
       "<table border=\"1\" class=\"dataframe\">\n",
       "  <thead>\n",
       "    <tr style=\"text-align: right;\">\n",
       "      <th></th>\n",
       "      <th>userId</th>\n",
       "      <th>id</th>\n",
       "      <th>time</th>\n",
       "    </tr>\n",
       "  </thead>\n",
       "  <tbody>\n",
       "    <tr>\n",
       "      <th>0</th>\n",
       "      <td>cx:2fs9x8i7jvcjyckoxqfa6l4lw:3rr1gvpcbzx8w</td>\n",
       "      <td>9f3999bd1a1a8d67bcb073ad54840f15cb30f014</td>\n",
       "      <td>1483225202</td>\n",
       "    </tr>\n",
       "    <tr>\n",
       "      <th>1</th>\n",
       "      <td>cx:2u0wp23pfgjcc12gorbv6mp6tp:1l4jele4s191</td>\n",
       "      <td>f21680b77830223807e4847b3307e6ffa1e175ed</td>\n",
       "      <td>1483225203</td>\n",
       "    </tr>\n",
       "    <tr>\n",
       "      <th>2</th>\n",
       "      <td>cx:kfubh0ub7g8z3g5mgndoaljqd:1w4rvohza6x7d</td>\n",
       "      <td>2607fc7d7b4c0ede839a5ff6d499fa428237443e</td>\n",
       "      <td>1483225203</td>\n",
       "    </tr>\n",
       "    <tr>\n",
       "      <th>3</th>\n",
       "      <td>cx:hua808o791zl6cx9:3s9kdckn8su34</td>\n",
       "      <td>68d1503c73ad169dcfff48214fd0274c4d612e63</td>\n",
       "      <td>1483225204</td>\n",
       "    </tr>\n",
       "    <tr>\n",
       "      <th>4</th>\n",
       "      <td>cx:1s8dobcz77bgl3jozo9wdodu0t:2h45sh9wqlrpp</td>\n",
       "      <td>68d1503c73ad169dcfff48214fd0274c4d612e63</td>\n",
       "      <td>1483225207</td>\n",
       "    </tr>\n",
       "    <tr>\n",
       "      <th>...</th>\n",
       "      <td>...</td>\n",
       "      <td>...</td>\n",
       "      <td>...</td>\n",
       "    </tr>\n",
       "    <tr>\n",
       "      <th>3101986</th>\n",
       "      <td>cx:9k87jvj35ts82aloy49wfxosg:952wl4r7sedv</td>\n",
       "      <td>d26dae18a47ee499c4aaca4a9b6017f1b5b1da13</td>\n",
       "      <td>1483830000</td>\n",
       "    </tr>\n",
       "    <tr>\n",
       "      <th>3101987</th>\n",
       "      <td>cx:ikird5ho7t08hlc6:2n6k9bd2ntk6v</td>\n",
       "      <td>8a3d76e1d7452ce38ae70fe900a9952be4305c63</td>\n",
       "      <td>1483830000</td>\n",
       "    </tr>\n",
       "    <tr>\n",
       "      <th>3101988</th>\n",
       "      <td>cx:2ry3bd6yl2fbb3mq9zs5cl4zvc:9oicxykjoyvo</td>\n",
       "      <td>faa8cc5200499acbf0f23f6b8e8f78b2b55d2c60</td>\n",
       "      <td>1483830001</td>\n",
       "    </tr>\n",
       "    <tr>\n",
       "      <th>3101989</th>\n",
       "      <td>cx:3c83unb96kkua3kw8jnflgge0n:1au0d7qhme3j5</td>\n",
       "      <td>4d44e61d966ed5a2c8b70a95eb9948aa2a10696f</td>\n",
       "      <td>1483830001</td>\n",
       "    </tr>\n",
       "    <tr>\n",
       "      <th>3101990</th>\n",
       "      <td>cx:iolu0een5wf8whla:1gtj0r7yyqtm8</td>\n",
       "      <td>64ae4a1db60e066701aa444bc0af2f8f3dbcda3f</td>\n",
       "      <td>1483830001</td>\n",
       "    </tr>\n",
       "  </tbody>\n",
       "</table>\n",
       "<p>3101991 rows × 3 columns</p>\n",
       "</div>"
      ],
      "text/plain": [
       "                                              userId  \\\n",
       "0         cx:2fs9x8i7jvcjyckoxqfa6l4lw:3rr1gvpcbzx8w   \n",
       "1         cx:2u0wp23pfgjcc12gorbv6mp6tp:1l4jele4s191   \n",
       "2         cx:kfubh0ub7g8z3g5mgndoaljqd:1w4rvohza6x7d   \n",
       "3                  cx:hua808o791zl6cx9:3s9kdckn8su34   \n",
       "4        cx:1s8dobcz77bgl3jozo9wdodu0t:2h45sh9wqlrpp   \n",
       "...                                              ...   \n",
       "3101986    cx:9k87jvj35ts82aloy49wfxosg:952wl4r7sedv   \n",
       "3101987            cx:ikird5ho7t08hlc6:2n6k9bd2ntk6v   \n",
       "3101988   cx:2ry3bd6yl2fbb3mq9zs5cl4zvc:9oicxykjoyvo   \n",
       "3101989  cx:3c83unb96kkua3kw8jnflgge0n:1au0d7qhme3j5   \n",
       "3101990            cx:iolu0een5wf8whla:1gtj0r7yyqtm8   \n",
       "\n",
       "                                               id        time  \n",
       "0        9f3999bd1a1a8d67bcb073ad54840f15cb30f014  1483225202  \n",
       "1        f21680b77830223807e4847b3307e6ffa1e175ed  1483225203  \n",
       "2        2607fc7d7b4c0ede839a5ff6d499fa428237443e  1483225203  \n",
       "3        68d1503c73ad169dcfff48214fd0274c4d612e63  1483225204  \n",
       "4        68d1503c73ad169dcfff48214fd0274c4d612e63  1483225207  \n",
       "...                                           ...         ...  \n",
       "3101986  d26dae18a47ee499c4aaca4a9b6017f1b5b1da13  1483830000  \n",
       "3101987  8a3d76e1d7452ce38ae70fe900a9952be4305c63  1483830000  \n",
       "3101988  faa8cc5200499acbf0f23f6b8e8f78b2b55d2c60  1483830001  \n",
       "3101989  4d44e61d966ed5a2c8b70a95eb9948aa2a10696f  1483830001  \n",
       "3101990  64ae4a1db60e066701aa444bc0af2f8f3dbcda3f  1483830001  \n",
       "\n",
       "[3101991 rows x 3 columns]"
      ]
     },
     "execution_count": 20,
     "metadata": {},
     "output_type": "execute_result"
    }
   ],
   "source": [
    "df"
   ]
  },
  {
   "cell_type": "code",
   "execution_count": 21,
   "id": "75315c82-bb45-4090-8d92-87e16d42f204",
   "metadata": {},
   "outputs": [
    {
     "data": {
      "text/html": [
       "<div>\n",
       "<style scoped>\n",
       "    .dataframe tbody tr th:only-of-type {\n",
       "        vertical-align: middle;\n",
       "    }\n",
       "\n",
       "    .dataframe tbody tr th {\n",
       "        vertical-align: top;\n",
       "    }\n",
       "\n",
       "    .dataframe thead th {\n",
       "        text-align: right;\n",
       "    }\n",
       "</style>\n",
       "<table border=\"1\" class=\"dataframe\">\n",
       "  <thead>\n",
       "    <tr style=\"text-align: right;\">\n",
       "      <th></th>\n",
       "      <th>userId</th>\n",
       "      <th>id</th>\n",
       "      <th>time</th>\n",
       "    </tr>\n",
       "  </thead>\n",
       "  <tbody>\n",
       "    <tr>\n",
       "      <th>2791789</th>\n",
       "      <td>cx:2ren7oax3ikx1126uc6379p1m1:1ilgu73jr9354</td>\n",
       "      <td>9da08a8be1d6cf85b0c7cd3f40b774cba66960b8</td>\n",
       "      <td>1483745358</td>\n",
       "    </tr>\n",
       "    <tr>\n",
       "      <th>2791790</th>\n",
       "      <td>cx:13573746954421111340278:21n4bwo3o22w3</td>\n",
       "      <td>f28b18132dfe141356c778b1909f13fcded3c613</td>\n",
       "      <td>1483745358</td>\n",
       "    </tr>\n",
       "    <tr>\n",
       "      <th>2791791</th>\n",
       "      <td>cx:ehi4yx5vak421bv2uzvm0hz9m:2tfkglwogbje9</td>\n",
       "      <td>bb8ff8365233ea91dfcdb36fdd84f87fcc33e1a8</td>\n",
       "      <td>1483745358</td>\n",
       "    </tr>\n",
       "    <tr>\n",
       "      <th>2791792</th>\n",
       "      <td>cx:imiu917sfw8scsba:2b3kfu5odsixi</td>\n",
       "      <td>9de2fd10200602037cc938b038a0f7d3d5f8fb76</td>\n",
       "      <td>1483745359</td>\n",
       "    </tr>\n",
       "    <tr>\n",
       "      <th>2791793</th>\n",
       "      <td>cx:hu9xqbxb2q1op1a2:2bvkrtdex7gri</td>\n",
       "      <td>17a7ea777cb261130668d4314b1591f3767cd090</td>\n",
       "      <td>1483745359</td>\n",
       "    </tr>\n",
       "    <tr>\n",
       "      <th>...</th>\n",
       "      <td>...</td>\n",
       "      <td>...</td>\n",
       "      <td>...</td>\n",
       "    </tr>\n",
       "    <tr>\n",
       "      <th>3101986</th>\n",
       "      <td>cx:9k87jvj35ts82aloy49wfxosg:952wl4r7sedv</td>\n",
       "      <td>d26dae18a47ee499c4aaca4a9b6017f1b5b1da13</td>\n",
       "      <td>1483830000</td>\n",
       "    </tr>\n",
       "    <tr>\n",
       "      <th>3101987</th>\n",
       "      <td>cx:ikird5ho7t08hlc6:2n6k9bd2ntk6v</td>\n",
       "      <td>8a3d76e1d7452ce38ae70fe900a9952be4305c63</td>\n",
       "      <td>1483830000</td>\n",
       "    </tr>\n",
       "    <tr>\n",
       "      <th>3101988</th>\n",
       "      <td>cx:2ry3bd6yl2fbb3mq9zs5cl4zvc:9oicxykjoyvo</td>\n",
       "      <td>faa8cc5200499acbf0f23f6b8e8f78b2b55d2c60</td>\n",
       "      <td>1483830001</td>\n",
       "    </tr>\n",
       "    <tr>\n",
       "      <th>3101989</th>\n",
       "      <td>cx:3c83unb96kkua3kw8jnflgge0n:1au0d7qhme3j5</td>\n",
       "      <td>4d44e61d966ed5a2c8b70a95eb9948aa2a10696f</td>\n",
       "      <td>1483830001</td>\n",
       "    </tr>\n",
       "    <tr>\n",
       "      <th>3101990</th>\n",
       "      <td>cx:iolu0een5wf8whla:1gtj0r7yyqtm8</td>\n",
       "      <td>64ae4a1db60e066701aa444bc0af2f8f3dbcda3f</td>\n",
       "      <td>1483830001</td>\n",
       "    </tr>\n",
       "  </tbody>\n",
       "</table>\n",
       "<p>310202 rows × 3 columns</p>\n",
       "</div>"
      ],
      "text/plain": [
       "                                              userId  \\\n",
       "2791789  cx:2ren7oax3ikx1126uc6379p1m1:1ilgu73jr9354   \n",
       "2791790     cx:13573746954421111340278:21n4bwo3o22w3   \n",
       "2791791   cx:ehi4yx5vak421bv2uzvm0hz9m:2tfkglwogbje9   \n",
       "2791792            cx:imiu917sfw8scsba:2b3kfu5odsixi   \n",
       "2791793            cx:hu9xqbxb2q1op1a2:2bvkrtdex7gri   \n",
       "...                                              ...   \n",
       "3101986    cx:9k87jvj35ts82aloy49wfxosg:952wl4r7sedv   \n",
       "3101987            cx:ikird5ho7t08hlc6:2n6k9bd2ntk6v   \n",
       "3101988   cx:2ry3bd6yl2fbb3mq9zs5cl4zvc:9oicxykjoyvo   \n",
       "3101989  cx:3c83unb96kkua3kw8jnflgge0n:1au0d7qhme3j5   \n",
       "3101990            cx:iolu0een5wf8whla:1gtj0r7yyqtm8   \n",
       "\n",
       "                                               id        time  \n",
       "2791789  9da08a8be1d6cf85b0c7cd3f40b774cba66960b8  1483745358  \n",
       "2791790  f28b18132dfe141356c778b1909f13fcded3c613  1483745358  \n",
       "2791791  bb8ff8365233ea91dfcdb36fdd84f87fcc33e1a8  1483745358  \n",
       "2791792  9de2fd10200602037cc938b038a0f7d3d5f8fb76  1483745359  \n",
       "2791793  17a7ea777cb261130668d4314b1591f3767cd090  1483745359  \n",
       "...                                           ...         ...  \n",
       "3101986  d26dae18a47ee499c4aaca4a9b6017f1b5b1da13  1483830000  \n",
       "3101987  8a3d76e1d7452ce38ae70fe900a9952be4305c63  1483830000  \n",
       "3101988  faa8cc5200499acbf0f23f6b8e8f78b2b55d2c60  1483830001  \n",
       "3101989  4d44e61d966ed5a2c8b70a95eb9948aa2a10696f  1483830001  \n",
       "3101990  64ae4a1db60e066701aa444bc0af2f8f3dbcda3f  1483830001  \n",
       "\n",
       "[310202 rows x 3 columns]"
      ]
     },
     "execution_count": 21,
     "metadata": {},
     "output_type": "execute_result"
    }
   ],
   "source": [
    "filtered_df"
   ]
  },
  {
   "cell_type": "code",
   "execution_count": 9,
   "id": "28b3aa70-98ce-4bd8-9888-904495d7f8e5",
   "metadata": {},
   "outputs": [
    {
     "data": {
      "application/vnd.jupyter.widget-view+json": {
       "model_id": "0387f201b0f74e6aa4be935a107adf0b",
       "version_major": 2,
       "version_minor": 0
      },
      "text/plain": [
       "  0%|          | 0/310202 [00:00<?, ?it/s]"
      ]
     },
     "metadata": {},
     "output_type": "display_data"
    },
    {
     "data": {
      "application/vnd.jupyter.widget-view+json": {
       "model_id": "5ac64d11d8d348bbae91bed03309499e",
       "version_major": 2,
       "version_minor": 0
      },
      "text/plain": [
       "  0%|          | 0/310202 [00:00<?, ?it/s]"
      ]
     },
     "metadata": {},
     "output_type": "display_data"
    }
   ],
   "source": [
    "from recpack.matrix import InteractionMatrix\n",
    "from recpack.preprocessing.preprocessors import DataFramePreprocessor\n",
    "\n",
    "item_ix = 'id'\n",
    "user_ix = 'userId'\n",
    "timestamp_ix = 'time'\n",
    "\n",
    "preprocessor = DataFramePreprocessor(item_ix=item_ix, user_ix=user_ix, timestamp_ix=timestamp_ix)\n",
    "\n",
    "interaction_matrix = preprocessor.process(filtered_df)"
   ]
  },
  {
   "cell_type": "code",
   "execution_count": 13,
   "id": "01f819d0-969a-46af-8a25-e10b9f38af60",
   "metadata": {},
   "outputs": [],
   "source": [
    "tt = interaction_matrix.timestamps.values[int(0.999 * len(interaction_matrix.timestamps.values))]"
   ]
  },
  {
   "cell_type": "code",
   "execution_count": 14,
   "id": "73d22b62-213c-4ac4-9346-70414e7c39db",
   "metadata": {},
   "outputs": [
    {
     "data": {
      "text/plain": [
       "(array([13117.,  3505.,  5827., 29091., 35745., 42245., 45727., 47582.,\n",
       "        38001., 49054.]),\n",
       " array([1.48374536e+09, 1.48375382e+09, 1.48376228e+09, 1.48377073e+09,\n",
       "        1.48377919e+09, 1.48378765e+09, 1.48379611e+09, 1.48380457e+09,\n",
       "        1.48381303e+09, 1.48382148e+09, 1.48382994e+09]),\n",
       " <BarContainer object of 10 artists>)"
      ]
     },
     "execution_count": 14,
     "metadata": {},
     "output_type": "execute_result"
    },
    {
     "data": {
      "image/png": "[encoded data removed]",
      "text/plain": [
       "<Figure size 640x480 with 1 Axes>"
      ]
     },
     "metadata": {},
     "output_type": "display_data"
    }
   ],
   "source": [
    "import matplotlib.pyplot as plt\n",
    "plt.hist(interaction_matrix.timestamps_lte(tt).timestamps.values)"
   ]
  },
  {
   "cell_type": "code",
   "execution_count": 15,
   "id": "de37ad03-b7d4-4099-a4d8-d3c6636f9267",
   "metadata": {},
   "outputs": [
    {
     "name": "stdout",
     "output_type": "stream",
     "text": [
      "1483818916 1483808390\n"
     ]
    }
   ],
   "source": [
    "interaction_matrix.timestamps.values\n",
    "t_80 = interaction_matrix.timestamps.values[int(0.8 * len(interaction_matrix.timestamps.values))]\n",
    "t_validate_80 = interaction_matrix.timestamps.values[int(0.8 * 0.8 * len(interaction_matrix.timestamps.values))]\n",
    "print(t_80, t_validate_80)"
   ]
  },
  {
   "cell_type": "code",
   "execution_count": null,
   "id": "aa72bb09-e745-4c5f-b4b3-88785f8a96b1",
   "metadata": {},
   "outputs": [],
   "source": [
    "#The last scenario being used is TimedLastItemPrediction after generating the results of StrongGeneralization scenario\n",
    "#scenario = StrongGeneralization(frac_users_train=0.8, frac_interactions_in=0.8, validation=True)\n",
    "scenario = TimedLastItemPrediction(t = t_80, t_validation = t_validate_80, validation=True)\n",
    "scenario.split(interaction_matrix)"
   ]
  },
  {
   "cell_type": "code",
   "execution_count": 17,
   "id": "40f6a5b5-4f21-49ee-a96e-f7e375031134",
   "metadata": {
    "scrolled": true
   },
   "outputs": [
    {
     "name": "stderr",
     "output_type": "stream",
     "text": [
      "/opt/conda/lib/python3.11/site-packages/recpack/pipelines/pipeline_builder.py:145: UserWarning: Grid parameter for add_algorithm function will be deprecated in favour of optimisation_info.\n",
      "  warnings.warn(\n"
     ]
    },
    {
     "data": {
      "application/vnd.jupyter.widget-view+json": {
       "model_id": "207bee5fbbe948538d70bd1a9491f993",
       "version_major": 2,
       "version_minor": 0
      },
      "text/plain": [
       "  0%|          | 0/2 [00:00<?, ?it/s]"
      ]
     },
     "metadata": {},
     "output_type": "display_data"
    },
    {
     "name": "stdout",
     "output_type": "stream",
     "text": [
      "2024-08-07 20:04:42,984 - base - recpack - INFO - Fitting ItemKNN complete - Took 0.305s\n"
     ]
    },
    {
     "name": "stderr",
     "output_type": "stream",
     "text": [
      "/opt/conda/lib/python3.11/site-packages/recpack/algorithms/base.py:279: UserWarning: ItemKNN missing similar items for 3797 items.\n",
      "  warnings.warn(f\"{self.name} missing similar items for {missing} items.\")\n",
      "/opt/conda/lib/python3.11/site-packages/recpack/algorithms/base.py:127: UserWarning: ItemKNN failed to recommend any items for 1003 users\n",
      "  warnings.warn(f\"{self.name} failed to recommend any items \" f\"for {len(missing)} users\")\n"
     ]
    },
    {
     "name": "stdout",
     "output_type": "stream",
     "text": [
      "2024-08-07 20:04:44,435 - base - recpack - INFO - Fitting ItemKNN complete - Took 0.197s\n"
     ]
    },
    {
     "name": "stderr",
     "output_type": "stream",
     "text": [
      "/opt/conda/lib/python3.11/site-packages/recpack/algorithms/base.py:279: UserWarning: ItemKNN missing similar items for 3797 items.\n",
      "  warnings.warn(f\"{self.name} missing similar items for {missing} items.\")\n",
      "/opt/conda/lib/python3.11/site-packages/recpack/algorithms/base.py:127: UserWarning: ItemKNN failed to recommend any items for 1003 users\n",
      "  warnings.warn(f\"{self.name} failed to recommend any items \" f\"for {len(missing)} users\")\n"
     ]
    },
    {
     "name": "stdout",
     "output_type": "stream",
     "text": [
      "2024-08-07 20:04:46,667 - base - recpack - INFO - Fitting ItemKNN complete - Took 0.237s\n"
     ]
    },
    {
     "name": "stderr",
     "output_type": "stream",
     "text": [
      "/opt/conda/lib/python3.11/site-packages/recpack/algorithms/base.py:279: UserWarning: ItemKNN missing similar items for 3797 items.\n",
      "  warnings.warn(f\"{self.name} missing similar items for {missing} items.\")\n",
      "/opt/conda/lib/python3.11/site-packages/recpack/algorithms/base.py:127: UserWarning: ItemKNN failed to recommend any items for 1003 users\n",
      "  warnings.warn(f\"{self.name} failed to recommend any items \" f\"for {len(missing)} users\")\n"
     ]
    },
    {
     "name": "stdout",
     "output_type": "stream",
     "text": [
      "2024-08-07 20:04:49,258 - base - recpack - INFO - Fitting ItemKNN complete - Took 0.206s\n"
     ]
    },
    {
     "name": "stderr",
     "output_type": "stream",
     "text": [
      "/opt/conda/lib/python3.11/site-packages/recpack/algorithms/base.py:279: UserWarning: ItemKNN missing similar items for 3797 items.\n",
      "  warnings.warn(f\"{self.name} missing similar items for {missing} items.\")\n",
      "/opt/conda/lib/python3.11/site-packages/recpack/algorithms/base.py:127: UserWarning: ItemKNN failed to recommend any items for 1003 users\n",
      "  warnings.warn(f\"{self.name} failed to recommend any items \" f\"for {len(missing)} users\")\n"
     ]
    },
    {
     "name": "stdout",
     "output_type": "stream",
     "text": [
      "2024-08-07 20:04:52,122 - base - recpack - INFO - Fitting ItemKNN complete - Took 0.218s\n"
     ]
    },
    {
     "name": "stderr",
     "output_type": "stream",
     "text": [
      "/opt/conda/lib/python3.11/site-packages/recpack/algorithms/base.py:279: UserWarning: ItemKNN missing similar items for 3321 items.\n",
      "  warnings.warn(f\"{self.name} missing similar items for {missing} items.\")\n",
      "/opt/conda/lib/python3.11/site-packages/recpack/algorithms/base.py:127: UserWarning: ItemKNN failed to recommend any items for 1696 users\n",
      "  warnings.warn(f\"{self.name} failed to recommend any items \" f\"for {len(missing)} users\")\n"
     ]
    },
    {
     "name": "stdout",
     "output_type": "stream",
     "text": [
      "2024-08-07 20:05:10,582 - base - recpack - INFO - Fitting EASE complete - Took 6.71s\n"
     ]
    },
    {
     "name": "stderr",
     "output_type": "stream",
     "text": [
      "/opt/conda/lib/python3.11/site-packages/recpack/algorithms/base.py:279: UserWarning: EASE missing similar items for 3797 items.\n",
      "  warnings.warn(f\"{self.name} missing similar items for {missing} items.\")\n",
      "/opt/conda/lib/python3.11/site-packages/recpack/algorithms/base.py:127: UserWarning: EASE failed to recommend any items for 1003 users\n",
      "  warnings.warn(f\"{self.name} failed to recommend any items \" f\"for {len(missing)} users\")\n"
     ]
    },
    {
     "name": "stdout",
     "output_type": "stream",
     "text": [
      "2024-08-07 20:05:24,372 - base - recpack - INFO - Fitting EASE complete - Took 6.82s\n"
     ]
    },
    {
     "name": "stderr",
     "output_type": "stream",
     "text": [
      "/opt/conda/lib/python3.11/site-packages/recpack/algorithms/base.py:279: UserWarning: EASE missing similar items for 3797 items.\n",
      "  warnings.warn(f\"{self.name} missing similar items for {missing} items.\")\n",
      "/opt/conda/lib/python3.11/site-packages/recpack/algorithms/base.py:127: UserWarning: EASE failed to recommend any items for 1003 users\n",
      "  warnings.warn(f\"{self.name} failed to recommend any items \" f\"for {len(missing)} users\")\n"
     ]
    },
    {
     "name": "stdout",
     "output_type": "stream",
     "text": [
      "2024-08-07 20:05:44,278 - base - recpack - INFO - Fitting EASE complete - Took 12.7s\n"
     ]
    },
    {
     "name": "stderr",
     "output_type": "stream",
     "text": [
      "/opt/conda/lib/python3.11/site-packages/recpack/algorithms/base.py:279: UserWarning: EASE missing similar items for 3797 items.\n",
      "  warnings.warn(f\"{self.name} missing similar items for {missing} items.\")\n",
      "/opt/conda/lib/python3.11/site-packages/recpack/algorithms/base.py:127: UserWarning: EASE failed to recommend any items for 1003 users\n",
      "  warnings.warn(f\"{self.name} failed to recommend any items \" f\"for {len(missing)} users\")\n",
      "/opt/conda/lib/python3.11/site-packages/recpack/algorithms/ease.py:89: RuntimeWarning: divide by zero encountered in divide\n",
      "  w = 1 / np.diag(XTX) ** self.alpha\n"
     ]
    },
    {
     "name": "stdout",
     "output_type": "stream",
     "text": [
      "2024-08-07 20:06:10,695 - base - recpack - INFO - Fitting EASE complete - Took 19.0s\n"
     ]
    },
    {
     "name": "stderr",
     "output_type": "stream",
     "text": [
      "/opt/conda/lib/python3.11/site-packages/recpack/algorithms/ease.py:89: RuntimeWarning: divide by zero encountered in divide\n",
      "  w = 1 / np.diag(XTX) ** self.alpha\n"
     ]
    },
    {
     "name": "stdout",
     "output_type": "stream",
     "text": [
      "2024-08-07 20:06:40,850 - base - recpack - INFO - Fitting EASE complete - Took 10.5s\n"
     ]
    },
    {
     "name": "stderr",
     "output_type": "stream",
     "text": [
      "/opt/conda/lib/python3.11/site-packages/recpack/algorithms/ease.py:89: RuntimeWarning: divide by zero encountered in divide\n",
      "  w = 1 / np.diag(XTX) ** self.alpha\n"
     ]
    },
    {
     "name": "stdout",
     "output_type": "stream",
     "text": [
      "2024-08-07 20:07:13,305 - base - recpack - INFO - Fitting EASE complete - Took 10.9s\n"
     ]
    },
    {
     "name": "stderr",
     "output_type": "stream",
     "text": [
      "/opt/conda/lib/python3.11/site-packages/recpack/algorithms/ease.py:89: RuntimeWarning: divide by zero encountered in divide\n",
      "  w = 1 / np.diag(XTX) ** self.alpha\n"
     ]
    },
    {
     "name": "stdout",
     "output_type": "stream",
     "text": [
      "2024-08-07 20:07:47,584 - base - recpack - INFO - Fitting EASE complete - Took 10.7s\n"
     ]
    },
    {
     "name": "stderr",
     "output_type": "stream",
     "text": [
      "/opt/conda/lib/python3.11/site-packages/recpack/algorithms/ease.py:89: RuntimeWarning: divide by zero encountered in divide\n",
      "  w = 1 / np.diag(XTX) ** self.alpha\n"
     ]
    },
    {
     "name": "stdout",
     "output_type": "stream",
     "text": [
      "2024-08-07 20:08:19,982 - base - recpack - INFO - Fitting EASE complete - Took 11.1s\n"
     ]
    },
    {
     "name": "stderr",
     "output_type": "stream",
     "text": [
      "/opt/conda/lib/python3.11/site-packages/recpack/algorithms/ease.py:89: RuntimeWarning: divide by zero encountered in divide\n",
      "  w = 1 / np.diag(XTX) ** self.alpha\n"
     ]
    },
    {
     "name": "stdout",
     "output_type": "stream",
     "text": [
      "2024-08-07 20:08:52,935 - base - recpack - INFO - Fitting EASE complete - Took 10.7s\n",
      "2024-08-07 20:09:22,346 - base - recpack - INFO - Fitting EASE complete - Took 7.41s\n"
     ]
    },
    {
     "name": "stderr",
     "output_type": "stream",
     "text": [
      "/opt/conda/lib/python3.11/site-packages/recpack/algorithms/base.py:279: UserWarning: EASE missing similar items for 3321 items.\n",
      "  warnings.warn(f\"{self.name} missing similar items for {missing} items.\")\n",
      "/opt/conda/lib/python3.11/site-packages/recpack/algorithms/base.py:127: UserWarning: EASE failed to recommend any items for 1696 users\n",
      "  warnings.warn(f\"{self.name} failed to recommend any items \" f\"for {len(missing)} users\")\n"
     ]
    }
   ],
   "source": [
    "pipeline_builder = PipelineBuilder()\n",
    "ok = (scenario._validation_data_in, scenario._validation_data_out)\n",
    "pipeline_builder.set_data_from_scenario(scenario)\n",
    "\n",
    "\n",
    "# Add the baseline algorithms\n",
    "pipeline_builder.add_algorithm('ItemKNN', grid={'K': [100, 200, 400, 800]})\n",
    "pipeline_builder.add_algorithm('EASE', grid={'l2': [10, 100, 1000], 'alpha': [0, 0.1, 0.5]})\n",
    "\n",
    "# Add NDCG, Recall, and HR metrics to be evaluated at 10, 20, and 50\n",
    "pipeline_builder.add_metric('NDCGK', [10, 20, 50])\n",
    "pipeline_builder.add_metric('RecallK', [10, 20, 50])\n",
    "pipeline_builder.add_metric('HitK', [10, 20, 50])\n",
    "\n",
    "# Set the optimisation metric\n",
    "pipeline_builder.set_optimisation_metric('RecallK', 20)\n",
    "\n",
    "# Construct pipeline\n",
    "pipeline = pipeline_builder.build()\n",
    "\n",
    "# Debugging: Output the shape of the training data\n",
    "#print(f\"Training data shape: {im.shape}\")\n",
    "\n",
    "# Run pipeline, will first do optimisation, and then evaluation\n",
    "pipeline.run()"
   ]
  },
  {
   "cell_type": "code",
   "execution_count": 18,
   "id": "e80f2784-1ed9-4d93-9883-4c34213d62ed",
   "metadata": {},
   "outputs": [
    {
     "data": {
      "text/html": [
       "<div>\n",
       "<style scoped>\n",
       "    .dataframe tbody tr th:only-of-type {\n",
       "        vertical-align: middle;\n",
       "    }\n",
       "\n",
       "    .dataframe tbody tr th {\n",
       "        vertical-align: top;\n",
       "    }\n",
       "\n",
       "    .dataframe thead th {\n",
       "        text-align: right;\n",
       "    }\n",
       "</style>\n",
       "<table border=\"1\" class=\"dataframe\">\n",
       "  <thead>\n",
       "    <tr style=\"text-align: right;\">\n",
       "      <th></th>\n",
       "      <th>NDCGK_10</th>\n",
       "      <th>NDCGK_20</th>\n",
       "      <th>NDCGK_50</th>\n",
       "      <th>RecallK_10</th>\n",
       "      <th>RecallK_20</th>\n",
       "      <th>RecallK_50</th>\n",
       "      <th>HitK_10</th>\n",
       "      <th>HitK_20</th>\n",
       "      <th>HitK_50</th>\n",
       "    </tr>\n",
       "  </thead>\n",
       "  <tbody>\n",
       "    <tr>\n",
       "      <th>ItemKNN(K=200,normalize_X=False,normalize_sim=False,pop_discount=None,similarity=cosine)</th>\n",
       "      <td>0.087391</td>\n",
       "      <td>0.110677</td>\n",
       "      <td>0.132117</td>\n",
       "      <td>0.171025</td>\n",
       "      <td>0.262963</td>\n",
       "      <td>0.370412</td>\n",
       "      <td>0.171025</td>\n",
       "      <td>0.262963</td>\n",
       "      <td>0.370412</td>\n",
       "    </tr>\n",
       "    <tr>\n",
       "      <th>EASE(alpha=0,density=None,l2=100)</th>\n",
       "      <td>0.092674</td>\n",
       "      <td>0.113802</td>\n",
       "      <td>0.136584</td>\n",
       "      <td>0.183019</td>\n",
       "      <td>0.266525</td>\n",
       "      <td>0.380061</td>\n",
       "      <td>0.183019</td>\n",
       "      <td>0.266525</td>\n",
       "      <td>0.380061</td>\n",
       "    </tr>\n",
       "  </tbody>\n",
       "</table>\n",
       "</div>"
      ],
      "text/plain": [
       "                                                    NDCGK_10  NDCGK_20  \\\n",
       "ItemKNN(K=200,normalize_X=False,normalize_sim=F...  0.087391  0.110677   \n",
       "EASE(alpha=0,density=None,l2=100)                   0.092674  0.113802   \n",
       "\n",
       "                                                    NDCGK_50  RecallK_10  \\\n",
       "ItemKNN(K=200,normalize_X=False,normalize_sim=F...  0.132117    0.171025   \n",
       "EASE(alpha=0,density=None,l2=100)                   0.136584    0.183019   \n",
       "\n",
       "                                                    RecallK_20  RecallK_50  \\\n",
       "ItemKNN(K=200,normalize_X=False,normalize_sim=F...    0.262963    0.370412   \n",
       "EASE(alpha=0,density=None,l2=100)                     0.266525    0.380061   \n",
       "\n",
       "                                                     HitK_10   HitK_20  \\\n",
       "ItemKNN(K=200,normalize_X=False,normalize_sim=F...  0.171025  0.262963   \n",
       "EASE(alpha=0,density=None,l2=100)                   0.183019  0.266525   \n",
       "\n",
       "                                                     HitK_50  \n",
       "ItemKNN(K=200,normalize_X=False,normalize_sim=F...  0.370412  \n",
       "EASE(alpha=0,density=None,l2=100)                   0.380061  "
      ]
     },
     "execution_count": 18,
     "metadata": {},
     "output_type": "execute_result"
    }
   ],
   "source": [
    "pipeline.get_metrics()"
   ]
  },
  {
   "cell_type": "code",
   "execution_count": null,
   "id": "06eb89bb-82dc-4982-8025-327b4e25fddb",
   "metadata": {},
   "outputs": [],
   "source": []
  }
 ],
 "metadata": {
  "kernelspec": {
   "display_name": "Python 3 (ipykernel)",
   "language": "python",
   "name": "python3"
  },
  "language_info": {
   "codemirror_mode": {
    "name": "ipython",
    "version": 3
   },
   "file_extension": ".py",
   "mimetype": "text/x-python",
   "name": "python",
   "nbconvert_exporter": "python",
   "pygments_lexer": "ipython3",
   "version": "3.11.9"
  }
 },
 "nbformat": 4,
 "nbformat_minor": 5
}
