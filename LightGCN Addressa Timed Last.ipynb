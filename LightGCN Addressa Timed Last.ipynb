{
 "cells": [
  {
   "cell_type": "markdown",
   "id": "2952e33b-244a-4672-bbf5-2bee78ea934c",
   "metadata": {},
   "source": [
    "# LightGCN with AddresaOneWeek Dataset and TimedLastItemPrediction Scenario"
   ]
  },
  {
   "cell_type": "markdown",
   "id": "29bbf79d-bce4-4925-8164-609ef1bdd4c6",
   "metadata": {},
   "source": [
    "In this notebook, the implementation of LightGCN in RecPack and the experimental part to generate the results of the algorithm will be presented. \n",
    "The notebook contains:\n",
    "1. The implementation of LightGCN in RecPack.\n",
    "2. The 10% of AddresaOneWeek Dataset from RecPack and the TimedLastItemPrediction Scenario has been used to split the data.\n",
    "3. The TimedLastItemPrediction Scenario to split the data.\n",
    "4. The RecPack Pipeline Builder to run the experiments, including the splitted dataset, the algorithms and metrics to run. Hyperparameter has been performed in the Pipeline.\n",
    "\n",
    "Please make sure you have installed all the latest libraries in your Python environment, in order to have a successful run of the code."
   ]
  },
  {
   "cell_type": "code",
   "execution_count": 1,
   "id": "1cde07fa-6d38-494d-b8e7-b8dcf83a0a08",
   "metadata": {},
   "outputs": [],
   "source": [
    "import torch\n",
    "from tqdm import tqdm"
   ]
  },
  {
   "cell_type": "code",
   "execution_count": 3,
   "id": "98de5207-1f90-441c-a7d0-4823af3ba234",
   "metadata": {},
   "outputs": [],
   "source": [
    "from torch_sparse import SparseTensor, matmul"
   ]
  },
  {
   "cell_type": "markdown",
   "id": "a13744dc-8498-4d59-8dca-06f9f4618bf8",
   "metadata": {},
   "source": [
    "## LightGCN implementation in RecPack"
   ]
  },
  {
   "cell_type": "code",
   "execution_count": 4,
   "id": "5c7dc8a2-fbb5-4309-bb75-7274fd8fd280",
   "metadata": {},
   "outputs": [],
   "source": [
    "import torch\n",
    "import torch.nn as nn\n",
    "from torch_geometric.nn import MessagePassing\n",
    "from torch_geometric.utils import add_self_loops, degree\n",
    "import time\n",
    "from typing import List, Tuple, Optional\n",
    "from tqdm import tqdm\n",
    "from recpack.algorithms.base import TorchMLAlgorithm\n",
    "from recpack.matrix.interaction_matrix import InteractionMatrix\n",
    "from recpack.matrix import to_csr_matrix\n",
    "from recpack.algorithms.loss_functions import bpr_loss\n",
    "from recpack.algorithms.samplers import PositiveNegativeSampler\n",
    "from scipy.sparse import csr_matrix, lil_matrix\n",
    "import torch.optim as optim\n",
    "import logging\n",
    "\n",
    "# logger = logging.getLogger(__name__)\n",
    "\n",
    "# LightGCN model definition using MessagePassing from PyTorch Geometric\n",
    "class LightGCN(MessagePassing):\n",
    "    def __init__(self, num_users, num_items, embedding_dim=64, K=3, add_self_loops=False):\n",
    "        \"\"\"\n",
    "        Initialize the LightGCN model with user and item embeddings.\n",
    "\n",
    "        Args:\n",
    "            num_users (int): Number of users.\n",
    "            num_items (int): Number of items.\n",
    "            embedding_dim (int): Dimension of the embedding vectors.\n",
    "            K (int): Number of propagation layers.\n",
    "            add_self_loops (bool): Whether to add self-loops to the adjacency matrix.\n",
    "        \"\"\"\n",
    "        super(LightGCN, self).__init__(aggr='add')\n",
    "        self.num_users, self.num_items = num_users, num_items\n",
    "        self.embedding_dim, self.K = embedding_dim, K\n",
    "        self.add_self_loops = add_self_loops\n",
    "\n",
    "        # Initialize user and item embeddings\n",
    "        self.users_emb = nn.Embedding(num_embeddings=self.num_users, embedding_dim=self.embedding_dim)\n",
    "        self.items_emb = nn.Embedding(num_embeddings=self.num_items, embedding_dim=self.embedding_dim)\n",
    "\n",
    "        # Initialize embeddings with normal distribution\n",
    "        nn.init.normal_(self.users_emb.weight, std=0.1)\n",
    "        nn.init.normal_(self.items_emb.weight, std=0.1)\n",
    "\n",
    "    def forward(self, edge_index: SparseTensor):\n",
    "        \"\"\"\n",
    "        Forward pass for the LightGCN model.\n",
    "\n",
    "        Args:\n",
    "            edge_index (SparseTensor): Sparse tensor representing the adjacency matrix.\n",
    "\n",
    "        Returns:\n",
    "            Tuple: Final user and item embeddings after propagation, and the initial embeddings.\n",
    "        \"\"\"\n",
    "        if self.add_self_loops:\n",
    "            edge_index, _ = add_self_loops(edge_index, num_nodes=self.num_users + self.num_items)\n",
    "        \n",
    "        # Normalize the adjacency matrix\n",
    "        edge_index_norm = self.normalize_adj(edge_index)\n",
    "        \n",
    "        # Concatenate user and item embeddings\n",
    "        emb_0 = torch.cat([self.users_emb.weight, self.items_emb.weight])\n",
    "        embs = [emb_0]\n",
    "        emb_k = emb_0\n",
    "\n",
    "        # Perform K propagation steps\n",
    "        for i in range(self.K):\n",
    "            # Preventing CUDA/Library version error\n",
    "            try:\n",
    "                emb_k = self.propagate(edge_index_norm, x=emb_k)\n",
    "            except RuntimeError as e:\n",
    "                break\n",
    "            embs.append(emb_k)\n",
    "\n",
    "        # Stack and average embeddings from each propagation step\n",
    "        embs = torch.stack(embs, dim=1)\n",
    "        emb_final = torch.mean(embs, dim=1)\n",
    "\n",
    "        # Split the final embeddings back into user and item embeddings\n",
    "        users_emb_final, items_emb_final = torch.split(emb_final, [self.num_users, self.num_items])\n",
    "\n",
    "        return users_emb_final, self.users_emb.weight, items_emb_final, self.items_emb.weight\n",
    "\n",
    "    def message(self, x_j: torch.Tensor) -> torch.Tensor:\n",
    "        \"\"\"\n",
    "        Message function that aggregates messages from neighboring nodes.\n",
    "\n",
    "        Args:\n",
    "            x_j (torch.Tensor): Features of the neighboring nodes.\n",
    "\n",
    "        Returns:\n",
    "            torch.Tensor: Aggregated messages.\n",
    "        \"\"\"\n",
    "        return x_j\n",
    "\n",
    "    def message_and_aggregate(self, adj_t: SparseTensor, x: torch.Tensor) -> torch.Tensor:\n",
    "        \"\"\"\n",
    "        Message and aggregate function using matrix multiplication.\n",
    "\n",
    "        Args:\n",
    "            adj_t (SparseTensor): Transposed adjacency matrix.\n",
    "            x (torch.Tensor): Node features.\n",
    "\n",
    "        Returns:\n",
    "            torch.Tensor: Result of multiplying adjacency matrix with node features.\n",
    "        \"\"\"\n",
    "        return matmul(adj_t, x)\n",
    "\n",
    "    def normalize_adj(self, edge_index: SparseTensor) -> SparseTensor:\n",
    "        \"\"\"\n",
    "        Normalize the adjacency matrix.\n",
    "\n",
    "        Args:\n",
    "            edge_index (SparseTensor): Sparse tensor representing the adjacency matrix.\n",
    "\n",
    "        Returns:\n",
    "            SparseTensor: Normalized adjacency matrix.\n",
    "        \"\"\"\n",
    "        row, col, value = edge_index.coo()\n",
    "        row = row.long()  # Ensure indices are long type\n",
    "        col = col.long()  # Ensure indices are long type\n",
    "        deg = degree(row, num_nodes=edge_index.size(0), dtype=value.dtype)\n",
    "        deg_inv_sqrt = deg.pow(-0.5)\n",
    "        deg_inv_sqrt[deg_inv_sqrt == float('inf')] = 0\n",
    "        value = deg_inv_sqrt[row] * value * deg_inv_sqrt[col]\n",
    "        return SparseTensor(row=row, col=col, value=value, sparse_sizes=edge_index.sparse_sizes())\n"
   ]
  },
  {
   "cell_type": "code",
   "execution_count": 5,
   "id": "383f2777-5652-4d39-a111-9f8f71865f24",
   "metadata": {},
   "outputs": [],
   "source": [
    "from recpack.algorithms.base import TorchMLAlgorithm\n",
    "from recpack.matrix import Matrix\n",
    "from recpack.matrix.interaction_matrix import InteractionMatrix\n",
    "from recpack.algorithms.loss_functions import bpr_loss, bpr_max_loss\n",
    "from recpack.algorithms.samplers import PositiveNegativeSampler\n",
    "from recpack.algorithms.stopping_criterion import (\n",
    "    EarlyStoppingException,\n",
    "    StoppingCriterion,\n",
    ")\n",
    "from typing import List, Tuple, Optional\n",
    "import numpy as np\n",
    "from scipy.sparse import csr_matrix, lil_matrix, coo_matrix\n",
    "import torch\n",
    "import torch.optim as optim\n",
    "import tempfile\n",
    "import time\n",
    "import logging\n",
    "\n",
    "logger = logging.getLogger(__name__)\n",
    "\n",
    "# Implementation of the LightGCN algorithm using TorchMLAlgorithm as a base class\n",
    "class LightGCNAlgorithm(TorchMLAlgorithm):\n",
    "    def __init__(\n",
    "        self,\n",
    "        batch_size: int = 256,\n",
    "        max_epochs: int = 100,\n",
    "        learning_rate: float = 0.001,\n",
    "        embedding_dim: int = 64,\n",
    "        n_layers: int = 3,\n",
    "        reg_weight: float = 1e-5,\n",
    "        stopping_criterion: str = \"bpr\",\n",
    "        stop_early: bool = True,\n",
    "        max_iter_no_change: int = 5,\n",
    "        min_improvement: float = 0.01,\n",
    "        seed: Optional[int] = None,\n",
    "        save_best_to_file: bool = False,\n",
    "        keep_last: bool = False,\n",
    "        predict_topK: Optional[int] = None,\n",
    "        validation_sample_size: Optional[int] = None,\n",
    "    ):\n",
    "        \"\"\"\n",
    "        Initialize the LightGCNAlgorithm with various hyperparameters.\n",
    "\n",
    "        Args:\n",
    "            batch_size (int): Number of samples per batch.\n",
    "            max_epochs (int): Maximum number of training epochs.\n",
    "            learning_rate (float): Learning rate for the optimizer.\n",
    "            embedding_dim (int): Dimension of the embedding vectors.\n",
    "            n_layers (int): Number of LightGCN layers.\n",
    "            reg_weight (float): Regularization weight.\n",
    "            stopping_criterion (str): Criterion to stop training early.\n",
    "            stop_early (bool): Whether to enable early stopping.\n",
    "            max_iter_no_change (int): Maximum iterations with no improvement for early stopping.\n",
    "            min_improvement (float): Minimum improvement required for early stopping.\n",
    "            seed (Optional[int]): Random seed for reproducibility.\n",
    "            save_best_to_file (bool): Whether to save the best model to a file.\n",
    "            keep_last (bool): Whether to keep the last model.\n",
    "            predict_topK (Optional[int]): Number of top-K predictions to consider.\n",
    "            validation_sample_size (Optional[int]): Size of the validation sample.\n",
    "        \"\"\"\n",
    "        self.embedding_dim = embedding_dim\n",
    "        self.n_layers = n_layers\n",
    "        self.reg_weight = reg_weight\n",
    "        super().__init__(\n",
    "            batch_size=batch_size,\n",
    "            max_epochs=max_epochs,\n",
    "            learning_rate=learning_rate,\n",
    "            stopping_criterion=stopping_criterion,\n",
    "            stop_early=stop_early,\n",
    "            max_iter_no_change=max_iter_no_change,\n",
    "            min_improvement=min_improvement,\n",
    "            seed=seed,\n",
    "            save_best_to_file=save_best_to_file,\n",
    "            keep_last=keep_last,\n",
    "            predict_topK=predict_topK,\n",
    "            validation_sample_size=validation_sample_size,\n",
    "        )\n",
    "        self.device = torch.device('cuda' if torch.cuda.is_available() else 'cpu')\n",
    "\n",
    "    def _init_model(self, train: InteractionMatrix) -> None:\n",
    "        \"\"\"\n",
    "        Initialize the LightGCN model and optimizer.\n",
    "\n",
    "        Args:\n",
    "            train (InteractionMatrix): The training interaction matrix.\n",
    "        \"\"\"\n",
    "        num_users, num_items = train.shape\n",
    "        self.model_ = LightGCN(num_users, num_items, self.embedding_dim, self.n_layers).to(self.device)\n",
    "        self.optimizer = optim.Adam(self.model_.parameters(), lr=self.learning_rate)\n",
    "\n",
    "    def _create_sparse_graph(self, interaction_matrix: csr_matrix, num_users: int, num_items: int) -> SparseTensor:\n",
    "        \"\"\"\n",
    "        Create a sparse graph from the interaction matrix.\n",
    "\n",
    "        Args:\n",
    "            interaction_matrix (csr_matrix): The interaction matrix in CSR format.\n",
    "            num_users (int): Number of users.\n",
    "            num_items (int): Number of items.\n",
    "\n",
    "        Returns:\n",
    "            SparseTensor: A sparse tensor representing the graph.\n",
    "        \"\"\"\n",
    "        coo = interaction_matrix.tocoo()\n",
    "        row = torch.tensor(coo.row, dtype=torch.long)\n",
    "        col = torch.tensor(coo.col, dtype=torch.long)\n",
    "        value = torch.tensor(coo.data, dtype=torch.float32)\n",
    "        print(f\"Graph - Rows: {row.shape}, Cols: {col.shape}, Values: {value.shape}\")  # Debugging information\n",
    "        return SparseTensor(row=row, col=col, value=value, sparse_sizes=(num_users + num_items, num_users + num_items)).to(self.device)\n",
    "\n",
    "    def _train_epoch(self, train: csr_matrix) -> List[float]:\n",
    "        \"\"\"\n",
    "        Train the model for one epoch.\n",
    "\n",
    "        Args:\n",
    "            train (csr_matrix): The training interaction matrix.\n",
    "\n",
    "        Returns:\n",
    "            List[float]: A list of losses for each batch.\n",
    "        \"\"\"\n",
    "        self.model_.train()\n",
    "        graph = self._create_sparse_graph(train, train.shape[0], train.shape[1]).to(self.device)\n",
    "        total_loss = 0\n",
    "        losses = []\n",
    "\n",
    "        sampler = PositiveNegativeSampler(num_negatives=1, batch_size=self.batch_size)\n",
    "\n",
    "        for user_indices, pos_item_indices, neg_item_indices in sampler.sample(train):\n",
    "            user_indices = torch.tensor(user_indices).to(self.device)\n",
    "            pos_item_indices = torch.tensor(pos_item_indices).to(self.device)\n",
    "            neg_item_indices = torch.tensor(neg_item_indices).to(self.device).squeeze()\n",
    "\n",
    "            self.optimizer.zero_grad()\n",
    "            users_emb_final, _, items_emb_final, _ = self.model_(graph)  # Call model only once\n",
    "            pos_scores = users_emb_final[user_indices] @ items_emb_final[pos_item_indices].t()\n",
    "            neg_scores = users_emb_final[user_indices] @ items_emb_final[neg_item_indices].t()\n",
    "\n",
    "            loss = bpr_loss(pos_scores, neg_scores)\n",
    "\n",
    "            if torch.isnan(loss).any() or torch.isinf(loss).any():\n",
    "                continue\n",
    "\n",
    "            loss.backward()\n",
    "            torch.nn.utils.clip_grad_norm_(self.model_.parameters(), max_norm=1.0)  # Gradient clipping\n",
    "            self.optimizer.step()\n",
    "\n",
    "            total_loss += loss.item()\n",
    "            losses.append(loss.item())\n",
    "\n",
    "        if len(losses) == 0:\n",
    "            return [float('nan')]\n",
    "\n",
    "        return losses\n",
    "\n",
    "    def _batch_predict(self, X: csr_matrix, users: List[int]) -> csr_matrix:\n",
    "        \"\"\"\n",
    "        Make batch predictions for a list of users.\n",
    "\n",
    "        Args:\n",
    "            X (csr_matrix): The interaction matrix.\n",
    "            users (List[int]): List of user indices to make predictions for.\n",
    "\n",
    "        Returns:\n",
    "            csr_matrix: A sparse matrix with the prediction scores.\n",
    "        \"\"\"\n",
    "        self.model_.eval()\n",
    "        graph = self._create_sparse_graph(X, X.shape[0], X.shape[1]).to(self.device)\n",
    "        user_indices = torch.tensor(users).to(self.device)\n",
    "        item_indices = torch.arange(X.shape[1]).to(self.device)\n",
    "        \n",
    "        with torch.no_grad():\n",
    "            user_emb_final, _, item_emb_final, _ = self.model_(graph)\n",
    "            scores = user_emb_final[user_indices] @ item_emb_final.t()\n",
    "            scores = scores.cpu().numpy()\n",
    "        \n",
    "        result = lil_matrix((X.shape[0], X.shape[1]))\n",
    "        for i, user in enumerate(users):\n",
    "            result[user] = scores[i]\n",
    "        \n",
    "        return result.tocsr()\n",
    "\n",
    "    def fit(self, X: csr_matrix, validation_data: tuple):\n",
    "        \"\"\"\n",
    "        Fit the model to the training data.\n",
    "\n",
    "        Args:\n",
    "            X (csr_matrix): The training interaction matrix.\n",
    "            validation_data (tuple): Validation data used for early stopping.\n",
    "        \"\"\"\n",
    "        super().fit(X, validation_data)"
   ]
  },
  {
   "cell_type": "code",
   "execution_count": 6,
   "id": "e87fd90c-f8ae-4fcc-a455-90fb8f2335c2",
   "metadata": {},
   "outputs": [],
   "source": [
    "from recpack.datasets import Netflix, DummyDataset\n",
    "from recpack.pipelines import PipelineBuilder\n",
    "from recpack.scenarios import StrongGeneralization, TimedLastItemPrediction, WeakGeneralization\n",
    "from recpack.pipelines import ALGORITHM_REGISTRY\n",
    "import pandas as pd"
   ]
  },
  {
   "cell_type": "code",
   "execution_count": 7,
   "id": "03a047ff-a58e-4ffb-bb09-247622834b08",
   "metadata": {},
   "outputs": [],
   "source": [
    "ALGORITHM_REGISTRY.register(\"LightGCNAlgorithm1\", LightGCNAlgorithm)"
   ]
  },
  {
   "cell_type": "markdown",
   "id": "a8f0d656-a682-4232-b408-98f1e69415ad",
   "metadata": {},
   "source": [
    "## RecPack Dataset Importing"
   ]
  },
  {
   "cell_type": "code",
   "execution_count": 8,
   "id": "288305e2-e570-4286-8468-c902e9d7ca25",
   "metadata": {},
   "outputs": [],
   "source": [
    "from recpack.datasets import AdressaOneWeek\n",
    "dataset = AdressaOneWeek()"
   ]
  },
  {
   "cell_type": "code",
   "execution_count": 9,
   "id": "9c73499f-1c14-4241-a0bd-e3412b4efd34",
   "metadata": {},
   "outputs": [],
   "source": [
    "dataset.fetch_dataset()"
   ]
  },
  {
   "cell_type": "code",
   "execution_count": 10,
   "id": "25bb2d15-0f4f-4142-8d5d-e06a6ea3c024",
   "metadata": {},
   "outputs": [
    {
     "data": {
      "text/plain": [
       "<recpack.datasets.adressa.AdressaOneWeek at 0x7fc71f9e1610>"
      ]
     },
     "execution_count": 10,
     "metadata": {},
     "output_type": "execute_result"
    }
   ],
   "source": [
    "dataset"
   ]
  },
  {
   "cell_type": "code",
   "execution_count": 11,
   "id": "a290f199-0a3d-4c2b-bc30-c82b5254ab34",
   "metadata": {},
   "outputs": [],
   "source": [
    "df = dataset._load_dataframe()\n",
    "#df = dataset.load()"
   ]
  },
  {
   "cell_type": "markdown",
   "id": "29c62813-2e27-4462-acad-ee013b3fd860",
   "metadata": {},
   "source": [
    "## Datasets with Timestamps sampling"
   ]
  },
  {
   "cell_type": "code",
   "execution_count": 12,
   "id": "66ac1379-2266-4bec-b6d3-9cf22c1aaedf",
   "metadata": {},
   "outputs": [],
   "source": [
    "timestamp_counts = df['click_timestamp'].value_counts().sort_index(ascending=False)\n",
    "cumulative_counts = timestamp_counts.cumsum()\n",
    "total_counts = cumulative_counts.max()\n",
    "threshold_count = total_counts * 0.1\n",
    "threshold_timestamp = cumulative_counts[cumulative_counts >= threshold_count].index[0]"
   ]
  },
  {
   "cell_type": "code",
   "execution_count": 13,
   "id": "a8b54ee9-8024-4d18-89c8-7858f45d7906",
   "metadata": {},
   "outputs": [],
   "source": [
    "filtered_df = df[df['time'] >= threshold_timestamp]"
   ]
  },
  {
   "cell_type": "code",
   "execution_count": 14,
   "id": "877cfa8a-c9d3-4436-8a74-5009b026f266",
   "metadata": {},
   "outputs": [
    {
     "data": {
      "text/html": [
       "<div>\n",
       "<style scoped>\n",
       "    .dataframe tbody tr th:only-of-type {\n",
       "        vertical-align: middle;\n",
       "    }\n",
       "\n",
       "    .dataframe tbody tr th {\n",
       "        vertical-align: top;\n",
       "    }\n",
       "\n",
       "    .dataframe thead th {\n",
       "        text-align: right;\n",
       "    }\n",
       "</style>\n",
       "<table border=\"1\" class=\"dataframe\">\n",
       "  <thead>\n",
       "    <tr style=\"text-align: right;\">\n",
       "      <th></th>\n",
       "      <th>userId</th>\n",
       "      <th>id</th>\n",
       "      <th>time</th>\n",
       "    </tr>\n",
       "  </thead>\n",
       "  <tbody>\n",
       "    <tr>\n",
       "      <th>0</th>\n",
       "      <td>cx:2fs9x8i7jvcjyckoxqfa6l4lw:3rr1gvpcbzx8w</td>\n",
       "      <td>9f3999bd1a1a8d67bcb073ad54840f15cb30f014</td>\n",
       "      <td>1483225202</td>\n",
       "    </tr>\n",
       "    <tr>\n",
       "      <th>1</th>\n",
       "      <td>cx:2u0wp23pfgjcc12gorbv6mp6tp:1l4jele4s191</td>\n",
       "      <td>f21680b77830223807e4847b3307e6ffa1e175ed</td>\n",
       "      <td>1483225203</td>\n",
       "    </tr>\n",
       "    <tr>\n",
       "      <th>2</th>\n",
       "      <td>cx:kfubh0ub7g8z3g5mgndoaljqd:1w4rvohza6x7d</td>\n",
       "      <td>2607fc7d7b4c0ede839a5ff6d499fa428237443e</td>\n",
       "      <td>1483225203</td>\n",
       "    </tr>\n",
       "    <tr>\n",
       "      <th>3</th>\n",
       "      <td>cx:hua808o791zl6cx9:3s9kdckn8su34</td>\n",
       "      <td>68d1503c73ad169dcfff48214fd0274c4d612e63</td>\n",
       "      <td>1483225204</td>\n",
       "    </tr>\n",
       "    <tr>\n",
       "      <th>4</th>\n",
       "      <td>cx:1s8dobcz77bgl3jozo9wdodu0t:2h45sh9wqlrpp</td>\n",
       "      <td>68d1503c73ad169dcfff48214fd0274c4d612e63</td>\n",
       "      <td>1483225207</td>\n",
       "    </tr>\n",
       "    <tr>\n",
       "      <th>...</th>\n",
       "      <td>...</td>\n",
       "      <td>...</td>\n",
       "      <td>...</td>\n",
       "    </tr>\n",
       "    <tr>\n",
       "      <th>3101986</th>\n",
       "      <td>cx:9k87jvj35ts82aloy49wfxosg:952wl4r7sedv</td>\n",
       "      <td>d26dae18a47ee499c4aaca4a9b6017f1b5b1da13</td>\n",
       "      <td>1483830000</td>\n",
       "    </tr>\n",
       "    <tr>\n",
       "      <th>3101987</th>\n",
       "      <td>cx:ikird5ho7t08hlc6:2n6k9bd2ntk6v</td>\n",
       "      <td>8a3d76e1d7452ce38ae70fe900a9952be4305c63</td>\n",
       "      <td>1483830000</td>\n",
       "    </tr>\n",
       "    <tr>\n",
       "      <th>3101988</th>\n",
       "      <td>cx:2ry3bd6yl2fbb3mq9zs5cl4zvc:9oicxykjoyvo</td>\n",
       "      <td>faa8cc5200499acbf0f23f6b8e8f78b2b55d2c60</td>\n",
       "      <td>1483830001</td>\n",
       "    </tr>\n",
       "    <tr>\n",
       "      <th>3101989</th>\n",
       "      <td>cx:3c83unb96kkua3kw8jnflgge0n:1au0d7qhme3j5</td>\n",
       "      <td>4d44e61d966ed5a2c8b70a95eb9948aa2a10696f</td>\n",
       "      <td>1483830001</td>\n",
       "    </tr>\n",
       "    <tr>\n",
       "      <th>3101990</th>\n",
       "      <td>cx:iolu0een5wf8whla:1gtj0r7yyqtm8</td>\n",
       "      <td>64ae4a1db60e066701aa444bc0af2f8f3dbcda3f</td>\n",
       "      <td>1483830001</td>\n",
       "    </tr>\n",
       "  </tbody>\n",
       "</table>\n",
       "<p>3101991 rows × 3 columns</p>\n",
       "</div>"
      ],
      "text/plain": [
       "                                              userId  \\\n",
       "0         cx:2fs9x8i7jvcjyckoxqfa6l4lw:3rr1gvpcbzx8w   \n",
       "1         cx:2u0wp23pfgjcc12gorbv6mp6tp:1l4jele4s191   \n",
       "2         cx:kfubh0ub7g8z3g5mgndoaljqd:1w4rvohza6x7d   \n",
       "3                  cx:hua808o791zl6cx9:3s9kdckn8su34   \n",
       "4        cx:1s8dobcz77bgl3jozo9wdodu0t:2h45sh9wqlrpp   \n",
       "...                                              ...   \n",
       "3101986    cx:9k87jvj35ts82aloy49wfxosg:952wl4r7sedv   \n",
       "3101987            cx:ikird5ho7t08hlc6:2n6k9bd2ntk6v   \n",
       "3101988   cx:2ry3bd6yl2fbb3mq9zs5cl4zvc:9oicxykjoyvo   \n",
       "3101989  cx:3c83unb96kkua3kw8jnflgge0n:1au0d7qhme3j5   \n",
       "3101990            cx:iolu0een5wf8whla:1gtj0r7yyqtm8   \n",
       "\n",
       "                                               id        time  \n",
       "0        9f3999bd1a1a8d67bcb073ad54840f15cb30f014  1483225202  \n",
       "1        f21680b77830223807e4847b3307e6ffa1e175ed  1483225203  \n",
       "2        2607fc7d7b4c0ede839a5ff6d499fa428237443e  1483225203  \n",
       "3        68d1503c73ad169dcfff48214fd0274c4d612e63  1483225204  \n",
       "4        68d1503c73ad169dcfff48214fd0274c4d612e63  1483225207  \n",
       "...                                           ...         ...  \n",
       "3101986  d26dae18a47ee499c4aaca4a9b6017f1b5b1da13  1483830000  \n",
       "3101987  8a3d76e1d7452ce38ae70fe900a9952be4305c63  1483830000  \n",
       "3101988  faa8cc5200499acbf0f23f6b8e8f78b2b55d2c60  1483830001  \n",
       "3101989  4d44e61d966ed5a2c8b70a95eb9948aa2a10696f  1483830001  \n",
       "3101990  64ae4a1db60e066701aa444bc0af2f8f3dbcda3f  1483830001  \n",
       "\n",
       "[3101991 rows x 3 columns]"
      ]
     },
     "execution_count": 14,
     "metadata": {},
     "output_type": "execute_result"
    }
   ],
   "source": [
    "df"
   ]
  },
  {
   "cell_type": "code",
   "execution_count": 15,
   "id": "75315c82-bb45-4090-8d92-87e16d42f204",
   "metadata": {},
   "outputs": [
    {
     "data": {
      "text/html": [
       "<div>\n",
       "<style scoped>\n",
       "    .dataframe tbody tr th:only-of-type {\n",
       "        vertical-align: middle;\n",
       "    }\n",
       "\n",
       "    .dataframe tbody tr th {\n",
       "        vertical-align: top;\n",
       "    }\n",
       "\n",
       "    .dataframe thead th {\n",
       "        text-align: right;\n",
       "    }\n",
       "</style>\n",
       "<table border=\"1\" class=\"dataframe\">\n",
       "  <thead>\n",
       "    <tr style=\"text-align: right;\">\n",
       "      <th></th>\n",
       "      <th>userId</th>\n",
       "      <th>id</th>\n",
       "      <th>time</th>\n",
       "    </tr>\n",
       "  </thead>\n",
       "  <tbody>\n",
       "    <tr>\n",
       "      <th>2791789</th>\n",
       "      <td>cx:2ren7oax3ikx1126uc6379p1m1:1ilgu73jr9354</td>\n",
       "      <td>9da08a8be1d6cf85b0c7cd3f40b774cba66960b8</td>\n",
       "      <td>1483745358</td>\n",
       "    </tr>\n",
       "    <tr>\n",
       "      <th>2791790</th>\n",
       "      <td>cx:13573746954421111340278:21n4bwo3o22w3</td>\n",
       "      <td>f28b18132dfe141356c778b1909f13fcded3c613</td>\n",
       "      <td>1483745358</td>\n",
       "    </tr>\n",
       "    <tr>\n",
       "      <th>2791791</th>\n",
       "      <td>cx:ehi4yx5vak421bv2uzvm0hz9m:2tfkglwogbje9</td>\n",
       "      <td>bb8ff8365233ea91dfcdb36fdd84f87fcc33e1a8</td>\n",
       "      <td>1483745358</td>\n",
       "    </tr>\n",
       "    <tr>\n",
       "      <th>2791792</th>\n",
       "      <td>cx:imiu917sfw8scsba:2b3kfu5odsixi</td>\n",
       "      <td>9de2fd10200602037cc938b038a0f7d3d5f8fb76</td>\n",
       "      <td>1483745359</td>\n",
       "    </tr>\n",
       "    <tr>\n",
       "      <th>2791793</th>\n",
       "      <td>cx:hu9xqbxb2q1op1a2:2bvkrtdex7gri</td>\n",
       "      <td>17a7ea777cb261130668d4314b1591f3767cd090</td>\n",
       "      <td>1483745359</td>\n",
       "    </tr>\n",
       "    <tr>\n",
       "      <th>...</th>\n",
       "      <td>...</td>\n",
       "      <td>...</td>\n",
       "      <td>...</td>\n",
       "    </tr>\n",
       "    <tr>\n",
       "      <th>3101986</th>\n",
       "      <td>cx:9k87jvj35ts82aloy49wfxosg:952wl4r7sedv</td>\n",
       "      <td>d26dae18a47ee499c4aaca4a9b6017f1b5b1da13</td>\n",
       "      <td>1483830000</td>\n",
       "    </tr>\n",
       "    <tr>\n",
       "      <th>3101987</th>\n",
       "      <td>cx:ikird5ho7t08hlc6:2n6k9bd2ntk6v</td>\n",
       "      <td>8a3d76e1d7452ce38ae70fe900a9952be4305c63</td>\n",
       "      <td>1483830000</td>\n",
       "    </tr>\n",
       "    <tr>\n",
       "      <th>3101988</th>\n",
       "      <td>cx:2ry3bd6yl2fbb3mq9zs5cl4zvc:9oicxykjoyvo</td>\n",
       "      <td>faa8cc5200499acbf0f23f6b8e8f78b2b55d2c60</td>\n",
       "      <td>1483830001</td>\n",
       "    </tr>\n",
       "    <tr>\n",
       "      <th>3101989</th>\n",
       "      <td>cx:3c83unb96kkua3kw8jnflgge0n:1au0d7qhme3j5</td>\n",
       "      <td>4d44e61d966ed5a2c8b70a95eb9948aa2a10696f</td>\n",
       "      <td>1483830001</td>\n",
       "    </tr>\n",
       "    <tr>\n",
       "      <th>3101990</th>\n",
       "      <td>cx:iolu0een5wf8whla:1gtj0r7yyqtm8</td>\n",
       "      <td>64ae4a1db60e066701aa444bc0af2f8f3dbcda3f</td>\n",
       "      <td>1483830001</td>\n",
       "    </tr>\n",
       "  </tbody>\n",
       "</table>\n",
       "<p>310202 rows × 3 columns</p>\n",
       "</div>"
      ],
      "text/plain": [
       "                                              userId  \\\n",
       "2791789  cx:2ren7oax3ikx1126uc6379p1m1:1ilgu73jr9354   \n",
       "2791790     cx:13573746954421111340278:21n4bwo3o22w3   \n",
       "2791791   cx:ehi4yx5vak421bv2uzvm0hz9m:2tfkglwogbje9   \n",
       "2791792            cx:imiu917sfw8scsba:2b3kfu5odsixi   \n",
       "2791793            cx:hu9xqbxb2q1op1a2:2bvkrtdex7gri   \n",
       "...                                              ...   \n",
       "3101986    cx:9k87jvj35ts82aloy49wfxosg:952wl4r7sedv   \n",
       "3101987            cx:ikird5ho7t08hlc6:2n6k9bd2ntk6v   \n",
       "3101988   cx:2ry3bd6yl2fbb3mq9zs5cl4zvc:9oicxykjoyvo   \n",
       "3101989  cx:3c83unb96kkua3kw8jnflgge0n:1au0d7qhme3j5   \n",
       "3101990            cx:iolu0een5wf8whla:1gtj0r7yyqtm8   \n",
       "\n",
       "                                               id        time  \n",
       "2791789  9da08a8be1d6cf85b0c7cd3f40b774cba66960b8  1483745358  \n",
       "2791790  f28b18132dfe141356c778b1909f13fcded3c613  1483745358  \n",
       "2791791  bb8ff8365233ea91dfcdb36fdd84f87fcc33e1a8  1483745358  \n",
       "2791792  9de2fd10200602037cc938b038a0f7d3d5f8fb76  1483745359  \n",
       "2791793  17a7ea777cb261130668d4314b1591f3767cd090  1483745359  \n",
       "...                                           ...         ...  \n",
       "3101986  d26dae18a47ee499c4aaca4a9b6017f1b5b1da13  1483830000  \n",
       "3101987  8a3d76e1d7452ce38ae70fe900a9952be4305c63  1483830000  \n",
       "3101988  faa8cc5200499acbf0f23f6b8e8f78b2b55d2c60  1483830001  \n",
       "3101989  4d44e61d966ed5a2c8b70a95eb9948aa2a10696f  1483830001  \n",
       "3101990  64ae4a1db60e066701aa444bc0af2f8f3dbcda3f  1483830001  \n",
       "\n",
       "[310202 rows x 3 columns]"
      ]
     },
     "execution_count": 15,
     "metadata": {},
     "output_type": "execute_result"
    }
   ],
   "source": [
    "filtered_df"
   ]
  },
  {
   "cell_type": "markdown",
   "id": "c99fcd35-cdd4-4149-b552-b632e2e8c63b",
   "metadata": {},
   "source": [
    "## Dataset Preprocessing to Interaction Matrix"
   ]
  },
  {
   "cell_type": "code",
   "execution_count": 16,
   "id": "28b3aa70-98ce-4bd8-9888-904495d7f8e5",
   "metadata": {},
   "outputs": [
    {
     "data": {
      "application/vnd.jupyter.widget-view+json": {
       "model_id": "ada6acd8aefa4aa7a62eef21884727be",
       "version_major": 2,
       "version_minor": 0
      },
      "text/plain": [
       "  0%|          | 0/310202 [00:00<?, ?it/s]"
      ]
     },
     "metadata": {},
     "output_type": "display_data"
    },
    {
     "data": {
      "application/vnd.jupyter.widget-view+json": {
       "model_id": "d414268030f648a3a86710913f536e39",
       "version_major": 2,
       "version_minor": 0
      },
      "text/plain": [
       "  0%|          | 0/310202 [00:00<?, ?it/s]"
      ]
     },
     "metadata": {},
     "output_type": "display_data"
    }
   ],
   "source": [
    "from recpack.matrix import InteractionMatrix\n",
    "from recpack.preprocessing.preprocessors import DataFramePreprocessor\n",
    "\n",
    "item_ix = 'id'\n",
    "user_ix = 'userId'\n",
    "timestamp_ix = 'time'\n",
    "\n",
    "preprocessor = DataFramePreprocessor(item_ix=item_ix, user_ix=user_ix, timestamp_ix=timestamp_ix)\n",
    "\n",
    "interaction_matrix = preprocessor.process(filtered_df)"
   ]
  },
  {
   "cell_type": "markdown",
   "id": "3cb3d4e1-0d01-4a4a-ae33-64781948af66",
   "metadata": {},
   "source": [
    "## TimedLastItemPrediction Scenario Splitting of Data"
   ]
  },
  {
   "cell_type": "code",
   "execution_count": 17,
   "id": "73d22b62-213c-4ac4-9346-70414e7c39db",
   "metadata": {},
   "outputs": [
    {
     "data": {
      "text/plain": [
       "(array([13117.,  3505.,  5827., 29091., 35745., 42245., 45727., 47582.,\n",
       "        38001., 49054.]),\n",
       " array([1.48374536e+09, 1.48375382e+09, 1.48376228e+09, 1.48377073e+09,\n",
       "        1.48377919e+09, 1.48378765e+09, 1.48379611e+09, 1.48380457e+09,\n",
       "        1.48381303e+09, 1.48382148e+09, 1.48382994e+09]),\n",
       " <BarContainer object of 10 artists>)"
      ]
     },
     "execution_count": 17,
     "metadata": {},
     "output_type": "execute_result"
    },
    {
     "data": {
      "image/png": "[encoded data removed]",
      "text/plain": [
       "<Figure size 640x480 with 1 Axes>"
      ]
     },
     "metadata": {},
     "output_type": "display_data"
    }
   ],
   "source": [
    "import matplotlib.pyplot as plt\n",
    "tt = interaction_matrix.timestamps.values[int(0.999 * len(interaction_matrix.timestamps.values))]\n",
    "plt.hist(interaction_matrix.timestamps_lte(tt).timestamps.values)"
   ]
  },
  {
   "cell_type": "code",
   "execution_count": 18,
   "id": "de37ad03-b7d4-4099-a4d8-d3c6636f9267",
   "metadata": {},
   "outputs": [
    {
     "name": "stdout",
     "output_type": "stream",
     "text": [
      "1483818916 1483808390\n"
     ]
    }
   ],
   "source": [
    "interaction_matrix.timestamps.values\n",
    "t_80 = interaction_matrix.timestamps.values[int(0.8 * len(interaction_matrix.timestamps.values))]\n",
    "t_validate_80 = interaction_matrix.timestamps.values[int(0.8 * 0.8 * len(interaction_matrix.timestamps.values))]\n",
    "print(t_80, t_validate_80)"
   ]
  },
  {
   "cell_type": "code",
   "execution_count": null,
   "id": "aa72bb09-e745-4c5f-b4b3-88785f8a96b1",
   "metadata": {},
   "outputs": [],
   "source": [
    "scenario = TimedLastItemPrediction(t = t_80, t_validation = t_validate_80, validation=True)\n",
    "scenario.split(interaction_matrix)"
   ]
  },
  {
   "cell_type": "markdown",
   "id": "e369e419-9b6c-4ca4-8f9e-446b1c5cb59b",
   "metadata": {},
   "source": [
    "## Experimental RecPack Pipeline"
   ]
  },
  {
   "cell_type": "code",
   "execution_count": 20,
   "id": "40f6a5b5-4f21-49ee-a96e-f7e375031134",
   "metadata": {
    "scrolled": true
   },
   "outputs": [
    {
     "name": "stderr",
     "output_type": "stream",
     "text": [
      "/opt/conda/lib/python3.11/site-packages/recpack/pipelines/pipeline_builder.py:145: UserWarning: Grid parameter for add_algorithm function will be deprecated in favour of optimisation_info.\n",
      "  warnings.warn(\n"
     ]
    },
    {
     "data": {
      "application/vnd.jupyter.widget-view+json": {
       "model_id": "2343deef3b794c3a8ca76e9407566b39",
       "version_major": 2,
       "version_minor": 0
      },
      "text/plain": [
       "  0%|          | 0/1 [00:00<?, ?it/s]"
      ]
     },
     "metadata": {},
     "output_type": "display_data"
    },
    {
     "name": "stderr",
     "output_type": "stream",
     "text": [
      "/tmp/ipykernel_26363/4206860820.py:81: UserWarning: To copy construct from a tensor, it is recommended to use sourceTensor.clone().detach() or sourceTensor.clone().detach().requires_grad_(True), rather than torch.tensor(sourceTensor).\n",
      "  user_indices = torch.tensor(user_indices).to(self.device)\n",
      "/tmp/ipykernel_26363/4206860820.py:82: UserWarning: To copy construct from a tensor, it is recommended to use sourceTensor.clone().detach() or sourceTensor.clone().detach().requires_grad_(True), rather than torch.tensor(sourceTensor).\n",
      "  pos_item_indices = torch.tensor(pos_item_indices).to(self.device)\n",
      "/tmp/ipykernel_26363/4206860820.py:83: UserWarning: To copy construct from a tensor, it is recommended to use sourceTensor.clone().detach() or sourceTensor.clone().detach().requires_grad_(True), rather than torch.tensor(sourceTensor).\n",
      "  neg_item_indices = torch.tensor(neg_item_indices).to(self.device).squeeze()\n"
     ]
    },
    {
     "name": "stdout",
     "output_type": "stream",
     "text": [
      "2024-08-06 08:11:58,680 - base - recpack - INFO - Processed epoch 0 in 4.85 s.Batch Training Loss = 0.0844\n",
      "2024-08-06 08:14:05,660 - stopping_criterion - recpack - INFO - StoppingCriterion has value 2.7574619874991306, which is better than previous iterations.\n",
      "2024-08-06 08:14:05,664 - base - recpack - INFO - Model improved. Storing better model.\n",
      "2024-08-06 08:14:05,749 - base - recpack - INFO - Evaluation at end of 0 took 127.07 s.\n",
      "2024-08-06 08:14:09,436 - base - recpack - INFO - Processed epoch 1 in 3.69 s.Batch Training Loss = 0.0828\n",
      "2024-08-06 08:16:17,006 - stopping_criterion - recpack - INFO - StoppingCriterion has value 5.373937403624541, which is worse than previous iterations.\n",
      "2024-08-06 08:16:17,012 - base - recpack - INFO - Evaluation at end of 1 took 127.57 s.\n",
      "2024-08-06 08:16:20,640 - base - recpack - INFO - Processed epoch 2 in 3.63 s.Batch Training Loss = 0.0740\n",
      "2024-08-06 08:18:23,470 - stopping_criterion - recpack - INFO - StoppingCriterion has value 5.169366024061427, which is worse than previous iterations.\n",
      "2024-08-06 08:18:23,476 - base - recpack - INFO - Evaluation at end of 2 took 122.84 s.\n",
      "2024-08-06 08:18:27,132 - base - recpack - INFO - Processed epoch 3 in 3.66 s.Batch Training Loss = 0.0600\n",
      "2024-08-06 08:20:37,700 - stopping_criterion - recpack - INFO - StoppingCriterion has value 4.733478019154711, which is worse than previous iterations.\n",
      "2024-08-06 08:20:37,706 - base - recpack - INFO - Evaluation at end of 3 took 130.57 s.\n",
      "2024-08-06 08:20:41,391 - base - recpack - INFO - Processed epoch 4 in 3.68 s.Batch Training Loss = 0.0538\n",
      "2024-08-06 08:22:41,897 - stopping_criterion - recpack - INFO - StoppingCriterion has value 4.305524392405071, which is worse than previous iterations.\n",
      "2024-08-06 08:22:41,903 - base - recpack - INFO - Evaluation at end of 4 took 120.51 s.\n",
      "2024-08-06 08:22:41,948 - base - recpack - INFO - Fitting LightGCNAlgorithm complete - Took 6.49e+02s\n"
     ]
    },
    {
     "name": "stderr",
     "output_type": "stream",
     "text": [
      "/opt/conda/lib/python3.11/site-packages/recpack/algorithms/base.py:509: FutureWarning: You are using `torch.load` with `weights_only=False` (the current default value), which uses the default pickle module implicitly. It is possible to construct malicious pickle data which will execute arbitrary code during unpickling (See https://github.com/pytorch/pytorch/blob/main/SECURITY.md#untrusted-models for more details). In a future release, the default value for `weights_only` will be flipped to `True`. This limits the functions that could be executed during unpickling. Arbitrary objects will no longer be allowed to be loaded via this mode unless they are explicitly allowlisted by the user via `torch.serialization.add_safe_globals`. We recommend you start setting `weights_only=True` for any use case where you don't have full control of the loaded file. Please open an issue on GitHub for any issues related to this experimental feature.\n",
      "  self.model_ = torch.load(self.best_model)\n",
      "/tmp/ipykernel_26363/4206860820.py:81: UserWarning: To copy construct from a tensor, it is recommended to use sourceTensor.clone().detach() or sourceTensor.clone().detach().requires_grad_(True), rather than torch.tensor(sourceTensor).\n",
      "  user_indices = torch.tensor(user_indices).to(self.device)\n",
      "/tmp/ipykernel_26363/4206860820.py:82: UserWarning: To copy construct from a tensor, it is recommended to use sourceTensor.clone().detach() or sourceTensor.clone().detach().requires_grad_(True), rather than torch.tensor(sourceTensor).\n",
      "  pos_item_indices = torch.tensor(pos_item_indices).to(self.device)\n",
      "/tmp/ipykernel_26363/4206860820.py:83: UserWarning: To copy construct from a tensor, it is recommended to use sourceTensor.clone().detach() or sourceTensor.clone().detach().requires_grad_(True), rather than torch.tensor(sourceTensor).\n",
      "  neg_item_indices = torch.tensor(neg_item_indices).to(self.device).squeeze()\n"
     ]
    },
    {
     "name": "stdout",
     "output_type": "stream",
     "text": [
      "2024-08-06 08:25:07,216 - base - recpack - INFO - Processed epoch 0 in 3.84 s.Batch Training Loss = 0.1176\n",
      "2024-08-06 08:27:08,819 - stopping_criterion - recpack - INFO - StoppingCriterion has value 0.6595404452626012, which is better than previous iterations.\n",
      "2024-08-06 08:27:08,820 - base - recpack - INFO - Model improved. Storing better model.\n",
      "2024-08-06 08:27:08,904 - base - recpack - INFO - Evaluation at end of 0 took 121.69 s.\n",
      "2024-08-06 08:27:12,549 - base - recpack - INFO - Processed epoch 1 in 3.64 s.Batch Training Loss = 0.0432\n",
      "2024-08-06 08:29:12,751 - stopping_criterion - recpack - INFO - StoppingCriterion has value 0.6695052476926739, which is worse than previous iterations.\n",
      "2024-08-06 08:29:12,757 - base - recpack - INFO - Evaluation at end of 1 took 120.21 s.\n",
      "2024-08-06 08:29:16,328 - base - recpack - INFO - Processed epoch 2 in 3.57 s.Batch Training Loss = 0.0396\n",
      "2024-08-06 08:31:19,812 - stopping_criterion - recpack - INFO - StoppingCriterion has value 0.6889637261203204, which is worse than previous iterations.\n",
      "2024-08-06 08:31:19,818 - base - recpack - INFO - Evaluation at end of 2 took 123.49 s.\n",
      "2024-08-06 08:31:23,405 - base - recpack - INFO - Processed epoch 3 in 3.59 s.Batch Training Loss = 0.0371\n",
      "2024-08-06 08:33:26,901 - stopping_criterion - recpack - INFO - StoppingCriterion has value 0.7181441836300029, which is worse than previous iterations.\n",
      "2024-08-06 08:33:26,907 - base - recpack - INFO - Evaluation at end of 3 took 123.50 s.\n",
      "2024-08-06 08:33:30,459 - base - recpack - INFO - Processed epoch 4 in 3.55 s.Batch Training Loss = 0.0376\n",
      "2024-08-06 08:35:29,455 - stopping_criterion - recpack - INFO - StoppingCriterion has value 0.7658178596993255, which is worse than previous iterations.\n",
      "2024-08-06 08:35:29,461 - base - recpack - INFO - Evaluation at end of 4 took 119.00 s.\n",
      "2024-08-06 08:35:29,503 - base - recpack - INFO - Fitting LightGCNAlgorithm complete - Took 6.26e+02s\n"
     ]
    },
    {
     "name": "stderr",
     "output_type": "stream",
     "text": [
      "/opt/conda/lib/python3.11/site-packages/recpack/algorithms/base.py:509: FutureWarning: You are using `torch.load` with `weights_only=False` (the current default value), which uses the default pickle module implicitly. It is possible to construct malicious pickle data which will execute arbitrary code during unpickling (See https://github.com/pytorch/pytorch/blob/main/SECURITY.md#untrusted-models for more details). In a future release, the default value for `weights_only` will be flipped to `True`. This limits the functions that could be executed during unpickling. Arbitrary objects will no longer be allowed to be loaded via this mode unless they are explicitly allowlisted by the user via `torch.serialization.add_safe_globals`. We recommend you start setting `weights_only=True` for any use case where you don't have full control of the loaded file. Please open an issue on GitHub for any issues related to this experimental feature.\n",
      "  self.model_ = torch.load(self.best_model)\n",
      "/tmp/ipykernel_26363/4206860820.py:81: UserWarning: To copy construct from a tensor, it is recommended to use sourceTensor.clone().detach() or sourceTensor.clone().detach().requires_grad_(True), rather than torch.tensor(sourceTensor).\n",
      "  user_indices = torch.tensor(user_indices).to(self.device)\n",
      "/tmp/ipykernel_26363/4206860820.py:82: UserWarning: To copy construct from a tensor, it is recommended to use sourceTensor.clone().detach() or sourceTensor.clone().detach().requires_grad_(True), rather than torch.tensor(sourceTensor).\n",
      "  pos_item_indices = torch.tensor(pos_item_indices).to(self.device)\n",
      "/tmp/ipykernel_26363/4206860820.py:83: UserWarning: To copy construct from a tensor, it is recommended to use sourceTensor.clone().detach() or sourceTensor.clone().detach().requires_grad_(True), rather than torch.tensor(sourceTensor).\n",
      "  neg_item_indices = torch.tensor(neg_item_indices).to(self.device).squeeze()\n"
     ]
    },
    {
     "name": "stdout",
     "output_type": "stream",
     "text": [
      "2024-08-06 08:37:53,766 - base - recpack - INFO - Processed epoch 0 in 3.56 s.Batch Training Loss = 0.4920\n",
      "2024-08-06 08:39:54,599 - stopping_criterion - recpack - INFO - StoppingCriterion has value 0.6864139304078019, which is better than previous iterations.\n",
      "2024-08-06 08:39:54,601 - base - recpack - INFO - Model improved. Storing better model.\n",
      "2024-08-06 08:39:54,685 - base - recpack - INFO - Evaluation at end of 0 took 120.92 s.\n",
      "2024-08-06 08:39:58,208 - base - recpack - INFO - Processed epoch 1 in 3.52 s.Batch Training Loss = 0.1334\n",
      "2024-08-06 08:41:59,059 - stopping_criterion - recpack - INFO - StoppingCriterion has value 0.676370451428471, which is better than previous iterations.\n",
      "2024-08-06 08:41:59,062 - base - recpack - INFO - Model improved. Storing better model.\n",
      "2024-08-06 08:41:59,163 - base - recpack - INFO - Evaluation at end of 1 took 120.95 s.\n",
      "2024-08-06 08:42:02,764 - base - recpack - INFO - Processed epoch 2 in 3.60 s.Batch Training Loss = 0.0693\n",
      "2024-08-06 08:44:04,870 - stopping_criterion - recpack - INFO - StoppingCriterion has value 0.6695790586646361, which is worse than previous iterations.\n",
      "2024-08-06 08:44:04,877 - base - recpack - INFO - Evaluation at end of 2 took 122.11 s.\n",
      "2024-08-06 08:44:08,481 - base - recpack - INFO - Processed epoch 3 in 3.60 s.Batch Training Loss = 0.0534\n",
      "2024-08-06 08:46:10,948 - stopping_criterion - recpack - INFO - StoppingCriterion has value 0.6647948392108672, which is better than previous iterations.\n",
      "2024-08-06 08:46:10,950 - base - recpack - INFO - Model improved. Storing better model.\n",
      "2024-08-06 08:46:11,044 - base - recpack - INFO - Evaluation at end of 3 took 122.56 s.\n",
      "2024-08-06 08:46:14,667 - base - recpack - INFO - Processed epoch 4 in 3.62 s.Batch Training Loss = 0.0463\n",
      "2024-08-06 08:48:15,146 - stopping_criterion - recpack - INFO - StoppingCriterion has value 0.6628915170645647, which is worse than previous iterations.\n",
      "2024-08-06 08:48:15,152 - base - recpack - INFO - Evaluation at end of 4 took 120.48 s.\n",
      "2024-08-06 08:48:15,194 - base - recpack - INFO - Fitting LightGCNAlgorithm complete - Took 6.25e+02s\n"
     ]
    },
    {
     "name": "stderr",
     "output_type": "stream",
     "text": [
      "/opt/conda/lib/python3.11/site-packages/recpack/algorithms/base.py:509: FutureWarning: You are using `torch.load` with `weights_only=False` (the current default value), which uses the default pickle module implicitly. It is possible to construct malicious pickle data which will execute arbitrary code during unpickling (See https://github.com/pytorch/pytorch/blob/main/SECURITY.md#untrusted-models for more details). In a future release, the default value for `weights_only` will be flipped to `True`. This limits the functions that could be executed during unpickling. Arbitrary objects will no longer be allowed to be loaded via this mode unless they are explicitly allowlisted by the user via `torch.serialization.add_safe_globals`. We recommend you start setting `weights_only=True` for any use case where you don't have full control of the loaded file. Please open an issue on GitHub for any issues related to this experimental feature.\n",
      "  self.model_ = torch.load(self.best_model)\n",
      "/tmp/ipykernel_26363/4206860820.py:81: UserWarning: To copy construct from a tensor, it is recommended to use sourceTensor.clone().detach() or sourceTensor.clone().detach().requires_grad_(True), rather than torch.tensor(sourceTensor).\n",
      "  user_indices = torch.tensor(user_indices).to(self.device)\n",
      "/tmp/ipykernel_26363/4206860820.py:82: UserWarning: To copy construct from a tensor, it is recommended to use sourceTensor.clone().detach() or sourceTensor.clone().detach().requires_grad_(True), rather than torch.tensor(sourceTensor).\n",
      "  pos_item_indices = torch.tensor(pos_item_indices).to(self.device)\n",
      "/tmp/ipykernel_26363/4206860820.py:83: UserWarning: To copy construct from a tensor, it is recommended to use sourceTensor.clone().detach() or sourceTensor.clone().detach().requires_grad_(True), rather than torch.tensor(sourceTensor).\n",
      "  neg_item_indices = torch.tensor(neg_item_indices).to(self.device).squeeze()\n"
     ]
    },
    {
     "name": "stdout",
     "output_type": "stream",
     "text": [
      "2024-08-06 08:50:42,655 - base - recpack - INFO - Processed epoch 0 in 5.07 s.Batch Training Loss = 0.1069\n",
      "2024-08-06 08:52:44,108 - stopping_criterion - recpack - INFO - StoppingCriterion has value 4.176986761396965, which is better than previous iterations.\n",
      "2024-08-06 08:52:44,109 - base - recpack - INFO - Model improved. Storing better model.\n",
      "2024-08-06 08:52:44,264 - base - recpack - INFO - Evaluation at end of 0 took 121.61 s.\n",
      "2024-08-06 08:52:49,439 - base - recpack - INFO - Processed epoch 1 in 5.17 s.Batch Training Loss = 0.0996\n",
      "2024-08-06 08:54:49,464 - stopping_criterion - recpack - INFO - StoppingCriterion has value 4.383063763971858, which is worse than previous iterations.\n",
      "2024-08-06 08:54:49,472 - base - recpack - INFO - Evaluation at end of 1 took 120.03 s.\n",
      "2024-08-06 08:54:54,539 - base - recpack - INFO - Processed epoch 2 in 5.07 s.Batch Training Loss = 0.0793\n",
      "2024-08-06 08:56:58,548 - stopping_criterion - recpack - INFO - StoppingCriterion has value 4.959709551971664, which is worse than previous iterations.\n",
      "2024-08-06 08:56:58,555 - base - recpack - INFO - Evaluation at end of 2 took 124.02 s.\n",
      "2024-08-06 08:57:03,630 - base - recpack - INFO - Processed epoch 3 in 5.07 s.Batch Training Loss = 0.0825\n",
      "2024-08-06 08:59:07,103 - stopping_criterion - recpack - INFO - StoppingCriterion has value 5.449935494704515, which is worse than previous iterations.\n",
      "2024-08-06 08:59:07,109 - base - recpack - INFO - Evaluation at end of 3 took 123.48 s.\n",
      "2024-08-06 08:59:12,146 - base - recpack - INFO - Processed epoch 4 in 5.04 s.Batch Training Loss = 0.0854\n",
      "2024-08-06 09:01:12,021 - stopping_criterion - recpack - INFO - StoppingCriterion has value 5.822259566946735, which is worse than previous iterations.\n",
      "2024-08-06 09:01:12,027 - base - recpack - INFO - Evaluation at end of 4 took 119.88 s.\n",
      "2024-08-06 09:01:12,108 - base - recpack - INFO - Fitting LightGCNAlgorithm complete - Took 6.35e+02s\n"
     ]
    },
    {
     "name": "stderr",
     "output_type": "stream",
     "text": [
      "/opt/conda/lib/python3.11/site-packages/recpack/algorithms/base.py:509: FutureWarning: You are using `torch.load` with `weights_only=False` (the current default value), which uses the default pickle module implicitly. It is possible to construct malicious pickle data which will execute arbitrary code during unpickling (See https://github.com/pytorch/pytorch/blob/main/SECURITY.md#untrusted-models for more details). In a future release, the default value for `weights_only` will be flipped to `True`. This limits the functions that could be executed during unpickling. Arbitrary objects will no longer be allowed to be loaded via this mode unless they are explicitly allowlisted by the user via `torch.serialization.add_safe_globals`. We recommend you start setting `weights_only=True` for any use case where you don't have full control of the loaded file. Please open an issue on GitHub for any issues related to this experimental feature.\n",
      "  self.model_ = torch.load(self.best_model)\n",
      "/tmp/ipykernel_26363/4206860820.py:81: UserWarning: To copy construct from a tensor, it is recommended to use sourceTensor.clone().detach() or sourceTensor.clone().detach().requires_grad_(True), rather than torch.tensor(sourceTensor).\n",
      "  user_indices = torch.tensor(user_indices).to(self.device)\n",
      "/tmp/ipykernel_26363/4206860820.py:82: UserWarning: To copy construct from a tensor, it is recommended to use sourceTensor.clone().detach() or sourceTensor.clone().detach().requires_grad_(True), rather than torch.tensor(sourceTensor).\n",
      "  pos_item_indices = torch.tensor(pos_item_indices).to(self.device)\n",
      "/tmp/ipykernel_26363/4206860820.py:83: UserWarning: To copy construct from a tensor, it is recommended to use sourceTensor.clone().detach() or sourceTensor.clone().detach().requires_grad_(True), rather than torch.tensor(sourceTensor).\n",
      "  neg_item_indices = torch.tensor(neg_item_indices).to(self.device).squeeze()\n"
     ]
    },
    {
     "name": "stdout",
     "output_type": "stream",
     "text": [
      "2024-08-06 09:03:39,792 - base - recpack - INFO - Processed epoch 0 in 5.06 s.Batch Training Loss = 0.0985\n",
      "2024-08-06 09:05:42,623 - stopping_criterion - recpack - INFO - StoppingCriterion has value 0.6731960981279778, which is better than previous iterations.\n",
      "2024-08-06 09:05:42,624 - base - recpack - INFO - Model improved. Storing better model.\n",
      "2024-08-06 09:05:42,780 - base - recpack - INFO - Evaluation at end of 0 took 122.99 s.\n",
      "2024-08-06 09:05:47,832 - base - recpack - INFO - Processed epoch 1 in 5.05 s.Batch Training Loss = 0.0427\n",
      "2024-08-06 09:07:48,991 - stopping_criterion - recpack - INFO - StoppingCriterion has value 0.7082650793401627, which is worse than previous iterations.\n",
      "2024-08-06 09:07:49,000 - base - recpack - INFO - Evaluation at end of 1 took 121.16 s.\n",
      "2024-08-06 09:07:54,075 - base - recpack - INFO - Processed epoch 2 in 5.07 s.Batch Training Loss = 0.0405\n",
      "2024-08-06 09:09:56,359 - stopping_criterion - recpack - INFO - StoppingCriterion has value 0.7457001516444138, which is worse than previous iterations.\n",
      "2024-08-06 09:09:56,365 - base - recpack - INFO - Evaluation at end of 2 took 122.29 s.\n",
      "2024-08-06 09:10:01,672 - base - recpack - INFO - Processed epoch 3 in 5.31 s.Batch Training Loss = 0.0385\n",
      "2024-08-06 09:12:04,160 - stopping_criterion - recpack - INFO - StoppingCriterion has value 0.7891502124929077, which is worse than previous iterations.\n",
      "2024-08-06 09:12:04,167 - base - recpack - INFO - Evaluation at end of 3 took 122.49 s.\n",
      "2024-08-06 09:12:09,508 - base - recpack - INFO - Processed epoch 4 in 5.34 s.Batch Training Loss = 0.0368\n",
      "2024-08-06 09:14:09,766 - stopping_criterion - recpack - INFO - StoppingCriterion has value 0.8264081359618836, which is worse than previous iterations.\n",
      "2024-08-06 09:14:09,773 - base - recpack - INFO - Evaluation at end of 4 took 120.26 s.\n",
      "2024-08-06 09:14:09,856 - base - recpack - INFO - Fitting LightGCNAlgorithm complete - Took 6.36e+02s\n"
     ]
    },
    {
     "name": "stderr",
     "output_type": "stream",
     "text": [
      "/opt/conda/lib/python3.11/site-packages/recpack/algorithms/base.py:509: FutureWarning: You are using `torch.load` with `weights_only=False` (the current default value), which uses the default pickle module implicitly. It is possible to construct malicious pickle data which will execute arbitrary code during unpickling (See https://github.com/pytorch/pytorch/blob/main/SECURITY.md#untrusted-models for more details). In a future release, the default value for `weights_only` will be flipped to `True`. This limits the functions that could be executed during unpickling. Arbitrary objects will no longer be allowed to be loaded via this mode unless they are explicitly allowlisted by the user via `torch.serialization.add_safe_globals`. We recommend you start setting `weights_only=True` for any use case where you don't have full control of the loaded file. Please open an issue on GitHub for any issues related to this experimental feature.\n",
      "  self.model_ = torch.load(self.best_model)\n",
      "/tmp/ipykernel_26363/4206860820.py:81: UserWarning: To copy construct from a tensor, it is recommended to use sourceTensor.clone().detach() or sourceTensor.clone().detach().requires_grad_(True), rather than torch.tensor(sourceTensor).\n",
      "  user_indices = torch.tensor(user_indices).to(self.device)\n",
      "/tmp/ipykernel_26363/4206860820.py:82: UserWarning: To copy construct from a tensor, it is recommended to use sourceTensor.clone().detach() or sourceTensor.clone().detach().requires_grad_(True), rather than torch.tensor(sourceTensor).\n",
      "  pos_item_indices = torch.tensor(pos_item_indices).to(self.device)\n",
      "/tmp/ipykernel_26363/4206860820.py:83: UserWarning: To copy construct from a tensor, it is recommended to use sourceTensor.clone().detach() or sourceTensor.clone().detach().requires_grad_(True), rather than torch.tensor(sourceTensor).\n",
      "  neg_item_indices = torch.tensor(neg_item_indices).to(self.device).squeeze()\n"
     ]
    },
    {
     "name": "stdout",
     "output_type": "stream",
     "text": [
      "2024-08-06 09:16:38,356 - base - recpack - INFO - Processed epoch 0 in 5.10 s.Batch Training Loss = 0.4115\n",
      "2024-08-06 09:18:40,662 - stopping_criterion - recpack - INFO - StoppingCriterion has value 0.6822916997674899, which is better than previous iterations.\n",
      "2024-08-06 09:18:40,663 - base - recpack - INFO - Model improved. Storing better model.\n",
      "2024-08-06 09:18:40,823 - base - recpack - INFO - Evaluation at end of 0 took 122.47 s.\n",
      "2024-08-06 09:18:45,995 - base - recpack - INFO - Processed epoch 1 in 5.17 s.Batch Training Loss = 0.0862\n",
      "2024-08-06 09:20:47,389 - stopping_criterion - recpack - INFO - StoppingCriterion has value 0.6707105107291886, which is better than previous iterations.\n",
      "2024-08-06 09:20:47,390 - base - recpack - INFO - Model improved. Storing better model.\n",
      "2024-08-06 09:20:47,575 - base - recpack - INFO - Evaluation at end of 1 took 121.58 s.\n",
      "2024-08-06 09:20:52,862 - base - recpack - INFO - Processed epoch 2 in 5.29 s.Batch Training Loss = 0.0528\n",
      "2024-08-06 09:22:56,704 - stopping_criterion - recpack - INFO - StoppingCriterion has value 0.6644998579721407, which is worse than previous iterations.\n",
      "2024-08-06 09:22:56,710 - base - recpack - INFO - Evaluation at end of 2 took 123.85 s.\n",
      "2024-08-06 09:23:01,986 - base - recpack - INFO - Processed epoch 3 in 5.27 s.Batch Training Loss = 0.0449\n",
      "2024-08-06 09:25:05,907 - stopping_criterion - recpack - INFO - StoppingCriterion has value 0.6608704254795181, which is worse than previous iterations.\n",
      "2024-08-06 09:25:05,913 - base - recpack - INFO - Evaluation at end of 3 took 123.93 s.\n",
      "2024-08-06 09:25:11,219 - base - recpack - INFO - Processed epoch 4 in 5.30 s.Batch Training Loss = 0.0401\n",
      "2024-08-06 09:27:10,892 - stopping_criterion - recpack - INFO - StoppingCriterion has value 0.6577882361345552, which is better than previous iterations.\n",
      "2024-08-06 09:27:10,893 - base - recpack - INFO - Model improved. Storing better model.\n",
      "2024-08-06 09:27:11,075 - base - recpack - INFO - Evaluation at end of 4 took 119.85 s.\n",
      "2024-08-06 09:27:11,161 - base - recpack - INFO - Fitting LightGCNAlgorithm complete - Took 6.38e+02s\n"
     ]
    },
    {
     "name": "stderr",
     "output_type": "stream",
     "text": [
      "/opt/conda/lib/python3.11/site-packages/recpack/algorithms/base.py:509: FutureWarning: You are using `torch.load` with `weights_only=False` (the current default value), which uses the default pickle module implicitly. It is possible to construct malicious pickle data which will execute arbitrary code during unpickling (See https://github.com/pytorch/pytorch/blob/main/SECURITY.md#untrusted-models for more details). In a future release, the default value for `weights_only` will be flipped to `True`. This limits the functions that could be executed during unpickling. Arbitrary objects will no longer be allowed to be loaded via this mode unless they are explicitly allowlisted by the user via `torch.serialization.add_safe_globals`. We recommend you start setting `weights_only=True` for any use case where you don't have full control of the loaded file. Please open an issue on GitHub for any issues related to this experimental feature.\n",
      "  self.model_ = torch.load(self.best_model)\n",
      "/tmp/ipykernel_26363/4206860820.py:81: UserWarning: To copy construct from a tensor, it is recommended to use sourceTensor.clone().detach() or sourceTensor.clone().detach().requires_grad_(True), rather than torch.tensor(sourceTensor).\n",
      "  user_indices = torch.tensor(user_indices).to(self.device)\n",
      "/tmp/ipykernel_26363/4206860820.py:82: UserWarning: To copy construct from a tensor, it is recommended to use sourceTensor.clone().detach() or sourceTensor.clone().detach().requires_grad_(True), rather than torch.tensor(sourceTensor).\n",
      "  pos_item_indices = torch.tensor(pos_item_indices).to(self.device)\n",
      "/tmp/ipykernel_26363/4206860820.py:83: UserWarning: To copy construct from a tensor, it is recommended to use sourceTensor.clone().detach() or sourceTensor.clone().detach().requires_grad_(True), rather than torch.tensor(sourceTensor).\n",
      "  neg_item_indices = torch.tensor(neg_item_indices).to(self.device).squeeze()\n"
     ]
    },
    {
     "name": "stdout",
     "output_type": "stream",
     "text": [
      "2024-08-06 09:29:41,630 - base - recpack - INFO - Processed epoch 0 in 7.73 s.Batch Training Loss = 0.1376\n",
      "2024-08-06 09:31:43,577 - stopping_criterion - recpack - INFO - StoppingCriterion has value 4.772872307775252, which is better than previous iterations.\n",
      "2024-08-06 09:31:43,578 - base - recpack - INFO - Model improved. Storing better model.\n",
      "2024-08-06 09:31:43,892 - base - recpack - INFO - Evaluation at end of 0 took 122.26 s.\n",
      "2024-08-06 09:31:51,006 - base - recpack - INFO - Processed epoch 1 in 7.11 s.Batch Training Loss = 0.1358\n",
      "2024-08-06 09:33:57,567 - stopping_criterion - recpack - INFO - StoppingCriterion has value 5.696253487100941, which is worse than previous iterations.\n",
      "2024-08-06 09:33:57,573 - base - recpack - INFO - Evaluation at end of 1 took 126.56 s.\n",
      "2024-08-06 09:34:05,377 - base - recpack - INFO - Processed epoch 2 in 7.80 s.Batch Training Loss = 0.1300\n",
      "2024-08-06 09:36:07,757 - stopping_criterion - recpack - INFO - StoppingCriterion has value 6.689929566046573, which is worse than previous iterations.\n",
      "2024-08-06 09:36:07,763 - base - recpack - INFO - Evaluation at end of 2 took 122.38 s.\n",
      "2024-08-06 09:36:15,181 - base - recpack - INFO - Processed epoch 3 in 7.42 s.Batch Training Loss = 0.1363\n",
      "2024-08-06 09:38:24,685 - stopping_criterion - recpack - INFO - StoppingCriterion has value 7.619847695378329, which is worse than previous iterations.\n",
      "2024-08-06 09:38:24,691 - base - recpack - INFO - Evaluation at end of 3 took 129.51 s.\n",
      "2024-08-06 09:38:31,963 - base - recpack - INFO - Processed epoch 4 in 7.27 s.Batch Training Loss = 0.1523\n",
      "2024-08-06 09:40:33,184 - stopping_criterion - recpack - INFO - StoppingCriterion has value 8.208838400026213, which is worse than previous iterations.\n",
      "2024-08-06 09:40:33,190 - base - recpack - INFO - Evaluation at end of 4 took 121.23 s.\n",
      "2024-08-06 09:40:33,349 - base - recpack - INFO - Fitting LightGCNAlgorithm complete - Took 6.6e+02s\n"
     ]
    },
    {
     "name": "stderr",
     "output_type": "stream",
     "text": [
      "/opt/conda/lib/python3.11/site-packages/recpack/algorithms/base.py:509: FutureWarning: You are using `torch.load` with `weights_only=False` (the current default value), which uses the default pickle module implicitly. It is possible to construct malicious pickle data which will execute arbitrary code during unpickling (See https://github.com/pytorch/pytorch/blob/main/SECURITY.md#untrusted-models for more details). In a future release, the default value for `weights_only` will be flipped to `True`. This limits the functions that could be executed during unpickling. Arbitrary objects will no longer be allowed to be loaded via this mode unless they are explicitly allowlisted by the user via `torch.serialization.add_safe_globals`. We recommend you start setting `weights_only=True` for any use case where you don't have full control of the loaded file. Please open an issue on GitHub for any issues related to this experimental feature.\n",
      "  self.model_ = torch.load(self.best_model)\n",
      "/tmp/ipykernel_26363/4206860820.py:81: UserWarning: To copy construct from a tensor, it is recommended to use sourceTensor.clone().detach() or sourceTensor.clone().detach().requires_grad_(True), rather than torch.tensor(sourceTensor).\n",
      "  user_indices = torch.tensor(user_indices).to(self.device)\n",
      "/tmp/ipykernel_26363/4206860820.py:82: UserWarning: To copy construct from a tensor, it is recommended to use sourceTensor.clone().detach() or sourceTensor.clone().detach().requires_grad_(True), rather than torch.tensor(sourceTensor).\n",
      "  pos_item_indices = torch.tensor(pos_item_indices).to(self.device)\n",
      "/tmp/ipykernel_26363/4206860820.py:83: UserWarning: To copy construct from a tensor, it is recommended to use sourceTensor.clone().detach() or sourceTensor.clone().detach().requires_grad_(True), rather than torch.tensor(sourceTensor).\n",
      "  neg_item_indices = torch.tensor(neg_item_indices).to(self.device).squeeze()\n"
     ]
    },
    {
     "name": "stdout",
     "output_type": "stream",
     "text": [
      "2024-08-06 09:43:05,997 - base - recpack - INFO - Processed epoch 0 in 8.13 s.Batch Training Loss = 0.0866\n",
      "2024-08-06 09:45:08,468 - stopping_criterion - recpack - INFO - StoppingCriterion has value 0.7020808717994044, which is better than previous iterations.\n",
      "2024-08-06 09:45:08,469 - base - recpack - INFO - Model improved. Storing better model.\n",
      "2024-08-06 09:45:08,788 - base - recpack - INFO - Evaluation at end of 0 took 122.79 s.\n",
      "2024-08-06 09:45:17,150 - base - recpack - INFO - Processed epoch 1 in 8.36 s.Batch Training Loss = 0.0439\n",
      "2024-08-06 09:47:17,536 - stopping_criterion - recpack - INFO - StoppingCriterion has value 0.7602590032992995, which is worse than previous iterations.\n",
      "2024-08-06 09:47:17,544 - base - recpack - INFO - Evaluation at end of 1 took 120.39 s.\n",
      "2024-08-06 09:47:25,768 - base - recpack - INFO - Processed epoch 2 in 8.22 s.Batch Training Loss = 0.0395\n",
      "2024-08-06 09:49:34,929 - stopping_criterion - recpack - INFO - StoppingCriterion has value 0.824698449055059, which is worse than previous iterations.\n",
      "2024-08-06 09:49:34,935 - base - recpack - INFO - Evaluation at end of 2 took 129.16 s.\n",
      "2024-08-06 09:49:43,328 - base - recpack - INFO - Processed epoch 3 in 8.39 s.Batch Training Loss = 0.0367\n",
      "2024-08-06 09:51:48,203 - stopping_criterion - recpack - INFO - StoppingCriterion has value 0.8631051533780387, which is worse than previous iterations.\n",
      "2024-08-06 09:51:48,208 - base - recpack - INFO - Evaluation at end of 3 took 124.88 s.\n",
      "2024-08-06 09:51:56,407 - base - recpack - INFO - Processed epoch 4 in 8.20 s.Batch Training Loss = 0.0364\n",
      "2024-08-06 09:53:56,542 - stopping_criterion - recpack - INFO - StoppingCriterion has value 0.9287326727341298, which is worse than previous iterations.\n",
      "2024-08-06 09:53:56,548 - base - recpack - INFO - Evaluation at end of 4 took 120.14 s.\n",
      "2024-08-06 09:53:56,708 - base - recpack - INFO - Fitting LightGCNAlgorithm complete - Took 6.6e+02s\n"
     ]
    },
    {
     "name": "stderr",
     "output_type": "stream",
     "text": [
      "/opt/conda/lib/python3.11/site-packages/recpack/algorithms/base.py:509: FutureWarning: You are using `torch.load` with `weights_only=False` (the current default value), which uses the default pickle module implicitly. It is possible to construct malicious pickle data which will execute arbitrary code during unpickling (See https://github.com/pytorch/pytorch/blob/main/SECURITY.md#untrusted-models for more details). In a future release, the default value for `weights_only` will be flipped to `True`. This limits the functions that could be executed during unpickling. Arbitrary objects will no longer be allowed to be loaded via this mode unless they are explicitly allowlisted by the user via `torch.serialization.add_safe_globals`. We recommend you start setting `weights_only=True` for any use case where you don't have full control of the loaded file. Please open an issue on GitHub for any issues related to this experimental feature.\n",
      "  self.model_ = torch.load(self.best_model)\n",
      "/tmp/ipykernel_26363/4206860820.py:81: UserWarning: To copy construct from a tensor, it is recommended to use sourceTensor.clone().detach() or sourceTensor.clone().detach().requires_grad_(True), rather than torch.tensor(sourceTensor).\n",
      "  user_indices = torch.tensor(user_indices).to(self.device)\n",
      "/tmp/ipykernel_26363/4206860820.py:82: UserWarning: To copy construct from a tensor, it is recommended to use sourceTensor.clone().detach() or sourceTensor.clone().detach().requires_grad_(True), rather than torch.tensor(sourceTensor).\n",
      "  pos_item_indices = torch.tensor(pos_item_indices).to(self.device)\n",
      "/tmp/ipykernel_26363/4206860820.py:83: UserWarning: To copy construct from a tensor, it is recommended to use sourceTensor.clone().detach() or sourceTensor.clone().detach().requires_grad_(True), rather than torch.tensor(sourceTensor).\n",
      "  neg_item_indices = torch.tensor(neg_item_indices).to(self.device).squeeze()\n"
     ]
    },
    {
     "name": "stdout",
     "output_type": "stream",
     "text": [
      "2024-08-06 09:56:28,425 - base - recpack - INFO - Processed epoch 0 in 8.18 s.Batch Training Loss = 0.3272\n",
      "2024-08-06 09:58:30,317 - stopping_criterion - recpack - INFO - StoppingCriterion has value 0.6785332050393788, which is better than previous iterations.\n",
      "2024-08-06 09:58:30,318 - base - recpack - INFO - Model improved. Storing better model.\n",
      "2024-08-06 09:58:30,627 - base - recpack - INFO - Evaluation at end of 0 took 122.20 s.\n",
      "2024-08-06 09:58:38,726 - base - recpack - INFO - Processed epoch 1 in 8.10 s.Batch Training Loss = 0.0625\n",
      "2024-08-06 10:00:40,244 - stopping_criterion - recpack - INFO - StoppingCriterion has value 0.6671665624379911, which is better than previous iterations.\n",
      "2024-08-06 10:00:40,246 - base - recpack - INFO - Model improved. Storing better model.\n",
      "2024-08-06 10:00:40,600 - base - recpack - INFO - Evaluation at end of 1 took 121.87 s.\n",
      "2024-08-06 10:00:48,718 - base - recpack - INFO - Processed epoch 2 in 8.12 s.Batch Training Loss = 0.0443\n",
      "2024-08-06 10:02:51,238 - stopping_criterion - recpack - INFO - StoppingCriterion has value 0.6620606060345482, which is worse than previous iterations.\n",
      "2024-08-06 10:02:51,245 - base - recpack - INFO - Evaluation at end of 2 took 122.53 s.\n",
      "2024-08-06 10:02:59,369 - base - recpack - INFO - Processed epoch 3 in 8.12 s.Batch Training Loss = 0.0403\n",
      "2024-08-06 10:05:02,442 - stopping_criterion - recpack - INFO - StoppingCriterion has value 0.6574886092471455, which is worse than previous iterations.\n",
      "2024-08-06 10:05:02,448 - base - recpack - INFO - Evaluation at end of 3 took 123.08 s.\n",
      "2024-08-06 10:05:10,630 - base - recpack - INFO - Processed epoch 4 in 8.18 s.Batch Training Loss = 0.0393\n",
      "2024-08-06 10:07:09,915 - stopping_criterion - recpack - INFO - StoppingCriterion has value 0.6552197703154912, which is better than previous iterations.\n",
      "2024-08-06 10:07:09,916 - base - recpack - INFO - Model improved. Storing better model.\n",
      "2024-08-06 10:07:10,275 - base - recpack - INFO - Evaluation at end of 4 took 119.64 s.\n",
      "2024-08-06 10:07:10,442 - base - recpack - INFO - Fitting LightGCNAlgorithm complete - Took 6.51e+02s\n"
     ]
    },
    {
     "name": "stderr",
     "output_type": "stream",
     "text": [
      "/opt/conda/lib/python3.11/site-packages/recpack/algorithms/base.py:509: FutureWarning: You are using `torch.load` with `weights_only=False` (the current default value), which uses the default pickle module implicitly. It is possible to construct malicious pickle data which will execute arbitrary code during unpickling (See https://github.com/pytorch/pytorch/blob/main/SECURITY.md#untrusted-models for more details). In a future release, the default value for `weights_only` will be flipped to `True`. This limits the functions that could be executed during unpickling. Arbitrary objects will no longer be allowed to be loaded via this mode unless they are explicitly allowlisted by the user via `torch.serialization.add_safe_globals`. We recommend you start setting `weights_only=True` for any use case where you don't have full control of the loaded file. Please open an issue on GitHub for any issues related to this experimental feature.\n",
      "  self.model_ = torch.load(self.best_model)\n",
      "/tmp/ipykernel_26363/4206860820.py:81: UserWarning: To copy construct from a tensor, it is recommended to use sourceTensor.clone().detach() or sourceTensor.clone().detach().requires_grad_(True), rather than torch.tensor(sourceTensor).\n",
      "  user_indices = torch.tensor(user_indices).to(self.device)\n",
      "/tmp/ipykernel_26363/4206860820.py:82: UserWarning: To copy construct from a tensor, it is recommended to use sourceTensor.clone().detach() or sourceTensor.clone().detach().requires_grad_(True), rather than torch.tensor(sourceTensor).\n",
      "  pos_item_indices = torch.tensor(pos_item_indices).to(self.device)\n",
      "/tmp/ipykernel_26363/4206860820.py:83: UserWarning: To copy construct from a tensor, it is recommended to use sourceTensor.clone().detach() or sourceTensor.clone().detach().requires_grad_(True), rather than torch.tensor(sourceTensor).\n",
      "  neg_item_indices = torch.tensor(neg_item_indices).to(self.device).squeeze()\n"
     ]
    },
    {
     "name": "stdout",
     "output_type": "stream",
     "text": [
      "2024-08-06 10:09:36,544 - base - recpack - INFO - Processed epoch 0 in 3.61 s.Batch Training Loss = 0.4919\n",
      "2024-08-06 10:11:48,762 - stopping_criterion - recpack - INFO - StoppingCriterion has value 0.6861013330540713, which is better than previous iterations.\n",
      "2024-08-06 10:11:48,764 - base - recpack - INFO - Model improved. Storing better model.\n",
      "2024-08-06 10:11:48,848 - base - recpack - INFO - Evaluation at end of 0 took 132.30 s.\n",
      "2024-08-06 10:11:52,468 - base - recpack - INFO - Processed epoch 1 in 3.62 s.Batch Training Loss = 0.1333\n",
      "2024-08-06 10:13:54,285 - stopping_criterion - recpack - INFO - StoppingCriterion has value 0.6763709993126551, which is worse than previous iterations.\n",
      "2024-08-06 10:13:54,291 - base - recpack - INFO - Evaluation at end of 1 took 121.82 s.\n",
      "2024-08-06 10:13:57,931 - base - recpack - INFO - Processed epoch 2 in 3.64 s.Batch Training Loss = 0.0694\n",
      "2024-08-06 10:16:07,180 - stopping_criterion - recpack - INFO - StoppingCriterion has value 0.668912889841283, which is better than previous iterations.\n",
      "2024-08-06 10:16:07,181 - base - recpack - INFO - Model improved. Storing better model.\n",
      "2024-08-06 10:16:07,277 - base - recpack - INFO - Evaluation at end of 2 took 129.34 s.\n",
      "2024-08-06 10:16:11,107 - base - recpack - INFO - Processed epoch 3 in 3.83 s.Batch Training Loss = 0.0515\n",
      "2024-08-06 10:18:15,124 - stopping_criterion - recpack - INFO - StoppingCriterion has value 0.6650213751892268, which is worse than previous iterations.\n",
      "2024-08-06 10:18:15,130 - base - recpack - INFO - Evaluation at end of 3 took 124.02 s.\n",
      "2024-08-06 10:18:18,946 - base - recpack - INFO - Processed epoch 4 in 3.81 s.Batch Training Loss = 0.0459\n",
      "2024-08-06 10:20:18,344 - stopping_criterion - recpack - INFO - StoppingCriterion has value 0.661529438702409, which is worse than previous iterations.\n",
      "2024-08-06 10:20:18,351 - base - recpack - INFO - Evaluation at end of 4 took 119.40 s.\n",
      "2024-08-06 10:20:18,395 - base - recpack - INFO - Fitting LightGCNAlgorithm complete - Took 6.46e+02s\n"
     ]
    },
    {
     "name": "stderr",
     "output_type": "stream",
     "text": [
      "/opt/conda/lib/python3.11/site-packages/recpack/algorithms/base.py:509: FutureWarning: You are using `torch.load` with `weights_only=False` (the current default value), which uses the default pickle module implicitly. It is possible to construct malicious pickle data which will execute arbitrary code during unpickling (See https://github.com/pytorch/pytorch/blob/main/SECURITY.md#untrusted-models for more details). In a future release, the default value for `weights_only` will be flipped to `True`. This limits the functions that could be executed during unpickling. Arbitrary objects will no longer be allowed to be loaded via this mode unless they are explicitly allowlisted by the user via `torch.serialization.add_safe_globals`. We recommend you start setting `weights_only=True` for any use case where you don't have full control of the loaded file. Please open an issue on GitHub for any issues related to this experimental feature.\n",
      "  self.model_ = torch.load(self.best_model)\n"
     ]
    }
   ],
   "source": [
    "pipeline_builder = PipelineBuilder()\n",
    "ok = (scenario._validation_data_in, scenario._validation_data_out)\n",
    "pipeline_builder.set_data_from_scenario(scenario)\n",
    "\n",
    "\n",
    "# Add the baseline algorithms\n",
    "#pipeline_builder.add_algorithm('ItemKNN', grid={'K': [100, 200, 400, 800]})\n",
    "#pipeline_builder.add_algorithm('EASE', grid={'l2': [10, 100, 1000], 'alpha': [0, 0.1, 0.5]})\n",
    "\n",
    "# Add our LightGCN algorithm\n",
    "pipeline_builder.add_algorithm(\n",
    "    'LightGCNAlgorithm1',\n",
    "    grid={\n",
    "        'learning_rate': [0.1, 0.01, 0.001],\n",
    "        'embedding_dim': [100, 200, 400]\n",
    "    },\n",
    "    params={\n",
    "        'max_epochs': 5,\n",
    "        'batch_size': 1024,\n",
    "        'n_layers': 3\n",
    "    }\n",
    ")\n",
    "\n",
    "# Add NDCG, Recall, and HR metrics to be evaluated at 10, 20, and 50\n",
    "pipeline_builder.add_metric('NDCGK', [10, 20, 50])\n",
    "pipeline_builder.add_metric('RecallK', [10, 20, 50])\n",
    "pipeline_builder.add_metric('HitK', [10, 20, 50])\n",
    "\n",
    "# Set the optimisation metric\n",
    "pipeline_builder.set_optimisation_metric('RecallK', 20)\n",
    "\n",
    "# Construct pipeline\n",
    "pipeline = pipeline_builder.build()\n",
    "\n",
    "# Debugging: Output the shape of the training data\n",
    "#print(f\"Training data shape: {im.shape}\")\n",
    "\n",
    "# Run pipeline, will first do optimisation, and then evaluation\n",
    "pipeline.run()"
   ]
  },
  {
   "cell_type": "markdown",
   "id": "c66bdf0a-9e12-4c5b-8238-bead34851e75",
   "metadata": {},
   "source": [
    "## Results"
   ]
  },
  {
   "cell_type": "code",
   "execution_count": 21,
   "id": "e80f2784-1ed9-4d93-9883-4c34213d62ed",
   "metadata": {},
   "outputs": [
    {
     "data": {
      "text/html": [
       "<div>\n",
       "<style scoped>\n",
       "    .dataframe tbody tr th:only-of-type {\n",
       "        vertical-align: middle;\n",
       "    }\n",
       "\n",
       "    .dataframe tbody tr th {\n",
       "        vertical-align: top;\n",
       "    }\n",
       "\n",
       "    .dataframe thead th {\n",
       "        text-align: right;\n",
       "    }\n",
       "</style>\n",
       "<table border=\"1\" class=\"dataframe\">\n",
       "  <thead>\n",
       "    <tr style=\"text-align: right;\">\n",
       "      <th></th>\n",
       "      <th>NDCGK_10</th>\n",
       "      <th>NDCGK_20</th>\n",
       "      <th>NDCGK_50</th>\n",
       "      <th>RecallK_10</th>\n",
       "      <th>RecallK_20</th>\n",
       "      <th>RecallK_50</th>\n",
       "      <th>HitK_10</th>\n",
       "      <th>HitK_20</th>\n",
       "      <th>HitK_50</th>\n",
       "    </tr>\n",
       "  </thead>\n",
       "  <tbody>\n",
       "    <tr>\n",
       "      <th>LightGCNAlgorithm(batch_size=1024,embedding_dim=100,keep_last=False,learning_rate=0.001,max_epochs=5,max_iter_no_change=5,min_improvement=0.01,n_layers=3,predict_topK=None,reg_weight=1e-05,save_best_to_file=False,seed=2034669135,stop_early=True,stopping_criterion=&lt;recpack.algorithms.stopping_criterion.StoppingCriterion object at 0x7fc71c6c6e10&gt;,validation_sample_size=None)</th>\n",
       "      <td>0.021219</td>\n",
       "      <td>0.029674</td>\n",
       "      <td>0.04346</td>\n",
       "      <td>0.045045</td>\n",
       "      <td>0.078772</td>\n",
       "      <td>0.14821</td>\n",
       "      <td>0.045045</td>\n",
       "      <td>0.078772</td>\n",
       "      <td>0.14821</td>\n",
       "    </tr>\n",
       "  </tbody>\n",
       "</table>\n",
       "</div>"
      ],
      "text/plain": [
       "                                                    NDCGK_10  NDCGK_20  \\\n",
       "LightGCNAlgorithm(batch_size=1024,embedding_dim...  0.021219  0.029674   \n",
       "\n",
       "                                                    NDCGK_50  RecallK_10  \\\n",
       "LightGCNAlgorithm(batch_size=1024,embedding_dim...   0.04346    0.045045   \n",
       "\n",
       "                                                    RecallK_20  RecallK_50  \\\n",
       "LightGCNAlgorithm(batch_size=1024,embedding_dim...    0.078772     0.14821   \n",
       "\n",
       "                                                     HitK_10   HitK_20  \\\n",
       "LightGCNAlgorithm(batch_size=1024,embedding_dim...  0.045045  0.078772   \n",
       "\n",
       "                                                    HitK_50  \n",
       "LightGCNAlgorithm(batch_size=1024,embedding_dim...  0.14821  "
      ]
     },
     "execution_count": 21,
     "metadata": {},
     "output_type": "execute_result"
    }
   ],
   "source": [
    "pipeline.get_metrics()"
   ]
  },
  {
   "cell_type": "code",
   "execution_count": 22,
   "id": "08d40d0c-5850-4c4d-9b7e-8a85b9c0f680",
   "metadata": {},
   "outputs": [
    {
     "data": {
      "text/html": [
       "<div>\n",
       "<style scoped>\n",
       "    .dataframe tbody tr th:only-of-type {\n",
       "        vertical-align: middle;\n",
       "    }\n",
       "\n",
       "    .dataframe tbody tr th {\n",
       "        vertical-align: top;\n",
       "    }\n",
       "\n",
       "    .dataframe thead th {\n",
       "        text-align: right;\n",
       "    }\n",
       "</style>\n",
       "<table border=\"1\" class=\"dataframe\">\n",
       "  <thead>\n",
       "    <tr style=\"text-align: right;\">\n",
       "      <th></th>\n",
       "      <th>LightGCNAlgorithm(batch_size=1024,embedding_dim=100,keep_last=False,learning_rate=0.001,max_epochs=5,max_iter_no_change=5,min_improvement=0.01,n_layers=3,predict_topK=None,reg_weight=1e-05,save_best_to_file=False,seed=2034669135,stop_early=True,stopping_criterion=&lt;recpack.algorithms.stopping_criterion.StoppingCriterion object at 0x7fc71c6c6e10&gt;,validation_sample_size=None)</th>\n",
       "    </tr>\n",
       "  </thead>\n",
       "  <tbody>\n",
       "    <tr>\n",
       "      <th>NDCGK_10</th>\n",
       "      <td>0.021219</td>\n",
       "    </tr>\n",
       "    <tr>\n",
       "      <th>NDCGK_20</th>\n",
       "      <td>0.029674</td>\n",
       "    </tr>\n",
       "    <tr>\n",
       "      <th>NDCGK_50</th>\n",
       "      <td>0.043460</td>\n",
       "    </tr>\n",
       "    <tr>\n",
       "      <th>RecallK_10</th>\n",
       "      <td>0.045045</td>\n",
       "    </tr>\n",
       "    <tr>\n",
       "      <th>RecallK_20</th>\n",
       "      <td>0.078772</td>\n",
       "    </tr>\n",
       "    <tr>\n",
       "      <th>RecallK_50</th>\n",
       "      <td>0.148210</td>\n",
       "    </tr>\n",
       "    <tr>\n",
       "      <th>HitK_10</th>\n",
       "      <td>0.045045</td>\n",
       "    </tr>\n",
       "    <tr>\n",
       "      <th>HitK_20</th>\n",
       "      <td>0.078772</td>\n",
       "    </tr>\n",
       "    <tr>\n",
       "      <th>HitK_50</th>\n",
       "      <td>0.148210</td>\n",
       "    </tr>\n",
       "  </tbody>\n",
       "</table>\n",
       "</div>"
      ],
      "text/plain": [
       "            LightGCNAlgorithm(batch_size=1024,embedding_dim=100,keep_last=False,learning_rate=0.001,max_epochs=5,max_iter_no_change=5,min_improvement=0.01,n_layers=3,predict_topK=None,reg_weight=1e-05,save_best_to_file=False,seed=2034669135,stop_early=True,stopping_criterion=<recpack.algorithms.stopping_criterion.StoppingCriterion object at 0x7fc71c6c6e10>,validation_sample_size=None)\n",
       "NDCGK_10                                             0.021219                                                                                                                                                                                                                                                                                                                                      \n",
       "NDCGK_20                                             0.029674                                                                                                                                                                                                                                                                                                                                      \n",
       "NDCGK_50                                             0.043460                                                                                                                                                                                                                                                                                                                                      \n",
       "RecallK_10                                           0.045045                                                                                                                                                                                                                                                                                                                                      \n",
       "RecallK_20                                           0.078772                                                                                                                                                                                                                                                                                                                                      \n",
       "RecallK_50                                           0.148210                                                                                                                                                                                                                                                                                                                                      \n",
       "HitK_10                                              0.045045                                                                                                                                                                                                                                                                                                                                      \n",
       "HitK_20                                              0.078772                                                                                                                                                                                                                                                                                                                                      \n",
       "HitK_50                                              0.148210                                                                                                                                                                                                                                                                                                                                      "
      ]
     },
     "execution_count": 22,
     "metadata": {},
     "output_type": "execute_result"
    }
   ],
   "source": [
    "pd.DataFrame.from_dict(pipeline.get_metrics()).T"
   ]
  },
  {
   "cell_type": "code",
   "execution_count": null,
   "id": "06eb89bb-82dc-4982-8025-327b4e25fddb",
   "metadata": {},
   "outputs": [],
   "source": []
  }
 ],
 "metadata": {
  "kernelspec": {
   "display_name": "Python 3 (ipykernel)",
   "language": "python",
   "name": "python3"
  },
  "language_info": {
   "codemirror_mode": {
    "name": "ipython",
    "version": 3
   },
   "file_extension": ".py",
   "mimetype": "text/x-python",
   "name": "python",
   "nbconvert_exporter": "python",
   "pygments_lexer": "ipython3",
   "version": "3.11.9"
  }
 },
 "nbformat": 4,
 "nbformat_minor": 5
}
