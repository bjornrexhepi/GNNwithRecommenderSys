{
 "cells": [
  {
   "cell_type": "markdown",
   "id": "43575851-3e80-490d-8369-e88fe84cf899",
   "metadata": {},
   "source": [
    "# PinSAGE with Globo Dataset and TimedLastItemPrediction Scenario"
   ]
  },
  {
   "cell_type": "markdown",
   "id": "4d308009-d4d5-486a-a59f-365688b831cc",
   "metadata": {},
   "source": [
    "In this notebook, the implementation of PinSAGE in RecPack and the experimental part to generate the results of the algorithm will be presented. \n",
    "The notebook contains:\n",
    "1. The implementation of PinSAGE in RecPack.\n",
    "2. The 10% of Globo Dataset from RecPack and the TimedLastItemPrediction Scenario has been used to split the data.\n",
    "3. The TimedLastItemPrediction Scenario to split the data.\n",
    "4. The RecPack Pipeline Builder to run the experiments, including the splitted dataset, the algorithms and metrics to run. Hyperparameter has been performed in the Pipeline.\n",
    "\n",
    "Please make sure you have installed all the latest libraries in your Python environment, in order to have a successful run of the code."
   ]
  },
  {
   "cell_type": "markdown",
   "id": "bf467ebe-5940-4991-831a-f6a6a3039ea8",
   "metadata": {},
   "source": [
    "## PinSAGE implementation in RecPack"
   ]
  },
  {
   "cell_type": "code",
   "execution_count": 3,
   "id": "5c7dc8a2-fbb5-4309-bb75-7274fd8fd280",
   "metadata": {},
   "outputs": [],
   "source": [
    "import torch\n",
    "import torch.nn as nn\n",
    "import torch.optim as optim\n",
    "from torch_sparse import SparseTensor, matmul\n",
    "from recpack.algorithms.base import TorchMLAlgorithm\n",
    "from recpack.matrix.interaction_matrix import InteractionMatrix\n",
    "from recpack.algorithms.loss_functions import bpr_loss, bpr_max_loss\n",
    "from recpack.algorithms.samplers import PositiveNegativeSampler\n",
    "from recpack.matrix.util import to_csr_matrix \n",
    "from scipy.sparse import csr_matrix, lil_matrix\n",
    "from typing import List, Optional\n",
    "import logging\n",
    "\n",
    "logger = logging.getLogger(__name__)\n",
    "\n",
    "# PinSAGEConv: A single convolutional layer for the PinSAGE model\n",
    "class PinSAGEConv(nn.Module):\n",
    "    def __init__(self, in_channels, out_channels, dropout=0.0):\n",
    "        \"\"\"\n",
    "        Initialize the PinSAGEConv layer.\n",
    "\n",
    "        Args:\n",
    "            in_channels (int): Number of input channels (dimensions of the input features).\n",
    "            out_channels (int): Number of output channels (dimensions of the output features).\n",
    "            dropout (float): Dropout rate for regularization.\n",
    "        \"\"\"\n",
    "        super(PinSAGEConv, self).__init__()\n",
    "        self.in_channels = in_channels\n",
    "        self.out_channels = out_channels\n",
    "        self.dropout = dropout\n",
    "\n",
    "        # Define a linear transformation and a dropout layer\n",
    "        self.linear = nn.Linear(in_channels, out_channels)\n",
    "        self.dropout_layer = nn.Dropout(dropout)\n",
    "        self.reset_parameters()\n",
    "\n",
    "    def reset_parameters(self):\n",
    "        \"\"\"\n",
    "        Initialize the parameters of the layer using Xavier uniform initialization.\n",
    "        \"\"\"\n",
    "        nn.init.xavier_uniform_(self.linear.weight)\n",
    "        if self.linear.bias is not None:\n",
    "            nn.init.zeros_(self.linear.bias)\n",
    "\n",
    "    def forward(self, x, graph):\n",
    "        \"\"\"\n",
    "        Forward pass for the PinSAGEConv layer.\n",
    "\n",
    "        Args:\n",
    "            x (torch.Tensor): Input feature matrix.\n",
    "            graph (SparseTensor): Sparse adjacency matrix representing the graph.\n",
    "\n",
    "        Returns:\n",
    "            torch.Tensor: Output features after convolution and activation.\n",
    "        \"\"\"\n",
    "        try:\n",
    "            out = matmul(graph, x)  # Perform graph convolution\n",
    "        except RuntimeError as e:\n",
    "            # Log the error and return the input unchanged if the operation fails\n",
    "            # logger.error(f\"matmul failed with error: {e}\")\n",
    "            return x  \n",
    "        out = self.linear(out)\n",
    "        out = torch.relu(out)\n",
    "        out = self.dropout_layer(out)\n",
    "        \n",
    "        return out\n",
    "\n",
    "# PinSAGE: A model implementation based on the PinSAGE algorithm\n",
    "class PinSAGE(nn.Module):\n",
    "    def __init__(self, num_users, num_items, embedding_dim=64, n_layers=2, dropout=0.0):\n",
    "        \"\"\"\n",
    "        Initialize the PinSAGE model.\n",
    "\n",
    "        Args:\n",
    "            num_users (int): Number of users.\n",
    "            num_items (int): Number of items.\n",
    "            embedding_dim (int): Dimension of the embedding vectors.\n",
    "            n_layers (int): Number of PinSAGEConv layers.\n",
    "            dropout (float): Dropout rate for regularization.\n",
    "        \"\"\"\n",
    "        super(PinSAGE, self).__init__()\n",
    "        self.num_users = num_users\n",
    "        self.num_items = num_items\n",
    "        self.embedding_dim = embedding_dim\n",
    "        self.n_layers = n_layers\n",
    "        self.dropout = dropout\n",
    "\n",
    "        # Initialize user and item embeddings\n",
    "        self.user_embedding = nn.Embedding(num_users, embedding_dim)\n",
    "        self.item_embedding = nn.Embedding(num_items, embedding_dim)\n",
    "        \n",
    "        # Create a list of PinSAGEConv layers\n",
    "        self.convs = nn.ModuleList([\n",
    "            PinSAGEConv(embedding_dim, embedding_dim, dropout) for _ in range(n_layers)\n",
    "        ])\n",
    "        \n",
    "        # Final linear layers for users and items\n",
    "        self.user_final_linear = nn.Linear(embedding_dim, embedding_dim)\n",
    "        self.item_final_linear = nn.Linear(embedding_dim, embedding_dim)\n",
    "        self.reset_parameters()\n",
    "\n",
    "    def reset_parameters(self):\n",
    "        \"\"\"\n",
    "        Initialize the parameters of the model using Xavier uniform initialization.\n",
    "        \"\"\"\n",
    "        nn.init.xavier_uniform_(self.user_embedding.weight)\n",
    "        nn.init.xavier_uniform_(self.item_embedding.weight)\n",
    "        nn.init.xavier_uniform_(self.user_final_linear.weight)\n",
    "        nn.init.xavier_uniform_(self.item_final_linear.weight)\n",
    "\n",
    "    def forward(self, graph):\n",
    "        \"\"\"\n",
    "        Forward pass for the PinSAGE model.\n",
    "\n",
    "        Args:\n",
    "            graph (SparseTensor): Sparse adjacency matrix representing the graph.\n",
    "\n",
    "        Returns:\n",
    "            Tuple[torch.Tensor, torch.Tensor]: Final user and item embeddings.\n",
    "        \"\"\"\n",
    "        user_emb = self.user_embedding.weight\n",
    "        item_emb = self.item_embedding.weight\n",
    "        \n",
    "        # Concatenate user and item embeddings\n",
    "        all_emb = torch.cat([user_emb, item_emb], dim=0)\n",
    "        embs = [all_emb]\n",
    "\n",
    "        # Pass through each PinSAGEConv layer\n",
    "        for conv in self.convs:\n",
    "            all_emb = conv(all_emb, graph)\n",
    "            embs.append(all_emb)\n",
    "\n",
    "        # Compute the final embeddings by averaging the embeddings across layers\n",
    "        final_embedding = torch.mean(torch.stack(embs, dim=1), dim=1)\n",
    "        user_emb_final, item_emb_final = torch.split(final_embedding, [self.num_users, self.num_items])\n",
    "        \n",
    "        # Separate final transformations for users and items\n",
    "        final_user_emb = torch.relu(self.user_final_linear(user_emb_final))\n",
    "        final_item_emb = torch.relu(self.item_final_linear(item_emb_final))\n",
    "\n",
    "        # Normalize final embeddings\n",
    "        final_user_emb = final_user_emb / torch.norm(final_user_emb, p=2, dim=1, keepdim=True)\n",
    "        final_item_emb = final_item_emb / torch.norm(final_item_emb, p=2, dim=1, keepdim=True)\n",
    "\n",
    "        return final_user_emb, final_item_emb"
   ]
  },
  {
   "cell_type": "code",
   "execution_count": 4,
   "id": "383f2777-5652-4d39-a111-9f8f71865f24",
   "metadata": {},
   "outputs": [],
   "source": [
    "from recpack.algorithms.base import TorchMLAlgorithm\n",
    "from recpack.matrix import Matrix\n",
    "from recpack.matrix.interaction_matrix import InteractionMatrix\n",
    "from recpack.algorithms.loss_functions import bpr_loss\n",
    "from recpack.algorithms.samplers import PositiveNegativeSampler\n",
    "from recpack.algorithms.stopping_criterion import (\n",
    "    EarlyStoppingException,\n",
    "    StoppingCriterion,\n",
    ")\n",
    "from typing import List, Tuple, Optional\n",
    "import numpy as np\n",
    "from scipy.sparse import csr_matrix, lil_matrix, coo_matrix\n",
    "import torch\n",
    "import torch.optim as optim\n",
    "import tempfile\n",
    "import time\n",
    "import logging\n",
    "\n",
    "logger = logging.getLogger(__name__)\n",
    "\n",
    "# PinSAGEAlgorithm: An implementation of the PinSAGE algorithm using TorchMLAlgorithm as a base class\n",
    "class PinSAGEAlgorithm(TorchMLAlgorithm):\n",
    "    def __init__(\n",
    "        self,\n",
    "        batch_size: int = 256,\n",
    "        max_epochs: int = 100,\n",
    "        learning_rate: float = 0.001,\n",
    "        embedding_dim: int = 64,\n",
    "        n_layers: int = 3,\n",
    "        dropout: float = 0.1,\n",
    "        stopping_criterion: str = \"bpr\",\n",
    "        stop_early: bool = True,\n",
    "        max_iter_no_change: int = 5,\n",
    "        min_improvement: float = 0.01,\n",
    "        seed: Optional[int] = None,\n",
    "        save_best_to_file: bool = False,\n",
    "        keep_last: bool = False,\n",
    "        predict_topK: Optional[int] = None,\n",
    "        validation_sample_size: Optional[int] = None,\n",
    "        grad_clip: float = 1.0,  # Gradient clipping value\n",
    "    ):\n",
    "        \"\"\"\n",
    "        Initialize the PinSAGEAlgorithm with various hyperparameters.\n",
    "\n",
    "        Args:\n",
    "            batch_size (int): Number of samples per batch.\n",
    "            max_epochs (int): Maximum number of training epochs.\n",
    "            learning_rate (float): Learning rate for the optimizer.\n",
    "            embedding_dim (int): Dimension of the embedding vectors.\n",
    "            n_layers (int): Number of PinSAGEConv layers.\n",
    "            dropout (float): Dropout rate for regularization.\n",
    "            stopping_criterion (str): Criterion to stop training early.\n",
    "            stop_early (bool): Whether to enable early stopping.\n",
    "            max_iter_no_change (int): Maximum iterations with no improvement for early stopping.\n",
    "            min_improvement (float): Minimum improvement required for early stopping.\n",
    "            seed (Optional[int]): Random seed for reproducibility.\n",
    "            save_best_to_file (bool): Whether to save the best model to a file.\n",
    "            keep_last (bool): Whether to keep the last model.\n",
    "            predict_topK (Optional[int]): Number of top-K predictions to consider.\n",
    "            validation_sample_size (Optional[int]): Size of the validation sample.\n",
    "            grad_clip (float): Maximum gradient norm for clipping.\n",
    "        \"\"\"\n",
    "        self.embedding_dim = embedding_dim\n",
    "        self.n_layers = n_layers\n",
    "        self.dropout = dropout\n",
    "        self.grad_clip = grad_clip\n",
    "        super().__init__(\n",
    "            batch_size=batch_size,\n",
    "            max_epochs=max_epochs,\n",
    "            learning_rate=learning_rate,\n",
    "            stopping_criterion=stopping_criterion,\n",
    "            stop_early=stop_early,\n",
    "            max_iter_no_change=max_iter_no_change,\n",
    "            min_improvement=min_improvement,\n",
    "            seed=seed,\n",
    "            save_best_to_file=save_best_to_file,\n",
    "            keep_last=keep_last,\n",
    "            predict_topK=predict_topK,\n",
    "            validation_sample_size=validation_sample_size,\n",
    "        )\n",
    "        self.device = torch.device('cuda' if torch.cuda.is_available() else 'cpu')\n",
    "\n",
    "    def _init_model(self, train: InteractionMatrix) -> None:\n",
    "        \"\"\"\n",
    "        Initialize the PinSAGE model and optimizer.\n",
    "\n",
    "        Args:\n",
    "            train (InteractionMatrix): The training interaction matrix.\n",
    "        \"\"\"\n",
    "        num_users, num_items = train.shape\n",
    "        self.model_ = PinSAGE(num_users, num_items, self.embedding_dim, self.n_layers, self.dropout).to(self.device)\n",
    "        self.optimizer = optim.Adam(self.model_.parameters(), lr=self.learning_rate)\n",
    "\n",
    "    def _create_sparse_graph(self, interaction_matrix: csr_matrix, num_users: int, num_items: int) -> SparseTensor:\n",
    "        \"\"\"\n",
    "        Create a sparse graph from the interaction matrix.\n",
    "\n",
    "        Args:\n",
    "            interaction_matrix (csr_matrix): The interaction matrix in CSR format.\n",
    "            num_users (int): Number of users.\n",
    "            num_items (int): Number of items.\n",
    "\n",
    "        Returns:\n",
    "            SparseTensor: A sparse tensor representing the graph.\n",
    "        \"\"\"\n",
    "        coo = interaction_matrix.tocoo()\n",
    "        row = torch.tensor(coo.row, dtype=torch.long)\n",
    "        col = torch.tensor(coo.col, dtype=torch.long)\n",
    "        value = torch.tensor(coo.data, dtype=torch.float32)\n",
    "        shape = (num_users + num_items, num_users + num_items)\n",
    "        graph = SparseTensor(row=row, col=col, value=value, sparse_sizes=shape).to(self.device)\n",
    "        return graph\n",
    "\n",
    "    def _train_epoch(self, train: InteractionMatrix) -> List[float]:\n",
    "        \"\"\"\n",
    "        Train the model for one epoch.\n",
    "\n",
    "        Args:\n",
    "            train (InteractionMatrix): The training interaction matrix.\n",
    "\n",
    "        Returns:\n",
    "            List[float]: A list of losses for each batch.\n",
    "        \"\"\"\n",
    "        self.model_.train()\n",
    "        interaction_matrix = train  # Get the sparse matrix directly\n",
    "        graph = self._create_sparse_graph(interaction_matrix, train.shape[0], train.shape[1])\n",
    "        total_loss = 0\n",
    "        losses = []\n",
    "\n",
    "        sampler = PositiveNegativeSampler(num_negatives=1, batch_size=self.batch_size)\n",
    "\n",
    "        # Iterate over samples generated by the PositiveNegativeSampler\n",
    "        for user_indices, pos_item_indices, neg_item_indices in sampler.sample(interaction_matrix):\n",
    "            user_indices = torch.tensor(user_indices).to(self.device)\n",
    "            pos_item_indices = torch.tensor(pos_item_indices).to(self.device)\n",
    "            neg_item_indices = torch.tensor(neg_item_indices).to(self.device).squeeze()\n",
    "\n",
    "            self.optimizer.zero_grad()\n",
    "            user_emb_final, item_emb_final = self.model_(graph)  # Call model only once\n",
    "            pos_scores = user_emb_final[user_indices] @ item_emb_final[pos_item_indices].t()\n",
    "            neg_scores = user_emb_final[user_indices] @ item_emb_final[neg_item_indices].t()\n",
    "\n",
    "            loss = bpr_loss(pos_scores, neg_scores)\n",
    "\n",
    "            if torch.isnan(loss).any() or torch.isinf(loss).any():\n",
    "                continue\n",
    "\n",
    "            loss.backward()\n",
    "            torch.nn.utils.clip_grad_norm_(self.model_.parameters(), max_norm=self.grad_clip)  # Gradient clipping\n",
    "            self.optimizer.step()\n",
    "\n",
    "            total_loss += loss.item()\n",
    "            losses.append(loss.item())\n",
    "\n",
    "        if len(losses) == 0:\n",
    "            return [float('nan')]\n",
    "\n",
    "        return losses\n",
    "\n",
    "    def _batch_predict(self, X: InteractionMatrix, users: List[int]) -> csr_matrix:\n",
    "        \"\"\"\n",
    "        Make batch predictions for a list of users.\n",
    "\n",
    "        Args:\n",
    "            X (InteractionMatrix): The interaction matrix.\n",
    "            users (List[int]): List of user indices to make predictions for.\n",
    "\n",
    "        Returns:\n",
    "            csr_matrix: A sparse matrix with the prediction scores.\n",
    "        \"\"\"\n",
    "        self.model_.eval()\n",
    "        graph = self._create_sparse_graph(X, X.shape[0], X.shape[1])\n",
    "        user_indices = torch.tensor(users).to(self.device)\n",
    "        item_indices = torch.arange(X.shape[1]).to(self.device)\n",
    "        \n",
    "        with torch.no_grad():\n",
    "            user_emb_final, item_emb_final = self.model_(graph)\n",
    "            scores = user_emb_final[user_indices] @ item_emb_final.t()\n",
    "            scores = scores.cpu().numpy()\n",
    "        \n",
    "        result = lil_matrix((X.shape[0], X.shape[1]))\n",
    "        for i, user in enumerate(users):\n",
    "            result[user] = scores[i]\n",
    "        \n",
    "        return result.tocsr()"
   ]
  },
  {
   "cell_type": "code",
   "execution_count": 7,
   "id": "e87fd90c-f8ae-4fcc-a455-90fb8f2335c2",
   "metadata": {},
   "outputs": [],
   "source": [
    "from recpack.datasets import Netflix, DummyDataset\n",
    "from recpack.pipelines import PipelineBuilder\n",
    "from recpack.scenarios import StrongGeneralization, TimedLastItemPrediction\n",
    "from recpack.pipelines import ALGORITHM_REGISTRY\n",
    "import pandas as pd"
   ]
  },
  {
   "cell_type": "code",
   "execution_count": 6,
   "id": "03a047ff-a58e-4ffb-bb09-247622834b08",
   "metadata": {},
   "outputs": [],
   "source": [
    "ALGORITHM_REGISTRY.register(\"PinSAGEAlgorithm2\", PinSAGEAlgorithm)"
   ]
  },
  {
   "cell_type": "markdown",
   "id": "a31c60cb-1c33-4384-bd61-288fba0a3535",
   "metadata": {},
   "source": [
    "## RecPack Dataset Importing"
   ]
  },
  {
   "cell_type": "code",
   "execution_count": 8,
   "id": "288305e2-e570-4286-8468-c902e9d7ca25",
   "metadata": {},
   "outputs": [],
   "source": [
    "from recpack.datasets import Globo\n",
    "dataset = Globo(path=\"\", filename=\"archive.zip\")"
   ]
  },
  {
   "cell_type": "code",
   "execution_count": 9,
   "id": "9c73499f-1c14-4241-a0bd-e3412b4efd34",
   "metadata": {},
   "outputs": [],
   "source": [
    "dataset.fetch_dataset()"
   ]
  },
  {
   "cell_type": "code",
   "execution_count": 10,
   "id": "25bb2d15-0f4f-4142-8d5d-e06a6ea3c024",
   "metadata": {},
   "outputs": [
    {
     "data": {
      "text/plain": [
       "<recpack.datasets.globo.Globo at 0x7f06943838d0>"
      ]
     },
     "execution_count": 10,
     "metadata": {},
     "output_type": "execute_result"
    }
   ],
   "source": [
    "dataset"
   ]
  },
  {
   "cell_type": "code",
   "execution_count": null,
   "id": "a290f199-0a3d-4c2b-bc30-c82b5254ab34",
   "metadata": {},
   "outputs": [],
   "source": [
    "df = dataset._load_dataframe()"
   ]
  },
  {
   "cell_type": "markdown",
   "id": "5e4eef56-e9ff-4dfe-8c6b-27ab088b5ef4",
   "metadata": {},
   "source": [
    "## Datasets with Timestamps sampling"
   ]
  },
  {
   "cell_type": "code",
   "execution_count": 12,
   "id": "66ac1379-2266-4bec-b6d3-9cf22c1aaedf",
   "metadata": {},
   "outputs": [],
   "source": [
    "timestamp_counts = df['click_timestamp'].value_counts().sort_index(ascending=False)\n",
    "cumulative_counts = timestamp_counts.cumsum()\n",
    "total_counts = cumulative_counts.max()\n",
    "threshold_count = total_counts * 0.1\n",
    "threshold_timestamp = cumulative_counts[cumulative_counts >= threshold_count].index[0]"
   ]
  },
  {
   "cell_type": "code",
   "execution_count": 13,
   "id": "a8b54ee9-8024-4d18-89c8-7858f45d7906",
   "metadata": {},
   "outputs": [],
   "source": [
    "filtered_df = df[df['click_timestamp'] >= threshold_timestamp]"
   ]
  },
  {
   "cell_type": "code",
   "execution_count": 12,
   "id": "877cfa8a-c9d3-4436-8a74-5009b026f266",
   "metadata": {},
   "outputs": [
    {
     "data": {
      "text/html": [
       "<div>\n",
       "<style scoped>\n",
       "    .dataframe tbody tr th:only-of-type {\n",
       "        vertical-align: middle;\n",
       "    }\n",
       "\n",
       "    .dataframe tbody tr th {\n",
       "        vertical-align: top;\n",
       "    }\n",
       "\n",
       "    .dataframe thead th {\n",
       "        text-align: right;\n",
       "    }\n",
       "</style>\n",
       "<table border=\"1\" class=\"dataframe\">\n",
       "  <thead>\n",
       "    <tr style=\"text-align: right;\">\n",
       "      <th></th>\n",
       "      <th>user_id</th>\n",
       "      <th>click_article_id</th>\n",
       "      <th>click_timestamp</th>\n",
       "    </tr>\n",
       "  </thead>\n",
       "  <tbody>\n",
       "    <tr>\n",
       "      <th>0</th>\n",
       "      <td>0</td>\n",
       "      <td>157541</td>\n",
       "      <td>1.506827e+09</td>\n",
       "    </tr>\n",
       "    <tr>\n",
       "      <th>1</th>\n",
       "      <td>0</td>\n",
       "      <td>68866</td>\n",
       "      <td>1.506827e+09</td>\n",
       "    </tr>\n",
       "    <tr>\n",
       "      <th>2</th>\n",
       "      <td>1</td>\n",
       "      <td>235840</td>\n",
       "      <td>1.506827e+09</td>\n",
       "    </tr>\n",
       "    <tr>\n",
       "      <th>3</th>\n",
       "      <td>1</td>\n",
       "      <td>96663</td>\n",
       "      <td>1.506827e+09</td>\n",
       "    </tr>\n",
       "    <tr>\n",
       "      <th>4</th>\n",
       "      <td>2</td>\n",
       "      <td>119592</td>\n",
       "      <td>1.506827e+09</td>\n",
       "    </tr>\n",
       "    <tr>\n",
       "      <th>...</th>\n",
       "      <td>...</td>\n",
       "      <td>...</td>\n",
       "      <td>...</td>\n",
       "    </tr>\n",
       "    <tr>\n",
       "      <th>2564</th>\n",
       "      <td>10051</td>\n",
       "      <td>84911</td>\n",
       "      <td>1.508212e+09</td>\n",
       "    </tr>\n",
       "    <tr>\n",
       "      <th>2565</th>\n",
       "      <td>322896</td>\n",
       "      <td>30760</td>\n",
       "      <td>1.508212e+09</td>\n",
       "    </tr>\n",
       "    <tr>\n",
       "      <th>2566</th>\n",
       "      <td>322896</td>\n",
       "      <td>157507</td>\n",
       "      <td>1.508212e+09</td>\n",
       "    </tr>\n",
       "    <tr>\n",
       "      <th>2567</th>\n",
       "      <td>123718</td>\n",
       "      <td>234481</td>\n",
       "      <td>1.508212e+09</td>\n",
       "    </tr>\n",
       "    <tr>\n",
       "      <th>2568</th>\n",
       "      <td>123718</td>\n",
       "      <td>233578</td>\n",
       "      <td>1.508212e+09</td>\n",
       "    </tr>\n",
       "  </tbody>\n",
       "</table>\n",
       "<p>2988181 rows × 3 columns</p>\n",
       "</div>"
      ],
      "text/plain": [
       "      user_id  click_article_id  click_timestamp\n",
       "0           0            157541     1.506827e+09\n",
       "1           0             68866     1.506827e+09\n",
       "2           1            235840     1.506827e+09\n",
       "3           1             96663     1.506827e+09\n",
       "4           2            119592     1.506827e+09\n",
       "...       ...               ...              ...\n",
       "2564    10051             84911     1.508212e+09\n",
       "2565   322896             30760     1.508212e+09\n",
       "2566   322896            157507     1.508212e+09\n",
       "2567   123718            234481     1.508212e+09\n",
       "2568   123718            233578     1.508212e+09\n",
       "\n",
       "[2988181 rows x 3 columns]"
      ]
     },
     "execution_count": 12,
     "metadata": {},
     "output_type": "execute_result"
    }
   ],
   "source": [
    "df"
   ]
  },
  {
   "cell_type": "code",
   "execution_count": 13,
   "id": "75315c82-bb45-4090-8d92-87e16d42f204",
   "metadata": {},
   "outputs": [
    {
     "data": {
      "text/html": [
       "<div>\n",
       "<style scoped>\n",
       "    .dataframe tbody tr th:only-of-type {\n",
       "        vertical-align: middle;\n",
       "    }\n",
       "\n",
       "    .dataframe tbody tr th {\n",
       "        vertical-align: top;\n",
       "    }\n",
       "\n",
       "    .dataframe thead th {\n",
       "        text-align: right;\n",
       "    }\n",
       "</style>\n",
       "<table border=\"1\" class=\"dataframe\">\n",
       "  <thead>\n",
       "    <tr style=\"text-align: right;\">\n",
       "      <th></th>\n",
       "      <th>user_id</th>\n",
       "      <th>click_article_id</th>\n",
       "      <th>click_timestamp</th>\n",
       "    </tr>\n",
       "  </thead>\n",
       "  <tbody>\n",
       "    <tr>\n",
       "      <th>4289</th>\n",
       "      <td>22712</td>\n",
       "      <td>158772</td>\n",
       "      <td>1.508196e+09</td>\n",
       "    </tr>\n",
       "    <tr>\n",
       "      <th>4290</th>\n",
       "      <td>22712</td>\n",
       "      <td>284638</td>\n",
       "      <td>1.508633e+09</td>\n",
       "    </tr>\n",
       "    <tr>\n",
       "      <th>4291</th>\n",
       "      <td>22712</td>\n",
       "      <td>95633</td>\n",
       "      <td>1.508678e+09</td>\n",
       "    </tr>\n",
       "    <tr>\n",
       "      <th>4292</th>\n",
       "      <td>22712</td>\n",
       "      <td>95524</td>\n",
       "      <td>1.508679e+09</td>\n",
       "    </tr>\n",
       "    <tr>\n",
       "      <th>4293</th>\n",
       "      <td>22712</td>\n",
       "      <td>184427</td>\n",
       "      <td>1.508679e+09</td>\n",
       "    </tr>\n",
       "    <tr>\n",
       "      <th>...</th>\n",
       "      <td>...</td>\n",
       "      <td>...</td>\n",
       "      <td>...</td>\n",
       "    </tr>\n",
       "    <tr>\n",
       "      <th>2564</th>\n",
       "      <td>10051</td>\n",
       "      <td>84911</td>\n",
       "      <td>1.508212e+09</td>\n",
       "    </tr>\n",
       "    <tr>\n",
       "      <th>2565</th>\n",
       "      <td>322896</td>\n",
       "      <td>30760</td>\n",
       "      <td>1.508212e+09</td>\n",
       "    </tr>\n",
       "    <tr>\n",
       "      <th>2566</th>\n",
       "      <td>322896</td>\n",
       "      <td>157507</td>\n",
       "      <td>1.508212e+09</td>\n",
       "    </tr>\n",
       "    <tr>\n",
       "      <th>2567</th>\n",
       "      <td>123718</td>\n",
       "      <td>234481</td>\n",
       "      <td>1.508212e+09</td>\n",
       "    </tr>\n",
       "    <tr>\n",
       "      <th>2568</th>\n",
       "      <td>123718</td>\n",
       "      <td>233578</td>\n",
       "      <td>1.508212e+09</td>\n",
       "    </tr>\n",
       "  </tbody>\n",
       "</table>\n",
       "<p>298819 rows × 3 columns</p>\n",
       "</div>"
      ],
      "text/plain": [
       "      user_id  click_article_id  click_timestamp\n",
       "4289    22712            158772     1.508196e+09\n",
       "4290    22712            284638     1.508633e+09\n",
       "4291    22712             95633     1.508678e+09\n",
       "4292    22712             95524     1.508679e+09\n",
       "4293    22712            184427     1.508679e+09\n",
       "...       ...               ...              ...\n",
       "2564    10051             84911     1.508212e+09\n",
       "2565   322896             30760     1.508212e+09\n",
       "2566   322896            157507     1.508212e+09\n",
       "2567   123718            234481     1.508212e+09\n",
       "2568   123718            233578     1.508212e+09\n",
       "\n",
       "[298819 rows x 3 columns]"
      ]
     },
     "execution_count": 13,
     "metadata": {},
     "output_type": "execute_result"
    }
   ],
   "source": [
    "filtered_df"
   ]
  },
  {
   "cell_type": "markdown",
   "id": "f9de5747-6ad7-4e69-a197-6bbf190dae9a",
   "metadata": {},
   "source": [
    "## Dataset Preprocessing to Interaction Matrix"
   ]
  },
  {
   "cell_type": "code",
   "execution_count": 14,
   "id": "b1803c48-66d4-4256-8fbe-89bc65fa85ce",
   "metadata": {},
   "outputs": [
    {
     "data": {
      "application/vnd.jupyter.widget-view+json": {
       "model_id": "1253bbb48a5d486aa5392ad04af2d1ac",
       "version_major": 2,
       "version_minor": 0
      },
      "text/plain": [
       "  0%|          | 0/298819 [00:00<?, ?it/s]"
      ]
     },
     "metadata": {},
     "output_type": "display_data"
    },
    {
     "data": {
      "application/vnd.jupyter.widget-view+json": {
       "model_id": "daa16cdafb71462f9629256bbc17fb73",
       "version_major": 2,
       "version_minor": 0
      },
      "text/plain": [
       "  0%|          | 0/298819 [00:00<?, ?it/s]"
      ]
     },
     "metadata": {},
     "output_type": "display_data"
    }
   ],
   "source": [
    "from recpack.matrix import InteractionMatrix\n",
    "from recpack.preprocessing.preprocessors import DataFramePreprocessor\n",
    "\n",
    "item_ix = 'click_article_id'\n",
    "user_ix = 'user_id'\n",
    "timestamp_ix = 'click_timestamp'\n",
    "\n",
    "preprocessor = DataFramePreprocessor(item_ix=item_ix, user_ix=user_ix, timestamp_ix=timestamp_ix)\n",
    "\n",
    "interaction_matrix = preprocessor.process(filtered_df)"
   ]
  },
  {
   "cell_type": "markdown",
   "id": "0a90b9cb-eb8f-4b7e-840b-4bc7abdeff07",
   "metadata": {},
   "source": [
    "## TimedLastItemPrediction Scenario Splitting of Data"
   ]
  },
  {
   "cell_type": "code",
   "execution_count": 15,
   "id": "cc08b310-c4d1-4088-bbfc-779c17479b1f",
   "metadata": {},
   "outputs": [
    {
     "name": "stdout",
     "output_type": "stream",
     "text": [
      "1508211543.583\n"
     ]
    }
   ],
   "source": [
    "t_10 = interaction_matrix.timestamps.values[int(0.999999 * len(interaction_matrix.timestamps.values))]\n",
    "print(t_10)"
   ]
  },
  {
   "cell_type": "code",
   "execution_count": 16,
   "id": "73d22b62-213c-4ac4-9346-70414e7c39db",
   "metadata": {},
   "outputs": [
    {
     "data": {
      "text/plain": [
       "(array([11938.,  7274., 16795., 28974., 36216.,  8309., 45476., 66211.,\n",
       "        47655., 28017.]),\n",
       " array([1.50802851e+09, 1.50804682e+09, 1.50806512e+09, 1.50808342e+09,\n",
       "        1.50810173e+09, 1.50812003e+09, 1.50813833e+09, 1.50815663e+09,\n",
       "        1.50817494e+09, 1.50819324e+09, 1.50821154e+09]),\n",
       " <BarContainer object of 10 artists>)"
      ]
     },
     "execution_count": 16,
     "metadata": {},
     "output_type": "execute_result"
    },
    {
     "data": {
      "image/png": "[encoded data removed]",
      "text/plain": [
       "<Figure size 640x480 with 1 Axes>"
      ]
     },
     "metadata": {},
     "output_type": "display_data"
    }
   ],
   "source": [
    "import matplotlib.pyplot as plt\n",
    "plt.hist(interaction_matrix.timestamps_lte(t_10).timestamps.values)"
   ]
  },
  {
   "cell_type": "code",
   "execution_count": 17,
   "id": "281127d4-783f-4c4c-9936-a65662d8be0e",
   "metadata": {},
   "outputs": [
    {
     "name": "stdout",
     "output_type": "stream",
     "text": [
      "1508184661.438 1508164951.091\n"
     ]
    }
   ],
   "source": [
    "interaction_matrix.timestamps.values\n",
    "t_80 = interaction_matrix.timestamps.values[int(0.8 * len(interaction_matrix.timestamps.values))]\n",
    "t_validate_80 = interaction_matrix.timestamps.values[int(0.8 * 0.8 * len(interaction_matrix.timestamps.values))]\n",
    "print(t_80, t_validate_80)"
   ]
  },
  {
   "cell_type": "code",
   "execution_count": null,
   "id": "aa72bb09-e745-4c5f-b4b3-88785f8a96b1",
   "metadata": {},
   "outputs": [],
   "source": [
    "scenario = TimedLastItemPrediction(t = t_80, t_validation = t_validate_80, validation=True)\n",
    "scenario.split(interaction_matrix)"
   ]
  },
  {
   "cell_type": "markdown",
   "id": "877b3c31-2ff9-4d61-b2fa-691434571364",
   "metadata": {},
   "source": [
    "## Experimental RecPack Pipeline"
   ]
  },
  {
   "cell_type": "code",
   "execution_count": 19,
   "id": "40f6a5b5-4f21-49ee-a96e-f7e375031134",
   "metadata": {},
   "outputs": [
    {
     "name": "stderr",
     "output_type": "stream",
     "text": [
      "/opt/conda/lib/python3.11/site-packages/recpack/pipelines/pipeline_builder.py:145: UserWarning: Grid parameter for add_algorithm function will be deprecated in favour of optimisation_info.\n",
      "  warnings.warn(\n"
     ]
    },
    {
     "data": {
      "application/vnd.jupyter.widget-view+json": {
       "model_id": "bf30d5869e6f492892938eefc0d07e1d",
       "version_major": 2,
       "version_minor": 0
      },
      "text/plain": [
       "  0%|          | 0/1 [00:00<?, ?it/s]"
      ]
     },
     "metadata": {},
     "output_type": "display_data"
    },
    {
     "name": "stderr",
     "output_type": "stream",
     "text": [
      "/tmp/ipykernel_12380/2405251189.py:85: UserWarning: To copy construct from a tensor, it is recommended to use sourceTensor.clone().detach() or sourceTensor.clone().detach().requires_grad_(True), rather than torch.tensor(sourceTensor).\n",
      "  user_indices = torch.tensor(user_indices).to(self.device)\n",
      "/tmp/ipykernel_12380/2405251189.py:86: UserWarning: To copy construct from a tensor, it is recommended to use sourceTensor.clone().detach() or sourceTensor.clone().detach().requires_grad_(True), rather than torch.tensor(sourceTensor).\n",
      "  pos_item_indices = torch.tensor(pos_item_indices).to(self.device)\n",
      "/tmp/ipykernel_12380/2405251189.py:87: UserWarning: To copy construct from a tensor, it is recommended to use sourceTensor.clone().detach() or sourceTensor.clone().detach().requires_grad_(True), rather than torch.tensor(sourceTensor).\n",
      "  neg_item_indices = torch.tensor(neg_item_indices).to(self.device).squeeze()\n"
     ]
    },
    {
     "name": "stdout",
     "output_type": "stream",
     "text": [
      "2024-08-06 06:41:49,695 - base - recpack - INFO - Processed epoch 0 in 5.36 s.Batch Training Loss = 0.3828\n",
      "2024-08-06 06:42:55,286 - stopping_criterion - recpack - INFO - StoppingCriterion has value 0.48325554580506336, which is better than previous iterations.\n",
      "2024-08-06 06:42:55,287 - base - recpack - INFO - Model improved. Storing better model.\n",
      "2024-08-06 06:42:55,372 - base - recpack - INFO - Evaluation at end of 0 took 65.67 s.\n",
      "2024-08-06 06:42:59,485 - base - recpack - INFO - Processed epoch 1 in 4.11 s.Batch Training Loss = 0.3766\n",
      "2024-08-06 06:44:03,808 - stopping_criterion - recpack - INFO - StoppingCriterion has value 0.49125993821872704, which is worse than previous iterations.\n",
      "2024-08-06 06:44:03,818 - base - recpack - INFO - Evaluation at end of 1 took 64.33 s.\n",
      "2024-08-06 06:44:07,911 - base - recpack - INFO - Processed epoch 2 in 4.09 s.Batch Training Loss = 0.3766\n",
      "2024-08-06 06:45:12,093 - stopping_criterion - recpack - INFO - StoppingCriterion has value 0.48913905931439233, which is worse than previous iterations.\n",
      "2024-08-06 06:45:12,095 - base - recpack - INFO - Evaluation at end of 2 took 64.18 s.\n",
      "2024-08-06 06:45:16,263 - base - recpack - INFO - Processed epoch 3 in 4.17 s.Batch Training Loss = 0.3753\n",
      "2024-08-06 06:46:20,338 - stopping_criterion - recpack - INFO - StoppingCriterion has value 0.4874891742073508, which is worse than previous iterations.\n",
      "2024-08-06 06:46:20,341 - base - recpack - INFO - Evaluation at end of 3 took 64.08 s.\n",
      "2024-08-06 06:46:24,372 - base - recpack - INFO - Processed epoch 4 in 4.03 s.Batch Training Loss = 0.3764\n",
      "2024-08-06 06:47:28,399 - stopping_criterion - recpack - INFO - StoppingCriterion has value 0.4895552124140595, which is worse than previous iterations.\n",
      "2024-08-06 06:47:28,409 - base - recpack - INFO - Evaluation at end of 4 took 64.03 s.\n",
      "2024-08-06 06:47:28,456 - base - recpack - INFO - Fitting PinSAGEAlgorithm complete - Took 3.47e+02s\n"
     ]
    },
    {
     "name": "stderr",
     "output_type": "stream",
     "text": [
      "/opt/conda/lib/python3.11/site-packages/recpack/algorithms/base.py:509: FutureWarning: You are using `torch.load` with `weights_only=False` (the current default value), which uses the default pickle module implicitly. It is possible to construct malicious pickle data which will execute arbitrary code during unpickling (See https://github.com/pytorch/pytorch/blob/main/SECURITY.md#untrusted-models for more details). In a future release, the default value for `weights_only` will be flipped to `True`. This limits the functions that could be executed during unpickling. Arbitrary objects will no longer be allowed to be loaded via this mode unless they are explicitly allowlisted by the user via `torch.serialization.add_safe_globals`. We recommend you start setting `weights_only=True` for any use case where you don't have full control of the loaded file. Please open an issue on GitHub for any issues related to this experimental feature.\n",
      "  self.model_ = torch.load(self.best_model)\n",
      "/tmp/ipykernel_12380/2405251189.py:85: UserWarning: To copy construct from a tensor, it is recommended to use sourceTensor.clone().detach() or sourceTensor.clone().detach().requires_grad_(True), rather than torch.tensor(sourceTensor).\n",
      "  user_indices = torch.tensor(user_indices).to(self.device)\n",
      "/tmp/ipykernel_12380/2405251189.py:86: UserWarning: To copy construct from a tensor, it is recommended to use sourceTensor.clone().detach() or sourceTensor.clone().detach().requires_grad_(True), rather than torch.tensor(sourceTensor).\n",
      "  pos_item_indices = torch.tensor(pos_item_indices).to(self.device)\n",
      "/tmp/ipykernel_12380/2405251189.py:87: UserWarning: To copy construct from a tensor, it is recommended to use sourceTensor.clone().detach() or sourceTensor.clone().detach().requires_grad_(True), rather than torch.tensor(sourceTensor).\n",
      "  neg_item_indices = torch.tensor(neg_item_indices).to(self.device).squeeze()\n"
     ]
    },
    {
     "name": "stdout",
     "output_type": "stream",
     "text": [
      "2024-08-06 06:48:40,514 - base - recpack - INFO - Processed epoch 0 in 4.03 s.Batch Training Loss = 0.3835\n",
      "2024-08-06 06:49:46,335 - stopping_criterion - recpack - INFO - StoppingCriterion has value 0.4546043579312428, which is better than previous iterations.\n",
      "2024-08-06 06:49:46,337 - base - recpack - INFO - Model improved. Storing better model.\n",
      "2024-08-06 06:49:46,402 - base - recpack - INFO - Evaluation at end of 0 took 65.89 s.\n",
      "2024-08-06 06:49:50,244 - base - recpack - INFO - Processed epoch 1 in 3.84 s.Batch Training Loss = 0.3744\n",
      "2024-08-06 06:50:55,283 - stopping_criterion - recpack - INFO - StoppingCriterion has value 0.4538584364796979, which is worse than previous iterations.\n",
      "2024-08-06 06:50:55,290 - base - recpack - INFO - Evaluation at end of 1 took 65.04 s.\n",
      "2024-08-06 06:50:59,205 - base - recpack - INFO - Processed epoch 2 in 3.91 s.Batch Training Loss = 0.3748\n",
      "2024-08-06 06:52:04,766 - stopping_criterion - recpack - INFO - StoppingCriterion has value 0.4525924846342736, which is worse than previous iterations.\n",
      "2024-08-06 06:52:04,773 - base - recpack - INFO - Evaluation at end of 2 took 65.57 s.\n",
      "2024-08-06 06:52:08,617 - base - recpack - INFO - Processed epoch 3 in 3.84 s.Batch Training Loss = 0.3748\n",
      "2024-08-06 06:53:13,409 - stopping_criterion - recpack - INFO - StoppingCriterion has value 0.45319254648605606, which is worse than previous iterations.\n",
      "2024-08-06 06:53:13,416 - base - recpack - INFO - Evaluation at end of 3 took 64.80 s.\n",
      "2024-08-06 06:53:17,260 - base - recpack - INFO - Processed epoch 4 in 3.84 s.Batch Training Loss = 0.3739\n",
      "2024-08-06 06:54:22,645 - stopping_criterion - recpack - INFO - StoppingCriterion has value 0.45359023091121997, which is worse than previous iterations.\n",
      "2024-08-06 06:54:22,653 - base - recpack - INFO - Evaluation at end of 4 took 65.39 s.\n",
      "2024-08-06 06:54:22,700 - base - recpack - INFO - Fitting PinSAGEAlgorithm complete - Took 3.46e+02s\n"
     ]
    },
    {
     "name": "stderr",
     "output_type": "stream",
     "text": [
      "/opt/conda/lib/python3.11/site-packages/recpack/algorithms/base.py:509: FutureWarning: You are using `torch.load` with `weights_only=False` (the current default value), which uses the default pickle module implicitly. It is possible to construct malicious pickle data which will execute arbitrary code during unpickling (See https://github.com/pytorch/pytorch/blob/main/SECURITY.md#untrusted-models for more details). In a future release, the default value for `weights_only` will be flipped to `True`. This limits the functions that could be executed during unpickling. Arbitrary objects will no longer be allowed to be loaded via this mode unless they are explicitly allowlisted by the user via `torch.serialization.add_safe_globals`. We recommend you start setting `weights_only=True` for any use case where you don't have full control of the loaded file. Please open an issue on GitHub for any issues related to this experimental feature.\n",
      "  self.model_ = torch.load(self.best_model)\n",
      "/tmp/ipykernel_12380/2405251189.py:85: UserWarning: To copy construct from a tensor, it is recommended to use sourceTensor.clone().detach() or sourceTensor.clone().detach().requires_grad_(True), rather than torch.tensor(sourceTensor).\n",
      "  user_indices = torch.tensor(user_indices).to(self.device)\n",
      "/tmp/ipykernel_12380/2405251189.py:86: UserWarning: To copy construct from a tensor, it is recommended to use sourceTensor.clone().detach() or sourceTensor.clone().detach().requires_grad_(True), rather than torch.tensor(sourceTensor).\n",
      "  pos_item_indices = torch.tensor(pos_item_indices).to(self.device)\n",
      "/tmp/ipykernel_12380/2405251189.py:87: UserWarning: To copy construct from a tensor, it is recommended to use sourceTensor.clone().detach() or sourceTensor.clone().detach().requires_grad_(True), rather than torch.tensor(sourceTensor).\n",
      "  neg_item_indices = torch.tensor(neg_item_indices).to(self.device).squeeze()\n"
     ]
    },
    {
     "name": "stdout",
     "output_type": "stream",
     "text": [
      "2024-08-06 06:55:34,448 - base - recpack - INFO - Processed epoch 0 in 3.89 s.Batch Training Loss = 0.4124\n",
      "2024-08-06 06:56:56,412 - stopping_criterion - recpack - INFO - StoppingCriterion has value 0.4549837045186384, which is better than previous iterations.\n",
      "2024-08-06 06:56:56,413 - base - recpack - INFO - Model improved. Storing better model.\n",
      "2024-08-06 06:56:56,476 - base - recpack - INFO - Evaluation at end of 0 took 82.03 s.\n",
      "2024-08-06 06:57:00,366 - base - recpack - INFO - Processed epoch 1 in 3.89 s.Batch Training Loss = 0.3671\n",
      "2024-08-06 06:58:26,841 - stopping_criterion - recpack - INFO - StoppingCriterion has value 0.4477140632936372, which is worse than previous iterations.\n",
      "2024-08-06 06:58:26,846 - base - recpack - INFO - Evaluation at end of 1 took 86.48 s.\n",
      "2024-08-06 06:58:30,694 - base - recpack - INFO - Processed epoch 2 in 3.85 s.Batch Training Loss = 0.3661\n",
      "2024-08-06 06:59:52,761 - stopping_criterion - recpack - INFO - StoppingCriterion has value 0.4449495464175136, which is better than previous iterations.\n",
      "2024-08-06 06:59:52,763 - base - recpack - INFO - Model improved. Storing better model.\n",
      "2024-08-06 06:59:52,832 - base - recpack - INFO - Evaluation at end of 2 took 82.13 s.\n",
      "2024-08-06 06:59:56,651 - base - recpack - INFO - Processed epoch 3 in 3.82 s.Batch Training Loss = 0.3657\n",
      "2024-08-06 07:01:32,330 - stopping_criterion - recpack - INFO - StoppingCriterion has value 0.446613134263671, which is worse than previous iterations.\n",
      "2024-08-06 07:01:32,335 - base - recpack - INFO - Evaluation at end of 3 took 95.68 s.\n",
      "2024-08-06 07:01:36,174 - base - recpack - INFO - Processed epoch 4 in 3.84 s.Batch Training Loss = 0.3659\n",
      "2024-08-06 07:03:40,828 - stopping_criterion - recpack - INFO - StoppingCriterion has value 0.4484056937424334, which is worse than previous iterations.\n",
      "2024-08-06 07:03:40,835 - base - recpack - INFO - Evaluation at end of 4 took 124.66 s.\n",
      "2024-08-06 07:03:40,873 - base - recpack - INFO - Fitting PinSAGEAlgorithm complete - Took 4.9e+02s\n"
     ]
    },
    {
     "name": "stderr",
     "output_type": "stream",
     "text": [
      "/opt/conda/lib/python3.11/site-packages/recpack/algorithms/base.py:509: FutureWarning: You are using `torch.load` with `weights_only=False` (the current default value), which uses the default pickle module implicitly. It is possible to construct malicious pickle data which will execute arbitrary code during unpickling (See https://github.com/pytorch/pytorch/blob/main/SECURITY.md#untrusted-models for more details). In a future release, the default value for `weights_only` will be flipped to `True`. This limits the functions that could be executed during unpickling. Arbitrary objects will no longer be allowed to be loaded via this mode unless they are explicitly allowlisted by the user via `torch.serialization.add_safe_globals`. We recommend you start setting `weights_only=True` for any use case where you don't have full control of the loaded file. Please open an issue on GitHub for any issues related to this experimental feature.\n",
      "  self.model_ = torch.load(self.best_model)\n",
      "/tmp/ipykernel_12380/2405251189.py:85: UserWarning: To copy construct from a tensor, it is recommended to use sourceTensor.clone().detach() or sourceTensor.clone().detach().requires_grad_(True), rather than torch.tensor(sourceTensor).\n",
      "  user_indices = torch.tensor(user_indices).to(self.device)\n",
      "/tmp/ipykernel_12380/2405251189.py:86: UserWarning: To copy construct from a tensor, it is recommended to use sourceTensor.clone().detach() or sourceTensor.clone().detach().requires_grad_(True), rather than torch.tensor(sourceTensor).\n",
      "  pos_item_indices = torch.tensor(pos_item_indices).to(self.device)\n",
      "/tmp/ipykernel_12380/2405251189.py:87: UserWarning: To copy construct from a tensor, it is recommended to use sourceTensor.clone().detach() or sourceTensor.clone().detach().requires_grad_(True), rather than torch.tensor(sourceTensor).\n",
      "  neg_item_indices = torch.tensor(neg_item_indices).to(self.device).squeeze()\n"
     ]
    },
    {
     "name": "stdout",
     "output_type": "stream",
     "text": [
      "2024-08-06 07:05:16,680 - base - recpack - INFO - Processed epoch 0 in 6.48 s.Batch Training Loss = 0.3829\n",
      "2024-08-06 07:06:24,464 - stopping_criterion - recpack - INFO - StoppingCriterion has value 0.4894653502388297, which is better than previous iterations.\n",
      "2024-08-06 07:06:24,465 - base - recpack - INFO - Model improved. Storing better model.\n",
      "2024-08-06 07:06:24,578 - base - recpack - INFO - Evaluation at end of 0 took 67.90 s.\n",
      "2024-08-06 07:06:30,894 - base - recpack - INFO - Processed epoch 1 in 6.31 s.Batch Training Loss = 0.3740\n",
      "2024-08-06 07:07:37,968 - stopping_criterion - recpack - INFO - StoppingCriterion has value 0.4629302556920116, which is better than previous iterations.\n",
      "2024-08-06 07:07:37,969 - base - recpack - INFO - Model improved. Storing better model.\n",
      "2024-08-06 07:07:38,100 - base - recpack - INFO - Evaluation at end of 1 took 67.21 s.\n",
      "2024-08-06 07:07:44,447 - base - recpack - INFO - Processed epoch 2 in 6.35 s.Batch Training Loss = 0.3732\n",
      "2024-08-06 07:08:51,234 - stopping_criterion - recpack - INFO - StoppingCriterion has value 0.4617309396729997, which is worse than previous iterations.\n",
      "2024-08-06 07:08:51,235 - base - recpack - INFO - Evaluation at end of 2 took 66.79 s.\n",
      "2024-08-06 07:08:57,610 - base - recpack - INFO - Processed epoch 3 in 6.37 s.Batch Training Loss = 0.3727\n",
      "2024-08-06 07:10:06,330 - stopping_criterion - recpack - INFO - StoppingCriterion has value 0.46369037722455675, which is worse than previous iterations.\n",
      "2024-08-06 07:10:06,332 - base - recpack - INFO - Evaluation at end of 3 took 68.72 s.\n",
      "2024-08-06 07:10:12,708 - base - recpack - INFO - Processed epoch 4 in 6.37 s.Batch Training Loss = 0.3727\n",
      "2024-08-06 07:11:20,956 - stopping_criterion - recpack - INFO - StoppingCriterion has value 0.4632006958346362, which is worse than previous iterations.\n",
      "2024-08-06 07:11:20,958 - base - recpack - INFO - Evaluation at end of 4 took 68.25 s.\n",
      "2024-08-06 07:11:21,022 - base - recpack - INFO - Fitting PinSAGEAlgorithm complete - Took 3.71e+02s\n"
     ]
    },
    {
     "name": "stderr",
     "output_type": "stream",
     "text": [
      "/opt/conda/lib/python3.11/site-packages/recpack/algorithms/base.py:509: FutureWarning: You are using `torch.load` with `weights_only=False` (the current default value), which uses the default pickle module implicitly. It is possible to construct malicious pickle data which will execute arbitrary code during unpickling (See https://github.com/pytorch/pytorch/blob/main/SECURITY.md#untrusted-models for more details). In a future release, the default value for `weights_only` will be flipped to `True`. This limits the functions that could be executed during unpickling. Arbitrary objects will no longer be allowed to be loaded via this mode unless they are explicitly allowlisted by the user via `torch.serialization.add_safe_globals`. We recommend you start setting `weights_only=True` for any use case where you don't have full control of the loaded file. Please open an issue on GitHub for any issues related to this experimental feature.\n",
      "  self.model_ = torch.load(self.best_model)\n",
      "/tmp/ipykernel_12380/2405251189.py:85: UserWarning: To copy construct from a tensor, it is recommended to use sourceTensor.clone().detach() or sourceTensor.clone().detach().requires_grad_(True), rather than torch.tensor(sourceTensor).\n",
      "  user_indices = torch.tensor(user_indices).to(self.device)\n",
      "/tmp/ipykernel_12380/2405251189.py:86: UserWarning: To copy construct from a tensor, it is recommended to use sourceTensor.clone().detach() or sourceTensor.clone().detach().requires_grad_(True), rather than torch.tensor(sourceTensor).\n",
      "  pos_item_indices = torch.tensor(pos_item_indices).to(self.device)\n",
      "/tmp/ipykernel_12380/2405251189.py:87: UserWarning: To copy construct from a tensor, it is recommended to use sourceTensor.clone().detach() or sourceTensor.clone().detach().requires_grad_(True), rather than torch.tensor(sourceTensor).\n",
      "  neg_item_indices = torch.tensor(neg_item_indices).to(self.device).squeeze()\n"
     ]
    },
    {
     "name": "stdout",
     "output_type": "stream",
     "text": [
      "2024-08-06 07:12:38,585 - base - recpack - INFO - Processed epoch 0 in 6.35 s.Batch Training Loss = 0.3825\n",
      "2024-08-06 07:13:40,292 - stopping_criterion - recpack - INFO - StoppingCriterion has value 0.45312397881485805, which is better than previous iterations.\n",
      "2024-08-06 07:13:40,293 - base - recpack - INFO - Model improved. Storing better model.\n",
      "2024-08-06 07:13:40,416 - base - recpack - INFO - Evaluation at end of 0 took 61.83 s.\n",
      "2024-08-06 07:13:46,844 - base - recpack - INFO - Processed epoch 1 in 6.43 s.Batch Training Loss = 0.3742\n",
      "2024-08-06 07:14:48,889 - stopping_criterion - recpack - INFO - StoppingCriterion has value 0.45306533078683237, which is worse than previous iterations.\n",
      "2024-08-06 07:14:48,891 - base - recpack - INFO - Evaluation at end of 1 took 62.04 s.\n",
      "2024-08-06 07:14:55,207 - base - recpack - INFO - Processed epoch 2 in 6.32 s.Batch Training Loss = 0.3744\n",
      "2024-08-06 07:15:57,995 - stopping_criterion - recpack - INFO - StoppingCriterion has value 0.45355577308098144, which is worse than previous iterations.\n",
      "2024-08-06 07:15:57,997 - base - recpack - INFO - Evaluation at end of 2 took 62.79 s.\n",
      "2024-08-06 07:16:04,368 - base - recpack - INFO - Processed epoch 3 in 6.37 s.Batch Training Loss = 0.3731\n",
      "2024-08-06 07:17:07,841 - stopping_criterion - recpack - INFO - StoppingCriterion has value 0.45370184523051216, which is worse than previous iterations.\n",
      "2024-08-06 07:17:07,842 - base - recpack - INFO - Evaluation at end of 3 took 63.47 s.\n",
      "2024-08-06 07:17:14,187 - base - recpack - INFO - Processed epoch 4 in 6.34 s.Batch Training Loss = 0.3728\n",
      "2024-08-06 07:18:16,677 - stopping_criterion - recpack - INFO - StoppingCriterion has value 0.4533715406398478, which is worse than previous iterations.\n",
      "2024-08-06 07:18:16,679 - base - recpack - INFO - Evaluation at end of 4 took 62.49 s.\n",
      "2024-08-06 07:18:16,745 - base - recpack - INFO - Fitting PinSAGEAlgorithm complete - Took 3.45e+02s\n"
     ]
    },
    {
     "name": "stderr",
     "output_type": "stream",
     "text": [
      "/opt/conda/lib/python3.11/site-packages/recpack/algorithms/base.py:509: FutureWarning: You are using `torch.load` with `weights_only=False` (the current default value), which uses the default pickle module implicitly. It is possible to construct malicious pickle data which will execute arbitrary code during unpickling (See https://github.com/pytorch/pytorch/blob/main/SECURITY.md#untrusted-models for more details). In a future release, the default value for `weights_only` will be flipped to `True`. This limits the functions that could be executed during unpickling. Arbitrary objects will no longer be allowed to be loaded via this mode unless they are explicitly allowlisted by the user via `torch.serialization.add_safe_globals`. We recommend you start setting `weights_only=True` for any use case where you don't have full control of the loaded file. Please open an issue on GitHub for any issues related to this experimental feature.\n",
      "  self.model_ = torch.load(self.best_model)\n",
      "/tmp/ipykernel_12380/2405251189.py:85: UserWarning: To copy construct from a tensor, it is recommended to use sourceTensor.clone().detach() or sourceTensor.clone().detach().requires_grad_(True), rather than torch.tensor(sourceTensor).\n",
      "  user_indices = torch.tensor(user_indices).to(self.device)\n",
      "/tmp/ipykernel_12380/2405251189.py:86: UserWarning: To copy construct from a tensor, it is recommended to use sourceTensor.clone().detach() or sourceTensor.clone().detach().requires_grad_(True), rather than torch.tensor(sourceTensor).\n",
      "  pos_item_indices = torch.tensor(pos_item_indices).to(self.device)\n",
      "/tmp/ipykernel_12380/2405251189.py:87: UserWarning: To copy construct from a tensor, it is recommended to use sourceTensor.clone().detach() or sourceTensor.clone().detach().requires_grad_(True), rather than torch.tensor(sourceTensor).\n",
      "  neg_item_indices = torch.tensor(neg_item_indices).to(self.device).squeeze()\n"
     ]
    },
    {
     "name": "stdout",
     "output_type": "stream",
     "text": [
      "2024-08-06 07:19:27,819 - base - recpack - INFO - Processed epoch 0 in 6.33 s.Batch Training Loss = 0.3991\n",
      "2024-08-06 07:20:45,806 - stopping_criterion - recpack - INFO - StoppingCriterion has value 0.4461620487847059, which is better than previous iterations.\n",
      "2024-08-06 07:20:45,807 - base - recpack - INFO - Model improved. Storing better model.\n",
      "2024-08-06 07:20:45,926 - base - recpack - INFO - Evaluation at end of 0 took 78.11 s.\n",
      "2024-08-06 07:20:52,526 - base - recpack - INFO - Processed epoch 1 in 6.60 s.Batch Training Loss = 0.3667\n",
      "2024-08-06 07:22:26,109 - stopping_criterion - recpack - INFO - StoppingCriterion has value 0.44653086947464515, which is worse than previous iterations.\n",
      "2024-08-06 07:22:26,114 - base - recpack - INFO - Evaluation at end of 1 took 93.59 s.\n",
      "2024-08-06 07:22:32,457 - base - recpack - INFO - Processed epoch 2 in 6.34 s.Batch Training Loss = 0.3670\n",
      "2024-08-06 07:24:10,686 - stopping_criterion - recpack - INFO - StoppingCriterion has value 0.4509957691799521, which is worse than previous iterations.\n",
      "2024-08-06 07:24:10,690 - base - recpack - INFO - Evaluation at end of 2 took 98.23 s.\n",
      "2024-08-06 07:24:17,131 - base - recpack - INFO - Processed epoch 3 in 6.44 s.Batch Training Loss = 0.3667\n",
      "2024-08-06 07:25:47,789 - stopping_criterion - recpack - INFO - StoppingCriterion has value 0.44950753679907474, which is worse than previous iterations.\n",
      "2024-08-06 07:25:47,793 - base - recpack - INFO - Evaluation at end of 3 took 90.66 s.\n",
      "2024-08-06 07:25:54,235 - base - recpack - INFO - Processed epoch 4 in 6.44 s.Batch Training Loss = 0.3669\n",
      "2024-08-06 07:27:27,919 - stopping_criterion - recpack - INFO - StoppingCriterion has value 0.44689595128826515, which is worse than previous iterations.\n",
      "2024-08-06 07:27:27,923 - base - recpack - INFO - Evaluation at end of 4 took 93.69 s.\n",
      "2024-08-06 07:27:27,989 - base - recpack - INFO - Fitting PinSAGEAlgorithm complete - Took 4.87e+02s\n"
     ]
    },
    {
     "name": "stderr",
     "output_type": "stream",
     "text": [
      "/opt/conda/lib/python3.11/site-packages/recpack/algorithms/base.py:509: FutureWarning: You are using `torch.load` with `weights_only=False` (the current default value), which uses the default pickle module implicitly. It is possible to construct malicious pickle data which will execute arbitrary code during unpickling (See https://github.com/pytorch/pytorch/blob/main/SECURITY.md#untrusted-models for more details). In a future release, the default value for `weights_only` will be flipped to `True`. This limits the functions that could be executed during unpickling. Arbitrary objects will no longer be allowed to be loaded via this mode unless they are explicitly allowlisted by the user via `torch.serialization.add_safe_globals`. We recommend you start setting `weights_only=True` for any use case where you don't have full control of the loaded file. Please open an issue on GitHub for any issues related to this experimental feature.\n",
      "  self.model_ = torch.load(self.best_model)\n",
      "/tmp/ipykernel_12380/2405251189.py:85: UserWarning: To copy construct from a tensor, it is recommended to use sourceTensor.clone().detach() or sourceTensor.clone().detach().requires_grad_(True), rather than torch.tensor(sourceTensor).\n",
      "  user_indices = torch.tensor(user_indices).to(self.device)\n",
      "/tmp/ipykernel_12380/2405251189.py:86: UserWarning: To copy construct from a tensor, it is recommended to use sourceTensor.clone().detach() or sourceTensor.clone().detach().requires_grad_(True), rather than torch.tensor(sourceTensor).\n",
      "  pos_item_indices = torch.tensor(pos_item_indices).to(self.device)\n",
      "/tmp/ipykernel_12380/2405251189.py:87: UserWarning: To copy construct from a tensor, it is recommended to use sourceTensor.clone().detach() or sourceTensor.clone().detach().requires_grad_(True), rather than torch.tensor(sourceTensor).\n",
      "  neg_item_indices = torch.tensor(neg_item_indices).to(self.device).squeeze()\n"
     ]
    },
    {
     "name": "stdout",
     "output_type": "stream",
     "text": [
      "2024-08-06 07:29:06,275 - base - recpack - INFO - Processed epoch 0 in 12.51 s.Batch Training Loss = 0.3800\n",
      "2024-08-06 07:30:12,446 - stopping_criterion - recpack - INFO - StoppingCriterion has value 0.45022748609079244, which is better than previous iterations.\n",
      "2024-08-06 07:30:12,447 - base - recpack - INFO - Model improved. Storing better model.\n",
      "2024-08-06 07:30:12,683 - base - recpack - INFO - Evaluation at end of 0 took 66.41 s.\n",
      "2024-08-06 07:30:25,376 - base - recpack - INFO - Processed epoch 1 in 12.69 s.Batch Training Loss = 0.3732\n",
      "2024-08-06 07:31:30,991 - stopping_criterion - recpack - INFO - StoppingCriterion has value 0.45086434361457944, which is worse than previous iterations.\n",
      "2024-08-06 07:31:30,992 - base - recpack - INFO - Evaluation at end of 1 took 65.61 s.\n",
      "2024-08-06 07:31:43,571 - base - recpack - INFO - Processed epoch 2 in 12.58 s.Batch Training Loss = 0.3737\n",
      "2024-08-06 07:32:48,166 - stopping_criterion - recpack - INFO - StoppingCriterion has value 0.45064333450768657, which is worse than previous iterations.\n",
      "2024-08-06 07:32:48,168 - base - recpack - INFO - Evaluation at end of 2 took 64.59 s.\n",
      "2024-08-06 07:33:00,670 - base - recpack - INFO - Processed epoch 3 in 12.50 s.Batch Training Loss = 0.3729\n",
      "2024-08-06 07:34:05,910 - stopping_criterion - recpack - INFO - StoppingCriterion has value 0.4455417231108265, which is worse than previous iterations.\n",
      "2024-08-06 07:34:05,912 - base - recpack - INFO - Evaluation at end of 3 took 65.24 s.\n",
      "2024-08-06 07:34:18,346 - base - recpack - INFO - Processed epoch 4 in 12.43 s.Batch Training Loss = 0.3735\n",
      "2024-08-06 07:35:23,590 - stopping_criterion - recpack - INFO - StoppingCriterion has value 0.449697578143791, which is worse than previous iterations.\n",
      "2024-08-06 07:35:23,592 - base - recpack - INFO - Evaluation at end of 4 took 65.24 s.\n",
      "2024-08-06 07:35:23,708 - base - recpack - INFO - Fitting PinSAGEAlgorithm complete - Took 3.9e+02s\n"
     ]
    },
    {
     "name": "stderr",
     "output_type": "stream",
     "text": [
      "/opt/conda/lib/python3.11/site-packages/recpack/algorithms/base.py:509: FutureWarning: You are using `torch.load` with `weights_only=False` (the current default value), which uses the default pickle module implicitly. It is possible to construct malicious pickle data which will execute arbitrary code during unpickling (See https://github.com/pytorch/pytorch/blob/main/SECURITY.md#untrusted-models for more details). In a future release, the default value for `weights_only` will be flipped to `True`. This limits the functions that could be executed during unpickling. Arbitrary objects will no longer be allowed to be loaded via this mode unless they are explicitly allowlisted by the user via `torch.serialization.add_safe_globals`. We recommend you start setting `weights_only=True` for any use case where you don't have full control of the loaded file. Please open an issue on GitHub for any issues related to this experimental feature.\n",
      "  self.model_ = torch.load(self.best_model)\n",
      "/tmp/ipykernel_12380/2405251189.py:85: UserWarning: To copy construct from a tensor, it is recommended to use sourceTensor.clone().detach() or sourceTensor.clone().detach().requires_grad_(True), rather than torch.tensor(sourceTensor).\n",
      "  user_indices = torch.tensor(user_indices).to(self.device)\n",
      "/tmp/ipykernel_12380/2405251189.py:86: UserWarning: To copy construct from a tensor, it is recommended to use sourceTensor.clone().detach() or sourceTensor.clone().detach().requires_grad_(True), rather than torch.tensor(sourceTensor).\n",
      "  pos_item_indices = torch.tensor(pos_item_indices).to(self.device)\n",
      "/tmp/ipykernel_12380/2405251189.py:87: UserWarning: To copy construct from a tensor, it is recommended to use sourceTensor.clone().detach() or sourceTensor.clone().detach().requires_grad_(True), rather than torch.tensor(sourceTensor).\n",
      "  neg_item_indices = torch.tensor(neg_item_indices).to(self.device).squeeze()\n"
     ]
    },
    {
     "name": "stdout",
     "output_type": "stream",
     "text": [
      "2024-08-06 07:36:45,605 - base - recpack - INFO - Processed epoch 0 in 12.54 s.Batch Training Loss = 0.3822\n",
      "2024-08-06 07:37:48,528 - stopping_criterion - recpack - INFO - StoppingCriterion has value 0.4694608313129426, which is better than previous iterations.\n",
      "2024-08-06 07:37:48,529 - base - recpack - INFO - Model improved. Storing better model.\n",
      "2024-08-06 07:37:48,753 - base - recpack - INFO - Evaluation at end of 0 took 63.15 s.\n",
      "2024-08-06 07:38:01,204 - base - recpack - INFO - Processed epoch 1 in 12.45 s.Batch Training Loss = 0.3750\n",
      "2024-08-06 07:39:03,604 - stopping_criterion - recpack - INFO - StoppingCriterion has value 0.47132955913918, which is worse than previous iterations.\n",
      "2024-08-06 07:39:03,608 - base - recpack - INFO - Evaluation at end of 1 took 62.40 s.\n",
      "2024-08-06 07:39:16,121 - base - recpack - INFO - Processed epoch 2 in 12.51 s.Batch Training Loss = 0.3749\n",
      "2024-08-06 07:40:18,156 - stopping_criterion - recpack - INFO - StoppingCriterion has value 0.47242715213463504, which is worse than previous iterations.\n",
      "2024-08-06 07:40:18,157 - base - recpack - INFO - Evaluation at end of 2 took 62.03 s.\n",
      "2024-08-06 07:40:30,678 - base - recpack - INFO - Processed epoch 3 in 12.52 s.Batch Training Loss = 0.3743\n",
      "2024-08-06 07:41:33,279 - stopping_criterion - recpack - INFO - StoppingCriterion has value 0.46909312538708076, which is worse than previous iterations.\n",
      "2024-08-06 07:41:33,281 - base - recpack - INFO - Evaluation at end of 3 took 62.60 s.\n",
      "2024-08-06 07:41:45,778 - base - recpack - INFO - Processed epoch 4 in 12.50 s.Batch Training Loss = 0.3737\n",
      "2024-08-06 07:42:48,168 - stopping_criterion - recpack - INFO - StoppingCriterion has value 0.47047350839369234, which is worse than previous iterations.\n",
      "2024-08-06 07:42:48,170 - base - recpack - INFO - Evaluation at end of 4 took 62.39 s.\n",
      "2024-08-06 07:42:48,287 - base - recpack - INFO - Fitting PinSAGEAlgorithm complete - Took 3.76e+02s\n"
     ]
    },
    {
     "name": "stderr",
     "output_type": "stream",
     "text": [
      "/opt/conda/lib/python3.11/site-packages/recpack/algorithms/base.py:509: FutureWarning: You are using `torch.load` with `weights_only=False` (the current default value), which uses the default pickle module implicitly. It is possible to construct malicious pickle data which will execute arbitrary code during unpickling (See https://github.com/pytorch/pytorch/blob/main/SECURITY.md#untrusted-models for more details). In a future release, the default value for `weights_only` will be flipped to `True`. This limits the functions that could be executed during unpickling. Arbitrary objects will no longer be allowed to be loaded via this mode unless they are explicitly allowlisted by the user via `torch.serialization.add_safe_globals`. We recommend you start setting `weights_only=True` for any use case where you don't have full control of the loaded file. Please open an issue on GitHub for any issues related to this experimental feature.\n",
      "  self.model_ = torch.load(self.best_model)\n",
      "/tmp/ipykernel_12380/2405251189.py:85: UserWarning: To copy construct from a tensor, it is recommended to use sourceTensor.clone().detach() or sourceTensor.clone().detach().requires_grad_(True), rather than torch.tensor(sourceTensor).\n",
      "  user_indices = torch.tensor(user_indices).to(self.device)\n",
      "/tmp/ipykernel_12380/2405251189.py:86: UserWarning: To copy construct from a tensor, it is recommended to use sourceTensor.clone().detach() or sourceTensor.clone().detach().requires_grad_(True), rather than torch.tensor(sourceTensor).\n",
      "  pos_item_indices = torch.tensor(pos_item_indices).to(self.device)\n",
      "/tmp/ipykernel_12380/2405251189.py:87: UserWarning: To copy construct from a tensor, it is recommended to use sourceTensor.clone().detach() or sourceTensor.clone().detach().requires_grad_(True), rather than torch.tensor(sourceTensor).\n",
      "  neg_item_indices = torch.tensor(neg_item_indices).to(self.device).squeeze()\n"
     ]
    },
    {
     "name": "stdout",
     "output_type": "stream",
     "text": [
      "2024-08-06 07:44:06,697 - base - recpack - INFO - Processed epoch 0 in 12.51 s.Batch Training Loss = 0.3903\n",
      "2024-08-06 07:45:15,047 - stopping_criterion - recpack - INFO - StoppingCriterion has value 0.464203308326714, which is better than previous iterations.\n",
      "2024-08-06 07:45:15,048 - base - recpack - INFO - Model improved. Storing better model.\n",
      "2024-08-06 07:45:15,284 - base - recpack - INFO - Evaluation at end of 0 took 68.59 s.\n",
      "2024-08-06 07:45:27,876 - base - recpack - INFO - Processed epoch 1 in 12.59 s.Batch Training Loss = 0.3682\n",
      "2024-08-06 07:46:36,830 - stopping_criterion - recpack - INFO - StoppingCriterion has value 0.46213543385375927, which is worse than previous iterations.\n",
      "2024-08-06 07:46:36,832 - base - recpack - INFO - Evaluation at end of 1 took 68.95 s.\n",
      "2024-08-06 07:46:49,215 - base - recpack - INFO - Processed epoch 2 in 12.38 s.Batch Training Loss = 0.3672\n",
      "2024-08-06 07:48:01,664 - stopping_criterion - recpack - INFO - StoppingCriterion has value 0.4624159209816274, which is worse than previous iterations.\n",
      "2024-08-06 07:48:01,666 - base - recpack - INFO - Evaluation at end of 2 took 72.45 s.\n",
      "2024-08-06 07:48:14,154 - base - recpack - INFO - Processed epoch 3 in 12.49 s.Batch Training Loss = 0.3670\n",
      "2024-08-06 07:49:38,506 - stopping_criterion - recpack - INFO - StoppingCriterion has value 0.46636357813405305, which is worse than previous iterations.\n",
      "2024-08-06 07:49:38,509 - base - recpack - INFO - Evaluation at end of 3 took 84.35 s.\n",
      "2024-08-06 07:49:50,956 - base - recpack - INFO - Processed epoch 4 in 12.45 s.Batch Training Loss = 0.3671\n",
      "2024-08-06 07:51:18,394 - stopping_criterion - recpack - INFO - StoppingCriterion has value 0.46431575836794414, which is worse than previous iterations.\n",
      "2024-08-06 07:51:18,397 - base - recpack - INFO - Evaluation at end of 4 took 87.44 s.\n",
      "2024-08-06 07:51:18,515 - base - recpack - INFO - Fitting PinSAGEAlgorithm complete - Took 4.45e+02s\n"
     ]
    },
    {
     "name": "stderr",
     "output_type": "stream",
     "text": [
      "/opt/conda/lib/python3.11/site-packages/recpack/algorithms/base.py:509: FutureWarning: You are using `torch.load` with `weights_only=False` (the current default value), which uses the default pickle module implicitly. It is possible to construct malicious pickle data which will execute arbitrary code during unpickling (See https://github.com/pytorch/pytorch/blob/main/SECURITY.md#untrusted-models for more details). In a future release, the default value for `weights_only` will be flipped to `True`. This limits the functions that could be executed during unpickling. Arbitrary objects will no longer be allowed to be loaded via this mode unless they are explicitly allowlisted by the user via `torch.serialization.add_safe_globals`. We recommend you start setting `weights_only=True` for any use case where you don't have full control of the loaded file. Please open an issue on GitHub for any issues related to this experimental feature.\n",
      "  self.model_ = torch.load(self.best_model)\n",
      "/tmp/ipykernel_12380/2405251189.py:85: UserWarning: To copy construct from a tensor, it is recommended to use sourceTensor.clone().detach() or sourceTensor.clone().detach().requires_grad_(True), rather than torch.tensor(sourceTensor).\n",
      "  user_indices = torch.tensor(user_indices).to(self.device)\n",
      "/tmp/ipykernel_12380/2405251189.py:86: UserWarning: To copy construct from a tensor, it is recommended to use sourceTensor.clone().detach() or sourceTensor.clone().detach().requires_grad_(True), rather than torch.tensor(sourceTensor).\n",
      "  pos_item_indices = torch.tensor(pos_item_indices).to(self.device)\n",
      "/tmp/ipykernel_12380/2405251189.py:87: UserWarning: To copy construct from a tensor, it is recommended to use sourceTensor.clone().detach() or sourceTensor.clone().detach().requires_grad_(True), rather than torch.tensor(sourceTensor).\n",
      "  neg_item_indices = torch.tensor(neg_item_indices).to(self.device).squeeze()\n"
     ]
    },
    {
     "name": "stdout",
     "output_type": "stream",
     "text": [
      "2024-08-06 07:52:44,127 - base - recpack - INFO - Processed epoch 0 in 12.50 s.Batch Training Loss = 0.3906\n",
      "2024-08-06 07:53:56,222 - stopping_criterion - recpack - INFO - StoppingCriterion has value 0.45909298385764624, which is better than previous iterations.\n",
      "2024-08-06 07:53:56,223 - base - recpack - INFO - Model improved. Storing better model.\n",
      "2024-08-06 07:53:56,468 - base - recpack - INFO - Evaluation at end of 0 took 72.34 s.\n",
      "2024-08-06 07:54:08,993 - base - recpack - INFO - Processed epoch 1 in 12.52 s.Batch Training Loss = 0.3687\n",
      "2024-08-06 07:55:19,439 - stopping_criterion - recpack - INFO - StoppingCriterion has value 0.44663511513134063, which is better than previous iterations.\n",
      "2024-08-06 07:55:19,440 - base - recpack - INFO - Model improved. Storing better model.\n",
      "2024-08-06 07:55:19,717 - base - recpack - INFO - Evaluation at end of 1 took 70.72 s.\n",
      "2024-08-06 07:55:32,189 - base - recpack - INFO - Processed epoch 2 in 12.47 s.Batch Training Loss = 0.3667\n",
      "2024-08-06 07:56:52,914 - stopping_criterion - recpack - INFO - StoppingCriterion has value 0.44652619549897365, which is worse than previous iterations.\n",
      "2024-08-06 07:56:52,915 - base - recpack - INFO - Evaluation at end of 2 took 80.73 s.\n",
      "2024-08-06 07:57:05,644 - base - recpack - INFO - Processed epoch 3 in 12.73 s.Batch Training Loss = 0.3672\n",
      "2024-08-06 07:58:25,166 - stopping_criterion - recpack - INFO - StoppingCriterion has value 0.44810927562219993, which is worse than previous iterations.\n",
      "2024-08-06 07:58:25,168 - base - recpack - INFO - Evaluation at end of 3 took 79.52 s.\n",
      "2024-08-06 07:58:37,580 - base - recpack - INFO - Processed epoch 4 in 12.41 s.Batch Training Loss = 0.3661\n",
      "2024-08-06 08:00:08,694 - stopping_criterion - recpack - INFO - StoppingCriterion has value 0.4461517616203417, which is worse than previous iterations.\n",
      "2024-08-06 08:00:08,698 - base - recpack - INFO - Evaluation at end of 4 took 91.12 s.\n",
      "2024-08-06 08:00:08,819 - base - recpack - INFO - Fitting PinSAGEAlgorithm complete - Took 4.58e+02s\n"
     ]
    },
    {
     "name": "stderr",
     "output_type": "stream",
     "text": [
      "/opt/conda/lib/python3.11/site-packages/recpack/algorithms/base.py:509: FutureWarning: You are using `torch.load` with `weights_only=False` (the current default value), which uses the default pickle module implicitly. It is possible to construct malicious pickle data which will execute arbitrary code during unpickling (See https://github.com/pytorch/pytorch/blob/main/SECURITY.md#untrusted-models for more details). In a future release, the default value for `weights_only` will be flipped to `True`. This limits the functions that could be executed during unpickling. Arbitrary objects will no longer be allowed to be loaded via this mode unless they are explicitly allowlisted by the user via `torch.serialization.add_safe_globals`. We recommend you start setting `weights_only=True` for any use case where you don't have full control of the loaded file. Please open an issue on GitHub for any issues related to this experimental feature.\n",
      "  self.model_ = torch.load(self.best_model)\n"
     ]
    }
   ],
   "source": [
    "pipeline_builder = PipelineBuilder()\n",
    "ok = (scenario._validation_data_in, scenario._validation_data_out)\n",
    "pipeline_builder.set_data_from_scenario(scenario)\n",
    "\n",
    "\n",
    "# Add the baseline algorithms\n",
    "#pipeline_builder.add_algorithm('ItemKNN', grid={'K': [100, 200, 400, 800]})\n",
    "#pipeline_builder.add_algorithm('EASE', grid={'l2': [10, 100, 1000], 'alpha': [0, 0.1, 0.5]})\n",
    "\n",
    "# Add our LightGCN algorithm\n",
    "pipeline_builder.add_algorithm(\n",
    "    'PinSAGEAlgorithm2',\n",
    "    grid={\n",
    "        'learning_rate': [0.1, 0.01, 0.001],\n",
    "        'embedding_dim': [100, 200, 400]\n",
    "    },\n",
    "    params={\n",
    "        'max_epochs': 5,\n",
    "        'batch_size': 1024,\n",
    "        'n_layers': 3\n",
    "    }\n",
    ")\n",
    "\n",
    "# Add NDCG, Recall, and HR metrics to be evaluated at 10, 20, and 50\n",
    "pipeline_builder.add_metric('NDCGK', [10, 20, 50])\n",
    "pipeline_builder.add_metric('RecallK', [10, 20, 50])\n",
    "pipeline_builder.add_metric('HitK', [10, 20, 50])\n",
    "\n",
    "# Set the optimisation metric\n",
    "pipeline_builder.set_optimisation_metric('RecallK', 20)\n",
    "\n",
    "# Construct pipeline\n",
    "pipeline = pipeline_builder.build()\n",
    "\n",
    "# Debugging: Output the shape of the training data\n",
    "#print(f\"Training data shape: {im.shape}\")\n",
    "\n",
    "# Run pipeline, will first do optimisation, and then evaluation\n",
    "pipeline.run()"
   ]
  },
  {
   "cell_type": "markdown",
   "id": "87b4d51c-5f4b-4bb3-9ffe-aa2f81cf5cd1",
   "metadata": {},
   "source": [
    "## Results"
   ]
  },
  {
   "cell_type": "code",
   "execution_count": 20,
   "id": "e80f2784-1ed9-4d93-9883-4c34213d62ed",
   "metadata": {},
   "outputs": [
    {
     "data": {
      "text/html": [
       "<div>\n",
       "<style scoped>\n",
       "    .dataframe tbody tr th:only-of-type {\n",
       "        vertical-align: middle;\n",
       "    }\n",
       "\n",
       "    .dataframe tbody tr th {\n",
       "        vertical-align: top;\n",
       "    }\n",
       "\n",
       "    .dataframe thead th {\n",
       "        text-align: right;\n",
       "    }\n",
       "</style>\n",
       "<table border=\"1\" class=\"dataframe\">\n",
       "  <thead>\n",
       "    <tr style=\"text-align: right;\">\n",
       "      <th></th>\n",
       "      <th>NDCGK_10</th>\n",
       "      <th>NDCGK_20</th>\n",
       "      <th>NDCGK_50</th>\n",
       "      <th>RecallK_10</th>\n",
       "      <th>RecallK_20</th>\n",
       "      <th>RecallK_50</th>\n",
       "      <th>HitK_10</th>\n",
       "      <th>HitK_20</th>\n",
       "      <th>HitK_50</th>\n",
       "    </tr>\n",
       "  </thead>\n",
       "  <tbody>\n",
       "    <tr>\n",
       "      <th>PinSAGEAlgorithm(batch_size=1024,dropout=0.1,embedding_dim=400,grad_clip=1.0,keep_last=False,learning_rate=0.001,max_epochs=5,max_iter_no_change=5,min_improvement=0.01,n_layers=3,predict_topK=None,save_best_to_file=False,seed=4068379196,stop_early=True,stopping_criterion=&lt;recpack.algorithms.stopping_criterion.StoppingCriterion object at 0x7f0688d1bbd0&gt;,validation_sample_size=None)</th>\n",
       "      <td>0.007734</td>\n",
       "      <td>0.010171</td>\n",
       "      <td>0.017054</td>\n",
       "      <td>0.015133</td>\n",
       "      <td>0.02487</td>\n",
       "      <td>0.060531</td>\n",
       "      <td>0.015133</td>\n",
       "      <td>0.02487</td>\n",
       "      <td>0.060531</td>\n",
       "    </tr>\n",
       "  </tbody>\n",
       "</table>\n",
       "</div>"
      ],
      "text/plain": [
       "                                                    NDCGK_10  NDCGK_20  \\\n",
       "PinSAGEAlgorithm(batch_size=1024,dropout=0.1,em...  0.007734  0.010171   \n",
       "\n",
       "                                                    NDCGK_50  RecallK_10  \\\n",
       "PinSAGEAlgorithm(batch_size=1024,dropout=0.1,em...  0.017054    0.015133   \n",
       "\n",
       "                                                    RecallK_20  RecallK_50  \\\n",
       "PinSAGEAlgorithm(batch_size=1024,dropout=0.1,em...     0.02487    0.060531   \n",
       "\n",
       "                                                     HitK_10  HitK_20  \\\n",
       "PinSAGEAlgorithm(batch_size=1024,dropout=0.1,em...  0.015133  0.02487   \n",
       "\n",
       "                                                     HitK_50  \n",
       "PinSAGEAlgorithm(batch_size=1024,dropout=0.1,em...  0.060531  "
      ]
     },
     "execution_count": 20,
     "metadata": {},
     "output_type": "execute_result"
    }
   ],
   "source": [
    "pipeline.get_metrics()"
   ]
  },
  {
   "cell_type": "code",
   "execution_count": null,
   "id": "06eb89bb-82dc-4982-8025-327b4e25fddb",
   "metadata": {},
   "outputs": [],
   "source": []
  }
 ],
 "metadata": {
  "kernelspec": {
   "display_name": "Python 3 (ipykernel)",
   "language": "python",
   "name": "python3"
  },
  "language_info": {
   "codemirror_mode": {
    "name": "ipython",
    "version": 3
   },
   "file_extension": ".py",
   "mimetype": "text/x-python",
   "name": "python",
   "nbconvert_exporter": "python",
   "pygments_lexer": "ipython3",
   "version": "3.11.9"
  }
 },
 "nbformat": 4,
 "nbformat_minor": 5
}
