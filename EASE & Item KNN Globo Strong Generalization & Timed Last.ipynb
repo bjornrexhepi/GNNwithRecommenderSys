{
 "cells": [
  {
   "cell_type": "markdown",
   "id": "7b5de343-791f-454e-a6fd-533be7cd71be",
   "metadata": {},
   "source": [
    "# EASE & ItemKNN with Globo Dataset and StrongGeneralization & TimedLastItemPrediction Scenario"
   ]
  },
  {
   "cell_type": "markdown",
   "id": "01988d9e-e151-41d0-90e5-42176bb613ee",
   "metadata": {},
   "source": [
    "In this notebook, the experiment of EASE & ItemKNN in RecPack will be presented. \n",
    "The notebook contains:\n",
    "\n",
    "1. The 10% of Globo Dataset from RecPack.\n",
    "2. The StrongGeneralization & TimedLastItemPrediction Scenario to split the data.\n",
    "3. The RecPack Pipeline Builder to run the experiments, including the splitted dataset, the algorithms and metrics to run. Hyperparameter has been performed in the Pipeline.\n",
    "\n",
    "Please make sure you have installed all the latest libraries in your Python environment, in order to have a successful run of the code."
   ]
  },
  {
   "cell_type": "code",
   "execution_count": 2,
   "id": "e87fd90c-f8ae-4fcc-a455-90fb8f2335c2",
   "metadata": {},
   "outputs": [],
   "source": [
    "from recpack.datasets import Netflix, DummyDataset\n",
    "from recpack.pipelines import PipelineBuilder\n",
    "from recpack.scenarios import StrongGeneralization, TimedLastItemPrediction, WeakGeneralization\n",
    "from recpack.pipelines import ALGORITHM_REGISTRY\n",
    "import pandas as pd"
   ]
  },
  {
   "cell_type": "code",
   "execution_count": 3,
   "id": "288305e2-e570-4286-8468-c902e9d7ca25",
   "metadata": {},
   "outputs": [],
   "source": [
    "from recpack.datasets import Globo\n",
    "dataset = Globo(path=\"\", filename=\"archive.zip\")"
   ]
  },
  {
   "cell_type": "code",
   "execution_count": 4,
   "id": "9c73499f-1c14-4241-a0bd-e3412b4efd34",
   "metadata": {},
   "outputs": [],
   "source": [
    "dataset.fetch_dataset()"
   ]
  },
  {
   "cell_type": "code",
   "execution_count": 5,
   "id": "25bb2d15-0f4f-4142-8d5d-e06a6ea3c024",
   "metadata": {},
   "outputs": [
    {
     "data": {
      "text/plain": [
       "<recpack.datasets.globo.Globo at 0x7fa1acf697d0>"
      ]
     },
     "execution_count": 5,
     "metadata": {},
     "output_type": "execute_result"
    }
   ],
   "source": [
    "dataset"
   ]
  },
  {
   "cell_type": "code",
   "execution_count": null,
   "id": "a290f199-0a3d-4c2b-bc30-c82b5254ab34",
   "metadata": {},
   "outputs": [],
   "source": [
    "df = dataset._load_dataframe()\n",
    "#df = dataset.load()"
   ]
  },
  {
   "cell_type": "markdown",
   "id": "29c62813-2e27-4462-acad-ee013b3fd860",
   "metadata": {},
   "source": [
    "## Datasets with Timestamps sampling"
   ]
  },
  {
   "cell_type": "code",
   "execution_count": 8,
   "id": "1023a063-a2c2-4344-a1b5-65faadd0c9d9",
   "metadata": {},
   "outputs": [
    {
     "data": {
      "image/png": "[encoded data removed]",
      "text/plain": [
       "<Figure size 1000x600 with 1 Axes>"
      ]
     },
     "metadata": {},
     "output_type": "display_data"
    }
   ],
   "source": [
    "import matplotlib.pyplot as plt\n",
    "# Plot histogram of the timestamp column\n",
    "plt.figure(figsize=(10, 6))\n",
    "plt.hist(df['click_timestamp'], bins=50, edgecolor='k')\n",
    "plt.title('Histogram of Timestamps in the Globo Dataset')\n",
    "plt.xlabel('Timestamp')\n",
    "plt.ylabel('Frequency')\n",
    "plt.show()"
   ]
  },
  {
   "cell_type": "code",
   "execution_count": 7,
   "id": "66ac1379-2266-4bec-b6d3-9cf22c1aaedf",
   "metadata": {},
   "outputs": [],
   "source": [
    "timestamp_counts = df['click_timestamp'].value_counts().sort_index(ascending=False)\n",
    "cumulative_counts = timestamp_counts.cumsum()\n",
    "total_counts = cumulative_counts.max()\n",
    "threshold_count = total_counts * 0.1\n",
    "threshold_timestamp = cumulative_counts[cumulative_counts >= threshold_count].index[0]"
   ]
  },
  {
   "cell_type": "code",
   "execution_count": 8,
   "id": "a8b54ee9-8024-4d18-89c8-7858f45d7906",
   "metadata": {},
   "outputs": [],
   "source": [
    "filtered_df = df[df['click_timestamp'] >= threshold_timestamp]"
   ]
  },
  {
   "cell_type": "code",
   "execution_count": 9,
   "id": "877cfa8a-c9d3-4436-8a74-5009b026f266",
   "metadata": {},
   "outputs": [
    {
     "data": {
      "text/html": [
       "<div>\n",
       "<style scoped>\n",
       "    .dataframe tbody tr th:only-of-type {\n",
       "        vertical-align: middle;\n",
       "    }\n",
       "\n",
       "    .dataframe tbody tr th {\n",
       "        vertical-align: top;\n",
       "    }\n",
       "\n",
       "    .dataframe thead th {\n",
       "        text-align: right;\n",
       "    }\n",
       "</style>\n",
       "<table border=\"1\" class=\"dataframe\">\n",
       "  <thead>\n",
       "    <tr style=\"text-align: right;\">\n",
       "      <th></th>\n",
       "      <th>user_id</th>\n",
       "      <th>click_article_id</th>\n",
       "      <th>click_timestamp</th>\n",
       "    </tr>\n",
       "  </thead>\n",
       "  <tbody>\n",
       "    <tr>\n",
       "      <th>0</th>\n",
       "      <td>0</td>\n",
       "      <td>157541</td>\n",
       "      <td>1.506827e+09</td>\n",
       "    </tr>\n",
       "    <tr>\n",
       "      <th>1</th>\n",
       "      <td>0</td>\n",
       "      <td>68866</td>\n",
       "      <td>1.506827e+09</td>\n",
       "    </tr>\n",
       "    <tr>\n",
       "      <th>2</th>\n",
       "      <td>1</td>\n",
       "      <td>235840</td>\n",
       "      <td>1.506827e+09</td>\n",
       "    </tr>\n",
       "    <tr>\n",
       "      <th>3</th>\n",
       "      <td>1</td>\n",
       "      <td>96663</td>\n",
       "      <td>1.506827e+09</td>\n",
       "    </tr>\n",
       "    <tr>\n",
       "      <th>4</th>\n",
       "      <td>2</td>\n",
       "      <td>119592</td>\n",
       "      <td>1.506827e+09</td>\n",
       "    </tr>\n",
       "    <tr>\n",
       "      <th>...</th>\n",
       "      <td>...</td>\n",
       "      <td>...</td>\n",
       "      <td>...</td>\n",
       "    </tr>\n",
       "    <tr>\n",
       "      <th>2564</th>\n",
       "      <td>10051</td>\n",
       "      <td>84911</td>\n",
       "      <td>1.508212e+09</td>\n",
       "    </tr>\n",
       "    <tr>\n",
       "      <th>2565</th>\n",
       "      <td>322896</td>\n",
       "      <td>30760</td>\n",
       "      <td>1.508212e+09</td>\n",
       "    </tr>\n",
       "    <tr>\n",
       "      <th>2566</th>\n",
       "      <td>322896</td>\n",
       "      <td>157507</td>\n",
       "      <td>1.508212e+09</td>\n",
       "    </tr>\n",
       "    <tr>\n",
       "      <th>2567</th>\n",
       "      <td>123718</td>\n",
       "      <td>234481</td>\n",
       "      <td>1.508212e+09</td>\n",
       "    </tr>\n",
       "    <tr>\n",
       "      <th>2568</th>\n",
       "      <td>123718</td>\n",
       "      <td>233578</td>\n",
       "      <td>1.508212e+09</td>\n",
       "    </tr>\n",
       "  </tbody>\n",
       "</table>\n",
       "<p>2988181 rows × 3 columns</p>\n",
       "</div>"
      ],
      "text/plain": [
       "      user_id  click_article_id  click_timestamp\n",
       "0           0            157541     1.506827e+09\n",
       "1           0             68866     1.506827e+09\n",
       "2           1            235840     1.506827e+09\n",
       "3           1             96663     1.506827e+09\n",
       "4           2            119592     1.506827e+09\n",
       "...       ...               ...              ...\n",
       "2564    10051             84911     1.508212e+09\n",
       "2565   322896             30760     1.508212e+09\n",
       "2566   322896            157507     1.508212e+09\n",
       "2567   123718            234481     1.508212e+09\n",
       "2568   123718            233578     1.508212e+09\n",
       "\n",
       "[2988181 rows x 3 columns]"
      ]
     },
     "execution_count": 9,
     "metadata": {},
     "output_type": "execute_result"
    }
   ],
   "source": [
    "df"
   ]
  },
  {
   "cell_type": "code",
   "execution_count": 10,
   "id": "75315c82-bb45-4090-8d92-87e16d42f204",
   "metadata": {},
   "outputs": [
    {
     "data": {
      "text/html": [
       "<div>\n",
       "<style scoped>\n",
       "    .dataframe tbody tr th:only-of-type {\n",
       "        vertical-align: middle;\n",
       "    }\n",
       "\n",
       "    .dataframe tbody tr th {\n",
       "        vertical-align: top;\n",
       "    }\n",
       "\n",
       "    .dataframe thead th {\n",
       "        text-align: right;\n",
       "    }\n",
       "</style>\n",
       "<table border=\"1\" class=\"dataframe\">\n",
       "  <thead>\n",
       "    <tr style=\"text-align: right;\">\n",
       "      <th></th>\n",
       "      <th>user_id</th>\n",
       "      <th>click_article_id</th>\n",
       "      <th>click_timestamp</th>\n",
       "    </tr>\n",
       "  </thead>\n",
       "  <tbody>\n",
       "    <tr>\n",
       "      <th>4289</th>\n",
       "      <td>22712</td>\n",
       "      <td>158772</td>\n",
       "      <td>1.508196e+09</td>\n",
       "    </tr>\n",
       "    <tr>\n",
       "      <th>4290</th>\n",
       "      <td>22712</td>\n",
       "      <td>284638</td>\n",
       "      <td>1.508633e+09</td>\n",
       "    </tr>\n",
       "    <tr>\n",
       "      <th>4291</th>\n",
       "      <td>22712</td>\n",
       "      <td>95633</td>\n",
       "      <td>1.508678e+09</td>\n",
       "    </tr>\n",
       "    <tr>\n",
       "      <th>4292</th>\n",
       "      <td>22712</td>\n",
       "      <td>95524</td>\n",
       "      <td>1.508679e+09</td>\n",
       "    </tr>\n",
       "    <tr>\n",
       "      <th>4293</th>\n",
       "      <td>22712</td>\n",
       "      <td>184427</td>\n",
       "      <td>1.508679e+09</td>\n",
       "    </tr>\n",
       "    <tr>\n",
       "      <th>...</th>\n",
       "      <td>...</td>\n",
       "      <td>...</td>\n",
       "      <td>...</td>\n",
       "    </tr>\n",
       "    <tr>\n",
       "      <th>2564</th>\n",
       "      <td>10051</td>\n",
       "      <td>84911</td>\n",
       "      <td>1.508212e+09</td>\n",
       "    </tr>\n",
       "    <tr>\n",
       "      <th>2565</th>\n",
       "      <td>322896</td>\n",
       "      <td>30760</td>\n",
       "      <td>1.508212e+09</td>\n",
       "    </tr>\n",
       "    <tr>\n",
       "      <th>2566</th>\n",
       "      <td>322896</td>\n",
       "      <td>157507</td>\n",
       "      <td>1.508212e+09</td>\n",
       "    </tr>\n",
       "    <tr>\n",
       "      <th>2567</th>\n",
       "      <td>123718</td>\n",
       "      <td>234481</td>\n",
       "      <td>1.508212e+09</td>\n",
       "    </tr>\n",
       "    <tr>\n",
       "      <th>2568</th>\n",
       "      <td>123718</td>\n",
       "      <td>233578</td>\n",
       "      <td>1.508212e+09</td>\n",
       "    </tr>\n",
       "  </tbody>\n",
       "</table>\n",
       "<p>298819 rows × 3 columns</p>\n",
       "</div>"
      ],
      "text/plain": [
       "      user_id  click_article_id  click_timestamp\n",
       "4289    22712            158772     1.508196e+09\n",
       "4290    22712            284638     1.508633e+09\n",
       "4291    22712             95633     1.508678e+09\n",
       "4292    22712             95524     1.508679e+09\n",
       "4293    22712            184427     1.508679e+09\n",
       "...       ...               ...              ...\n",
       "2564    10051             84911     1.508212e+09\n",
       "2565   322896             30760     1.508212e+09\n",
       "2566   322896            157507     1.508212e+09\n",
       "2567   123718            234481     1.508212e+09\n",
       "2568   123718            233578     1.508212e+09\n",
       "\n",
       "[298819 rows x 3 columns]"
      ]
     },
     "execution_count": 10,
     "metadata": {},
     "output_type": "execute_result"
    }
   ],
   "source": [
    "filtered_df"
   ]
  },
  {
   "cell_type": "code",
   "execution_count": 11,
   "id": "28b3aa70-98ce-4bd8-9888-904495d7f8e5",
   "metadata": {},
   "outputs": [
    {
     "data": {
      "application/vnd.jupyter.widget-view+json": {
       "model_id": "a1b40810809040ac8b9495ba9ef1e977",
       "version_major": 2,
       "version_minor": 0
      },
      "text/plain": [
       "  0%|          | 0/298819 [00:00<?, ?it/s]"
      ]
     },
     "metadata": {},
     "output_type": "display_data"
    },
    {
     "data": {
      "application/vnd.jupyter.widget-view+json": {
       "model_id": "35edf3bdca4a45789e5103e69a7cccde",
       "version_major": 2,
       "version_minor": 0
      },
      "text/plain": [
       "  0%|          | 0/298819 [00:00<?, ?it/s]"
      ]
     },
     "metadata": {},
     "output_type": "display_data"
    }
   ],
   "source": [
    "from recpack.matrix import InteractionMatrix\n",
    "from recpack.preprocessing.preprocessors import DataFramePreprocessor\n",
    "\n",
    "item_ix = 'click_article_id'\n",
    "user_ix = 'user_id'\n",
    "timestamp_ix = 'click_timestamp'\n",
    "\n",
    "preprocessor = DataFramePreprocessor(item_ix=item_ix, user_ix=user_ix, timestamp_ix=timestamp_ix)\n",
    "\n",
    "interaction_matrix = preprocessor.process(filtered_df)"
   ]
  },
  {
   "cell_type": "code",
   "execution_count": 15,
   "id": "de37ad03-b7d4-4099-a4d8-d3c6636f9267",
   "metadata": {},
   "outputs": [
    {
     "name": "stdout",
     "output_type": "stream",
     "text": [
      "1508169181.841 1508153035.383\n"
     ]
    }
   ],
   "source": [
    "interaction_matrix.timestamps.values\n",
    "t_80 = interaction_matrix.timestamps.values[int(0.7 * len(interaction_matrix.timestamps.values))]\n",
    "t_validate_80 = interaction_matrix.timestamps.values[int(0.7 * 0.7 * len(interaction_matrix.timestamps.values))]\n",
    "print(t_80, t_validate_80)"
   ]
  },
  {
   "cell_type": "code",
   "execution_count": null,
   "id": "aa72bb09-e745-4c5f-b4b3-88785f8a96b1",
   "metadata": {},
   "outputs": [],
   "source": [
    "#The last scenario being used is TimedLastItemPrediction after generating the results of StrongGeneralization scenario\n",
    "#scenario = StrongGeneralization(frac_users_train=0.75, frac_interactions_in=0.8, validation=True)\n",
    "scenario = TimedLastItemPrediction(t = t_80, t_validation = t_validate_80, validation=True)\n",
    "scenario.split(interaction_matrix)"
   ]
  },
  {
   "cell_type": "code",
   "execution_count": 17,
   "id": "40f6a5b5-4f21-49ee-a96e-f7e375031134",
   "metadata": {
    "scrolled": true
   },
   "outputs": [
    {
     "name": "stderr",
     "output_type": "stream",
     "text": [
      "/opt/conda/lib/python3.11/site-packages/recpack/pipelines/pipeline_builder.py:145: UserWarning: Grid parameter for add_algorithm function will be deprecated in favour of optimisation_info.\n",
      "  warnings.warn(\n"
     ]
    },
    {
     "data": {
      "application/vnd.jupyter.widget-view+json": {
       "model_id": "cfbc5817ebd54fef8be34d7f08d6f80e",
       "version_major": 2,
       "version_minor": 0
      },
      "text/plain": [
       "  0%|          | 0/2 [00:00<?, ?it/s]"
      ]
     },
     "metadata": {},
     "output_type": "display_data"
    },
    {
     "name": "stdout",
     "output_type": "stream",
     "text": [
      "2024-08-07 19:06:38,958 - base - recpack - INFO - Fitting ItemKNN complete - Took 0.355s\n"
     ]
    },
    {
     "name": "stderr",
     "output_type": "stream",
     "text": [
      "/opt/conda/lib/python3.11/site-packages/recpack/algorithms/base.py:279: UserWarning: ItemKNN missing similar items for 4888 items.\n",
      "  warnings.warn(f\"{self.name} missing similar items for {missing} items.\")\n",
      "/opt/conda/lib/python3.11/site-packages/recpack/algorithms/base.py:127: UserWarning: ItemKNN failed to recommend any items for 665 users\n",
      "  warnings.warn(f\"{self.name} failed to recommend any items \" f\"for {len(missing)} users\")\n"
     ]
    },
    {
     "name": "stdout",
     "output_type": "stream",
     "text": [
      "2024-08-07 19:06:40,745 - base - recpack - INFO - Fitting ItemKNN complete - Took 0.385s\n"
     ]
    },
    {
     "name": "stderr",
     "output_type": "stream",
     "text": [
      "/opt/conda/lib/python3.11/site-packages/recpack/algorithms/base.py:279: UserWarning: ItemKNN missing similar items for 4888 items.\n",
      "  warnings.warn(f\"{self.name} missing similar items for {missing} items.\")\n",
      "/opt/conda/lib/python3.11/site-packages/recpack/algorithms/base.py:127: UserWarning: ItemKNN failed to recommend any items for 665 users\n",
      "  warnings.warn(f\"{self.name} failed to recommend any items \" f\"for {len(missing)} users\")\n"
     ]
    },
    {
     "name": "stdout",
     "output_type": "stream",
     "text": [
      "2024-08-07 19:06:43,156 - base - recpack - INFO - Fitting ItemKNN complete - Took 0.446s\n"
     ]
    },
    {
     "name": "stderr",
     "output_type": "stream",
     "text": [
      "/opt/conda/lib/python3.11/site-packages/recpack/algorithms/base.py:279: UserWarning: ItemKNN missing similar items for 4888 items.\n",
      "  warnings.warn(f\"{self.name} missing similar items for {missing} items.\")\n",
      "/opt/conda/lib/python3.11/site-packages/recpack/algorithms/base.py:127: UserWarning: ItemKNN failed to recommend any items for 665 users\n",
      "  warnings.warn(f\"{self.name} failed to recommend any items \" f\"for {len(missing)} users\")\n"
     ]
    },
    {
     "name": "stdout",
     "output_type": "stream",
     "text": [
      "2024-08-07 19:06:46,422 - base - recpack - INFO - Fitting ItemKNN complete - Took 0.459s\n"
     ]
    },
    {
     "name": "stderr",
     "output_type": "stream",
     "text": [
      "/opt/conda/lib/python3.11/site-packages/recpack/algorithms/base.py:279: UserWarning: ItemKNN missing similar items for 4888 items.\n",
      "  warnings.warn(f\"{self.name} missing similar items for {missing} items.\")\n",
      "/opt/conda/lib/python3.11/site-packages/recpack/algorithms/base.py:127: UserWarning: ItemKNN failed to recommend any items for 665 users\n",
      "  warnings.warn(f\"{self.name} failed to recommend any items \" f\"for {len(missing)} users\")\n"
     ]
    },
    {
     "name": "stdout",
     "output_type": "stream",
     "text": [
      "2024-08-07 19:06:50,850 - base - recpack - INFO - Fitting ItemKNN complete - Took 0.55s\n"
     ]
    },
    {
     "name": "stderr",
     "output_type": "stream",
     "text": [
      "/opt/conda/lib/python3.11/site-packages/recpack/algorithms/base.py:279: UserWarning: ItemKNN missing similar items for 3228 items.\n",
      "  warnings.warn(f\"{self.name} missing similar items for {missing} items.\")\n",
      "/opt/conda/lib/python3.11/site-packages/recpack/algorithms/base.py:127: UserWarning: ItemKNN failed to recommend any items for 1858 users\n",
      "  warnings.warn(f\"{self.name} failed to recommend any items \" f\"for {len(missing)} users\")\n"
     ]
    },
    {
     "name": "stdout",
     "output_type": "stream",
     "text": [
      "2024-08-07 19:07:42,496 - base - recpack - INFO - Fitting EASE complete - Took 34.4s\n"
     ]
    },
    {
     "name": "stderr",
     "output_type": "stream",
     "text": [
      "/opt/conda/lib/python3.11/site-packages/recpack/algorithms/base.py:279: UserWarning: EASE missing similar items for 4888 items.\n",
      "  warnings.warn(f\"{self.name} missing similar items for {missing} items.\")\n",
      "/opt/conda/lib/python3.11/site-packages/recpack/algorithms/base.py:127: UserWarning: EASE failed to recommend any items for 665 users\n",
      "  warnings.warn(f\"{self.name} failed to recommend any items \" f\"for {len(missing)} users\")\n"
     ]
    },
    {
     "name": "stdout",
     "output_type": "stream",
     "text": [
      "2024-08-07 19:09:00,191 - base - recpack - INFO - Fitting EASE complete - Took 38.5s\n"
     ]
    },
    {
     "name": "stderr",
     "output_type": "stream",
     "text": [
      "/opt/conda/lib/python3.11/site-packages/recpack/algorithms/base.py:279: UserWarning: EASE missing similar items for 4888 items.\n",
      "  warnings.warn(f\"{self.name} missing similar items for {missing} items.\")\n",
      "/opt/conda/lib/python3.11/site-packages/recpack/algorithms/base.py:127: UserWarning: EASE failed to recommend any items for 665 users\n",
      "  warnings.warn(f\"{self.name} failed to recommend any items \" f\"for {len(missing)} users\")\n"
     ]
    },
    {
     "name": "stdout",
     "output_type": "stream",
     "text": [
      "2024-08-07 19:10:04,846 - base - recpack - INFO - Fitting EASE complete - Took 33.2s\n"
     ]
    },
    {
     "name": "stderr",
     "output_type": "stream",
     "text": [
      "/opt/conda/lib/python3.11/site-packages/recpack/algorithms/base.py:279: UserWarning: EASE missing similar items for 4888 items.\n",
      "  warnings.warn(f\"{self.name} missing similar items for {missing} items.\")\n",
      "/opt/conda/lib/python3.11/site-packages/recpack/algorithms/base.py:127: UserWarning: EASE failed to recommend any items for 665 users\n",
      "  warnings.warn(f\"{self.name} failed to recommend any items \" f\"for {len(missing)} users\")\n",
      "/opt/conda/lib/python3.11/site-packages/recpack/algorithms/ease.py:89: RuntimeWarning: divide by zero encountered in divide\n",
      "  w = 1 / np.diag(XTX) ** self.alpha\n",
      "/opt/conda/lib/python3.11/site-packages/recpack/algorithms/ease.py:90: RuntimeWarning: invalid value encountered in matmul\n",
      "  B = B @ np.diag(w)\n"
     ]
    },
    {
     "name": "stdout",
     "output_type": "stream",
     "text": [
      "2024-08-07 19:11:41,628 - base - recpack - INFO - Fitting EASE complete - Took 65.0s\n"
     ]
    },
    {
     "name": "stderr",
     "output_type": "stream",
     "text": [
      "/opt/conda/lib/python3.11/site-packages/recpack/algorithms/ease.py:89: RuntimeWarning: divide by zero encountered in divide\n",
      "  w = 1 / np.diag(XTX) ** self.alpha\n",
      "/opt/conda/lib/python3.11/site-packages/recpack/algorithms/ease.py:90: RuntimeWarning: invalid value encountered in matmul\n",
      "  B = B @ np.diag(w)\n"
     ]
    },
    {
     "name": "stdout",
     "output_type": "stream",
     "text": [
      "2024-08-07 19:14:21,278 - base - recpack - INFO - Fitting EASE complete - Took 60.3s\n"
     ]
    },
    {
     "name": "stderr",
     "output_type": "stream",
     "text": [
      "/opt/conda/lib/python3.11/site-packages/recpack/algorithms/ease.py:89: RuntimeWarning: divide by zero encountered in divide\n",
      "  w = 1 / np.diag(XTX) ** self.alpha\n",
      "/opt/conda/lib/python3.11/site-packages/recpack/algorithms/ease.py:90: RuntimeWarning: invalid value encountered in matmul\n",
      "  B = B @ np.diag(w)\n"
     ]
    },
    {
     "name": "stdout",
     "output_type": "stream",
     "text": [
      "2024-08-07 19:16:55,229 - base - recpack - INFO - Fitting EASE complete - Took 57.7s\n"
     ]
    },
    {
     "name": "stderr",
     "output_type": "stream",
     "text": [
      "/opt/conda/lib/python3.11/site-packages/recpack/algorithms/ease.py:89: RuntimeWarning: divide by zero encountered in divide\n",
      "  w = 1 / np.diag(XTX) ** self.alpha\n",
      "/opt/conda/lib/python3.11/site-packages/recpack/algorithms/ease.py:90: RuntimeWarning: invalid value encountered in matmul\n",
      "  B = B @ np.diag(w)\n"
     ]
    },
    {
     "name": "stdout",
     "output_type": "stream",
     "text": [
      "2024-08-07 19:19:35,762 - base - recpack - INFO - Fitting EASE complete - Took 62.0s\n"
     ]
    },
    {
     "name": "stderr",
     "output_type": "stream",
     "text": [
      "/opt/conda/lib/python3.11/site-packages/recpack/algorithms/ease.py:89: RuntimeWarning: divide by zero encountered in divide\n",
      "  w = 1 / np.diag(XTX) ** self.alpha\n",
      "/opt/conda/lib/python3.11/site-packages/recpack/algorithms/ease.py:90: RuntimeWarning: invalid value encountered in matmul\n",
      "  B = B @ np.diag(w)\n"
     ]
    },
    {
     "name": "stdout",
     "output_type": "stream",
     "text": [
      "2024-08-07 19:22:19,166 - base - recpack - INFO - Fitting EASE complete - Took 68.3s\n"
     ]
    },
    {
     "name": "stderr",
     "output_type": "stream",
     "text": [
      "/opt/conda/lib/python3.11/site-packages/recpack/algorithms/ease.py:89: RuntimeWarning: divide by zero encountered in divide\n",
      "  w = 1 / np.diag(XTX) ** self.alpha\n",
      "/opt/conda/lib/python3.11/site-packages/recpack/algorithms/ease.py:90: RuntimeWarning: invalid value encountered in matmul\n",
      "  B = B @ np.diag(w)\n"
     ]
    },
    {
     "name": "stdout",
     "output_type": "stream",
     "text": [
      "2024-08-07 19:24:51,890 - base - recpack - INFO - Fitting EASE complete - Took 58.4s\n",
      "2024-08-07 19:27:08,613 - base - recpack - INFO - Fitting EASE complete - Took 45.5s\n"
     ]
    },
    {
     "name": "stderr",
     "output_type": "stream",
     "text": [
      "/opt/conda/lib/python3.11/site-packages/recpack/algorithms/base.py:279: UserWarning: EASE missing similar items for 3228 items.\n",
      "  warnings.warn(f\"{self.name} missing similar items for {missing} items.\")\n",
      "/opt/conda/lib/python3.11/site-packages/recpack/algorithms/base.py:127: UserWarning: EASE failed to recommend any items for 1858 users\n",
      "  warnings.warn(f\"{self.name} failed to recommend any items \" f\"for {len(missing)} users\")\n"
     ]
    }
   ],
   "source": [
    "pipeline_builder = PipelineBuilder()\n",
    "ok = (scenario._validation_data_in, scenario._validation_data_out)\n",
    "pipeline_builder.set_data_from_scenario(scenario)\n",
    "\n",
    "\n",
    "# Add the baseline algorithms\n",
    "pipeline_builder.add_algorithm('ItemKNN', grid={'K': [100, 200, 400, 800]})\n",
    "pipeline_builder.add_algorithm('EASE', grid={'l2': [10, 100, 1000], 'alpha': [0, 0.1, 0.5]})\n",
    "\n",
    "\n",
    "# Add NDCG, Recall, and HR metrics to be evaluated at 10, 20, and 50\n",
    "pipeline_builder.add_metric('NDCGK', [10, 20, 50])\n",
    "pipeline_builder.add_metric('RecallK', [10, 20, 50])\n",
    "pipeline_builder.add_metric('HitK', [10, 20, 50])\n",
    "\n",
    "# Set the optimisation metric\n",
    "pipeline_builder.set_optimisation_metric('RecallK', 20)\n",
    "\n",
    "# Construct pipeline\n",
    "pipeline = pipeline_builder.build()\n",
    "\n",
    "# Debugging: Output the shape of the training data\n",
    "#print(f\"Training data shape: {im.shape}\")\n",
    "\n",
    "# Run pipeline, will first do optimisation, and then evaluation\n",
    "pipeline.run()"
   ]
  },
  {
   "cell_type": "code",
   "execution_count": 18,
   "id": "e80f2784-1ed9-4d93-9883-4c34213d62ed",
   "metadata": {},
   "outputs": [
    {
     "data": {
      "text/html": [
       "<div>\n",
       "<style scoped>\n",
       "    .dataframe tbody tr th:only-of-type {\n",
       "        vertical-align: middle;\n",
       "    }\n",
       "\n",
       "    .dataframe tbody tr th {\n",
       "        vertical-align: top;\n",
       "    }\n",
       "\n",
       "    .dataframe thead th {\n",
       "        text-align: right;\n",
       "    }\n",
       "</style>\n",
       "<table border=\"1\" class=\"dataframe\">\n",
       "  <thead>\n",
       "    <tr style=\"text-align: right;\">\n",
       "      <th></th>\n",
       "      <th>NDCGK_10</th>\n",
       "      <th>NDCGK_20</th>\n",
       "      <th>NDCGK_50</th>\n",
       "      <th>RecallK_10</th>\n",
       "      <th>RecallK_20</th>\n",
       "      <th>RecallK_50</th>\n",
       "      <th>HitK_10</th>\n",
       "      <th>HitK_20</th>\n",
       "      <th>HitK_50</th>\n",
       "    </tr>\n",
       "  </thead>\n",
       "  <tbody>\n",
       "    <tr>\n",
       "      <th>ItemKNN(K=400,normalize_X=False,normalize_sim=False,pop_discount=None,similarity=cosine)</th>\n",
       "      <td>0.132201</td>\n",
       "      <td>0.145572</td>\n",
       "      <td>0.156253</td>\n",
       "      <td>0.237551</td>\n",
       "      <td>0.291033</td>\n",
       "      <td>0.344641</td>\n",
       "      <td>0.237551</td>\n",
       "      <td>0.291033</td>\n",
       "      <td>0.344641</td>\n",
       "    </tr>\n",
       "    <tr>\n",
       "      <th>EASE(alpha=0,density=None,l2=1000)</th>\n",
       "      <td>0.133219</td>\n",
       "      <td>0.146266</td>\n",
       "      <td>0.158669</td>\n",
       "      <td>0.239756</td>\n",
       "      <td>0.290844</td>\n",
       "      <td>0.352830</td>\n",
       "      <td>0.239756</td>\n",
       "      <td>0.290844</td>\n",
       "      <td>0.352830</td>\n",
       "    </tr>\n",
       "  </tbody>\n",
       "</table>\n",
       "</div>"
      ],
      "text/plain": [
       "                                                    NDCGK_10  NDCGK_20  \\\n",
       "ItemKNN(K=400,normalize_X=False,normalize_sim=F...  0.132201  0.145572   \n",
       "EASE(alpha=0,density=None,l2=1000)                  0.133219  0.146266   \n",
       "\n",
       "                                                    NDCGK_50  RecallK_10  \\\n",
       "ItemKNN(K=400,normalize_X=False,normalize_sim=F...  0.156253    0.237551   \n",
       "EASE(alpha=0,density=None,l2=1000)                  0.158669    0.239756   \n",
       "\n",
       "                                                    RecallK_20  RecallK_50  \\\n",
       "ItemKNN(K=400,normalize_X=False,normalize_sim=F...    0.291033    0.344641   \n",
       "EASE(alpha=0,density=None,l2=1000)                    0.290844    0.352830   \n",
       "\n",
       "                                                     HitK_10   HitK_20  \\\n",
       "ItemKNN(K=400,normalize_X=False,normalize_sim=F...  0.237551  0.291033   \n",
       "EASE(alpha=0,density=None,l2=1000)                  0.239756  0.290844   \n",
       "\n",
       "                                                     HitK_50  \n",
       "ItemKNN(K=400,normalize_X=False,normalize_sim=F...  0.344641  \n",
       "EASE(alpha=0,density=None,l2=1000)                  0.352830  "
      ]
     },
     "execution_count": 18,
     "metadata": {},
     "output_type": "execute_result"
    }
   ],
   "source": [
    "pipeline.get_metrics()"
   ]
  },
  {
   "cell_type": "code",
   "execution_count": null,
   "id": "06eb89bb-82dc-4982-8025-327b4e25fddb",
   "metadata": {},
   "outputs": [],
   "source": []
  }
 ],
 "metadata": {
  "kernelspec": {
   "display_name": "Python 3 (ipykernel)",
   "language": "python",
   "name": "python3"
  },
  "language_info": {
   "codemirror_mode": {
    "name": "ipython",
    "version": 3
   },
   "file_extension": ".py",
   "mimetype": "text/x-python",
   "name": "python",
   "nbconvert_exporter": "python",
   "pygments_lexer": "ipython3",
   "version": "3.11.9"
  }
 },
 "nbformat": 4,
 "nbformat_minor": 5
}
