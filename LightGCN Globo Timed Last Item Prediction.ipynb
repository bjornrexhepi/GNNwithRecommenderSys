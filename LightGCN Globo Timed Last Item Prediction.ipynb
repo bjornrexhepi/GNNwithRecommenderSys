{
 "cells": [
  {
   "cell_type": "markdown",
   "id": "32615a2b-49a3-447f-bfa3-ef8f427eda5e",
   "metadata": {},
   "source": [
    "# LightGCN with Globo Dataset and TimedLastItemPrediction Scenario"
   ]
  },
  {
   "cell_type": "markdown",
   "id": "26045094-6f9f-43b3-8473-808b22f2c14d",
   "metadata": {},
   "source": [
    "In this notebook, the implementation of LightGCN in RecPack and the experimental part to generate the results of the algorithm will be presented. \n",
    "The notebook contains:\n",
    "1. The implementation of LightGCN in RecPack.\n",
    "2. The 10% of Globo Dataset from RecPack and the TimedLastItemPrediction Scenario has been used to split the data.\n",
    "3. The TimedLastItemPrediction Scenario to split the data.\n",
    "4. The RecPack Pipeline Builder to run the experiments, including the splitted dataset, the algorithms and metrics to run. Hyperparameter has been performed in the Pipeline.\n",
    "\n",
    "Please make sure you have installed all the latest libraries in your Python environment, in order to have a successful run of the code."
   ]
  },
  {
   "cell_type": "code",
   "execution_count": 1,
   "id": "1cde07fa-6d38-494d-b8e7-b8dcf83a0a08",
   "metadata": {},
   "outputs": [],
   "source": [
    "import torch\n",
    "from tqdm import tqdm"
   ]
  },
  {
   "cell_type": "code",
   "execution_count": 3,
   "id": "98de5207-1f90-441c-a7d0-4823af3ba234",
   "metadata": {},
   "outputs": [],
   "source": [
    "from torch_sparse import SparseTensor, matmul"
   ]
  },
  {
   "cell_type": "markdown",
   "id": "27d6605f-a085-43cf-9005-bcabf4322e81",
   "metadata": {},
   "source": [
    "## LightGCN implementation in RecPack"
   ]
  },
  {
   "cell_type": "code",
   "execution_count": 4,
   "id": "5c7dc8a2-fbb5-4309-bb75-7274fd8fd280",
   "metadata": {},
   "outputs": [],
   "source": [
    "import torch\n",
    "import torch.nn as nn\n",
    "from torch_geometric.nn import MessagePassing\n",
    "from torch_geometric.utils import add_self_loops, degree\n",
    "import time\n",
    "from typing import List, Tuple, Optional\n",
    "from tqdm import tqdm\n",
    "from recpack.algorithms.base import TorchMLAlgorithm\n",
    "from recpack.matrix.interaction_matrix import InteractionMatrix\n",
    "from recpack.matrix import to_csr_matrix\n",
    "from recpack.algorithms.loss_functions import bpr_loss\n",
    "from recpack.algorithms.samplers import PositiveNegativeSampler\n",
    "from scipy.sparse import csr_matrix, lil_matrix\n",
    "import torch.optim as optim\n",
    "import logging\n",
    "\n",
    "# logger = logging.getLogger(__name__)\n",
    "\n",
    "# LightGCN model definition using MessagePassing from PyTorch Geometric\n",
    "class LightGCN(MessagePassing):\n",
    "    def __init__(self, num_users, num_items, embedding_dim=64, K=3, add_self_loops=False):\n",
    "        \"\"\"\n",
    "        Initialize the LightGCN model with user and item embeddings.\n",
    "\n",
    "        Args:\n",
    "            num_users (int): Number of users.\n",
    "            num_items (int): Number of items.\n",
    "            embedding_dim (int): Dimension of the embedding vectors.\n",
    "            K (int): Number of propagation layers.\n",
    "            add_self_loops (bool): Whether to add self-loops to the adjacency matrix.\n",
    "        \"\"\"\n",
    "        super(LightGCN, self).__init__(aggr='add')\n",
    "        self.num_users, self.num_items = num_users, num_items\n",
    "        self.embedding_dim, self.K = embedding_dim, K\n",
    "        self.add_self_loops = add_self_loops\n",
    "\n",
    "        # Initialize user and item embeddings\n",
    "        self.users_emb = nn.Embedding(num_embeddings=self.num_users, embedding_dim=self.embedding_dim)\n",
    "        self.items_emb = nn.Embedding(num_embeddings=self.num_items, embedding_dim=self.embedding_dim)\n",
    "\n",
    "        # Initialize embeddings with normal distribution\n",
    "        nn.init.normal_(self.users_emb.weight, std=0.1)\n",
    "        nn.init.normal_(self.items_emb.weight, std=0.1)\n",
    "\n",
    "    def forward(self, edge_index: SparseTensor):\n",
    "        \"\"\"\n",
    "        Forward pass for the LightGCN model.\n",
    "\n",
    "        Args:\n",
    "            edge_index (SparseTensor): Sparse tensor representing the adjacency matrix.\n",
    "\n",
    "        Returns:\n",
    "            Tuple: Final user and item embeddings after propagation, and the initial embeddings.\n",
    "        \"\"\"\n",
    "        if self.add_self_loops:\n",
    "            edge_index, _ = add_self_loops(edge_index, num_nodes=self.num_users + self.num_items)\n",
    "        \n",
    "        # Normalize the adjacency matrix\n",
    "        edge_index_norm = self.normalize_adj(edge_index)\n",
    "        \n",
    "        # Concatenate user and item embeddings\n",
    "        emb_0 = torch.cat([self.users_emb.weight, self.items_emb.weight])\n",
    "        embs = [emb_0]\n",
    "        emb_k = emb_0\n",
    "\n",
    "        # Perform K propagation steps\n",
    "        for i in range(self.K):\n",
    "            # Preventing CUDA/Library version error\n",
    "            try:\n",
    "                emb_k = self.propagate(edge_index_norm, x=emb_k)\n",
    "            except RuntimeError as e:\n",
    "                break\n",
    "            embs.append(emb_k)\n",
    "\n",
    "        # Stack and average embeddings from each propagation step\n",
    "        embs = torch.stack(embs, dim=1)\n",
    "        emb_final = torch.mean(embs, dim=1)\n",
    "\n",
    "        # Split the final embeddings back into user and item embeddings\n",
    "        users_emb_final, items_emb_final = torch.split(emb_final, [self.num_users, self.num_items])\n",
    "\n",
    "        return users_emb_final, self.users_emb.weight, items_emb_final, self.items_emb.weight\n",
    "\n",
    "    def message(self, x_j: torch.Tensor) -> torch.Tensor:\n",
    "        \"\"\"\n",
    "        Message function that aggregates messages from neighboring nodes.\n",
    "\n",
    "        Args:\n",
    "            x_j (torch.Tensor): Features of the neighboring nodes.\n",
    "\n",
    "        Returns:\n",
    "            torch.Tensor: Aggregated messages.\n",
    "        \"\"\"\n",
    "        return x_j\n",
    "\n",
    "    def message_and_aggregate(self, adj_t: SparseTensor, x: torch.Tensor) -> torch.Tensor:\n",
    "        \"\"\"\n",
    "        Message and aggregate function using matrix multiplication.\n",
    "\n",
    "        Args:\n",
    "            adj_t (SparseTensor): Transposed adjacency matrix.\n",
    "            x (torch.Tensor): Node features.\n",
    "\n",
    "        Returns:\n",
    "            torch.Tensor: Result of multiplying adjacency matrix with node features.\n",
    "        \"\"\"\n",
    "        return matmul(adj_t, x)\n",
    "\n",
    "    def normalize_adj(self, edge_index: SparseTensor) -> SparseTensor:\n",
    "        \"\"\"\n",
    "        Normalize the adjacency matrix.\n",
    "\n",
    "        Args:\n",
    "            edge_index (SparseTensor): Sparse tensor representing the adjacency matrix.\n",
    "\n",
    "        Returns:\n",
    "            SparseTensor: Normalized adjacency matrix.\n",
    "        \"\"\"\n",
    "        row, col, value = edge_index.coo()\n",
    "        row = row.long()  # Ensure indices are long type\n",
    "        col = col.long()  # Ensure indices are long type\n",
    "        deg = degree(row, num_nodes=edge_index.size(0), dtype=value.dtype)\n",
    "        deg_inv_sqrt = deg.pow(-0.5)\n",
    "        deg_inv_sqrt[deg_inv_sqrt == float('inf')] = 0\n",
    "        value = deg_inv_sqrt[row] * value * deg_inv_sqrt[col]\n",
    "        return SparseTensor(row=row, col=col, value=value, sparse_sizes=edge_index.sparse_sizes())\n"
   ]
  },
  {
   "cell_type": "code",
   "execution_count": 5,
   "id": "383f2777-5652-4d39-a111-9f8f71865f24",
   "metadata": {},
   "outputs": [],
   "source": [
    "from recpack.algorithms.base import TorchMLAlgorithm\n",
    "from recpack.matrix import Matrix\n",
    "from recpack.matrix.interaction_matrix import InteractionMatrix\n",
    "from recpack.algorithms.loss_functions import bpr_loss, bpr_max_loss\n",
    "from recpack.algorithms.samplers import PositiveNegativeSampler\n",
    "from recpack.algorithms.stopping_criterion import (\n",
    "    EarlyStoppingException,\n",
    "    StoppingCriterion,\n",
    ")\n",
    "from typing import List, Tuple, Optional\n",
    "import numpy as np\n",
    "from scipy.sparse import csr_matrix, lil_matrix, coo_matrix\n",
    "import torch\n",
    "import torch.optim as optim\n",
    "import tempfile\n",
    "import time\n",
    "import logging\n",
    "\n",
    "logger = logging.getLogger(__name__)\n",
    "\n",
    "# Implementation of the LightGCN algorithm using TorchMLAlgorithm as a base class\n",
    "class LightGCNAlgorithm(TorchMLAlgorithm):\n",
    "    def __init__(\n",
    "        self,\n",
    "        batch_size: int = 256,\n",
    "        max_epochs: int = 100,\n",
    "        learning_rate: float = 0.001,\n",
    "        embedding_dim: int = 64,\n",
    "        n_layers: int = 3,\n",
    "        reg_weight: float = 1e-5,\n",
    "        stopping_criterion: str = \"bpr\",\n",
    "        stop_early: bool = True,\n",
    "        max_iter_no_change: int = 5,\n",
    "        min_improvement: float = 0.01,\n",
    "        seed: Optional[int] = None,\n",
    "        save_best_to_file: bool = False,\n",
    "        keep_last: bool = False,\n",
    "        predict_topK: Optional[int] = None,\n",
    "        validation_sample_size: Optional[int] = None,\n",
    "    ):\n",
    "        \"\"\"\n",
    "        Initialize the LightGCNAlgorithm with various hyperparameters.\n",
    "\n",
    "        Args:\n",
    "            batch_size (int): Number of samples per batch.\n",
    "            max_epochs (int): Maximum number of training epochs.\n",
    "            learning_rate (float): Learning rate for the optimizer.\n",
    "            embedding_dim (int): Dimension of the embedding vectors.\n",
    "            n_layers (int): Number of LightGCN layers.\n",
    "            reg_weight (float): Regularization weight.\n",
    "            stopping_criterion (str): Criterion to stop training early.\n",
    "            stop_early (bool): Whether to enable early stopping.\n",
    "            max_iter_no_change (int): Maximum iterations with no improvement for early stopping.\n",
    "            min_improvement (float): Minimum improvement required for early stopping.\n",
    "            seed (Optional[int]): Random seed for reproducibility.\n",
    "            save_best_to_file (bool): Whether to save the best model to a file.\n",
    "            keep_last (bool): Whether to keep the last model.\n",
    "            predict_topK (Optional[int]): Number of top-K predictions to consider.\n",
    "            validation_sample_size (Optional[int]): Size of the validation sample.\n",
    "        \"\"\"\n",
    "        self.embedding_dim = embedding_dim\n",
    "        self.n_layers = n_layers\n",
    "        self.reg_weight = reg_weight\n",
    "        super().__init__(\n",
    "            batch_size=batch_size,\n",
    "            max_epochs=max_epochs,\n",
    "            learning_rate=learning_rate,\n",
    "            stopping_criterion=stopping_criterion,\n",
    "            stop_early=stop_early,\n",
    "            max_iter_no_change=max_iter_no_change,\n",
    "            min_improvement=min_improvement,\n",
    "            seed=seed,\n",
    "            save_best_to_file=save_best_to_file,\n",
    "            keep_last=keep_last,\n",
    "            predict_topK=predict_topK,\n",
    "            validation_sample_size=validation_sample_size,\n",
    "        )\n",
    "        self.device = torch.device('cuda' if torch.cuda.is_available() else 'cpu')\n",
    "\n",
    "    def _init_model(self, train: InteractionMatrix) -> None:\n",
    "        \"\"\"\n",
    "        Initialize the LightGCN model and optimizer.\n",
    "\n",
    "        Args:\n",
    "            train (InteractionMatrix): The training interaction matrix.\n",
    "        \"\"\"\n",
    "        num_users, num_items = train.shape\n",
    "        self.model_ = LightGCN(num_users, num_items, self.embedding_dim, self.n_layers).to(self.device)\n",
    "        self.optimizer = optim.Adam(self.model_.parameters(), lr=self.learning_rate)\n",
    "\n",
    "    def _create_sparse_graph(self, interaction_matrix: csr_matrix, num_users: int, num_items: int) -> SparseTensor:\n",
    "        \"\"\"\n",
    "        Create a sparse graph from the interaction matrix.\n",
    "\n",
    "        Args:\n",
    "            interaction_matrix (csr_matrix): The interaction matrix in CSR format.\n",
    "            num_users (int): Number of users.\n",
    "            num_items (int): Number of items.\n",
    "\n",
    "        Returns:\n",
    "            SparseTensor: A sparse tensor representing the graph.\n",
    "        \"\"\"\n",
    "        coo = interaction_matrix.tocoo()\n",
    "        row = torch.tensor(coo.row, dtype=torch.long)\n",
    "        col = torch.tensor(coo.col, dtype=torch.long)\n",
    "        value = torch.tensor(coo.data, dtype=torch.float32)\n",
    "        print(f\"Graph - Rows: {row.shape}, Cols: {col.shape}, Values: {value.shape}\")  # Debugging information\n",
    "        return SparseTensor(row=row, col=col, value=value, sparse_sizes=(num_users + num_items, num_users + num_items)).to(self.device)\n",
    "\n",
    "    def _train_epoch(self, train: csr_matrix) -> List[float]:\n",
    "        \"\"\"\n",
    "        Train the model for one epoch.\n",
    "\n",
    "        Args:\n",
    "            train (csr_matrix): The training interaction matrix.\n",
    "\n",
    "        Returns:\n",
    "            List[float]: A list of losses for each batch.\n",
    "        \"\"\"\n",
    "        self.model_.train()\n",
    "        graph = self._create_sparse_graph(train, train.shape[0], train.shape[1]).to(self.device)\n",
    "        total_loss = 0\n",
    "        losses = []\n",
    "\n",
    "        sampler = PositiveNegativeSampler(num_negatives=1, batch_size=self.batch_size)\n",
    "\n",
    "        for user_indices, pos_item_indices, neg_item_indices in sampler.sample(train):\n",
    "            user_indices = torch.tensor(user_indices).to(self.device)\n",
    "            pos_item_indices = torch.tensor(pos_item_indices).to(self.device)\n",
    "            neg_item_indices = torch.tensor(neg_item_indices).to(self.device).squeeze()\n",
    "\n",
    "            self.optimizer.zero_grad()\n",
    "            users_emb_final, _, items_emb_final, _ = self.model_(graph)  # Call model only once\n",
    "            pos_scores = users_emb_final[user_indices] @ items_emb_final[pos_item_indices].t()\n",
    "            neg_scores = users_emb_final[user_indices] @ items_emb_final[neg_item_indices].t()\n",
    "\n",
    "            loss = bpr_loss(pos_scores, neg_scores)\n",
    "\n",
    "            if torch.isnan(loss).any() or torch.isinf(loss).any():\n",
    "                continue\n",
    "\n",
    "            loss.backward()\n",
    "            torch.nn.utils.clip_grad_norm_(self.model_.parameters(), max_norm=1.0)  # Gradient clipping\n",
    "            self.optimizer.step()\n",
    "\n",
    "            total_loss += loss.item()\n",
    "            losses.append(loss.item())\n",
    "\n",
    "        if len(losses) == 0:\n",
    "            return [float('nan')]\n",
    "\n",
    "        return losses\n",
    "\n",
    "    def _batch_predict(self, X: csr_matrix, users: List[int]) -> csr_matrix:\n",
    "        \"\"\"\n",
    "        Make batch predictions for a list of users.\n",
    "\n",
    "        Args:\n",
    "            X (csr_matrix): The interaction matrix.\n",
    "            users (List[int]): List of user indices to make predictions for.\n",
    "\n",
    "        Returns:\n",
    "            csr_matrix: A sparse matrix with the prediction scores.\n",
    "        \"\"\"\n",
    "        self.model_.eval()\n",
    "        graph = self._create_sparse_graph(X, X.shape[0], X.shape[1]).to(self.device)\n",
    "        user_indices = torch.tensor(users).to(self.device)\n",
    "        item_indices = torch.arange(X.shape[1]).to(self.device)\n",
    "        \n",
    "        with torch.no_grad():\n",
    "            user_emb_final, _, item_emb_final, _ = self.model_(graph)\n",
    "            scores = user_emb_final[user_indices] @ item_emb_final.t()\n",
    "            scores = scores.cpu().numpy()\n",
    "        \n",
    "        result = lil_matrix((X.shape[0], X.shape[1]))\n",
    "        for i, user in enumerate(users):\n",
    "            result[user] = scores[i]\n",
    "        \n",
    "        return result.tocsr()\n",
    "\n",
    "    def fit(self, X: csr_matrix, validation_data: tuple):\n",
    "        \"\"\"\n",
    "        Fit the model to the training data.\n",
    "\n",
    "        Args:\n",
    "            X (csr_matrix): The training interaction matrix.\n",
    "            validation_data (tuple): Validation data used for early stopping.\n",
    "        \"\"\"\n",
    "        super().fit(X, validation_data)"
   ]
  },
  {
   "cell_type": "code",
   "execution_count": 6,
   "id": "e87fd90c-f8ae-4fcc-a455-90fb8f2335c2",
   "metadata": {},
   "outputs": [],
   "source": [
    "from recpack.datasets import Netflix, DummyDataset\n",
    "from recpack.pipelines import PipelineBuilder\n",
    "from recpack.scenarios import StrongGeneralization, TimedLastItemPrediction, WeakGeneralization\n",
    "from recpack.pipelines import ALGORITHM_REGISTRY\n",
    "import pandas as pd"
   ]
  },
  {
   "cell_type": "code",
   "execution_count": 7,
   "id": "03a047ff-a58e-4ffb-bb09-247622834b08",
   "metadata": {},
   "outputs": [],
   "source": [
    "ALGORITHM_REGISTRY.register(\"LightGCNAlgorithm1\", LightGCNAlgorithm)"
   ]
  },
  {
   "cell_type": "markdown",
   "id": "979bcd25-d6de-49d8-9aae-eb5ca4dfe798",
   "metadata": {},
   "source": [
    "## RecPack Dataset Importing"
   ]
  },
  {
   "cell_type": "code",
   "execution_count": 29,
   "id": "288305e2-e570-4286-8468-c902e9d7ca25",
   "metadata": {},
   "outputs": [],
   "source": [
    "from recpack.datasets import Globo\n",
    "dataset = Globo(path=\"\", filename=\"archive.zip\")"
   ]
  },
  {
   "cell_type": "code",
   "execution_count": 30,
   "id": "9c73499f-1c14-4241-a0bd-e3412b4efd34",
   "metadata": {},
   "outputs": [],
   "source": [
    "dataset.fetch_dataset()"
   ]
  },
  {
   "cell_type": "code",
   "execution_count": 31,
   "id": "25bb2d15-0f4f-4142-8d5d-e06a6ea3c024",
   "metadata": {},
   "outputs": [
    {
     "data": {
      "text/plain": [
       "<recpack.datasets.globo.Globo at 0x7facf4ceb610>"
      ]
     },
     "execution_count": 31,
     "metadata": {},
     "output_type": "execute_result"
    }
   ],
   "source": [
    "dataset"
   ]
  },
  {
   "cell_type": "code",
   "execution_count": null,
   "id": "a290f199-0a3d-4c2b-bc30-c82b5254ab34",
   "metadata": {},
   "outputs": [],
   "source": [
    "df = dataset._load_dataframe()\n",
    "#df = dataset.load()"
   ]
  },
  {
   "cell_type": "markdown",
   "id": "29c62813-2e27-4462-acad-ee013b3fd860",
   "metadata": {},
   "source": [
    "## Datasets with Timestamps sampling"
   ]
  },
  {
   "cell_type": "code",
   "execution_count": 12,
   "id": "1023a063-a2c2-4344-a1b5-65faadd0c9d9",
   "metadata": {},
   "outputs": [
    {
     "data": {
      "image/png": "[encoded data removed]",
      "text/plain": [
       "<Figure size 1000x600 with 1 Axes>"
      ]
     },
     "metadata": {},
     "output_type": "display_data"
    }
   ],
   "source": [
    "import matplotlib.pyplot as plt\n",
    "# Plot histogram of the timestamp column\n",
    "plt.figure(figsize=(10, 6))\n",
    "plt.hist(df['click_timestamp'], bins=50, edgecolor='k')\n",
    "plt.title('Histogram of Timestamps in the Globo Dataset')\n",
    "plt.xlabel('Timestamp')\n",
    "plt.ylabel('Frequency')\n",
    "plt.show()"
   ]
  },
  {
   "cell_type": "code",
   "execution_count": 33,
   "id": "66ac1379-2266-4bec-b6d3-9cf22c1aaedf",
   "metadata": {},
   "outputs": [],
   "source": [
    "timestamp_counts = df['click_timestamp'].value_counts().sort_index(ascending=False)\n",
    "cumulative_counts = timestamp_counts.cumsum()\n",
    "total_counts = cumulative_counts.max()\n",
    "threshold_count = total_counts * 0.1\n",
    "threshold_timestamp = cumulative_counts[cumulative_counts >= threshold_count].index[0]"
   ]
  },
  {
   "cell_type": "code",
   "execution_count": 34,
   "id": "a8b54ee9-8024-4d18-89c8-7858f45d7906",
   "metadata": {},
   "outputs": [],
   "source": [
    "filtered_df = df[df['click_timestamp'] >= threshold_timestamp]"
   ]
  },
  {
   "cell_type": "code",
   "execution_count": 15,
   "id": "877cfa8a-c9d3-4436-8a74-5009b026f266",
   "metadata": {},
   "outputs": [
    {
     "data": {
      "text/html": [
       "<div>\n",
       "<style scoped>\n",
       "    .dataframe tbody tr th:only-of-type {\n",
       "        vertical-align: middle;\n",
       "    }\n",
       "\n",
       "    .dataframe tbody tr th {\n",
       "        vertical-align: top;\n",
       "    }\n",
       "\n",
       "    .dataframe thead th {\n",
       "        text-align: right;\n",
       "    }\n",
       "</style>\n",
       "<table border=\"1\" class=\"dataframe\">\n",
       "  <thead>\n",
       "    <tr style=\"text-align: right;\">\n",
       "      <th></th>\n",
       "      <th>user_id</th>\n",
       "      <th>click_article_id</th>\n",
       "      <th>click_timestamp</th>\n",
       "    </tr>\n",
       "  </thead>\n",
       "  <tbody>\n",
       "    <tr>\n",
       "      <th>0</th>\n",
       "      <td>0</td>\n",
       "      <td>157541</td>\n",
       "      <td>1.506827e+09</td>\n",
       "    </tr>\n",
       "    <tr>\n",
       "      <th>1</th>\n",
       "      <td>0</td>\n",
       "      <td>68866</td>\n",
       "      <td>1.506827e+09</td>\n",
       "    </tr>\n",
       "    <tr>\n",
       "      <th>2</th>\n",
       "      <td>1</td>\n",
       "      <td>235840</td>\n",
       "      <td>1.506827e+09</td>\n",
       "    </tr>\n",
       "    <tr>\n",
       "      <th>3</th>\n",
       "      <td>1</td>\n",
       "      <td>96663</td>\n",
       "      <td>1.506827e+09</td>\n",
       "    </tr>\n",
       "    <tr>\n",
       "      <th>4</th>\n",
       "      <td>2</td>\n",
       "      <td>119592</td>\n",
       "      <td>1.506827e+09</td>\n",
       "    </tr>\n",
       "    <tr>\n",
       "      <th>...</th>\n",
       "      <td>...</td>\n",
       "      <td>...</td>\n",
       "      <td>...</td>\n",
       "    </tr>\n",
       "    <tr>\n",
       "      <th>2564</th>\n",
       "      <td>10051</td>\n",
       "      <td>84911</td>\n",
       "      <td>1.508212e+09</td>\n",
       "    </tr>\n",
       "    <tr>\n",
       "      <th>2565</th>\n",
       "      <td>322896</td>\n",
       "      <td>30760</td>\n",
       "      <td>1.508212e+09</td>\n",
       "    </tr>\n",
       "    <tr>\n",
       "      <th>2566</th>\n",
       "      <td>322896</td>\n",
       "      <td>157507</td>\n",
       "      <td>1.508212e+09</td>\n",
       "    </tr>\n",
       "    <tr>\n",
       "      <th>2567</th>\n",
       "      <td>123718</td>\n",
       "      <td>234481</td>\n",
       "      <td>1.508212e+09</td>\n",
       "    </tr>\n",
       "    <tr>\n",
       "      <th>2568</th>\n",
       "      <td>123718</td>\n",
       "      <td>233578</td>\n",
       "      <td>1.508212e+09</td>\n",
       "    </tr>\n",
       "  </tbody>\n",
       "</table>\n",
       "<p>2988181 rows × 3 columns</p>\n",
       "</div>"
      ],
      "text/plain": [
       "      user_id  click_article_id  click_timestamp\n",
       "0           0            157541     1.506827e+09\n",
       "1           0             68866     1.506827e+09\n",
       "2           1            235840     1.506827e+09\n",
       "3           1             96663     1.506827e+09\n",
       "4           2            119592     1.506827e+09\n",
       "...       ...               ...              ...\n",
       "2564    10051             84911     1.508212e+09\n",
       "2565   322896             30760     1.508212e+09\n",
       "2566   322896            157507     1.508212e+09\n",
       "2567   123718            234481     1.508212e+09\n",
       "2568   123718            233578     1.508212e+09\n",
       "\n",
       "[2988181 rows x 3 columns]"
      ]
     },
     "execution_count": 15,
     "metadata": {},
     "output_type": "execute_result"
    }
   ],
   "source": [
    "df"
   ]
  },
  {
   "cell_type": "code",
   "execution_count": 16,
   "id": "75315c82-bb45-4090-8d92-87e16d42f204",
   "metadata": {},
   "outputs": [
    {
     "data": {
      "text/html": [
       "<div>\n",
       "<style scoped>\n",
       "    .dataframe tbody tr th:only-of-type {\n",
       "        vertical-align: middle;\n",
       "    }\n",
       "\n",
       "    .dataframe tbody tr th {\n",
       "        vertical-align: top;\n",
       "    }\n",
       "\n",
       "    .dataframe thead th {\n",
       "        text-align: right;\n",
       "    }\n",
       "</style>\n",
       "<table border=\"1\" class=\"dataframe\">\n",
       "  <thead>\n",
       "    <tr style=\"text-align: right;\">\n",
       "      <th></th>\n",
       "      <th>user_id</th>\n",
       "      <th>click_article_id</th>\n",
       "      <th>click_timestamp</th>\n",
       "    </tr>\n",
       "  </thead>\n",
       "  <tbody>\n",
       "    <tr>\n",
       "      <th>4289</th>\n",
       "      <td>22712</td>\n",
       "      <td>158772</td>\n",
       "      <td>1.508196e+09</td>\n",
       "    </tr>\n",
       "    <tr>\n",
       "      <th>4290</th>\n",
       "      <td>22712</td>\n",
       "      <td>284638</td>\n",
       "      <td>1.508633e+09</td>\n",
       "    </tr>\n",
       "    <tr>\n",
       "      <th>4291</th>\n",
       "      <td>22712</td>\n",
       "      <td>95633</td>\n",
       "      <td>1.508678e+09</td>\n",
       "    </tr>\n",
       "    <tr>\n",
       "      <th>4292</th>\n",
       "      <td>22712</td>\n",
       "      <td>95524</td>\n",
       "      <td>1.508679e+09</td>\n",
       "    </tr>\n",
       "    <tr>\n",
       "      <th>4293</th>\n",
       "      <td>22712</td>\n",
       "      <td>184427</td>\n",
       "      <td>1.508679e+09</td>\n",
       "    </tr>\n",
       "    <tr>\n",
       "      <th>...</th>\n",
       "      <td>...</td>\n",
       "      <td>...</td>\n",
       "      <td>...</td>\n",
       "    </tr>\n",
       "    <tr>\n",
       "      <th>2564</th>\n",
       "      <td>10051</td>\n",
       "      <td>84911</td>\n",
       "      <td>1.508212e+09</td>\n",
       "    </tr>\n",
       "    <tr>\n",
       "      <th>2565</th>\n",
       "      <td>322896</td>\n",
       "      <td>30760</td>\n",
       "      <td>1.508212e+09</td>\n",
       "    </tr>\n",
       "    <tr>\n",
       "      <th>2566</th>\n",
       "      <td>322896</td>\n",
       "      <td>157507</td>\n",
       "      <td>1.508212e+09</td>\n",
       "    </tr>\n",
       "    <tr>\n",
       "      <th>2567</th>\n",
       "      <td>123718</td>\n",
       "      <td>234481</td>\n",
       "      <td>1.508212e+09</td>\n",
       "    </tr>\n",
       "    <tr>\n",
       "      <th>2568</th>\n",
       "      <td>123718</td>\n",
       "      <td>233578</td>\n",
       "      <td>1.508212e+09</td>\n",
       "    </tr>\n",
       "  </tbody>\n",
       "</table>\n",
       "<p>298819 rows × 3 columns</p>\n",
       "</div>"
      ],
      "text/plain": [
       "      user_id  click_article_id  click_timestamp\n",
       "4289    22712            158772     1.508196e+09\n",
       "4290    22712            284638     1.508633e+09\n",
       "4291    22712             95633     1.508678e+09\n",
       "4292    22712             95524     1.508679e+09\n",
       "4293    22712            184427     1.508679e+09\n",
       "...       ...               ...              ...\n",
       "2564    10051             84911     1.508212e+09\n",
       "2565   322896             30760     1.508212e+09\n",
       "2566   322896            157507     1.508212e+09\n",
       "2567   123718            234481     1.508212e+09\n",
       "2568   123718            233578     1.508212e+09\n",
       "\n",
       "[298819 rows x 3 columns]"
      ]
     },
     "execution_count": 16,
     "metadata": {},
     "output_type": "execute_result"
    }
   ],
   "source": [
    "filtered_df"
   ]
  },
  {
   "cell_type": "markdown",
   "id": "095cfd61-c063-4637-8a29-810ee70adcc1",
   "metadata": {},
   "source": [
    "## Dataset Preprocessing to Interaction Matrix"
   ]
  },
  {
   "cell_type": "code",
   "execution_count": 35,
   "id": "28b3aa70-98ce-4bd8-9888-904495d7f8e5",
   "metadata": {},
   "outputs": [
    {
     "data": {
      "application/vnd.jupyter.widget-view+json": {
       "model_id": "39171762087143528f40b950a2d2a97c",
       "version_major": 2,
       "version_minor": 0
      },
      "text/plain": [
       "  0%|          | 0/298819 [00:00<?, ?it/s]"
      ]
     },
     "metadata": {},
     "output_type": "display_data"
    },
    {
     "data": {
      "application/vnd.jupyter.widget-view+json": {
       "model_id": "9049b95094494f8b9ca350012dd14f13",
       "version_major": 2,
       "version_minor": 0
      },
      "text/plain": [
       "  0%|          | 0/298819 [00:00<?, ?it/s]"
      ]
     },
     "metadata": {},
     "output_type": "display_data"
    }
   ],
   "source": [
    "from recpack.matrix import InteractionMatrix\n",
    "from recpack.preprocessing.preprocessors import DataFramePreprocessor\n",
    "\n",
    "item_ix = 'click_article_id'\n",
    "user_ix = 'user_id'\n",
    "timestamp_ix = 'click_timestamp'\n",
    "\n",
    "preprocessor = DataFramePreprocessor(item_ix=item_ix, user_ix=user_ix, timestamp_ix=timestamp_ix)\n",
    "\n",
    "interaction_matrix = preprocessor.process(filtered_df)"
   ]
  },
  {
   "cell_type": "code",
   "execution_count": 42,
   "id": "3724a316-bddf-4d07-b37b-67d031f49866",
   "metadata": {},
   "outputs": [
    {
     "data": {
      "text/plain": [
       "<Compressed Sparse Row sparse matrix of dtype 'int32'\n",
       "\twith 296356 stored elements and shape (81233, 10303)>"
      ]
     },
     "execution_count": 42,
     "metadata": {},
     "output_type": "execute_result"
    }
   ],
   "source": [
    "interaction_matrix.values"
   ]
  },
  {
   "cell_type": "code",
   "execution_count": 38,
   "id": "8f383d19-26b7-42b9-a47f-25581172d59f",
   "metadata": {},
   "outputs": [
    {
     "data": {
      "text/plain": [
       "298819"
      ]
     },
     "execution_count": 38,
     "metadata": {},
     "output_type": "execute_result"
    }
   ],
   "source": [
    "interaction_matrix.num_interactions"
   ]
  },
  {
   "cell_type": "code",
   "execution_count": 37,
   "id": "0977e4d5-f4e1-41eb-aab0-5911014c02ad",
   "metadata": {},
   "outputs": [
    {
     "data": {
      "text/plain": [
       "InteractionMatrix.InteractionMatrixProperties(num_users=81233, num_items=10303, has_timestamps=True)"
      ]
     },
     "execution_count": 37,
     "metadata": {},
     "output_type": "execute_result"
    }
   ],
   "source": [
    "interaction_matrix.properties"
   ]
  },
  {
   "cell_type": "markdown",
   "id": "1d317b22-4048-4f5f-9bfe-4c8b77aebd7f",
   "metadata": {},
   "source": [
    "## TimedLastItemPrediction Scenario Splitting of Data"
   ]
  },
  {
   "cell_type": "code",
   "execution_count": 24,
   "id": "73d22b62-213c-4ac4-9346-70414e7c39db",
   "metadata": {},
   "outputs": [
    {
     "data": {
      "text/plain": [
       "(array([11940.,  7309., 16786., 29139., 36120.,  8249., 45830., 66290.,\n",
       "        47406., 27855.]),\n",
       " array([1.50802851e+09, 1.50804683e+09, 1.50806515e+09, 1.50808347e+09,\n",
       "        1.50810179e+09, 1.50812011e+09, 1.50813843e+09, 1.50815675e+09,\n",
       "        1.50817507e+09, 1.50819339e+09, 1.50821171e+09]),\n",
       " <BarContainer object of 10 artists>)"
      ]
     },
     "execution_count": 24,
     "metadata": {},
     "output_type": "execute_result"
    },
    {
     "data": {
      "image/png": "[encoded data removed]",
      "text/plain": [
       "<Figure size 640x480 with 1 Axes>"
      ]
     },
     "metadata": {},
     "output_type": "display_data"
    }
   ],
   "source": [
    "import matplotlib.pyplot as plt\n",
    "# Histogram of interactions over time\n",
    "tt = interaction_matrix.timestamps.values[int(0.999 * len(interaction_matrix.timestamps.values))]\n",
    "plt.hist(interaction_matrix.timestamps_lte(tt).timestamps.values)"
   ]
  },
  {
   "cell_type": "code",
   "execution_count": 25,
   "id": "de37ad03-b7d4-4099-a4d8-d3c6636f9267",
   "metadata": {},
   "outputs": [
    {
     "name": "stdout",
     "output_type": "stream",
     "text": [
      "1508184661.438 1508164951.091\n"
     ]
    }
   ],
   "source": [
    "interaction_matrix.timestamps.values\n",
    "t_80 = interaction_matrix.timestamps.values[int(0.8 * len(interaction_matrix.timestamps.values))]\n",
    "t_validate_80 = interaction_matrix.timestamps.values[int(0.8 * 0.8 * len(interaction_matrix.timestamps.values))]\n",
    "print(t_80, t_validate_80)"
   ]
  },
  {
   "cell_type": "code",
   "execution_count": null,
   "id": "aa72bb09-e745-4c5f-b4b3-88785f8a96b1",
   "metadata": {},
   "outputs": [],
   "source": [
    "scenario = TimedLastItemPrediction(t = t_80, t_validation = t_validate_80, validation=True)\n",
    "scenario.split(interaction_matrix)"
   ]
  },
  {
   "cell_type": "markdown",
   "id": "6a62dd74-cd21-4d1d-8478-45376802c09a",
   "metadata": {},
   "source": [
    "## Experimental RecPack Pipeline"
   ]
  },
  {
   "cell_type": "code",
   "execution_count": 43,
   "id": "40f6a5b5-4f21-49ee-a96e-f7e375031134",
   "metadata": {
    "scrolled": true
   },
   "outputs": [
    {
     "name": "stderr",
     "output_type": "stream",
     "text": [
      "/opt/conda/lib/python3.11/site-packages/recpack/pipelines/pipeline_builder.py:145: UserWarning: Grid parameter for add_algorithm function will be deprecated in favour of optimisation_info.\n",
      "  warnings.warn(\n"
     ]
    },
    {
     "data": {
      "application/vnd.jupyter.widget-view+json": {
       "model_id": "fe691ac3626343feba0a5b13dcb67089",
       "version_major": 2,
       "version_minor": 0
      },
      "text/plain": [
       "  0%|          | 0/1 [00:00<?, ?it/s]"
      ]
     },
     "metadata": {},
     "output_type": "display_data"
    },
    {
     "name": "stderr",
     "output_type": "stream",
     "text": [
      "/tmp/ipykernel_58233/4206860820.py:81: UserWarning: To copy construct from a tensor, it is recommended to use sourceTensor.clone().detach() or sourceTensor.clone().detach().requires_grad_(True), rather than torch.tensor(sourceTensor).\n",
      "  user_indices = torch.tensor(user_indices).to(self.device)\n",
      "/tmp/ipykernel_58233/4206860820.py:82: UserWarning: To copy construct from a tensor, it is recommended to use sourceTensor.clone().detach() or sourceTensor.clone().detach().requires_grad_(True), rather than torch.tensor(sourceTensor).\n",
      "  pos_item_indices = torch.tensor(pos_item_indices).to(self.device)\n",
      "/tmp/ipykernel_58233/4206860820.py:83: UserWarning: To copy construct from a tensor, it is recommended to use sourceTensor.clone().detach() or sourceTensor.clone().detach().requires_grad_(True), rather than torch.tensor(sourceTensor).\n",
      "  neg_item_indices = torch.tensor(neg_item_indices).to(self.device).squeeze()\n"
     ]
    },
    {
     "name": "stdout",
     "output_type": "stream",
     "text": [
      "2024-08-05 14:36:41,034 - base - recpack - INFO - Processed epoch 0 in 3.24 s.Batch Training Loss = 0.1401\n",
      "2024-08-05 14:41:13,938 - stopping_criterion - recpack - INFO - StoppingCriterion has value 1.7272945263249904, which is better than previous iterations.\n",
      "2024-08-05 14:41:13,941 - base - recpack - INFO - Model improved. Storing better model.\n",
      "2024-08-05 14:41:14,027 - base - recpack - INFO - Evaluation at end of 0 took 272.99 s.\n",
      "2024-08-05 14:41:17,125 - base - recpack - INFO - Processed epoch 1 in 3.10 s.Batch Training Loss = 0.1267\n",
      "2024-08-05 14:45:49,886 - stopping_criterion - recpack - INFO - StoppingCriterion has value 2.4967495701607896, which is worse than previous iterations.\n",
      "2024-08-05 14:45:50,112 - base - recpack - INFO - Evaluation at end of 1 took 272.99 s.\n",
      "2024-08-05 14:45:53,084 - base - recpack - INFO - Processed epoch 2 in 2.97 s.Batch Training Loss = 0.1017\n",
      "2024-08-05 14:50:21,275 - stopping_criterion - recpack - INFO - StoppingCriterion has value 2.5114313251201748, which is worse than previous iterations.\n",
      "2024-08-05 14:50:21,297 - base - recpack - INFO - Evaluation at end of 2 took 268.21 s.\n",
      "2024-08-05 14:50:24,479 - base - recpack - INFO - Processed epoch 3 in 3.18 s.Batch Training Loss = 0.0879\n",
      "2024-08-05 14:54:58,504 - stopping_criterion - recpack - INFO - StoppingCriterion has value 2.304270953305917, which is worse than previous iterations.\n",
      "2024-08-05 14:54:58,527 - base - recpack - INFO - Evaluation at end of 3 took 274.05 s.\n",
      "2024-08-05 14:55:01,784 - base - recpack - INFO - Processed epoch 4 in 3.26 s.Batch Training Loss = 0.0806\n",
      "2024-08-05 14:59:33,222 - stopping_criterion - recpack - INFO - StoppingCriterion has value 2.1890315457362495, which is worse than previous iterations.\n",
      "2024-08-05 14:59:33,246 - base - recpack - INFO - Evaluation at end of 4 took 271.46 s.\n",
      "2024-08-05 14:59:33,275 - base - recpack - INFO - Fitting LightGCNAlgorithm complete - Took 1.38e+03s\n"
     ]
    },
    {
     "name": "stderr",
     "output_type": "stream",
     "text": [
      "/opt/conda/lib/python3.11/site-packages/recpack/algorithms/base.py:509: FutureWarning: You are using `torch.load` with `weights_only=False` (the current default value), which uses the default pickle module implicitly. It is possible to construct malicious pickle data which will execute arbitrary code during unpickling (See https://github.com/pytorch/pytorch/blob/main/SECURITY.md#untrusted-models for more details). In a future release, the default value for `weights_only` will be flipped to `True`. This limits the functions that could be executed during unpickling. Arbitrary objects will no longer be allowed to be loaded via this mode unless they are explicitly allowlisted by the user via `torch.serialization.add_safe_globals`. We recommend you start setting `weights_only=True` for any use case where you don't have full control of the loaded file. Please open an issue on GitHub for any issues related to this experimental feature.\n",
      "  self.model_ = torch.load(self.best_model)\n",
      "/tmp/ipykernel_58233/4206860820.py:81: UserWarning: To copy construct from a tensor, it is recommended to use sourceTensor.clone().detach() or sourceTensor.clone().detach().requires_grad_(True), rather than torch.tensor(sourceTensor).\n",
      "  user_indices = torch.tensor(user_indices).to(self.device)\n",
      "/tmp/ipykernel_58233/4206860820.py:82: UserWarning: To copy construct from a tensor, it is recommended to use sourceTensor.clone().detach() or sourceTensor.clone().detach().requires_grad_(True), rather than torch.tensor(sourceTensor).\n",
      "  pos_item_indices = torch.tensor(pos_item_indices).to(self.device)\n",
      "/tmp/ipykernel_58233/4206860820.py:83: UserWarning: To copy construct from a tensor, it is recommended to use sourceTensor.clone().detach() or sourceTensor.clone().detach().requires_grad_(True), rather than torch.tensor(sourceTensor).\n",
      "  neg_item_indices = torch.tensor(neg_item_indices).to(self.device).squeeze()\n"
     ]
    },
    {
     "name": "stdout",
     "output_type": "stream",
     "text": [
      "2024-08-05 15:04:50,239 - base - recpack - INFO - Processed epoch 0 in 3.08 s.Batch Training Loss = 0.1683\n",
      "2024-08-05 15:09:18,176 - stopping_criterion - recpack - INFO - StoppingCriterion has value 0.6616383723221656, which is better than previous iterations.\n",
      "2024-08-05 15:09:18,179 - base - recpack - INFO - Model improved. Storing better model.\n",
      "2024-08-05 15:09:18,265 - base - recpack - INFO - Evaluation at end of 0 took 268.03 s.\n",
      "2024-08-05 15:09:21,355 - base - recpack - INFO - Processed epoch 1 in 3.09 s.Batch Training Loss = 0.0759\n",
      "2024-08-05 15:13:46,717 - stopping_criterion - recpack - INFO - StoppingCriterion has value 0.6667560179803089, which is worse than previous iterations.\n",
      "2024-08-05 15:13:46,745 - base - recpack - INFO - Evaluation at end of 1 took 265.39 s.\n",
      "2024-08-05 15:13:50,353 - base - recpack - INFO - Processed epoch 2 in 3.61 s.Batch Training Loss = 0.0711\n",
      "2024-08-05 15:18:24,363 - stopping_criterion - recpack - INFO - StoppingCriterion has value 0.6746132216357631, which is worse than previous iterations.\n",
      "2024-08-05 15:18:24,614 - base - recpack - INFO - Evaluation at end of 2 took 274.26 s.\n",
      "2024-08-05 15:18:27,662 - base - recpack - INFO - Processed epoch 3 in 3.05 s.Batch Training Loss = 0.0688\n",
      "2024-08-05 15:22:56,381 - stopping_criterion - recpack - INFO - StoppingCriterion has value 0.6857385459421034, which is worse than previous iterations.\n",
      "2024-08-05 15:22:56,393 - base - recpack - INFO - Evaluation at end of 3 took 268.73 s.\n",
      "2024-08-05 15:22:59,530 - base - recpack - INFO - Processed epoch 4 in 3.14 s.Batch Training Loss = 0.0655\n",
      "2024-08-05 15:27:26,785 - stopping_criterion - recpack - INFO - StoppingCriterion has value 0.7012847267475569, which is worse than previous iterations.\n",
      "2024-08-05 15:27:26,807 - base - recpack - INFO - Evaluation at end of 4 took 267.27 s.\n",
      "2024-08-05 15:27:26,838 - base - recpack - INFO - Fitting LightGCNAlgorithm complete - Took 1.36e+03s\n"
     ]
    },
    {
     "name": "stderr",
     "output_type": "stream",
     "text": [
      "/opt/conda/lib/python3.11/site-packages/recpack/algorithms/base.py:509: FutureWarning: You are using `torch.load` with `weights_only=False` (the current default value), which uses the default pickle module implicitly. It is possible to construct malicious pickle data which will execute arbitrary code during unpickling (See https://github.com/pytorch/pytorch/blob/main/SECURITY.md#untrusted-models for more details). In a future release, the default value for `weights_only` will be flipped to `True`. This limits the functions that could be executed during unpickling. Arbitrary objects will no longer be allowed to be loaded via this mode unless they are explicitly allowlisted by the user via `torch.serialization.add_safe_globals`. We recommend you start setting `weights_only=True` for any use case where you don't have full control of the loaded file. Please open an issue on GitHub for any issues related to this experimental feature.\n",
      "  self.model_ = torch.load(self.best_model)\n",
      "/tmp/ipykernel_58233/4206860820.py:81: UserWarning: To copy construct from a tensor, it is recommended to use sourceTensor.clone().detach() or sourceTensor.clone().detach().requires_grad_(True), rather than torch.tensor(sourceTensor).\n",
      "  user_indices = torch.tensor(user_indices).to(self.device)\n",
      "/tmp/ipykernel_58233/4206860820.py:82: UserWarning: To copy construct from a tensor, it is recommended to use sourceTensor.clone().detach() or sourceTensor.clone().detach().requires_grad_(True), rather than torch.tensor(sourceTensor).\n",
      "  pos_item_indices = torch.tensor(pos_item_indices).to(self.device)\n",
      "/tmp/ipykernel_58233/4206860820.py:83: UserWarning: To copy construct from a tensor, it is recommended to use sourceTensor.clone().detach() or sourceTensor.clone().detach().requires_grad_(True), rather than torch.tensor(sourceTensor).\n",
      "  neg_item_indices = torch.tensor(neg_item_indices).to(self.device).squeeze()\n"
     ]
    },
    {
     "name": "stdout",
     "output_type": "stream",
     "text": [
      "2024-08-05 15:32:45,385 - base - recpack - INFO - Processed epoch 0 in 3.15 s.Batch Training Loss = 0.5526\n",
      "2024-08-05 15:37:09,868 - stopping_criterion - recpack - INFO - StoppingCriterion has value 0.688106838060674, which is better than previous iterations.\n",
      "2024-08-05 15:37:09,869 - base - recpack - INFO - Model improved. Storing better model.\n",
      "2024-08-05 15:37:09,956 - base - recpack - INFO - Evaluation at end of 0 took 264.57 s.\n",
      "2024-08-05 15:37:13,092 - base - recpack - INFO - Processed epoch 1 in 3.13 s.Batch Training Loss = 0.2122\n",
      "2024-08-05 15:41:42,296 - stopping_criterion - recpack - INFO - StoppingCriterion has value 0.6800185465543308, which is worse than previous iterations.\n",
      "2024-08-05 15:41:42,324 - base - recpack - INFO - Evaluation at end of 1 took 269.23 s.\n",
      "2024-08-05 15:41:45,661 - base - recpack - INFO - Processed epoch 2 in 3.34 s.Batch Training Loss = 0.1224\n",
      "2024-08-05 15:46:16,640 - stopping_criterion - recpack - INFO - StoppingCriterion has value 0.674338054320667, which is better than previous iterations.\n",
      "2024-08-05 15:46:16,642 - base - recpack - INFO - Model improved. Storing better model.\n",
      "2024-08-05 15:46:16,735 - base - recpack - INFO - Evaluation at end of 2 took 271.07 s.\n",
      "2024-08-05 15:46:20,169 - base - recpack - INFO - Processed epoch 3 in 3.43 s.Batch Training Loss = 0.0964\n",
      "2024-08-05 15:50:51,377 - stopping_criterion - recpack - INFO - StoppingCriterion has value 0.6706719096503508, which is worse than previous iterations.\n",
      "2024-08-05 15:50:51,390 - base - recpack - INFO - Evaluation at end of 3 took 271.22 s.\n",
      "2024-08-05 15:50:54,561 - base - recpack - INFO - Processed epoch 4 in 3.17 s.Batch Training Loss = 0.0853\n",
      "2024-08-05 15:55:31,013 - stopping_criterion - recpack - INFO - StoppingCriterion has value 0.6674627847231706, which is worse than previous iterations.\n",
      "2024-08-05 15:55:31,062 - base - recpack - INFO - Evaluation at end of 4 took 276.50 s.\n",
      "2024-08-05 15:55:31,095 - base - recpack - INFO - Fitting LightGCNAlgorithm complete - Took 1.37e+03s\n"
     ]
    },
    {
     "name": "stderr",
     "output_type": "stream",
     "text": [
      "/opt/conda/lib/python3.11/site-packages/recpack/algorithms/base.py:509: FutureWarning: You are using `torch.load` with `weights_only=False` (the current default value), which uses the default pickle module implicitly. It is possible to construct malicious pickle data which will execute arbitrary code during unpickling (See https://github.com/pytorch/pytorch/blob/main/SECURITY.md#untrusted-models for more details). In a future release, the default value for `weights_only` will be flipped to `True`. This limits the functions that could be executed during unpickling. Arbitrary objects will no longer be allowed to be loaded via this mode unless they are explicitly allowlisted by the user via `torch.serialization.add_safe_globals`. We recommend you start setting `weights_only=True` for any use case where you don't have full control of the loaded file. Please open an issue on GitHub for any issues related to this experimental feature.\n",
      "  self.model_ = torch.load(self.best_model)\n",
      "/tmp/ipykernel_58233/4206860820.py:81: UserWarning: To copy construct from a tensor, it is recommended to use sourceTensor.clone().detach() or sourceTensor.clone().detach().requires_grad_(True), rather than torch.tensor(sourceTensor).\n",
      "  user_indices = torch.tensor(user_indices).to(self.device)\n",
      "/tmp/ipykernel_58233/4206860820.py:82: UserWarning: To copy construct from a tensor, it is recommended to use sourceTensor.clone().detach() or sourceTensor.clone().detach().requires_grad_(True), rather than torch.tensor(sourceTensor).\n",
      "  pos_item_indices = torch.tensor(pos_item_indices).to(self.device)\n",
      "/tmp/ipykernel_58233/4206860820.py:83: UserWarning: To copy construct from a tensor, it is recommended to use sourceTensor.clone().detach() or sourceTensor.clone().detach().requires_grad_(True), rather than torch.tensor(sourceTensor).\n",
      "  neg_item_indices = torch.tensor(neg_item_indices).to(self.device).squeeze()\n"
     ]
    },
    {
     "name": "stdout",
     "output_type": "stream",
     "text": [
      "2024-08-05 16:00:46,505 - base - recpack - INFO - Processed epoch 0 in 4.10 s.Batch Training Loss = 0.1672\n",
      "2024-08-05 16:05:20,801 - stopping_criterion - recpack - INFO - StoppingCriterion has value 2.233627735014319, which is better than previous iterations.\n",
      "2024-08-05 16:05:20,802 - base - recpack - INFO - Model improved. Storing better model.\n",
      "2024-08-05 16:05:20,957 - base - recpack - INFO - Evaluation at end of 0 took 274.45 s.\n",
      "2024-08-05 16:05:24,766 - base - recpack - INFO - Processed epoch 1 in 3.81 s.Batch Training Loss = 0.1628\n",
      "2024-08-05 16:09:57,372 - stopping_criterion - recpack - INFO - StoppingCriterion has value 2.956243833264948, which is worse than previous iterations.\n",
      "2024-08-05 16:09:57,384 - base - recpack - INFO - Evaluation at end of 1 took 272.62 s.\n",
      "2024-08-05 16:10:01,369 - base - recpack - INFO - Processed epoch 2 in 3.98 s.Batch Training Loss = 0.1279\n",
      "2024-08-05 16:14:28,972 - stopping_criterion - recpack - INFO - StoppingCriterion has value 2.550109534507217, which is worse than previous iterations.\n",
      "2024-08-05 16:14:28,983 - base - recpack - INFO - Evaluation at end of 2 took 267.61 s.\n",
      "2024-08-05 16:14:33,492 - base - recpack - INFO - Processed epoch 3 in 4.51 s.Batch Training Loss = 0.1098\n",
      "2024-08-05 16:19:02,290 - stopping_criterion - recpack - INFO - StoppingCriterion has value 2.529935878525442, which is worse than previous iterations.\n",
      "2024-08-05 16:19:02,531 - base - recpack - INFO - Evaluation at end of 3 took 269.04 s.\n",
      "2024-08-05 16:19:06,877 - base - recpack - INFO - Processed epoch 4 in 4.34 s.Batch Training Loss = 0.1078\n",
      "2024-08-05 16:23:36,334 - stopping_criterion - recpack - INFO - StoppingCriterion has value 2.422207677528197, which is worse than previous iterations.\n",
      "2024-08-05 16:23:36,347 - base - recpack - INFO - Evaluation at end of 4 took 269.47 s.\n",
      "2024-08-05 16:23:36,402 - base - recpack - INFO - Fitting LightGCNAlgorithm complete - Took 1.37e+03s\n"
     ]
    },
    {
     "name": "stderr",
     "output_type": "stream",
     "text": [
      "/opt/conda/lib/python3.11/site-packages/recpack/algorithms/base.py:509: FutureWarning: You are using `torch.load` with `weights_only=False` (the current default value), which uses the default pickle module implicitly. It is possible to construct malicious pickle data which will execute arbitrary code during unpickling (See https://github.com/pytorch/pytorch/blob/main/SECURITY.md#untrusted-models for more details). In a future release, the default value for `weights_only` will be flipped to `True`. This limits the functions that could be executed during unpickling. Arbitrary objects will no longer be allowed to be loaded via this mode unless they are explicitly allowlisted by the user via `torch.serialization.add_safe_globals`. We recommend you start setting `weights_only=True` for any use case where you don't have full control of the loaded file. Please open an issue on GitHub for any issues related to this experimental feature.\n",
      "  self.model_ = torch.load(self.best_model)\n",
      "/tmp/ipykernel_58233/4206860820.py:81: UserWarning: To copy construct from a tensor, it is recommended to use sourceTensor.clone().detach() or sourceTensor.clone().detach().requires_grad_(True), rather than torch.tensor(sourceTensor).\n",
      "  user_indices = torch.tensor(user_indices).to(self.device)\n",
      "/tmp/ipykernel_58233/4206860820.py:82: UserWarning: To copy construct from a tensor, it is recommended to use sourceTensor.clone().detach() or sourceTensor.clone().detach().requires_grad_(True), rather than torch.tensor(sourceTensor).\n",
      "  pos_item_indices = torch.tensor(pos_item_indices).to(self.device)\n",
      "/tmp/ipykernel_58233/4206860820.py:83: UserWarning: To copy construct from a tensor, it is recommended to use sourceTensor.clone().detach() or sourceTensor.clone().detach().requires_grad_(True), rather than torch.tensor(sourceTensor).\n",
      "  neg_item_indices = torch.tensor(neg_item_indices).to(self.device).squeeze()\n"
     ]
    },
    {
     "name": "stdout",
     "output_type": "stream",
     "text": [
      "2024-08-05 16:28:54,810 - base - recpack - INFO - Processed epoch 0 in 4.22 s.Batch Training Loss = 0.1496\n",
      "2024-08-05 16:33:30,642 - stopping_criterion - recpack - INFO - StoppingCriterion has value 0.6693586883867589, which is better than previous iterations.\n",
      "2024-08-05 16:33:30,645 - base - recpack - INFO - Model improved. Storing better model.\n",
      "2024-08-05 16:33:30,761 - base - recpack - INFO - Evaluation at end of 0 took 275.95 s.\n",
      "2024-08-05 16:33:35,163 - base - recpack - INFO - Processed epoch 1 in 4.40 s.Batch Training Loss = 0.0778\n",
      "2024-08-05 16:38:01,922 - stopping_criterion - recpack - INFO - StoppingCriterion has value 0.6821232059525119, which is worse than previous iterations.\n",
      "2024-08-05 16:38:02,169 - base - recpack - INFO - Evaluation at end of 1 took 267.00 s.\n",
      "2024-08-05 16:38:06,242 - base - recpack - INFO - Processed epoch 2 in 4.07 s.Batch Training Loss = 0.0703\n",
      "2024-08-05 16:42:37,501 - stopping_criterion - recpack - INFO - StoppingCriterion has value 0.7025966763608681, which is worse than previous iterations.\n",
      "2024-08-05 16:42:37,513 - base - recpack - INFO - Evaluation at end of 2 took 271.27 s.\n",
      "2024-08-05 16:42:41,941 - base - recpack - INFO - Processed epoch 3 in 4.43 s.Batch Training Loss = 0.0665\n",
      "2024-08-05 16:47:07,826 - stopping_criterion - recpack - INFO - StoppingCriterion has value 0.7101696770986069, which is worse than previous iterations.\n",
      "2024-08-05 16:47:07,837 - base - recpack - INFO - Evaluation at end of 3 took 265.89 s.\n",
      "2024-08-05 16:47:11,898 - base - recpack - INFO - Processed epoch 4 in 4.06 s.Batch Training Loss = 0.0662\n",
      "2024-08-05 16:51:39,008 - stopping_criterion - recpack - INFO - StoppingCriterion has value 0.7233262588140094, which is worse than previous iterations.\n",
      "2024-08-05 16:51:39,020 - base - recpack - INFO - Evaluation at end of 4 took 267.12 s.\n",
      "2024-08-05 16:51:39,075 - base - recpack - INFO - Fitting LightGCNAlgorithm complete - Took 1.37e+03s\n"
     ]
    },
    {
     "name": "stderr",
     "output_type": "stream",
     "text": [
      "/opt/conda/lib/python3.11/site-packages/recpack/algorithms/base.py:509: FutureWarning: You are using `torch.load` with `weights_only=False` (the current default value), which uses the default pickle module implicitly. It is possible to construct malicious pickle data which will execute arbitrary code during unpickling (See https://github.com/pytorch/pytorch/blob/main/SECURITY.md#untrusted-models for more details). In a future release, the default value for `weights_only` will be flipped to `True`. This limits the functions that could be executed during unpickling. Arbitrary objects will no longer be allowed to be loaded via this mode unless they are explicitly allowlisted by the user via `torch.serialization.add_safe_globals`. We recommend you start setting `weights_only=True` for any use case where you don't have full control of the loaded file. Please open an issue on GitHub for any issues related to this experimental feature.\n",
      "  self.model_ = torch.load(self.best_model)\n",
      "/tmp/ipykernel_58233/4206860820.py:81: UserWarning: To copy construct from a tensor, it is recommended to use sourceTensor.clone().detach() or sourceTensor.clone().detach().requires_grad_(True), rather than torch.tensor(sourceTensor).\n",
      "  user_indices = torch.tensor(user_indices).to(self.device)\n",
      "/tmp/ipykernel_58233/4206860820.py:82: UserWarning: To copy construct from a tensor, it is recommended to use sourceTensor.clone().detach() or sourceTensor.clone().detach().requires_grad_(True), rather than torch.tensor(sourceTensor).\n",
      "  pos_item_indices = torch.tensor(pos_item_indices).to(self.device)\n",
      "/tmp/ipykernel_58233/4206860820.py:83: UserWarning: To copy construct from a tensor, it is recommended to use sourceTensor.clone().detach() or sourceTensor.clone().detach().requires_grad_(True), rather than torch.tensor(sourceTensor).\n",
      "  neg_item_indices = torch.tensor(neg_item_indices).to(self.device).squeeze()\n"
     ]
    },
    {
     "name": "stdout",
     "output_type": "stream",
     "text": [
      "2024-08-05 16:56:58,083 - base - recpack - INFO - Processed epoch 0 in 4.22 s.Batch Training Loss = 0.4774\n",
      "2024-08-05 17:01:25,427 - stopping_criterion - recpack - INFO - StoppingCriterion has value 0.6851879459209809, which is better than previous iterations.\n",
      "2024-08-05 17:01:25,429 - base - recpack - INFO - Model improved. Storing better model.\n",
      "2024-08-05 17:01:25,547 - base - recpack - INFO - Evaluation at end of 0 took 267.46 s.\n",
      "2024-08-05 17:01:29,756 - base - recpack - INFO - Processed epoch 1 in 4.21 s.Batch Training Loss = 0.1482\n",
      "2024-08-05 17:06:01,877 - stopping_criterion - recpack - INFO - StoppingCriterion has value 0.6758072182468998, which is worse than previous iterations.\n",
      "2024-08-05 17:06:01,888 - base - recpack - INFO - Evaluation at end of 1 took 272.13 s.\n",
      "2024-08-05 17:06:05,923 - base - recpack - INFO - Processed epoch 2 in 4.03 s.Batch Training Loss = 0.0979\n",
      "2024-08-05 17:10:32,560 - stopping_criterion - recpack - INFO - StoppingCriterion has value 0.6702660289970739, which is better than previous iterations.\n",
      "2024-08-05 17:10:32,562 - base - recpack - INFO - Model improved. Storing better model.\n",
      "2024-08-05 17:10:32,697 - base - recpack - INFO - Evaluation at end of 2 took 266.77 s.\n",
      "2024-08-05 17:10:37,036 - base - recpack - INFO - Processed epoch 3 in 4.34 s.Batch Training Loss = 0.0833\n",
      "2024-08-05 17:15:08,075 - stopping_criterion - recpack - INFO - StoppingCriterion has value 0.6669881525092127, which is worse than previous iterations.\n",
      "2024-08-05 17:15:08,105 - base - recpack - INFO - Evaluation at end of 3 took 271.07 s.\n",
      "2024-08-05 17:15:12,586 - base - recpack - INFO - Processed epoch 4 in 4.48 s.Batch Training Loss = 0.0762\n",
      "2024-08-05 17:19:36,927 - stopping_criterion - recpack - INFO - StoppingCriterion has value 0.6641123088506566, which is worse than previous iterations.\n",
      "2024-08-05 17:19:36,941 - base - recpack - INFO - Evaluation at end of 4 took 264.35 s.\n",
      "2024-08-05 17:19:36,994 - base - recpack - INFO - Fitting LightGCNAlgorithm complete - Took 1.36e+03s\n"
     ]
    },
    {
     "name": "stderr",
     "output_type": "stream",
     "text": [
      "/opt/conda/lib/python3.11/site-packages/recpack/algorithms/base.py:509: FutureWarning: You are using `torch.load` with `weights_only=False` (the current default value), which uses the default pickle module implicitly. It is possible to construct malicious pickle data which will execute arbitrary code during unpickling (See https://github.com/pytorch/pytorch/blob/main/SECURITY.md#untrusted-models for more details). In a future release, the default value for `weights_only` will be flipped to `True`. This limits the functions that could be executed during unpickling. Arbitrary objects will no longer be allowed to be loaded via this mode unless they are explicitly allowlisted by the user via `torch.serialization.add_safe_globals`. We recommend you start setting `weights_only=True` for any use case where you don't have full control of the loaded file. Please open an issue on GitHub for any issues related to this experimental feature.\n",
      "  self.model_ = torch.load(self.best_model)\n",
      "/tmp/ipykernel_58233/4206860820.py:81: UserWarning: To copy construct from a tensor, it is recommended to use sourceTensor.clone().detach() or sourceTensor.clone().detach().requires_grad_(True), rather than torch.tensor(sourceTensor).\n",
      "  user_indices = torch.tensor(user_indices).to(self.device)\n",
      "/tmp/ipykernel_58233/4206860820.py:82: UserWarning: To copy construct from a tensor, it is recommended to use sourceTensor.clone().detach() or sourceTensor.clone().detach().requires_grad_(True), rather than torch.tensor(sourceTensor).\n",
      "  pos_item_indices = torch.tensor(pos_item_indices).to(self.device)\n",
      "/tmp/ipykernel_58233/4206860820.py:83: UserWarning: To copy construct from a tensor, it is recommended to use sourceTensor.clone().detach() or sourceTensor.clone().detach().requires_grad_(True), rather than torch.tensor(sourceTensor).\n",
      "  neg_item_indices = torch.tensor(neg_item_indices).to(self.device).squeeze()\n"
     ]
    },
    {
     "name": "stdout",
     "output_type": "stream",
     "text": [
      "2024-08-05 17:24:55,600 - base - recpack - INFO - Processed epoch 0 in 5.37 s.Batch Training Loss = 0.2422\n",
      "2024-08-05 17:29:21,019 - stopping_criterion - recpack - INFO - StoppingCriterion has value 2.6094804650237604, which is better than previous iterations.\n",
      "2024-08-05 17:29:21,020 - base - recpack - INFO - Model improved. Storing better model.\n",
      "2024-08-05 17:29:21,244 - base - recpack - INFO - Evaluation at end of 0 took 265.64 s.\n",
      "2024-08-05 17:29:25,746 - base - recpack - INFO - Processed epoch 1 in 4.50 s.Batch Training Loss = 0.2328\n",
      "2024-08-05 17:33:54,954 - stopping_criterion - recpack - INFO - StoppingCriterion has value 3.3035740336363344, which is worse than previous iterations.\n",
      "2024-08-05 17:33:54,966 - base - recpack - INFO - Evaluation at end of 1 took 269.22 s.\n",
      "2024-08-05 17:33:59,523 - base - recpack - INFO - Processed epoch 2 in 4.56 s.Batch Training Loss = 0.1898\n",
      "2024-08-05 17:38:27,254 - stopping_criterion - recpack - INFO - StoppingCriterion has value 3.406227278451728, which is worse than previous iterations.\n",
      "2024-08-05 17:38:27,266 - base - recpack - INFO - Evaluation at end of 2 took 267.74 s.\n",
      "2024-08-05 17:38:32,327 - base - recpack - INFO - Processed epoch 3 in 5.06 s.Batch Training Loss = 0.1728\n",
      "2024-08-05 17:42:59,892 - stopping_criterion - recpack - INFO - StoppingCriterion has value 3.677922881352685, which is worse than previous iterations.\n",
      "2024-08-05 17:42:59,945 - base - recpack - INFO - Evaluation at end of 3 took 267.62 s.\n",
      "2024-08-05 17:43:05,403 - base - recpack - INFO - Processed epoch 4 in 5.46 s.Batch Training Loss = 0.1678\n",
      "2024-08-05 17:47:38,453 - stopping_criterion - recpack - INFO - StoppingCriterion has value 3.539219272121837, which is worse than previous iterations.\n",
      "2024-08-05 17:47:38,466 - base - recpack - INFO - Evaluation at end of 4 took 273.06 s.\n",
      "2024-08-05 17:47:38,569 - base - recpack - INFO - Fitting LightGCNAlgorithm complete - Took 1.37e+03s\n"
     ]
    },
    {
     "name": "stderr",
     "output_type": "stream",
     "text": [
      "/opt/conda/lib/python3.11/site-packages/recpack/algorithms/base.py:509: FutureWarning: You are using `torch.load` with `weights_only=False` (the current default value), which uses the default pickle module implicitly. It is possible to construct malicious pickle data which will execute arbitrary code during unpickling (See https://github.com/pytorch/pytorch/blob/main/SECURITY.md#untrusted-models for more details). In a future release, the default value for `weights_only` will be flipped to `True`. This limits the functions that could be executed during unpickling. Arbitrary objects will no longer be allowed to be loaded via this mode unless they are explicitly allowlisted by the user via `torch.serialization.add_safe_globals`. We recommend you start setting `weights_only=True` for any use case where you don't have full control of the loaded file. Please open an issue on GitHub for any issues related to this experimental feature.\n",
      "  self.model_ = torch.load(self.best_model)\n",
      "/tmp/ipykernel_58233/4206860820.py:81: UserWarning: To copy construct from a tensor, it is recommended to use sourceTensor.clone().detach() or sourceTensor.clone().detach().requires_grad_(True), rather than torch.tensor(sourceTensor).\n",
      "  user_indices = torch.tensor(user_indices).to(self.device)\n",
      "/tmp/ipykernel_58233/4206860820.py:82: UserWarning: To copy construct from a tensor, it is recommended to use sourceTensor.clone().detach() or sourceTensor.clone().detach().requires_grad_(True), rather than torch.tensor(sourceTensor).\n",
      "  pos_item_indices = torch.tensor(pos_item_indices).to(self.device)\n",
      "/tmp/ipykernel_58233/4206860820.py:83: UserWarning: To copy construct from a tensor, it is recommended to use sourceTensor.clone().detach() or sourceTensor.clone().detach().requires_grad_(True), rather than torch.tensor(sourceTensor).\n",
      "  neg_item_indices = torch.tensor(neg_item_indices).to(self.device).squeeze()\n"
     ]
    },
    {
     "name": "stdout",
     "output_type": "stream",
     "text": [
      "2024-08-05 17:52:59,882 - base - recpack - INFO - Processed epoch 0 in 6.22 s.Batch Training Loss = 0.1343\n",
      "2024-08-05 17:57:25,116 - stopping_criterion - recpack - INFO - StoppingCriterion has value 0.6798937271689557, which is better than previous iterations.\n",
      "2024-08-05 17:57:25,118 - base - recpack - INFO - Model improved. Storing better model.\n",
      "2024-08-05 17:57:25,344 - base - recpack - INFO - Evaluation at end of 0 took 265.46 s.\n",
      "2024-08-05 17:57:31,633 - base - recpack - INFO - Processed epoch 1 in 6.29 s.Batch Training Loss = 0.0759\n",
      "2024-08-05 18:02:02,408 - stopping_criterion - recpack - INFO - StoppingCriterion has value 0.7044561421880566, which is worse than previous iterations.\n",
      "2024-08-05 18:02:02,421 - base - recpack - INFO - Evaluation at end of 1 took 270.78 s.\n",
      "2024-08-05 18:02:08,755 - base - recpack - INFO - Processed epoch 2 in 6.33 s.Batch Training Loss = 0.0687\n",
      "2024-08-05 18:06:37,378 - stopping_criterion - recpack - INFO - StoppingCriterion has value 0.7208766920204239, which is worse than previous iterations.\n",
      "2024-08-05 18:06:37,392 - base - recpack - INFO - Evaluation at end of 2 took 268.63 s.\n",
      "2024-08-05 18:06:43,898 - base - recpack - INFO - Processed epoch 3 in 6.50 s.Batch Training Loss = 0.0676\n",
      "2024-08-05 18:11:15,991 - stopping_criterion - recpack - INFO - StoppingCriterion has value 0.7337560946853472, which is worse than previous iterations.\n",
      "2024-08-05 18:11:16,035 - base - recpack - INFO - Evaluation at end of 3 took 272.13 s.\n",
      "2024-08-05 18:11:22,261 - base - recpack - INFO - Processed epoch 4 in 6.22 s.Batch Training Loss = 0.0639\n",
      "2024-08-05 18:15:52,091 - stopping_criterion - recpack - INFO - StoppingCriterion has value 0.7381062886868347, which is worse than previous iterations.\n",
      "2024-08-05 18:15:52,137 - base - recpack - INFO - Evaluation at end of 4 took 269.87 s.\n",
      "2024-08-05 18:15:52,252 - base - recpack - INFO - Fitting LightGCNAlgorithm complete - Took 1.38e+03s\n"
     ]
    },
    {
     "name": "stderr",
     "output_type": "stream",
     "text": [
      "/opt/conda/lib/python3.11/site-packages/recpack/algorithms/base.py:509: FutureWarning: You are using `torch.load` with `weights_only=False` (the current default value), which uses the default pickle module implicitly. It is possible to construct malicious pickle data which will execute arbitrary code during unpickling (See https://github.com/pytorch/pytorch/blob/main/SECURITY.md#untrusted-models for more details). In a future release, the default value for `weights_only` will be flipped to `True`. This limits the functions that could be executed during unpickling. Arbitrary objects will no longer be allowed to be loaded via this mode unless they are explicitly allowlisted by the user via `torch.serialization.add_safe_globals`. We recommend you start setting `weights_only=True` for any use case where you don't have full control of the loaded file. Please open an issue on GitHub for any issues related to this experimental feature.\n",
      "  self.model_ = torch.load(self.best_model)\n",
      "/tmp/ipykernel_58233/4206860820.py:81: UserWarning: To copy construct from a tensor, it is recommended to use sourceTensor.clone().detach() or sourceTensor.clone().detach().requires_grad_(True), rather than torch.tensor(sourceTensor).\n",
      "  user_indices = torch.tensor(user_indices).to(self.device)\n",
      "/tmp/ipykernel_58233/4206860820.py:82: UserWarning: To copy construct from a tensor, it is recommended to use sourceTensor.clone().detach() or sourceTensor.clone().detach().requires_grad_(True), rather than torch.tensor(sourceTensor).\n",
      "  pos_item_indices = torch.tensor(pos_item_indices).to(self.device)\n",
      "/tmp/ipykernel_58233/4206860820.py:83: UserWarning: To copy construct from a tensor, it is recommended to use sourceTensor.clone().detach() or sourceTensor.clone().detach().requires_grad_(True), rather than torch.tensor(sourceTensor).\n",
      "  neg_item_indices = torch.tensor(neg_item_indices).to(self.device).squeeze()\n"
     ]
    },
    {
     "name": "stdout",
     "output_type": "stream",
     "text": [
      "2024-08-05 18:21:12,393 - base - recpack - INFO - Processed epoch 0 in 6.35 s.Batch Training Loss = 0.4009\n",
      "2024-08-05 18:25:39,011 - stopping_criterion - recpack - INFO - StoppingCriterion has value 0.6816916252716861, which is better than previous iterations.\n",
      "2024-08-05 18:25:39,014 - base - recpack - INFO - Model improved. Storing better model.\n",
      "2024-08-05 18:25:39,287 - base - recpack - INFO - Evaluation at end of 0 took 266.89 s.\n",
      "2024-08-05 18:25:45,615 - base - recpack - INFO - Processed epoch 1 in 6.33 s.Batch Training Loss = 0.1118\n",
      "2024-08-05 18:30:12,792 - stopping_criterion - recpack - INFO - StoppingCriterion has value 0.6718066178344262, which is worse than previous iterations.\n",
      "2024-08-05 18:30:12,843 - base - recpack - INFO - Evaluation at end of 1 took 267.23 s.\n",
      "2024-08-05 18:30:19,179 - base - recpack - INFO - Processed epoch 2 in 6.33 s.Batch Training Loss = 0.0842\n",
      "2024-08-05 18:34:51,835 - stopping_criterion - recpack - INFO - StoppingCriterion has value 0.6674325868124197, which is better than previous iterations.\n",
      "2024-08-05 18:34:51,836 - base - recpack - INFO - Model improved. Storing better model.\n",
      "2024-08-05 18:34:52,121 - base - recpack - INFO - Evaluation at end of 2 took 272.94 s.\n",
      "2024-08-05 18:34:58,471 - base - recpack - INFO - Processed epoch 3 in 6.35 s.Batch Training Loss = 0.0771\n",
      "2024-08-05 18:39:29,286 - stopping_criterion - recpack - INFO - StoppingCriterion has value 0.6625900583590286, which is worse than previous iterations.\n",
      "2024-08-05 18:39:29,337 - base - recpack - INFO - Evaluation at end of 3 took 270.86 s.\n",
      "2024-08-05 18:39:35,899 - base - recpack - INFO - Processed epoch 4 in 6.56 s.Batch Training Loss = 0.0735\n",
      "2024-08-05 18:44:05,749 - stopping_criterion - recpack - INFO - StoppingCriterion has value 0.6620030488465949, which is worse than previous iterations.\n",
      "2024-08-05 18:44:05,799 - base - recpack - INFO - Evaluation at end of 4 took 269.90 s.\n",
      "2024-08-05 18:44:05,902 - base - recpack - INFO - Fitting LightGCNAlgorithm complete - Took 1.38e+03s\n"
     ]
    },
    {
     "name": "stderr",
     "output_type": "stream",
     "text": [
      "/opt/conda/lib/python3.11/site-packages/recpack/algorithms/base.py:509: FutureWarning: You are using `torch.load` with `weights_only=False` (the current default value), which uses the default pickle module implicitly. It is possible to construct malicious pickle data which will execute arbitrary code during unpickling (See https://github.com/pytorch/pytorch/blob/main/SECURITY.md#untrusted-models for more details). In a future release, the default value for `weights_only` will be flipped to `True`. This limits the functions that could be executed during unpickling. Arbitrary objects will no longer be allowed to be loaded via this mode unless they are explicitly allowlisted by the user via `torch.serialization.add_safe_globals`. We recommend you start setting `weights_only=True` for any use case where you don't have full control of the loaded file. Please open an issue on GitHub for any issues related to this experimental feature.\n",
      "  self.model_ = torch.load(self.best_model)\n",
      "/tmp/ipykernel_58233/4206860820.py:81: UserWarning: To copy construct from a tensor, it is recommended to use sourceTensor.clone().detach() or sourceTensor.clone().detach().requires_grad_(True), rather than torch.tensor(sourceTensor).\n",
      "  user_indices = torch.tensor(user_indices).to(self.device)\n",
      "/tmp/ipykernel_58233/4206860820.py:82: UserWarning: To copy construct from a tensor, it is recommended to use sourceTensor.clone().detach() or sourceTensor.clone().detach().requires_grad_(True), rather than torch.tensor(sourceTensor).\n",
      "  pos_item_indices = torch.tensor(pos_item_indices).to(self.device)\n",
      "/tmp/ipykernel_58233/4206860820.py:83: UserWarning: To copy construct from a tensor, it is recommended to use sourceTensor.clone().detach() or sourceTensor.clone().detach().requires_grad_(True), rather than torch.tensor(sourceTensor).\n",
      "  neg_item_indices = torch.tensor(neg_item_indices).to(self.device).squeeze()\n"
     ]
    },
    {
     "name": "stdout",
     "output_type": "stream",
     "text": [
      "2024-08-05 18:49:19,392 - base - recpack - INFO - Processed epoch 0 in 3.16 s.Batch Training Loss = 0.1670\n",
      "2024-08-05 18:53:46,718 - stopping_criterion - recpack - INFO - StoppingCriterion has value 0.661989290180028, which is better than previous iterations.\n",
      "2024-08-05 18:53:46,722 - base - recpack - INFO - Model improved. Storing better model.\n",
      "2024-08-05 18:53:46,791 - base - recpack - INFO - Evaluation at end of 0 took 267.40 s.\n",
      "2024-08-05 18:53:49,783 - base - recpack - INFO - Processed epoch 1 in 2.99 s.Batch Training Loss = 0.0773\n",
      "2024-08-05 18:58:21,464 - stopping_criterion - recpack - INFO - StoppingCriterion has value 0.6634138281580129, which is worse than previous iterations.\n",
      "2024-08-05 18:58:21,478 - base - recpack - INFO - Evaluation at end of 1 took 271.69 s.\n",
      "2024-08-05 18:58:24,857 - base - recpack - INFO - Processed epoch 2 in 3.38 s.Batch Training Loss = 0.0735\n",
      "2024-08-05 19:02:54,561 - stopping_criterion - recpack - INFO - StoppingCriterion has value 0.673988098007243, which is worse than previous iterations.\n",
      "2024-08-05 19:02:54,572 - base - recpack - INFO - Evaluation at end of 2 took 269.71 s.\n",
      "2024-08-05 19:02:57,587 - base - recpack - INFO - Processed epoch 3 in 3.01 s.Batch Training Loss = 0.0684\n",
      "2024-08-05 19:07:26,935 - stopping_criterion - recpack - INFO - StoppingCriterion has value 0.6843133613183001, which is worse than previous iterations.\n",
      "2024-08-05 19:07:26,948 - base - recpack - INFO - Evaluation at end of 3 took 269.36 s.\n",
      "2024-08-05 19:07:30,030 - base - recpack - INFO - Processed epoch 4 in 3.08 s.Batch Training Loss = 0.0647\n",
      "2024-08-05 19:11:57,057 - stopping_criterion - recpack - INFO - StoppingCriterion has value 0.6980858616440725, which is worse than previous iterations.\n",
      "2024-08-05 19:11:57,070 - base - recpack - INFO - Evaluation at end of 4 took 267.04 s.\n",
      "2024-08-05 19:11:57,108 - base - recpack - INFO - Fitting LightGCNAlgorithm complete - Took 1.36e+03s\n"
     ]
    },
    {
     "name": "stderr",
     "output_type": "stream",
     "text": [
      "/opt/conda/lib/python3.11/site-packages/recpack/algorithms/base.py:509: FutureWarning: You are using `torch.load` with `weights_only=False` (the current default value), which uses the default pickle module implicitly. It is possible to construct malicious pickle data which will execute arbitrary code during unpickling (See https://github.com/pytorch/pytorch/blob/main/SECURITY.md#untrusted-models for more details). In a future release, the default value for `weights_only` will be flipped to `True`. This limits the functions that could be executed during unpickling. Arbitrary objects will no longer be allowed to be loaded via this mode unless they are explicitly allowlisted by the user via `torch.serialization.add_safe_globals`. We recommend you start setting `weights_only=True` for any use case where you don't have full control of the loaded file. Please open an issue on GitHub for any issues related to this experimental feature.\n",
      "  self.model_ = torch.load(self.best_model)\n"
     ]
    }
   ],
   "source": [
    "pipeline_builder = PipelineBuilder()\n",
    "ok = (scenario._validation_data_in, scenario._validation_data_out)\n",
    "pipeline_builder.set_data_from_scenario(scenario)\n",
    "\n",
    "\n",
    "# Add the baseline algorithms\n",
    "#pipeline_builder.add_algorithm('ItemKNN', grid={'K': [100, 200, 400, 800]})\n",
    "#pipeline_builder.add_algorithm('EASE', grid={'l2': [10, 100, 1000], 'alpha': [0, 0.1, 0.5]})\n",
    "\n",
    "# Add our LightGCN algorithm\n",
    "pipeline_builder.add_algorithm(\n",
    "    'LightGCNAlgorithm1',\n",
    "    grid={\n",
    "        'learning_rate': [0.1, 0.01, 0.001],\n",
    "        'embedding_dim': [100, 200, 400]\n",
    "    },\n",
    "    params={\n",
    "        'max_epochs': 5,\n",
    "        'batch_size': 1024,\n",
    "        'n_layers': 3\n",
    "    }\n",
    ")\n",
    "\n",
    "# Add NDCG, Recall, and HR metrics to be evaluated at 10, 20, and 50\n",
    "pipeline_builder.add_metric('NDCGK', [10, 20, 50])\n",
    "pipeline_builder.add_metric('RecallK', [10, 20, 50])\n",
    "pipeline_builder.add_metric('HitK', [10, 20, 50])\n",
    "\n",
    "# Set the optimisation metric\n",
    "pipeline_builder.set_optimisation_metric('RecallK', 20)\n",
    "\n",
    "# Construct pipeline\n",
    "pipeline = pipeline_builder.build()\n",
    "\n",
    "# Debugging: Output the shape of the training data\n",
    "#print(f\"Training data shape: {im.shape}\")\n",
    "\n",
    "# Run pipeline, will first do optimisation, and then evaluation\n",
    "pipeline.run()"
   ]
  },
  {
   "cell_type": "markdown",
   "id": "18ace2c0-abce-419e-9b53-5caa21f83b6c",
   "metadata": {},
   "source": [
    "## Results"
   ]
  },
  {
   "cell_type": "code",
   "execution_count": 44,
   "id": "e80f2784-1ed9-4d93-9883-4c34213d62ed",
   "metadata": {},
   "outputs": [
    {
     "data": {
      "text/html": [
       "<div>\n",
       "<style scoped>\n",
       "    .dataframe tbody tr th:only-of-type {\n",
       "        vertical-align: middle;\n",
       "    }\n",
       "\n",
       "    .dataframe tbody tr th {\n",
       "        vertical-align: top;\n",
       "    }\n",
       "\n",
       "    .dataframe thead th {\n",
       "        text-align: right;\n",
       "    }\n",
       "</style>\n",
       "<table border=\"1\" class=\"dataframe\">\n",
       "  <thead>\n",
       "    <tr style=\"text-align: right;\">\n",
       "      <th></th>\n",
       "      <th>NDCGK_10</th>\n",
       "      <th>NDCGK_20</th>\n",
       "      <th>NDCGK_50</th>\n",
       "      <th>RecallK_10</th>\n",
       "      <th>RecallK_20</th>\n",
       "      <th>RecallK_50</th>\n",
       "      <th>HitK_10</th>\n",
       "      <th>HitK_20</th>\n",
       "      <th>HitK_50</th>\n",
       "    </tr>\n",
       "  </thead>\n",
       "  <tbody>\n",
       "    <tr>\n",
       "      <th>LightGCNAlgorithm(batch_size=1024,embedding_dim=100,keep_last=False,learning_rate=0.01,max_epochs=5,max_iter_no_change=5,min_improvement=0.01,n_layers=3,predict_topK=None,reg_weight=1e-05,save_best_to_file=False,seed=2672830196,stop_early=True,stopping_criterion=&lt;recpack.algorithms.stopping_criterion.StoppingCriterion object at 0x7fadcc7baa10&gt;,validation_sample_size=None)</th>\n",
       "      <td>0.012028</td>\n",
       "      <td>0.013361</td>\n",
       "      <td>0.015955</td>\n",
       "      <td>0.020156</td>\n",
       "      <td>0.025428</td>\n",
       "      <td>0.038824</td>\n",
       "      <td>0.020156</td>\n",
       "      <td>0.025428</td>\n",
       "      <td>0.038824</td>\n",
       "    </tr>\n",
       "  </tbody>\n",
       "</table>\n",
       "</div>"
      ],
      "text/plain": [
       "                                                    NDCGK_10  NDCGK_20  \\\n",
       "LightGCNAlgorithm(batch_size=1024,embedding_dim...  0.012028  0.013361   \n",
       "\n",
       "                                                    NDCGK_50  RecallK_10  \\\n",
       "LightGCNAlgorithm(batch_size=1024,embedding_dim...  0.015955    0.020156   \n",
       "\n",
       "                                                    RecallK_20  RecallK_50  \\\n",
       "LightGCNAlgorithm(batch_size=1024,embedding_dim...    0.025428    0.038824   \n",
       "\n",
       "                                                     HitK_10   HitK_20  \\\n",
       "LightGCNAlgorithm(batch_size=1024,embedding_dim...  0.020156  0.025428   \n",
       "\n",
       "                                                     HitK_50  \n",
       "LightGCNAlgorithm(batch_size=1024,embedding_dim...  0.038824  "
      ]
     },
     "execution_count": 44,
     "metadata": {},
     "output_type": "execute_result"
    }
   ],
   "source": [
    "pipeline.get_metrics()"
   ]
  },
  {
   "cell_type": "code",
   "execution_count": null,
   "id": "06eb89bb-82dc-4982-8025-327b4e25fddb",
   "metadata": {},
   "outputs": [],
   "source": []
  }
 ],
 "metadata": {
  "kernelspec": {
   "display_name": "Python 3 (ipykernel)",
   "language": "python",
   "name": "python3"
  },
  "language_info": {
   "codemirror_mode": {
    "name": "ipython",
    "version": 3
   },
   "file_extension": ".py",
   "mimetype": "text/x-python",
   "name": "python",
   "nbconvert_exporter": "python",
   "pygments_lexer": "ipython3",
   "version": "3.11.9"
  }
 },
 "nbformat": 4,
 "nbformat_minor": 5
}
