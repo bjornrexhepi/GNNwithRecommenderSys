{
 "cells": [
  {
   "cell_type": "markdown",
   "id": "fafda823-0129-4aee-bd61-f194783e193f",
   "metadata": {},
   "source": [
    "# NGCF with AddresaOneWeek Dataset and TimedLastItemPrediction Scenario"
   ]
  },
  {
   "cell_type": "markdown",
   "id": "f329869e-ecb0-411b-9d59-8e6a61a504fa",
   "metadata": {},
   "source": [
    "In this notebook, the implementation of NGCF in RecPack and the experimental part to generate the results of the algorithm will be presented. \n",
    "The notebook contains:\n",
    "1. The implementation of NGCF in RecPack.\n",
    "2. The 10% of AddresaOneWeek Dataset from RecPack and the TimedLastItemPrediction Scenario has been used to split the data.\n",
    "3. The TimedLastItemPrediction Scenario to split the data.\n",
    "4. The RecPack Pipeline Builder to run the experiments, including the splitted dataset, the algorithms and metrics to run. Hyperparameter has been performed in the Pipeline.\n",
    "\n",
    "Please make sure you have installed all the latest libraries in your Python environment, in order to have a successful run of the code."
   ]
  },
  {
   "cell_type": "markdown",
   "id": "5b5bf769-3059-4803-b11e-5b05b7a13ab9",
   "metadata": {},
   "source": [
    "## NGCF implementation in RecPack"
   ]
  },
  {
   "cell_type": "code",
   "execution_count": 1,
   "id": "5c7dc8a2-fbb5-4309-bb75-7274fd8fd280",
   "metadata": {},
   "outputs": [],
   "source": [
    "import torch\n",
    "import torch.nn as nn\n",
    "import torch.optim as optim\n",
    "from torch_sparse import SparseTensor, matmul\n",
    "from typing import List, Tuple, Optional\n",
    "from recpack.algorithms.base import TorchMLAlgorithm\n",
    "from recpack.matrix.interaction_matrix import InteractionMatrix\n",
    "from recpack.algorithms.loss_functions import bpr_loss\n",
    "from recpack.algorithms.samplers import PositiveNegativeSampler\n",
    "from scipy.sparse import csr_matrix\n",
    "import logging\n",
    "\n",
    "logger = logging.getLogger(__name__)\n",
    "\n",
    "# Neural Graph Collaborative Filtering (NGCF) model implementation\n",
    "class NGCF(nn.Module):\n",
    "    def __init__(self, num_users, num_items, embedding_dim=64, n_layers=3, dropout=0.0, node_dropout=0.0, message_dropout=0.0):\n",
    "        \"\"\"\n",
    "        Initialize the NGCF model with user and item embeddings.\n",
    "\n",
    "        Args:\n",
    "            num_users (int): Number of users.\n",
    "            num_items (int): Number of items.\n",
    "            embedding_dim (int): Dimension of the embedding vectors.\n",
    "            n_layers (int): Number of hidden layers.\n",
    "            dropout (float): Dropout rate for layers.\n",
    "            node_dropout (float): Dropout rate applied to node embeddings.\n",
    "            message_dropout (float): Dropout rate applied during message passing.\n",
    "        \"\"\"\n",
    "        super(NGCF, self).__init__()\n",
    "        self.num_users = num_users\n",
    "        self.num_items = num_items\n",
    "        self.embedding_dim = embedding_dim\n",
    "        self.n_layers = n_layers\n",
    "        self.dropout = dropout\n",
    "        self.node_dropout = node_dropout\n",
    "        self.message_dropout = message_dropout\n",
    "\n",
    "        # Initialize user and item embeddings\n",
    "        self.user_embedding = nn.Embedding(num_users, embedding_dim)\n",
    "        self.item_embedding = nn.Embedding(num_items, embedding_dim)\n",
    "        \n",
    "        # Define a list of linear layers for each propagation layer\n",
    "        self.layers = nn.ModuleList([nn.Linear(embedding_dim, embedding_dim) for _ in range(n_layers)])\n",
    "        \n",
    "        # Dropout layer for regularization\n",
    "        self.dropout_layer = nn.Dropout(dropout)\n",
    "        \n",
    "        # Initialize the parameters of the model\n",
    "        self.reset_parameters()\n",
    "\n",
    "    def reset_parameters(self):\n",
    "        \"\"\"\n",
    "        Initialize model parameters using Xavier uniform initialization.\n",
    "        \"\"\"\n",
    "        nn.init.xavier_uniform_(self.user_embedding.weight)\n",
    "        nn.init.xavier_uniform_(self.item_embedding.weight)\n",
    "        for layer in self.layers:\n",
    "            nn.init.xavier_uniform_(layer.weight)\n",
    "\n",
    "    def message_dropout_func(self, graph):\n",
    "        \"\"\"\n",
    "        Apply message dropout during graph convolution.\n",
    "\n",
    "        Args:\n",
    "            graph (SparseTensor): The graph's sparse adjacency matrix.\n",
    "\n",
    "        Returns:\n",
    "            SparseTensor: The adjacency matrix after applying message dropout.\n",
    "        \"\"\"\n",
    "        if self.message_dropout > 0:\n",
    "            row, col, value = graph.coo()\n",
    "            mask = torch.rand(row.size(0)) > self.message_dropout\n",
    "            row, col, value = row[mask], col[mask], value[mask]\n",
    "            graph = SparseTensor(row=row, col=col, value=value, sparse_sizes=graph.sparse_sizes())\n",
    "        return graph\n",
    "\n",
    "    def node_dropout_func(self, embeddings):\n",
    "        \"\"\"\n",
    "        Apply node dropout to the embeddings.\n",
    "\n",
    "        Args:\n",
    "            embeddings (torch.Tensor): The node embeddings.\n",
    "\n",
    "        Returns:\n",
    "            torch.Tensor: The embeddings after applying node dropout.\n",
    "        \"\"\"\n",
    "        if self.node_dropout > 0:\n",
    "            mask = (torch.rand(embeddings.size(0)) > self.node_dropout).float().to(embeddings.device)\n",
    "            embeddings = embeddings * mask.unsqueeze(1)\n",
    "        return embeddings\n",
    "\n",
    "    def forward(self, graph):\n",
    "        \"\"\"\n",
    "        Forward pass for the NGCF model.\n",
    "\n",
    "        Args:\n",
    "            graph (SparseTensor): The graph's sparse adjacency matrix.\n",
    "\n",
    "        Returns:\n",
    "            Tuple[torch.Tensor, torch.Tensor]: Final user and item embeddings.\n",
    "        \"\"\"\n",
    "        user_emb = self.user_embedding.weight\n",
    "        item_emb = self.item_embedding.weight\n",
    "        \n",
    "        # Apply node dropout to user and item embeddings\n",
    "        user_emb = self.node_dropout_func(user_emb)\n",
    "        item_emb = self.node_dropout_func(item_emb)\n",
    "        \n",
    "        # Concatenate user and item embeddings\n",
    "        all_emb = torch.cat([user_emb, item_emb], dim=0)\n",
    "        embs = [all_emb]\n",
    "\n",
    "        # Perform message passing and propagate embeddings through layers\n",
    "        for layer in self.layers:\n",
    "            graph = self.message_dropout_func(graph)\n",
    "            # Preventing CUDA/Library version error\n",
    "            try:\n",
    "                all_emb = matmul(graph, all_emb)\n",
    "            except RuntimeError as e:\n",
    "                break\n",
    "            all_emb = layer(all_emb)\n",
    "            all_emb = torch.relu(all_emb)\n",
    "            all_emb = self.dropout_layer(all_emb)\n",
    "            embs.append(all_emb)\n",
    "\n",
    "        # Compute the final embeddings by averaging the embeddings across layers\n",
    "        final_embedding = torch.mean(torch.stack(embs, dim=1), dim=1)\n",
    "        \n",
    "        # Split the final embeddings back into user and item embeddings\n",
    "        user_emb_final, item_emb_final = torch.split(final_embedding, [self.num_users, self.num_items])\n",
    "\n",
    "        return user_emb_final, item_emb_final"
   ]
  },
  {
   "cell_type": "code",
   "execution_count": 2,
   "id": "383f2777-5652-4d39-a111-9f8f71865f24",
   "metadata": {},
   "outputs": [],
   "source": [
    "from recpack.algorithms.base import TorchMLAlgorithm\n",
    "from recpack.matrix import Matrix\n",
    "from recpack.matrix.interaction_matrix import InteractionMatrix\n",
    "from recpack.algorithms.loss_functions import bpr_loss\n",
    "from recpack.algorithms.samplers import PositiveNegativeSampler\n",
    "from recpack.algorithms.stopping_criterion import (\n",
    "    EarlyStoppingException,\n",
    "    StoppingCriterion,\n",
    ")\n",
    "from typing import List, Tuple, Optional\n",
    "import numpy as np\n",
    "from scipy.sparse import csr_matrix, lil_matrix, coo_matrix\n",
    "import torch\n",
    "import torch.optim as optim\n",
    "import tempfile\n",
    "import time\n",
    "import logging\n",
    "\n",
    "logger = logging.getLogger(__name__)\n",
    "\n",
    "# NGCFAlgorithm: An implementation of the NGCF algorithm using TorchMLAlgorithm as a base class\n",
    "class NGCFAlgorithm(TorchMLAlgorithm):\n",
    "    def __init__(\n",
    "        self,\n",
    "        batch_size: int = 256,\n",
    "        max_epochs: int = 100,\n",
    "        learning_rate: float = 0.001,\n",
    "        embedding_dim: int = 64,\n",
    "        n_layers: int = 3,\n",
    "        dropout: float = 0.1,\n",
    "        node_dropout: float = 0.0,\n",
    "        message_dropout: float = 0.0,\n",
    "        stopping_criterion: str = \"bpr\",\n",
    "        stop_early: bool = True,\n",
    "        max_iter_no_change: int = 5,\n",
    "        min_improvement: float = 0.01,\n",
    "        seed: Optional[int] = None,\n",
    "        save_best_to_file: bool = False,\n",
    "        keep_last: bool = False,\n",
    "        predict_topK: Optional[int] = None,\n",
    "        validation_sample_size: Optional[int] = None,\n",
    "        grad_clip: float = 1.0,  # Gradient clipping value\n",
    "    ):\n",
    "        \"\"\"\n",
    "        Initialize the NGCFAlgorithm with various hyperparameters.\n",
    "\n",
    "        Args:\n",
    "            batch_size (int): Number of samples per batch.\n",
    "            max_epochs (int): Maximum number of training epochs.\n",
    "            learning_rate (float): Learning rate for the optimizer.\n",
    "            embedding_dim (int): Dimension of the embedding vectors.\n",
    "            n_layers (int): Number of hidden layers in the NGCF model.\n",
    "            dropout (float): Dropout rate for regularization.\n",
    "            node_dropout (float): Dropout rate applied to node embeddings.\n",
    "            message_dropout (float): Dropout rate applied during message passing.\n",
    "            stopping_criterion (str): Criterion to stop training early.\n",
    "            stop_early (bool): Whether to enable early stopping.\n",
    "            max_iter_no_change (int): Maximum iterations with no improvement for early stopping.\n",
    "            min_improvement (float): Minimum improvement required for early stopping.\n",
    "            seed (Optional[int]): Random seed for reproducibility.\n",
    "            save_best_to_file (bool): Whether to save the best model to a file.\n",
    "            keep_last (bool): Whether to keep the last model.\n",
    "            predict_topK (Optional[int]): Number of top-K predictions to consider.\n",
    "            validation_sample_size (Optional[int]): Size of the validation sample.\n",
    "            grad_clip (float): Maximum gradient norm for clipping.\n",
    "        \"\"\"\n",
    "        self.embedding_dim = embedding_dim\n",
    "        self.n_layers = n_layers\n",
    "        self.dropout = dropout\n",
    "        self.node_dropout = node_dropout\n",
    "        self.message_dropout = message_dropout\n",
    "        self.grad_clip = grad_clip\n",
    "        super().__init__(\n",
    "            batch_size=batch_size,\n",
    "            max_epochs=max_epochs,\n",
    "            learning_rate=learning_rate,\n",
    "            stopping_criterion=stopping_criterion,\n",
    "            stop_early=stop_early,\n",
    "            max_iter_no_change=max_iter_no_change,\n",
    "            min_improvement=min_improvement,\n",
    "            seed=seed,\n",
    "            save_best_to_file=save_best_to_file,\n",
    "            keep_last=keep_last,\n",
    "            predict_topK=predict_topK,\n",
    "            validation_sample_size=validation_sample_size,\n",
    "        )\n",
    "        self.device = torch.device('cuda' if torch.cuda.is_available() else 'cpu')\n",
    "\n",
    "    def _init_model(self, train: InteractionMatrix) -> None:\n",
    "        \"\"\"\n",
    "        Initialize the NGCF model and optimizer.\n",
    "\n",
    "        Args:\n",
    "            train (InteractionMatrix): The training interaction matrix.\n",
    "        \"\"\"\n",
    "        num_users, num_items = train.shape\n",
    "        self.model_ = NGCF(num_users, num_items, self.embedding_dim, self.n_layers, self.dropout, self.node_dropout, self.message_dropout).to(self.device)\n",
    "        self.optimizer = optim.Adam(self.model_.parameters(), lr=self.learning_rate)\n",
    "\n",
    "    def _create_sparse_graph(self, interaction_matrix: csr_matrix, num_users: int, num_items: int) -> SparseTensor:\n",
    "        \"\"\"\n",
    "        Create a sparse graph from the interaction matrix.\n",
    "\n",
    "        Args:\n",
    "            interaction_matrix (csr_matrix): The interaction matrix in CSR format.\n",
    "            num_users (int): Number of users.\n",
    "            num_items (int): Number of items.\n",
    "\n",
    "        Returns:\n",
    "            SparseTensor: A sparse tensor representing the graph.\n",
    "        \"\"\"\n",
    "        coo = interaction_matrix.tocoo()\n",
    "        row = torch.tensor(coo.row, dtype=torch.long)\n",
    "        col = torch.tensor(coo.col, dtype=torch.long)\n",
    "        value = torch.tensor(coo.data, dtype=torch.float32)\n",
    "        shape = (num_users + num_items, num_users + num_items)\n",
    "        graph = SparseTensor(row=row, col=col, value=value, sparse_sizes=shape).to(self.device)\n",
    "        return graph\n",
    "\n",
    "    def _train_epoch(self, train: InteractionMatrix) -> List[float]:\n",
    "        \"\"\"\n",
    "        Train the model for one epoch.\n",
    "\n",
    "        Args:\n",
    "            train (InteractionMatrix): The training interaction matrix.\n",
    "\n",
    "        Returns:\n",
    "            List[float]: A list of losses for each batch.\n",
    "        \"\"\"\n",
    "        self.model_.train()\n",
    "        interaction_matrix = train  # Get the sparse matrix directly\n",
    "        graph = self._create_sparse_graph(interaction_matrix, train.shape[0], train.shape[1])\n",
    "        total_loss = 0\n",
    "        losses = []\n",
    "\n",
    "        sampler = PositiveNegativeSampler(num_negatives=1, batch_size=self.batch_size)\n",
    "\n",
    "        # Iterate over samples generated by the PositiveNegativeSampler\n",
    "        for user_indices, pos_item_indices, neg_item_indices in sampler.sample(interaction_matrix):\n",
    "            user_indices = torch.tensor(user_indices).to(self.device)\n",
    "            pos_item_indices = torch.tensor(pos_item_indices).to(self.device)\n",
    "            neg_item_indices = torch.tensor(neg_item_indices).to(self.device).squeeze()\n",
    "\n",
    "            self.optimizer.zero_grad()\n",
    "            user_emb_final, item_emb_final = self.model_(graph)  # Call model only once\n",
    "            pos_scores = user_emb_final[user_indices] @ item_emb_final[pos_item_indices].t()\n",
    "            neg_scores = user_emb_final[user_indices] @ item_emb_final[neg_item_indices].t()\n",
    "\n",
    "            loss = bpr_loss(pos_scores, neg_scores)\n",
    "\n",
    "            if torch.isnan(loss).any() or torch.isinf(loss).any():\n",
    "                continue\n",
    "\n",
    "            loss.backward()\n",
    "            torch.nn.utils.clip_grad_norm_(self.model_.parameters(), max_norm=self.grad_clip)  # Gradient clipping\n",
    "            self.optimizer.step()\n",
    "\n",
    "            total_loss += loss.item()\n",
    "            losses.append(loss.item())\n",
    "\n",
    "        if len(losses) == 0:\n",
    "            return [float('nan')]\n",
    "\n",
    "        return losses\n",
    "\n",
    "    def _batch_predict(self, X: InteractionMatrix, users: List[int]) -> csr_matrix:\n",
    "        \"\"\"\n",
    "        Make batch predictions for a list of users.\n",
    "\n",
    "        Args:\n",
    "            X (InteractionMatrix): The interaction matrix.\n",
    "            users (List[int]): List of user indices to make predictions for.\n",
    "\n",
    "        Returns:\n",
    "            csr_matrix: A sparse matrix with the prediction scores.\n",
    "        \"\"\"\n",
    "        self.model_.eval()\n",
    "        graph = self._create_sparse_graph(X, X.shape[0], X.shape[1])\n",
    "        user_indices = torch.tensor(users).to(self.device)\n",
    "        item_indices = torch.arange(X.shape[1]).to(self.device)\n",
    "        \n",
    "        with torch.no_grad():\n",
    "            user_emb_final, item_emb_final = self.model_(graph)\n",
    "            scores = user_emb_final[user_indices] @ item_emb_final.t()\n",
    "            scores = scores.cpu().numpy()\n",
    "        \n",
    "        result = lil_matrix((X.shape[0], X.shape[1]))\n",
    "        for i, user in enumerate(users):\n",
    "            result[user] = scores[i]\n",
    "        \n",
    "        return result.tocsr()"
   ]
  },
  {
   "cell_type": "code",
   "execution_count": 3,
   "id": "e87fd90c-f8ae-4fcc-a455-90fb8f2335c2",
   "metadata": {},
   "outputs": [],
   "source": [
    "from recpack.datasets import Netflix, DummyDataset\n",
    "from recpack.pipelines import PipelineBuilder\n",
    "from recpack.scenarios import StrongGeneralization, TimedLastItemPrediction\n",
    "from recpack.pipelines import ALGORITHM_REGISTRY\n",
    "import pandas as pd"
   ]
  },
  {
   "cell_type": "code",
   "execution_count": 4,
   "id": "03a047ff-a58e-4ffb-bb09-247622834b08",
   "metadata": {},
   "outputs": [],
   "source": [
    "ALGORITHM_REGISTRY.register(\"NGCFAlgorithm\", NGCFAlgorithm)"
   ]
  },
  {
   "cell_type": "markdown",
   "id": "41282f27-028f-4522-bae2-7d49d2ef960c",
   "metadata": {},
   "source": [
    "## RecPack Dataset Importing"
   ]
  },
  {
   "cell_type": "code",
   "execution_count": 5,
   "id": "288305e2-e570-4286-8468-c902e9d7ca25",
   "metadata": {},
   "outputs": [],
   "source": [
    "from recpack.datasets import AdressaOneWeek\n",
    "dataset = AdressaOneWeek()"
   ]
  },
  {
   "cell_type": "code",
   "execution_count": 6,
   "id": "9c73499f-1c14-4241-a0bd-e3412b4efd34",
   "metadata": {},
   "outputs": [],
   "source": [
    "dataset.fetch_dataset()"
   ]
  },
  {
   "cell_type": "code",
   "execution_count": 7,
   "id": "25bb2d15-0f4f-4142-8d5d-e06a6ea3c024",
   "metadata": {},
   "outputs": [
    {
     "data": {
      "text/plain": [
       "<recpack.datasets.adressa.AdressaOneWeek at 0x7f9359b37010>"
      ]
     },
     "execution_count": 7,
     "metadata": {},
     "output_type": "execute_result"
    }
   ],
   "source": [
    "dataset"
   ]
  },
  {
   "cell_type": "code",
   "execution_count": 8,
   "id": "a290f199-0a3d-4c2b-bc30-c82b5254ab34",
   "metadata": {},
   "outputs": [],
   "source": [
    "df = dataset._load_dataframe()"
   ]
  },
  {
   "cell_type": "markdown",
   "id": "91dc84ba-64c5-4519-b975-1d6ac6965c80",
   "metadata": {},
   "source": [
    "## Datasets with Timestamps sampling"
   ]
  },
  {
   "cell_type": "code",
   "execution_count": 9,
   "id": "66ac1379-2266-4bec-b6d3-9cf22c1aaedf",
   "metadata": {},
   "outputs": [],
   "source": [
    "timestamp_counts = df['time'].value_counts().sort_index(ascending=False)\n",
    "cumulative_counts = timestamp_counts.cumsum()\n",
    "total_counts = cumulative_counts.max()\n",
    "threshold_count = total_counts * 0.1\n",
    "threshold_timestamp = cumulative_counts[cumulative_counts >= threshold_count].index[0]"
   ]
  },
  {
   "cell_type": "code",
   "execution_count": 10,
   "id": "a8b54ee9-8024-4d18-89c8-7858f45d7906",
   "metadata": {},
   "outputs": [],
   "source": [
    "filtered_df = df[df['time'] >= threshold_timestamp]"
   ]
  },
  {
   "cell_type": "code",
   "execution_count": 11,
   "id": "877cfa8a-c9d3-4436-8a74-5009b026f266",
   "metadata": {},
   "outputs": [
    {
     "data": {
      "text/html": [
       "<div>\n",
       "<style scoped>\n",
       "    .dataframe tbody tr th:only-of-type {\n",
       "        vertical-align: middle;\n",
       "    }\n",
       "\n",
       "    .dataframe tbody tr th {\n",
       "        vertical-align: top;\n",
       "    }\n",
       "\n",
       "    .dataframe thead th {\n",
       "        text-align: right;\n",
       "    }\n",
       "</style>\n",
       "<table border=\"1\" class=\"dataframe\">\n",
       "  <thead>\n",
       "    <tr style=\"text-align: right;\">\n",
       "      <th></th>\n",
       "      <th>userId</th>\n",
       "      <th>id</th>\n",
       "      <th>time</th>\n",
       "    </tr>\n",
       "  </thead>\n",
       "  <tbody>\n",
       "    <tr>\n",
       "      <th>0</th>\n",
       "      <td>cx:2fs9x8i7jvcjyckoxqfa6l4lw:3rr1gvpcbzx8w</td>\n",
       "      <td>9f3999bd1a1a8d67bcb073ad54840f15cb30f014</td>\n",
       "      <td>1483225202</td>\n",
       "    </tr>\n",
       "    <tr>\n",
       "      <th>1</th>\n",
       "      <td>cx:2u0wp23pfgjcc12gorbv6mp6tp:1l4jele4s191</td>\n",
       "      <td>f21680b77830223807e4847b3307e6ffa1e175ed</td>\n",
       "      <td>1483225203</td>\n",
       "    </tr>\n",
       "    <tr>\n",
       "      <th>2</th>\n",
       "      <td>cx:kfubh0ub7g8z3g5mgndoaljqd:1w4rvohza6x7d</td>\n",
       "      <td>2607fc7d7b4c0ede839a5ff6d499fa428237443e</td>\n",
       "      <td>1483225203</td>\n",
       "    </tr>\n",
       "    <tr>\n",
       "      <th>3</th>\n",
       "      <td>cx:hua808o791zl6cx9:3s9kdckn8su34</td>\n",
       "      <td>68d1503c73ad169dcfff48214fd0274c4d612e63</td>\n",
       "      <td>1483225204</td>\n",
       "    </tr>\n",
       "    <tr>\n",
       "      <th>4</th>\n",
       "      <td>cx:1s8dobcz77bgl3jozo9wdodu0t:2h45sh9wqlrpp</td>\n",
       "      <td>68d1503c73ad169dcfff48214fd0274c4d612e63</td>\n",
       "      <td>1483225207</td>\n",
       "    </tr>\n",
       "    <tr>\n",
       "      <th>...</th>\n",
       "      <td>...</td>\n",
       "      <td>...</td>\n",
       "      <td>...</td>\n",
       "    </tr>\n",
       "    <tr>\n",
       "      <th>3101986</th>\n",
       "      <td>cx:9k87jvj35ts82aloy49wfxosg:952wl4r7sedv</td>\n",
       "      <td>d26dae18a47ee499c4aaca4a9b6017f1b5b1da13</td>\n",
       "      <td>1483830000</td>\n",
       "    </tr>\n",
       "    <tr>\n",
       "      <th>3101987</th>\n",
       "      <td>cx:ikird5ho7t08hlc6:2n6k9bd2ntk6v</td>\n",
       "      <td>8a3d76e1d7452ce38ae70fe900a9952be4305c63</td>\n",
       "      <td>1483830000</td>\n",
       "    </tr>\n",
       "    <tr>\n",
       "      <th>3101988</th>\n",
       "      <td>cx:2ry3bd6yl2fbb3mq9zs5cl4zvc:9oicxykjoyvo</td>\n",
       "      <td>faa8cc5200499acbf0f23f6b8e8f78b2b55d2c60</td>\n",
       "      <td>1483830001</td>\n",
       "    </tr>\n",
       "    <tr>\n",
       "      <th>3101989</th>\n",
       "      <td>cx:3c83unb96kkua3kw8jnflgge0n:1au0d7qhme3j5</td>\n",
       "      <td>4d44e61d966ed5a2c8b70a95eb9948aa2a10696f</td>\n",
       "      <td>1483830001</td>\n",
       "    </tr>\n",
       "    <tr>\n",
       "      <th>3101990</th>\n",
       "      <td>cx:iolu0een5wf8whla:1gtj0r7yyqtm8</td>\n",
       "      <td>64ae4a1db60e066701aa444bc0af2f8f3dbcda3f</td>\n",
       "      <td>1483830001</td>\n",
       "    </tr>\n",
       "  </tbody>\n",
       "</table>\n",
       "<p>3101991 rows × 3 columns</p>\n",
       "</div>"
      ],
      "text/plain": [
       "                                              userId  \\\n",
       "0         cx:2fs9x8i7jvcjyckoxqfa6l4lw:3rr1gvpcbzx8w   \n",
       "1         cx:2u0wp23pfgjcc12gorbv6mp6tp:1l4jele4s191   \n",
       "2         cx:kfubh0ub7g8z3g5mgndoaljqd:1w4rvohza6x7d   \n",
       "3                  cx:hua808o791zl6cx9:3s9kdckn8su34   \n",
       "4        cx:1s8dobcz77bgl3jozo9wdodu0t:2h45sh9wqlrpp   \n",
       "...                                              ...   \n",
       "3101986    cx:9k87jvj35ts82aloy49wfxosg:952wl4r7sedv   \n",
       "3101987            cx:ikird5ho7t08hlc6:2n6k9bd2ntk6v   \n",
       "3101988   cx:2ry3bd6yl2fbb3mq9zs5cl4zvc:9oicxykjoyvo   \n",
       "3101989  cx:3c83unb96kkua3kw8jnflgge0n:1au0d7qhme3j5   \n",
       "3101990            cx:iolu0een5wf8whla:1gtj0r7yyqtm8   \n",
       "\n",
       "                                               id        time  \n",
       "0        9f3999bd1a1a8d67bcb073ad54840f15cb30f014  1483225202  \n",
       "1        f21680b77830223807e4847b3307e6ffa1e175ed  1483225203  \n",
       "2        2607fc7d7b4c0ede839a5ff6d499fa428237443e  1483225203  \n",
       "3        68d1503c73ad169dcfff48214fd0274c4d612e63  1483225204  \n",
       "4        68d1503c73ad169dcfff48214fd0274c4d612e63  1483225207  \n",
       "...                                           ...         ...  \n",
       "3101986  d26dae18a47ee499c4aaca4a9b6017f1b5b1da13  1483830000  \n",
       "3101987  8a3d76e1d7452ce38ae70fe900a9952be4305c63  1483830000  \n",
       "3101988  faa8cc5200499acbf0f23f6b8e8f78b2b55d2c60  1483830001  \n",
       "3101989  4d44e61d966ed5a2c8b70a95eb9948aa2a10696f  1483830001  \n",
       "3101990  64ae4a1db60e066701aa444bc0af2f8f3dbcda3f  1483830001  \n",
       "\n",
       "[3101991 rows x 3 columns]"
      ]
     },
     "execution_count": 11,
     "metadata": {},
     "output_type": "execute_result"
    }
   ],
   "source": [
    "df"
   ]
  },
  {
   "cell_type": "code",
   "execution_count": 12,
   "id": "75315c82-bb45-4090-8d92-87e16d42f204",
   "metadata": {},
   "outputs": [
    {
     "data": {
      "text/html": [
       "<div>\n",
       "<style scoped>\n",
       "    .dataframe tbody tr th:only-of-type {\n",
       "        vertical-align: middle;\n",
       "    }\n",
       "\n",
       "    .dataframe tbody tr th {\n",
       "        vertical-align: top;\n",
       "    }\n",
       "\n",
       "    .dataframe thead th {\n",
       "        text-align: right;\n",
       "    }\n",
       "</style>\n",
       "<table border=\"1\" class=\"dataframe\">\n",
       "  <thead>\n",
       "    <tr style=\"text-align: right;\">\n",
       "      <th></th>\n",
       "      <th>userId</th>\n",
       "      <th>id</th>\n",
       "      <th>time</th>\n",
       "    </tr>\n",
       "  </thead>\n",
       "  <tbody>\n",
       "    <tr>\n",
       "      <th>2791789</th>\n",
       "      <td>cx:2ren7oax3ikx1126uc6379p1m1:1ilgu73jr9354</td>\n",
       "      <td>9da08a8be1d6cf85b0c7cd3f40b774cba66960b8</td>\n",
       "      <td>1483745358</td>\n",
       "    </tr>\n",
       "    <tr>\n",
       "      <th>2791790</th>\n",
       "      <td>cx:13573746954421111340278:21n4bwo3o22w3</td>\n",
       "      <td>f28b18132dfe141356c778b1909f13fcded3c613</td>\n",
       "      <td>1483745358</td>\n",
       "    </tr>\n",
       "    <tr>\n",
       "      <th>2791791</th>\n",
       "      <td>cx:ehi4yx5vak421bv2uzvm0hz9m:2tfkglwogbje9</td>\n",
       "      <td>bb8ff8365233ea91dfcdb36fdd84f87fcc33e1a8</td>\n",
       "      <td>1483745358</td>\n",
       "    </tr>\n",
       "    <tr>\n",
       "      <th>2791792</th>\n",
       "      <td>cx:imiu917sfw8scsba:2b3kfu5odsixi</td>\n",
       "      <td>9de2fd10200602037cc938b038a0f7d3d5f8fb76</td>\n",
       "      <td>1483745359</td>\n",
       "    </tr>\n",
       "    <tr>\n",
       "      <th>2791793</th>\n",
       "      <td>cx:hu9xqbxb2q1op1a2:2bvkrtdex7gri</td>\n",
       "      <td>17a7ea777cb261130668d4314b1591f3767cd090</td>\n",
       "      <td>1483745359</td>\n",
       "    </tr>\n",
       "    <tr>\n",
       "      <th>...</th>\n",
       "      <td>...</td>\n",
       "      <td>...</td>\n",
       "      <td>...</td>\n",
       "    </tr>\n",
       "    <tr>\n",
       "      <th>3101986</th>\n",
       "      <td>cx:9k87jvj35ts82aloy49wfxosg:952wl4r7sedv</td>\n",
       "      <td>d26dae18a47ee499c4aaca4a9b6017f1b5b1da13</td>\n",
       "      <td>1483830000</td>\n",
       "    </tr>\n",
       "    <tr>\n",
       "      <th>3101987</th>\n",
       "      <td>cx:ikird5ho7t08hlc6:2n6k9bd2ntk6v</td>\n",
       "      <td>8a3d76e1d7452ce38ae70fe900a9952be4305c63</td>\n",
       "      <td>1483830000</td>\n",
       "    </tr>\n",
       "    <tr>\n",
       "      <th>3101988</th>\n",
       "      <td>cx:2ry3bd6yl2fbb3mq9zs5cl4zvc:9oicxykjoyvo</td>\n",
       "      <td>faa8cc5200499acbf0f23f6b8e8f78b2b55d2c60</td>\n",
       "      <td>1483830001</td>\n",
       "    </tr>\n",
       "    <tr>\n",
       "      <th>3101989</th>\n",
       "      <td>cx:3c83unb96kkua3kw8jnflgge0n:1au0d7qhme3j5</td>\n",
       "      <td>4d44e61d966ed5a2c8b70a95eb9948aa2a10696f</td>\n",
       "      <td>1483830001</td>\n",
       "    </tr>\n",
       "    <tr>\n",
       "      <th>3101990</th>\n",
       "      <td>cx:iolu0een5wf8whla:1gtj0r7yyqtm8</td>\n",
       "      <td>64ae4a1db60e066701aa444bc0af2f8f3dbcda3f</td>\n",
       "      <td>1483830001</td>\n",
       "    </tr>\n",
       "  </tbody>\n",
       "</table>\n",
       "<p>310202 rows × 3 columns</p>\n",
       "</div>"
      ],
      "text/plain": [
       "                                              userId  \\\n",
       "2791789  cx:2ren7oax3ikx1126uc6379p1m1:1ilgu73jr9354   \n",
       "2791790     cx:13573746954421111340278:21n4bwo3o22w3   \n",
       "2791791   cx:ehi4yx5vak421bv2uzvm0hz9m:2tfkglwogbje9   \n",
       "2791792            cx:imiu917sfw8scsba:2b3kfu5odsixi   \n",
       "2791793            cx:hu9xqbxb2q1op1a2:2bvkrtdex7gri   \n",
       "...                                              ...   \n",
       "3101986    cx:9k87jvj35ts82aloy49wfxosg:952wl4r7sedv   \n",
       "3101987            cx:ikird5ho7t08hlc6:2n6k9bd2ntk6v   \n",
       "3101988   cx:2ry3bd6yl2fbb3mq9zs5cl4zvc:9oicxykjoyvo   \n",
       "3101989  cx:3c83unb96kkua3kw8jnflgge0n:1au0d7qhme3j5   \n",
       "3101990            cx:iolu0een5wf8whla:1gtj0r7yyqtm8   \n",
       "\n",
       "                                               id        time  \n",
       "2791789  9da08a8be1d6cf85b0c7cd3f40b774cba66960b8  1483745358  \n",
       "2791790  f28b18132dfe141356c778b1909f13fcded3c613  1483745358  \n",
       "2791791  bb8ff8365233ea91dfcdb36fdd84f87fcc33e1a8  1483745358  \n",
       "2791792  9de2fd10200602037cc938b038a0f7d3d5f8fb76  1483745359  \n",
       "2791793  17a7ea777cb261130668d4314b1591f3767cd090  1483745359  \n",
       "...                                           ...         ...  \n",
       "3101986  d26dae18a47ee499c4aaca4a9b6017f1b5b1da13  1483830000  \n",
       "3101987  8a3d76e1d7452ce38ae70fe900a9952be4305c63  1483830000  \n",
       "3101988  faa8cc5200499acbf0f23f6b8e8f78b2b55d2c60  1483830001  \n",
       "3101989  4d44e61d966ed5a2c8b70a95eb9948aa2a10696f  1483830001  \n",
       "3101990  64ae4a1db60e066701aa444bc0af2f8f3dbcda3f  1483830001  \n",
       "\n",
       "[310202 rows x 3 columns]"
      ]
     },
     "execution_count": 12,
     "metadata": {},
     "output_type": "execute_result"
    }
   ],
   "source": [
    "filtered_df"
   ]
  },
  {
   "cell_type": "markdown",
   "id": "a7af9279-6c86-44d7-9eae-fcb6b364e84e",
   "metadata": {},
   "source": [
    "## Dataset Preprocessing to Interaction Matrix"
   ]
  },
  {
   "cell_type": "code",
   "execution_count": 11,
   "id": "3214a5e2-868e-4019-8437-75e6eb3808c4",
   "metadata": {},
   "outputs": [
    {
     "data": {
      "application/vnd.jupyter.widget-view+json": {
       "model_id": "a71effd293354d4499af5e6b543a0677",
       "version_major": 2,
       "version_minor": 0
      },
      "text/plain": [
       "  0%|          | 0/310202 [00:00<?, ?it/s]"
      ]
     },
     "metadata": {},
     "output_type": "display_data"
    },
    {
     "data": {
      "application/vnd.jupyter.widget-view+json": {
       "model_id": "9c9fde33b09543c09c25585af32ad2c6",
       "version_major": 2,
       "version_minor": 0
      },
      "text/plain": [
       "  0%|          | 0/310202 [00:00<?, ?it/s]"
      ]
     },
     "metadata": {},
     "output_type": "display_data"
    }
   ],
   "source": [
    "from recpack.matrix import InteractionMatrix\n",
    "from recpack.preprocessing.preprocessors import DataFramePreprocessor\n",
    "\n",
    "item_ix = 'id'\n",
    "user_ix = 'userId'\n",
    "timestamp_ix = 'time'\n",
    "\n",
    "preprocessor = DataFramePreprocessor(item_ix=item_ix, user_ix=user_ix, timestamp_ix=timestamp_ix)\n",
    "\n",
    "interaction_matrix = preprocessor.process(filtered_df)"
   ]
  },
  {
   "cell_type": "markdown",
   "id": "68909dd0-22bb-459a-a46f-ae904e558889",
   "metadata": {},
   "source": [
    "## TimedLastItemPrediction Scenario Splitting of Data"
   ]
  },
  {
   "cell_type": "code",
   "execution_count": 25,
   "id": "2b48dd0e-ec34-427c-a32e-2f1436d01625",
   "metadata": {},
   "outputs": [
    {
     "name": "stdout",
     "output_type": "stream",
     "text": [
      "1508211543.583\n"
     ]
    }
   ],
   "source": [
    "t_10 = interaction_matrix.timestamps.values[int(0.999999 * len(interaction_matrix.timestamps.values))]\n",
    "print(t_10)"
   ]
  },
  {
   "cell_type": "code",
   "execution_count": 12,
   "id": "73d22b62-213c-4ac4-9346-70414e7c39db",
   "metadata": {},
   "outputs": [
    {
     "data": {
      "text/plain": [
       "(array([13117.,  3505.,  5827., 29091., 35745., 42245., 45727., 47582.,\n",
       "        38001., 49054.]),\n",
       " array([1.48374536e+09, 1.48375382e+09, 1.48376228e+09, 1.48377073e+09,\n",
       "        1.48377919e+09, 1.48378765e+09, 1.48379611e+09, 1.48380457e+09,\n",
       "        1.48381303e+09, 1.48382148e+09, 1.48382994e+09]),\n",
       " <BarContainer object of 10 artists>)"
      ]
     },
     "execution_count": 12,
     "metadata": {},
     "output_type": "execute_result"
    },
    {
     "data": {
      "image/png": "[encoded data removed]",
      "text/plain": [
       "<Figure size 640x480 with 1 Axes>"
      ]
     },
     "metadata": {},
     "output_type": "display_data"
    }
   ],
   "source": [
    "import matplotlib.pyplot as plt\n",
    "tt = interaction_matrix.timestamps.values[int(0.999 * len(interaction_matrix.timestamps.values))]\n",
    "plt.hist(interaction_matrix.timestamps_lte(tt).timestamps.values)"
   ]
  },
  {
   "cell_type": "code",
   "execution_count": 13,
   "id": "382877f5-81c7-4495-b1c2-6426389d9c63",
   "metadata": {},
   "outputs": [
    {
     "name": "stdout",
     "output_type": "stream",
     "text": [
      "1483818916 1483808390\n"
     ]
    }
   ],
   "source": [
    "interaction_matrix.timestamps.values\n",
    "t_80 = interaction_matrix.timestamps.values[int(0.8 * len(interaction_matrix.timestamps.values))]\n",
    "t_validate_80 = interaction_matrix.timestamps.values[int(0.8 * 0.8 * len(interaction_matrix.timestamps.values))]\n",
    "print(t_80, t_validate_80)"
   ]
  },
  {
   "cell_type": "code",
   "execution_count": null,
   "id": "aa72bb09-e745-4c5f-b4b3-88785f8a96b1",
   "metadata": {},
   "outputs": [],
   "source": [
    "scenario = TimedLastItemPrediction(t = t_80, t_validation = t_validate_80, validation=True)\n",
    "scenario.split(interaction_matrix)"
   ]
  },
  {
   "cell_type": "markdown",
   "id": "3ea7d183-1ea9-429b-8b1a-cd155f0ed308",
   "metadata": {},
   "source": [
    "## Experimental RecPack Pipeline"
   ]
  },
  {
   "cell_type": "code",
   "execution_count": 15,
   "id": "51e133b8-daff-4e2a-a3b6-9747347f3425",
   "metadata": {},
   "outputs": [
    {
     "name": "stderr",
     "output_type": "stream",
     "text": [
      "/opt/conda/lib/python3.11/site-packages/recpack/pipelines/pipeline_builder.py:145: UserWarning: Grid parameter for add_algorithm function will be deprecated in favour of optimisation_info.\n",
      "  warnings.warn(\n"
     ]
    },
    {
     "data": {
      "application/vnd.jupyter.widget-view+json": {
       "model_id": "ab92aa3d3a3147feabbe4b7adf0df622",
       "version_major": 2,
       "version_minor": 0
      },
      "text/plain": [
       "  0%|          | 0/1 [00:00<?, ?it/s]"
      ]
     },
     "metadata": {},
     "output_type": "display_data"
    },
    {
     "name": "stderr",
     "output_type": "stream",
     "text": [
      "/tmp/ipykernel_48875/1947374894.py:89: UserWarning: To copy construct from a tensor, it is recommended to use sourceTensor.clone().detach() or sourceTensor.clone().detach().requires_grad_(True), rather than torch.tensor(sourceTensor).\n",
      "  user_indices = torch.tensor(user_indices).to(self.device)\n",
      "/tmp/ipykernel_48875/1947374894.py:90: UserWarning: To copy construct from a tensor, it is recommended to use sourceTensor.clone().detach() or sourceTensor.clone().detach().requires_grad_(True), rather than torch.tensor(sourceTensor).\n",
      "  pos_item_indices = torch.tensor(pos_item_indices).to(self.device)\n",
      "/tmp/ipykernel_48875/1947374894.py:91: UserWarning: To copy construct from a tensor, it is recommended to use sourceTensor.clone().detach() or sourceTensor.clone().detach().requires_grad_(True), rather than torch.tensor(sourceTensor).\n",
      "  neg_item_indices = torch.tensor(neg_item_indices).to(self.device).squeeze()\n"
     ]
    },
    {
     "name": "stdout",
     "output_type": "stream",
     "text": [
      "2024-08-06 10:47:46,003 - base - recpack - INFO - Processed epoch 0 in 2.49 s.Batch Training Loss = 0.6004\n",
      "2024-08-06 10:49:58,976 - stopping_criterion - recpack - INFO - StoppingCriterion has value 0.4344428940735167, which is better than previous iterations.\n",
      "2024-08-06 10:49:58,983 - base - recpack - INFO - Evaluation at end of 0 took 132.98 s.\n",
      "2024-08-06 10:50:00,181 - base - recpack - INFO - Processed epoch 1 in 1.20 s.Batch Training Loss = 0.2298\n",
      "2024-08-06 10:52:12,996 - stopping_criterion - recpack - INFO - StoppingCriterion has value 0.3729042338644781, which is better than previous iterations.\n",
      "2024-08-06 10:52:13,003 - base - recpack - INFO - Evaluation at end of 1 took 132.82 s.\n",
      "2024-08-06 10:52:14,069 - base - recpack - INFO - Processed epoch 2 in 1.06 s.Batch Training Loss = nan\n",
      "2024-08-06 10:54:27,612 - stopping_criterion - recpack - INFO - StoppingCriterion has value 0.3831733374276109, which is worse than previous iterations.\n",
      "2024-08-06 10:54:27,618 - base - recpack - INFO - Evaluation at end of 2 took 133.55 s.\n",
      "2024-08-06 10:54:28,690 - base - recpack - INFO - Processed epoch 3 in 1.07 s.Batch Training Loss = nan\n",
      "2024-08-06 10:56:36,047 - stopping_criterion - recpack - INFO - StoppingCriterion has value 0.37854588918940346, which is worse than previous iterations.\n",
      "2024-08-06 10:56:36,054 - base - recpack - INFO - Evaluation at end of 3 took 127.36 s.\n",
      "2024-08-06 10:56:37,123 - base - recpack - INFO - Processed epoch 4 in 1.07 s.Batch Training Loss = nan\n",
      "2024-08-06 10:58:45,168 - stopping_criterion - recpack - INFO - StoppingCriterion has value 0.3793599142852879, which is worse than previous iterations.\n",
      "2024-08-06 10:58:45,175 - base - recpack - INFO - Evaluation at end of 4 took 128.05 s.\n",
      "2024-08-06 10:58:45,281 - base - recpack - INFO - Fitting NGCFAlgorithm complete - Took 6.64e+02s\n"
     ]
    },
    {
     "name": "stderr",
     "output_type": "stream",
     "text": [
      "/tmp/ipykernel_48875/1947374894.py:89: UserWarning: To copy construct from a tensor, it is recommended to use sourceTensor.clone().detach() or sourceTensor.clone().detach().requires_grad_(True), rather than torch.tensor(sourceTensor).\n",
      "  user_indices = torch.tensor(user_indices).to(self.device)\n",
      "/tmp/ipykernel_48875/1947374894.py:90: UserWarning: To copy construct from a tensor, it is recommended to use sourceTensor.clone().detach() or sourceTensor.clone().detach().requires_grad_(True), rather than torch.tensor(sourceTensor).\n",
      "  pos_item_indices = torch.tensor(pos_item_indices).to(self.device)\n",
      "/tmp/ipykernel_48875/1947374894.py:91: UserWarning: To copy construct from a tensor, it is recommended to use sourceTensor.clone().detach() or sourceTensor.clone().detach().requires_grad_(True), rather than torch.tensor(sourceTensor).\n",
      "  neg_item_indices = torch.tensor(neg_item_indices).to(self.device).squeeze()\n"
     ]
    },
    {
     "name": "stdout",
     "output_type": "stream",
     "text": [
      "2024-08-06 11:01:29,183 - base - recpack - INFO - Processed epoch 0 in 1.21 s.Batch Training Loss = 0.3375\n",
      "2024-08-06 11:03:40,464 - stopping_criterion - recpack - INFO - StoppingCriterion has value 0.41062112641876314, which is better than previous iterations.\n",
      "2024-08-06 11:03:40,471 - base - recpack - INFO - Evaluation at end of 0 took 131.29 s.\n",
      "2024-08-06 11:03:41,546 - base - recpack - INFO - Processed epoch 1 in 1.07 s.Batch Training Loss = 0.1620\n",
      "2024-08-06 11:05:52,817 - stopping_criterion - recpack - INFO - StoppingCriterion has value 0.4011712454505107, which is worse than previous iterations.\n",
      "2024-08-06 11:05:52,825 - base - recpack - INFO - Evaluation at end of 1 took 131.28 s.\n",
      "2024-08-06 11:05:53,912 - base - recpack - INFO - Processed epoch 2 in 1.09 s.Batch Training Loss = 0.0954\n",
      "2024-08-06 11:08:04,473 - stopping_criterion - recpack - INFO - StoppingCriterion has value 0.39668251013296857, which is better than previous iterations.\n",
      "2024-08-06 11:08:04,480 - base - recpack - INFO - Evaluation at end of 2 took 130.57 s.\n",
      "2024-08-06 11:08:05,560 - base - recpack - INFO - Processed epoch 3 in 1.08 s.Batch Training Loss = 0.2073\n",
      "2024-08-06 11:10:15,187 - stopping_criterion - recpack - INFO - StoppingCriterion has value 0.3884170143409789, which is worse than previous iterations.\n",
      "2024-08-06 11:10:15,193 - base - recpack - INFO - Evaluation at end of 3 took 129.63 s.\n",
      "2024-08-06 11:10:16,269 - base - recpack - INFO - Processed epoch 4 in 1.08 s.Batch Training Loss = nan\n",
      "2024-08-06 11:12:26,652 - stopping_criterion - recpack - INFO - StoppingCriterion has value 0.39113726255701387, which is worse than previous iterations.\n",
      "2024-08-06 11:12:26,658 - base - recpack - INFO - Evaluation at end of 4 took 130.39 s.\n",
      "2024-08-06 11:12:26,788 - base - recpack - INFO - Fitting NGCFAlgorithm complete - Took 6.59e+02s\n"
     ]
    },
    {
     "name": "stderr",
     "output_type": "stream",
     "text": [
      "/tmp/ipykernel_48875/1947374894.py:89: UserWarning: To copy construct from a tensor, it is recommended to use sourceTensor.clone().detach() or sourceTensor.clone().detach().requires_grad_(True), rather than torch.tensor(sourceTensor).\n",
      "  user_indices = torch.tensor(user_indices).to(self.device)\n",
      "/tmp/ipykernel_48875/1947374894.py:90: UserWarning: To copy construct from a tensor, it is recommended to use sourceTensor.clone().detach() or sourceTensor.clone().detach().requires_grad_(True), rather than torch.tensor(sourceTensor).\n",
      "  pos_item_indices = torch.tensor(pos_item_indices).to(self.device)\n",
      "/tmp/ipykernel_48875/1947374894.py:91: UserWarning: To copy construct from a tensor, it is recommended to use sourceTensor.clone().detach() or sourceTensor.clone().detach().requires_grad_(True), rather than torch.tensor(sourceTensor).\n",
      "  neg_item_indices = torch.tensor(neg_item_indices).to(self.device).squeeze()\n"
     ]
    },
    {
     "name": "stdout",
     "output_type": "stream",
     "text": [
      "2024-08-06 11:15:12,031 - base - recpack - INFO - Processed epoch 0 in 2.40 s.Batch Training Loss = 0.2656\n",
      "2024-08-06 11:17:26,204 - stopping_criterion - recpack - INFO - StoppingCriterion has value 0.5224627418785595, which is better than previous iterations.\n",
      "2024-08-06 11:17:26,211 - base - recpack - INFO - Evaluation at end of 0 took 134.18 s.\n",
      "2024-08-06 11:17:28,129 - base - recpack - INFO - Processed epoch 1 in 1.92 s.Batch Training Loss = 0.0630\n",
      "2024-08-06 11:19:41,913 - stopping_criterion - recpack - INFO - StoppingCriterion has value 0.5233028990296489, which is worse than previous iterations.\n",
      "2024-08-06 11:19:41,920 - base - recpack - INFO - Evaluation at end of 1 took 133.79 s.\n",
      "2024-08-06 11:19:44,349 - base - recpack - INFO - Processed epoch 2 in 2.43 s.Batch Training Loss = 0.0557\n",
      "2024-08-06 11:22:05,024 - stopping_criterion - recpack - INFO - StoppingCriterion has value 0.5026179520977565, which is better than previous iterations.\n",
      "2024-08-06 11:22:05,032 - base - recpack - INFO - Evaluation at end of 2 took 140.68 s.\n",
      "2024-08-06 11:22:07,631 - base - recpack - INFO - Processed epoch 3 in 2.60 s.Batch Training Loss = 0.0529\n",
      "2024-08-06 11:24:23,037 - stopping_criterion - recpack - INFO - StoppingCriterion has value 0.4505159126018046, which is better than previous iterations.\n",
      "2024-08-06 11:24:23,044 - base - recpack - INFO - Evaluation at end of 3 took 135.41 s.\n",
      "2024-08-06 11:24:25,890 - base - recpack - INFO - Processed epoch 4 in 2.84 s.Batch Training Loss = 0.0503\n",
      "2024-08-06 11:26:40,545 - stopping_criterion - recpack - INFO - StoppingCriterion has value 0.4454602869050331, which is worse than previous iterations.\n",
      "2024-08-06 11:26:40,553 - base - recpack - INFO - Evaluation at end of 4 took 134.66 s.\n",
      "2024-08-06 11:26:40,659 - base - recpack - INFO - Fitting NGCFAlgorithm complete - Took 6.91e+02s\n"
     ]
    },
    {
     "name": "stderr",
     "output_type": "stream",
     "text": [
      "/tmp/ipykernel_48875/1947374894.py:89: UserWarning: To copy construct from a tensor, it is recommended to use sourceTensor.clone().detach() or sourceTensor.clone().detach().requires_grad_(True), rather than torch.tensor(sourceTensor).\n",
      "  user_indices = torch.tensor(user_indices).to(self.device)\n",
      "/tmp/ipykernel_48875/1947374894.py:90: UserWarning: To copy construct from a tensor, it is recommended to use sourceTensor.clone().detach() or sourceTensor.clone().detach().requires_grad_(True), rather than torch.tensor(sourceTensor).\n",
      "  pos_item_indices = torch.tensor(pos_item_indices).to(self.device)\n",
      "/tmp/ipykernel_48875/1947374894.py:91: UserWarning: To copy construct from a tensor, it is recommended to use sourceTensor.clone().detach() or sourceTensor.clone().detach().requires_grad_(True), rather than torch.tensor(sourceTensor).\n",
      "  neg_item_indices = torch.tensor(neg_item_indices).to(self.device).squeeze()\n"
     ]
    },
    {
     "name": "stdout",
     "output_type": "stream",
     "text": [
      "2024-08-06 11:29:32,455 - base - recpack - INFO - Processed epoch 0 in 1.16 s.Batch Training Loss = 0.4670\n",
      "2024-08-06 11:31:41,825 - stopping_criterion - recpack - INFO - StoppingCriterion has value 0.6288682634425151, which is better than previous iterations.\n",
      "2024-08-06 11:31:41,833 - base - recpack - INFO - Evaluation at end of 0 took 129.38 s.\n",
      "2024-08-06 11:31:42,966 - base - recpack - INFO - Processed epoch 1 in 1.13 s.Batch Training Loss = nan\n",
      "2024-08-06 11:33:57,922 - stopping_criterion - recpack - INFO - StoppingCriterion has value 0.6305560675964088, which is worse than previous iterations.\n",
      "2024-08-06 11:33:57,930 - base - recpack - INFO - Evaluation at end of 1 took 134.96 s.\n",
      "2024-08-06 11:33:59,068 - base - recpack - INFO - Processed epoch 2 in 1.14 s.Batch Training Loss = 0.0704\n",
      "2024-08-06 11:36:12,416 - stopping_criterion - recpack - INFO - StoppingCriterion has value 0.7784923683177866, which is worse than previous iterations.\n",
      "2024-08-06 11:36:12,424 - base - recpack - INFO - Evaluation at end of 2 took 133.35 s.\n",
      "2024-08-06 11:36:13,535 - base - recpack - INFO - Processed epoch 3 in 1.11 s.Batch Training Loss = nan\n",
      "2024-08-06 11:38:24,773 - stopping_criterion - recpack - INFO - StoppingCriterion has value 0.753903387233596, which is worse than previous iterations.\n",
      "2024-08-06 11:38:24,781 - base - recpack - INFO - Evaluation at end of 3 took 131.24 s.\n",
      "2024-08-06 11:38:25,907 - base - recpack - INFO - Processed epoch 4 in 1.13 s.Batch Training Loss = nan\n",
      "2024-08-06 11:40:40,809 - stopping_criterion - recpack - INFO - StoppingCriterion has value 0.7424254474846868, which is worse than previous iterations.\n",
      "2024-08-06 11:40:40,817 - base - recpack - INFO - Evaluation at end of 4 took 134.91 s.\n",
      "2024-08-06 11:40:40,950 - base - recpack - INFO - Fitting NGCFAlgorithm complete - Took 6.7e+02s\n"
     ]
    },
    {
     "name": "stderr",
     "output_type": "stream",
     "text": [
      "/tmp/ipykernel_48875/1947374894.py:89: UserWarning: To copy construct from a tensor, it is recommended to use sourceTensor.clone().detach() or sourceTensor.clone().detach().requires_grad_(True), rather than torch.tensor(sourceTensor).\n",
      "  user_indices = torch.tensor(user_indices).to(self.device)\n",
      "/tmp/ipykernel_48875/1947374894.py:90: UserWarning: To copy construct from a tensor, it is recommended to use sourceTensor.clone().detach() or sourceTensor.clone().detach().requires_grad_(True), rather than torch.tensor(sourceTensor).\n",
      "  pos_item_indices = torch.tensor(pos_item_indices).to(self.device)\n",
      "/tmp/ipykernel_48875/1947374894.py:91: UserWarning: To copy construct from a tensor, it is recommended to use sourceTensor.clone().detach() or sourceTensor.clone().detach().requires_grad_(True), rather than torch.tensor(sourceTensor).\n",
      "  neg_item_indices = torch.tensor(neg_item_indices).to(self.device).squeeze()\n"
     ]
    },
    {
     "name": "stdout",
     "output_type": "stream",
     "text": [
      "2024-08-06 11:43:31,020 - base - recpack - INFO - Processed epoch 0 in 1.28 s.Batch Training Loss = 0.3746\n",
      "2024-08-06 11:45:50,733 - stopping_criterion - recpack - INFO - StoppingCriterion has value 0.44857276576015764, which is better than previous iterations.\n",
      "2024-08-06 11:45:50,741 - base - recpack - INFO - Evaluation at end of 0 took 139.72 s.\n",
      "2024-08-06 11:45:51,874 - base - recpack - INFO - Processed epoch 1 in 1.13 s.Batch Training Loss = 0.1057\n",
      "2024-08-06 11:48:08,737 - stopping_criterion - recpack - INFO - StoppingCriterion has value 0.445224185661371, which is worse than previous iterations.\n",
      "2024-08-06 11:48:08,745 - base - recpack - INFO - Evaluation at end of 1 took 136.87 s.\n",
      "2024-08-06 11:48:09,872 - base - recpack - INFO - Processed epoch 2 in 1.13 s.Batch Training Loss = 0.0082\n",
      "2024-08-06 11:50:23,325 - stopping_criterion - recpack - INFO - StoppingCriterion has value 0.4375894834601412, which is better than previous iterations.\n",
      "2024-08-06 11:50:23,332 - base - recpack - INFO - Evaluation at end of 2 took 133.46 s.\n",
      "2024-08-06 11:50:24,451 - base - recpack - INFO - Processed epoch 3 in 1.12 s.Batch Training Loss = nan\n",
      "2024-08-06 11:52:37,041 - stopping_criterion - recpack - INFO - StoppingCriterion has value 0.43548574747720237, which is worse than previous iterations.\n",
      "2024-08-06 11:52:37,048 - base - recpack - INFO - Evaluation at end of 3 took 132.60 s.\n",
      "2024-08-06 11:52:38,181 - base - recpack - INFO - Processed epoch 4 in 1.13 s.Batch Training Loss = 0.0195\n",
      "2024-08-06 11:54:49,705 - stopping_criterion - recpack - INFO - StoppingCriterion has value 0.4314228561858628, which is worse than previous iterations.\n",
      "2024-08-06 11:54:49,712 - base - recpack - INFO - Evaluation at end of 4 took 131.53 s.\n",
      "2024-08-06 11:54:49,823 - base - recpack - INFO - Fitting NGCFAlgorithm complete - Took 6.8e+02s\n"
     ]
    },
    {
     "name": "stderr",
     "output_type": "stream",
     "text": [
      "/tmp/ipykernel_48875/1947374894.py:89: UserWarning: To copy construct from a tensor, it is recommended to use sourceTensor.clone().detach() or sourceTensor.clone().detach().requires_grad_(True), rather than torch.tensor(sourceTensor).\n",
      "  user_indices = torch.tensor(user_indices).to(self.device)\n",
      "/tmp/ipykernel_48875/1947374894.py:90: UserWarning: To copy construct from a tensor, it is recommended to use sourceTensor.clone().detach() or sourceTensor.clone().detach().requires_grad_(True), rather than torch.tensor(sourceTensor).\n",
      "  pos_item_indices = torch.tensor(pos_item_indices).to(self.device)\n",
      "/tmp/ipykernel_48875/1947374894.py:91: UserWarning: To copy construct from a tensor, it is recommended to use sourceTensor.clone().detach() or sourceTensor.clone().detach().requires_grad_(True), rather than torch.tensor(sourceTensor).\n",
      "  neg_item_indices = torch.tensor(neg_item_indices).to(self.device).squeeze()\n"
     ]
    },
    {
     "name": "stdout",
     "output_type": "stream",
     "text": [
      "2024-08-06 11:57:35,090 - base - recpack - INFO - Processed epoch 0 in 2.39 s.Batch Training Loss = 0.2863\n",
      "2024-08-06 11:59:42,376 - stopping_criterion - recpack - INFO - StoppingCriterion has value 0.5433174655462706, which is better than previous iterations.\n",
      "2024-08-06 11:59:42,384 - base - recpack - INFO - Evaluation at end of 0 took 127.29 s.\n",
      "2024-08-06 11:59:44,689 - base - recpack - INFO - Processed epoch 1 in 2.30 s.Batch Training Loss = 0.0623\n",
      "2024-08-06 12:01:51,210 - stopping_criterion - recpack - INFO - StoppingCriterion has value 0.5518306171394853, which is worse than previous iterations.\n",
      "2024-08-06 12:01:51,218 - base - recpack - INFO - Evaluation at end of 1 took 126.53 s.\n",
      "2024-08-06 12:01:53,861 - base - recpack - INFO - Processed epoch 2 in 2.64 s.Batch Training Loss = 0.0577\n",
      "2024-08-06 12:04:00,741 - stopping_criterion - recpack - INFO - StoppingCriterion has value 0.551443862218975, which is worse than previous iterations.\n",
      "2024-08-06 12:04:00,748 - base - recpack - INFO - Evaluation at end of 2 took 126.89 s.\n",
      "2024-08-06 12:04:03,427 - base - recpack - INFO - Processed epoch 3 in 2.68 s.Batch Training Loss = 0.0546\n",
      "2024-08-06 12:06:13,644 - stopping_criterion - recpack - INFO - StoppingCriterion has value 0.5444830794714768, which is worse than previous iterations.\n",
      "2024-08-06 12:06:13,652 - base - recpack - INFO - Evaluation at end of 3 took 130.22 s.\n",
      "2024-08-06 12:06:16,752 - base - recpack - INFO - Processed epoch 4 in 3.10 s.Batch Training Loss = 0.0504\n",
      "2024-08-06 12:08:24,693 - stopping_criterion - recpack - INFO - StoppingCriterion has value 0.5408147656299422, which is worse than previous iterations.\n",
      "2024-08-06 12:08:24,700 - base - recpack - INFO - Evaluation at end of 4 took 127.95 s.\n",
      "2024-08-06 12:08:24,824 - base - recpack - INFO - Fitting NGCFAlgorithm complete - Took 6.52e+02s\n"
     ]
    },
    {
     "name": "stderr",
     "output_type": "stream",
     "text": [
      "/tmp/ipykernel_48875/1947374894.py:89: UserWarning: To copy construct from a tensor, it is recommended to use sourceTensor.clone().detach() or sourceTensor.clone().detach().requires_grad_(True), rather than torch.tensor(sourceTensor).\n",
      "  user_indices = torch.tensor(user_indices).to(self.device)\n",
      "/tmp/ipykernel_48875/1947374894.py:90: UserWarning: To copy construct from a tensor, it is recommended to use sourceTensor.clone().detach() or sourceTensor.clone().detach().requires_grad_(True), rather than torch.tensor(sourceTensor).\n",
      "  pos_item_indices = torch.tensor(pos_item_indices).to(self.device)\n",
      "/tmp/ipykernel_48875/1947374894.py:91: UserWarning: To copy construct from a tensor, it is recommended to use sourceTensor.clone().detach() or sourceTensor.clone().detach().requires_grad_(True), rather than torch.tensor(sourceTensor).\n",
      "  neg_item_indices = torch.tensor(neg_item_indices).to(self.device).squeeze()\n"
     ]
    },
    {
     "name": "stdout",
     "output_type": "stream",
     "text": [
      "2024-08-06 12:11:08,513 - base - recpack - INFO - Processed epoch 0 in 1.41 s.Batch Training Loss = 0.4871\n",
      "2024-08-06 12:13:15,330 - stopping_criterion - recpack - INFO - StoppingCriterion has value 0.3797126803001846, which is better than previous iterations.\n",
      "2024-08-06 12:13:15,338 - base - recpack - INFO - Evaluation at end of 0 took 126.82 s.\n",
      "2024-08-06 12:13:16,465 - base - recpack - INFO - Processed epoch 1 in 1.13 s.Batch Training Loss = nan\n",
      "2024-08-06 12:15:25,920 - stopping_criterion - recpack - INFO - StoppingCriterion has value 0.37954585603619234, which is worse than previous iterations.\n",
      "2024-08-06 12:15:25,928 - base - recpack - INFO - Evaluation at end of 1 took 129.46 s.\n",
      "2024-08-06 12:15:27,050 - base - recpack - INFO - Processed epoch 2 in 1.12 s.Batch Training Loss = nan\n",
      "2024-08-06 12:17:33,741 - stopping_criterion - recpack - INFO - StoppingCriterion has value 0.4007314004447808, which is worse than previous iterations.\n",
      "2024-08-06 12:17:33,748 - base - recpack - INFO - Evaluation at end of 2 took 126.70 s.\n",
      "2024-08-06 12:17:34,854 - base - recpack - INFO - Processed epoch 3 in 1.11 s.Batch Training Loss = nan\n",
      "2024-08-06 12:19:42,842 - stopping_criterion - recpack - INFO - StoppingCriterion has value 0.3880951678338817, which is worse than previous iterations.\n",
      "2024-08-06 12:19:42,849 - base - recpack - INFO - Evaluation at end of 3 took 127.99 s.\n",
      "2024-08-06 12:19:43,977 - base - recpack - INFO - Processed epoch 4 in 1.13 s.Batch Training Loss = nan\n",
      "2024-08-06 12:21:49,226 - stopping_criterion - recpack - INFO - StoppingCriterion has value 0.3887353879833909, which is worse than previous iterations.\n",
      "2024-08-06 12:21:49,233 - base - recpack - INFO - Evaluation at end of 4 took 125.25 s.\n",
      "2024-08-06 12:21:49,362 - base - recpack - INFO - Fitting NGCFAlgorithm complete - Took 6.42e+02s\n"
     ]
    },
    {
     "name": "stderr",
     "output_type": "stream",
     "text": [
      "/tmp/ipykernel_48875/1947374894.py:89: UserWarning: To copy construct from a tensor, it is recommended to use sourceTensor.clone().detach() or sourceTensor.clone().detach().requires_grad_(True), rather than torch.tensor(sourceTensor).\n",
      "  user_indices = torch.tensor(user_indices).to(self.device)\n",
      "/tmp/ipykernel_48875/1947374894.py:90: UserWarning: To copy construct from a tensor, it is recommended to use sourceTensor.clone().detach() or sourceTensor.clone().detach().requires_grad_(True), rather than torch.tensor(sourceTensor).\n",
      "  pos_item_indices = torch.tensor(pos_item_indices).to(self.device)\n",
      "/tmp/ipykernel_48875/1947374894.py:91: UserWarning: To copy construct from a tensor, it is recommended to use sourceTensor.clone().detach() or sourceTensor.clone().detach().requires_grad_(True), rather than torch.tensor(sourceTensor).\n",
      "  neg_item_indices = torch.tensor(neg_item_indices).to(self.device).squeeze()\n"
     ]
    },
    {
     "name": "stdout",
     "output_type": "stream",
     "text": [
      "2024-08-06 12:24:28,798 - base - recpack - INFO - Processed epoch 0 in 1.26 s.Batch Training Loss = 0.3936\n",
      "2024-08-06 12:26:38,724 - stopping_criterion - recpack - INFO - StoppingCriterion has value 0.5250940973110417, which is better than previous iterations.\n",
      "2024-08-06 12:26:38,731 - base - recpack - INFO - Evaluation at end of 0 took 129.93 s.\n",
      "2024-08-06 12:26:39,946 - base - recpack - INFO - Processed epoch 1 in 1.21 s.Batch Training Loss = 0.5396\n",
      "2024-08-06 12:28:48,127 - stopping_criterion - recpack - INFO - StoppingCriterion has value 0.5140043566406504, which is better than previous iterations.\n",
      "2024-08-06 12:28:48,135 - base - recpack - INFO - Evaluation at end of 1 took 128.19 s.\n",
      "2024-08-06 12:28:49,436 - base - recpack - INFO - Processed epoch 2 in 1.30 s.Batch Training Loss = 0.1589\n",
      "2024-08-06 12:30:58,319 - stopping_criterion - recpack - INFO - StoppingCriterion has value 0.5089674343109236, which is worse than previous iterations.\n",
      "2024-08-06 12:30:58,328 - base - recpack - INFO - Evaluation at end of 2 took 128.89 s.\n",
      "2024-08-06 12:31:00,741 - base - recpack - INFO - Processed epoch 3 in 2.41 s.Batch Training Loss = 0.0758\n",
      "2024-08-06 12:33:10,703 - stopping_criterion - recpack - INFO - StoppingCriterion has value 0.42379714629307286, which is better than previous iterations.\n",
      "2024-08-06 12:33:10,710 - base - recpack - INFO - Evaluation at end of 3 took 129.97 s.\n",
      "2024-08-06 12:33:13,932 - base - recpack - INFO - Processed epoch 4 in 3.22 s.Batch Training Loss = 0.0493\n",
      "2024-08-06 12:35:23,354 - stopping_criterion - recpack - INFO - StoppingCriterion has value 0.4307544307129685, which is worse than previous iterations.\n",
      "2024-08-06 12:35:23,361 - base - recpack - INFO - Evaluation at end of 4 took 129.43 s.\n",
      "2024-08-06 12:35:23,489 - base - recpack - INFO - Fitting NGCFAlgorithm complete - Took 6.56e+02s\n"
     ]
    },
    {
     "name": "stderr",
     "output_type": "stream",
     "text": [
      "/tmp/ipykernel_48875/1947374894.py:89: UserWarning: To copy construct from a tensor, it is recommended to use sourceTensor.clone().detach() or sourceTensor.clone().detach().requires_grad_(True), rather than torch.tensor(sourceTensor).\n",
      "  user_indices = torch.tensor(user_indices).to(self.device)\n",
      "/tmp/ipykernel_48875/1947374894.py:90: UserWarning: To copy construct from a tensor, it is recommended to use sourceTensor.clone().detach() or sourceTensor.clone().detach().requires_grad_(True), rather than torch.tensor(sourceTensor).\n",
      "  pos_item_indices = torch.tensor(pos_item_indices).to(self.device)\n",
      "/tmp/ipykernel_48875/1947374894.py:91: UserWarning: To copy construct from a tensor, it is recommended to use sourceTensor.clone().detach() or sourceTensor.clone().detach().requires_grad_(True), rather than torch.tensor(sourceTensor).\n",
      "  neg_item_indices = torch.tensor(neg_item_indices).to(self.device).squeeze()\n"
     ]
    },
    {
     "name": "stdout",
     "output_type": "stream",
     "text": [
      "2024-08-06 12:38:06,379 - base - recpack - INFO - Processed epoch 0 in 2.80 s.Batch Training Loss = 0.2878\n",
      "2024-08-06 12:40:13,548 - stopping_criterion - recpack - INFO - StoppingCriterion has value 0.5544957359551963, which is better than previous iterations.\n",
      "2024-08-06 12:40:13,556 - base - recpack - INFO - Evaluation at end of 0 took 127.18 s.\n",
      "2024-08-06 12:40:15,956 - base - recpack - INFO - Processed epoch 1 in 2.40 s.Batch Training Loss = 0.0657\n",
      "2024-08-06 12:42:26,936 - stopping_criterion - recpack - INFO - StoppingCriterion has value 0.5566093921114436, which is worse than previous iterations.\n",
      "2024-08-06 12:42:26,945 - base - recpack - INFO - Evaluation at end of 1 took 130.99 s.\n",
      "2024-08-06 12:42:29,773 - base - recpack - INFO - Processed epoch 2 in 2.83 s.Batch Training Loss = 0.0569\n",
      "2024-08-06 12:44:41,088 - stopping_criterion - recpack - INFO - StoppingCriterion has value 0.5557080567136162, which is worse than previous iterations.\n",
      "2024-08-06 12:44:41,097 - base - recpack - INFO - Evaluation at end of 2 took 131.32 s.\n",
      "2024-08-06 12:44:43,827 - base - recpack - INFO - Processed epoch 3 in 2.73 s.Batch Training Loss = 0.0538\n",
      "2024-08-06 12:46:54,101 - stopping_criterion - recpack - INFO - StoppingCriterion has value 0.5472765612783423, which is worse than previous iterations.\n",
      "2024-08-06 12:46:54,108 - base - recpack - INFO - Evaluation at end of 3 took 130.28 s.\n",
      "2024-08-06 12:46:57,103 - base - recpack - INFO - Processed epoch 4 in 2.99 s.Batch Training Loss = 0.0548\n",
      "2024-08-06 12:49:08,206 - stopping_criterion - recpack - INFO - StoppingCriterion has value 0.540330376677356, which is better than previous iterations.\n",
      "2024-08-06 12:49:08,213 - base - recpack - INFO - Evaluation at end of 4 took 131.11 s.\n",
      "2024-08-06 12:49:08,325 - base - recpack - INFO - Fitting NGCFAlgorithm complete - Took 6.65e+02s\n"
     ]
    },
    {
     "name": "stderr",
     "output_type": "stream",
     "text": [
      "/tmp/ipykernel_48875/1947374894.py:89: UserWarning: To copy construct from a tensor, it is recommended to use sourceTensor.clone().detach() or sourceTensor.clone().detach().requires_grad_(True), rather than torch.tensor(sourceTensor).\n",
      "  user_indices = torch.tensor(user_indices).to(self.device)\n",
      "/tmp/ipykernel_48875/1947374894.py:90: UserWarning: To copy construct from a tensor, it is recommended to use sourceTensor.clone().detach() or sourceTensor.clone().detach().requires_grad_(True), rather than torch.tensor(sourceTensor).\n",
      "  pos_item_indices = torch.tensor(pos_item_indices).to(self.device)\n",
      "/tmp/ipykernel_48875/1947374894.py:91: UserWarning: To copy construct from a tensor, it is recommended to use sourceTensor.clone().detach() or sourceTensor.clone().detach().requires_grad_(True), rather than torch.tensor(sourceTensor).\n",
      "  neg_item_indices = torch.tensor(neg_item_indices).to(self.device).squeeze()\n"
     ]
    },
    {
     "name": "stdout",
     "output_type": "stream",
     "text": [
      "2024-08-06 12:51:53,035 - base - recpack - INFO - Processed epoch 0 in 1.20 s.Batch Training Loss = 0.3960\n",
      "2024-08-06 12:54:04,171 - stopping_criterion - recpack - INFO - StoppingCriterion has value 0.4659773360465761, which is better than previous iterations.\n",
      "2024-08-06 12:54:04,179 - base - recpack - INFO - Evaluation at end of 0 took 131.14 s.\n",
      "2024-08-06 12:54:05,536 - base - recpack - INFO - Processed epoch 1 in 1.36 s.Batch Training Loss = 0.2629\n",
      "2024-08-06 12:56:15,875 - stopping_criterion - recpack - INFO - StoppingCriterion has value 0.4325002240903696, which is better than previous iterations.\n",
      "2024-08-06 12:56:15,882 - base - recpack - INFO - Evaluation at end of 1 took 130.35 s.\n",
      "2024-08-06 12:56:17,241 - base - recpack - INFO - Processed epoch 2 in 1.36 s.Batch Training Loss = 0.1193\n",
      "2024-08-06 12:58:27,798 - stopping_criterion - recpack - INFO - StoppingCriterion has value 0.4210638232697017, which is better than previous iterations.\n",
      "2024-08-06 12:58:27,805 - base - recpack - INFO - Evaluation at end of 2 took 130.56 s.\n",
      "2024-08-06 12:58:29,119 - base - recpack - INFO - Processed epoch 3 in 1.31 s.Batch Training Loss = 0.0500\n",
      "2024-08-06 13:00:37,240 - stopping_criterion - recpack - INFO - StoppingCriterion has value 0.41675465067911194, which is worse than previous iterations.\n",
      "2024-08-06 13:00:37,248 - base - recpack - INFO - Evaluation at end of 3 took 128.13 s.\n",
      "2024-08-06 13:00:38,322 - base - recpack - INFO - Processed epoch 4 in 1.07 s.Batch Training Loss = nan\n",
      "2024-08-06 13:02:46,377 - stopping_criterion - recpack - INFO - StoppingCriterion has value 0.4193306326955011, which is worse than previous iterations.\n",
      "2024-08-06 13:02:46,386 - base - recpack - INFO - Evaluation at end of 4 took 128.06 s.\n",
      "2024-08-06 13:02:46,516 - base - recpack - INFO - Fitting NGCFAlgorithm complete - Took 6.55e+02s\n"
     ]
    }
   ],
   "source": [
    "pipeline_builder = PipelineBuilder()\n",
    "ok = (scenario._validation_data_in, scenario._validation_data_out)\n",
    "pipeline_builder.set_data_from_scenario(scenario)\n",
    "\n",
    "\n",
    "# Add the baseline algorithms\n",
    "#pipeline_builder.add_algorithm('ItemKNN', grid={'K': [100, 200, 400, 800]})\n",
    "#pipeline_builder.add_algorithm('EASE', grid={'l2': [10, 100, 1000], 'alpha': [0, 0.1, 0.5]})\n",
    "\n",
    "# Add our LightGCN algorithm\n",
    "pipeline_builder.add_algorithm(\n",
    "    'NGCFAlgorithm',\n",
    "    grid={\n",
    "        'learning_rate': [0.1, 0.01, 0.001],\n",
    "        'dropout': [0.0, 0.1, 0.2]\n",
    "    },\n",
    "    params={\n",
    "        'max_epochs': 5,\n",
    "        'batch_size': 1024,\n",
    "        'n_layers': 3,\n",
    "        'stop_early': True,\n",
    "        'max_iter_no_change': 5,\n",
    "        'min_improvement': 0.01,\n",
    "        'save_best_to_file': True,\n",
    "        'keep_last': True\n",
    "    }\n",
    ")\n",
    "\n",
    "# Add NDCG, Recall, and HR metrics to be evaluated at 10, 20, and 50\n",
    "pipeline_builder.add_metric('NDCGK', [10, 20, 50])\n",
    "pipeline_builder.add_metric('RecallK', [10, 20, 50])\n",
    "pipeline_builder.add_metric('HitK', [10, 20, 50])\n",
    "\n",
    "# Set the optimisation metric\n",
    "pipeline_builder.set_optimisation_metric('RecallK', 20)\n",
    "\n",
    "# Construct pipeline\n",
    "pipeline = pipeline_builder.build()\n",
    "\n",
    "# Debugging: Output the shape of the training data\n",
    "#print(f\"Training data shape: {im.shape}\")\n",
    "\n",
    "# Run pipeline, will first do optimisation, and then evaluation\n",
    "pipeline.run()"
   ]
  },
  {
   "cell_type": "markdown",
   "id": "8503e255-bc41-473e-8f44-8262b63e6afc",
   "metadata": {},
   "source": [
    "## Results"
   ]
  },
  {
   "cell_type": "code",
   "execution_count": 16,
   "id": "e80f2784-1ed9-4d93-9883-4c34213d62ed",
   "metadata": {
    "scrolled": true
   },
   "outputs": [
    {
     "data": {
      "text/html": [
       "<div>\n",
       "<style scoped>\n",
       "    .dataframe tbody tr th:only-of-type {\n",
       "        vertical-align: middle;\n",
       "    }\n",
       "\n",
       "    .dataframe tbody tr th {\n",
       "        vertical-align: top;\n",
       "    }\n",
       "\n",
       "    .dataframe thead th {\n",
       "        text-align: right;\n",
       "    }\n",
       "</style>\n",
       "<table border=\"1\" class=\"dataframe\">\n",
       "  <thead>\n",
       "    <tr style=\"text-align: right;\">\n",
       "      <th></th>\n",
       "      <th>NDCGK_10</th>\n",
       "      <th>NDCGK_20</th>\n",
       "      <th>NDCGK_50</th>\n",
       "      <th>RecallK_10</th>\n",
       "      <th>RecallK_20</th>\n",
       "      <th>RecallK_50</th>\n",
       "      <th>HitK_10</th>\n",
       "      <th>HitK_20</th>\n",
       "      <th>HitK_50</th>\n",
       "    </tr>\n",
       "  </thead>\n",
       "  <tbody>\n",
       "    <tr>\n",
       "      <th>NGCFAlgorithm(batch_size=1024,dropout=0.0,embedding_dim=64,grad_clip=1.0,keep_last=True,learning_rate=0.01,max_epochs=5,max_iter_no_change=5,message_dropout=0.0,min_improvement=0.01,n_layers=3,node_dropout=0.0,predict_topK=None,save_best_to_file=True,seed=2034669135,stop_early=True,stopping_criterion=&lt;recpack.algorithms.stopping_criterion.StoppingCriterion object at 0x7f934ac0cf90&gt;,validation_sample_size=None)</th>\n",
       "      <td>0.023922</td>\n",
       "      <td>0.042137</td>\n",
       "      <td>0.069392</td>\n",
       "      <td>0.062043</td>\n",
       "      <td>0.133601</td>\n",
       "      <td>0.269141</td>\n",
       "      <td>0.062043</td>\n",
       "      <td>0.133601</td>\n",
       "      <td>0.269141</td>\n",
       "    </tr>\n",
       "  </tbody>\n",
       "</table>\n",
       "</div>"
      ],
      "text/plain": [
       "                                                    NDCGK_10  NDCGK_20  \\\n",
       "NGCFAlgorithm(batch_size=1024,dropout=0.0,embed...  0.023922  0.042137   \n",
       "\n",
       "                                                    NDCGK_50  RecallK_10  \\\n",
       "NGCFAlgorithm(batch_size=1024,dropout=0.0,embed...  0.069392    0.062043   \n",
       "\n",
       "                                                    RecallK_20  RecallK_50  \\\n",
       "NGCFAlgorithm(batch_size=1024,dropout=0.0,embed...    0.133601    0.269141   \n",
       "\n",
       "                                                     HitK_10   HitK_20  \\\n",
       "NGCFAlgorithm(batch_size=1024,dropout=0.0,embed...  0.062043  0.133601   \n",
       "\n",
       "                                                     HitK_50  \n",
       "NGCFAlgorithm(batch_size=1024,dropout=0.0,embed...  0.269141  "
      ]
     },
     "execution_count": 16,
     "metadata": {},
     "output_type": "execute_result"
    }
   ],
   "source": [
    "pipeline.get_metrics()"
   ]
  },
  {
   "cell_type": "code",
   "execution_count": null,
   "id": "9f5e2dde-f629-46ec-b8b9-660b536341c7",
   "metadata": {},
   "outputs": [],
   "source": []
  }
 ],
 "metadata": {
  "kernelspec": {
   "display_name": "Python 3 (ipykernel)",
   "language": "python",
   "name": "python3"
  },
  "language_info": {
   "codemirror_mode": {
    "name": "ipython",
    "version": 3
   },
   "file_extension": ".py",
   "mimetype": "text/x-python",
   "name": "python",
   "nbconvert_exporter": "python",
   "pygments_lexer": "ipython3",
   "version": "3.11.9"
  }
 },
 "nbformat": 4,
 "nbformat_minor": 5
}
