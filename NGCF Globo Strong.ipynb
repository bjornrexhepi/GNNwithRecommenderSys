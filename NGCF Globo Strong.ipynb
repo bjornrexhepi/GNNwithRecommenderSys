{
 "cells": [
  {
   "cell_type": "markdown",
   "id": "3f0d6f9e-ec49-451e-9a18-ee4000bbf556",
   "metadata": {},
   "source": [
    "# NGCF with Globo Dataset and StrongGeneralization Scenario"
   ]
  },
  {
   "cell_type": "markdown",
   "id": "1d880b3f-384a-42b3-8d98-7757410133d9",
   "metadata": {},
   "source": [
    "In this notebook, the implementation of NGCF in RecPack and the experimental part to generate the results of the algorithm will be presented. \n",
    "The notebook contains:\n",
    "1. The implementation of NGCF in RecPack.\n",
    "2. The 10% of Globo Dataset from RecPack and the StrongGeneralization Scenario has been used to split the data.\n",
    "3. The StrongGeneralization Scenario to split the data.\n",
    "4. The RecPack Pipeline Builder to run the experiments, including the splitted dataset, the algorithms and metrics to run. Hyperparameter has been performed in the Pipeline.\n",
    "\n",
    "Please make sure you have installed all the latest libraries in your Python environment, in order to have a successful run of the code."
   ]
  },
  {
   "cell_type": "markdown",
   "id": "d8089534-856f-477e-8368-5783a00fe478",
   "metadata": {},
   "source": [
    "## NGCF implementation in RecPack"
   ]
  },
  {
   "cell_type": "code",
   "execution_count": 1,
   "id": "5c7dc8a2-fbb5-4309-bb75-7274fd8fd280",
   "metadata": {},
   "outputs": [],
   "source": [
    "import torch\n",
    "import torch.nn as nn\n",
    "import torch.optim as optim\n",
    "from torch_sparse import SparseTensor, matmul\n",
    "from typing import List, Tuple, Optional\n",
    "from recpack.algorithms.base import TorchMLAlgorithm\n",
    "from recpack.matrix.interaction_matrix import InteractionMatrix\n",
    "from recpack.algorithms.loss_functions import bpr_loss\n",
    "from recpack.algorithms.samplers import PositiveNegativeSampler\n",
    "from scipy.sparse import csr_matrix\n",
    "import logging\n",
    "\n",
    "logger = logging.getLogger(__name__)\n",
    "\n",
    "# Neural Graph Collaborative Filtering (NGCF) model implementation\n",
    "class NGCF(nn.Module):\n",
    "    def __init__(self, num_users, num_items, embedding_dim=64, n_layers=3, dropout=0.0, node_dropout=0.0, message_dropout=0.0):\n",
    "        \"\"\"\n",
    "        Initialize the NGCF model with user and item embeddings.\n",
    "\n",
    "        Args:\n",
    "            num_users (int): Number of users.\n",
    "            num_items (int): Number of items.\n",
    "            embedding_dim (int): Dimension of the embedding vectors.\n",
    "            n_layers (int): Number of hidden layers.\n",
    "            dropout (float): Dropout rate for layers.\n",
    "            node_dropout (float): Dropout rate applied to node embeddings.\n",
    "            message_dropout (float): Dropout rate applied during message passing.\n",
    "        \"\"\"\n",
    "        super(NGCF, self).__init__()\n",
    "        self.num_users = num_users\n",
    "        self.num_items = num_items\n",
    "        self.embedding_dim = embedding_dim\n",
    "        self.n_layers = n_layers\n",
    "        self.dropout = dropout\n",
    "        self.node_dropout = node_dropout\n",
    "        self.message_dropout = message_dropout\n",
    "\n",
    "        # Initialize user and item embeddings\n",
    "        self.user_embedding = nn.Embedding(num_users, embedding_dim)\n",
    "        self.item_embedding = nn.Embedding(num_items, embedding_dim)\n",
    "        \n",
    "        # Define a list of linear layers for each propagation layer\n",
    "        self.layers = nn.ModuleList([nn.Linear(embedding_dim, embedding_dim) for _ in range(n_layers)])\n",
    "        \n",
    "        # Dropout layer for regularization\n",
    "        self.dropout_layer = nn.Dropout(dropout)\n",
    "        \n",
    "        # Initialize the parameters of the model\n",
    "        self.reset_parameters()\n",
    "\n",
    "    def reset_parameters(self):\n",
    "        \"\"\"\n",
    "        Initialize model parameters using Xavier uniform initialization.\n",
    "        \"\"\"\n",
    "        nn.init.xavier_uniform_(self.user_embedding.weight)\n",
    "        nn.init.xavier_uniform_(self.item_embedding.weight)\n",
    "        for layer in self.layers:\n",
    "            nn.init.xavier_uniform_(layer.weight)\n",
    "\n",
    "    def message_dropout_func(self, graph):\n",
    "        \"\"\"\n",
    "        Apply message dropout during graph convolution.\n",
    "\n",
    "        Args:\n",
    "            graph (SparseTensor): The graph's sparse adjacency matrix.\n",
    "\n",
    "        Returns:\n",
    "            SparseTensor: The adjacency matrix after applying message dropout.\n",
    "        \"\"\"\n",
    "        if self.message_dropout > 0:\n",
    "            row, col, value = graph.coo()\n",
    "            mask = torch.rand(row.size(0)) > self.message_dropout\n",
    "            row, col, value = row[mask], col[mask], value[mask]\n",
    "            graph = SparseTensor(row=row, col=col, value=value, sparse_sizes=graph.sparse_sizes())\n",
    "        return graph\n",
    "\n",
    "    def node_dropout_func(self, embeddings):\n",
    "        \"\"\"\n",
    "        Apply node dropout to the embeddings.\n",
    "\n",
    "        Args:\n",
    "            embeddings (torch.Tensor): The node embeddings.\n",
    "\n",
    "        Returns:\n",
    "            torch.Tensor: The embeddings after applying node dropout.\n",
    "        \"\"\"\n",
    "        if self.node_dropout > 0:\n",
    "            mask = (torch.rand(embeddings.size(0)) > self.node_dropout).float().to(embeddings.device)\n",
    "            embeddings = embeddings * mask.unsqueeze(1)\n",
    "        return embeddings\n",
    "\n",
    "    def forward(self, graph):\n",
    "        \"\"\"\n",
    "        Forward pass for the NGCF model.\n",
    "\n",
    "        Args:\n",
    "            graph (SparseTensor): The graph's sparse adjacency matrix.\n",
    "\n",
    "        Returns:\n",
    "            Tuple[torch.Tensor, torch.Tensor]: Final user and item embeddings.\n",
    "        \"\"\"\n",
    "        user_emb = self.user_embedding.weight\n",
    "        item_emb = self.item_embedding.weight\n",
    "        \n",
    "        # Apply node dropout to user and item embeddings\n",
    "        user_emb = self.node_dropout_func(user_emb)\n",
    "        item_emb = self.node_dropout_func(item_emb)\n",
    "        \n",
    "        # Concatenate user and item embeddings\n",
    "        all_emb = torch.cat([user_emb, item_emb], dim=0)\n",
    "        embs = [all_emb]\n",
    "\n",
    "        # Perform message passing and propagate embeddings through layers\n",
    "        for layer in self.layers:\n",
    "            graph = self.message_dropout_func(graph)\n",
    "            # Preventing CUDA/Library version error\n",
    "            try:\n",
    "                all_emb = matmul(graph, all_emb)\n",
    "            except RuntimeError as e:\n",
    "                break\n",
    "            all_emb = layer(all_emb)\n",
    "            all_emb = torch.relu(all_emb)\n",
    "            all_emb = self.dropout_layer(all_emb)\n",
    "            embs.append(all_emb)\n",
    "\n",
    "        # Compute the final embeddings by averaging the embeddings across layers\n",
    "        final_embedding = torch.mean(torch.stack(embs, dim=1), dim=1)\n",
    "        \n",
    "        # Split the final embeddings back into user and item embeddings\n",
    "        user_emb_final, item_emb_final = torch.split(final_embedding, [self.num_users, self.num_items])\n",
    "\n",
    "        return user_emb_final, item_emb_final"
   ]
  },
  {
   "cell_type": "code",
   "execution_count": 2,
   "id": "383f2777-5652-4d39-a111-9f8f71865f24",
   "metadata": {},
   "outputs": [],
   "source": [
    "from recpack.algorithms.base import TorchMLAlgorithm\n",
    "from recpack.matrix import Matrix\n",
    "from recpack.matrix.interaction_matrix import InteractionMatrix\n",
    "from recpack.algorithms.loss_functions import bpr_loss\n",
    "from recpack.algorithms.samplers import PositiveNegativeSampler\n",
    "from recpack.algorithms.stopping_criterion import (\n",
    "    EarlyStoppingException,\n",
    "    StoppingCriterion,\n",
    ")\n",
    "from typing import List, Tuple, Optional\n",
    "import numpy as np\n",
    "from scipy.sparse import csr_matrix, lil_matrix, coo_matrix\n",
    "import torch\n",
    "import torch.optim as optim\n",
    "import tempfile\n",
    "import time\n",
    "import logging\n",
    "\n",
    "logger = logging.getLogger(__name__)\n",
    "\n",
    "# NGCFAlgorithm: An implementation of the NGCF algorithm using TorchMLAlgorithm as a base class\n",
    "class NGCFAlgorithm(TorchMLAlgorithm):\n",
    "    def __init__(\n",
    "        self,\n",
    "        batch_size: int = 256,\n",
    "        max_epochs: int = 100,\n",
    "        learning_rate: float = 0.001,\n",
    "        embedding_dim: int = 64,\n",
    "        n_layers: int = 3,\n",
    "        dropout: float = 0.1,\n",
    "        node_dropout: float = 0.0,\n",
    "        message_dropout: float = 0.0,\n",
    "        stopping_criterion: str = \"bpr\",\n",
    "        stop_early: bool = True,\n",
    "        max_iter_no_change: int = 5,\n",
    "        min_improvement: float = 0.01,\n",
    "        seed: Optional[int] = None,\n",
    "        save_best_to_file: bool = False,\n",
    "        keep_last: bool = False,\n",
    "        predict_topK: Optional[int] = None,\n",
    "        validation_sample_size: Optional[int] = None,\n",
    "        grad_clip: float = 1.0,  # Gradient clipping value\n",
    "    ):\n",
    "        \"\"\"\n",
    "        Initialize the NGCFAlgorithm with various hyperparameters.\n",
    "\n",
    "        Args:\n",
    "            batch_size (int): Number of samples per batch.\n",
    "            max_epochs (int): Maximum number of training epochs.\n",
    "            learning_rate (float): Learning rate for the optimizer.\n",
    "            embedding_dim (int): Dimension of the embedding vectors.\n",
    "            n_layers (int): Number of hidden layers in the NGCF model.\n",
    "            dropout (float): Dropout rate for regularization.\n",
    "            node_dropout (float): Dropout rate applied to node embeddings.\n",
    "            message_dropout (float): Dropout rate applied during message passing.\n",
    "            stopping_criterion (str): Criterion to stop training early.\n",
    "            stop_early (bool): Whether to enable early stopping.\n",
    "            max_iter_no_change (int): Maximum iterations with no improvement for early stopping.\n",
    "            min_improvement (float): Minimum improvement required for early stopping.\n",
    "            seed (Optional[int]): Random seed for reproducibility.\n",
    "            save_best_to_file (bool): Whether to save the best model to a file.\n",
    "            keep_last (bool): Whether to keep the last model.\n",
    "            predict_topK (Optional[int]): Number of top-K predictions to consider.\n",
    "            validation_sample_size (Optional[int]): Size of the validation sample.\n",
    "            grad_clip (float): Maximum gradient norm for clipping.\n",
    "        \"\"\"\n",
    "        self.embedding_dim = embedding_dim\n",
    "        self.n_layers = n_layers\n",
    "        self.dropout = dropout\n",
    "        self.node_dropout = node_dropout\n",
    "        self.message_dropout = message_dropout\n",
    "        self.grad_clip = grad_clip\n",
    "        super().__init__(\n",
    "            batch_size=batch_size,\n",
    "            max_epochs=max_epochs,\n",
    "            learning_rate=learning_rate,\n",
    "            stopping_criterion=stopping_criterion,\n",
    "            stop_early=stop_early,\n",
    "            max_iter_no_change=max_iter_no_change,\n",
    "            min_improvement=min_improvement,\n",
    "            seed=seed,\n",
    "            save_best_to_file=save_best_to_file,\n",
    "            keep_last=keep_last,\n",
    "            predict_topK=predict_topK,\n",
    "            validation_sample_size=validation_sample_size,\n",
    "        )\n",
    "        self.device = torch.device('cuda' if torch.cuda.is_available() else 'cpu')\n",
    "\n",
    "    def _init_model(self, train: InteractionMatrix) -> None:\n",
    "        \"\"\"\n",
    "        Initialize the NGCF model and optimizer.\n",
    "\n",
    "        Args:\n",
    "            train (InteractionMatrix): The training interaction matrix.\n",
    "        \"\"\"\n",
    "        num_users, num_items = train.shape\n",
    "        self.model_ = NGCF(num_users, num_items, self.embedding_dim, self.n_layers, self.dropout, self.node_dropout, self.message_dropout).to(self.device)\n",
    "        self.optimizer = optim.Adam(self.model_.parameters(), lr=self.learning_rate)\n",
    "\n",
    "    def _create_sparse_graph(self, interaction_matrix: csr_matrix, num_users: int, num_items: int) -> SparseTensor:\n",
    "        \"\"\"\n",
    "        Create a sparse graph from the interaction matrix.\n",
    "\n",
    "        Args:\n",
    "            interaction_matrix (csr_matrix): The interaction matrix in CSR format.\n",
    "            num_users (int): Number of users.\n",
    "            num_items (int): Number of items.\n",
    "\n",
    "        Returns:\n",
    "            SparseTensor: A sparse tensor representing the graph.\n",
    "        \"\"\"\n",
    "        coo = interaction_matrix.tocoo()\n",
    "        row = torch.tensor(coo.row, dtype=torch.long)\n",
    "        col = torch.tensor(coo.col, dtype=torch.long)\n",
    "        value = torch.tensor(coo.data, dtype=torch.float32)\n",
    "        shape = (num_users + num_items, num_users + num_items)\n",
    "        graph = SparseTensor(row=row, col=col, value=value, sparse_sizes=shape).to(self.device)\n",
    "        return graph\n",
    "\n",
    "    def _train_epoch(self, train: InteractionMatrix) -> List[float]:\n",
    "        \"\"\"\n",
    "        Train the model for one epoch.\n",
    "\n",
    "        Args:\n",
    "            train (InteractionMatrix): The training interaction matrix.\n",
    "\n",
    "        Returns:\n",
    "            List[float]: A list of losses for each batch.\n",
    "        \"\"\"\n",
    "        self.model_.train()\n",
    "        interaction_matrix = train  # Get the sparse matrix directly\n",
    "        graph = self._create_sparse_graph(interaction_matrix, train.shape[0], train.shape[1])\n",
    "        total_loss = 0\n",
    "        losses = []\n",
    "\n",
    "        sampler = PositiveNegativeSampler(num_negatives=1, batch_size=self.batch_size)\n",
    "\n",
    "        # Iterate over samples generated by the PositiveNegativeSampler\n",
    "        for user_indices, pos_item_indices, neg_item_indices in sampler.sample(interaction_matrix):\n",
    "            user_indices = torch.tensor(user_indices).to(self.device)\n",
    "            pos_item_indices = torch.tensor(pos_item_indices).to(self.device)\n",
    "            neg_item_indices = torch.tensor(neg_item_indices).to(self.device).squeeze()\n",
    "\n",
    "            self.optimizer.zero_grad()\n",
    "            user_emb_final, item_emb_final = self.model_(graph)  # Call model only once\n",
    "            pos_scores = user_emb_final[user_indices] @ item_emb_final[pos_item_indices].t()\n",
    "            neg_scores = user_emb_final[user_indices] @ item_emb_final[neg_item_indices].t()\n",
    "\n",
    "            loss = bpr_loss(pos_scores, neg_scores)\n",
    "\n",
    "            if torch.isnan(loss).any() or torch.isinf(loss).any():\n",
    "                continue\n",
    "\n",
    "            loss.backward()\n",
    "            torch.nn.utils.clip_grad_norm_(self.model_.parameters(), max_norm=self.grad_clip)  # Gradient clipping\n",
    "            self.optimizer.step()\n",
    "\n",
    "            total_loss += loss.item()\n",
    "            losses.append(loss.item())\n",
    "\n",
    "        if len(losses) == 0:\n",
    "            return [float('nan')]\n",
    "\n",
    "        return losses\n",
    "\n",
    "    def _batch_predict(self, X: InteractionMatrix, users: List[int]) -> csr_matrix:\n",
    "        \"\"\"\n",
    "        Make batch predictions for a list of users.\n",
    "\n",
    "        Args:\n",
    "            X (InteractionMatrix): The interaction matrix.\n",
    "            users (List[int]): List of user indices to make predictions for.\n",
    "\n",
    "        Returns:\n",
    "            csr_matrix: A sparse matrix with the prediction scores.\n",
    "        \"\"\"\n",
    "        self.model_.eval()\n",
    "        graph = self._create_sparse_graph(X, X.shape[0], X.shape[1])\n",
    "        user_indices = torch.tensor(users).to(self.device)\n",
    "        item_indices = torch.arange(X.shape[1]).to(self.device)\n",
    "        \n",
    "        with torch.no_grad():\n",
    "            user_emb_final, item_emb_final = self.model_(graph)\n",
    "            scores = user_emb_final[user_indices] @ item_emb_final.t()\n",
    "            scores = scores.cpu().numpy()\n",
    "        \n",
    "        result = lil_matrix((X.shape[0], X.shape[1]))\n",
    "        for i, user in enumerate(users):\n",
    "            result[user] = scores[i]\n",
    "        \n",
    "        return result.tocsr()"
   ]
  },
  {
   "cell_type": "code",
   "execution_count": 3,
   "id": "e87fd90c-f8ae-4fcc-a455-90fb8f2335c2",
   "metadata": {},
   "outputs": [],
   "source": [
    "from recpack.datasets import Netflix, DummyDataset\n",
    "from recpack.pipelines import PipelineBuilder\n",
    "from recpack.scenarios import StrongGeneralization\n",
    "from recpack.pipelines import ALGORITHM_REGISTRY\n",
    "import pandas as pd"
   ]
  },
  {
   "cell_type": "code",
   "execution_count": 4,
   "id": "03a047ff-a58e-4ffb-bb09-247622834b08",
   "metadata": {},
   "outputs": [],
   "source": [
    "ALGORITHM_REGISTRY.register(\"NGCFAlgorithm\", NGCFAlgorithm)"
   ]
  },
  {
   "cell_type": "markdown",
   "id": "01a6f82f-f466-488b-a4ff-6d7fea619e96",
   "metadata": {},
   "source": [
    "## RecPack Dataset Importing"
   ]
  },
  {
   "cell_type": "code",
   "execution_count": 5,
   "id": "288305e2-e570-4286-8468-c902e9d7ca25",
   "metadata": {},
   "outputs": [],
   "source": [
    "from recpack.datasets import Globo\n",
    "dataset = Globo(path=\"\", filename=\"archive.zip\")"
   ]
  },
  {
   "cell_type": "code",
   "execution_count": 6,
   "id": "9c73499f-1c14-4241-a0bd-e3412b4efd34",
   "metadata": {},
   "outputs": [],
   "source": [
    "dataset.fetch_dataset()"
   ]
  },
  {
   "cell_type": "code",
   "execution_count": 7,
   "id": "25bb2d15-0f4f-4142-8d5d-e06a6ea3c024",
   "metadata": {},
   "outputs": [
    {
     "data": {
      "text/plain": [
       "<recpack.datasets.globo.Globo at 0x7f16ff209250>"
      ]
     },
     "execution_count": 7,
     "metadata": {},
     "output_type": "execute_result"
    }
   ],
   "source": [
    "dataset"
   ]
  },
  {
   "cell_type": "code",
   "execution_count": null,
   "id": "a290f199-0a3d-4c2b-bc30-c82b5254ab34",
   "metadata": {},
   "outputs": [],
   "source": [
    "df = dataset._load_dataframe()"
   ]
  },
  {
   "cell_type": "markdown",
   "id": "91dc84ba-64c5-4519-b975-1d6ac6965c80",
   "metadata": {},
   "source": [
    "## Datasets with Timestamps sampling"
   ]
  },
  {
   "cell_type": "code",
   "execution_count": 10,
   "id": "66ac1379-2266-4bec-b6d3-9cf22c1aaedf",
   "metadata": {},
   "outputs": [],
   "source": [
    "timestamp_counts = df['click_timestamp'].value_counts().sort_index(ascending=False)\n",
    "cumulative_counts = timestamp_counts.cumsum()\n",
    "total_counts = cumulative_counts.max()\n",
    "threshold_count = total_counts * 0.1\n",
    "threshold_timestamp = cumulative_counts[cumulative_counts >= threshold_count].index[0]"
   ]
  },
  {
   "cell_type": "code",
   "execution_count": 11,
   "id": "a8b54ee9-8024-4d18-89c8-7858f45d7906",
   "metadata": {},
   "outputs": [],
   "source": [
    "filtered_df = df[df['click_timestamp'] >= threshold_timestamp]"
   ]
  },
  {
   "cell_type": "code",
   "execution_count": 12,
   "id": "877cfa8a-c9d3-4436-8a74-5009b026f266",
   "metadata": {},
   "outputs": [
    {
     "data": {
      "text/html": [
       "<div>\n",
       "<style scoped>\n",
       "    .dataframe tbody tr th:only-of-type {\n",
       "        vertical-align: middle;\n",
       "    }\n",
       "\n",
       "    .dataframe tbody tr th {\n",
       "        vertical-align: top;\n",
       "    }\n",
       "\n",
       "    .dataframe thead th {\n",
       "        text-align: right;\n",
       "    }\n",
       "</style>\n",
       "<table border=\"1\" class=\"dataframe\">\n",
       "  <thead>\n",
       "    <tr style=\"text-align: right;\">\n",
       "      <th></th>\n",
       "      <th>user_id</th>\n",
       "      <th>click_article_id</th>\n",
       "      <th>click_timestamp</th>\n",
       "    </tr>\n",
       "  </thead>\n",
       "  <tbody>\n",
       "    <tr>\n",
       "      <th>0</th>\n",
       "      <td>0</td>\n",
       "      <td>157541</td>\n",
       "      <td>1.506827e+09</td>\n",
       "    </tr>\n",
       "    <tr>\n",
       "      <th>1</th>\n",
       "      <td>0</td>\n",
       "      <td>68866</td>\n",
       "      <td>1.506827e+09</td>\n",
       "    </tr>\n",
       "    <tr>\n",
       "      <th>2</th>\n",
       "      <td>1</td>\n",
       "      <td>235840</td>\n",
       "      <td>1.506827e+09</td>\n",
       "    </tr>\n",
       "    <tr>\n",
       "      <th>3</th>\n",
       "      <td>1</td>\n",
       "      <td>96663</td>\n",
       "      <td>1.506827e+09</td>\n",
       "    </tr>\n",
       "    <tr>\n",
       "      <th>4</th>\n",
       "      <td>2</td>\n",
       "      <td>119592</td>\n",
       "      <td>1.506827e+09</td>\n",
       "    </tr>\n",
       "    <tr>\n",
       "      <th>...</th>\n",
       "      <td>...</td>\n",
       "      <td>...</td>\n",
       "      <td>...</td>\n",
       "    </tr>\n",
       "    <tr>\n",
       "      <th>2564</th>\n",
       "      <td>10051</td>\n",
       "      <td>84911</td>\n",
       "      <td>1.508212e+09</td>\n",
       "    </tr>\n",
       "    <tr>\n",
       "      <th>2565</th>\n",
       "      <td>322896</td>\n",
       "      <td>30760</td>\n",
       "      <td>1.508212e+09</td>\n",
       "    </tr>\n",
       "    <tr>\n",
       "      <th>2566</th>\n",
       "      <td>322896</td>\n",
       "      <td>157507</td>\n",
       "      <td>1.508212e+09</td>\n",
       "    </tr>\n",
       "    <tr>\n",
       "      <th>2567</th>\n",
       "      <td>123718</td>\n",
       "      <td>234481</td>\n",
       "      <td>1.508212e+09</td>\n",
       "    </tr>\n",
       "    <tr>\n",
       "      <th>2568</th>\n",
       "      <td>123718</td>\n",
       "      <td>233578</td>\n",
       "      <td>1.508212e+09</td>\n",
       "    </tr>\n",
       "  </tbody>\n",
       "</table>\n",
       "<p>2988181 rows × 3 columns</p>\n",
       "</div>"
      ],
      "text/plain": [
       "      user_id  click_article_id  click_timestamp\n",
       "0           0            157541     1.506827e+09\n",
       "1           0             68866     1.506827e+09\n",
       "2           1            235840     1.506827e+09\n",
       "3           1             96663     1.506827e+09\n",
       "4           2            119592     1.506827e+09\n",
       "...       ...               ...              ...\n",
       "2564    10051             84911     1.508212e+09\n",
       "2565   322896             30760     1.508212e+09\n",
       "2566   322896            157507     1.508212e+09\n",
       "2567   123718            234481     1.508212e+09\n",
       "2568   123718            233578     1.508212e+09\n",
       "\n",
       "[2988181 rows x 3 columns]"
      ]
     },
     "execution_count": 12,
     "metadata": {},
     "output_type": "execute_result"
    }
   ],
   "source": [
    "df"
   ]
  },
  {
   "cell_type": "code",
   "execution_count": 13,
   "id": "75315c82-bb45-4090-8d92-87e16d42f204",
   "metadata": {},
   "outputs": [
    {
     "data": {
      "text/html": [
       "<div>\n",
       "<style scoped>\n",
       "    .dataframe tbody tr th:only-of-type {\n",
       "        vertical-align: middle;\n",
       "    }\n",
       "\n",
       "    .dataframe tbody tr th {\n",
       "        vertical-align: top;\n",
       "    }\n",
       "\n",
       "    .dataframe thead th {\n",
       "        text-align: right;\n",
       "    }\n",
       "</style>\n",
       "<table border=\"1\" class=\"dataframe\">\n",
       "  <thead>\n",
       "    <tr style=\"text-align: right;\">\n",
       "      <th></th>\n",
       "      <th>user_id</th>\n",
       "      <th>click_article_id</th>\n",
       "      <th>click_timestamp</th>\n",
       "    </tr>\n",
       "  </thead>\n",
       "  <tbody>\n",
       "    <tr>\n",
       "      <th>4289</th>\n",
       "      <td>22712</td>\n",
       "      <td>158772</td>\n",
       "      <td>1.508196e+09</td>\n",
       "    </tr>\n",
       "    <tr>\n",
       "      <th>4290</th>\n",
       "      <td>22712</td>\n",
       "      <td>284638</td>\n",
       "      <td>1.508633e+09</td>\n",
       "    </tr>\n",
       "    <tr>\n",
       "      <th>4291</th>\n",
       "      <td>22712</td>\n",
       "      <td>95633</td>\n",
       "      <td>1.508678e+09</td>\n",
       "    </tr>\n",
       "    <tr>\n",
       "      <th>4292</th>\n",
       "      <td>22712</td>\n",
       "      <td>95524</td>\n",
       "      <td>1.508679e+09</td>\n",
       "    </tr>\n",
       "    <tr>\n",
       "      <th>4293</th>\n",
       "      <td>22712</td>\n",
       "      <td>184427</td>\n",
       "      <td>1.508679e+09</td>\n",
       "    </tr>\n",
       "    <tr>\n",
       "      <th>...</th>\n",
       "      <td>...</td>\n",
       "      <td>...</td>\n",
       "      <td>...</td>\n",
       "    </tr>\n",
       "    <tr>\n",
       "      <th>2564</th>\n",
       "      <td>10051</td>\n",
       "      <td>84911</td>\n",
       "      <td>1.508212e+09</td>\n",
       "    </tr>\n",
       "    <tr>\n",
       "      <th>2565</th>\n",
       "      <td>322896</td>\n",
       "      <td>30760</td>\n",
       "      <td>1.508212e+09</td>\n",
       "    </tr>\n",
       "    <tr>\n",
       "      <th>2566</th>\n",
       "      <td>322896</td>\n",
       "      <td>157507</td>\n",
       "      <td>1.508212e+09</td>\n",
       "    </tr>\n",
       "    <tr>\n",
       "      <th>2567</th>\n",
       "      <td>123718</td>\n",
       "      <td>234481</td>\n",
       "      <td>1.508212e+09</td>\n",
       "    </tr>\n",
       "    <tr>\n",
       "      <th>2568</th>\n",
       "      <td>123718</td>\n",
       "      <td>233578</td>\n",
       "      <td>1.508212e+09</td>\n",
       "    </tr>\n",
       "  </tbody>\n",
       "</table>\n",
       "<p>298819 rows × 3 columns</p>\n",
       "</div>"
      ],
      "text/plain": [
       "      user_id  click_article_id  click_timestamp\n",
       "4289    22712            158772     1.508196e+09\n",
       "4290    22712            284638     1.508633e+09\n",
       "4291    22712             95633     1.508678e+09\n",
       "4292    22712             95524     1.508679e+09\n",
       "4293    22712            184427     1.508679e+09\n",
       "...       ...               ...              ...\n",
       "2564    10051             84911     1.508212e+09\n",
       "2565   322896             30760     1.508212e+09\n",
       "2566   322896            157507     1.508212e+09\n",
       "2567   123718            234481     1.508212e+09\n",
       "2568   123718            233578     1.508212e+09\n",
       "\n",
       "[298819 rows x 3 columns]"
      ]
     },
     "execution_count": 13,
     "metadata": {},
     "output_type": "execute_result"
    }
   ],
   "source": [
    "filtered_df"
   ]
  },
  {
   "cell_type": "markdown",
   "id": "0ba7732b-36e3-4c74-bfd3-88f3d5029b7d",
   "metadata": {},
   "source": [
    "## Dataset Preprocessing to Interaction Matrix"
   ]
  },
  {
   "cell_type": "code",
   "execution_count": 14,
   "id": "3214a5e2-868e-4019-8437-75e6eb3808c4",
   "metadata": {},
   "outputs": [
    {
     "data": {
      "application/vnd.jupyter.widget-view+json": {
       "model_id": "404de66e3d3244c1a7b898384d63de8c",
       "version_major": 2,
       "version_minor": 0
      },
      "text/plain": [
       "  0%|          | 0/298819 [00:00<?, ?it/s]"
      ]
     },
     "metadata": {},
     "output_type": "display_data"
    },
    {
     "data": {
      "application/vnd.jupyter.widget-view+json": {
       "model_id": "6397fdd80d5f4241b430847d3fcb4add",
       "version_major": 2,
       "version_minor": 0
      },
      "text/plain": [
       "  0%|          | 0/298819 [00:00<?, ?it/s]"
      ]
     },
     "metadata": {},
     "output_type": "display_data"
    }
   ],
   "source": [
    "from recpack.matrix import InteractionMatrix\n",
    "from recpack.preprocessing.preprocessors import DataFramePreprocessor\n",
    "\n",
    "item_ix = 'click_article_id'\n",
    "user_ix = 'user_id'\n",
    "timestamp_ix = 'click_timestamp'\n",
    "\n",
    "preprocessor = DataFramePreprocessor(item_ix=item_ix, user_ix=user_ix, timestamp_ix=timestamp_ix)\n",
    "\n",
    "interaction_matrix = preprocessor.process(filtered_df)"
   ]
  },
  {
   "cell_type": "markdown",
   "id": "8414fc8c-d20c-4523-930e-ab4f013c183e",
   "metadata": {},
   "source": [
    "## StrongGeneralization Scenario Splitting of Data"
   ]
  },
  {
   "cell_type": "code",
   "execution_count": 25,
   "id": "2b48dd0e-ec34-427c-a32e-2f1436d01625",
   "metadata": {},
   "outputs": [
    {
     "name": "stdout",
     "output_type": "stream",
     "text": [
      "1508211543.583\n"
     ]
    }
   ],
   "source": [
    "t_10 = interaction_matrix.timestamps.values[int(0.999999 * len(interaction_matrix.timestamps.values))]\n",
    "print(t_10)"
   ]
  },
  {
   "cell_type": "code",
   "execution_count": 26,
   "id": "73d22b62-213c-4ac4-9346-70414e7c39db",
   "metadata": {},
   "outputs": [
    {
     "data": {
      "text/plain": [
       "(array([11938.,  7274., 16795., 28974., 36216.,  8309., 45476., 66211.,\n",
       "        47655., 28017.]),\n",
       " array([1.50802851e+09, 1.50804682e+09, 1.50806512e+09, 1.50808342e+09,\n",
       "        1.50810173e+09, 1.50812003e+09, 1.50813833e+09, 1.50815663e+09,\n",
       "        1.50817494e+09, 1.50819324e+09, 1.50821154e+09]),\n",
       " <BarContainer object of 10 artists>)"
      ]
     },
     "execution_count": 26,
     "metadata": {},
     "output_type": "execute_result"
    },
    {
     "data": {
      "image/png": "[encoded data removed]",
      "text/plain": [
       "<Figure size 640x480 with 1 Axes>"
      ]
     },
     "metadata": {},
     "output_type": "display_data"
    }
   ],
   "source": [
    "import matplotlib.pyplot as plt\n",
    "plt.hist(interaction_matrix.timestamps_lte(t_10).timestamps.values)"
   ]
  },
  {
   "cell_type": "code",
   "execution_count": 27,
   "id": "aa72bb09-e745-4c5f-b4b3-88785f8a96b1",
   "metadata": {},
   "outputs": [
    {
     "data": {
      "application/vnd.jupyter.widget-view+json": {
       "model_id": "2d629270c0a04ee4849b8a3b7608b940",
       "version_major": 2,
       "version_minor": 0
      },
      "text/plain": [
       "0it [00:00, ?it/s]"
      ]
     },
     "metadata": {},
     "output_type": "display_data"
    },
    {
     "data": {
      "application/vnd.jupyter.widget-view+json": {
       "model_id": "c9178fb28c184a6a8b379e06f7bcb279",
       "version_major": 2,
       "version_minor": 0
      },
      "text/plain": [
       "0it [00:00, ?it/s]"
      ]
     },
     "metadata": {},
     "output_type": "display_data"
    }
   ],
   "source": [
    "scenario = StrongGeneralization(frac_users_train=0.8, frac_interactions_in=0.8, validation=True)\n",
    "scenario.split(interaction_matrix)"
   ]
  },
  {
   "cell_type": "markdown",
   "id": "166354b9-e8c4-46bb-b2e3-41d0824604dd",
   "metadata": {},
   "source": [
    "## Experimental RecPack Pipeline"
   ]
  },
  {
   "cell_type": "code",
   "execution_count": 28,
   "id": "51e133b8-daff-4e2a-a3b6-9747347f3425",
   "metadata": {},
   "outputs": [
    {
     "name": "stderr",
     "output_type": "stream",
     "text": [
      "/opt/conda/lib/python3.11/site-packages/recpack/pipelines/pipeline_builder.py:145: UserWarning: Grid parameter for add_algorithm function will be deprecated in favour of optimisation_info.\n",
      "  warnings.warn(\n"
     ]
    },
    {
     "data": {
      "application/vnd.jupyter.widget-view+json": {
       "model_id": "18a13689f0db40a089492cdd30cd1eb5",
       "version_major": 2,
       "version_minor": 0
      },
      "text/plain": [
       "  0%|          | 0/1 [00:00<?, ?it/s]"
      ]
     },
     "metadata": {},
     "output_type": "display_data"
    },
    {
     "name": "stderr",
     "output_type": "stream",
     "text": [
      "/tmp/ipykernel_38367/1947374894.py:89: UserWarning: To copy construct from a tensor, it is recommended to use sourceTensor.clone().detach() or sourceTensor.clone().detach().requires_grad_(True), rather than torch.tensor(sourceTensor).\n",
      "  user_indices = torch.tensor(user_indices).to(self.device)\n",
      "/tmp/ipykernel_38367/1947374894.py:90: UserWarning: To copy construct from a tensor, it is recommended to use sourceTensor.clone().detach() or sourceTensor.clone().detach().requires_grad_(True), rather than torch.tensor(sourceTensor).\n",
      "  pos_item_indices = torch.tensor(pos_item_indices).to(self.device)\n",
      "/tmp/ipykernel_38367/1947374894.py:91: UserWarning: To copy construct from a tensor, it is recommended to use sourceTensor.clone().detach() or sourceTensor.clone().detach().requires_grad_(True), rather than torch.tensor(sourceTensor).\n",
      "  neg_item_indices = torch.tensor(neg_item_indices).to(self.device).squeeze()\n"
     ]
    },
    {
     "name": "stdout",
     "output_type": "stream",
     "text": [
      "2024-08-04 17:03:25,030 - base - recpack - INFO - Processed epoch 0 in 2.33 s.Batch Training Loss = 0.6932\n",
      "2024-08-04 17:03:44,725 - stopping_criterion - recpack - INFO - StoppingCriterion has value 0.4589338695396671, which is better than previous iterations.\n",
      "2024-08-04 17:03:44,756 - base - recpack - INFO - Evaluation at end of 0 took 19.73 s.\n",
      "2024-08-04 17:03:45,632 - base - recpack - INFO - Processed epoch 1 in 0.87 s.Batch Training Loss = nan\n",
      "2024-08-04 17:04:05,654 - stopping_criterion - recpack - INFO - StoppingCriterion has value 0.46545602603747516, which is worse than previous iterations.\n",
      "2024-08-04 17:04:05,657 - base - recpack - INFO - Evaluation at end of 1 took 20.02 s.\n",
      "2024-08-04 17:04:06,484 - base - recpack - INFO - Processed epoch 2 in 0.83 s.Batch Training Loss = nan\n",
      "2024-08-04 17:04:25,956 - stopping_criterion - recpack - INFO - StoppingCriterion has value 0.4534338459227213, which is worse than previous iterations.\n",
      "2024-08-04 17:04:25,959 - base - recpack - INFO - Evaluation at end of 2 took 19.47 s.\n",
      "2024-08-04 17:04:26,794 - base - recpack - INFO - Processed epoch 3 in 0.83 s.Batch Training Loss = nan\n",
      "2024-08-04 17:04:45,650 - stopping_criterion - recpack - INFO - StoppingCriterion has value 0.4469743397294014, which is better than previous iterations.\n",
      "2024-08-04 17:04:45,653 - base - recpack - INFO - Evaluation at end of 3 took 18.86 s.\n",
      "2024-08-04 17:04:46,475 - base - recpack - INFO - Processed epoch 4 in 0.82 s.Batch Training Loss = nan\n",
      "2024-08-04 17:05:05,767 - stopping_criterion - recpack - INFO - StoppingCriterion has value 0.47468692958559483, which is worse than previous iterations.\n",
      "2024-08-04 17:05:05,770 - base - recpack - INFO - Evaluation at end of 4 took 19.29 s.\n",
      "2024-08-04 17:05:05,853 - base - recpack - INFO - Fitting NGCFAlgorithm complete - Took 1.06e+02s\n"
     ]
    },
    {
     "name": "stderr",
     "output_type": "stream",
     "text": [
      "/tmp/ipykernel_38367/1947374894.py:89: UserWarning: To copy construct from a tensor, it is recommended to use sourceTensor.clone().detach() or sourceTensor.clone().detach().requires_grad_(True), rather than torch.tensor(sourceTensor).\n",
      "  user_indices = torch.tensor(user_indices).to(self.device)\n",
      "/tmp/ipykernel_38367/1947374894.py:90: UserWarning: To copy construct from a tensor, it is recommended to use sourceTensor.clone().detach() or sourceTensor.clone().detach().requires_grad_(True), rather than torch.tensor(sourceTensor).\n",
      "  pos_item_indices = torch.tensor(pos_item_indices).to(self.device)\n",
      "/tmp/ipykernel_38367/1947374894.py:91: UserWarning: To copy construct from a tensor, it is recommended to use sourceTensor.clone().detach() or sourceTensor.clone().detach().requires_grad_(True), rather than torch.tensor(sourceTensor).\n",
      "  neg_item_indices = torch.tensor(neg_item_indices).to(self.device).squeeze()\n"
     ]
    },
    {
     "name": "stdout",
     "output_type": "stream",
     "text": [
      "2024-08-04 17:05:31,774 - base - recpack - INFO - Processed epoch 0 in 1.03 s.Batch Training Loss = 0.4986\n",
      "2024-08-04 17:05:50,643 - stopping_criterion - recpack - INFO - StoppingCriterion has value 0.49756659974451317, which is better than previous iterations.\n",
      "2024-08-04 17:05:50,645 - base - recpack - INFO - Evaluation at end of 0 took 18.87 s.\n",
      "2024-08-04 17:05:51,477 - base - recpack - INFO - Processed epoch 1 in 0.83 s.Batch Training Loss = nan\n",
      "2024-08-04 17:06:10,476 - stopping_criterion - recpack - INFO - StoppingCriterion has value 0.5024914833521053, which is worse than previous iterations.\n",
      "2024-08-04 17:06:10,479 - base - recpack - INFO - Evaluation at end of 1 took 19.00 s.\n",
      "2024-08-04 17:06:11,313 - base - recpack - INFO - Processed epoch 2 in 0.83 s.Batch Training Loss = 0.3238\n",
      "2024-08-04 17:06:30,753 - stopping_criterion - recpack - INFO - StoppingCriterion has value 0.470379089978748, which is better than previous iterations.\n",
      "2024-08-04 17:06:30,757 - base - recpack - INFO - Evaluation at end of 2 took 19.44 s.\n",
      "2024-08-04 17:06:31,600 - base - recpack - INFO - Processed epoch 3 in 0.84 s.Batch Training Loss = 0.2907\n",
      "2024-08-04 17:06:50,959 - stopping_criterion - recpack - INFO - StoppingCriterion has value 0.4543432733202571, which is better than previous iterations.\n",
      "2024-08-04 17:06:50,991 - base - recpack - INFO - Evaluation at end of 3 took 19.39 s.\n",
      "2024-08-04 17:06:51,816 - base - recpack - INFO - Processed epoch 4 in 0.82 s.Batch Training Loss = nan\n",
      "2024-08-04 17:07:11,176 - stopping_criterion - recpack - INFO - StoppingCriterion has value 0.44372631653392275, which is better than previous iterations.\n",
      "2024-08-04 17:07:11,179 - base - recpack - INFO - Evaluation at end of 4 took 19.36 s.\n",
      "2024-08-04 17:07:11,255 - base - recpack - INFO - Fitting NGCFAlgorithm complete - Took 1.01e+02s\n"
     ]
    },
    {
     "name": "stderr",
     "output_type": "stream",
     "text": [
      "/tmp/ipykernel_38367/1947374894.py:89: UserWarning: To copy construct from a tensor, it is recommended to use sourceTensor.clone().detach() or sourceTensor.clone().detach().requires_grad_(True), rather than torch.tensor(sourceTensor).\n",
      "  user_indices = torch.tensor(user_indices).to(self.device)\n",
      "/tmp/ipykernel_38367/1947374894.py:90: UserWarning: To copy construct from a tensor, it is recommended to use sourceTensor.clone().detach() or sourceTensor.clone().detach().requires_grad_(True), rather than torch.tensor(sourceTensor).\n",
      "  pos_item_indices = torch.tensor(pos_item_indices).to(self.device)\n",
      "/tmp/ipykernel_38367/1947374894.py:91: UserWarning: To copy construct from a tensor, it is recommended to use sourceTensor.clone().detach() or sourceTensor.clone().detach().requires_grad_(True), rather than torch.tensor(sourceTensor).\n",
      "  neg_item_indices = torch.tensor(neg_item_indices).to(self.device).squeeze()\n"
     ]
    },
    {
     "name": "stdout",
     "output_type": "stream",
     "text": [
      "2024-08-04 17:07:37,118 - base - recpack - INFO - Processed epoch 0 in 1.22 s.Batch Training Loss = 0.4453\n",
      "2024-08-04 17:07:56,593 - stopping_criterion - recpack - INFO - StoppingCriterion has value 0.5012140988377841, which is better than previous iterations.\n",
      "2024-08-04 17:07:56,596 - base - recpack - INFO - Evaluation at end of 0 took 19.48 s.\n",
      "2024-08-04 17:07:57,432 - base - recpack - INFO - Processed epoch 1 in 0.84 s.Batch Training Loss = 0.1739\n",
      "2024-08-04 17:08:17,133 - stopping_criterion - recpack - INFO - StoppingCriterion has value 0.49616040435728814, which is worse than previous iterations.\n",
      "2024-08-04 17:08:17,136 - base - recpack - INFO - Evaluation at end of 1 took 19.70 s.\n",
      "2024-08-04 17:08:18,007 - base - recpack - INFO - Processed epoch 2 in 0.87 s.Batch Training Loss = 0.1791\n",
      "2024-08-04 17:08:37,878 - stopping_criterion - recpack - INFO - StoppingCriterion has value 0.4949191842048799, which is worse than previous iterations.\n",
      "2024-08-04 17:08:37,881 - base - recpack - INFO - Evaluation at end of 2 took 19.87 s.\n",
      "2024-08-04 17:08:38,710 - base - recpack - INFO - Processed epoch 3 in 0.83 s.Batch Training Loss = nan\n",
      "2024-08-04 17:08:57,482 - stopping_criterion - recpack - INFO - StoppingCriterion has value 0.4870303012982769, which is better than previous iterations.\n",
      "2024-08-04 17:08:57,485 - base - recpack - INFO - Evaluation at end of 3 took 18.77 s.\n",
      "2024-08-04 17:08:58,336 - base - recpack - INFO - Processed epoch 4 in 0.85 s.Batch Training Loss = 0.1719\n",
      "2024-08-04 17:09:17,842 - stopping_criterion - recpack - INFO - StoppingCriterion has value 0.4859007479544218, which is worse than previous iterations.\n",
      "2024-08-04 17:09:17,845 - base - recpack - INFO - Evaluation at end of 4 took 19.51 s.\n",
      "2024-08-04 17:09:17,939 - base - recpack - INFO - Fitting NGCFAlgorithm complete - Took 1.02e+02s\n"
     ]
    },
    {
     "name": "stderr",
     "output_type": "stream",
     "text": [
      "/tmp/ipykernel_38367/1947374894.py:89: UserWarning: To copy construct from a tensor, it is recommended to use sourceTensor.clone().detach() or sourceTensor.clone().detach().requires_grad_(True), rather than torch.tensor(sourceTensor).\n",
      "  user_indices = torch.tensor(user_indices).to(self.device)\n",
      "/tmp/ipykernel_38367/1947374894.py:90: UserWarning: To copy construct from a tensor, it is recommended to use sourceTensor.clone().detach() or sourceTensor.clone().detach().requires_grad_(True), rather than torch.tensor(sourceTensor).\n",
      "  pos_item_indices = torch.tensor(pos_item_indices).to(self.device)\n",
      "/tmp/ipykernel_38367/1947374894.py:91: UserWarning: To copy construct from a tensor, it is recommended to use sourceTensor.clone().detach() or sourceTensor.clone().detach().requires_grad_(True), rather than torch.tensor(sourceTensor).\n",
      "  neg_item_indices = torch.tensor(neg_item_indices).to(self.device).squeeze()\n"
     ]
    },
    {
     "name": "stdout",
     "output_type": "stream",
     "text": [
      "2024-08-04 17:09:43,345 - base - recpack - INFO - Processed epoch 0 in 0.92 s.Batch Training Loss = 0.6928\n",
      "2024-08-04 17:10:02,891 - stopping_criterion - recpack - INFO - StoppingCriterion has value 0.4788097819949252, which is better than previous iterations.\n",
      "2024-08-04 17:10:02,893 - base - recpack - INFO - Evaluation at end of 0 took 19.55 s.\n",
      "2024-08-04 17:10:03,758 - base - recpack - INFO - Processed epoch 1 in 0.86 s.Batch Training Loss = nan\n",
      "2024-08-04 17:10:23,262 - stopping_criterion - recpack - INFO - StoppingCriterion has value 0.4716861228405072, which is worse than previous iterations.\n",
      "2024-08-04 17:10:23,264 - base - recpack - INFO - Evaluation at end of 1 took 19.51 s.\n",
      "2024-08-04 17:10:24,146 - base - recpack - INFO - Processed epoch 2 in 0.88 s.Batch Training Loss = nan\n",
      "2024-08-04 17:10:43,736 - stopping_criterion - recpack - INFO - StoppingCriterion has value 0.47368841086123875, which is worse than previous iterations.\n",
      "2024-08-04 17:10:43,739 - base - recpack - INFO - Evaluation at end of 2 took 19.59 s.\n",
      "2024-08-04 17:10:44,595 - base - recpack - INFO - Processed epoch 3 in 0.86 s.Batch Training Loss = nan\n",
      "2024-08-04 17:11:04,440 - stopping_criterion - recpack - INFO - StoppingCriterion has value 0.47092860419409316, which is worse than previous iterations.\n",
      "2024-08-04 17:11:04,443 - base - recpack - INFO - Evaluation at end of 3 took 19.85 s.\n",
      "2024-08-04 17:11:05,366 - base - recpack - INFO - Processed epoch 4 in 0.92 s.Batch Training Loss = nan\n",
      "2024-08-04 17:11:24,096 - stopping_criterion - recpack - INFO - StoppingCriterion has value 0.45805274352900316, which is better than previous iterations.\n",
      "2024-08-04 17:11:24,100 - base - recpack - INFO - Evaluation at end of 4 took 18.73 s.\n",
      "2024-08-04 17:11:24,186 - base - recpack - INFO - Fitting NGCFAlgorithm complete - Took 1.02e+02s\n"
     ]
    },
    {
     "name": "stderr",
     "output_type": "stream",
     "text": [
      "/tmp/ipykernel_38367/1947374894.py:89: UserWarning: To copy construct from a tensor, it is recommended to use sourceTensor.clone().detach() or sourceTensor.clone().detach().requires_grad_(True), rather than torch.tensor(sourceTensor).\n",
      "  user_indices = torch.tensor(user_indices).to(self.device)\n",
      "/tmp/ipykernel_38367/1947374894.py:90: UserWarning: To copy construct from a tensor, it is recommended to use sourceTensor.clone().detach() or sourceTensor.clone().detach().requires_grad_(True), rather than torch.tensor(sourceTensor).\n",
      "  pos_item_indices = torch.tensor(pos_item_indices).to(self.device)\n",
      "/tmp/ipykernel_38367/1947374894.py:91: UserWarning: To copy construct from a tensor, it is recommended to use sourceTensor.clone().detach() or sourceTensor.clone().detach().requires_grad_(True), rather than torch.tensor(sourceTensor).\n",
      "  neg_item_indices = torch.tensor(neg_item_indices).to(self.device).squeeze()\n"
     ]
    },
    {
     "name": "stdout",
     "output_type": "stream",
     "text": [
      "2024-08-04 17:11:49,952 - base - recpack - INFO - Processed epoch 0 in 0.95 s.Batch Training Loss = 0.5045\n",
      "2024-08-04 17:12:08,962 - stopping_criterion - recpack - INFO - StoppingCriterion has value 0.49641726708712003, which is better than previous iterations.\n",
      "2024-08-04 17:12:08,992 - base - recpack - INFO - Evaluation at end of 0 took 19.04 s.\n",
      "2024-08-04 17:12:09,870 - base - recpack - INFO - Processed epoch 1 in 0.88 s.Batch Training Loss = nan\n",
      "2024-08-04 17:12:29,479 - stopping_criterion - recpack - INFO - StoppingCriterion has value 0.5049821462969146, which is worse than previous iterations.\n",
      "2024-08-04 17:12:29,481 - base - recpack - INFO - Evaluation at end of 1 took 19.61 s.\n",
      "2024-08-04 17:12:30,345 - base - recpack - INFO - Processed epoch 2 in 0.86 s.Batch Training Loss = nan\n",
      "2024-08-04 17:12:50,061 - stopping_criterion - recpack - INFO - StoppingCriterion has value 0.507141175890269, which is worse than previous iterations.\n",
      "2024-08-04 17:12:50,064 - base - recpack - INFO - Evaluation at end of 2 took 19.72 s.\n",
      "2024-08-04 17:12:50,941 - base - recpack - INFO - Processed epoch 3 in 0.88 s.Batch Training Loss = nan\n",
      "2024-08-04 17:13:10,793 - stopping_criterion - recpack - INFO - StoppingCriterion has value 0.5009744583249186, which is worse than previous iterations.\n",
      "2024-08-04 17:13:10,796 - base - recpack - INFO - Evaluation at end of 3 took 19.85 s.\n",
      "2024-08-04 17:13:11,658 - base - recpack - INFO - Processed epoch 4 in 0.86 s.Batch Training Loss = nan\n",
      "2024-08-04 17:13:30,950 - stopping_criterion - recpack - INFO - StoppingCriterion has value 0.4962350464807628, which is worse than previous iterations.\n",
      "2024-08-04 17:13:30,955 - base - recpack - INFO - Evaluation at end of 4 took 19.30 s.\n",
      "2024-08-04 17:13:31,046 - base - recpack - INFO - Fitting NGCFAlgorithm complete - Took 1.02e+02s\n"
     ]
    },
    {
     "name": "stderr",
     "output_type": "stream",
     "text": [
      "/tmp/ipykernel_38367/1947374894.py:89: UserWarning: To copy construct from a tensor, it is recommended to use sourceTensor.clone().detach() or sourceTensor.clone().detach().requires_grad_(True), rather than torch.tensor(sourceTensor).\n",
      "  user_indices = torch.tensor(user_indices).to(self.device)\n",
      "/tmp/ipykernel_38367/1947374894.py:90: UserWarning: To copy construct from a tensor, it is recommended to use sourceTensor.clone().detach() or sourceTensor.clone().detach().requires_grad_(True), rather than torch.tensor(sourceTensor).\n",
      "  pos_item_indices = torch.tensor(pos_item_indices).to(self.device)\n",
      "/tmp/ipykernel_38367/1947374894.py:91: UserWarning: To copy construct from a tensor, it is recommended to use sourceTensor.clone().detach() or sourceTensor.clone().detach().requires_grad_(True), rather than torch.tensor(sourceTensor).\n",
      "  neg_item_indices = torch.tensor(neg_item_indices).to(self.device).squeeze()\n"
     ]
    },
    {
     "name": "stdout",
     "output_type": "stream",
     "text": [
      "2024-08-04 17:13:55,943 - base - recpack - INFO - Processed epoch 0 in 1.29 s.Batch Training Loss = 0.4724\n",
      "2024-08-04 17:14:15,206 - stopping_criterion - recpack - INFO - StoppingCriterion has value 0.5316866031110876, which is better than previous iterations.\n",
      "2024-08-04 17:14:15,241 - base - recpack - INFO - Evaluation at end of 0 took 19.30 s.\n",
      "2024-08-04 17:14:16,196 - base - recpack - INFO - Processed epoch 1 in 0.95 s.Batch Training Loss = 0.2102\n",
      "2024-08-04 17:14:35,393 - stopping_criterion - recpack - INFO - StoppingCriterion has value 0.5108126135437653, which is better than previous iterations.\n",
      "2024-08-04 17:14:35,397 - base - recpack - INFO - Evaluation at end of 1 took 19.20 s.\n",
      "2024-08-04 17:14:36,265 - base - recpack - INFO - Processed epoch 2 in 0.87 s.Batch Training Loss = 0.2344\n",
      "2024-08-04 17:14:55,203 - stopping_criterion - recpack - INFO - StoppingCriterion has value 0.5179706859108653, which is worse than previous iterations.\n",
      "2024-08-04 17:14:55,206 - base - recpack - INFO - Evaluation at end of 2 took 18.94 s.\n",
      "2024-08-04 17:14:56,093 - base - recpack - INFO - Processed epoch 3 in 0.89 s.Batch Training Loss = 0.2139\n",
      "2024-08-04 17:15:16,193 - stopping_criterion - recpack - INFO - StoppingCriterion has value 0.5064078849866758, which is worse than previous iterations.\n",
      "2024-08-04 17:15:16,224 - base - recpack - INFO - Evaluation at end of 3 took 20.13 s.\n",
      "2024-08-04 17:15:17,120 - base - recpack - INFO - Processed epoch 4 in 0.90 s.Batch Training Loss = 0.2074\n",
      "2024-08-04 17:15:36,075 - stopping_criterion - recpack - INFO - StoppingCriterion has value 0.5070786391035362, which is worse than previous iterations.\n",
      "2024-08-04 17:15:36,109 - base - recpack - INFO - Evaluation at end of 4 took 18.99 s.\n",
      "2024-08-04 17:15:36,192 - base - recpack - INFO - Fitting NGCFAlgorithm complete - Took 1.02e+02s\n"
     ]
    },
    {
     "name": "stderr",
     "output_type": "stream",
     "text": [
      "/tmp/ipykernel_38367/1947374894.py:89: UserWarning: To copy construct from a tensor, it is recommended to use sourceTensor.clone().detach() or sourceTensor.clone().detach().requires_grad_(True), rather than torch.tensor(sourceTensor).\n",
      "  user_indices = torch.tensor(user_indices).to(self.device)\n",
      "/tmp/ipykernel_38367/1947374894.py:90: UserWarning: To copy construct from a tensor, it is recommended to use sourceTensor.clone().detach() or sourceTensor.clone().detach().requires_grad_(True), rather than torch.tensor(sourceTensor).\n",
      "  pos_item_indices = torch.tensor(pos_item_indices).to(self.device)\n",
      "/tmp/ipykernel_38367/1947374894.py:91: UserWarning: To copy construct from a tensor, it is recommended to use sourceTensor.clone().detach() or sourceTensor.clone().detach().requires_grad_(True), rather than torch.tensor(sourceTensor).\n",
      "  neg_item_indices = torch.tensor(neg_item_indices).to(self.device).squeeze()\n"
     ]
    },
    {
     "name": "stdout",
     "output_type": "stream",
     "text": [
      "2024-08-04 17:16:01,045 - base - recpack - INFO - Processed epoch 0 in 0.88 s.Batch Training Loss = 0.6925\n",
      "2024-08-04 17:16:20,558 - stopping_criterion - recpack - INFO - StoppingCriterion has value 0.45572750768368786, which is better than previous iterations.\n",
      "2024-08-04 17:16:20,561 - base - recpack - INFO - Evaluation at end of 0 took 19.51 s.\n",
      "2024-08-04 17:16:21,422 - base - recpack - INFO - Processed epoch 1 in 0.86 s.Batch Training Loss = nan\n",
      "2024-08-04 17:16:40,800 - stopping_criterion - recpack - INFO - StoppingCriterion has value 0.4405818639789929, which is better than previous iterations.\n",
      "2024-08-04 17:16:40,803 - base - recpack - INFO - Evaluation at end of 1 took 19.38 s.\n",
      "2024-08-04 17:16:41,684 - base - recpack - INFO - Processed epoch 2 in 0.88 s.Batch Training Loss = nan\n",
      "2024-08-04 17:17:01,282 - stopping_criterion - recpack - INFO - StoppingCriterion has value 0.4634872854352771, which is worse than previous iterations.\n",
      "2024-08-04 17:17:01,286 - base - recpack - INFO - Evaluation at end of 2 took 19.60 s.\n",
      "2024-08-04 17:17:02,265 - base - recpack - INFO - Processed epoch 3 in 0.97 s.Batch Training Loss = nan\n",
      "2024-08-04 17:17:21,603 - stopping_criterion - recpack - INFO - StoppingCriterion has value 0.45377497066826716, which is worse than previous iterations.\n",
      "2024-08-04 17:17:21,606 - base - recpack - INFO - Evaluation at end of 3 took 19.34 s.\n",
      "2024-08-04 17:17:22,483 - base - recpack - INFO - Processed epoch 4 in 0.88 s.Batch Training Loss = nan\n",
      "2024-08-04 17:17:41,231 - stopping_criterion - recpack - INFO - StoppingCriterion has value 0.43221194875443936, which is worse than previous iterations.\n",
      "2024-08-04 17:17:41,234 - base - recpack - INFO - Evaluation at end of 4 took 18.75 s.\n",
      "2024-08-04 17:17:41,326 - base - recpack - INFO - Fitting NGCFAlgorithm complete - Took 1.01e+02s\n"
     ]
    },
    {
     "name": "stderr",
     "output_type": "stream",
     "text": [
      "/tmp/ipykernel_38367/1947374894.py:89: UserWarning: To copy construct from a tensor, it is recommended to use sourceTensor.clone().detach() or sourceTensor.clone().detach().requires_grad_(True), rather than torch.tensor(sourceTensor).\n",
      "  user_indices = torch.tensor(user_indices).to(self.device)\n",
      "/tmp/ipykernel_38367/1947374894.py:90: UserWarning: To copy construct from a tensor, it is recommended to use sourceTensor.clone().detach() or sourceTensor.clone().detach().requires_grad_(True), rather than torch.tensor(sourceTensor).\n",
      "  pos_item_indices = torch.tensor(pos_item_indices).to(self.device)\n",
      "/tmp/ipykernel_38367/1947374894.py:91: UserWarning: To copy construct from a tensor, it is recommended to use sourceTensor.clone().detach() or sourceTensor.clone().detach().requires_grad_(True), rather than torch.tensor(sourceTensor).\n",
      "  neg_item_indices = torch.tensor(neg_item_indices).to(self.device).squeeze()\n"
     ]
    },
    {
     "name": "stdout",
     "output_type": "stream",
     "text": [
      "2024-08-04 17:18:06,293 - base - recpack - INFO - Processed epoch 0 in 0.95 s.Batch Training Loss = 0.5172\n",
      "2024-08-04 17:18:25,734 - stopping_criterion - recpack - INFO - StoppingCriterion has value 0.5058855475542758, which is better than previous iterations.\n",
      "2024-08-04 17:18:25,748 - base - recpack - INFO - Evaluation at end of 0 took 19.45 s.\n",
      "2024-08-04 17:18:26,621 - base - recpack - INFO - Processed epoch 1 in 0.87 s.Batch Training Loss = nan\n",
      "2024-08-04 17:18:46,594 - stopping_criterion - recpack - INFO - StoppingCriterion has value 0.5088934747545313, which is worse than previous iterations.\n",
      "2024-08-04 17:18:46,597 - base - recpack - INFO - Evaluation at end of 1 took 19.97 s.\n",
      "2024-08-04 17:18:47,742 - base - recpack - INFO - Processed epoch 2 in 1.14 s.Batch Training Loss = nan\n",
      "2024-08-04 17:19:06,548 - stopping_criterion - recpack - INFO - StoppingCriterion has value 0.506166068091658, which is worse than previous iterations.\n",
      "2024-08-04 17:19:06,551 - base - recpack - INFO - Evaluation at end of 2 took 18.81 s.\n",
      "2024-08-04 17:19:07,647 - base - recpack - INFO - Processed epoch 3 in 1.10 s.Batch Training Loss = nan\n",
      "2024-08-04 17:19:27,105 - stopping_criterion - recpack - INFO - StoppingCriterion has value 0.508535811504509, which is worse than previous iterations.\n",
      "2024-08-04 17:19:27,109 - base - recpack - INFO - Evaluation at end of 3 took 19.46 s.\n",
      "2024-08-04 17:19:28,056 - base - recpack - INFO - Processed epoch 4 in 0.95 s.Batch Training Loss = nan\n",
      "2024-08-04 17:19:47,304 - stopping_criterion - recpack - INFO - StoppingCriterion has value 0.5060912193970756, which is worse than previous iterations.\n",
      "2024-08-04 17:19:47,306 - base - recpack - INFO - Evaluation at end of 4 took 19.25 s.\n",
      "2024-08-04 17:19:47,380 - base - recpack - INFO - Fitting NGCFAlgorithm complete - Took 1.02e+02s\n"
     ]
    },
    {
     "name": "stderr",
     "output_type": "stream",
     "text": [
      "/tmp/ipykernel_38367/1947374894.py:89: UserWarning: To copy construct from a tensor, it is recommended to use sourceTensor.clone().detach() or sourceTensor.clone().detach().requires_grad_(True), rather than torch.tensor(sourceTensor).\n",
      "  user_indices = torch.tensor(user_indices).to(self.device)\n",
      "/tmp/ipykernel_38367/1947374894.py:90: UserWarning: To copy construct from a tensor, it is recommended to use sourceTensor.clone().detach() or sourceTensor.clone().detach().requires_grad_(True), rather than torch.tensor(sourceTensor).\n",
      "  pos_item_indices = torch.tensor(pos_item_indices).to(self.device)\n",
      "/tmp/ipykernel_38367/1947374894.py:91: UserWarning: To copy construct from a tensor, it is recommended to use sourceTensor.clone().detach() or sourceTensor.clone().detach().requires_grad_(True), rather than torch.tensor(sourceTensor).\n",
      "  neg_item_indices = torch.tensor(neg_item_indices).to(self.device).squeeze()\n"
     ]
    },
    {
     "name": "stdout",
     "output_type": "stream",
     "text": [
      "2024-08-04 17:20:13,389 - base - recpack - INFO - Processed epoch 0 in 1.30 s.Batch Training Loss = 0.4705\n",
      "2024-08-04 17:20:33,174 - stopping_criterion - recpack - INFO - StoppingCriterion has value 0.5395994064289642, which is better than previous iterations.\n",
      "2024-08-04 17:20:33,176 - base - recpack - INFO - Evaluation at end of 0 took 19.79 s.\n",
      "2024-08-04 17:20:34,100 - base - recpack - INFO - Processed epoch 1 in 0.92 s.Batch Training Loss = 0.1871\n",
      "2024-08-04 17:20:53,880 - stopping_criterion - recpack - INFO - StoppingCriterion has value 0.5313105895626377, which is worse than previous iterations.\n",
      "2024-08-04 17:20:53,883 - base - recpack - INFO - Evaluation at end of 1 took 19.78 s.\n",
      "2024-08-04 17:20:54,765 - base - recpack - INFO - Processed epoch 2 in 0.88 s.Batch Training Loss = 0.1965\n",
      "2024-08-04 17:21:14,544 - stopping_criterion - recpack - INFO - StoppingCriterion has value 0.5283580694853862, which is better than previous iterations.\n",
      "2024-08-04 17:21:14,548 - base - recpack - INFO - Evaluation at end of 2 took 19.78 s.\n",
      "2024-08-04 17:21:15,475 - base - recpack - INFO - Processed epoch 3 in 0.93 s.Batch Training Loss = 0.2101\n",
      "2024-08-04 17:21:34,728 - stopping_criterion - recpack - INFO - StoppingCriterion has value 0.5231416211788853, which is worse than previous iterations.\n",
      "2024-08-04 17:21:34,731 - base - recpack - INFO - Evaluation at end of 3 took 19.26 s.\n",
      "2024-08-04 17:21:35,661 - base - recpack - INFO - Processed epoch 4 in 0.93 s.Batch Training Loss = 0.1956\n",
      "2024-08-04 17:21:54,919 - stopping_criterion - recpack - INFO - StoppingCriterion has value 0.5274779880083125, which is worse than previous iterations.\n",
      "2024-08-04 17:21:54,923 - base - recpack - INFO - Evaluation at end of 4 took 19.26 s.\n",
      "2024-08-04 17:21:55,014 - base - recpack - INFO - Fitting NGCFAlgorithm complete - Took 1.03e+02s\n"
     ]
    },
    {
     "name": "stderr",
     "output_type": "stream",
     "text": [
      "/tmp/ipykernel_38367/1947374894.py:89: UserWarning: To copy construct from a tensor, it is recommended to use sourceTensor.clone().detach() or sourceTensor.clone().detach().requires_grad_(True), rather than torch.tensor(sourceTensor).\n",
      "  user_indices = torch.tensor(user_indices).to(self.device)\n",
      "/tmp/ipykernel_38367/1947374894.py:90: UserWarning: To copy construct from a tensor, it is recommended to use sourceTensor.clone().detach() or sourceTensor.clone().detach().requires_grad_(True), rather than torch.tensor(sourceTensor).\n",
      "  pos_item_indices = torch.tensor(pos_item_indices).to(self.device)\n",
      "/tmp/ipykernel_38367/1947374894.py:91: UserWarning: To copy construct from a tensor, it is recommended to use sourceTensor.clone().detach() or sourceTensor.clone().detach().requires_grad_(True), rather than torch.tensor(sourceTensor).\n",
      "  neg_item_indices = torch.tensor(neg_item_indices).to(self.device).squeeze()\n"
     ]
    },
    {
     "name": "stdout",
     "output_type": "stream",
     "text": [
      "2024-08-04 17:22:20,336 - base - recpack - INFO - Processed epoch 0 in 1.28 s.Batch Training Loss = 0.4667\n",
      "2024-08-04 17:22:39,512 - stopping_criterion - recpack - INFO - StoppingCriterion has value 0.5311702109552527, which is better than previous iterations.\n",
      "2024-08-04 17:22:39,515 - base - recpack - INFO - Evaluation at end of 0 took 19.18 s.\n",
      "2024-08-04 17:22:40,431 - base - recpack - INFO - Processed epoch 1 in 0.92 s.Batch Training Loss = 0.1840\n",
      "2024-08-04 17:22:59,749 - stopping_criterion - recpack - INFO - StoppingCriterion has value 0.5224849022697304, which is worse than previous iterations.\n",
      "2024-08-04 17:22:59,752 - base - recpack - INFO - Evaluation at end of 1 took 19.32 s.\n",
      "2024-08-04 17:23:00,660 - base - recpack - INFO - Processed epoch 2 in 0.91 s.Batch Training Loss = 0.1961\n",
      "2024-08-04 17:23:20,962 - stopping_criterion - recpack - INFO - StoppingCriterion has value 0.5133630857466407, which is better than previous iterations.\n",
      "2024-08-04 17:23:20,965 - base - recpack - INFO - Evaluation at end of 2 took 20.30 s.\n",
      "2024-08-04 17:23:21,859 - base - recpack - INFO - Processed epoch 3 in 0.89 s.Batch Training Loss = 0.2080\n",
      "2024-08-04 17:23:41,070 - stopping_criterion - recpack - INFO - StoppingCriterion has value 0.5180838335144158, which is worse than previous iterations.\n",
      "2024-08-04 17:23:41,073 - base - recpack - INFO - Evaluation at end of 3 took 19.21 s.\n",
      "2024-08-04 17:23:41,990 - base - recpack - INFO - Processed epoch 4 in 0.92 s.Batch Training Loss = 0.1940\n",
      "2024-08-04 17:24:02,140 - stopping_criterion - recpack - INFO - StoppingCriterion has value 0.5127171152065229, which is worse than previous iterations.\n",
      "2024-08-04 17:24:02,143 - base - recpack - INFO - Evaluation at end of 4 took 20.15 s.\n",
      "2024-08-04 17:24:02,232 - base - recpack - INFO - Fitting NGCFAlgorithm complete - Took 1.03e+02s\n"
     ]
    }
   ],
   "source": [
    "pipeline_builder = PipelineBuilder()\n",
    "ok = (scenario._validation_data_in, scenario._validation_data_out)\n",
    "pipeline_builder.set_data_from_scenario(scenario)\n",
    "\n",
    "\n",
    "# Add the baseline algorithms\n",
    "#pipeline_builder.add_algorithm('ItemKNN', grid={'K': [100, 200, 400, 800]})\n",
    "#pipeline_builder.add_algorithm('EASE', grid={'l2': [10, 100, 1000], 'alpha': [0, 0.1, 0.5]})\n",
    "\n",
    "# Add our LightGCN algorithm\n",
    "pipeline_builder.add_algorithm(\n",
    "    'NGCFAlgorithm',\n",
    "    grid={\n",
    "        'learning_rate': [0.1, 0.01, 0.001],\n",
    "        'dropout': [0.0, 0.1, 0.2]\n",
    "    },\n",
    "    params={\n",
    "        'max_epochs': 5,\n",
    "        'batch_size': 1024,\n",
    "        'n_layers': 3,\n",
    "        'stop_early': True,\n",
    "        'max_iter_no_change': 5,\n",
    "        'min_improvement': 0.01,\n",
    "        'save_best_to_file': True,\n",
    "        'keep_last': True\n",
    "    }\n",
    ")\n",
    "\n",
    "# Add NDCG, Recall, and HR metrics to be evaluated at 10, 20, and 50\n",
    "pipeline_builder.add_metric('NDCGK', [10, 20, 50])\n",
    "pipeline_builder.add_metric('RecallK', [10, 20, 50])\n",
    "pipeline_builder.add_metric('HitK', [10, 20, 50])\n",
    "\n",
    "# Set the optimisation metric\n",
    "pipeline_builder.set_optimisation_metric('RecallK', 20)\n",
    "\n",
    "# Construct pipeline\n",
    "pipeline = pipeline_builder.build()\n",
    "\n",
    "# Debugging: Output the shape of the training data\n",
    "#print(f\"Training data shape: {im.shape}\")\n",
    "\n",
    "# Run pipeline, will first do optimisation, and then evaluation\n",
    "pipeline.run()"
   ]
  },
  {
   "cell_type": "markdown",
   "id": "08adb02f-c3f4-45ce-b20d-3ddae23745cc",
   "metadata": {},
   "source": [
    "## Results"
   ]
  },
  {
   "cell_type": "code",
   "execution_count": 29,
   "id": "e80f2784-1ed9-4d93-9883-4c34213d62ed",
   "metadata": {
    "scrolled": true
   },
   "outputs": [
    {
     "data": {
      "text/html": [
       "<div>\n",
       "<style scoped>\n",
       "    .dataframe tbody tr th:only-of-type {\n",
       "        vertical-align: middle;\n",
       "    }\n",
       "\n",
       "    .dataframe tbody tr th {\n",
       "        vertical-align: top;\n",
       "    }\n",
       "\n",
       "    .dataframe thead th {\n",
       "        text-align: right;\n",
       "    }\n",
       "</style>\n",
       "<table border=\"1\" class=\"dataframe\">\n",
       "  <thead>\n",
       "    <tr style=\"text-align: right;\">\n",
       "      <th></th>\n",
       "      <th>NDCGK_10</th>\n",
       "      <th>NDCGK_20</th>\n",
       "      <th>NDCGK_50</th>\n",
       "      <th>RecallK_10</th>\n",
       "      <th>RecallK_20</th>\n",
       "      <th>RecallK_50</th>\n",
       "      <th>HitK_10</th>\n",
       "      <th>HitK_20</th>\n",
       "      <th>HitK_50</th>\n",
       "    </tr>\n",
       "  </thead>\n",
       "  <tbody>\n",
       "    <tr>\n",
       "      <th>NGCFAlgorithm(batch_size=1024,dropout=0.1,embedding_dim=64,grad_clip=1.0,keep_last=True,learning_rate=0.001,max_epochs=5,max_iter_no_change=5,message_dropout=0.0,min_improvement=0.01,n_layers=3,node_dropout=0.0,predict_topK=None,save_best_to_file=True,seed=1663951561,stop_early=True,stopping_criterion=&lt;recpack.algorithms.stopping_criterion.StoppingCriterion object at 0x7f15e5a7cf50&gt;,validation_sample_size=None)</th>\n",
       "      <td>0.123374</td>\n",
       "      <td>0.148164</td>\n",
       "      <td>0.184056</td>\n",
       "      <td>0.22806</td>\n",
       "      <td>0.320713</td>\n",
       "      <td>0.494513</td>\n",
       "      <td>0.275203</td>\n",
       "      <td>0.391947</td>\n",
       "      <td>0.614137</td>\n",
       "    </tr>\n",
       "  </tbody>\n",
       "</table>\n",
       "</div>"
      ],
      "text/plain": [
       "                                                    NDCGK_10  NDCGK_20  \\\n",
       "NGCFAlgorithm(batch_size=1024,dropout=0.1,embed...  0.123374  0.148164   \n",
       "\n",
       "                                                    NDCGK_50  RecallK_10  \\\n",
       "NGCFAlgorithm(batch_size=1024,dropout=0.1,embed...  0.184056     0.22806   \n",
       "\n",
       "                                                    RecallK_20  RecallK_50  \\\n",
       "NGCFAlgorithm(batch_size=1024,dropout=0.1,embed...    0.320713    0.494513   \n",
       "\n",
       "                                                     HitK_10   HitK_20  \\\n",
       "NGCFAlgorithm(batch_size=1024,dropout=0.1,embed...  0.275203  0.391947   \n",
       "\n",
       "                                                     HitK_50  \n",
       "NGCFAlgorithm(batch_size=1024,dropout=0.1,embed...  0.614137  "
      ]
     },
     "execution_count": 29,
     "metadata": {},
     "output_type": "execute_result"
    }
   ],
   "source": [
    "pipeline.get_metrics()"
   ]
  },
  {
   "cell_type": "code",
   "execution_count": null,
   "id": "9f5e2dde-f629-46ec-b8b9-660b536341c7",
   "metadata": {},
   "outputs": [],
   "source": []
  }
 ],
 "metadata": {
  "kernelspec": {
   "display_name": "Python 3 (ipykernel)",
   "language": "python",
   "name": "python3"
  },
  "language_info": {
   "codemirror_mode": {
    "name": "ipython",
    "version": 3
   },
   "file_extension": ".py",
   "mimetype": "text/x-python",
   "name": "python",
   "nbconvert_exporter": "python",
   "pygments_lexer": "ipython3",
   "version": "3.11.9"
  }
 },
 "nbformat": 4,
 "nbformat_minor": 5
}
