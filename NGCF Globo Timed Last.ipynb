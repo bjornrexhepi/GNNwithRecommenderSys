{
 "cells": [
  {
   "cell_type": "markdown",
   "id": "0e46d50c-e505-4750-902e-ecdef0eeb3c1",
   "metadata": {},
   "source": [
    "# NGCF with Globo Dataset and TimedLastItemPrediction Scenario"
   ]
  },
  {
   "cell_type": "markdown",
   "id": "e1d09342-d9ca-45a7-ae9b-d99f968d5930",
   "metadata": {},
   "source": [
    "In this notebook, the implementation of NGCF in RecPack and the experimental part to generate the results of the algorithm will be presented. \n",
    "The notebook contains:\n",
    "1. The implementation of NGCF in RecPack.\n",
    "2. The 10% of Globo Dataset from RecPack and the TimedLastItemPrediction Scenario has been used to split the data.\n",
    "3. The TimedLastItemPrediction Scenario to split the data.\n",
    "4. The RecPack Pipeline Builder to run the experiments, including the splitted dataset, the algorithms and metrics to run. Hyperparameter has been performed in the Pipeline.\n",
    "\n",
    "Please make sure you have installed all the latest libraries in your Python environment, in order to have a successful run of the code."
   ]
  },
  {
   "cell_type": "markdown",
   "id": "ad38b904-5bb9-4edb-a145-2249b1cf67b1",
   "metadata": {},
   "source": [
    "## NGCF implementation in RecPack"
   ]
  },
  {
   "cell_type": "code",
   "execution_count": 1,
   "id": "5c7dc8a2-fbb5-4309-bb75-7274fd8fd280",
   "metadata": {},
   "outputs": [],
   "source": [
    "import torch\n",
    "import torch.nn as nn\n",
    "import torch.optim as optim\n",
    "from torch_sparse import SparseTensor, matmul\n",
    "from typing import List, Tuple, Optional\n",
    "from recpack.algorithms.base import TorchMLAlgorithm\n",
    "from recpack.matrix.interaction_matrix import InteractionMatrix\n",
    "from recpack.algorithms.loss_functions import bpr_loss\n",
    "from recpack.algorithms.samplers import PositiveNegativeSampler\n",
    "from scipy.sparse import csr_matrix\n",
    "import logging\n",
    "\n",
    "logger = logging.getLogger(__name__)\n",
    "\n",
    "# Neural Graph Collaborative Filtering (NGCF) model implementation\n",
    "class NGCF(nn.Module):\n",
    "    def __init__(self, num_users, num_items, embedding_dim=64, n_layers=3, dropout=0.0, node_dropout=0.0, message_dropout=0.0):\n",
    "        \"\"\"\n",
    "        Initialize the NGCF model with user and item embeddings.\n",
    "\n",
    "        Args:\n",
    "            num_users (int): Number of users.\n",
    "            num_items (int): Number of items.\n",
    "            embedding_dim (int): Dimension of the embedding vectors.\n",
    "            n_layers (int): Number of hidden layers.\n",
    "            dropout (float): Dropout rate for layers.\n",
    "            node_dropout (float): Dropout rate applied to node embeddings.\n",
    "            message_dropout (float): Dropout rate applied during message passing.\n",
    "        \"\"\"\n",
    "        super(NGCF, self).__init__()\n",
    "        self.num_users = num_users\n",
    "        self.num_items = num_items\n",
    "        self.embedding_dim = embedding_dim\n",
    "        self.n_layers = n_layers\n",
    "        self.dropout = dropout\n",
    "        self.node_dropout = node_dropout\n",
    "        self.message_dropout = message_dropout\n",
    "\n",
    "        # Initialize user and item embeddings\n",
    "        self.user_embedding = nn.Embedding(num_users, embedding_dim)\n",
    "        self.item_embedding = nn.Embedding(num_items, embedding_dim)\n",
    "        \n",
    "        # Define a list of linear layers for each propagation layer\n",
    "        self.layers = nn.ModuleList([nn.Linear(embedding_dim, embedding_dim) for _ in range(n_layers)])\n",
    "        \n",
    "        # Dropout layer for regularization\n",
    "        self.dropout_layer = nn.Dropout(dropout)\n",
    "        \n",
    "        # Initialize the parameters of the model\n",
    "        self.reset_parameters()\n",
    "\n",
    "    def reset_parameters(self):\n",
    "        \"\"\"\n",
    "        Initialize model parameters using Xavier uniform initialization.\n",
    "        \"\"\"\n",
    "        nn.init.xavier_uniform_(self.user_embedding.weight)\n",
    "        nn.init.xavier_uniform_(self.item_embedding.weight)\n",
    "        for layer in self.layers:\n",
    "            nn.init.xavier_uniform_(layer.weight)\n",
    "\n",
    "    def message_dropout_func(self, graph):\n",
    "        \"\"\"\n",
    "        Apply message dropout during graph convolution.\n",
    "\n",
    "        Args:\n",
    "            graph (SparseTensor): The graph's sparse adjacency matrix.\n",
    "\n",
    "        Returns:\n",
    "            SparseTensor: The adjacency matrix after applying message dropout.\n",
    "        \"\"\"\n",
    "        if self.message_dropout > 0:\n",
    "            row, col, value = graph.coo()\n",
    "            mask = torch.rand(row.size(0)) > self.message_dropout\n",
    "            row, col, value = row[mask], col[mask], value[mask]\n",
    "            graph = SparseTensor(row=row, col=col, value=value, sparse_sizes=graph.sparse_sizes())\n",
    "        return graph\n",
    "\n",
    "    def node_dropout_func(self, embeddings):\n",
    "        \"\"\"\n",
    "        Apply node dropout to the embeddings.\n",
    "\n",
    "        Args:\n",
    "            embeddings (torch.Tensor): The node embeddings.\n",
    "\n",
    "        Returns:\n",
    "            torch.Tensor: The embeddings after applying node dropout.\n",
    "        \"\"\"\n",
    "        if self.node_dropout > 0:\n",
    "            mask = (torch.rand(embeddings.size(0)) > self.node_dropout).float().to(embeddings.device)\n",
    "            embeddings = embeddings * mask.unsqueeze(1)\n",
    "        return embeddings\n",
    "\n",
    "    def forward(self, graph):\n",
    "        \"\"\"\n",
    "        Forward pass for the NGCF model.\n",
    "\n",
    "        Args:\n",
    "            graph (SparseTensor): The graph's sparse adjacency matrix.\n",
    "\n",
    "        Returns:\n",
    "            Tuple[torch.Tensor, torch.Tensor]: Final user and item embeddings.\n",
    "        \"\"\"\n",
    "        user_emb = self.user_embedding.weight\n",
    "        item_emb = self.item_embedding.weight\n",
    "        \n",
    "        # Apply node dropout to user and item embeddings\n",
    "        user_emb = self.node_dropout_func(user_emb)\n",
    "        item_emb = self.node_dropout_func(item_emb)\n",
    "        \n",
    "        # Concatenate user and item embeddings\n",
    "        all_emb = torch.cat([user_emb, item_emb], dim=0)\n",
    "        embs = [all_emb]\n",
    "\n",
    "        # Perform message passing and propagate embeddings through layers\n",
    "        for layer in self.layers:\n",
    "            graph = self.message_dropout_func(graph)\n",
    "            # Preventing CUDA/Library version error\n",
    "            try:\n",
    "                all_emb = matmul(graph, all_emb)\n",
    "            except RuntimeError as e:\n",
    "                break\n",
    "            all_emb = layer(all_emb)\n",
    "            all_emb = torch.relu(all_emb)\n",
    "            all_emb = self.dropout_layer(all_emb)\n",
    "            embs.append(all_emb)\n",
    "\n",
    "        # Compute the final embeddings by averaging the embeddings across layers\n",
    "        final_embedding = torch.mean(torch.stack(embs, dim=1), dim=1)\n",
    "        \n",
    "        # Split the final embeddings back into user and item embeddings\n",
    "        user_emb_final, item_emb_final = torch.split(final_embedding, [self.num_users, self.num_items])\n",
    "\n",
    "        return user_emb_final, item_emb_final"
   ]
  },
  {
   "cell_type": "code",
   "execution_count": 2,
   "id": "383f2777-5652-4d39-a111-9f8f71865f24",
   "metadata": {},
   "outputs": [],
   "source": [
    "from recpack.algorithms.base import TorchMLAlgorithm\n",
    "from recpack.matrix import Matrix\n",
    "from recpack.matrix.interaction_matrix import InteractionMatrix\n",
    "from recpack.algorithms.loss_functions import bpr_loss\n",
    "from recpack.algorithms.samplers import PositiveNegativeSampler\n",
    "from recpack.algorithms.stopping_criterion import (\n",
    "    EarlyStoppingException,\n",
    "    StoppingCriterion,\n",
    ")\n",
    "from typing import List, Tuple, Optional\n",
    "import numpy as np\n",
    "from scipy.sparse import csr_matrix, lil_matrix, coo_matrix\n",
    "import torch\n",
    "import torch.optim as optim\n",
    "import tempfile\n",
    "import time\n",
    "import logging\n",
    "\n",
    "logger = logging.getLogger(__name__)\n",
    "\n",
    "# NGCFAlgorithm: An implementation of the NGCF algorithm using TorchMLAlgorithm as a base class\n",
    "class NGCFAlgorithm(TorchMLAlgorithm):\n",
    "    def __init__(\n",
    "        self,\n",
    "        batch_size: int = 256,\n",
    "        max_epochs: int = 100,\n",
    "        learning_rate: float = 0.001,\n",
    "        embedding_dim: int = 64,\n",
    "        n_layers: int = 3,\n",
    "        dropout: float = 0.1,\n",
    "        node_dropout: float = 0.0,\n",
    "        message_dropout: float = 0.0,\n",
    "        stopping_criterion: str = \"bpr\",\n",
    "        stop_early: bool = True,\n",
    "        max_iter_no_change: int = 5,\n",
    "        min_improvement: float = 0.01,\n",
    "        seed: Optional[int] = None,\n",
    "        save_best_to_file: bool = False,\n",
    "        keep_last: bool = False,\n",
    "        predict_topK: Optional[int] = None,\n",
    "        validation_sample_size: Optional[int] = None,\n",
    "        grad_clip: float = 1.0,  # Gradient clipping value\n",
    "    ):\n",
    "        \"\"\"\n",
    "        Initialize the NGCFAlgorithm with various hyperparameters.\n",
    "\n",
    "        Args:\n",
    "            batch_size (int): Number of samples per batch.\n",
    "            max_epochs (int): Maximum number of training epochs.\n",
    "            learning_rate (float): Learning rate for the optimizer.\n",
    "            embedding_dim (int): Dimension of the embedding vectors.\n",
    "            n_layers (int): Number of hidden layers in the NGCF model.\n",
    "            dropout (float): Dropout rate for regularization.\n",
    "            node_dropout (float): Dropout rate applied to node embeddings.\n",
    "            message_dropout (float): Dropout rate applied during message passing.\n",
    "            stopping_criterion (str): Criterion to stop training early.\n",
    "            stop_early (bool): Whether to enable early stopping.\n",
    "            max_iter_no_change (int): Maximum iterations with no improvement for early stopping.\n",
    "            min_improvement (float): Minimum improvement required for early stopping.\n",
    "            seed (Optional[int]): Random seed for reproducibility.\n",
    "            save_best_to_file (bool): Whether to save the best model to a file.\n",
    "            keep_last (bool): Whether to keep the last model.\n",
    "            predict_topK (Optional[int]): Number of top-K predictions to consider.\n",
    "            validation_sample_size (Optional[int]): Size of the validation sample.\n",
    "            grad_clip (float): Maximum gradient norm for clipping.\n",
    "        \"\"\"\n",
    "        self.embedding_dim = embedding_dim\n",
    "        self.n_layers = n_layers\n",
    "        self.dropout = dropout\n",
    "        self.node_dropout = node_dropout\n",
    "        self.message_dropout = message_dropout\n",
    "        self.grad_clip = grad_clip\n",
    "        super().__init__(\n",
    "            batch_size=batch_size,\n",
    "            max_epochs=max_epochs,\n",
    "            learning_rate=learning_rate,\n",
    "            stopping_criterion=stopping_criterion,\n",
    "            stop_early=stop_early,\n",
    "            max_iter_no_change=max_iter_no_change,\n",
    "            min_improvement=min_improvement,\n",
    "            seed=seed,\n",
    "            save_best_to_file=save_best_to_file,\n",
    "            keep_last=keep_last,\n",
    "            predict_topK=predict_topK,\n",
    "            validation_sample_size=validation_sample_size,\n",
    "        )\n",
    "        self.device = torch.device('cuda' if torch.cuda.is_available() else 'cpu')\n",
    "\n",
    "    def _init_model(self, train: InteractionMatrix) -> None:\n",
    "        \"\"\"\n",
    "        Initialize the NGCF model and optimizer.\n",
    "\n",
    "        Args:\n",
    "            train (InteractionMatrix): The training interaction matrix.\n",
    "        \"\"\"\n",
    "        num_users, num_items = train.shape\n",
    "        self.model_ = NGCF(num_users, num_items, self.embedding_dim, self.n_layers, self.dropout, self.node_dropout, self.message_dropout).to(self.device)\n",
    "        self.optimizer = optim.Adam(self.model_.parameters(), lr=self.learning_rate)\n",
    "\n",
    "    def _create_sparse_graph(self, interaction_matrix: csr_matrix, num_users: int, num_items: int) -> SparseTensor:\n",
    "        \"\"\"\n",
    "        Create a sparse graph from the interaction matrix.\n",
    "\n",
    "        Args:\n",
    "            interaction_matrix (csr_matrix): The interaction matrix in CSR format.\n",
    "            num_users (int): Number of users.\n",
    "            num_items (int): Number of items.\n",
    "\n",
    "        Returns:\n",
    "            SparseTensor: A sparse tensor representing the graph.\n",
    "        \"\"\"\n",
    "        coo = interaction_matrix.tocoo()\n",
    "        row = torch.tensor(coo.row, dtype=torch.long)\n",
    "        col = torch.tensor(coo.col, dtype=torch.long)\n",
    "        value = torch.tensor(coo.data, dtype=torch.float32)\n",
    "        shape = (num_users + num_items, num_users + num_items)\n",
    "        graph = SparseTensor(row=row, col=col, value=value, sparse_sizes=shape).to(self.device)\n",
    "        return graph\n",
    "\n",
    "    def _train_epoch(self, train: InteractionMatrix) -> List[float]:\n",
    "        \"\"\"\n",
    "        Train the model for one epoch.\n",
    "\n",
    "        Args:\n",
    "            train (InteractionMatrix): The training interaction matrix.\n",
    "\n",
    "        Returns:\n",
    "            List[float]: A list of losses for each batch.\n",
    "        \"\"\"\n",
    "        self.model_.train()\n",
    "        interaction_matrix = train  # Get the sparse matrix directly\n",
    "        graph = self._create_sparse_graph(interaction_matrix, train.shape[0], train.shape[1])\n",
    "        total_loss = 0\n",
    "        losses = []\n",
    "\n",
    "        sampler = PositiveNegativeSampler(num_negatives=1, batch_size=self.batch_size)\n",
    "\n",
    "        # Iterate over samples generated by the PositiveNegativeSampler\n",
    "        for user_indices, pos_item_indices, neg_item_indices in sampler.sample(interaction_matrix):\n",
    "            user_indices = torch.tensor(user_indices).to(self.device)\n",
    "            pos_item_indices = torch.tensor(pos_item_indices).to(self.device)\n",
    "            neg_item_indices = torch.tensor(neg_item_indices).to(self.device).squeeze()\n",
    "\n",
    "            self.optimizer.zero_grad()\n",
    "            user_emb_final, item_emb_final = self.model_(graph)  # Call model only once\n",
    "            pos_scores = user_emb_final[user_indices] @ item_emb_final[pos_item_indices].t()\n",
    "            neg_scores = user_emb_final[user_indices] @ item_emb_final[neg_item_indices].t()\n",
    "\n",
    "            loss = bpr_loss(pos_scores, neg_scores)\n",
    "\n",
    "            if torch.isnan(loss).any() or torch.isinf(loss).any():\n",
    "                continue\n",
    "\n",
    "            loss.backward()\n",
    "            torch.nn.utils.clip_grad_norm_(self.model_.parameters(), max_norm=self.grad_clip)  # Gradient clipping\n",
    "            self.optimizer.step()\n",
    "\n",
    "            total_loss += loss.item()\n",
    "            losses.append(loss.item())\n",
    "\n",
    "        if len(losses) == 0:\n",
    "            return [float('nan')]\n",
    "\n",
    "        return losses\n",
    "\n",
    "    def _batch_predict(self, X: InteractionMatrix, users: List[int]) -> csr_matrix:\n",
    "        \"\"\"\n",
    "        Make batch predictions for a list of users.\n",
    "\n",
    "        Args:\n",
    "            X (InteractionMatrix): The interaction matrix.\n",
    "            users (List[int]): List of user indices to make predictions for.\n",
    "\n",
    "        Returns:\n",
    "            csr_matrix: A sparse matrix with the prediction scores.\n",
    "        \"\"\"\n",
    "        self.model_.eval()\n",
    "        graph = self._create_sparse_graph(X, X.shape[0], X.shape[1])\n",
    "        user_indices = torch.tensor(users).to(self.device)\n",
    "        item_indices = torch.arange(X.shape[1]).to(self.device)\n",
    "        \n",
    "        with torch.no_grad():\n",
    "            user_emb_final, item_emb_final = self.model_(graph)\n",
    "            scores = user_emb_final[user_indices] @ item_emb_final.t()\n",
    "            scores = scores.cpu().numpy()\n",
    "        \n",
    "        result = lil_matrix((X.shape[0], X.shape[1]))\n",
    "        for i, user in enumerate(users):\n",
    "            result[user] = scores[i]\n",
    "        \n",
    "        return result.tocsr()"
   ]
  },
  {
   "cell_type": "code",
   "execution_count": 15,
   "id": "e87fd90c-f8ae-4fcc-a455-90fb8f2335c2",
   "metadata": {},
   "outputs": [],
   "source": [
    "from recpack.datasets import Netflix, DummyDataset\n",
    "from recpack.pipelines import PipelineBuilder\n",
    "from recpack.scenarios import StrongGeneralization, TimedLastItemPrediction\n",
    "from recpack.pipelines import ALGORITHM_REGISTRY\n",
    "import pandas as pd"
   ]
  },
  {
   "cell_type": "code",
   "execution_count": 4,
   "id": "03a047ff-a58e-4ffb-bb09-247622834b08",
   "metadata": {},
   "outputs": [],
   "source": [
    "ALGORITHM_REGISTRY.register(\"NGCFAlgorithm\", NGCFAlgorithm)"
   ]
  },
  {
   "cell_type": "markdown",
   "id": "dc8309ca-7e68-4ea2-bddd-9f05c2275820",
   "metadata": {},
   "source": [
    "## RecPack Dataset Importing"
   ]
  },
  {
   "cell_type": "code",
   "execution_count": 5,
   "id": "288305e2-e570-4286-8468-c902e9d7ca25",
   "metadata": {},
   "outputs": [],
   "source": [
    "from recpack.datasets import Globo\n",
    "dataset = Globo(path=\"\", filename=\"archive.zip\")"
   ]
  },
  {
   "cell_type": "code",
   "execution_count": 6,
   "id": "9c73499f-1c14-4241-a0bd-e3412b4efd34",
   "metadata": {},
   "outputs": [],
   "source": [
    "dataset.fetch_dataset()"
   ]
  },
  {
   "cell_type": "code",
   "execution_count": 7,
   "id": "25bb2d15-0f4f-4142-8d5d-e06a6ea3c024",
   "metadata": {},
   "outputs": [
    {
     "data": {
      "text/plain": [
       "<recpack.datasets.globo.Globo at 0x7fd916b78a10>"
      ]
     },
     "execution_count": 7,
     "metadata": {},
     "output_type": "execute_result"
    }
   ],
   "source": [
    "dataset"
   ]
  },
  {
   "cell_type": "code",
   "execution_count": null,
   "id": "a290f199-0a3d-4c2b-bc30-c82b5254ab34",
   "metadata": {},
   "outputs": [],
   "source": [
    "df = dataset._load_dataframe()"
   ]
  },
  {
   "cell_type": "markdown",
   "id": "91dc84ba-64c5-4519-b975-1d6ac6965c80",
   "metadata": {},
   "source": [
    "## Datasets with Timestamps sampling"
   ]
  },
  {
   "cell_type": "code",
   "execution_count": 9,
   "id": "66ac1379-2266-4bec-b6d3-9cf22c1aaedf",
   "metadata": {},
   "outputs": [],
   "source": [
    "timestamp_counts = df['click_timestamp'].value_counts().sort_index(ascending=False)\n",
    "cumulative_counts = timestamp_counts.cumsum()\n",
    "total_counts = cumulative_counts.max()\n",
    "threshold_count = total_counts * 0.1\n",
    "threshold_timestamp = cumulative_counts[cumulative_counts >= threshold_count].index[0]"
   ]
  },
  {
   "cell_type": "code",
   "execution_count": 10,
   "id": "a8b54ee9-8024-4d18-89c8-7858f45d7906",
   "metadata": {},
   "outputs": [],
   "source": [
    "filtered_df = df[df['click_timestamp'] >= threshold_timestamp]"
   ]
  },
  {
   "cell_type": "code",
   "execution_count": 12,
   "id": "877cfa8a-c9d3-4436-8a74-5009b026f266",
   "metadata": {},
   "outputs": [
    {
     "data": {
      "text/html": [
       "<div>\n",
       "<style scoped>\n",
       "    .dataframe tbody tr th:only-of-type {\n",
       "        vertical-align: middle;\n",
       "    }\n",
       "\n",
       "    .dataframe tbody tr th {\n",
       "        vertical-align: top;\n",
       "    }\n",
       "\n",
       "    .dataframe thead th {\n",
       "        text-align: right;\n",
       "    }\n",
       "</style>\n",
       "<table border=\"1\" class=\"dataframe\">\n",
       "  <thead>\n",
       "    <tr style=\"text-align: right;\">\n",
       "      <th></th>\n",
       "      <th>user_id</th>\n",
       "      <th>click_article_id</th>\n",
       "      <th>click_timestamp</th>\n",
       "    </tr>\n",
       "  </thead>\n",
       "  <tbody>\n",
       "    <tr>\n",
       "      <th>0</th>\n",
       "      <td>0</td>\n",
       "      <td>157541</td>\n",
       "      <td>1.506827e+09</td>\n",
       "    </tr>\n",
       "    <tr>\n",
       "      <th>1</th>\n",
       "      <td>0</td>\n",
       "      <td>68866</td>\n",
       "      <td>1.506827e+09</td>\n",
       "    </tr>\n",
       "    <tr>\n",
       "      <th>2</th>\n",
       "      <td>1</td>\n",
       "      <td>235840</td>\n",
       "      <td>1.506827e+09</td>\n",
       "    </tr>\n",
       "    <tr>\n",
       "      <th>3</th>\n",
       "      <td>1</td>\n",
       "      <td>96663</td>\n",
       "      <td>1.506827e+09</td>\n",
       "    </tr>\n",
       "    <tr>\n",
       "      <th>4</th>\n",
       "      <td>2</td>\n",
       "      <td>119592</td>\n",
       "      <td>1.506827e+09</td>\n",
       "    </tr>\n",
       "    <tr>\n",
       "      <th>...</th>\n",
       "      <td>...</td>\n",
       "      <td>...</td>\n",
       "      <td>...</td>\n",
       "    </tr>\n",
       "    <tr>\n",
       "      <th>2564</th>\n",
       "      <td>10051</td>\n",
       "      <td>84911</td>\n",
       "      <td>1.508212e+09</td>\n",
       "    </tr>\n",
       "    <tr>\n",
       "      <th>2565</th>\n",
       "      <td>322896</td>\n",
       "      <td>30760</td>\n",
       "      <td>1.508212e+09</td>\n",
       "    </tr>\n",
       "    <tr>\n",
       "      <th>2566</th>\n",
       "      <td>322896</td>\n",
       "      <td>157507</td>\n",
       "      <td>1.508212e+09</td>\n",
       "    </tr>\n",
       "    <tr>\n",
       "      <th>2567</th>\n",
       "      <td>123718</td>\n",
       "      <td>234481</td>\n",
       "      <td>1.508212e+09</td>\n",
       "    </tr>\n",
       "    <tr>\n",
       "      <th>2568</th>\n",
       "      <td>123718</td>\n",
       "      <td>233578</td>\n",
       "      <td>1.508212e+09</td>\n",
       "    </tr>\n",
       "  </tbody>\n",
       "</table>\n",
       "<p>2988181 rows × 3 columns</p>\n",
       "</div>"
      ],
      "text/plain": [
       "      user_id  click_article_id  click_timestamp\n",
       "0           0            157541     1.506827e+09\n",
       "1           0             68866     1.506827e+09\n",
       "2           1            235840     1.506827e+09\n",
       "3           1             96663     1.506827e+09\n",
       "4           2            119592     1.506827e+09\n",
       "...       ...               ...              ...\n",
       "2564    10051             84911     1.508212e+09\n",
       "2565   322896             30760     1.508212e+09\n",
       "2566   322896            157507     1.508212e+09\n",
       "2567   123718            234481     1.508212e+09\n",
       "2568   123718            233578     1.508212e+09\n",
       "\n",
       "[2988181 rows x 3 columns]"
      ]
     },
     "execution_count": 12,
     "metadata": {},
     "output_type": "execute_result"
    }
   ],
   "source": [
    "df"
   ]
  },
  {
   "cell_type": "code",
   "execution_count": 13,
   "id": "75315c82-bb45-4090-8d92-87e16d42f204",
   "metadata": {},
   "outputs": [
    {
     "data": {
      "text/html": [
       "<div>\n",
       "<style scoped>\n",
       "    .dataframe tbody tr th:only-of-type {\n",
       "        vertical-align: middle;\n",
       "    }\n",
       "\n",
       "    .dataframe tbody tr th {\n",
       "        vertical-align: top;\n",
       "    }\n",
       "\n",
       "    .dataframe thead th {\n",
       "        text-align: right;\n",
       "    }\n",
       "</style>\n",
       "<table border=\"1\" class=\"dataframe\">\n",
       "  <thead>\n",
       "    <tr style=\"text-align: right;\">\n",
       "      <th></th>\n",
       "      <th>user_id</th>\n",
       "      <th>click_article_id</th>\n",
       "      <th>click_timestamp</th>\n",
       "    </tr>\n",
       "  </thead>\n",
       "  <tbody>\n",
       "    <tr>\n",
       "      <th>4289</th>\n",
       "      <td>22712</td>\n",
       "      <td>158772</td>\n",
       "      <td>1.508196e+09</td>\n",
       "    </tr>\n",
       "    <tr>\n",
       "      <th>4290</th>\n",
       "      <td>22712</td>\n",
       "      <td>284638</td>\n",
       "      <td>1.508633e+09</td>\n",
       "    </tr>\n",
       "    <tr>\n",
       "      <th>4291</th>\n",
       "      <td>22712</td>\n",
       "      <td>95633</td>\n",
       "      <td>1.508678e+09</td>\n",
       "    </tr>\n",
       "    <tr>\n",
       "      <th>4292</th>\n",
       "      <td>22712</td>\n",
       "      <td>95524</td>\n",
       "      <td>1.508679e+09</td>\n",
       "    </tr>\n",
       "    <tr>\n",
       "      <th>4293</th>\n",
       "      <td>22712</td>\n",
       "      <td>184427</td>\n",
       "      <td>1.508679e+09</td>\n",
       "    </tr>\n",
       "    <tr>\n",
       "      <th>...</th>\n",
       "      <td>...</td>\n",
       "      <td>...</td>\n",
       "      <td>...</td>\n",
       "    </tr>\n",
       "    <tr>\n",
       "      <th>2564</th>\n",
       "      <td>10051</td>\n",
       "      <td>84911</td>\n",
       "      <td>1.508212e+09</td>\n",
       "    </tr>\n",
       "    <tr>\n",
       "      <th>2565</th>\n",
       "      <td>322896</td>\n",
       "      <td>30760</td>\n",
       "      <td>1.508212e+09</td>\n",
       "    </tr>\n",
       "    <tr>\n",
       "      <th>2566</th>\n",
       "      <td>322896</td>\n",
       "      <td>157507</td>\n",
       "      <td>1.508212e+09</td>\n",
       "    </tr>\n",
       "    <tr>\n",
       "      <th>2567</th>\n",
       "      <td>123718</td>\n",
       "      <td>234481</td>\n",
       "      <td>1.508212e+09</td>\n",
       "    </tr>\n",
       "    <tr>\n",
       "      <th>2568</th>\n",
       "      <td>123718</td>\n",
       "      <td>233578</td>\n",
       "      <td>1.508212e+09</td>\n",
       "    </tr>\n",
       "  </tbody>\n",
       "</table>\n",
       "<p>298819 rows × 3 columns</p>\n",
       "</div>"
      ],
      "text/plain": [
       "      user_id  click_article_id  click_timestamp\n",
       "4289    22712            158772     1.508196e+09\n",
       "4290    22712            284638     1.508633e+09\n",
       "4291    22712             95633     1.508678e+09\n",
       "4292    22712             95524     1.508679e+09\n",
       "4293    22712            184427     1.508679e+09\n",
       "...       ...               ...              ...\n",
       "2564    10051             84911     1.508212e+09\n",
       "2565   322896             30760     1.508212e+09\n",
       "2566   322896            157507     1.508212e+09\n",
       "2567   123718            234481     1.508212e+09\n",
       "2568   123718            233578     1.508212e+09\n",
       "\n",
       "[298819 rows x 3 columns]"
      ]
     },
     "execution_count": 13,
     "metadata": {},
     "output_type": "execute_result"
    }
   ],
   "source": [
    "filtered_df"
   ]
  },
  {
   "cell_type": "markdown",
   "id": "0f0fb1f3-d713-49f1-b1b4-622ad20fd2e2",
   "metadata": {},
   "source": [
    "## Dataset Preprocessing to Interaction Matrix"
   ]
  },
  {
   "cell_type": "code",
   "execution_count": 11,
   "id": "3214a5e2-868e-4019-8437-75e6eb3808c4",
   "metadata": {},
   "outputs": [
    {
     "data": {
      "application/vnd.jupyter.widget-view+json": {
       "model_id": "201625bfb41645e4adc33e5d3b3465ed",
       "version_major": 2,
       "version_minor": 0
      },
      "text/plain": [
       "  0%|          | 0/298819 [00:00<?, ?it/s]"
      ]
     },
     "metadata": {},
     "output_type": "display_data"
    },
    {
     "data": {
      "application/vnd.jupyter.widget-view+json": {
       "model_id": "f5e0124b00ad417daca3abfaa9c85f48",
       "version_major": 2,
       "version_minor": 0
      },
      "text/plain": [
       "  0%|          | 0/298819 [00:00<?, ?it/s]"
      ]
     },
     "metadata": {},
     "output_type": "display_data"
    }
   ],
   "source": [
    "from recpack.matrix import InteractionMatrix\n",
    "from recpack.preprocessing.preprocessors import DataFramePreprocessor\n",
    "\n",
    "item_ix = 'click_article_id'\n",
    "user_ix = 'user_id'\n",
    "timestamp_ix = 'click_timestamp'\n",
    "\n",
    "preprocessor = DataFramePreprocessor(item_ix=item_ix, user_ix=user_ix, timestamp_ix=timestamp_ix)\n",
    "\n",
    "interaction_matrix = preprocessor.process(filtered_df)"
   ]
  },
  {
   "cell_type": "markdown",
   "id": "fc8c1792-a2cd-4d6c-af44-ff50fa4aeb49",
   "metadata": {},
   "source": [
    "## TimedLastItemPrediction Scenario Splitting of Data"
   ]
  },
  {
   "cell_type": "code",
   "execution_count": 12,
   "id": "2b48dd0e-ec34-427c-a32e-2f1436d01625",
   "metadata": {},
   "outputs": [
    {
     "name": "stdout",
     "output_type": "stream",
     "text": [
      "1508211543.583\n"
     ]
    }
   ],
   "source": [
    "t_10 = interaction_matrix.timestamps.values[int(0.999999 * len(interaction_matrix.timestamps.values))]\n",
    "print(t_10)"
   ]
  },
  {
   "cell_type": "code",
   "execution_count": 14,
   "id": "73d22b62-213c-4ac4-9346-70414e7c39db",
   "metadata": {},
   "outputs": [
    {
     "data": {
      "text/plain": [
       "(array([11938.,  7274., 16795., 28974., 36216.,  8309., 45476., 66211.,\n",
       "        47655., 28017.]),\n",
       " array([1.50802851e+09, 1.50804682e+09, 1.50806512e+09, 1.50808342e+09,\n",
       "        1.50810173e+09, 1.50812003e+09, 1.50813833e+09, 1.50815663e+09,\n",
       "        1.50817494e+09, 1.50819324e+09, 1.50821154e+09]),\n",
       " <BarContainer object of 10 artists>)"
      ]
     },
     "execution_count": 14,
     "metadata": {},
     "output_type": "execute_result"
    },
    {
     "data": {
      "image/png": "[encoded data removed]",
      "text/plain": [
       "<Figure size 640x480 with 1 Axes>"
      ]
     },
     "metadata": {},
     "output_type": "display_data"
    }
   ],
   "source": [
    "import matplotlib.pyplot as plt\n",
    "plt.hist(interaction_matrix.timestamps_lte(t_10).timestamps.values)"
   ]
  },
  {
   "cell_type": "code",
   "execution_count": 16,
   "id": "1a4868a5-3ca1-439d-b6bd-d870ac428f95",
   "metadata": {},
   "outputs": [
    {
     "name": "stdout",
     "output_type": "stream",
     "text": [
      "1508184661.438 1508164951.091\n"
     ]
    }
   ],
   "source": [
    "interaction_matrix.timestamps.values\n",
    "t_80 = interaction_matrix.timestamps.values[int(0.8 * len(interaction_matrix.timestamps.values))]\n",
    "t_validate_80 = interaction_matrix.timestamps.values[int(0.8 * 0.8 * len(interaction_matrix.timestamps.values))]\n",
    "print(t_80, t_validate_80)"
   ]
  },
  {
   "cell_type": "code",
   "execution_count": null,
   "id": "aa72bb09-e745-4c5f-b4b3-88785f8a96b1",
   "metadata": {},
   "outputs": [],
   "source": [
    "scenario = TimedLastItemPrediction(t = t_80, t_validation = t_validate_80, validation=True)\n",
    "scenario.split(interaction_matrix)"
   ]
  },
  {
   "cell_type": "markdown",
   "id": "e6b131ab-de9d-4aff-b3ca-875b129da141",
   "metadata": {},
   "source": [
    "## Experimental RecPack Pipeline"
   ]
  },
  {
   "cell_type": "code",
   "execution_count": 18,
   "id": "51e133b8-daff-4e2a-a3b6-9747347f3425",
   "metadata": {},
   "outputs": [
    {
     "name": "stderr",
     "output_type": "stream",
     "text": [
      "/opt/conda/lib/python3.11/site-packages/recpack/pipelines/pipeline_builder.py:145: UserWarning: Grid parameter for add_algorithm function will be deprecated in favour of optimisation_info.\n",
      "  warnings.warn(\n"
     ]
    },
    {
     "data": {
      "application/vnd.jupyter.widget-view+json": {
       "model_id": "05f86c9c90994ad181d9a2cdf903440e",
       "version_major": 2,
       "version_minor": 0
      },
      "text/plain": [
       "  0%|          | 0/1 [00:00<?, ?it/s]"
      ]
     },
     "metadata": {},
     "output_type": "display_data"
    },
    {
     "name": "stderr",
     "output_type": "stream",
     "text": [
      "/tmp/ipykernel_64640/1947374894.py:89: UserWarning: To copy construct from a tensor, it is recommended to use sourceTensor.clone().detach() or sourceTensor.clone().detach().requires_grad_(True), rather than torch.tensor(sourceTensor).\n",
      "  user_indices = torch.tensor(user_indices).to(self.device)\n",
      "/tmp/ipykernel_64640/1947374894.py:90: UserWarning: To copy construct from a tensor, it is recommended to use sourceTensor.clone().detach() or sourceTensor.clone().detach().requires_grad_(True), rather than torch.tensor(sourceTensor).\n",
      "  pos_item_indices = torch.tensor(pos_item_indices).to(self.device)\n",
      "/tmp/ipykernel_64640/1947374894.py:91: UserWarning: To copy construct from a tensor, it is recommended to use sourceTensor.clone().detach() or sourceTensor.clone().detach().requires_grad_(True), rather than torch.tensor(sourceTensor).\n",
      "  neg_item_indices = torch.tensor(neg_item_indices).to(self.device).squeeze()\n"
     ]
    },
    {
     "name": "stdout",
     "output_type": "stream",
     "text": [
      "2024-08-05 19:28:48,757 - base - recpack - INFO - Processed epoch 0 in 2.34 s.Batch Training Loss = 0.4694\n",
      "2024-08-05 19:34:07,469 - stopping_criterion - recpack - INFO - StoppingCriterion has value 0.7018662200359947, which is better than previous iterations.\n",
      "2024-08-05 19:34:07,586 - base - recpack - INFO - Evaluation at end of 0 took 318.83 s.\n",
      "2024-08-05 19:34:08,369 - base - recpack - INFO - Processed epoch 1 in 0.78 s.Batch Training Loss = nan\n",
      "2024-08-05 19:39:20,414 - stopping_criterion - recpack - INFO - StoppingCriterion has value 0.6464110558212623, which is better than previous iterations.\n",
      "2024-08-05 19:39:20,426 - base - recpack - INFO - Evaluation at end of 1 took 312.06 s.\n",
      "2024-08-05 19:39:21,255 - base - recpack - INFO - Processed epoch 2 in 0.83 s.Batch Training Loss = nan\n",
      "2024-08-05 19:44:33,480 - stopping_criterion - recpack - INFO - StoppingCriterion has value 0.6804708442917226, which is worse than previous iterations.\n",
      "2024-08-05 19:44:33,495 - base - recpack - INFO - Evaluation at end of 2 took 312.24 s.\n",
      "2024-08-05 19:44:34,309 - base - recpack - INFO - Processed epoch 3 in 0.81 s.Batch Training Loss = nan\n",
      "2024-08-05 19:49:42,753 - stopping_criterion - recpack - INFO - StoppingCriterion has value 0.654949068040963, which is worse than previous iterations.\n",
      "2024-08-05 19:49:42,767 - base - recpack - INFO - Evaluation at end of 3 took 308.46 s.\n",
      "2024-08-05 19:49:43,586 - base - recpack - INFO - Processed epoch 4 in 0.82 s.Batch Training Loss = nan\n",
      "2024-08-05 19:54:55,362 - stopping_criterion - recpack - INFO - StoppingCriterion has value 0.6593556856324039, which is worse than previous iterations.\n",
      "2024-08-05 19:54:55,379 - base - recpack - INFO - Evaluation at end of 4 took 311.79 s.\n",
      "2024-08-05 19:54:55,479 - base - recpack - INFO - Fitting NGCFAlgorithm complete - Took 1.57e+03s\n"
     ]
    },
    {
     "name": "stderr",
     "output_type": "stream",
     "text": [
      "/tmp/ipykernel_64640/1947374894.py:89: UserWarning: To copy construct from a tensor, it is recommended to use sourceTensor.clone().detach() or sourceTensor.clone().detach().requires_grad_(True), rather than torch.tensor(sourceTensor).\n",
      "  user_indices = torch.tensor(user_indices).to(self.device)\n",
      "/tmp/ipykernel_64640/1947374894.py:90: UserWarning: To copy construct from a tensor, it is recommended to use sourceTensor.clone().detach() or sourceTensor.clone().detach().requires_grad_(True), rather than torch.tensor(sourceTensor).\n",
      "  pos_item_indices = torch.tensor(pos_item_indices).to(self.device)\n",
      "/tmp/ipykernel_64640/1947374894.py:91: UserWarning: To copy construct from a tensor, it is recommended to use sourceTensor.clone().detach() or sourceTensor.clone().detach().requires_grad_(True), rather than torch.tensor(sourceTensor).\n",
      "  neg_item_indices = torch.tensor(neg_item_indices).to(self.device).squeeze()\n"
     ]
    },
    {
     "name": "stdout",
     "output_type": "stream",
     "text": [
      "2024-08-05 20:00:54,052 - base - recpack - INFO - Processed epoch 0 in 0.94 s.Batch Training Loss = 0.4821\n",
      "2024-08-05 20:06:06,866 - stopping_criterion - recpack - INFO - StoppingCriterion has value 0.6274389344690217, which is better than previous iterations.\n",
      "2024-08-05 20:06:06,879 - base - recpack - INFO - Evaluation at end of 0 took 312.83 s.\n",
      "2024-08-05 20:06:07,755 - base - recpack - INFO - Processed epoch 1 in 0.87 s.Batch Training Loss = 0.3156\n",
      "2024-08-05 20:11:24,882 - stopping_criterion - recpack - INFO - StoppingCriterion has value 0.6237623314196203, which is worse than previous iterations.\n",
      "2024-08-05 20:11:24,894 - base - recpack - INFO - Evaluation at end of 1 took 317.14 s.\n",
      "2024-08-05 20:11:25,684 - base - recpack - INFO - Processed epoch 2 in 0.79 s.Batch Training Loss = nan\n",
      "2024-08-05 20:16:38,950 - stopping_criterion - recpack - INFO - StoppingCriterion has value 0.6144163534934337, which is better than previous iterations.\n",
      "2024-08-05 20:16:38,963 - base - recpack - INFO - Evaluation at end of 2 took 313.28 s.\n",
      "2024-08-05 20:16:39,735 - base - recpack - INFO - Processed epoch 3 in 0.77 s.Batch Training Loss = nan\n",
      "2024-08-05 20:21:53,358 - stopping_criterion - recpack - INFO - StoppingCriterion has value 0.6158190584296691, which is worse than previous iterations.\n",
      "2024-08-05 20:21:53,395 - base - recpack - INFO - Evaluation at end of 3 took 313.66 s.\n",
      "2024-08-05 20:21:54,189 - base - recpack - INFO - Processed epoch 4 in 0.79 s.Batch Training Loss = nan\n",
      "2024-08-05 20:27:07,308 - stopping_criterion - recpack - INFO - StoppingCriterion has value 0.6197205921321153, which is worse than previous iterations.\n",
      "2024-08-05 20:27:07,322 - base - recpack - INFO - Evaluation at end of 4 took 313.13 s.\n",
      "2024-08-05 20:27:07,394 - base - recpack - INFO - Fitting NGCFAlgorithm complete - Took 1.57e+03s\n"
     ]
    },
    {
     "name": "stderr",
     "output_type": "stream",
     "text": [
      "/tmp/ipykernel_64640/1947374894.py:89: UserWarning: To copy construct from a tensor, it is recommended to use sourceTensor.clone().detach() or sourceTensor.clone().detach().requires_grad_(True), rather than torch.tensor(sourceTensor).\n",
      "  user_indices = torch.tensor(user_indices).to(self.device)\n",
      "/tmp/ipykernel_64640/1947374894.py:90: UserWarning: To copy construct from a tensor, it is recommended to use sourceTensor.clone().detach() or sourceTensor.clone().detach().requires_grad_(True), rather than torch.tensor(sourceTensor).\n",
      "  pos_item_indices = torch.tensor(pos_item_indices).to(self.device)\n",
      "/tmp/ipykernel_64640/1947374894.py:91: UserWarning: To copy construct from a tensor, it is recommended to use sourceTensor.clone().detach() or sourceTensor.clone().detach().requires_grad_(True), rather than torch.tensor(sourceTensor).\n",
      "  neg_item_indices = torch.tensor(neg_item_indices).to(self.device).squeeze()\n"
     ]
    },
    {
     "name": "stdout",
     "output_type": "stream",
     "text": [
      "2024-08-05 20:33:04,728 - base - recpack - INFO - Processed epoch 0 in 1.24 s.Batch Training Loss = 0.4556\n",
      "2024-08-05 20:38:15,436 - stopping_criterion - recpack - INFO - StoppingCriterion has value 0.6396986290157516, which is better than previous iterations.\n",
      "2024-08-05 20:38:15,447 - base - recpack - INFO - Evaluation at end of 0 took 310.72 s.\n",
      "2024-08-05 20:38:16,255 - base - recpack - INFO - Processed epoch 1 in 0.81 s.Batch Training Loss = 0.1496\n",
      "2024-08-05 20:43:31,575 - stopping_criterion - recpack - INFO - StoppingCriterion has value 0.6364528742362703, which is worse than previous iterations.\n",
      "2024-08-05 20:43:31,590 - base - recpack - INFO - Evaluation at end of 1 took 315.33 s.\n",
      "2024-08-05 20:43:32,409 - base - recpack - INFO - Processed epoch 2 in 0.82 s.Batch Training Loss = 0.1227\n",
      "2024-08-05 20:48:46,447 - stopping_criterion - recpack - INFO - StoppingCriterion has value 0.6323941607509206, which is worse than previous iterations.\n",
      "2024-08-05 20:48:46,460 - base - recpack - INFO - Evaluation at end of 2 took 314.05 s.\n",
      "2024-08-05 20:48:47,355 - base - recpack - INFO - Processed epoch 3 in 0.89 s.Batch Training Loss = 0.1334\n",
      "2024-08-05 20:53:56,875 - stopping_criterion - recpack - INFO - StoppingCriterion has value 0.6298433431520948, which is worse than previous iterations.\n",
      "2024-08-05 20:53:56,889 - base - recpack - INFO - Evaluation at end of 3 took 309.53 s.\n",
      "2024-08-05 20:53:57,709 - base - recpack - INFO - Processed epoch 4 in 0.82 s.Batch Training Loss = 0.1421\n",
      "2024-08-05 20:59:15,532 - stopping_criterion - recpack - INFO - StoppingCriterion has value 0.6295847643143846, which is better than previous iterations.\n",
      "2024-08-05 20:59:15,545 - base - recpack - INFO - Evaluation at end of 4 took 317.83 s.\n",
      "2024-08-05 20:59:15,624 - base - recpack - INFO - Fitting NGCFAlgorithm complete - Took 1.57e+03s\n"
     ]
    },
    {
     "name": "stderr",
     "output_type": "stream",
     "text": [
      "/tmp/ipykernel_64640/1947374894.py:89: UserWarning: To copy construct from a tensor, it is recommended to use sourceTensor.clone().detach() or sourceTensor.clone().detach().requires_grad_(True), rather than torch.tensor(sourceTensor).\n",
      "  user_indices = torch.tensor(user_indices).to(self.device)\n",
      "/tmp/ipykernel_64640/1947374894.py:90: UserWarning: To copy construct from a tensor, it is recommended to use sourceTensor.clone().detach() or sourceTensor.clone().detach().requires_grad_(True), rather than torch.tensor(sourceTensor).\n",
      "  pos_item_indices = torch.tensor(pos_item_indices).to(self.device)\n",
      "/tmp/ipykernel_64640/1947374894.py:91: UserWarning: To copy construct from a tensor, it is recommended to use sourceTensor.clone().detach() or sourceTensor.clone().detach().requires_grad_(True), rather than torch.tensor(sourceTensor).\n",
      "  neg_item_indices = torch.tensor(neg_item_indices).to(self.device).squeeze()\n"
     ]
    },
    {
     "name": "stdout",
     "output_type": "stream",
     "text": [
      "2024-08-05 21:05:15,358 - base - recpack - INFO - Processed epoch 0 in 0.86 s.Batch Training Loss = 0.6938\n",
      "2024-08-05 21:10:28,061 - stopping_criterion - recpack - INFO - StoppingCriterion has value 0.6402037670122022, which is better than previous iterations.\n",
      "2024-08-05 21:10:28,095 - base - recpack - INFO - Evaluation at end of 0 took 312.74 s.\n",
      "2024-08-05 21:10:28,916 - base - recpack - INFO - Processed epoch 1 in 0.82 s.Batch Training Loss = nan\n",
      "2024-08-05 21:15:42,722 - stopping_criterion - recpack - INFO - StoppingCriterion has value 0.6401274917649425, which is worse than previous iterations.\n",
      "2024-08-05 21:15:42,736 - base - recpack - INFO - Evaluation at end of 1 took 313.82 s.\n",
      "2024-08-05 21:15:43,558 - base - recpack - INFO - Processed epoch 2 in 0.82 s.Batch Training Loss = nan\n",
      "2024-08-05 21:20:57,642 - stopping_criterion - recpack - INFO - StoppingCriterion has value 0.6406857966024654, which is worse than previous iterations.\n",
      "2024-08-05 21:20:57,655 - base - recpack - INFO - Evaluation at end of 2 took 314.09 s.\n",
      "2024-08-05 21:20:58,479 - base - recpack - INFO - Processed epoch 3 in 0.82 s.Batch Training Loss = nan\n",
      "2024-08-05 21:26:11,166 - stopping_criterion - recpack - INFO - StoppingCriterion has value 0.6430476590735621, which is worse than previous iterations.\n",
      "2024-08-05 21:26:11,178 - base - recpack - INFO - Evaluation at end of 3 took 312.70 s.\n",
      "2024-08-05 21:26:12,011 - base - recpack - INFO - Processed epoch 4 in 0.83 s.Batch Training Loss = 0.6683\n",
      "2024-08-05 21:31:24,420 - stopping_criterion - recpack - INFO - StoppingCriterion has value 0.6392682274891857, which is worse than previous iterations.\n",
      "2024-08-05 21:31:24,434 - base - recpack - INFO - Evaluation at end of 4 took 312.42 s.\n",
      "2024-08-05 21:31:24,567 - base - recpack - INFO - Fitting NGCFAlgorithm complete - Took 1.57e+03s\n"
     ]
    },
    {
     "name": "stderr",
     "output_type": "stream",
     "text": [
      "/tmp/ipykernel_64640/1947374894.py:89: UserWarning: To copy construct from a tensor, it is recommended to use sourceTensor.clone().detach() or sourceTensor.clone().detach().requires_grad_(True), rather than torch.tensor(sourceTensor).\n",
      "  user_indices = torch.tensor(user_indices).to(self.device)\n",
      "/tmp/ipykernel_64640/1947374894.py:90: UserWarning: To copy construct from a tensor, it is recommended to use sourceTensor.clone().detach() or sourceTensor.clone().detach().requires_grad_(True), rather than torch.tensor(sourceTensor).\n",
      "  pos_item_indices = torch.tensor(pos_item_indices).to(self.device)\n",
      "/tmp/ipykernel_64640/1947374894.py:91: UserWarning: To copy construct from a tensor, it is recommended to use sourceTensor.clone().detach() or sourceTensor.clone().detach().requires_grad_(True), rather than torch.tensor(sourceTensor).\n",
      "  neg_item_indices = torch.tensor(neg_item_indices).to(self.device).squeeze()\n"
     ]
    },
    {
     "name": "stdout",
     "output_type": "stream",
     "text": [
      "2024-08-05 21:37:25,933 - base - recpack - INFO - Processed epoch 0 in 0.88 s.Batch Training Loss = 0.4949\n",
      "2024-08-05 21:42:38,096 - stopping_criterion - recpack - INFO - StoppingCriterion has value 0.6419663170807813, which is better than previous iterations.\n",
      "2024-08-05 21:42:38,110 - base - recpack - INFO - Evaluation at end of 0 took 312.18 s.\n",
      "2024-08-05 21:42:39,019 - base - recpack - INFO - Processed epoch 1 in 0.91 s.Batch Training Loss = nan\n",
      "2024-08-05 21:47:52,974 - stopping_criterion - recpack - INFO - StoppingCriterion has value 0.6406212756144658, which is worse than previous iterations.\n",
      "2024-08-05 21:47:53,094 - base - recpack - INFO - Evaluation at end of 1 took 314.07 s.\n",
      "2024-08-05 21:47:54,011 - base - recpack - INFO - Processed epoch 2 in 0.92 s.Batch Training Loss = nan\n",
      "2024-08-05 21:53:03,825 - stopping_criterion - recpack - INFO - StoppingCriterion has value 0.6455749132824071, which is worse than previous iterations.\n",
      "2024-08-05 21:53:03,836 - base - recpack - INFO - Evaluation at end of 2 took 309.82 s.\n",
      "2024-08-05 21:53:04,796 - base - recpack - INFO - Processed epoch 3 in 0.96 s.Batch Training Loss = nan\n",
      "2024-08-05 21:58:18,600 - stopping_criterion - recpack - INFO - StoppingCriterion has value 0.6435766680922894, which is worse than previous iterations.\n",
      "2024-08-05 21:58:18,613 - base - recpack - INFO - Evaluation at end of 3 took 313.82 s.\n",
      "2024-08-05 21:58:19,434 - base - recpack - INFO - Processed epoch 4 in 0.82 s.Batch Training Loss = nan\n",
      "2024-08-05 22:03:33,841 - stopping_criterion - recpack - INFO - StoppingCriterion has value 0.642049347536554, which is worse than previous iterations.\n",
      "2024-08-05 22:03:33,854 - base - recpack - INFO - Evaluation at end of 4 took 314.42 s.\n",
      "2024-08-05 22:03:33,946 - base - recpack - INFO - Fitting NGCFAlgorithm complete - Took 1.57e+03s\n"
     ]
    },
    {
     "name": "stderr",
     "output_type": "stream",
     "text": [
      "/tmp/ipykernel_64640/1947374894.py:89: UserWarning: To copy construct from a tensor, it is recommended to use sourceTensor.clone().detach() or sourceTensor.clone().detach().requires_grad_(True), rather than torch.tensor(sourceTensor).\n",
      "  user_indices = torch.tensor(user_indices).to(self.device)\n",
      "/tmp/ipykernel_64640/1947374894.py:90: UserWarning: To copy construct from a tensor, it is recommended to use sourceTensor.clone().detach() or sourceTensor.clone().detach().requires_grad_(True), rather than torch.tensor(sourceTensor).\n",
      "  pos_item_indices = torch.tensor(pos_item_indices).to(self.device)\n",
      "/tmp/ipykernel_64640/1947374894.py:91: UserWarning: To copy construct from a tensor, it is recommended to use sourceTensor.clone().detach() or sourceTensor.clone().detach().requires_grad_(True), rather than torch.tensor(sourceTensor).\n",
      "  neg_item_indices = torch.tensor(neg_item_indices).to(self.device).squeeze()\n"
     ]
    },
    {
     "name": "stdout",
     "output_type": "stream",
     "text": [
      "2024-08-05 22:09:36,853 - base - recpack - INFO - Processed epoch 0 in 1.59 s.Batch Training Loss = 0.4622\n",
      "2024-08-05 22:14:50,286 - stopping_criterion - recpack - INFO - StoppingCriterion has value 0.6407972375298041, which is better than previous iterations.\n",
      "2024-08-05 22:14:50,298 - base - recpack - INFO - Evaluation at end of 0 took 313.44 s.\n",
      "2024-08-05 22:14:51,158 - base - recpack - INFO - Processed epoch 1 in 0.86 s.Batch Training Loss = 0.1307\n",
      "2024-08-05 22:20:05,435 - stopping_criterion - recpack - INFO - StoppingCriterion has value 0.6384374350509517, which is worse than previous iterations.\n",
      "2024-08-05 22:20:05,447 - base - recpack - INFO - Evaluation at end of 1 took 314.29 s.\n",
      "2024-08-05 22:20:06,309 - base - recpack - INFO - Processed epoch 2 in 0.86 s.Batch Training Loss = 0.1312\n",
      "2024-08-05 22:25:37,594 - stopping_criterion - recpack - INFO - StoppingCriterion has value 0.6340397879340139, which is worse than previous iterations.\n",
      "2024-08-05 22:25:37,608 - base - recpack - INFO - Evaluation at end of 2 took 331.30 s.\n",
      "2024-08-05 22:25:38,453 - base - recpack - INFO - Processed epoch 3 in 0.84 s.Batch Training Loss = 0.1475\n",
      "2024-08-05 22:30:53,664 - stopping_criterion - recpack - INFO - StoppingCriterion has value 0.6380497111009755, which is worse than previous iterations.\n",
      "2024-08-05 22:30:53,677 - base - recpack - INFO - Evaluation at end of 3 took 315.22 s.\n",
      "2024-08-05 22:30:54,557 - base - recpack - INFO - Processed epoch 4 in 0.88 s.Batch Training Loss = 0.1574\n",
      "2024-08-05 22:36:09,862 - stopping_criterion - recpack - INFO - StoppingCriterion has value 0.6309564535953733, which is worse than previous iterations.\n",
      "2024-08-05 22:36:09,877 - base - recpack - INFO - Evaluation at end of 4 took 315.32 s.\n",
      "2024-08-05 22:36:09,965 - base - recpack - INFO - Fitting NGCFAlgorithm complete - Took 1.59e+03s\n"
     ]
    },
    {
     "name": "stderr",
     "output_type": "stream",
     "text": [
      "/tmp/ipykernel_64640/1947374894.py:89: UserWarning: To copy construct from a tensor, it is recommended to use sourceTensor.clone().detach() or sourceTensor.clone().detach().requires_grad_(True), rather than torch.tensor(sourceTensor).\n",
      "  user_indices = torch.tensor(user_indices).to(self.device)\n",
      "/tmp/ipykernel_64640/1947374894.py:90: UserWarning: To copy construct from a tensor, it is recommended to use sourceTensor.clone().detach() or sourceTensor.clone().detach().requires_grad_(True), rather than torch.tensor(sourceTensor).\n",
      "  pos_item_indices = torch.tensor(pos_item_indices).to(self.device)\n",
      "/tmp/ipykernel_64640/1947374894.py:91: UserWarning: To copy construct from a tensor, it is recommended to use sourceTensor.clone().detach() or sourceTensor.clone().detach().requires_grad_(True), rather than torch.tensor(sourceTensor).\n",
      "  neg_item_indices = torch.tensor(neg_item_indices).to(self.device).squeeze()\n"
     ]
    },
    {
     "name": "stdout",
     "output_type": "stream",
     "text": [
      "2024-08-05 22:42:07,673 - base - recpack - INFO - Processed epoch 0 in 0.84 s.Batch Training Loss = 0.6944\n",
      "2024-08-05 22:47:20,731 - stopping_criterion - recpack - INFO - StoppingCriterion has value 0.643053804521701, which is better than previous iterations.\n",
      "2024-08-05 22:47:20,744 - base - recpack - INFO - Evaluation at end of 0 took 313.07 s.\n",
      "2024-08-05 22:47:21,692 - base - recpack - INFO - Processed epoch 1 in 0.95 s.Batch Training Loss = nan\n",
      "2024-08-05 22:52:36,465 - stopping_criterion - recpack - INFO - StoppingCriterion has value 0.6389066752118479, which is worse than previous iterations.\n",
      "2024-08-05 22:52:36,477 - base - recpack - INFO - Evaluation at end of 1 took 314.78 s.\n",
      "2024-08-05 22:52:37,286 - base - recpack - INFO - Processed epoch 2 in 0.81 s.Batch Training Loss = nan\n",
      "2024-08-05 22:57:49,074 - stopping_criterion - recpack - INFO - StoppingCriterion has value 0.6424541803216818, which is worse than previous iterations.\n",
      "2024-08-05 22:57:49,088 - base - recpack - INFO - Evaluation at end of 2 took 311.80 s.\n",
      "2024-08-05 22:57:49,911 - base - recpack - INFO - Processed epoch 3 in 0.82 s.Batch Training Loss = nan\n",
      "2024-08-05 23:03:08,442 - stopping_criterion - recpack - INFO - StoppingCriterion has value 0.6393851846400438, which is worse than previous iterations.\n",
      "2024-08-05 23:03:08,454 - base - recpack - INFO - Evaluation at end of 3 took 318.54 s.\n",
      "2024-08-05 23:03:09,276 - base - recpack - INFO - Processed epoch 4 in 0.82 s.Batch Training Loss = nan\n",
      "2024-08-05 23:08:25,131 - stopping_criterion - recpack - INFO - StoppingCriterion has value 0.6429419041629741, which is worse than previous iterations.\n",
      "2024-08-05 23:08:25,145 - base - recpack - INFO - Evaluation at end of 4 took 315.87 s.\n",
      "2024-08-05 23:08:25,239 - base - recpack - INFO - Fitting NGCFAlgorithm complete - Took 1.58e+03s\n"
     ]
    },
    {
     "name": "stderr",
     "output_type": "stream",
     "text": [
      "/tmp/ipykernel_64640/1947374894.py:89: UserWarning: To copy construct from a tensor, it is recommended to use sourceTensor.clone().detach() or sourceTensor.clone().detach().requires_grad_(True), rather than torch.tensor(sourceTensor).\n",
      "  user_indices = torch.tensor(user_indices).to(self.device)\n",
      "/tmp/ipykernel_64640/1947374894.py:90: UserWarning: To copy construct from a tensor, it is recommended to use sourceTensor.clone().detach() or sourceTensor.clone().detach().requires_grad_(True), rather than torch.tensor(sourceTensor).\n",
      "  pos_item_indices = torch.tensor(pos_item_indices).to(self.device)\n",
      "/tmp/ipykernel_64640/1947374894.py:91: UserWarning: To copy construct from a tensor, it is recommended to use sourceTensor.clone().detach() or sourceTensor.clone().detach().requires_grad_(True), rather than torch.tensor(sourceTensor).\n",
      "  neg_item_indices = torch.tensor(neg_item_indices).to(self.device).squeeze()\n"
     ]
    },
    {
     "name": "stdout",
     "output_type": "stream",
     "text": [
      "2024-08-05 23:14:26,073 - base - recpack - INFO - Processed epoch 0 in 0.93 s.Batch Training Loss = 0.4933\n",
      "2024-08-05 23:19:39,342 - stopping_criterion - recpack - INFO - StoppingCriterion has value 0.6319324739377269, which is better than previous iterations.\n",
      "2024-08-05 23:19:39,357 - base - recpack - INFO - Evaluation at end of 0 took 313.28 s.\n",
      "2024-08-05 23:19:40,450 - base - recpack - INFO - Processed epoch 1 in 1.09 s.Batch Training Loss = nan\n",
      "2024-08-05 23:24:55,599 - stopping_criterion - recpack - INFO - StoppingCriterion has value 0.6351611691523901, which is worse than previous iterations.\n",
      "2024-08-05 23:24:55,610 - base - recpack - INFO - Evaluation at end of 1 took 315.16 s.\n",
      "2024-08-05 23:24:56,692 - base - recpack - INFO - Processed epoch 2 in 1.08 s.Batch Training Loss = nan\n",
      "2024-08-05 23:30:11,249 - stopping_criterion - recpack - INFO - StoppingCriterion has value 0.6334277092218166, which is worse than previous iterations.\n",
      "2024-08-05 23:30:11,265 - base - recpack - INFO - Evaluation at end of 2 took 314.57 s.\n",
      "2024-08-05 23:30:12,305 - base - recpack - INFO - Processed epoch 3 in 1.04 s.Batch Training Loss = nan\n",
      "2024-08-05 23:35:26,967 - stopping_criterion - recpack - INFO - StoppingCriterion has value 0.6383715864801702, which is worse than previous iterations.\n",
      "2024-08-05 23:35:26,981 - base - recpack - INFO - Evaluation at end of 3 took 314.67 s.\n",
      "2024-08-05 23:35:27,801 - base - recpack - INFO - Processed epoch 4 in 0.82 s.Batch Training Loss = nan\n",
      "2024-08-05 23:40:38,796 - stopping_criterion - recpack - INFO - StoppingCriterion has value 0.637861045727274, which is worse than previous iterations.\n",
      "2024-08-05 23:40:38,809 - base - recpack - INFO - Evaluation at end of 4 took 311.01 s.\n",
      "2024-08-05 23:40:38,883 - base - recpack - INFO - Fitting NGCFAlgorithm complete - Took 1.57e+03s\n"
     ]
    },
    {
     "name": "stderr",
     "output_type": "stream",
     "text": [
      "/tmp/ipykernel_64640/1947374894.py:89: UserWarning: To copy construct from a tensor, it is recommended to use sourceTensor.clone().detach() or sourceTensor.clone().detach().requires_grad_(True), rather than torch.tensor(sourceTensor).\n",
      "  user_indices = torch.tensor(user_indices).to(self.device)\n",
      "/tmp/ipykernel_64640/1947374894.py:90: UserWarning: To copy construct from a tensor, it is recommended to use sourceTensor.clone().detach() or sourceTensor.clone().detach().requires_grad_(True), rather than torch.tensor(sourceTensor).\n",
      "  pos_item_indices = torch.tensor(pos_item_indices).to(self.device)\n",
      "/tmp/ipykernel_64640/1947374894.py:91: UserWarning: To copy construct from a tensor, it is recommended to use sourceTensor.clone().detach() or sourceTensor.clone().detach().requires_grad_(True), rather than torch.tensor(sourceTensor).\n",
      "  neg_item_indices = torch.tensor(neg_item_indices).to(self.device).squeeze()\n"
     ]
    },
    {
     "name": "stdout",
     "output_type": "stream",
     "text": [
      "2024-08-05 23:46:44,834 - base - recpack - INFO - Processed epoch 0 in 1.37 s.Batch Training Loss = 0.4817\n",
      "2024-08-05 23:51:59,342 - stopping_criterion - recpack - INFO - StoppingCriterion has value 0.6454447086513909, which is better than previous iterations.\n",
      "2024-08-05 23:51:59,358 - base - recpack - INFO - Evaluation at end of 0 took 314.52 s.\n",
      "2024-08-05 23:52:00,211 - base - recpack - INFO - Processed epoch 1 in 0.85 s.Batch Training Loss = 0.1574\n",
      "2024-08-05 23:57:14,340 - stopping_criterion - recpack - INFO - StoppingCriterion has value 0.6464809932987753, which is worse than previous iterations.\n",
      "2024-08-05 23:57:14,353 - base - recpack - INFO - Evaluation at end of 1 took 314.14 s.\n",
      "2024-08-05 23:57:15,219 - base - recpack - INFO - Processed epoch 2 in 0.86 s.Batch Training Loss = 0.1383\n",
      "2024-08-06 00:02:29,878 - stopping_criterion - recpack - INFO - StoppingCriterion has value 0.6357118567312461, which is worse than previous iterations.\n",
      "2024-08-06 00:02:29,891 - base - recpack - INFO - Evaluation at end of 2 took 314.67 s.\n",
      "2024-08-06 00:02:30,744 - base - recpack - INFO - Processed epoch 3 in 0.85 s.Batch Training Loss = 0.1312\n",
      "2024-08-06 00:07:46,196 - stopping_criterion - recpack - INFO - StoppingCriterion has value 0.640095069969828, which is worse than previous iterations.\n",
      "2024-08-06 00:07:46,208 - base - recpack - INFO - Evaluation at end of 3 took 315.46 s.\n",
      "2024-08-06 00:07:47,055 - base - recpack - INFO - Processed epoch 4 in 0.85 s.Batch Training Loss = 0.1634\n",
      "2024-08-06 00:13:02,308 - stopping_criterion - recpack - INFO - StoppingCriterion has value 0.6414638658572406, which is worse than previous iterations.\n",
      "2024-08-06 00:13:02,322 - base - recpack - INFO - Evaluation at end of 4 took 315.27 s.\n",
      "2024-08-06 00:13:02,401 - base - recpack - INFO - Fitting NGCFAlgorithm complete - Took 1.58e+03s\n"
     ]
    },
    {
     "name": "stderr",
     "output_type": "stream",
     "text": [
      "/tmp/ipykernel_64640/1947374894.py:89: UserWarning: To copy construct from a tensor, it is recommended to use sourceTensor.clone().detach() or sourceTensor.clone().detach().requires_grad_(True), rather than torch.tensor(sourceTensor).\n",
      "  user_indices = torch.tensor(user_indices).to(self.device)\n",
      "/tmp/ipykernel_64640/1947374894.py:90: UserWarning: To copy construct from a tensor, it is recommended to use sourceTensor.clone().detach() or sourceTensor.clone().detach().requires_grad_(True), rather than torch.tensor(sourceTensor).\n",
      "  pos_item_indices = torch.tensor(pos_item_indices).to(self.device)\n",
      "/tmp/ipykernel_64640/1947374894.py:91: UserWarning: To copy construct from a tensor, it is recommended to use sourceTensor.clone().detach() or sourceTensor.clone().detach().requires_grad_(True), rather than torch.tensor(sourceTensor).\n",
      "  neg_item_indices = torch.tensor(neg_item_indices).to(self.device).squeeze()\n"
     ]
    },
    {
     "name": "stdout",
     "output_type": "stream",
     "text": [
      "2024-08-06 00:19:05,687 - base - recpack - INFO - Processed epoch 0 in 1.36 s.Batch Training Loss = 0.4799\n",
      "2024-08-06 00:24:19,600 - stopping_criterion - recpack - INFO - StoppingCriterion has value 0.6471417483573397, which is better than previous iterations.\n",
      "2024-08-06 00:24:19,613 - base - recpack - INFO - Evaluation at end of 0 took 313.92 s.\n",
      "2024-08-06 00:24:20,486 - base - recpack - INFO - Processed epoch 1 in 0.87 s.Batch Training Loss = 0.1679\n",
      "2024-08-06 00:29:35,322 - stopping_criterion - recpack - INFO - StoppingCriterion has value 0.6451458038194728, which is worse than previous iterations.\n",
      "2024-08-06 00:29:35,334 - base - recpack - INFO - Evaluation at end of 1 took 314.85 s.\n",
      "2024-08-06 00:29:36,179 - base - recpack - INFO - Processed epoch 2 in 0.84 s.Batch Training Loss = 0.1727\n",
      "2024-08-06 00:34:47,806 - stopping_criterion - recpack - INFO - StoppingCriterion has value 0.6430820146724064, which is worse than previous iterations.\n",
      "2024-08-06 00:34:47,819 - base - recpack - INFO - Evaluation at end of 2 took 311.64 s.\n",
      "2024-08-06 00:34:48,672 - base - recpack - INFO - Processed epoch 3 in 0.85 s.Batch Training Loss = 0.1550\n",
      "2024-08-06 00:40:03,579 - stopping_criterion - recpack - INFO - StoppingCriterion has value 0.6453409176360488, which is worse than previous iterations.\n",
      "2024-08-06 00:40:03,593 - base - recpack - INFO - Evaluation at end of 3 took 314.92 s.\n",
      "2024-08-06 00:40:04,480 - base - recpack - INFO - Processed epoch 4 in 0.89 s.Batch Training Loss = 0.1347\n",
      "2024-08-06 00:45:19,458 - stopping_criterion - recpack - INFO - StoppingCriterion has value 0.6432002241167072, which is worse than previous iterations.\n",
      "2024-08-06 00:45:19,470 - base - recpack - INFO - Evaluation at end of 4 took 314.99 s.\n",
      "2024-08-06 00:45:19,541 - base - recpack - INFO - Fitting NGCFAlgorithm complete - Took 1.58e+03s\n"
     ]
    }
   ],
   "source": [
    "pipeline_builder = PipelineBuilder()\n",
    "ok = (scenario._validation_data_in, scenario._validation_data_out)\n",
    "pipeline_builder.set_data_from_scenario(scenario)\n",
    "\n",
    "\n",
    "# Add the baseline algorithms\n",
    "#pipeline_builder.add_algorithm('ItemKNN', grid={'K': [100, 200, 400, 800]})\n",
    "#pipeline_builder.add_algorithm('EASE', grid={'l2': [10, 100, 1000], 'alpha': [0, 0.1, 0.5]})\n",
    "\n",
    "# Add our LightGCN algorithm\n",
    "pipeline_builder.add_algorithm(\n",
    "    'NGCFAlgorithm',\n",
    "    grid={\n",
    "        'learning_rate': [0.1, 0.01, 0.001],\n",
    "        'dropout': [0.0, 0.1, 0.2]\n",
    "    },\n",
    "    params={\n",
    "        'max_epochs': 5,\n",
    "        'batch_size': 1024,\n",
    "        'n_layers': 3,\n",
    "        'stop_early': True,\n",
    "        'max_iter_no_change': 5,\n",
    "        'min_improvement': 0.01,\n",
    "        'save_best_to_file': True,\n",
    "        'keep_last': True\n",
    "    }\n",
    ")\n",
    "\n",
    "# Add NDCG, Recall, and HR metrics to be evaluated at 10, 20, and 50\n",
    "pipeline_builder.add_metric('NDCGK', [10, 20, 50])\n",
    "pipeline_builder.add_metric('RecallK', [10, 20, 50])\n",
    "pipeline_builder.add_metric('HitK', [10, 20, 50])\n",
    "\n",
    "# Set the optimisation metric\n",
    "pipeline_builder.set_optimisation_metric('RecallK', 20)\n",
    "\n",
    "# Construct pipeline\n",
    "pipeline = pipeline_builder.build()\n",
    "\n",
    "# Debugging: Output the shape of the training data\n",
    "#print(f\"Training data shape: {im.shape}\")\n",
    "\n",
    "# Run pipeline, will first do optimisation, and then evaluation\n",
    "pipeline.run()"
   ]
  },
  {
   "cell_type": "markdown",
   "id": "bc58a75e-8d0e-40ec-b233-9926c7da63b2",
   "metadata": {},
   "source": [
    "## Results"
   ]
  },
  {
   "cell_type": "code",
   "execution_count": 19,
   "id": "e80f2784-1ed9-4d93-9883-4c34213d62ed",
   "metadata": {
    "scrolled": true
   },
   "outputs": [
    {
     "data": {
      "text/html": [
       "<div>\n",
       "<style scoped>\n",
       "    .dataframe tbody tr th:only-of-type {\n",
       "        vertical-align: middle;\n",
       "    }\n",
       "\n",
       "    .dataframe tbody tr th {\n",
       "        vertical-align: top;\n",
       "    }\n",
       "\n",
       "    .dataframe thead th {\n",
       "        text-align: right;\n",
       "    }\n",
       "</style>\n",
       "<table border=\"1\" class=\"dataframe\">\n",
       "  <thead>\n",
       "    <tr style=\"text-align: right;\">\n",
       "      <th></th>\n",
       "      <th>NDCGK_10</th>\n",
       "      <th>NDCGK_20</th>\n",
       "      <th>NDCGK_50</th>\n",
       "      <th>RecallK_10</th>\n",
       "      <th>RecallK_20</th>\n",
       "      <th>RecallK_50</th>\n",
       "      <th>HitK_10</th>\n",
       "      <th>HitK_20</th>\n",
       "      <th>HitK_50</th>\n",
       "    </tr>\n",
       "  </thead>\n",
       "  <tbody>\n",
       "    <tr>\n",
       "      <th>NGCFAlgorithm(batch_size=1024,dropout=0.2,embedding_dim=64,grad_clip=1.0,keep_last=True,learning_rate=0.001,max_epochs=5,max_iter_no_change=5,message_dropout=0.0,min_improvement=0.01,n_layers=3,node_dropout=0.0,predict_topK=None,save_best_to_file=True,seed=4068379196,stop_early=True,stopping_criterion=&lt;recpack.algorithms.stopping_criterion.StoppingCriterion object at 0x7fd9106a3090&gt;,validation_sample_size=None)</th>\n",
       "      <td>0.026149</td>\n",
       "      <td>0.02802</td>\n",
       "      <td>0.031423</td>\n",
       "      <td>0.045832</td>\n",
       "      <td>0.053337</td>\n",
       "      <td>0.070578</td>\n",
       "      <td>0.045832</td>\n",
       "      <td>0.053337</td>\n",
       "      <td>0.070578</td>\n",
       "    </tr>\n",
       "  </tbody>\n",
       "</table>\n",
       "</div>"
      ],
      "text/plain": [
       "                                                    NDCGK_10  NDCGK_20  \\\n",
       "NGCFAlgorithm(batch_size=1024,dropout=0.2,embed...  0.026149   0.02802   \n",
       "\n",
       "                                                    NDCGK_50  RecallK_10  \\\n",
       "NGCFAlgorithm(batch_size=1024,dropout=0.2,embed...  0.031423    0.045832   \n",
       "\n",
       "                                                    RecallK_20  RecallK_50  \\\n",
       "NGCFAlgorithm(batch_size=1024,dropout=0.2,embed...    0.053337    0.070578   \n",
       "\n",
       "                                                     HitK_10   HitK_20  \\\n",
       "NGCFAlgorithm(batch_size=1024,dropout=0.2,embed...  0.045832  0.053337   \n",
       "\n",
       "                                                     HitK_50  \n",
       "NGCFAlgorithm(batch_size=1024,dropout=0.2,embed...  0.070578  "
      ]
     },
     "execution_count": 19,
     "metadata": {},
     "output_type": "execute_result"
    }
   ],
   "source": [
    "pipeline.get_metrics()"
   ]
  },
  {
   "cell_type": "code",
   "execution_count": null,
   "id": "9f5e2dde-f629-46ec-b8b9-660b536341c7",
   "metadata": {},
   "outputs": [],
   "source": []
  }
 ],
 "metadata": {
  "kernelspec": {
   "display_name": "Python 3 (ipykernel)",
   "language": "python",
   "name": "python3"
  },
  "language_info": {
   "codemirror_mode": {
    "name": "ipython",
    "version": 3
   },
   "file_extension": ".py",
   "mimetype": "text/x-python",
   "name": "python",
   "nbconvert_exporter": "python",
   "pygments_lexer": "ipython3",
   "version": "3.11.9"
  }
 },
 "nbformat": 4,
 "nbformat_minor": 5
}
