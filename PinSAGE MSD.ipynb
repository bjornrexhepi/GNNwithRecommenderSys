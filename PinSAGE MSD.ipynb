{
 "cells": [
  {
   "cell_type": "markdown",
   "id": "a21c7193-8b6f-4a85-9cb0-2d2376822030",
   "metadata": {},
   "source": [
    "# PinSAGE with MSD Dataset and StrongGeneralization Scenario"
   ]
  },
  {
   "cell_type": "markdown",
   "id": "cf58f96c-ea28-416f-b4bc-5a7132b4f910",
   "metadata": {},
   "source": [
    "In this notebook, the implementation of PinSAGE in RecPack and the experimental part to generate the results of the algorithm will be presented. \n",
    "The notebook contains:\n",
    "1. The implementation of PinSAGE in RecPack.\n",
    "2. The 10% of MSD Dataset from RecPack and the StrongGeneralization Scenario has been used to split the data.\n",
    "3. The StrongGeneralization Scenario to split the data.\n",
    "4. The RecPack Pipeline Builder to run the experiments, including the splitted dataset, the algorithms and metrics to run. Hyperparameter has been performed in the Pipeline.\n",
    "\n",
    "Please make sure you have installed all the latest libraries in your Python environment, in order to have a successful run of the code."
   ]
  },
  {
   "cell_type": "markdown",
   "id": "ee17d698-2726-44a7-91a3-46d7135bb1dc",
   "metadata": {},
   "source": [
    "## PinSAGE implementation in RecPack"
   ]
  },
  {
   "cell_type": "code",
   "execution_count": 115,
   "id": "5c7dc8a2-fbb5-4309-bb75-7274fd8fd280",
   "metadata": {},
   "outputs": [],
   "source": [
    "import torch\n",
    "import torch.nn as nn\n",
    "import torch.optim as optim\n",
    "from torch_sparse import SparseTensor, matmul\n",
    "from recpack.algorithms.base import TorchMLAlgorithm\n",
    "from recpack.matrix.interaction_matrix import InteractionMatrix\n",
    "from recpack.algorithms.loss_functions import bpr_loss, bpr_max_loss\n",
    "from recpack.algorithms.samplers import PositiveNegativeSampler\n",
    "from recpack.matrix.util import to_csr_matrix \n",
    "from scipy.sparse import csr_matrix, lil_matrix\n",
    "from typing import List, Optional\n",
    "import logging\n",
    "\n",
    "logger = logging.getLogger(__name__)\n",
    "\n",
    "# PinSAGEConv: A single convolutional layer for the PinSAGE model\n",
    "class PinSAGEConv(nn.Module):\n",
    "    def __init__(self, in_channels, out_channels, dropout=0.0):\n",
    "        \"\"\"\n",
    "        Initialize the PinSAGEConv layer.\n",
    "\n",
    "        Args:\n",
    "            in_channels (int): Number of input channels (dimensions of the input features).\n",
    "            out_channels (int): Number of output channels (dimensions of the output features).\n",
    "            dropout (float): Dropout rate for regularization.\n",
    "        \"\"\"\n",
    "        super(PinSAGEConv, self).__init__()\n",
    "        self.in_channels = in_channels\n",
    "        self.out_channels = out_channels\n",
    "        self.dropout = dropout\n",
    "\n",
    "        # Define a linear transformation and a dropout layer\n",
    "        self.linear = nn.Linear(in_channels, out_channels)\n",
    "        self.dropout_layer = nn.Dropout(dropout)\n",
    "        self.reset_parameters()\n",
    "\n",
    "    def reset_parameters(self):\n",
    "        \"\"\"\n",
    "        Initialize the parameters of the layer using Xavier uniform initialization.\n",
    "        \"\"\"\n",
    "        nn.init.xavier_uniform_(self.linear.weight)\n",
    "        if self.linear.bias is not None:\n",
    "            nn.init.zeros_(self.linear.bias)\n",
    "\n",
    "    def forward(self, x, graph):\n",
    "        \"\"\"\n",
    "        Forward pass for the PinSAGEConv layer.\n",
    "\n",
    "        Args:\n",
    "            x (torch.Tensor): Input feature matrix.\n",
    "            graph (SparseTensor): Sparse adjacency matrix representing the graph.\n",
    "\n",
    "        Returns:\n",
    "            torch.Tensor: Output features after convolution and activation.\n",
    "        \"\"\"\n",
    "        try:\n",
    "            out = matmul(graph, x)  # Perform graph convolution\n",
    "        except RuntimeError as e:\n",
    "            # Log the error and return the input unchanged if the operation fails\n",
    "            # logger.error(f\"matmul failed with error: {e}\")\n",
    "            return x  \n",
    "        out = self.linear(out)\n",
    "        out = torch.relu(out)\n",
    "        out = self.dropout_layer(out)\n",
    "        \n",
    "        return out\n",
    "\n",
    "# PinSAGE: A model implementation based on the PinSAGE algorithm\n",
    "class PinSAGE(nn.Module):\n",
    "    def __init__(self, num_users, num_items, embedding_dim=64, n_layers=2, dropout=0.0):\n",
    "        \"\"\"\n",
    "        Initialize the PinSAGE model.\n",
    "\n",
    "        Args:\n",
    "            num_users (int): Number of users.\n",
    "            num_items (int): Number of items.\n",
    "            embedding_dim (int): Dimension of the embedding vectors.\n",
    "            n_layers (int): Number of PinSAGEConv layers.\n",
    "            dropout (float): Dropout rate for regularization.\n",
    "        \"\"\"\n",
    "        super(PinSAGE, self).__init__()\n",
    "        self.num_users = num_users\n",
    "        self.num_items = num_items\n",
    "        self.embedding_dim = embedding_dim\n",
    "        self.n_layers = n_layers\n",
    "        self.dropout = dropout\n",
    "\n",
    "        # Initialize user and item embeddings\n",
    "        self.user_embedding = nn.Embedding(num_users, embedding_dim)\n",
    "        self.item_embedding = nn.Embedding(num_items, embedding_dim)\n",
    "        \n",
    "        # Create a list of PinSAGEConv layers\n",
    "        self.convs = nn.ModuleList([\n",
    "            PinSAGEConv(embedding_dim, embedding_dim, dropout) for _ in range(n_layers)\n",
    "        ])\n",
    "        \n",
    "        # Final linear layers for users and items\n",
    "        self.user_final_linear = nn.Linear(embedding_dim, embedding_dim)\n",
    "        self.item_final_linear = nn.Linear(embedding_dim, embedding_dim)\n",
    "        self.reset_parameters()\n",
    "\n",
    "    def reset_parameters(self):\n",
    "        \"\"\"\n",
    "        Initialize the parameters of the model using Xavier uniform initialization.\n",
    "        \"\"\"\n",
    "        nn.init.xavier_uniform_(self.user_embedding.weight)\n",
    "        nn.init.xavier_uniform_(self.item_embedding.weight)\n",
    "        nn.init.xavier_uniform_(self.user_final_linear.weight)\n",
    "        nn.init.xavier_uniform_(self.item_final_linear.weight)\n",
    "\n",
    "    def forward(self, graph):\n",
    "        \"\"\"\n",
    "        Forward pass for the PinSAGE model.\n",
    "\n",
    "        Args:\n",
    "            graph (SparseTensor): Sparse adjacency matrix representing the graph.\n",
    "\n",
    "        Returns:\n",
    "            Tuple[torch.Tensor, torch.Tensor]: Final user and item embeddings.\n",
    "        \"\"\"\n",
    "        user_emb = self.user_embedding.weight\n",
    "        item_emb = self.item_embedding.weight\n",
    "        \n",
    "        # Concatenate user and item embeddings\n",
    "        all_emb = torch.cat([user_emb, item_emb], dim=0)\n",
    "        embs = [all_emb]\n",
    "\n",
    "        # Pass through each PinSAGEConv layer\n",
    "        for conv in self.convs:\n",
    "            all_emb = conv(all_emb, graph)\n",
    "            embs.append(all_emb)\n",
    "\n",
    "        # Compute the final embeddings by averaging the embeddings across layers\n",
    "        final_embedding = torch.mean(torch.stack(embs, dim=1), dim=1)\n",
    "        user_emb_final, item_emb_final = torch.split(final_embedding, [self.num_users, self.num_items])\n",
    "        \n",
    "        # Separate final transformations for users and items\n",
    "        final_user_emb = torch.relu(self.user_final_linear(user_emb_final))\n",
    "        final_item_emb = torch.relu(self.item_final_linear(item_emb_final))\n",
    "\n",
    "        # Normalize final embeddings\n",
    "        final_user_emb = final_user_emb / torch.norm(final_user_emb, p=2, dim=1, keepdim=True)\n",
    "        final_item_emb = final_item_emb / torch.norm(final_item_emb, p=2, dim=1, keepdim=True)\n",
    "\n",
    "        return final_user_emb, final_item_emb"
   ]
  },
  {
   "cell_type": "code",
   "execution_count": 116,
   "id": "383f2777-5652-4d39-a111-9f8f71865f24",
   "metadata": {},
   "outputs": [],
   "source": [
    "from recpack.algorithms.base import TorchMLAlgorithm\n",
    "from recpack.matrix import Matrix\n",
    "from recpack.matrix.interaction_matrix import InteractionMatrix\n",
    "from recpack.algorithms.loss_functions import bpr_loss\n",
    "from recpack.algorithms.samplers import PositiveNegativeSampler\n",
    "from recpack.algorithms.stopping_criterion import (\n",
    "    EarlyStoppingException,\n",
    "    StoppingCriterion,\n",
    ")\n",
    "from typing import List, Tuple, Optional\n",
    "import numpy as np\n",
    "from scipy.sparse import csr_matrix, lil_matrix, coo_matrix\n",
    "import torch\n",
    "import torch.optim as optim\n",
    "import tempfile\n",
    "import time\n",
    "import logging\n",
    "\n",
    "logger = logging.getLogger(__name__)\n",
    "\n",
    "# PinSAGEAlgorithm: An implementation of the PinSAGE algorithm using TorchMLAlgorithm as a base class\n",
    "class PinSAGEAlgorithm(TorchMLAlgorithm):\n",
    "    def __init__(\n",
    "        self,\n",
    "        batch_size: int = 256,\n",
    "        max_epochs: int = 100,\n",
    "        learning_rate: float = 0.001,\n",
    "        embedding_dim: int = 64,\n",
    "        n_layers: int = 3,\n",
    "        dropout: float = 0.1,\n",
    "        stopping_criterion: str = \"bpr\",\n",
    "        stop_early: bool = True,\n",
    "        max_iter_no_change: int = 5,\n",
    "        min_improvement: float = 0.01,\n",
    "        seed: Optional[int] = None,\n",
    "        save_best_to_file: bool = False,\n",
    "        keep_last: bool = False,\n",
    "        predict_topK: Optional[int] = None,\n",
    "        validation_sample_size: Optional[int] = None,\n",
    "        grad_clip: float = 1.0,  # Gradient clipping value\n",
    "    ):\n",
    "        \"\"\"\n",
    "        Initialize the PinSAGEAlgorithm with various hyperparameters.\n",
    "\n",
    "        Args:\n",
    "            batch_size (int): Number of samples per batch.\n",
    "            max_epochs (int): Maximum number of training epochs.\n",
    "            learning_rate (float): Learning rate for the optimizer.\n",
    "            embedding_dim (int): Dimension of the embedding vectors.\n",
    "            n_layers (int): Number of PinSAGEConv layers.\n",
    "            dropout (float): Dropout rate for regularization.\n",
    "            stopping_criterion (str): Criterion to stop training early.\n",
    "            stop_early (bool): Whether to enable early stopping.\n",
    "            max_iter_no_change (int): Maximum iterations with no improvement for early stopping.\n",
    "            min_improvement (float): Minimum improvement required for early stopping.\n",
    "            seed (Optional[int]): Random seed for reproducibility.\n",
    "            save_best_to_file (bool): Whether to save the best model to a file.\n",
    "            keep_last (bool): Whether to keep the last model.\n",
    "            predict_topK (Optional[int]): Number of top-K predictions to consider.\n",
    "            validation_sample_size (Optional[int]): Size of the validation sample.\n",
    "            grad_clip (float): Maximum gradient norm for clipping.\n",
    "        \"\"\"\n",
    "        self.embedding_dim = embedding_dim\n",
    "        self.n_layers = n_layers\n",
    "        self.dropout = dropout\n",
    "        self.grad_clip = grad_clip\n",
    "        super().__init__(\n",
    "            batch_size=batch_size,\n",
    "            max_epochs=max_epochs,\n",
    "            learning_rate=learning_rate,\n",
    "            stopping_criterion=stopping_criterion,\n",
    "            stop_early=stop_early,\n",
    "            max_iter_no_change=max_iter_no_change,\n",
    "            min_improvement=min_improvement,\n",
    "            seed=seed,\n",
    "            save_best_to_file=save_best_to_file,\n",
    "            keep_last=keep_last,\n",
    "            predict_topK=predict_topK,\n",
    "            validation_sample_size=validation_sample_size,\n",
    "        )\n",
    "        self.device = torch.device('cuda' if torch.cuda.is_available() else 'cpu')\n",
    "\n",
    "    def _init_model(self, train: InteractionMatrix) -> None:\n",
    "        \"\"\"\n",
    "        Initialize the PinSAGE model and optimizer.\n",
    "\n",
    "        Args:\n",
    "            train (InteractionMatrix): The training interaction matrix.\n",
    "        \"\"\"\n",
    "        num_users, num_items = train.shape\n",
    "        self.model_ = PinSAGE(num_users, num_items, self.embedding_dim, self.n_layers, self.dropout).to(self.device)\n",
    "        self.optimizer = optim.Adam(self.model_.parameters(), lr=self.learning_rate)\n",
    "\n",
    "    def _create_sparse_graph(self, interaction_matrix: csr_matrix, num_users: int, num_items: int) -> SparseTensor:\n",
    "        \"\"\"\n",
    "        Create a sparse graph from the interaction matrix.\n",
    "\n",
    "        Args:\n",
    "            interaction_matrix (csr_matrix): The interaction matrix in CSR format.\n",
    "            num_users (int): Number of users.\n",
    "            num_items (int): Number of items.\n",
    "\n",
    "        Returns:\n",
    "            SparseTensor: A sparse tensor representing the graph.\n",
    "        \"\"\"\n",
    "        coo = interaction_matrix.tocoo()\n",
    "        row = torch.tensor(coo.row, dtype=torch.long)\n",
    "        col = torch.tensor(coo.col, dtype=torch.long)\n",
    "        value = torch.tensor(coo.data, dtype=torch.float32)\n",
    "        shape = (num_users + num_items, num_users + num_items)\n",
    "        graph = SparseTensor(row=row, col=col, value=value, sparse_sizes=shape).to(self.device)\n",
    "        return graph\n",
    "\n",
    "    def _train_epoch(self, train: InteractionMatrix) -> List[float]:\n",
    "        \"\"\"\n",
    "        Train the model for one epoch.\n",
    "\n",
    "        Args:\n",
    "            train (InteractionMatrix): The training interaction matrix.\n",
    "\n",
    "        Returns:\n",
    "            List[float]: A list of losses for each batch.\n",
    "        \"\"\"\n",
    "        self.model_.train()\n",
    "        interaction_matrix = train  # Get the sparse matrix directly\n",
    "        graph = self._create_sparse_graph(interaction_matrix, train.shape[0], train.shape[1])\n",
    "        total_loss = 0\n",
    "        losses = []\n",
    "\n",
    "        sampler = PositiveNegativeSampler(num_negatives=1, batch_size=self.batch_size)\n",
    "\n",
    "        # Iterate over samples generated by the PositiveNegativeSampler\n",
    "        for user_indices, pos_item_indices, neg_item_indices in sampler.sample(interaction_matrix):\n",
    "            user_indices = torch.tensor(user_indices).to(self.device)\n",
    "            pos_item_indices = torch.tensor(pos_item_indices).to(self.device)\n",
    "            neg_item_indices = torch.tensor(neg_item_indices).to(self.device).squeeze()\n",
    "\n",
    "            self.optimizer.zero_grad()\n",
    "            user_emb_final, item_emb_final = self.model_(graph)  # Call model only once\n",
    "            pos_scores = user_emb_final[user_indices] @ item_emb_final[pos_item_indices].t()\n",
    "            neg_scores = user_emb_final[user_indices] @ item_emb_final[neg_item_indices].t()\n",
    "\n",
    "            loss = bpr_loss(pos_scores, neg_scores)\n",
    "\n",
    "            if torch.isnan(loss).any() or torch.isinf(loss).any():\n",
    "                continue\n",
    "\n",
    "            loss.backward()\n",
    "            torch.nn.utils.clip_grad_norm_(self.model_.parameters(), max_norm=self.grad_clip)  # Gradient clipping\n",
    "            self.optimizer.step()\n",
    "\n",
    "            total_loss += loss.item()\n",
    "            losses.append(loss.item())\n",
    "\n",
    "        if len(losses) == 0:\n",
    "            return [float('nan')]\n",
    "\n",
    "        return losses\n",
    "\n",
    "    def _batch_predict(self, X: InteractionMatrix, users: List[int]) -> csr_matrix:\n",
    "        \"\"\"\n",
    "        Make batch predictions for a list of users.\n",
    "\n",
    "        Args:\n",
    "            X (InteractionMatrix): The interaction matrix.\n",
    "            users (List[int]): List of user indices to make predictions for.\n",
    "\n",
    "        Returns:\n",
    "            csr_matrix: A sparse matrix with the prediction scores.\n",
    "        \"\"\"\n",
    "        self.model_.eval()\n",
    "        graph = self._create_sparse_graph(X, X.shape[0], X.shape[1])\n",
    "        user_indices = torch.tensor(users).to(self.device)\n",
    "        item_indices = torch.arange(X.shape[1]).to(self.device)\n",
    "        \n",
    "        with torch.no_grad():\n",
    "            user_emb_final, item_emb_final = self.model_(graph)\n",
    "            scores = user_emb_final[user_indices] @ item_emb_final.t()\n",
    "            scores = scores.cpu().numpy()\n",
    "        \n",
    "        result = lil_matrix((X.shape[0], X.shape[1]))\n",
    "        for i, user in enumerate(users):\n",
    "            result[user] = scores[i]\n",
    "        \n",
    "        return result.tocsr()"
   ]
  },
  {
   "cell_type": "code",
   "execution_count": 5,
   "id": "e87fd90c-f8ae-4fcc-a455-90fb8f2335c2",
   "metadata": {},
   "outputs": [],
   "source": [
    "from recpack.datasets import Netflix, DummyDataset\n",
    "from recpack.pipelines import PipelineBuilder\n",
    "from recpack.scenarios import StrongGeneralization\n",
    "from recpack.pipelines import ALGORITHM_REGISTRY\n",
    "import pandas as pd"
   ]
  },
  {
   "cell_type": "code",
   "execution_count": 117,
   "id": "03a047ff-a58e-4ffb-bb09-247622834b08",
   "metadata": {},
   "outputs": [],
   "source": [
    "ALGORITHM_REGISTRY.register(\"PinSAGEAlgorithm16\", PinSAGEAlgorithm)"
   ]
  },
  {
   "cell_type": "markdown",
   "id": "c5ff3e39-c56c-4f2c-89ff-6da70d43421d",
   "metadata": {},
   "source": [
    "## RecPack Dataset Importing"
   ]
  },
  {
   "cell_type": "code",
   "execution_count": 120,
   "id": "288305e2-e570-4286-8468-c902e9d7ca25",
   "metadata": {},
   "outputs": [],
   "source": [
    "from recpack.datasets import MillionSongDataset\n",
    "dataset = MillionSongDataset()"
   ]
  },
  {
   "cell_type": "code",
   "execution_count": 121,
   "id": "9c73499f-1c14-4241-a0bd-e3412b4efd34",
   "metadata": {},
   "outputs": [],
   "source": [
    "dataset.fetch_dataset()"
   ]
  },
  {
   "cell_type": "code",
   "execution_count": 122,
   "id": "25bb2d15-0f4f-4142-8d5d-e06a6ea3c024",
   "metadata": {},
   "outputs": [
    {
     "data": {
      "text/plain": [
       "<recpack.datasets.million_song_dataset.MillionSongDataset at 0x7f8ee3caa750>"
      ]
     },
     "execution_count": 122,
     "metadata": {},
     "output_type": "execute_result"
    }
   ],
   "source": [
    "dataset"
   ]
  },
  {
   "cell_type": "code",
   "execution_count": 123,
   "id": "a290f199-0a3d-4c2b-bc30-c82b5254ab34",
   "metadata": {},
   "outputs": [],
   "source": [
    "df = dataset._load_dataframe()"
   ]
  },
  {
   "cell_type": "markdown",
   "id": "abed6b96-547b-4464-83fe-c98d77a97e6c",
   "metadata": {},
   "source": [
    "## Datasets without Timestamps sampling"
   ]
  },
  {
   "cell_type": "code",
   "execution_count": 124,
   "id": "e183954e-dfdd-4571-aa21-600b7c061d4b",
   "metadata": {},
   "outputs": [],
   "source": [
    "# Count interactions per user and per song\n",
    "user_interactions = df['userId'].value_counts().reset_index()\n",
    "user_interactions.columns = ['userId', 'user_interactions']\n",
    "\n",
    "song_interactions = df['songId'].value_counts().reset_index()\n",
    "song_interactions.columns = ['songId', 'song_interactions']\n",
    "\n",
    "# Merge the interaction counts back to the original dataframe\n",
    "df = df.merge(user_interactions, on='userId')\n",
    "df = df.merge(song_interactions, on='songId')\n",
    "\n",
    "# Calculate a combined interaction score\n",
    "df['interaction_score'] = df['user_interactions'] + df['song_interactions']\n",
    "\n",
    "# Rank based on the interaction score\n",
    "df['rank'] = df['interaction_score'].rank(method='first', ascending=False)\n",
    "\n",
    "# Select the top 10%\n",
    "filtered_df = df[df['rank'] <= len(df) * 0.1]\n",
    "\n",
    "# Drop helper columns\n",
    "filtered_df = filtered_df.drop(columns=['user_interactions', 'song_interactions', 'interaction_score', 'rank'])"
   ]
  },
  {
   "cell_type": "code",
   "execution_count": 125,
   "id": "877cfa8a-c9d3-4436-8a74-5009b026f266",
   "metadata": {},
   "outputs": [
    {
     "data": {
      "text/html": [
       "<div>\n",
       "<style scoped>\n",
       "    .dataframe tbody tr th:only-of-type {\n",
       "        vertical-align: middle;\n",
       "    }\n",
       "\n",
       "    .dataframe tbody tr th {\n",
       "        vertical-align: top;\n",
       "    }\n",
       "\n",
       "    .dataframe thead th {\n",
       "        text-align: right;\n",
       "    }\n",
       "</style>\n",
       "<table border=\"1\" class=\"dataframe\">\n",
       "  <thead>\n",
       "    <tr style=\"text-align: right;\">\n",
       "      <th></th>\n",
       "      <th>userId</th>\n",
       "      <th>songId</th>\n",
       "      <th>user_interactions</th>\n",
       "      <th>song_interactions</th>\n",
       "      <th>interaction_score</th>\n",
       "      <th>rank</th>\n",
       "    </tr>\n",
       "  </thead>\n",
       "  <tbody>\n",
       "    <tr>\n",
       "      <th>0</th>\n",
       "      <td>b80344d063b5ccb3212f76538f3d9e43d87dca9e</td>\n",
       "      <td>SOAKIMP12A8C130995</td>\n",
       "      <td>142</td>\n",
       "      <td>6698</td>\n",
       "      <td>6840</td>\n",
       "      <td>55439149.0</td>\n",
       "    </tr>\n",
       "    <tr>\n",
       "      <th>1</th>\n",
       "      <td>b80344d063b5ccb3212f76538f3d9e43d87dca9e</td>\n",
       "      <td>SOAPDEY12A81C210A9</td>\n",
       "      <td>142</td>\n",
       "      <td>2012</td>\n",
       "      <td>2154</td>\n",
       "      <td>91117622.0</td>\n",
       "    </tr>\n",
       "    <tr>\n",
       "      <th>2</th>\n",
       "      <td>b80344d063b5ccb3212f76538f3d9e43d87dca9e</td>\n",
       "      <td>SOBBMDR12A8C13253B</td>\n",
       "      <td>142</td>\n",
       "      <td>6383</td>\n",
       "      <td>6525</td>\n",
       "      <td>56840187.0</td>\n",
       "    </tr>\n",
       "    <tr>\n",
       "      <th>3</th>\n",
       "      <td>b80344d063b5ccb3212f76538f3d9e43d87dca9e</td>\n",
       "      <td>SOBBMDR12A8C13253B</td>\n",
       "      <td>142</td>\n",
       "      <td>6383</td>\n",
       "      <td>6525</td>\n",
       "      <td>56840188.0</td>\n",
       "    </tr>\n",
       "    <tr>\n",
       "      <th>4</th>\n",
       "      <td>b80344d063b5ccb3212f76538f3d9e43d87dca9e</td>\n",
       "      <td>SOBFNSP12AF72A0E22</td>\n",
       "      <td>142</td>\n",
       "      <td>687</td>\n",
       "      <td>829</td>\n",
       "      <td>117735248.0</td>\n",
       "    </tr>\n",
       "    <tr>\n",
       "      <th>...</th>\n",
       "      <td>...</td>\n",
       "      <td>...</td>\n",
       "      <td>...</td>\n",
       "      <td>...</td>\n",
       "      <td>...</td>\n",
       "      <td>...</td>\n",
       "    </tr>\n",
       "    <tr>\n",
       "      <th>138680238</th>\n",
       "      <td>b7815dbb206eb2831ce0fe040d0aa537e2e800f7</td>\n",
       "      <td>SOUSMXX12AB0185C24</td>\n",
       "      <td>56</td>\n",
       "      <td>155529</td>\n",
       "      <td>155585</td>\n",
       "      <td>6266409.0</td>\n",
       "    </tr>\n",
       "    <tr>\n",
       "      <th>138680239</th>\n",
       "      <td>b7815dbb206eb2831ce0fe040d0aa537e2e800f7</td>\n",
       "      <td>SOWYSKH12AF72A303A</td>\n",
       "      <td>56</td>\n",
       "      <td>3306</td>\n",
       "      <td>3362</td>\n",
       "      <td>77443084.0</td>\n",
       "    </tr>\n",
       "    <tr>\n",
       "      <th>138680240</th>\n",
       "      <td>b7815dbb206eb2831ce0fe040d0aa537e2e800f7</td>\n",
       "      <td>SOWYSKH12AF72A303A</td>\n",
       "      <td>56</td>\n",
       "      <td>3306</td>\n",
       "      <td>3362</td>\n",
       "      <td>77443085.0</td>\n",
       "    </tr>\n",
       "    <tr>\n",
       "      <th>138680241</th>\n",
       "      <td>b7815dbb206eb2831ce0fe040d0aa537e2e800f7</td>\n",
       "      <td>SOWYSKH12AF72A303A</td>\n",
       "      <td>56</td>\n",
       "      <td>3306</td>\n",
       "      <td>3362</td>\n",
       "      <td>77443086.0</td>\n",
       "    </tr>\n",
       "    <tr>\n",
       "      <th>138680242</th>\n",
       "      <td>b7815dbb206eb2831ce0fe040d0aa537e2e800f7</td>\n",
       "      <td>SOYYFLV12A58A7A88F</td>\n",
       "      <td>56</td>\n",
       "      <td>11180</td>\n",
       "      <td>11236</td>\n",
       "      <td>41942670.0</td>\n",
       "    </tr>\n",
       "  </tbody>\n",
       "</table>\n",
       "<p>138680243 rows × 6 columns</p>\n",
       "</div>"
      ],
      "text/plain": [
       "                                             userId              songId  \\\n",
       "0          b80344d063b5ccb3212f76538f3d9e43d87dca9e  SOAKIMP12A8C130995   \n",
       "1          b80344d063b5ccb3212f76538f3d9e43d87dca9e  SOAPDEY12A81C210A9   \n",
       "2          b80344d063b5ccb3212f76538f3d9e43d87dca9e  SOBBMDR12A8C13253B   \n",
       "3          b80344d063b5ccb3212f76538f3d9e43d87dca9e  SOBBMDR12A8C13253B   \n",
       "4          b80344d063b5ccb3212f76538f3d9e43d87dca9e  SOBFNSP12AF72A0E22   \n",
       "...                                             ...                 ...   \n",
       "138680238  b7815dbb206eb2831ce0fe040d0aa537e2e800f7  SOUSMXX12AB0185C24   \n",
       "138680239  b7815dbb206eb2831ce0fe040d0aa537e2e800f7  SOWYSKH12AF72A303A   \n",
       "138680240  b7815dbb206eb2831ce0fe040d0aa537e2e800f7  SOWYSKH12AF72A303A   \n",
       "138680241  b7815dbb206eb2831ce0fe040d0aa537e2e800f7  SOWYSKH12AF72A303A   \n",
       "138680242  b7815dbb206eb2831ce0fe040d0aa537e2e800f7  SOYYFLV12A58A7A88F   \n",
       "\n",
       "           user_interactions  song_interactions  interaction_score  \\\n",
       "0                        142               6698               6840   \n",
       "1                        142               2012               2154   \n",
       "2                        142               6383               6525   \n",
       "3                        142               6383               6525   \n",
       "4                        142                687                829   \n",
       "...                      ...                ...                ...   \n",
       "138680238                 56             155529             155585   \n",
       "138680239                 56               3306               3362   \n",
       "138680240                 56               3306               3362   \n",
       "138680241                 56               3306               3362   \n",
       "138680242                 56              11180              11236   \n",
       "\n",
       "                  rank  \n",
       "0           55439149.0  \n",
       "1           91117622.0  \n",
       "2           56840187.0  \n",
       "3           56840188.0  \n",
       "4          117735248.0  \n",
       "...                ...  \n",
       "138680238    6266409.0  \n",
       "138680239   77443084.0  \n",
       "138680240   77443085.0  \n",
       "138680241   77443086.0  \n",
       "138680242   41942670.0  \n",
       "\n",
       "[138680243 rows x 6 columns]"
      ]
     },
     "execution_count": 125,
     "metadata": {},
     "output_type": "execute_result"
    }
   ],
   "source": [
    "df"
   ]
  },
  {
   "cell_type": "code",
   "execution_count": 126,
   "id": "75315c82-bb45-4090-8d92-87e16d42f204",
   "metadata": {},
   "outputs": [
    {
     "data": {
      "text/html": [
       "<div>\n",
       "<style scoped>\n",
       "    .dataframe tbody tr th:only-of-type {\n",
       "        vertical-align: middle;\n",
       "    }\n",
       "\n",
       "    .dataframe tbody tr th {\n",
       "        vertical-align: top;\n",
       "    }\n",
       "\n",
       "    .dataframe thead th {\n",
       "        text-align: right;\n",
       "    }\n",
       "</style>\n",
       "<table border=\"1\" class=\"dataframe\">\n",
       "  <thead>\n",
       "    <tr style=\"text-align: right;\">\n",
       "      <th></th>\n",
       "      <th>userId</th>\n",
       "      <th>songId</th>\n",
       "    </tr>\n",
       "  </thead>\n",
       "  <tbody>\n",
       "    <tr>\n",
       "      <th>28</th>\n",
       "      <td>b80344d063b5ccb3212f76538f3d9e43d87dca9e</td>\n",
       "      <td>SOFRQTD12A81C233C0</td>\n",
       "    </tr>\n",
       "    <tr>\n",
       "      <th>59</th>\n",
       "      <td>b80344d063b5ccb3212f76538f3d9e43d87dca9e</td>\n",
       "      <td>SOMGIYR12AB0187973</td>\n",
       "    </tr>\n",
       "    <tr>\n",
       "      <th>60</th>\n",
       "      <td>b80344d063b5ccb3212f76538f3d9e43d87dca9e</td>\n",
       "      <td>SOMGIYR12AB0187973</td>\n",
       "    </tr>\n",
       "    <tr>\n",
       "      <th>61</th>\n",
       "      <td>b80344d063b5ccb3212f76538f3d9e43d87dca9e</td>\n",
       "      <td>SOMGIYR12AB0187973</td>\n",
       "    </tr>\n",
       "    <tr>\n",
       "      <th>62</th>\n",
       "      <td>b80344d063b5ccb3212f76538f3d9e43d87dca9e</td>\n",
       "      <td>SOMGIYR12AB0187973</td>\n",
       "    </tr>\n",
       "    <tr>\n",
       "      <th>...</th>\n",
       "      <td>...</td>\n",
       "      <td>...</td>\n",
       "    </tr>\n",
       "    <tr>\n",
       "      <th>138680210</th>\n",
       "      <td>b7815dbb206eb2831ce0fe040d0aa537e2e800f7</td>\n",
       "      <td>SOOFYTN12A6D4F9B35</td>\n",
       "    </tr>\n",
       "    <tr>\n",
       "      <th>138680211</th>\n",
       "      <td>b7815dbb206eb2831ce0fe040d0aa537e2e800f7</td>\n",
       "      <td>SOOFYTN12A6D4F9B35</td>\n",
       "    </tr>\n",
       "    <tr>\n",
       "      <th>138680212</th>\n",
       "      <td>b7815dbb206eb2831ce0fe040d0aa537e2e800f7</td>\n",
       "      <td>SOOFYTN12A6D4F9B35</td>\n",
       "    </tr>\n",
       "    <tr>\n",
       "      <th>138680237</th>\n",
       "      <td>b7815dbb206eb2831ce0fe040d0aa537e2e800f7</td>\n",
       "      <td>SOUJVIT12A8C1451C1</td>\n",
       "    </tr>\n",
       "    <tr>\n",
       "      <th>138680238</th>\n",
       "      <td>b7815dbb206eb2831ce0fe040d0aa537e2e800f7</td>\n",
       "      <td>SOUSMXX12AB0185C24</td>\n",
       "    </tr>\n",
       "  </tbody>\n",
       "</table>\n",
       "<p>13868024 rows × 2 columns</p>\n",
       "</div>"
      ],
      "text/plain": [
       "                                             userId              songId\n",
       "28         b80344d063b5ccb3212f76538f3d9e43d87dca9e  SOFRQTD12A81C233C0\n",
       "59         b80344d063b5ccb3212f76538f3d9e43d87dca9e  SOMGIYR12AB0187973\n",
       "60         b80344d063b5ccb3212f76538f3d9e43d87dca9e  SOMGIYR12AB0187973\n",
       "61         b80344d063b5ccb3212f76538f3d9e43d87dca9e  SOMGIYR12AB0187973\n",
       "62         b80344d063b5ccb3212f76538f3d9e43d87dca9e  SOMGIYR12AB0187973\n",
       "...                                             ...                 ...\n",
       "138680210  b7815dbb206eb2831ce0fe040d0aa537e2e800f7  SOOFYTN12A6D4F9B35\n",
       "138680211  b7815dbb206eb2831ce0fe040d0aa537e2e800f7  SOOFYTN12A6D4F9B35\n",
       "138680212  b7815dbb206eb2831ce0fe040d0aa537e2e800f7  SOOFYTN12A6D4F9B35\n",
       "138680237  b7815dbb206eb2831ce0fe040d0aa537e2e800f7  SOUJVIT12A8C1451C1\n",
       "138680238  b7815dbb206eb2831ce0fe040d0aa537e2e800f7  SOUSMXX12AB0185C24\n",
       "\n",
       "[13868024 rows x 2 columns]"
      ]
     },
     "execution_count": 126,
     "metadata": {},
     "output_type": "execute_result"
    }
   ],
   "source": [
    "filtered_df"
   ]
  },
  {
   "cell_type": "markdown",
   "id": "9b80a069-f602-4dbe-b6dd-a0b93c2660df",
   "metadata": {},
   "source": [
    "## Dataset Preprocessing to Interaction Matrix"
   ]
  },
  {
   "cell_type": "code",
   "execution_count": 127,
   "id": "7224c285-27bf-40e5-b0a6-b1dca7431d16",
   "metadata": {},
   "outputs": [
    {
     "data": {
      "application/vnd.jupyter.widget-view+json": {
       "model_id": "cd7a4015d7ea4639bbcf9d3e45c69e5a",
       "version_major": 2,
       "version_minor": 0
      },
      "text/plain": [
       "  0%|          | 0/13868024 [00:00<?, ?it/s]"
      ]
     },
     "metadata": {},
     "output_type": "display_data"
    },
    {
     "data": {
      "application/vnd.jupyter.widget-view+json": {
       "model_id": "7063bcb80fc346c68235106a58eb77fd",
       "version_major": 2,
       "version_minor": 0
      },
      "text/plain": [
       "  0%|          | 0/13868024 [00:00<?, ?it/s]"
      ]
     },
     "metadata": {},
     "output_type": "display_data"
    }
   ],
   "source": [
    "from recpack.matrix import InteractionMatrix\n",
    "from recpack.preprocessing.preprocessors import DataFramePreprocessor\n",
    "item_ix = 'songId'\n",
    "user_ix = 'userId'\n",
    "\n",
    "preprocessor = DataFramePreprocessor(item_ix=item_ix, user_ix=user_ix)\n",
    "interaction_matrix = preprocessor.process(filtered_df)"
   ]
  },
  {
   "cell_type": "markdown",
   "id": "2fc24d14-67d1-4bef-b07b-1c73e3ee3f37",
   "metadata": {},
   "source": [
    "## StrongGeneralization Scenario Splitting of Data"
   ]
  },
  {
   "cell_type": "code",
   "execution_count": 128,
   "id": "aa72bb09-e745-4c5f-b4b3-88785f8a96b1",
   "metadata": {},
   "outputs": [
    {
     "data": {
      "application/vnd.jupyter.widget-view+json": {
       "model_id": "c5415bf8b3624857be8f8f46a5fd82fd",
       "version_major": 2,
       "version_minor": 0
      },
      "text/plain": [
       "0it [00:00, ?it/s]"
      ]
     },
     "metadata": {},
     "output_type": "display_data"
    },
    {
     "data": {
      "application/vnd.jupyter.widget-view+json": {
       "model_id": "0d56f2bb4c4d4d6e8db65e78ed5de702",
       "version_major": 2,
       "version_minor": 0
      },
      "text/plain": [
       "0it [00:00, ?it/s]"
      ]
     },
     "metadata": {},
     "output_type": "display_data"
    }
   ],
   "source": [
    "scenario = StrongGeneralization(frac_users_train=0.7, frac_interactions_in=0.8, validation=True)\n",
    "scenario.split(interaction_matrix)"
   ]
  },
  {
   "cell_type": "markdown",
   "id": "e9b7a03c-8402-486c-b57a-1be4ede559d8",
   "metadata": {},
   "source": [
    "## Experimental RecPack Pipeline"
   ]
  },
  {
   "cell_type": "code",
   "execution_count": 129,
   "id": "40f6a5b5-4f21-49ee-a96e-f7e375031134",
   "metadata": {},
   "outputs": [
    {
     "name": "stderr",
     "output_type": "stream",
     "text": [
      "/opt/conda/lib/python3.11/site-packages/recpack/pipelines/pipeline_builder.py:145: UserWarning: Grid parameter for add_algorithm function will be deprecated in favour of optimisation_info.\n",
      "  warnings.warn(\n"
     ]
    },
    {
     "data": {
      "application/vnd.jupyter.widget-view+json": {
       "model_id": "332aa5091c024347ad91d78910914861",
       "version_major": 2,
       "version_minor": 0
      },
      "text/plain": [
       "  0%|          | 0/1 [00:00<?, ?it/s]"
      ]
     },
     "metadata": {},
     "output_type": "display_data"
    },
    {
     "name": "stderr",
     "output_type": "stream",
     "text": [
      "/tmp/ipykernel_579/2405251189.py:85: UserWarning: To copy construct from a tensor, it is recommended to use sourceTensor.clone().detach() or sourceTensor.clone().detach().requires_grad_(True), rather than torch.tensor(sourceTensor).\n",
      "  user_indices = torch.tensor(user_indices).to(self.device)\n",
      "/tmp/ipykernel_579/2405251189.py:86: UserWarning: To copy construct from a tensor, it is recommended to use sourceTensor.clone().detach() or sourceTensor.clone().detach().requires_grad_(True), rather than torch.tensor(sourceTensor).\n",
      "  pos_item_indices = torch.tensor(pos_item_indices).to(self.device)\n",
      "/tmp/ipykernel_579/2405251189.py:87: UserWarning: To copy construct from a tensor, it is recommended to use sourceTensor.clone().detach() or sourceTensor.clone().detach().requires_grad_(True), rather than torch.tensor(sourceTensor).\n",
      "  neg_item_indices = torch.tensor(neg_item_indices).to(self.device).squeeze()\n"
     ]
    },
    {
     "name": "stdout",
     "output_type": "stream",
     "text": [
      "2024-08-02 13:24:30,100 - base - recpack - INFO - Processed epoch 0 in 233.16 s.Batch Training Loss = 0.6021\n",
      "2024-08-02 13:27:38,075 - stopping_criterion - recpack - INFO - StoppingCriterion has value 0.6040709028655837, which is better than previous iterations.\n",
      "2024-08-02 13:27:38,077 - base - recpack - INFO - Model improved. Storing better model.\n",
      "2024-08-02 13:27:38,670 - base - recpack - INFO - Evaluation at end of 0 took 188.57 s.\n",
      "2024-08-02 13:31:30,884 - base - recpack - INFO - Processed epoch 1 in 232.21 s.Batch Training Loss = 0.6016\n",
      "2024-08-02 13:34:42,009 - stopping_criterion - recpack - INFO - StoppingCriterion has value 0.6035805572514483, which is worse than previous iterations.\n",
      "2024-08-02 13:34:42,011 - base - recpack - INFO - Evaluation at end of 1 took 191.12 s.\n",
      "2024-08-02 13:38:34,720 - base - recpack - INFO - Processed epoch 2 in 232.71 s.Batch Training Loss = 0.6015\n",
      "2024-08-02 13:41:50,089 - stopping_criterion - recpack - INFO - StoppingCriterion has value 0.6036510163870465, which is worse than previous iterations.\n",
      "2024-08-02 13:41:50,092 - base - recpack - INFO - Evaluation at end of 2 took 195.37 s.\n",
      "2024-08-02 13:45:43,146 - base - recpack - INFO - Processed epoch 3 in 233.05 s.Batch Training Loss = 0.6015\n",
      "2024-08-02 13:49:01,420 - stopping_criterion - recpack - INFO - StoppingCriterion has value 0.6031490810312338, which is worse than previous iterations.\n",
      "2024-08-02 13:49:01,425 - base - recpack - INFO - Evaluation at end of 3 took 198.28 s.\n",
      "2024-08-02 13:52:53,777 - base - recpack - INFO - Processed epoch 4 in 232.35 s.Batch Training Loss = 0.6012\n",
      "2024-08-02 13:56:08,923 - stopping_criterion - recpack - INFO - StoppingCriterion has value 0.6035383414375503, which is worse than previous iterations.\n",
      "2024-08-02 13:56:08,925 - base - recpack - INFO - Evaluation at end of 4 took 195.15 s.\n"
     ]
    },
    {
     "name": "stderr",
     "output_type": "stream",
     "text": [
      "/opt/conda/lib/python3.11/site-packages/recpack/algorithms/base.py:509: FutureWarning: You are using `torch.load` with `weights_only=False` (the current default value), which uses the default pickle module implicitly. It is possible to construct malicious pickle data which will execute arbitrary code during unpickling (See https://github.com/pytorch/pytorch/blob/main/SECURITY.md#untrusted-models for more details). In a future release, the default value for `weights_only` will be flipped to `True`. This limits the functions that could be executed during unpickling. Arbitrary objects will no longer be allowed to be loaded via this mode unless they are explicitly allowlisted by the user via `torch.serialization.add_safe_globals`. We recommend you start setting `weights_only=True` for any use case where you don't have full control of the loaded file. Please open an issue on GitHub for any issues related to this experimental feature.\n",
      "  self.model_ = torch.load(self.best_model)\n"
     ]
    },
    {
     "name": "stdout",
     "output_type": "stream",
     "text": [
      "2024-08-02 13:56:09,248 - base - recpack - INFO - Fitting PinSAGEAlgorithm complete - Took 2.13e+03s\n"
     ]
    },
    {
     "name": "stderr",
     "output_type": "stream",
     "text": [
      "/tmp/ipykernel_579/2405251189.py:85: UserWarning: To copy construct from a tensor, it is recommended to use sourceTensor.clone().detach() or sourceTensor.clone().detach().requires_grad_(True), rather than torch.tensor(sourceTensor).\n",
      "  user_indices = torch.tensor(user_indices).to(self.device)\n",
      "/tmp/ipykernel_579/2405251189.py:86: UserWarning: To copy construct from a tensor, it is recommended to use sourceTensor.clone().detach() or sourceTensor.clone().detach().requires_grad_(True), rather than torch.tensor(sourceTensor).\n",
      "  pos_item_indices = torch.tensor(pos_item_indices).to(self.device)\n",
      "/tmp/ipykernel_579/2405251189.py:87: UserWarning: To copy construct from a tensor, it is recommended to use sourceTensor.clone().detach() or sourceTensor.clone().detach().requires_grad_(True), rather than torch.tensor(sourceTensor).\n",
      "  neg_item_indices = torch.tensor(neg_item_indices).to(self.device).squeeze()\n"
     ]
    },
    {
     "name": "stdout",
     "output_type": "stream",
     "text": [
      "2024-08-02 14:03:25,889 - base - recpack - INFO - Processed epoch 0 in 231.78 s.Batch Training Loss = 0.6021\n",
      "2024-08-02 14:06:41,895 - stopping_criterion - recpack - INFO - StoppingCriterion has value 0.6042479317261902, which is better than previous iterations.\n",
      "2024-08-02 14:06:41,897 - base - recpack - INFO - Model improved. Storing better model.\n",
      "2024-08-02 14:06:42,486 - base - recpack - INFO - Evaluation at end of 0 took 196.59 s.\n",
      "2024-08-02 14:10:34,643 - base - recpack - INFO - Processed epoch 1 in 232.16 s.Batch Training Loss = 0.6014\n",
      "2024-08-02 14:13:47,859 - stopping_criterion - recpack - INFO - StoppingCriterion has value 0.6034940289293175, which is worse than previous iterations.\n",
      "2024-08-02 14:13:47,861 - base - recpack - INFO - Evaluation at end of 1 took 193.21 s.\n",
      "2024-08-02 14:17:40,283 - base - recpack - INFO - Processed epoch 2 in 232.42 s.Batch Training Loss = 0.6017\n",
      "2024-08-02 14:20:53,820 - stopping_criterion - recpack - INFO - StoppingCriterion has value 0.6034727934468457, which is worse than previous iterations.\n",
      "2024-08-02 14:20:53,821 - base - recpack - INFO - Evaluation at end of 2 took 193.53 s.\n",
      "2024-08-02 14:24:46,099 - base - recpack - INFO - Processed epoch 3 in 232.28 s.Batch Training Loss = 0.6014\n",
      "2024-08-02 14:27:59,504 - stopping_criterion - recpack - INFO - StoppingCriterion has value 0.604080468258583, which is worse than previous iterations.\n",
      "2024-08-02 14:27:59,506 - base - recpack - INFO - Evaluation at end of 3 took 193.40 s.\n",
      "2024-08-02 14:31:52,132 - base - recpack - INFO - Processed epoch 4 in 232.63 s.Batch Training Loss = 0.6014\n",
      "2024-08-02 14:35:05,797 - stopping_criterion - recpack - INFO - StoppingCriterion has value 0.6038471723799996, which is worse than previous iterations.\n",
      "2024-08-02 14:35:05,799 - base - recpack - INFO - Evaluation at end of 4 took 193.66 s.\n"
     ]
    },
    {
     "name": "stderr",
     "output_type": "stream",
     "text": [
      "/opt/conda/lib/python3.11/site-packages/recpack/algorithms/base.py:509: FutureWarning: You are using `torch.load` with `weights_only=False` (the current default value), which uses the default pickle module implicitly. It is possible to construct malicious pickle data which will execute arbitrary code during unpickling (See https://github.com/pytorch/pytorch/blob/main/SECURITY.md#untrusted-models for more details). In a future release, the default value for `weights_only` will be flipped to `True`. This limits the functions that could be executed during unpickling. Arbitrary objects will no longer be allowed to be loaded via this mode unless they are explicitly allowlisted by the user via `torch.serialization.add_safe_globals`. We recommend you start setting `weights_only=True` for any use case where you don't have full control of the loaded file. Please open an issue on GitHub for any issues related to this experimental feature.\n",
      "  self.model_ = torch.load(self.best_model)\n"
     ]
    },
    {
     "name": "stdout",
     "output_type": "stream",
     "text": [
      "2024-08-02 14:35:06,136 - base - recpack - INFO - Fitting PinSAGEAlgorithm complete - Took 2.14e+03s\n"
     ]
    },
    {
     "name": "stderr",
     "output_type": "stream",
     "text": [
      "/tmp/ipykernel_579/2405251189.py:85: UserWarning: To copy construct from a tensor, it is recommended to use sourceTensor.clone().detach() or sourceTensor.clone().detach().requires_grad_(True), rather than torch.tensor(sourceTensor).\n",
      "  user_indices = torch.tensor(user_indices).to(self.device)\n",
      "/tmp/ipykernel_579/2405251189.py:86: UserWarning: To copy construct from a tensor, it is recommended to use sourceTensor.clone().detach() or sourceTensor.clone().detach().requires_grad_(True), rather than torch.tensor(sourceTensor).\n",
      "  pos_item_indices = torch.tensor(pos_item_indices).to(self.device)\n",
      "/tmp/ipykernel_579/2405251189.py:87: UserWarning: To copy construct from a tensor, it is recommended to use sourceTensor.clone().detach() or sourceTensor.clone().detach().requires_grad_(True), rather than torch.tensor(sourceTensor).\n",
      "  neg_item_indices = torch.tensor(neg_item_indices).to(self.device).squeeze()\n"
     ]
    },
    {
     "name": "stdout",
     "output_type": "stream",
     "text": [
      "2024-08-02 14:42:23,197 - base - recpack - INFO - Processed epoch 0 in 232.04 s.Batch Training Loss = 0.6028\n",
      "2024-08-02 14:45:38,155 - stopping_criterion - recpack - INFO - StoppingCriterion has value 0.6023080691371367, which is better than previous iterations.\n",
      "2024-08-02 14:45:38,156 - base - recpack - INFO - Model improved. Storing better model.\n",
      "2024-08-02 14:45:38,734 - base - recpack - INFO - Evaluation at end of 0 took 195.53 s.\n",
      "2024-08-02 14:49:30,952 - base - recpack - INFO - Processed epoch 1 in 232.22 s.Batch Training Loss = 0.6015\n",
      "2024-08-02 14:52:45,974 - stopping_criterion - recpack - INFO - StoppingCriterion has value 0.6020454846556061, which is worse than previous iterations.\n",
      "2024-08-02 14:52:45,976 - base - recpack - INFO - Evaluation at end of 1 took 195.02 s.\n",
      "2024-08-02 14:56:38,005 - base - recpack - INFO - Processed epoch 2 in 232.03 s.Batch Training Loss = 0.6013\n",
      "2024-08-02 14:59:55,715 - stopping_criterion - recpack - INFO - StoppingCriterion has value 0.6024209279839764, which is worse than previous iterations.\n",
      "2024-08-02 14:59:55,717 - base - recpack - INFO - Evaluation at end of 2 took 197.71 s.\n",
      "2024-08-02 15:03:48,119 - base - recpack - INFO - Processed epoch 3 in 232.40 s.Batch Training Loss = 0.6015\n",
      "2024-08-02 15:07:03,056 - stopping_criterion - recpack - INFO - StoppingCriterion has value 0.6026590930435862, which is worse than previous iterations.\n",
      "2024-08-02 15:07:03,058 - base - recpack - INFO - Evaluation at end of 3 took 194.94 s.\n",
      "2024-08-02 15:10:55,084 - base - recpack - INFO - Processed epoch 4 in 232.03 s.Batch Training Loss = 0.6017\n",
      "2024-08-02 15:14:16,120 - stopping_criterion - recpack - INFO - StoppingCriterion has value 0.6032233025859637, which is worse than previous iterations.\n",
      "2024-08-02 15:14:16,122 - base - recpack - INFO - Evaluation at end of 4 took 201.04 s.\n"
     ]
    },
    {
     "name": "stderr",
     "output_type": "stream",
     "text": [
      "/opt/conda/lib/python3.11/site-packages/recpack/algorithms/base.py:509: FutureWarning: You are using `torch.load` with `weights_only=False` (the current default value), which uses the default pickle module implicitly. It is possible to construct malicious pickle data which will execute arbitrary code during unpickling (See https://github.com/pytorch/pytorch/blob/main/SECURITY.md#untrusted-models for more details). In a future release, the default value for `weights_only` will be flipped to `True`. This limits the functions that could be executed during unpickling. Arbitrary objects will no longer be allowed to be loaded via this mode unless they are explicitly allowlisted by the user via `torch.serialization.add_safe_globals`. We recommend you start setting `weights_only=True` for any use case where you don't have full control of the loaded file. Please open an issue on GitHub for any issues related to this experimental feature.\n",
      "  self.model_ = torch.load(self.best_model)\n"
     ]
    },
    {
     "name": "stdout",
     "output_type": "stream",
     "text": [
      "2024-08-02 15:14:16,445 - base - recpack - INFO - Fitting PinSAGEAlgorithm complete - Took 2.15e+03s\n"
     ]
    },
    {
     "name": "stderr",
     "output_type": "stream",
     "text": [
      "/tmp/ipykernel_579/2405251189.py:85: UserWarning: To copy construct from a tensor, it is recommended to use sourceTensor.clone().detach() or sourceTensor.clone().detach().requires_grad_(True), rather than torch.tensor(sourceTensor).\n",
      "  user_indices = torch.tensor(user_indices).to(self.device)\n",
      "/tmp/ipykernel_579/2405251189.py:86: UserWarning: To copy construct from a tensor, it is recommended to use sourceTensor.clone().detach() or sourceTensor.clone().detach().requires_grad_(True), rather than torch.tensor(sourceTensor).\n",
      "  pos_item_indices = torch.tensor(pos_item_indices).to(self.device)\n",
      "/tmp/ipykernel_579/2405251189.py:87: UserWarning: To copy construct from a tensor, it is recommended to use sourceTensor.clone().detach() or sourceTensor.clone().detach().requires_grad_(True), rather than torch.tensor(sourceTensor).\n",
      "  neg_item_indices = torch.tensor(neg_item_indices).to(self.device).squeeze()\n"
     ]
    },
    {
     "name": "stdout",
     "output_type": "stream",
     "text": [
      "2024-08-02 15:24:31,035 - base - recpack - INFO - Processed epoch 0 in 407.42 s.Batch Training Loss = 0.6022\n",
      "2024-08-02 15:27:48,588 - stopping_criterion - recpack - INFO - StoppingCriterion has value 0.6031040137510385, which is better than previous iterations.\n",
      "2024-08-02 15:27:48,590 - base - recpack - INFO - Model improved. Storing better model.\n",
      "2024-08-02 15:27:49,769 - base - recpack - INFO - Evaluation at end of 0 took 198.73 s.\n",
      "2024-08-02 15:34:37,590 - base - recpack - INFO - Processed epoch 1 in 407.82 s.Batch Training Loss = 0.6015\n",
      "2024-08-02 15:37:55,526 - stopping_criterion - recpack - INFO - StoppingCriterion has value 0.6030987599678811, which is worse than previous iterations.\n",
      "2024-08-02 15:37:55,528 - base - recpack - INFO - Evaluation at end of 1 took 197.94 s.\n",
      "2024-08-02 15:44:43,082 - base - recpack - INFO - Processed epoch 2 in 407.55 s.Batch Training Loss = 0.6015\n",
      "2024-08-02 15:48:01,561 - stopping_criterion - recpack - INFO - StoppingCriterion has value 0.6042728705532949, which is worse than previous iterations.\n",
      "2024-08-02 15:48:01,563 - base - recpack - INFO - Evaluation at end of 2 took 198.48 s.\n",
      "2024-08-02 15:54:49,000 - base - recpack - INFO - Processed epoch 3 in 407.44 s.Batch Training Loss = 0.6014\n",
      "2024-08-02 15:58:05,983 - stopping_criterion - recpack - INFO - StoppingCriterion has value 0.6034228770731879, which is worse than previous iterations.\n",
      "2024-08-02 15:58:05,985 - base - recpack - INFO - Evaluation at end of 3 took 196.98 s.\n",
      "2024-08-02 16:04:53,211 - base - recpack - INFO - Processed epoch 4 in 407.22 s.Batch Training Loss = 0.6015\n",
      "2024-08-02 16:08:12,184 - stopping_criterion - recpack - INFO - StoppingCriterion has value 0.6035068360768575, which is worse than previous iterations.\n",
      "2024-08-02 16:08:12,186 - base - recpack - INFO - Evaluation at end of 4 took 198.97 s.\n"
     ]
    },
    {
     "name": "stderr",
     "output_type": "stream",
     "text": [
      "/opt/conda/lib/python3.11/site-packages/recpack/algorithms/base.py:509: FutureWarning: You are using `torch.load` with `weights_only=False` (the current default value), which uses the default pickle module implicitly. It is possible to construct malicious pickle data which will execute arbitrary code during unpickling (See https://github.com/pytorch/pytorch/blob/main/SECURITY.md#untrusted-models for more details). In a future release, the default value for `weights_only` will be flipped to `True`. This limits the functions that could be executed during unpickling. Arbitrary objects will no longer be allowed to be loaded via this mode unless they are explicitly allowlisted by the user via `torch.serialization.add_safe_globals`. We recommend you start setting `weights_only=True` for any use case where you don't have full control of the loaded file. Please open an issue on GitHub for any issues related to this experimental feature.\n",
      "  self.model_ = torch.load(self.best_model)\n"
     ]
    },
    {
     "name": "stdout",
     "output_type": "stream",
     "text": [
      "2024-08-02 16:08:12,865 - base - recpack - INFO - Fitting PinSAGEAlgorithm complete - Took 3.03e+03s\n"
     ]
    },
    {
     "name": "stderr",
     "output_type": "stream",
     "text": [
      "/tmp/ipykernel_579/2405251189.py:85: UserWarning: To copy construct from a tensor, it is recommended to use sourceTensor.clone().detach() or sourceTensor.clone().detach().requires_grad_(True), rather than torch.tensor(sourceTensor).\n",
      "  user_indices = torch.tensor(user_indices).to(self.device)\n",
      "/tmp/ipykernel_579/2405251189.py:86: UserWarning: To copy construct from a tensor, it is recommended to use sourceTensor.clone().detach() or sourceTensor.clone().detach().requires_grad_(True), rather than torch.tensor(sourceTensor).\n",
      "  pos_item_indices = torch.tensor(pos_item_indices).to(self.device)\n",
      "/tmp/ipykernel_579/2405251189.py:87: UserWarning: To copy construct from a tensor, it is recommended to use sourceTensor.clone().detach() or sourceTensor.clone().detach().requires_grad_(True), rather than torch.tensor(sourceTensor).\n",
      "  neg_item_indices = torch.tensor(neg_item_indices).to(self.device).squeeze()\n"
     ]
    },
    {
     "name": "stdout",
     "output_type": "stream",
     "text": [
      "2024-08-02 16:18:24,158 - base - recpack - INFO - Processed epoch 0 in 407.03 s.Batch Training Loss = 0.6020\n",
      "2024-08-02 16:21:42,312 - stopping_criterion - recpack - INFO - StoppingCriterion has value 0.6035723526956015, which is better than previous iterations.\n",
      "2024-08-02 16:21:42,313 - base - recpack - INFO - Model improved. Storing better model.\n",
      "2024-08-02 16:21:43,508 - base - recpack - INFO - Evaluation at end of 0 took 199.35 s.\n",
      "2024-08-02 16:28:30,732 - base - recpack - INFO - Processed epoch 1 in 407.22 s.Batch Training Loss = 0.6014\n",
      "2024-08-02 16:31:51,196 - stopping_criterion - recpack - INFO - StoppingCriterion has value 0.603582116623991, which is worse than previous iterations.\n",
      "2024-08-02 16:31:51,198 - base - recpack - INFO - Evaluation at end of 1 took 200.46 s.\n",
      "2024-08-02 16:38:38,416 - base - recpack - INFO - Processed epoch 2 in 407.22 s.Batch Training Loss = 0.6016\n",
      "2024-08-02 16:41:55,774 - stopping_criterion - recpack - INFO - StoppingCriterion has value 0.6029207271850666, which is worse than previous iterations.\n",
      "2024-08-02 16:41:55,776 - base - recpack - INFO - Evaluation at end of 2 took 197.36 s.\n",
      "2024-08-02 16:48:43,360 - base - recpack - INFO - Processed epoch 3 in 407.58 s.Batch Training Loss = 0.6017\n",
      "2024-08-02 16:52:01,155 - stopping_criterion - recpack - INFO - StoppingCriterion has value 0.6038114566796821, which is worse than previous iterations.\n",
      "2024-08-02 16:52:01,157 - base - recpack - INFO - Evaluation at end of 3 took 197.79 s.\n",
      "2024-08-02 16:58:48,576 - base - recpack - INFO - Processed epoch 4 in 407.42 s.Batch Training Loss = 0.6015\n",
      "2024-08-02 17:02:05,848 - stopping_criterion - recpack - INFO - StoppingCriterion has value 0.6033696897856539, which is worse than previous iterations.\n",
      "2024-08-02 17:02:05,850 - base - recpack - INFO - Evaluation at end of 4 took 197.27 s.\n"
     ]
    },
    {
     "name": "stderr",
     "output_type": "stream",
     "text": [
      "/opt/conda/lib/python3.11/site-packages/recpack/algorithms/base.py:509: FutureWarning: You are using `torch.load` with `weights_only=False` (the current default value), which uses the default pickle module implicitly. It is possible to construct malicious pickle data which will execute arbitrary code during unpickling (See https://github.com/pytorch/pytorch/blob/main/SECURITY.md#untrusted-models for more details). In a future release, the default value for `weights_only` will be flipped to `True`. This limits the functions that could be executed during unpickling. Arbitrary objects will no longer be allowed to be loaded via this mode unless they are explicitly allowlisted by the user via `torch.serialization.add_safe_globals`. We recommend you start setting `weights_only=True` for any use case where you don't have full control of the loaded file. Please open an issue on GitHub for any issues related to this experimental feature.\n",
      "  self.model_ = torch.load(self.best_model)\n"
     ]
    },
    {
     "name": "stdout",
     "output_type": "stream",
     "text": [
      "2024-08-02 17:02:06,536 - base - recpack - INFO - Fitting PinSAGEAlgorithm complete - Took 3.03e+03s\n"
     ]
    },
    {
     "name": "stderr",
     "output_type": "stream",
     "text": [
      "/tmp/ipykernel_579/2405251189.py:85: UserWarning: To copy construct from a tensor, it is recommended to use sourceTensor.clone().detach() or sourceTensor.clone().detach().requires_grad_(True), rather than torch.tensor(sourceTensor).\n",
      "  user_indices = torch.tensor(user_indices).to(self.device)\n",
      "/tmp/ipykernel_579/2405251189.py:86: UserWarning: To copy construct from a tensor, it is recommended to use sourceTensor.clone().detach() or sourceTensor.clone().detach().requires_grad_(True), rather than torch.tensor(sourceTensor).\n",
      "  pos_item_indices = torch.tensor(pos_item_indices).to(self.device)\n",
      "/tmp/ipykernel_579/2405251189.py:87: UserWarning: To copy construct from a tensor, it is recommended to use sourceTensor.clone().detach() or sourceTensor.clone().detach().requires_grad_(True), rather than torch.tensor(sourceTensor).\n",
      "  neg_item_indices = torch.tensor(neg_item_indices).to(self.device).squeeze()\n"
     ]
    },
    {
     "name": "stdout",
     "output_type": "stream",
     "text": [
      "2024-08-02 17:12:19,317 - base - recpack - INFO - Processed epoch 0 in 407.45 s.Batch Training Loss = 0.6026\n",
      "2024-08-02 17:15:36,123 - stopping_criterion - recpack - INFO - StoppingCriterion has value 0.603296939695735, which is better than previous iterations.\n",
      "2024-08-02 17:15:36,124 - base - recpack - INFO - Model improved. Storing better model.\n",
      "2024-08-02 17:15:37,293 - base - recpack - INFO - Evaluation at end of 0 took 197.97 s.\n",
      "2024-08-02 17:22:24,734 - base - recpack - INFO - Processed epoch 1 in 407.44 s.Batch Training Loss = 0.6016\n",
      "2024-08-02 17:25:42,381 - stopping_criterion - recpack - INFO - StoppingCriterion has value 0.6029373651026743, which is worse than previous iterations.\n",
      "2024-08-02 17:25:42,383 - base - recpack - INFO - Evaluation at end of 1 took 197.65 s.\n",
      "2024-08-02 17:32:29,492 - base - recpack - INFO - Processed epoch 2 in 407.11 s.Batch Training Loss = 0.6019\n",
      "2024-08-02 17:35:47,827 - stopping_criterion - recpack - INFO - StoppingCriterion has value 0.6043862996452862, which is worse than previous iterations.\n",
      "2024-08-02 17:35:47,829 - base - recpack - INFO - Evaluation at end of 2 took 198.34 s.\n",
      "2024-08-02 17:42:35,173 - base - recpack - INFO - Processed epoch 3 in 407.34 s.Batch Training Loss = 0.6016\n",
      "2024-08-02 17:46:03,811 - stopping_criterion - recpack - INFO - StoppingCriterion has value 0.6036389032047598, which is worse than previous iterations.\n",
      "2024-08-02 17:46:03,822 - base - recpack - INFO - Evaluation at end of 3 took 208.64 s.\n",
      "2024-08-02 17:52:50,943 - base - recpack - INFO - Processed epoch 4 in 407.12 s.Batch Training Loss = 0.6015\n",
      "2024-08-02 17:56:10,204 - stopping_criterion - recpack - INFO - StoppingCriterion has value 0.603185645949543, which is worse than previous iterations.\n",
      "2024-08-02 17:56:10,206 - base - recpack - INFO - Evaluation at end of 4 took 199.26 s.\n"
     ]
    },
    {
     "name": "stderr",
     "output_type": "stream",
     "text": [
      "/opt/conda/lib/python3.11/site-packages/recpack/algorithms/base.py:509: FutureWarning: You are using `torch.load` with `weights_only=False` (the current default value), which uses the default pickle module implicitly. It is possible to construct malicious pickle data which will execute arbitrary code during unpickling (See https://github.com/pytorch/pytorch/blob/main/SECURITY.md#untrusted-models for more details). In a future release, the default value for `weights_only` will be flipped to `True`. This limits the functions that could be executed during unpickling. Arbitrary objects will no longer be allowed to be loaded via this mode unless they are explicitly allowlisted by the user via `torch.serialization.add_safe_globals`. We recommend you start setting `weights_only=True` for any use case where you don't have full control of the loaded file. Please open an issue on GitHub for any issues related to this experimental feature.\n",
      "  self.model_ = torch.load(self.best_model)\n"
     ]
    },
    {
     "name": "stdout",
     "output_type": "stream",
     "text": [
      "2024-08-02 17:56:10,889 - base - recpack - INFO - Fitting PinSAGEAlgorithm complete - Took 3.04e+03s\n"
     ]
    },
    {
     "name": "stderr",
     "output_type": "stream",
     "text": [
      "/tmp/ipykernel_579/2405251189.py:85: UserWarning: To copy construct from a tensor, it is recommended to use sourceTensor.clone().detach() or sourceTensor.clone().detach().requires_grad_(True), rather than torch.tensor(sourceTensor).\n",
      "  user_indices = torch.tensor(user_indices).to(self.device)\n",
      "/tmp/ipykernel_579/2405251189.py:86: UserWarning: To copy construct from a tensor, it is recommended to use sourceTensor.clone().detach() or sourceTensor.clone().detach().requires_grad_(True), rather than torch.tensor(sourceTensor).\n",
      "  pos_item_indices = torch.tensor(pos_item_indices).to(self.device)\n",
      "/tmp/ipykernel_579/2405251189.py:87: UserWarning: To copy construct from a tensor, it is recommended to use sourceTensor.clone().detach() or sourceTensor.clone().detach().requires_grad_(True), rather than torch.tensor(sourceTensor).\n",
      "  neg_item_indices = torch.tensor(neg_item_indices).to(self.device).squeeze()\n"
     ]
    },
    {
     "name": "stdout",
     "output_type": "stream",
     "text": [
      "2024-08-02 18:14:10,648 - base - recpack - INFO - Processed epoch 0 in 869.52 s.Batch Training Loss = 0.6019\n",
      "2024-08-02 18:17:31,861 - stopping_criterion - recpack - INFO - StoppingCriterion has value 0.6038143398307573, which is better than previous iterations.\n",
      "2024-08-02 18:17:31,862 - base - recpack - INFO - Model improved. Storing better model.\n",
      "2024-08-02 18:17:34,216 - base - recpack - INFO - Evaluation at end of 0 took 203.57 s.\n",
      "2024-08-02 18:32:03,698 - base - recpack - INFO - Processed epoch 1 in 869.48 s.Batch Training Loss = 0.6015\n",
      "2024-08-02 18:35:26,838 - stopping_criterion - recpack - INFO - StoppingCriterion has value 0.6038868522573765, which is worse than previous iterations.\n",
      "2024-08-02 18:35:26,840 - base - recpack - INFO - Evaluation at end of 1 took 203.14 s.\n",
      "2024-08-02 18:49:55,797 - base - recpack - INFO - Processed epoch 2 in 868.95 s.Batch Training Loss = 0.6013\n",
      "2024-08-02 18:53:16,555 - stopping_criterion - recpack - INFO - StoppingCriterion has value 0.6031739611511375, which is worse than previous iterations.\n",
      "2024-08-02 18:53:16,558 - base - recpack - INFO - Evaluation at end of 2 took 200.76 s.\n",
      "2024-08-02 19:07:46,227 - base - recpack - INFO - Processed epoch 3 in 869.67 s.Batch Training Loss = 0.6014\n",
      "2024-08-02 19:11:07,141 - stopping_criterion - recpack - INFO - StoppingCriterion has value 0.6026818326962625, which is worse than previous iterations.\n",
      "2024-08-02 19:11:07,143 - base - recpack - INFO - Evaluation at end of 3 took 200.91 s.\n",
      "2024-08-02 19:25:36,618 - base - recpack - INFO - Processed epoch 4 in 869.47 s.Batch Training Loss = 0.6016\n",
      "2024-08-02 19:28:58,619 - stopping_criterion - recpack - INFO - StoppingCriterion has value 0.6033204947783107, which is worse than previous iterations.\n",
      "2024-08-02 19:28:58,621 - base - recpack - INFO - Evaluation at end of 4 took 202.00 s.\n"
     ]
    },
    {
     "name": "stderr",
     "output_type": "stream",
     "text": [
      "/opt/conda/lib/python3.11/site-packages/recpack/algorithms/base.py:509: FutureWarning: You are using `torch.load` with `weights_only=False` (the current default value), which uses the default pickle module implicitly. It is possible to construct malicious pickle data which will execute arbitrary code during unpickling (See https://github.com/pytorch/pytorch/blob/main/SECURITY.md#untrusted-models for more details). In a future release, the default value for `weights_only` will be flipped to `True`. This limits the functions that could be executed during unpickling. Arbitrary objects will no longer be allowed to be loaded via this mode unless they are explicitly allowlisted by the user via `torch.serialization.add_safe_globals`. We recommend you start setting `weights_only=True` for any use case where you don't have full control of the loaded file. Please open an issue on GitHub for any issues related to this experimental feature.\n",
      "  self.model_ = torch.load(self.best_model)\n"
     ]
    },
    {
     "name": "stdout",
     "output_type": "stream",
     "text": [
      "2024-08-02 19:28:59,929 - base - recpack - INFO - Fitting PinSAGEAlgorithm complete - Took 5.36e+03s\n"
     ]
    },
    {
     "name": "stderr",
     "output_type": "stream",
     "text": [
      "/tmp/ipykernel_579/2405251189.py:85: UserWarning: To copy construct from a tensor, it is recommended to use sourceTensor.clone().detach() or sourceTensor.clone().detach().requires_grad_(True), rather than torch.tensor(sourceTensor).\n",
      "  user_indices = torch.tensor(user_indices).to(self.device)\n",
      "/tmp/ipykernel_579/2405251189.py:86: UserWarning: To copy construct from a tensor, it is recommended to use sourceTensor.clone().detach() or sourceTensor.clone().detach().requires_grad_(True), rather than torch.tensor(sourceTensor).\n",
      "  pos_item_indices = torch.tensor(pos_item_indices).to(self.device)\n",
      "/tmp/ipykernel_579/2405251189.py:87: UserWarning: To copy construct from a tensor, it is recommended to use sourceTensor.clone().detach() or sourceTensor.clone().detach().requires_grad_(True), rather than torch.tensor(sourceTensor).\n",
      "  neg_item_indices = torch.tensor(neg_item_indices).to(self.device).squeeze()\n"
     ]
    },
    {
     "name": "stdout",
     "output_type": "stream",
     "text": [
      "2024-08-02 19:46:59,300 - base - recpack - INFO - Processed epoch 0 in 869.33 s.Batch Training Loss = 0.6022\n",
      "2024-08-02 19:50:19,176 - stopping_criterion - recpack - INFO - StoppingCriterion has value 0.6041090124886958, which is better than previous iterations.\n",
      "2024-08-02 19:50:19,177 - base - recpack - INFO - Model improved. Storing better model.\n",
      "2024-08-02 19:50:21,438 - base - recpack - INFO - Evaluation at end of 0 took 202.13 s.\n",
      "2024-08-02 20:04:50,818 - base - recpack - INFO - Processed epoch 1 in 869.38 s.Batch Training Loss = 0.6017\n",
      "2024-08-02 20:08:10,170 - stopping_criterion - recpack - INFO - StoppingCriterion has value 0.6036722444056799, which is worse than previous iterations.\n",
      "2024-08-02 20:08:10,172 - base - recpack - INFO - Evaluation at end of 1 took 199.35 s.\n",
      "2024-08-02 20:22:39,854 - base - recpack - INFO - Processed epoch 2 in 869.68 s.Batch Training Loss = 0.6014\n",
      "2024-08-02 20:26:02,217 - stopping_criterion - recpack - INFO - StoppingCriterion has value 0.6039716763006685, which is worse than previous iterations.\n",
      "2024-08-02 20:26:02,219 - base - recpack - INFO - Evaluation at end of 2 took 202.36 s.\n",
      "2024-08-02 20:40:31,836 - base - recpack - INFO - Processed epoch 3 in 869.62 s.Batch Training Loss = 0.6015\n",
      "2024-08-02 20:43:51,537 - stopping_criterion - recpack - INFO - StoppingCriterion has value 0.6039431663609878, which is worse than previous iterations.\n",
      "2024-08-02 20:43:51,538 - base - recpack - INFO - Evaluation at end of 3 took 199.70 s.\n",
      "2024-08-02 20:58:21,026 - base - recpack - INFO - Processed epoch 4 in 869.49 s.Batch Training Loss = 0.6013\n",
      "2024-08-02 21:01:41,828 - stopping_criterion - recpack - INFO - StoppingCriterion has value 0.6031671050925114, which is worse than previous iterations.\n",
      "2024-08-02 21:01:41,829 - base - recpack - INFO - Evaluation at end of 4 took 200.80 s.\n"
     ]
    },
    {
     "name": "stderr",
     "output_type": "stream",
     "text": [
      "/opt/conda/lib/python3.11/site-packages/recpack/algorithms/base.py:509: FutureWarning: You are using `torch.load` with `weights_only=False` (the current default value), which uses the default pickle module implicitly. It is possible to construct malicious pickle data which will execute arbitrary code during unpickling (See https://github.com/pytorch/pytorch/blob/main/SECURITY.md#untrusted-models for more details). In a future release, the default value for `weights_only` will be flipped to `True`. This limits the functions that could be executed during unpickling. Arbitrary objects will no longer be allowed to be loaded via this mode unless they are explicitly allowlisted by the user via `torch.serialization.add_safe_globals`. We recommend you start setting `weights_only=True` for any use case where you don't have full control of the loaded file. Please open an issue on GitHub for any issues related to this experimental feature.\n",
      "  self.model_ = torch.load(self.best_model)\n"
     ]
    },
    {
     "name": "stdout",
     "output_type": "stream",
     "text": [
      "2024-08-02 21:01:43,119 - base - recpack - INFO - Fitting PinSAGEAlgorithm complete - Took 5.36e+03s\n"
     ]
    },
    {
     "name": "stderr",
     "output_type": "stream",
     "text": [
      "/tmp/ipykernel_579/2405251189.py:85: UserWarning: To copy construct from a tensor, it is recommended to use sourceTensor.clone().detach() or sourceTensor.clone().detach().requires_grad_(True), rather than torch.tensor(sourceTensor).\n",
      "  user_indices = torch.tensor(user_indices).to(self.device)\n",
      "/tmp/ipykernel_579/2405251189.py:86: UserWarning: To copy construct from a tensor, it is recommended to use sourceTensor.clone().detach() or sourceTensor.clone().detach().requires_grad_(True), rather than torch.tensor(sourceTensor).\n",
      "  pos_item_indices = torch.tensor(pos_item_indices).to(self.device)\n",
      "/tmp/ipykernel_579/2405251189.py:87: UserWarning: To copy construct from a tensor, it is recommended to use sourceTensor.clone().detach() or sourceTensor.clone().detach().requires_grad_(True), rather than torch.tensor(sourceTensor).\n",
      "  neg_item_indices = torch.tensor(neg_item_indices).to(self.device).squeeze()\n"
     ]
    },
    {
     "name": "stdout",
     "output_type": "stream",
     "text": [
      "2024-08-02 21:19:41,987 - base - recpack - INFO - Processed epoch 0 in 868.33 s.Batch Training Loss = 0.6022\n",
      "2024-08-02 21:23:03,869 - stopping_criterion - recpack - INFO - StoppingCriterion has value 0.6032488127412081, which is better than previous iterations.\n",
      "2024-08-02 21:23:03,870 - base - recpack - INFO - Model improved. Storing better model.\n",
      "2024-08-02 21:23:06,184 - base - recpack - INFO - Evaluation at end of 0 took 204.19 s.\n",
      "2024-08-02 21:37:34,963 - base - recpack - INFO - Processed epoch 1 in 868.78 s.Batch Training Loss = 0.6016\n",
      "2024-08-02 21:40:55,785 - stopping_criterion - recpack - INFO - StoppingCriterion has value 0.6027551506246213, which is worse than previous iterations.\n",
      "2024-08-02 21:40:55,787 - base - recpack - INFO - Evaluation at end of 1 took 200.82 s.\n",
      "2024-08-02 21:55:24,604 - base - recpack - INFO - Processed epoch 2 in 868.82 s.Batch Training Loss = 0.6012\n",
      "2024-08-02 21:58:46,724 - stopping_criterion - recpack - INFO - StoppingCriterion has value 0.603217323369125, which is worse than previous iterations.\n",
      "2024-08-02 21:58:46,727 - base - recpack - INFO - Evaluation at end of 2 took 202.12 s.\n",
      "2024-08-02 22:13:15,526 - base - recpack - INFO - Processed epoch 3 in 868.80 s.Batch Training Loss = 0.6015\n",
      "2024-08-02 22:16:35,781 - stopping_criterion - recpack - INFO - StoppingCriterion has value 0.6048204902855082, which is worse than previous iterations.\n",
      "2024-08-02 22:16:35,783 - base - recpack - INFO - Evaluation at end of 3 took 200.26 s.\n",
      "2024-08-02 22:31:04,225 - base - recpack - INFO - Processed epoch 4 in 868.44 s.Batch Training Loss = 0.6016\n",
      "2024-08-02 22:34:24,899 - stopping_criterion - recpack - INFO - StoppingCriterion has value 0.6039378495466569, which is worse than previous iterations.\n",
      "2024-08-02 22:34:24,901 - base - recpack - INFO - Evaluation at end of 4 took 200.67 s.\n"
     ]
    },
    {
     "name": "stderr",
     "output_type": "stream",
     "text": [
      "/opt/conda/lib/python3.11/site-packages/recpack/algorithms/base.py:509: FutureWarning: You are using `torch.load` with `weights_only=False` (the current default value), which uses the default pickle module implicitly. It is possible to construct malicious pickle data which will execute arbitrary code during unpickling (See https://github.com/pytorch/pytorch/blob/main/SECURITY.md#untrusted-models for more details). In a future release, the default value for `weights_only` will be flipped to `True`. This limits the functions that could be executed during unpickling. Arbitrary objects will no longer be allowed to be loaded via this mode unless they are explicitly allowlisted by the user via `torch.serialization.add_safe_globals`. We recommend you start setting `weights_only=True` for any use case where you don't have full control of the loaded file. Please open an issue on GitHub for any issues related to this experimental feature.\n",
      "  self.model_ = torch.load(self.best_model)\n"
     ]
    },
    {
     "name": "stdout",
     "output_type": "stream",
     "text": [
      "2024-08-02 22:34:26,194 - base - recpack - INFO - Fitting PinSAGEAlgorithm complete - Took 5.36e+03s\n"
     ]
    },
    {
     "name": "stderr",
     "output_type": "stream",
     "text": [
      "/tmp/ipykernel_579/2405251189.py:85: UserWarning: To copy construct from a tensor, it is recommended to use sourceTensor.clone().detach() or sourceTensor.clone().detach().requires_grad_(True), rather than torch.tensor(sourceTensor).\n",
      "  user_indices = torch.tensor(user_indices).to(self.device)\n",
      "/tmp/ipykernel_579/2405251189.py:86: UserWarning: To copy construct from a tensor, it is recommended to use sourceTensor.clone().detach() or sourceTensor.clone().detach().requires_grad_(True), rather than torch.tensor(sourceTensor).\n",
      "  pos_item_indices = torch.tensor(pos_item_indices).to(self.device)\n",
      "/tmp/ipykernel_579/2405251189.py:87: UserWarning: To copy construct from a tensor, it is recommended to use sourceTensor.clone().detach() or sourceTensor.clone().detach().requires_grad_(True), rather than torch.tensor(sourceTensor).\n",
      "  neg_item_indices = torch.tensor(neg_item_indices).to(self.device).squeeze()\n"
     ]
    },
    {
     "name": "stdout",
     "output_type": "stream",
     "text": [
      "2024-08-02 22:41:46,183 - base - recpack - INFO - Processed epoch 0 in 231.36 s.Batch Training Loss = 0.6022\n",
      "2024-08-02 22:45:00,169 - stopping_criterion - recpack - INFO - StoppingCriterion has value 0.6047710575296412, which is better than previous iterations.\n",
      "2024-08-02 22:45:00,171 - base - recpack - INFO - Model improved. Storing better model.\n",
      "2024-08-02 22:45:00,762 - base - recpack - INFO - Evaluation at end of 0 took 194.58 s.\n",
      "2024-08-02 22:48:52,793 - base - recpack - INFO - Processed epoch 1 in 232.03 s.Batch Training Loss = 0.6018\n",
      "2024-08-02 22:52:08,619 - stopping_criterion - recpack - INFO - StoppingCriterion has value 0.6036408338198848, which is worse than previous iterations.\n",
      "2024-08-02 22:52:08,621 - base - recpack - INFO - Evaluation at end of 1 took 195.82 s.\n",
      "2024-08-02 22:56:00,531 - base - recpack - INFO - Processed epoch 2 in 231.91 s.Batch Training Loss = 0.6018\n",
      "2024-08-02 22:59:14,927 - stopping_criterion - recpack - INFO - StoppingCriterion has value 0.6026977230830334, which is worse than previous iterations.\n",
      "2024-08-02 22:59:14,929 - base - recpack - INFO - Evaluation at end of 2 took 194.40 s.\n",
      "2024-08-02 23:03:07,110 - base - recpack - INFO - Processed epoch 3 in 232.18 s.Batch Training Loss = 0.6013\n",
      "2024-08-02 23:06:21,704 - stopping_criterion - recpack - INFO - StoppingCriterion has value 0.6040432381583394, which is worse than previous iterations.\n",
      "2024-08-02 23:06:21,706 - base - recpack - INFO - Evaluation at end of 3 took 194.59 s.\n",
      "2024-08-02 23:10:13,581 - base - recpack - INFO - Processed epoch 4 in 231.87 s.Batch Training Loss = 0.6014\n",
      "2024-08-02 23:13:29,588 - stopping_criterion - recpack - INFO - StoppingCriterion has value 0.6030280061485411, which is worse than previous iterations.\n",
      "2024-08-02 23:13:29,591 - base - recpack - INFO - Evaluation at end of 4 took 196.01 s.\n"
     ]
    },
    {
     "name": "stderr",
     "output_type": "stream",
     "text": [
      "/opt/conda/lib/python3.11/site-packages/recpack/algorithms/base.py:509: FutureWarning: You are using `torch.load` with `weights_only=False` (the current default value), which uses the default pickle module implicitly. It is possible to construct malicious pickle data which will execute arbitrary code during unpickling (See https://github.com/pytorch/pytorch/blob/main/SECURITY.md#untrusted-models for more details). In a future release, the default value for `weights_only` will be flipped to `True`. This limits the functions that could be executed during unpickling. Arbitrary objects will no longer be allowed to be loaded via this mode unless they are explicitly allowlisted by the user via `torch.serialization.add_safe_globals`. We recommend you start setting `weights_only=True` for any use case where you don't have full control of the loaded file. Please open an issue on GitHub for any issues related to this experimental feature.\n",
      "  self.model_ = torch.load(self.best_model)\n"
     ]
    },
    {
     "name": "stdout",
     "output_type": "stream",
     "text": [
      "2024-08-02 23:13:29,934 - base - recpack - INFO - Fitting PinSAGEAlgorithm complete - Took 2.14e+03s\n"
     ]
    }
   ],
   "source": [
    "pipeline_builder = PipelineBuilder()\n",
    "ok = (scenario._validation_data_in, scenario._validation_data_out)\n",
    "pipeline_builder.set_data_from_scenario(scenario)\n",
    "\n",
    "\n",
    "# Add the baseline algorithms\n",
    "#pipeline_builder.add_algorithm('ItemKNN', grid={'K': [100, 200, 400, 800]})\n",
    "#pipeline_builder.add_algorithm('EASE', grid={'l2': [10, 100, 1000], 'alpha': [0, 0.1, 0.5]})\n",
    "\n",
    "# Add our LightGCN algorithm\n",
    "pipeline_builder.add_algorithm(\n",
    "    'PinSAGEAlgorithm16',\n",
    "    grid={\n",
    "        'learning_rate': [0.1, 0.01, 0.001],\n",
    "        'embedding_dim': [100, 200, 400]\n",
    "    },\n",
    "    params={\n",
    "        'max_epochs': 5,\n",
    "        'batch_size': 1024,\n",
    "        'n_layers': 3\n",
    "    }\n",
    ")\n",
    "\n",
    "# Add NDCG, Recall, and HR metrics to be evaluated at 10, 20, and 50\n",
    "pipeline_builder.add_metric('NDCGK', [10, 20, 50])\n",
    "pipeline_builder.add_metric('RecallK', [10, 20, 50])\n",
    "pipeline_builder.add_metric('HitK', [10, 20, 50])\n",
    "\n",
    "# Set the optimisation metric\n",
    "pipeline_builder.set_optimisation_metric('RecallK', 20)\n",
    "\n",
    "# Construct pipeline\n",
    "pipeline = pipeline_builder.build()\n",
    "\n",
    "# Debugging: Output the shape of the training data\n",
    "#print(f\"Training data shape: {im.shape}\")\n",
    "\n",
    "# Run pipeline, will first do optimisation, and then evaluation\n",
    "pipeline.run()"
   ]
  },
  {
   "cell_type": "markdown",
   "id": "c00fca4d-5366-4018-9e31-a94ede76fc3c",
   "metadata": {},
   "source": [
    "## Results"
   ]
  },
  {
   "cell_type": "code",
   "execution_count": 130,
   "id": "e80f2784-1ed9-4d93-9883-4c34213d62ed",
   "metadata": {},
   "outputs": [
    {
     "data": {
      "text/html": [
       "<div>\n",
       "<style scoped>\n",
       "    .dataframe tbody tr th:only-of-type {\n",
       "        vertical-align: middle;\n",
       "    }\n",
       "\n",
       "    .dataframe tbody tr th {\n",
       "        vertical-align: top;\n",
       "    }\n",
       "\n",
       "    .dataframe thead th {\n",
       "        text-align: right;\n",
       "    }\n",
       "</style>\n",
       "<table border=\"1\" class=\"dataframe\">\n",
       "  <thead>\n",
       "    <tr style=\"text-align: right;\">\n",
       "      <th></th>\n",
       "      <th>NDCGK_10</th>\n",
       "      <th>NDCGK_20</th>\n",
       "      <th>NDCGK_50</th>\n",
       "      <th>RecallK_10</th>\n",
       "      <th>RecallK_20</th>\n",
       "      <th>RecallK_50</th>\n",
       "      <th>HitK_10</th>\n",
       "      <th>HitK_20</th>\n",
       "      <th>HitK_50</th>\n",
       "    </tr>\n",
       "  </thead>\n",
       "  <tbody>\n",
       "    <tr>\n",
       "      <th>PinSAGEAlgorithm(batch_size=1024,dropout=0.1,embedding_dim=100,grad_clip=1.0,keep_last=False,learning_rate=0.1,max_epochs=5,max_iter_no_change=5,min_improvement=0.01,n_layers=3,predict_topK=None,save_best_to_file=False,seed=2149616359,stop_early=True,stopping_criterion=&lt;recpack.algorithms.stopping_criterion.StoppingCriterion object at 0x7f8ee460e450&gt;,validation_sample_size=None)</th>\n",
       "      <td>0.038847</td>\n",
       "      <td>0.048153</td>\n",
       "      <td>0.064221</td>\n",
       "      <td>0.057134</td>\n",
       "      <td>0.087331</td>\n",
       "      <td>0.150476</td>\n",
       "      <td>0.17533</td>\n",
       "      <td>0.276309</td>\n",
       "      <td>0.463195</td>\n",
       "    </tr>\n",
       "  </tbody>\n",
       "</table>\n",
       "</div>"
      ],
      "text/plain": [
       "                                                    NDCGK_10  NDCGK_20  \\\n",
       "PinSAGEAlgorithm(batch_size=1024,dropout=0.1,em...  0.038847  0.048153   \n",
       "\n",
       "                                                    NDCGK_50  RecallK_10  \\\n",
       "PinSAGEAlgorithm(batch_size=1024,dropout=0.1,em...  0.064221    0.057134   \n",
       "\n",
       "                                                    RecallK_20  RecallK_50  \\\n",
       "PinSAGEAlgorithm(batch_size=1024,dropout=0.1,em...    0.087331    0.150476   \n",
       "\n",
       "                                                    HitK_10   HitK_20  \\\n",
       "PinSAGEAlgorithm(batch_size=1024,dropout=0.1,em...  0.17533  0.276309   \n",
       "\n",
       "                                                     HitK_50  \n",
       "PinSAGEAlgorithm(batch_size=1024,dropout=0.1,em...  0.463195  "
      ]
     },
     "execution_count": 130,
     "metadata": {},
     "output_type": "execute_result"
    }
   ],
   "source": [
    "pipeline.get_metrics()"
   ]
  },
  {
   "cell_type": "code",
   "execution_count": 131,
   "id": "08d40d0c-5850-4c4d-9b7e-8a85b9c0f680",
   "metadata": {},
   "outputs": [
    {
     "data": {
      "text/html": [
       "<div>\n",
       "<style scoped>\n",
       "    .dataframe tbody tr th:only-of-type {\n",
       "        vertical-align: middle;\n",
       "    }\n",
       "\n",
       "    .dataframe tbody tr th {\n",
       "        vertical-align: top;\n",
       "    }\n",
       "\n",
       "    .dataframe thead th {\n",
       "        text-align: right;\n",
       "    }\n",
       "</style>\n",
       "<table border=\"1\" class=\"dataframe\">\n",
       "  <thead>\n",
       "    <tr style=\"text-align: right;\">\n",
       "      <th></th>\n",
       "      <th>PinSAGEAlgorithm(batch_size=1024,dropout=0.1,embedding_dim=100,grad_clip=1.0,keep_last=False,learning_rate=0.1,max_epochs=5,max_iter_no_change=5,min_improvement=0.01,n_layers=3,predict_topK=None,save_best_to_file=False,seed=2149616359,stop_early=True,stopping_criterion=&lt;recpack.algorithms.stopping_criterion.StoppingCriterion object at 0x7f8ee460e450&gt;,validation_sample_size=None)</th>\n",
       "    </tr>\n",
       "  </thead>\n",
       "  <tbody>\n",
       "    <tr>\n",
       "      <th>NDCGK_10</th>\n",
       "      <td>0.038847</td>\n",
       "    </tr>\n",
       "    <tr>\n",
       "      <th>NDCGK_20</th>\n",
       "      <td>0.048153</td>\n",
       "    </tr>\n",
       "    <tr>\n",
       "      <th>NDCGK_50</th>\n",
       "      <td>0.064221</td>\n",
       "    </tr>\n",
       "    <tr>\n",
       "      <th>RecallK_10</th>\n",
       "      <td>0.057134</td>\n",
       "    </tr>\n",
       "    <tr>\n",
       "      <th>RecallK_20</th>\n",
       "      <td>0.087331</td>\n",
       "    </tr>\n",
       "    <tr>\n",
       "      <th>RecallK_50</th>\n",
       "      <td>0.150476</td>\n",
       "    </tr>\n",
       "    <tr>\n",
       "      <th>HitK_10</th>\n",
       "      <td>0.175330</td>\n",
       "    </tr>\n",
       "    <tr>\n",
       "      <th>HitK_20</th>\n",
       "      <td>0.276309</td>\n",
       "    </tr>\n",
       "    <tr>\n",
       "      <th>HitK_50</th>\n",
       "      <td>0.463195</td>\n",
       "    </tr>\n",
       "  </tbody>\n",
       "</table>\n",
       "</div>"
      ],
      "text/plain": [
       "            PinSAGEAlgorithm(batch_size=1024,dropout=0.1,embedding_dim=100,grad_clip=1.0,keep_last=False,learning_rate=0.1,max_epochs=5,max_iter_no_change=5,min_improvement=0.01,n_layers=3,predict_topK=None,save_best_to_file=False,seed=2149616359,stop_early=True,stopping_criterion=<recpack.algorithms.stopping_criterion.StoppingCriterion object at 0x7f8ee460e450>,validation_sample_size=None)\n",
       "NDCGK_10                                             0.038847                                                                                                                                                                                                                                                                                                                                            \n",
       "NDCGK_20                                             0.048153                                                                                                                                                                                                                                                                                                                                            \n",
       "NDCGK_50                                             0.064221                                                                                                                                                                                                                                                                                                                                            \n",
       "RecallK_10                                           0.057134                                                                                                                                                                                                                                                                                                                                            \n",
       "RecallK_20                                           0.087331                                                                                                                                                                                                                                                                                                                                            \n",
       "RecallK_50                                           0.150476                                                                                                                                                                                                                                                                                                                                            \n",
       "HitK_10                                              0.175330                                                                                                                                                                                                                                                                                                                                            \n",
       "HitK_20                                              0.276309                                                                                                                                                                                                                                                                                                                                            \n",
       "HitK_50                                              0.463195                                                                                                                                                                                                                                                                                                                                            "
      ]
     },
     "execution_count": 131,
     "metadata": {},
     "output_type": "execute_result"
    }
   ],
   "source": [
    "pd.DataFrame.from_dict(pipeline.get_metrics()).T"
   ]
  },
  {
   "cell_type": "code",
   "execution_count": null,
   "id": "06eb89bb-82dc-4982-8025-327b4e25fddb",
   "metadata": {},
   "outputs": [],
   "source": []
  }
 ],
 "metadata": {
  "kernelspec": {
   "display_name": "Python 3 (ipykernel)",
   "language": "python",
   "name": "python3"
  },
  "language_info": {
   "codemirror_mode": {
    "name": "ipython",
    "version": 3
   },
   "file_extension": ".py",
   "mimetype": "text/x-python",
   "name": "python",
   "nbconvert_exporter": "python",
   "pygments_lexer": "ipython3",
   "version": "3.11.9"
  }
 },
 "nbformat": 4,
 "nbformat_minor": 5
}
